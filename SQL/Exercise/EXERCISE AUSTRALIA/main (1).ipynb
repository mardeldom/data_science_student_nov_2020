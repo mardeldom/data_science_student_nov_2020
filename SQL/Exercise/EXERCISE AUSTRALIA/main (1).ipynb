{
 "metadata": {
  "language_info": {
   "codemirror_mode": {
    "name": "ipython",
    "version": 3
   },
   "file_extension": ".py",
   "mimetype": "text/x-python",
   "name": "python",
   "nbconvert_exporter": "python",
   "pygments_lexer": "ipython3",
   "version": "3.9.0-final"
  },
  "orig_nbformat": 2,
  "kernelspec": {
   "name": "python3",
   "display_name": "Python 3.9.0 64-bit",
   "metadata": {
    "interpreter": {
     "hash": "2e3c1e8da6e821b0193601da5a0e541c0efda9704da45b6b820f5f4c317f2def"
    }
   }
  }
 },
 "nbformat": 4,
 "nbformat_minor": 2,
 "cells": [
  {
   "source": [
    "# Australia Fires\n",
    "\n",
    "Enlace a la documentación:\n",
    "https://pypi.org/project/PyMySQL/"
   ],
   "cell_type": "markdown",
   "metadata": {}
  },
  {
   "cell_type": "code",
   "execution_count": 14,
   "metadata": {},
   "outputs": [],
   "source": [
    "import pandas as pd \n",
    "import pymysql.cursors\n"
   ]
  },
  {
   "cell_type": "code",
   "execution_count": 20,
   "metadata": {},
   "outputs": [],
   "source": [
    "import numpy as np\n",
    "from sklearn.linear_model import LogisticRegression\n",
    "from sklearn.model_selection import train_test_split\n",
    "from sklearn import model_selection\n",
    "from sklearn.metrics import accuracy_score\n",
    "from sklearn import preprocessing\n",
    "from sklearn.neighbors import KNeighborsClassifier\n",
    "from sklearn.model_selection import GridSearchCV\n",
    "from xgboost import XGBClassifier \n",
    "from sklearn.ensemble import RandomForestClassifier\n",
    "from sklearn.svm import SVC\n",
    "from sklearn.pipeline import Pipeline"
   ]
  },
  {
   "cell_type": "code",
   "execution_count": 2,
   "metadata": {},
   "outputs": [],
   "source": [
    "connection = pymysql.connect(host=\"34.229.137.164\", \n",
    "                            port=25001,\n",
    "                             user='student',\n",
    "                             password='lebowsky',\n",
    "                             database= 'australia_fires_2',\n",
    "                             cursorclass=pymysql.cursors.DictCursor)"
   ]
  },
  {
   "cell_type": "code",
   "execution_count": 71,
   "metadata": {},
   "outputs": [],
   "source": [
    "cursor= connection.cursor()"
   ]
  },
  {
   "cell_type": "code",
   "execution_count": 4,
   "metadata": {},
   "outputs": [
    {
     "output_type": "execute_result",
     "data": {
      "text/plain": [
       "True"
      ]
     },
     "metadata": {},
     "execution_count": 4
    }
   ],
   "source": [
    "connection.open"
   ]
  },
  {
   "cell_type": "code",
   "execution_count": 6,
   "metadata": {},
   "outputs": [
    {
     "output_type": "execute_result",
     "data": {
      "text/plain": [
       "Empty DataFrame\n",
       "Columns: [TABLE_NAME]\n",
       "Index: []"
      ],
      "text/html": "<div>\n<style scoped>\n    .dataframe tbody tr th:only-of-type {\n        vertical-align: middle;\n    }\n\n    .dataframe tbody tr th {\n        vertical-align: top;\n    }\n\n    .dataframe thead th {\n        text-align: right;\n    }\n</style>\n<table border=\"1\" class=\"dataframe\">\n  <thead>\n    <tr style=\"text-align: right;\">\n      <th></th>\n      <th>TABLE_NAME</th>\n    </tr>\n  </thead>\n  <tbody>\n  </tbody>\n</table>\n</div>"
     },
     "metadata": {},
     "execution_count": 6
    }
   ],
   "source": [
    "#opcion clara\n",
    "query= \"\"\"SELECT TABLE_NAME\n",
    "FROM INFORMATION_SCHEMA.TABLES\n",
    "WHERE TABLE_TYPE = 'BASE TABLE' AND TABLE_CATALOG='dbName'\"\"\"\n",
    "pd.read_sql_query(query, connection)"
   ]
  },
  {
   "cell_type": "code",
   "execution_count": 5,
   "metadata": {},
   "outputs": [
    {
     "output_type": "execute_result",
     "data": {
      "text/plain": [
       "[{'Tables_in_australia_fires_2': 'fire_archive_M6_96619'},\n",
       " {'Tables_in_australia_fires_2': 'fire_archive_V1_96617'},\n",
       " {'Tables_in_australia_fires_2': 'fire_nrt_M6_96619'},\n",
       " {'Tables_in_australia_fires_2': 'fire_nrt_V1_96617'},\n",
       " {'Tables_in_australia_fires_2': 'student_findings'}]"
      ]
     },
     "metadata": {},
     "execution_count": 5
    }
   ],
   "source": [
    "con.execute(\"SHOW TABLES\")\n",
    "con.fetchall()"
   ]
  },
  {
   "cell_type": "code",
   "execution_count": 6,
   "metadata": {},
   "outputs": [
    {
     "output_type": "execute_result",
     "data": {
      "text/plain": [
       "       index  latitude  longitude  brightness  scan  track    acq_date  \\\n",
       "0          0   -11.807   142.0583       313.0   1.0    1.0  2019-08-01   \n",
       "1          1  -11.7924   142.0850       319.3   1.0    1.0  2019-08-01   \n",
       "2          2  -12.8398   132.8744       311.6   3.1    1.7  2019-08-01   \n",
       "3          3  -14.4306   143.3035       310.1   1.1    1.1  2019-08-01   \n",
       "4          4  -12.4953   131.4897       310.3   4.0    1.9  2019-08-01   \n",
       "...      ...       ...        ...         ...   ...    ...         ...   \n",
       "36006  36006  -28.0656   131.6334       312.7   1.2    1.1  2019-09-30   \n",
       "36007  36007  -28.2625   128.5494       304.9   1.0    1.0  2019-09-30   \n",
       "36008  36008  -28.2941   128.5123       301.7   1.0    1.0  2019-09-30   \n",
       "36009  36009  -28.3001   128.5530       303.6   1.0    1.0  2019-09-30   \n",
       "36010  36010  -30.8641   121.4995       309.1   1.8    1.3  2019-09-30   \n",
       "\n",
       "       acq_time satellite instrument  confidence  version  bright_t31   frp  \\\n",
       "0            56     Terra      MODIS          48      6.3       297.3   6.6   \n",
       "1            56     Terra      MODIS          71      6.3       297.3  11.3   \n",
       "2            57     Terra      MODIS          42      6.3       298.7  23.1   \n",
       "3            57     Terra      MODIS          33      6.3       296.1   6.5   \n",
       "4            57     Terra      MODIS          36      6.3       298.8  27.6   \n",
       "...         ...       ...        ...         ...      ...         ...   ...   \n",
       "36006      1644      Aqua      MODIS          85      6.3       292.9  14.2   \n",
       "36007      1644      Aqua      MODIS          27      6.3       290.9   6.4   \n",
       "36008      1644      Aqua      MODIS          43      6.3       290.4   5.5   \n",
       "36009      1644      Aqua      MODIS          41      6.3       290.3   5.7   \n",
       "36010      1645      Aqua      MODIS          77      6.3       290.9  23.0   \n",
       "\n",
       "      daynight  fire_type  \n",
       "0            D          0  \n",
       "1            D          0  \n",
       "2            D          0  \n",
       "3            D          0  \n",
       "4            D          0  \n",
       "...        ...        ...  \n",
       "36006        N          0  \n",
       "36007        N          0  \n",
       "36008        N          0  \n",
       "36009        N          0  \n",
       "36010        N          2  \n",
       "\n",
       "[36011 rows x 16 columns]"
      ],
      "text/html": "<div>\n<style scoped>\n    .dataframe tbody tr th:only-of-type {\n        vertical-align: middle;\n    }\n\n    .dataframe tbody tr th {\n        vertical-align: top;\n    }\n\n    .dataframe thead th {\n        text-align: right;\n    }\n</style>\n<table border=\"1\" class=\"dataframe\">\n  <thead>\n    <tr style=\"text-align: right;\">\n      <th></th>\n      <th>index</th>\n      <th>latitude</th>\n      <th>longitude</th>\n      <th>brightness</th>\n      <th>scan</th>\n      <th>track</th>\n      <th>acq_date</th>\n      <th>acq_time</th>\n      <th>satellite</th>\n      <th>instrument</th>\n      <th>confidence</th>\n      <th>version</th>\n      <th>bright_t31</th>\n      <th>frp</th>\n      <th>daynight</th>\n      <th>fire_type</th>\n    </tr>\n  </thead>\n  <tbody>\n    <tr>\n      <th>0</th>\n      <td>0</td>\n      <td>-11.807</td>\n      <td>142.0583</td>\n      <td>313.0</td>\n      <td>1.0</td>\n      <td>1.0</td>\n      <td>2019-08-01</td>\n      <td>56</td>\n      <td>Terra</td>\n      <td>MODIS</td>\n      <td>48</td>\n      <td>6.3</td>\n      <td>297.3</td>\n      <td>6.6</td>\n      <td>D</td>\n      <td>0</td>\n    </tr>\n    <tr>\n      <th>1</th>\n      <td>1</td>\n      <td>-11.7924</td>\n      <td>142.0850</td>\n      <td>319.3</td>\n      <td>1.0</td>\n      <td>1.0</td>\n      <td>2019-08-01</td>\n      <td>56</td>\n      <td>Terra</td>\n      <td>MODIS</td>\n      <td>71</td>\n      <td>6.3</td>\n      <td>297.3</td>\n      <td>11.3</td>\n      <td>D</td>\n      <td>0</td>\n    </tr>\n    <tr>\n      <th>2</th>\n      <td>2</td>\n      <td>-12.8398</td>\n      <td>132.8744</td>\n      <td>311.6</td>\n      <td>3.1</td>\n      <td>1.7</td>\n      <td>2019-08-01</td>\n      <td>57</td>\n      <td>Terra</td>\n      <td>MODIS</td>\n      <td>42</td>\n      <td>6.3</td>\n      <td>298.7</td>\n      <td>23.1</td>\n      <td>D</td>\n      <td>0</td>\n    </tr>\n    <tr>\n      <th>3</th>\n      <td>3</td>\n      <td>-14.4306</td>\n      <td>143.3035</td>\n      <td>310.1</td>\n      <td>1.1</td>\n      <td>1.1</td>\n      <td>2019-08-01</td>\n      <td>57</td>\n      <td>Terra</td>\n      <td>MODIS</td>\n      <td>33</td>\n      <td>6.3</td>\n      <td>296.1</td>\n      <td>6.5</td>\n      <td>D</td>\n      <td>0</td>\n    </tr>\n    <tr>\n      <th>4</th>\n      <td>4</td>\n      <td>-12.4953</td>\n      <td>131.4897</td>\n      <td>310.3</td>\n      <td>4.0</td>\n      <td>1.9</td>\n      <td>2019-08-01</td>\n      <td>57</td>\n      <td>Terra</td>\n      <td>MODIS</td>\n      <td>36</td>\n      <td>6.3</td>\n      <td>298.8</td>\n      <td>27.6</td>\n      <td>D</td>\n      <td>0</td>\n    </tr>\n    <tr>\n      <th>...</th>\n      <td>...</td>\n      <td>...</td>\n      <td>...</td>\n      <td>...</td>\n      <td>...</td>\n      <td>...</td>\n      <td>...</td>\n      <td>...</td>\n      <td>...</td>\n      <td>...</td>\n      <td>...</td>\n      <td>...</td>\n      <td>...</td>\n      <td>...</td>\n      <td>...</td>\n      <td>...</td>\n    </tr>\n    <tr>\n      <th>36006</th>\n      <td>36006</td>\n      <td>-28.0656</td>\n      <td>131.6334</td>\n      <td>312.7</td>\n      <td>1.2</td>\n      <td>1.1</td>\n      <td>2019-09-30</td>\n      <td>1644</td>\n      <td>Aqua</td>\n      <td>MODIS</td>\n      <td>85</td>\n      <td>6.3</td>\n      <td>292.9</td>\n      <td>14.2</td>\n      <td>N</td>\n      <td>0</td>\n    </tr>\n    <tr>\n      <th>36007</th>\n      <td>36007</td>\n      <td>-28.2625</td>\n      <td>128.5494</td>\n      <td>304.9</td>\n      <td>1.0</td>\n      <td>1.0</td>\n      <td>2019-09-30</td>\n      <td>1644</td>\n      <td>Aqua</td>\n      <td>MODIS</td>\n      <td>27</td>\n      <td>6.3</td>\n      <td>290.9</td>\n      <td>6.4</td>\n      <td>N</td>\n      <td>0</td>\n    </tr>\n    <tr>\n      <th>36008</th>\n      <td>36008</td>\n      <td>-28.2941</td>\n      <td>128.5123</td>\n      <td>301.7</td>\n      <td>1.0</td>\n      <td>1.0</td>\n      <td>2019-09-30</td>\n      <td>1644</td>\n      <td>Aqua</td>\n      <td>MODIS</td>\n      <td>43</td>\n      <td>6.3</td>\n      <td>290.4</td>\n      <td>5.5</td>\n      <td>N</td>\n      <td>0</td>\n    </tr>\n    <tr>\n      <th>36009</th>\n      <td>36009</td>\n      <td>-28.3001</td>\n      <td>128.5530</td>\n      <td>303.6</td>\n      <td>1.0</td>\n      <td>1.0</td>\n      <td>2019-09-30</td>\n      <td>1644</td>\n      <td>Aqua</td>\n      <td>MODIS</td>\n      <td>41</td>\n      <td>6.3</td>\n      <td>290.3</td>\n      <td>5.7</td>\n      <td>N</td>\n      <td>0</td>\n    </tr>\n    <tr>\n      <th>36010</th>\n      <td>36010</td>\n      <td>-30.8641</td>\n      <td>121.4995</td>\n      <td>309.1</td>\n      <td>1.8</td>\n      <td>1.3</td>\n      <td>2019-09-30</td>\n      <td>1645</td>\n      <td>Aqua</td>\n      <td>MODIS</td>\n      <td>77</td>\n      <td>6.3</td>\n      <td>290.9</td>\n      <td>23.0</td>\n      <td>N</td>\n      <td>2</td>\n    </tr>\n  </tbody>\n</table>\n<p>36011 rows × 16 columns</p>\n</div>"
     },
     "metadata": {},
     "execution_count": 6
    }
   ],
   "source": [
    "query1 = \"\"\"\n",
    "\n",
    "SELECT * \n",
    "FROM fire_archive_M6_96619\"\"\"\n",
    "\n",
    "data1 = pd.read_sql_query(query1, connection)\n",
    "data1"
   ]
  },
  {
   "cell_type": "code",
   "execution_count": 34,
   "metadata": {},
   "outputs": [
    {
     "output_type": "execute_result",
     "data": {
      "text/plain": [
       "6.3    36011\n",
       "Name: version, dtype: int64"
      ]
     },
     "metadata": {},
     "execution_count": 34
    }
   ],
   "source": [
    "data1.version.value_counts()"
   ]
  },
  {
   "cell_type": "code",
   "execution_count": 26,
   "metadata": {},
   "outputs": [
    {
     "output_type": "stream",
     "name": "stdout",
     "text": [
      "<class 'pandas.core.frame.DataFrame'>\nRangeIndex: 36011 entries, 0 to 36010\nData columns (total 16 columns):\n #   Column      Non-Null Count  Dtype  \n---  ------      --------------  -----  \n 0   index       36011 non-null  int64  \n 1   latitude    36011 non-null  object \n 2   longitude   36011 non-null  float64\n 3   brightness  36011 non-null  float64\n 4   scan        36011 non-null  float64\n 5   track       36011 non-null  float64\n 6   acq_date    36011 non-null  object \n 7   acq_time    36011 non-null  int64  \n 8   satellite   36011 non-null  object \n 9   instrument  36011 non-null  object \n 10  confidence  36011 non-null  int64  \n 11  version     36011 non-null  float64\n 12  bright_t31  36011 non-null  float64\n 13  frp         36011 non-null  float64\n 14  daynight    36011 non-null  object \n 15  fire_type   36011 non-null  int64  \ndtypes: float64(7), int64(4), object(5)\nmemory usage: 4.4+ MB\n"
     ]
    }
   ],
   "source": [
    "data1.info()"
   ]
  },
  {
   "cell_type": "code",
   "execution_count": 7,
   "metadata": {},
   "outputs": [
    {
     "output_type": "execute_result",
     "data": {
      "text/plain": [
       "         index   latitude  longitude  bright_ti4  scan  track    acq_date  \\\n",
       "0            0  -34.45902  150.88040       326.5  0.60   0.71  2019-08-01   \n",
       "1            1  -31.70724  151.07191       367.0  0.56   0.69  2019-08-01   \n",
       "2            2  -31.39626  149.65253       325.2  0.68   0.74  2019-08-01   \n",
       "3            3  -30.39774  152.06432       347.8  0.48   0.65  2019-08-01   \n",
       "4            4  -31.20248  151.89766       350.7  0.50   0.66  2019-08-01   \n",
       "...        ...        ...        ...         ...   ...    ...         ...   \n",
       "184773  184773  -32.37209  116.10032       296.1  0.48   0.40  2019-09-30   \n",
       "184774  184774  -32.38958  116.11151       296.1  0.48   0.40  2019-09-30   \n",
       "184775  184775  -33.12481  116.03968       299.9  0.47   0.40  2019-09-30   \n",
       "184776  184776   -33.6348  122.92641       296.2  0.43   0.38  2019-09-30   \n",
       "184777  184777  -33.63897  122.93050       297.3  0.44   0.38  2019-09-30   \n",
       "\n",
       "        acq_time satellite instrument confidence  version  bright_ti5   frp  \\\n",
       "0            246         N      VIIRS          n        1       290.7   5.8   \n",
       "1            247         N      VIIRS          h        1       291.9  10.4   \n",
       "2            247         N      VIIRS          n        1       292.7   5.6   \n",
       "3            247         N      VIIRS          n        1       287.6   9.1   \n",
       "4            247         N      VIIRS          n        1       292.3   9.4   \n",
       "...          ...       ...        ...        ...      ...         ...   ...   \n",
       "184773      1702         N      VIIRS          n        1       284.8   1.2   \n",
       "184774      1702         N      VIIRS          n        1       284.7   1.1   \n",
       "184775      1702         N      VIIRS          n        1       285.0   1.3   \n",
       "184776      1702         N      VIIRS          n        1       285.9   0.5   \n",
       "184777      1702         N      VIIRS          n        1       285.9   0.6   \n",
       "\n",
       "        fire_type  \n",
       "0               3  \n",
       "1               0  \n",
       "2               0  \n",
       "3               0  \n",
       "4               0  \n",
       "...           ...  \n",
       "184773          0  \n",
       "184774          0  \n",
       "184775          0  \n",
       "184776          0  \n",
       "184777          0  \n",
       "\n",
       "[184778 rows x 15 columns]"
      ],
      "text/html": "<div>\n<style scoped>\n    .dataframe tbody tr th:only-of-type {\n        vertical-align: middle;\n    }\n\n    .dataframe tbody tr th {\n        vertical-align: top;\n    }\n\n    .dataframe thead th {\n        text-align: right;\n    }\n</style>\n<table border=\"1\" class=\"dataframe\">\n  <thead>\n    <tr style=\"text-align: right;\">\n      <th></th>\n      <th>index</th>\n      <th>latitude</th>\n      <th>longitude</th>\n      <th>bright_ti4</th>\n      <th>scan</th>\n      <th>track</th>\n      <th>acq_date</th>\n      <th>acq_time</th>\n      <th>satellite</th>\n      <th>instrument</th>\n      <th>confidence</th>\n      <th>version</th>\n      <th>bright_ti5</th>\n      <th>frp</th>\n      <th>fire_type</th>\n    </tr>\n  </thead>\n  <tbody>\n    <tr>\n      <th>0</th>\n      <td>0</td>\n      <td>-34.45902</td>\n      <td>150.88040</td>\n      <td>326.5</td>\n      <td>0.60</td>\n      <td>0.71</td>\n      <td>2019-08-01</td>\n      <td>246</td>\n      <td>N</td>\n      <td>VIIRS</td>\n      <td>n</td>\n      <td>1</td>\n      <td>290.7</td>\n      <td>5.8</td>\n      <td>3</td>\n    </tr>\n    <tr>\n      <th>1</th>\n      <td>1</td>\n      <td>-31.70724</td>\n      <td>151.07191</td>\n      <td>367.0</td>\n      <td>0.56</td>\n      <td>0.69</td>\n      <td>2019-08-01</td>\n      <td>247</td>\n      <td>N</td>\n      <td>VIIRS</td>\n      <td>h</td>\n      <td>1</td>\n      <td>291.9</td>\n      <td>10.4</td>\n      <td>0</td>\n    </tr>\n    <tr>\n      <th>2</th>\n      <td>2</td>\n      <td>-31.39626</td>\n      <td>149.65253</td>\n      <td>325.2</td>\n      <td>0.68</td>\n      <td>0.74</td>\n      <td>2019-08-01</td>\n      <td>247</td>\n      <td>N</td>\n      <td>VIIRS</td>\n      <td>n</td>\n      <td>1</td>\n      <td>292.7</td>\n      <td>5.6</td>\n      <td>0</td>\n    </tr>\n    <tr>\n      <th>3</th>\n      <td>3</td>\n      <td>-30.39774</td>\n      <td>152.06432</td>\n      <td>347.8</td>\n      <td>0.48</td>\n      <td>0.65</td>\n      <td>2019-08-01</td>\n      <td>247</td>\n      <td>N</td>\n      <td>VIIRS</td>\n      <td>n</td>\n      <td>1</td>\n      <td>287.6</td>\n      <td>9.1</td>\n      <td>0</td>\n    </tr>\n    <tr>\n      <th>4</th>\n      <td>4</td>\n      <td>-31.20248</td>\n      <td>151.89766</td>\n      <td>350.7</td>\n      <td>0.50</td>\n      <td>0.66</td>\n      <td>2019-08-01</td>\n      <td>247</td>\n      <td>N</td>\n      <td>VIIRS</td>\n      <td>n</td>\n      <td>1</td>\n      <td>292.3</td>\n      <td>9.4</td>\n      <td>0</td>\n    </tr>\n    <tr>\n      <th>...</th>\n      <td>...</td>\n      <td>...</td>\n      <td>...</td>\n      <td>...</td>\n      <td>...</td>\n      <td>...</td>\n      <td>...</td>\n      <td>...</td>\n      <td>...</td>\n      <td>...</td>\n      <td>...</td>\n      <td>...</td>\n      <td>...</td>\n      <td>...</td>\n      <td>...</td>\n    </tr>\n    <tr>\n      <th>184773</th>\n      <td>184773</td>\n      <td>-32.37209</td>\n      <td>116.10032</td>\n      <td>296.1</td>\n      <td>0.48</td>\n      <td>0.40</td>\n      <td>2019-09-30</td>\n      <td>1702</td>\n      <td>N</td>\n      <td>VIIRS</td>\n      <td>n</td>\n      <td>1</td>\n      <td>284.8</td>\n      <td>1.2</td>\n      <td>0</td>\n    </tr>\n    <tr>\n      <th>184774</th>\n      <td>184774</td>\n      <td>-32.38958</td>\n      <td>116.11151</td>\n      <td>296.1</td>\n      <td>0.48</td>\n      <td>0.40</td>\n      <td>2019-09-30</td>\n      <td>1702</td>\n      <td>N</td>\n      <td>VIIRS</td>\n      <td>n</td>\n      <td>1</td>\n      <td>284.7</td>\n      <td>1.1</td>\n      <td>0</td>\n    </tr>\n    <tr>\n      <th>184775</th>\n      <td>184775</td>\n      <td>-33.12481</td>\n      <td>116.03968</td>\n      <td>299.9</td>\n      <td>0.47</td>\n      <td>0.40</td>\n      <td>2019-09-30</td>\n      <td>1702</td>\n      <td>N</td>\n      <td>VIIRS</td>\n      <td>n</td>\n      <td>1</td>\n      <td>285.0</td>\n      <td>1.3</td>\n      <td>0</td>\n    </tr>\n    <tr>\n      <th>184776</th>\n      <td>184776</td>\n      <td>-33.6348</td>\n      <td>122.92641</td>\n      <td>296.2</td>\n      <td>0.43</td>\n      <td>0.38</td>\n      <td>2019-09-30</td>\n      <td>1702</td>\n      <td>N</td>\n      <td>VIIRS</td>\n      <td>n</td>\n      <td>1</td>\n      <td>285.9</td>\n      <td>0.5</td>\n      <td>0</td>\n    </tr>\n    <tr>\n      <th>184777</th>\n      <td>184777</td>\n      <td>-33.63897</td>\n      <td>122.93050</td>\n      <td>297.3</td>\n      <td>0.44</td>\n      <td>0.38</td>\n      <td>2019-09-30</td>\n      <td>1702</td>\n      <td>N</td>\n      <td>VIIRS</td>\n      <td>n</td>\n      <td>1</td>\n      <td>285.9</td>\n      <td>0.6</td>\n      <td>0</td>\n    </tr>\n  </tbody>\n</table>\n<p>184778 rows × 15 columns</p>\n</div>"
     },
     "metadata": {},
     "execution_count": 7
    }
   ],
   "source": [
    "query2 = \"\"\"\n",
    "SELECT *\n",
    "FROM fire_archive_V1_96617\"\"\"\n",
    "data2 = pd.read_sql_query(query2, connection)\n",
    "data2"
   ]
  },
  {
   "cell_type": "code",
   "execution_count": 8,
   "metadata": {},
   "outputs": [
    {
     "output_type": "execute_result",
     "data": {
      "text/plain": [
       "         index latitude  longitude  brightness  scan  track    acq_date  \\\n",
       "0            0  -14.281    143.636       323.9   1.7    1.3  2019-10-01   \n",
       "1            1  -14.284    143.532       343.5   1.7    1.3  2019-10-01   \n",
       "2            2  -14.302    143.706       320.2   1.7    1.3  2019-10-01   \n",
       "3            3  -14.283    143.652       320.4   1.7    1.3  2019-10-01   \n",
       "4            4  -14.285    143.521       349.4   1.7    1.3  2019-10-01   \n",
       "...        ...      ...        ...         ...   ...    ...         ...   \n",
       "183588  183588  -32.675    122.113       300.5   2.4    1.5  2020-01-11   \n",
       "183589  183589  -16.708    129.646       300.5   1.0    1.0  2020-01-11   \n",
       "183590  183590  -16.747    129.653       301.8   1.0    1.0  2020-01-11   \n",
       "183591  183591  -32.484    121.319       306.5   1.4    1.2  2020-01-11   \n",
       "183592  183592  -30.858    121.500       300.7   1.4    1.2  2020-01-11   \n",
       "\n",
       "        acq_time satellite instrument  confidence version  bright_t31    frp  \\\n",
       "0             25     Terra      MODIS          70  6.0NRT       302.3   26.8   \n",
       "1             25     Terra      MODIS          90  6.0NRT       306.3   84.3   \n",
       "2             25     Terra      MODIS          30  6.0NRT       305.0   14.1   \n",
       "3             25     Terra      MODIS          57  6.0NRT       303.3   18.4   \n",
       "4             25     Terra      MODIS          94  6.0NRT       304.7  110.7   \n",
       "...          ...       ...        ...         ...     ...         ...    ...   \n",
       "183588      1515     Terra      MODIS          19  6.0NRT       289.3   15.3   \n",
       "183589      1645      Aqua      MODIS          16  6.0NRT       280.8    2.9   \n",
       "183590      1645      Aqua      MODIS          23  6.0NRT       277.9    3.7   \n",
       "183591      1650      Aqua      MODIS          68  6.0NRT       291.9   11.6   \n",
       "183592      1650      Aqua      MODIS          32  6.0NRT       290.5    6.8   \n",
       "\n",
       "       daynight  \n",
       "0             D  \n",
       "1             D  \n",
       "2             D  \n",
       "3             D  \n",
       "4             D  \n",
       "...         ...  \n",
       "183588        N  \n",
       "183589        N  \n",
       "183590        N  \n",
       "183591        N  \n",
       "183592        N  \n",
       "\n",
       "[183593 rows x 15 columns]"
      ],
      "text/html": "<div>\n<style scoped>\n    .dataframe tbody tr th:only-of-type {\n        vertical-align: middle;\n    }\n\n    .dataframe tbody tr th {\n        vertical-align: top;\n    }\n\n    .dataframe thead th {\n        text-align: right;\n    }\n</style>\n<table border=\"1\" class=\"dataframe\">\n  <thead>\n    <tr style=\"text-align: right;\">\n      <th></th>\n      <th>index</th>\n      <th>latitude</th>\n      <th>longitude</th>\n      <th>brightness</th>\n      <th>scan</th>\n      <th>track</th>\n      <th>acq_date</th>\n      <th>acq_time</th>\n      <th>satellite</th>\n      <th>instrument</th>\n      <th>confidence</th>\n      <th>version</th>\n      <th>bright_t31</th>\n      <th>frp</th>\n      <th>daynight</th>\n    </tr>\n  </thead>\n  <tbody>\n    <tr>\n      <th>0</th>\n      <td>0</td>\n      <td>-14.281</td>\n      <td>143.636</td>\n      <td>323.9</td>\n      <td>1.7</td>\n      <td>1.3</td>\n      <td>2019-10-01</td>\n      <td>25</td>\n      <td>Terra</td>\n      <td>MODIS</td>\n      <td>70</td>\n      <td>6.0NRT</td>\n      <td>302.3</td>\n      <td>26.8</td>\n      <td>D</td>\n    </tr>\n    <tr>\n      <th>1</th>\n      <td>1</td>\n      <td>-14.284</td>\n      <td>143.532</td>\n      <td>343.5</td>\n      <td>1.7</td>\n      <td>1.3</td>\n      <td>2019-10-01</td>\n      <td>25</td>\n      <td>Terra</td>\n      <td>MODIS</td>\n      <td>90</td>\n      <td>6.0NRT</td>\n      <td>306.3</td>\n      <td>84.3</td>\n      <td>D</td>\n    </tr>\n    <tr>\n      <th>2</th>\n      <td>2</td>\n      <td>-14.302</td>\n      <td>143.706</td>\n      <td>320.2</td>\n      <td>1.7</td>\n      <td>1.3</td>\n      <td>2019-10-01</td>\n      <td>25</td>\n      <td>Terra</td>\n      <td>MODIS</td>\n      <td>30</td>\n      <td>6.0NRT</td>\n      <td>305.0</td>\n      <td>14.1</td>\n      <td>D</td>\n    </tr>\n    <tr>\n      <th>3</th>\n      <td>3</td>\n      <td>-14.283</td>\n      <td>143.652</td>\n      <td>320.4</td>\n      <td>1.7</td>\n      <td>1.3</td>\n      <td>2019-10-01</td>\n      <td>25</td>\n      <td>Terra</td>\n      <td>MODIS</td>\n      <td>57</td>\n      <td>6.0NRT</td>\n      <td>303.3</td>\n      <td>18.4</td>\n      <td>D</td>\n    </tr>\n    <tr>\n      <th>4</th>\n      <td>4</td>\n      <td>-14.285</td>\n      <td>143.521</td>\n      <td>349.4</td>\n      <td>1.7</td>\n      <td>1.3</td>\n      <td>2019-10-01</td>\n      <td>25</td>\n      <td>Terra</td>\n      <td>MODIS</td>\n      <td>94</td>\n      <td>6.0NRT</td>\n      <td>304.7</td>\n      <td>110.7</td>\n      <td>D</td>\n    </tr>\n    <tr>\n      <th>...</th>\n      <td>...</td>\n      <td>...</td>\n      <td>...</td>\n      <td>...</td>\n      <td>...</td>\n      <td>...</td>\n      <td>...</td>\n      <td>...</td>\n      <td>...</td>\n      <td>...</td>\n      <td>...</td>\n      <td>...</td>\n      <td>...</td>\n      <td>...</td>\n      <td>...</td>\n    </tr>\n    <tr>\n      <th>183588</th>\n      <td>183588</td>\n      <td>-32.675</td>\n      <td>122.113</td>\n      <td>300.5</td>\n      <td>2.4</td>\n      <td>1.5</td>\n      <td>2020-01-11</td>\n      <td>1515</td>\n      <td>Terra</td>\n      <td>MODIS</td>\n      <td>19</td>\n      <td>6.0NRT</td>\n      <td>289.3</td>\n      <td>15.3</td>\n      <td>N</td>\n    </tr>\n    <tr>\n      <th>183589</th>\n      <td>183589</td>\n      <td>-16.708</td>\n      <td>129.646</td>\n      <td>300.5</td>\n      <td>1.0</td>\n      <td>1.0</td>\n      <td>2020-01-11</td>\n      <td>1645</td>\n      <td>Aqua</td>\n      <td>MODIS</td>\n      <td>16</td>\n      <td>6.0NRT</td>\n      <td>280.8</td>\n      <td>2.9</td>\n      <td>N</td>\n    </tr>\n    <tr>\n      <th>183590</th>\n      <td>183590</td>\n      <td>-16.747</td>\n      <td>129.653</td>\n      <td>301.8</td>\n      <td>1.0</td>\n      <td>1.0</td>\n      <td>2020-01-11</td>\n      <td>1645</td>\n      <td>Aqua</td>\n      <td>MODIS</td>\n      <td>23</td>\n      <td>6.0NRT</td>\n      <td>277.9</td>\n      <td>3.7</td>\n      <td>N</td>\n    </tr>\n    <tr>\n      <th>183591</th>\n      <td>183591</td>\n      <td>-32.484</td>\n      <td>121.319</td>\n      <td>306.5</td>\n      <td>1.4</td>\n      <td>1.2</td>\n      <td>2020-01-11</td>\n      <td>1650</td>\n      <td>Aqua</td>\n      <td>MODIS</td>\n      <td>68</td>\n      <td>6.0NRT</td>\n      <td>291.9</td>\n      <td>11.6</td>\n      <td>N</td>\n    </tr>\n    <tr>\n      <th>183592</th>\n      <td>183592</td>\n      <td>-30.858</td>\n      <td>121.500</td>\n      <td>300.7</td>\n      <td>1.4</td>\n      <td>1.2</td>\n      <td>2020-01-11</td>\n      <td>1650</td>\n      <td>Aqua</td>\n      <td>MODIS</td>\n      <td>32</td>\n      <td>6.0NRT</td>\n      <td>290.5</td>\n      <td>6.8</td>\n      <td>N</td>\n    </tr>\n  </tbody>\n</table>\n<p>183593 rows × 15 columns</p>\n</div>"
     },
     "metadata": {},
     "execution_count": 8
    }
   ],
   "source": [
    "query3 = \"\"\"\n",
    "SELECT *\n",
    "FROM fire_nrt_M6_96619\"\"\"\n",
    "data3 = pd.read_sql_query(query3, connection)\n",
    "data3"
   ]
  },
  {
   "cell_type": "code",
   "execution_count": 9,
   "metadata": {},
   "outputs": [
    {
     "output_type": "execute_result",
     "data": {
      "text/plain": [
       "         index   latitude  longitude  bright_ti4  scan  track    acq_date  \\\n",
       "0            0  -42.69706  147.70634       333.6  0.57   0.43  2019-10-01   \n",
       "1            1  -42.26889  147.31104       336.2  0.39   0.44  2019-10-01   \n",
       "2            2  -40.85202  145.38068       327.9  0.46   0.47  2019-10-01   \n",
       "3            3  -42.39329  147.47144       346.9  0.38   0.43  2019-10-01   \n",
       "4            4  -42.69701  147.70584       334.1  0.56   0.43  2019-10-01   \n",
       "...        ...        ...        ...         ...   ...    ...         ...   \n",
       "956252  956252  -32.66628  122.15253       306.9  0.39   0.44  2020-01-11   \n",
       "956253  956253  -32.58616  123.39582       299.0  0.51   0.41  2020-01-11   \n",
       "956254  956254  -33.37853  115.94735       309.7  0.40   0.60  2020-01-11   \n",
       "956255  956255  -33.21827  115.75078       300.2  0.49   0.65  2020-01-11   \n",
       "956256  956256  -33.22012  115.75043       300.3  0.49   0.65  2020-01-11   \n",
       "\n",
       "        acq_time satellite instrument confidence version  bright_ti5  frp  \\\n",
       "0            336         N      VIIRS          n  1.0NRT       293.4  4.0   \n",
       "1            336         N      VIIRS          n  1.0NRT       296.9  3.9   \n",
       "2            336         N      VIIRS          n  1.0NRT       295.3  3.7   \n",
       "3            336         N      VIIRS          n  1.0NRT       294.2  6.2   \n",
       "4            336         N      VIIRS          n  1.0NRT       293.5  4.1   \n",
       "...          ...       ...        ...        ...     ...         ...  ...   \n",
       "956252      1630         N      VIIRS          n  1.0NRT       288.6  0.8   \n",
       "956253      1630         N      VIIRS          n  1.0NRT       287.4  0.7   \n",
       "956254      1630         N      VIIRS          n  1.0NRT       291.7  1.0   \n",
       "956255      1806         N      VIIRS          n  1.0NRT       290.2  1.1   \n",
       "956256      1806         N      VIIRS          n  1.0NRT       290.0  0.6   \n",
       "\n",
       "       daynight  \n",
       "0             D  \n",
       "1             D  \n",
       "2             D  \n",
       "3             D  \n",
       "4             D  \n",
       "...         ...  \n",
       "956252        N  \n",
       "956253        N  \n",
       "956254        N  \n",
       "956255        N  \n",
       "956256        N  \n",
       "\n",
       "[956257 rows x 15 columns]"
      ],
      "text/html": "<div>\n<style scoped>\n    .dataframe tbody tr th:only-of-type {\n        vertical-align: middle;\n    }\n\n    .dataframe tbody tr th {\n        vertical-align: top;\n    }\n\n    .dataframe thead th {\n        text-align: right;\n    }\n</style>\n<table border=\"1\" class=\"dataframe\">\n  <thead>\n    <tr style=\"text-align: right;\">\n      <th></th>\n      <th>index</th>\n      <th>latitude</th>\n      <th>longitude</th>\n      <th>bright_ti4</th>\n      <th>scan</th>\n      <th>track</th>\n      <th>acq_date</th>\n      <th>acq_time</th>\n      <th>satellite</th>\n      <th>instrument</th>\n      <th>confidence</th>\n      <th>version</th>\n      <th>bright_ti5</th>\n      <th>frp</th>\n      <th>daynight</th>\n    </tr>\n  </thead>\n  <tbody>\n    <tr>\n      <th>0</th>\n      <td>0</td>\n      <td>-42.69706</td>\n      <td>147.70634</td>\n      <td>333.6</td>\n      <td>0.57</td>\n      <td>0.43</td>\n      <td>2019-10-01</td>\n      <td>336</td>\n      <td>N</td>\n      <td>VIIRS</td>\n      <td>n</td>\n      <td>1.0NRT</td>\n      <td>293.4</td>\n      <td>4.0</td>\n      <td>D</td>\n    </tr>\n    <tr>\n      <th>1</th>\n      <td>1</td>\n      <td>-42.26889</td>\n      <td>147.31104</td>\n      <td>336.2</td>\n      <td>0.39</td>\n      <td>0.44</td>\n      <td>2019-10-01</td>\n      <td>336</td>\n      <td>N</td>\n      <td>VIIRS</td>\n      <td>n</td>\n      <td>1.0NRT</td>\n      <td>296.9</td>\n      <td>3.9</td>\n      <td>D</td>\n    </tr>\n    <tr>\n      <th>2</th>\n      <td>2</td>\n      <td>-40.85202</td>\n      <td>145.38068</td>\n      <td>327.9</td>\n      <td>0.46</td>\n      <td>0.47</td>\n      <td>2019-10-01</td>\n      <td>336</td>\n      <td>N</td>\n      <td>VIIRS</td>\n      <td>n</td>\n      <td>1.0NRT</td>\n      <td>295.3</td>\n      <td>3.7</td>\n      <td>D</td>\n    </tr>\n    <tr>\n      <th>3</th>\n      <td>3</td>\n      <td>-42.39329</td>\n      <td>147.47144</td>\n      <td>346.9</td>\n      <td>0.38</td>\n      <td>0.43</td>\n      <td>2019-10-01</td>\n      <td>336</td>\n      <td>N</td>\n      <td>VIIRS</td>\n      <td>n</td>\n      <td>1.0NRT</td>\n      <td>294.2</td>\n      <td>6.2</td>\n      <td>D</td>\n    </tr>\n    <tr>\n      <th>4</th>\n      <td>4</td>\n      <td>-42.69701</td>\n      <td>147.70584</td>\n      <td>334.1</td>\n      <td>0.56</td>\n      <td>0.43</td>\n      <td>2019-10-01</td>\n      <td>336</td>\n      <td>N</td>\n      <td>VIIRS</td>\n      <td>n</td>\n      <td>1.0NRT</td>\n      <td>293.5</td>\n      <td>4.1</td>\n      <td>D</td>\n    </tr>\n    <tr>\n      <th>...</th>\n      <td>...</td>\n      <td>...</td>\n      <td>...</td>\n      <td>...</td>\n      <td>...</td>\n      <td>...</td>\n      <td>...</td>\n      <td>...</td>\n      <td>...</td>\n      <td>...</td>\n      <td>...</td>\n      <td>...</td>\n      <td>...</td>\n      <td>...</td>\n      <td>...</td>\n    </tr>\n    <tr>\n      <th>956252</th>\n      <td>956252</td>\n      <td>-32.66628</td>\n      <td>122.15253</td>\n      <td>306.9</td>\n      <td>0.39</td>\n      <td>0.44</td>\n      <td>2020-01-11</td>\n      <td>1630</td>\n      <td>N</td>\n      <td>VIIRS</td>\n      <td>n</td>\n      <td>1.0NRT</td>\n      <td>288.6</td>\n      <td>0.8</td>\n      <td>N</td>\n    </tr>\n    <tr>\n      <th>956253</th>\n      <td>956253</td>\n      <td>-32.58616</td>\n      <td>123.39582</td>\n      <td>299.0</td>\n      <td>0.51</td>\n      <td>0.41</td>\n      <td>2020-01-11</td>\n      <td>1630</td>\n      <td>N</td>\n      <td>VIIRS</td>\n      <td>n</td>\n      <td>1.0NRT</td>\n      <td>287.4</td>\n      <td>0.7</td>\n      <td>N</td>\n    </tr>\n    <tr>\n      <th>956254</th>\n      <td>956254</td>\n      <td>-33.37853</td>\n      <td>115.94735</td>\n      <td>309.7</td>\n      <td>0.40</td>\n      <td>0.60</td>\n      <td>2020-01-11</td>\n      <td>1630</td>\n      <td>N</td>\n      <td>VIIRS</td>\n      <td>n</td>\n      <td>1.0NRT</td>\n      <td>291.7</td>\n      <td>1.0</td>\n      <td>N</td>\n    </tr>\n    <tr>\n      <th>956255</th>\n      <td>956255</td>\n      <td>-33.21827</td>\n      <td>115.75078</td>\n      <td>300.2</td>\n      <td>0.49</td>\n      <td>0.65</td>\n      <td>2020-01-11</td>\n      <td>1806</td>\n      <td>N</td>\n      <td>VIIRS</td>\n      <td>n</td>\n      <td>1.0NRT</td>\n      <td>290.2</td>\n      <td>1.1</td>\n      <td>N</td>\n    </tr>\n    <tr>\n      <th>956256</th>\n      <td>956256</td>\n      <td>-33.22012</td>\n      <td>115.75043</td>\n      <td>300.3</td>\n      <td>0.49</td>\n      <td>0.65</td>\n      <td>2020-01-11</td>\n      <td>1806</td>\n      <td>N</td>\n      <td>VIIRS</td>\n      <td>n</td>\n      <td>1.0NRT</td>\n      <td>290.0</td>\n      <td>0.6</td>\n      <td>N</td>\n    </tr>\n  </tbody>\n</table>\n<p>956257 rows × 15 columns</p>\n</div>"
     },
     "metadata": {},
     "execution_count": 9
    }
   ],
   "source": [
    "query4 = \"\"\"\n",
    "SELECT *\n",
    "FROM fire_nrt_V1_96617\"\"\"\n",
    "data4 = pd.read_sql_query(query4, connection)\n",
    "data4"
   ]
  },
  {
   "cell_type": "code",
   "execution_count": 28,
   "metadata": {},
   "outputs": [
    {
     "output_type": "execute_result",
     "data": {
      "text/plain": [
       "N    956257\n",
       "Name: satellite, dtype: int64"
      ]
     },
     "metadata": {},
     "execution_count": 28
    }
   ],
   "source": [
    "data4.satellite.value_counts()"
   ]
  },
  {
   "cell_type": "code",
   "execution_count": 22,
   "metadata": {},
   "outputs": [
    {
     "output_type": "execute_result",
     "data": {
      "text/plain": [
       "2020-01-04    35038\n",
       "2019-12-30    34193\n",
       "2019-11-08    27223\n",
       "2019-12-31    26085\n",
       "2020-01-02    25128\n",
       "              ...  \n",
       "2020-01-10     2925\n",
       "2019-10-02     2842\n",
       "2019-11-01     2787\n",
       "2019-11-03     2674\n",
       "2019-10-31     1524\n",
       "Name: acq_date, Length: 103, dtype: int64"
      ]
     },
     "metadata": {},
     "execution_count": 22
    }
   ],
   "source": [
    "data4.acq_date.value_counts()"
   ]
  },
  {
   "cell_type": "code",
   "execution_count": 21,
   "metadata": {},
   "outputs": [
    {
     "output_type": "execute_result",
     "data": {
      "text/plain": [
       "n    771035\n",
       "h    108407\n",
       "l     76815\n",
       "Name: confidence, dtype: int64"
      ]
     },
     "metadata": {},
     "execution_count": 21
    }
   ],
   "source": [
    "data4.confidence.value_counts()"
   ]
  },
  {
   "cell_type": "code",
   "execution_count": 10,
   "metadata": {},
   "outputs": [
    {
     "output_type": "execute_result",
     "data": {
      "text/plain": [
       "Empty DataFrame\n",
       "Columns: [index, chosen_model, acc_score, recall_score]\n",
       "Index: []"
      ],
      "text/html": "<div>\n<style scoped>\n    .dataframe tbody tr th:only-of-type {\n        vertical-align: middle;\n    }\n\n    .dataframe tbody tr th {\n        vertical-align: top;\n    }\n\n    .dataframe thead th {\n        text-align: right;\n    }\n</style>\n<table border=\"1\" class=\"dataframe\">\n  <thead>\n    <tr style=\"text-align: right;\">\n      <th></th>\n      <th>index</th>\n      <th>chosen_model</th>\n      <th>acc_score</th>\n      <th>recall_score</th>\n    </tr>\n  </thead>\n  <tbody>\n  </tbody>\n</table>\n</div>"
     },
     "metadata": {},
     "execution_count": 10
    }
   ],
   "source": [
    "query5 = \"\"\"\n",
    "SELECT *\n",
    "FROM student_findings\"\"\"\n",
    "data5 = pd.read_sql_query(query5, connection)\n",
    "data5\n"
   ]
  },
  {
   "cell_type": "code",
   "execution_count": 20,
   "metadata": {},
   "outputs": [
    {
     "output_type": "execute_result",
     "data": {
      "text/plain": [
       "       acq_date  acq_time  bright_t31  bright_ti4  bright_ti5  brightness  \\\n",
       "data1       1.0       1.0         1.0         NaN         NaN         1.0   \n",
       "data2       1.0       1.0         NaN         1.0         1.0         NaN   \n",
       "data3       1.0       1.0         1.0         NaN         NaN         1.0   \n",
       "data4       1.0       1.0         NaN         1.0         1.0         NaN   \n",
       "\n",
       "       confidence  daynight  fire_type  frp  index  instrument  latitude  \\\n",
       "data1         1.0       1.0        1.0  1.0    1.0         1.0       1.0   \n",
       "data2         1.0       NaN        1.0  1.0    1.0         1.0       1.0   \n",
       "data3         1.0       1.0        NaN  1.0    1.0         1.0       1.0   \n",
       "data4         1.0       1.0        NaN  1.0    1.0         1.0       1.0   \n",
       "\n",
       "       longitude  satellite  scan  track  version  \n",
       "data1        1.0        1.0   1.0    1.0      1.0  \n",
       "data2        1.0        1.0   1.0    1.0      1.0  \n",
       "data3        1.0        1.0   1.0    1.0      1.0  \n",
       "data4        1.0        1.0   1.0    1.0      1.0  "
      ],
      "text/html": "<div>\n<style scoped>\n    .dataframe tbody tr th:only-of-type {\n        vertical-align: middle;\n    }\n\n    .dataframe tbody tr th {\n        vertical-align: top;\n    }\n\n    .dataframe thead th {\n        text-align: right;\n    }\n</style>\n<table border=\"1\" class=\"dataframe\">\n  <thead>\n    <tr style=\"text-align: right;\">\n      <th></th>\n      <th>acq_date</th>\n      <th>acq_time</th>\n      <th>bright_t31</th>\n      <th>bright_ti4</th>\n      <th>bright_ti5</th>\n      <th>brightness</th>\n      <th>confidence</th>\n      <th>daynight</th>\n      <th>fire_type</th>\n      <th>frp</th>\n      <th>index</th>\n      <th>instrument</th>\n      <th>latitude</th>\n      <th>longitude</th>\n      <th>satellite</th>\n      <th>scan</th>\n      <th>track</th>\n      <th>version</th>\n    </tr>\n  </thead>\n  <tbody>\n    <tr>\n      <th>data1</th>\n      <td>1.0</td>\n      <td>1.0</td>\n      <td>1.0</td>\n      <td>NaN</td>\n      <td>NaN</td>\n      <td>1.0</td>\n      <td>1.0</td>\n      <td>1.0</td>\n      <td>1.0</td>\n      <td>1.0</td>\n      <td>1.0</td>\n      <td>1.0</td>\n      <td>1.0</td>\n      <td>1.0</td>\n      <td>1.0</td>\n      <td>1.0</td>\n      <td>1.0</td>\n      <td>1.0</td>\n    </tr>\n    <tr>\n      <th>data2</th>\n      <td>1.0</td>\n      <td>1.0</td>\n      <td>NaN</td>\n      <td>1.0</td>\n      <td>1.0</td>\n      <td>NaN</td>\n      <td>1.0</td>\n      <td>NaN</td>\n      <td>1.0</td>\n      <td>1.0</td>\n      <td>1.0</td>\n      <td>1.0</td>\n      <td>1.0</td>\n      <td>1.0</td>\n      <td>1.0</td>\n      <td>1.0</td>\n      <td>1.0</td>\n      <td>1.0</td>\n    </tr>\n    <tr>\n      <th>data3</th>\n      <td>1.0</td>\n      <td>1.0</td>\n      <td>1.0</td>\n      <td>NaN</td>\n      <td>NaN</td>\n      <td>1.0</td>\n      <td>1.0</td>\n      <td>1.0</td>\n      <td>NaN</td>\n      <td>1.0</td>\n      <td>1.0</td>\n      <td>1.0</td>\n      <td>1.0</td>\n      <td>1.0</td>\n      <td>1.0</td>\n      <td>1.0</td>\n      <td>1.0</td>\n      <td>1.0</td>\n    </tr>\n    <tr>\n      <th>data4</th>\n      <td>1.0</td>\n      <td>1.0</td>\n      <td>NaN</td>\n      <td>1.0</td>\n      <td>1.0</td>\n      <td>NaN</td>\n      <td>1.0</td>\n      <td>1.0</td>\n      <td>NaN</td>\n      <td>1.0</td>\n      <td>1.0</td>\n      <td>1.0</td>\n      <td>1.0</td>\n      <td>1.0</td>\n      <td>1.0</td>\n      <td>1.0</td>\n      <td>1.0</td>\n      <td>1.0</td>\n    </tr>\n  </tbody>\n</table>\n</div>"
     },
     "metadata": {},
     "execution_count": 20
    }
   ],
   "source": [
    "dict_data= {\"data1\":data1.columns.value_counts(), \"data2\": data2.columns.value_counts(), \"data3\": data3.columns.value_counts(), \"data4\": data4.columns.value_counts()}\n",
    "dt_columns= pd.DataFrame(dict_data)\n",
    "dt_columns.T"
   ]
  },
  {
   "cell_type": "code",
   "execution_count": 33,
   "metadata": {},
   "outputs": [
    {
     "output_type": "execute_result",
     "data": {
      "text/plain": [
       "index         0\n",
       "latitude      0\n",
       "longitude     0\n",
       "bright_ti4    0\n",
       "scan          0\n",
       "track         0\n",
       "acq_date      0\n",
       "acq_time      0\n",
       "satellite     0\n",
       "instrument    0\n",
       "confidence    0\n",
       "version       0\n",
       "bright_ti5    0\n",
       "frp           0\n",
       "daynight      0\n",
       "dtype: int64"
      ]
     },
     "metadata": {},
     "execution_count": 33
    }
   ],
   "source": [
    "data4.isna().sum().sort_values(ascending=True)"
   ]
  },
  {
   "cell_type": "code",
   "execution_count": 74,
   "metadata": {},
   "outputs": [
    {
     "output_type": "execute_result",
     "data": {
      "text/plain": [
       "               index     longitude    brightness          scan         track  \\\n",
       "index       1.000000  1.037563e-01  1.581038e-01 -4.500031e-03 -5.544107e-03   \n",
       "longitude   0.103756  1.000000e+00 -1.040974e-01 -5.184018e-02 -5.476704e-02   \n",
       "brightness  0.158104 -1.040974e-01  1.000000e+00 -1.059401e-01 -1.085723e-01   \n",
       "scan       -0.004500 -5.184018e-02 -1.059401e-01  1.000000e+00  9.824843e-01   \n",
       "track      -0.005544 -5.476704e-02 -1.085723e-01  9.824843e-01  1.000000e+00   \n",
       "acq_time    0.054372  1.163678e-01 -3.232710e-01 -2.687651e-02 -2.439943e-02   \n",
       "confidence  0.075489 -3.552895e-02  6.146908e-01 -1.038080e-01 -1.059490e-01   \n",
       "version     0.000000 -4.866327e-14  5.808995e-14  2.102575e-13  5.918211e-13   \n",
       "bright_t31  0.097194 -3.804062e-01  6.068445e-01 -9.435634e-02 -9.206383e-02   \n",
       "frp         0.094743  4.492965e-04  6.611308e-01  2.921166e-01  2.865629e-01   \n",
       "fire_type  -0.004516  5.580376e-03 -5.416031e-02 -2.412955e-02 -2.446029e-02   \n",
       "\n",
       "                acq_time    confidence       version    bright_t31  \\\n",
       "index       5.437250e-02  7.548934e-02  0.000000e+00  9.719405e-02   \n",
       "longitude   1.163678e-01 -3.552895e-02 -4.866327e-14 -3.804062e-01   \n",
       "brightness -3.232710e-01  6.146908e-01  5.808995e-14  6.068445e-01   \n",
       "scan       -2.687651e-02 -1.038080e-01  2.102575e-13 -9.435634e-02   \n",
       "track      -2.439943e-02 -1.059490e-01  5.918211e-13 -9.206383e-02   \n",
       "acq_time    1.000000e+00 -7.001169e-02 -8.797976e-15 -5.524480e-01   \n",
       "confidence -7.001169e-02  1.000000e+00 -5.660263e-15  2.385060e-01   \n",
       "version    -8.797976e-15 -5.660263e-15  1.000000e+00  2.596921e-13   \n",
       "bright_t31 -5.524480e-01  2.385060e-01  2.596921e-13  1.000000e+00   \n",
       "frp        -7.365825e-02  3.553878e-01 -6.018599e-15  2.168240e-01   \n",
       "fire_type   7.623754e-03 -4.163203e-02 -1.616750e-15 -5.439344e-02   \n",
       "\n",
       "                     frp     fire_type  \n",
       "index       9.474268e-02 -4.516212e-03  \n",
       "longitude   4.492965e-04  5.580376e-03  \n",
       "brightness  6.611308e-01 -5.416031e-02  \n",
       "scan        2.921166e-01 -2.412955e-02  \n",
       "track       2.865629e-01 -2.446029e-02  \n",
       "acq_time   -7.365825e-02  7.623754e-03  \n",
       "confidence  3.553878e-01 -4.163203e-02  \n",
       "version    -6.018599e-15 -1.616750e-15  \n",
       "bright_t31  2.168240e-01 -5.439344e-02  \n",
       "frp         1.000000e+00 -2.668781e-02  \n",
       "fire_type  -2.668781e-02  1.000000e+00  "
      ],
      "text/html": "<div>\n<style scoped>\n    .dataframe tbody tr th:only-of-type {\n        vertical-align: middle;\n    }\n\n    .dataframe tbody tr th {\n        vertical-align: top;\n    }\n\n    .dataframe thead th {\n        text-align: right;\n    }\n</style>\n<table border=\"1\" class=\"dataframe\">\n  <thead>\n    <tr style=\"text-align: right;\">\n      <th></th>\n      <th>index</th>\n      <th>longitude</th>\n      <th>brightness</th>\n      <th>scan</th>\n      <th>track</th>\n      <th>acq_time</th>\n      <th>confidence</th>\n      <th>version</th>\n      <th>bright_t31</th>\n      <th>frp</th>\n      <th>fire_type</th>\n    </tr>\n  </thead>\n  <tbody>\n    <tr>\n      <th>index</th>\n      <td>1.000000</td>\n      <td>1.037563e-01</td>\n      <td>1.581038e-01</td>\n      <td>-4.500031e-03</td>\n      <td>-5.544107e-03</td>\n      <td>5.437250e-02</td>\n      <td>7.548934e-02</td>\n      <td>0.000000e+00</td>\n      <td>9.719405e-02</td>\n      <td>9.474268e-02</td>\n      <td>-4.516212e-03</td>\n    </tr>\n    <tr>\n      <th>longitude</th>\n      <td>0.103756</td>\n      <td>1.000000e+00</td>\n      <td>-1.040974e-01</td>\n      <td>-5.184018e-02</td>\n      <td>-5.476704e-02</td>\n      <td>1.163678e-01</td>\n      <td>-3.552895e-02</td>\n      <td>-4.866327e-14</td>\n      <td>-3.804062e-01</td>\n      <td>4.492965e-04</td>\n      <td>5.580376e-03</td>\n    </tr>\n    <tr>\n      <th>brightness</th>\n      <td>0.158104</td>\n      <td>-1.040974e-01</td>\n      <td>1.000000e+00</td>\n      <td>-1.059401e-01</td>\n      <td>-1.085723e-01</td>\n      <td>-3.232710e-01</td>\n      <td>6.146908e-01</td>\n      <td>5.808995e-14</td>\n      <td>6.068445e-01</td>\n      <td>6.611308e-01</td>\n      <td>-5.416031e-02</td>\n    </tr>\n    <tr>\n      <th>scan</th>\n      <td>-0.004500</td>\n      <td>-5.184018e-02</td>\n      <td>-1.059401e-01</td>\n      <td>1.000000e+00</td>\n      <td>9.824843e-01</td>\n      <td>-2.687651e-02</td>\n      <td>-1.038080e-01</td>\n      <td>2.102575e-13</td>\n      <td>-9.435634e-02</td>\n      <td>2.921166e-01</td>\n      <td>-2.412955e-02</td>\n    </tr>\n    <tr>\n      <th>track</th>\n      <td>-0.005544</td>\n      <td>-5.476704e-02</td>\n      <td>-1.085723e-01</td>\n      <td>9.824843e-01</td>\n      <td>1.000000e+00</td>\n      <td>-2.439943e-02</td>\n      <td>-1.059490e-01</td>\n      <td>5.918211e-13</td>\n      <td>-9.206383e-02</td>\n      <td>2.865629e-01</td>\n      <td>-2.446029e-02</td>\n    </tr>\n    <tr>\n      <th>acq_time</th>\n      <td>0.054372</td>\n      <td>1.163678e-01</td>\n      <td>-3.232710e-01</td>\n      <td>-2.687651e-02</td>\n      <td>-2.439943e-02</td>\n      <td>1.000000e+00</td>\n      <td>-7.001169e-02</td>\n      <td>-8.797976e-15</td>\n      <td>-5.524480e-01</td>\n      <td>-7.365825e-02</td>\n      <td>7.623754e-03</td>\n    </tr>\n    <tr>\n      <th>confidence</th>\n      <td>0.075489</td>\n      <td>-3.552895e-02</td>\n      <td>6.146908e-01</td>\n      <td>-1.038080e-01</td>\n      <td>-1.059490e-01</td>\n      <td>-7.001169e-02</td>\n      <td>1.000000e+00</td>\n      <td>-5.660263e-15</td>\n      <td>2.385060e-01</td>\n      <td>3.553878e-01</td>\n      <td>-4.163203e-02</td>\n    </tr>\n    <tr>\n      <th>version</th>\n      <td>0.000000</td>\n      <td>-4.866327e-14</td>\n      <td>5.808995e-14</td>\n      <td>2.102575e-13</td>\n      <td>5.918211e-13</td>\n      <td>-8.797976e-15</td>\n      <td>-5.660263e-15</td>\n      <td>1.000000e+00</td>\n      <td>2.596921e-13</td>\n      <td>-6.018599e-15</td>\n      <td>-1.616750e-15</td>\n    </tr>\n    <tr>\n      <th>bright_t31</th>\n      <td>0.097194</td>\n      <td>-3.804062e-01</td>\n      <td>6.068445e-01</td>\n      <td>-9.435634e-02</td>\n      <td>-9.206383e-02</td>\n      <td>-5.524480e-01</td>\n      <td>2.385060e-01</td>\n      <td>2.596921e-13</td>\n      <td>1.000000e+00</td>\n      <td>2.168240e-01</td>\n      <td>-5.439344e-02</td>\n    </tr>\n    <tr>\n      <th>frp</th>\n      <td>0.094743</td>\n      <td>4.492965e-04</td>\n      <td>6.611308e-01</td>\n      <td>2.921166e-01</td>\n      <td>2.865629e-01</td>\n      <td>-7.365825e-02</td>\n      <td>3.553878e-01</td>\n      <td>-6.018599e-15</td>\n      <td>2.168240e-01</td>\n      <td>1.000000e+00</td>\n      <td>-2.668781e-02</td>\n    </tr>\n    <tr>\n      <th>fire_type</th>\n      <td>-0.004516</td>\n      <td>5.580376e-03</td>\n      <td>-5.416031e-02</td>\n      <td>-2.412955e-02</td>\n      <td>-2.446029e-02</td>\n      <td>7.623754e-03</td>\n      <td>-4.163203e-02</td>\n      <td>-1.616750e-15</td>\n      <td>-5.439344e-02</td>\n      <td>-2.668781e-02</td>\n      <td>1.000000e+00</td>\n    </tr>\n  </tbody>\n</table>\n</div>"
     },
     "metadata": {},
     "execution_count": 74
    }
   ],
   "source": [
    "data1.corr()"
   ]
  },
  {
   "source": [
    "## Entrenamiento don data 1 para predecir el fire_type en data 3"
   ],
   "cell_type": "markdown",
   "metadata": {}
  },
  {
   "cell_type": "code",
   "execution_count": 11,
   "metadata": {},
   "outputs": [
    {
     "output_type": "execute_result",
     "data": {
      "text/plain": [
       "       latitude  longitude  brightness  scan  track  confidence  bright_t31  \\\n",
       "0       -11.807   142.0583       313.0   1.0    1.0          48       297.3   \n",
       "1      -11.7924   142.0850       319.3   1.0    1.0          71       297.3   \n",
       "2      -12.8398   132.8744       311.6   3.1    1.7          42       298.7   \n",
       "3      -14.4306   143.3035       310.1   1.1    1.1          33       296.1   \n",
       "4      -12.4953   131.4897       310.3   4.0    1.9          36       298.8   \n",
       "...         ...        ...         ...   ...    ...         ...         ...   \n",
       "36006  -28.0656   131.6334       312.7   1.2    1.1          85       292.9   \n",
       "36007  -28.2625   128.5494       304.9   1.0    1.0          27       290.9   \n",
       "36008  -28.2941   128.5123       301.7   1.0    1.0          43       290.4   \n",
       "36009  -28.3001   128.5530       303.6   1.0    1.0          41       290.3   \n",
       "36010  -30.8641   121.4995       309.1   1.8    1.3          77       290.9   \n",
       "\n",
       "        frp daynight  \n",
       "0       6.6        D  \n",
       "1      11.3        D  \n",
       "2      23.1        D  \n",
       "3       6.5        D  \n",
       "4      27.6        D  \n",
       "...     ...      ...  \n",
       "36006  14.2        N  \n",
       "36007   6.4        N  \n",
       "36008   5.5        N  \n",
       "36009   5.7        N  \n",
       "36010  23.0        N  \n",
       "\n",
       "[36011 rows x 9 columns]"
      ],
      "text/html": "<div>\n<style scoped>\n    .dataframe tbody tr th:only-of-type {\n        vertical-align: middle;\n    }\n\n    .dataframe tbody tr th {\n        vertical-align: top;\n    }\n\n    .dataframe thead th {\n        text-align: right;\n    }\n</style>\n<table border=\"1\" class=\"dataframe\">\n  <thead>\n    <tr style=\"text-align: right;\">\n      <th></th>\n      <th>latitude</th>\n      <th>longitude</th>\n      <th>brightness</th>\n      <th>scan</th>\n      <th>track</th>\n      <th>confidence</th>\n      <th>bright_t31</th>\n      <th>frp</th>\n      <th>daynight</th>\n    </tr>\n  </thead>\n  <tbody>\n    <tr>\n      <th>0</th>\n      <td>-11.807</td>\n      <td>142.0583</td>\n      <td>313.0</td>\n      <td>1.0</td>\n      <td>1.0</td>\n      <td>48</td>\n      <td>297.3</td>\n      <td>6.6</td>\n      <td>D</td>\n    </tr>\n    <tr>\n      <th>1</th>\n      <td>-11.7924</td>\n      <td>142.0850</td>\n      <td>319.3</td>\n      <td>1.0</td>\n      <td>1.0</td>\n      <td>71</td>\n      <td>297.3</td>\n      <td>11.3</td>\n      <td>D</td>\n    </tr>\n    <tr>\n      <th>2</th>\n      <td>-12.8398</td>\n      <td>132.8744</td>\n      <td>311.6</td>\n      <td>3.1</td>\n      <td>1.7</td>\n      <td>42</td>\n      <td>298.7</td>\n      <td>23.1</td>\n      <td>D</td>\n    </tr>\n    <tr>\n      <th>3</th>\n      <td>-14.4306</td>\n      <td>143.3035</td>\n      <td>310.1</td>\n      <td>1.1</td>\n      <td>1.1</td>\n      <td>33</td>\n      <td>296.1</td>\n      <td>6.5</td>\n      <td>D</td>\n    </tr>\n    <tr>\n      <th>4</th>\n      <td>-12.4953</td>\n      <td>131.4897</td>\n      <td>310.3</td>\n      <td>4.0</td>\n      <td>1.9</td>\n      <td>36</td>\n      <td>298.8</td>\n      <td>27.6</td>\n      <td>D</td>\n    </tr>\n    <tr>\n      <th>...</th>\n      <td>...</td>\n      <td>...</td>\n      <td>...</td>\n      <td>...</td>\n      <td>...</td>\n      <td>...</td>\n      <td>...</td>\n      <td>...</td>\n      <td>...</td>\n    </tr>\n    <tr>\n      <th>36006</th>\n      <td>-28.0656</td>\n      <td>131.6334</td>\n      <td>312.7</td>\n      <td>1.2</td>\n      <td>1.1</td>\n      <td>85</td>\n      <td>292.9</td>\n      <td>14.2</td>\n      <td>N</td>\n    </tr>\n    <tr>\n      <th>36007</th>\n      <td>-28.2625</td>\n      <td>128.5494</td>\n      <td>304.9</td>\n      <td>1.0</td>\n      <td>1.0</td>\n      <td>27</td>\n      <td>290.9</td>\n      <td>6.4</td>\n      <td>N</td>\n    </tr>\n    <tr>\n      <th>36008</th>\n      <td>-28.2941</td>\n      <td>128.5123</td>\n      <td>301.7</td>\n      <td>1.0</td>\n      <td>1.0</td>\n      <td>43</td>\n      <td>290.4</td>\n      <td>5.5</td>\n      <td>N</td>\n    </tr>\n    <tr>\n      <th>36009</th>\n      <td>-28.3001</td>\n      <td>128.5530</td>\n      <td>303.6</td>\n      <td>1.0</td>\n      <td>1.0</td>\n      <td>41</td>\n      <td>290.3</td>\n      <td>5.7</td>\n      <td>N</td>\n    </tr>\n    <tr>\n      <th>36010</th>\n      <td>-30.8641</td>\n      <td>121.4995</td>\n      <td>309.1</td>\n      <td>1.8</td>\n      <td>1.3</td>\n      <td>77</td>\n      <td>290.9</td>\n      <td>23.0</td>\n      <td>N</td>\n    </tr>\n  </tbody>\n</table>\n<p>36011 rows × 9 columns</p>\n</div>"
     },
     "metadata": {},
     "execution_count": 11
    }
   ],
   "source": [
    "x_data1= data1.drop(columns=[\"index\",\"acq_date\", \"acq_time\", \"satellite\", \"instrument\", \"version\", \"fire_type\"])\n",
    "x_data1"
   ]
  },
  {
   "cell_type": "code",
   "execution_count": 76,
   "metadata": {},
   "outputs": [
    {
     "output_type": "execute_result",
     "data": {
      "text/plain": [
       "            longitude  brightness      scan     track  confidence  bright_t31  \\\n",
       "longitude    1.000000   -0.104097 -0.051840 -0.054767   -0.035529   -0.380406   \n",
       "brightness  -0.104097    1.000000 -0.105940 -0.108572    0.614691    0.606844   \n",
       "scan        -0.051840   -0.105940  1.000000  0.982484   -0.103808   -0.094356   \n",
       "track       -0.054767   -0.108572  0.982484  1.000000   -0.105949   -0.092064   \n",
       "confidence  -0.035529    0.614691 -0.103808 -0.105949    1.000000    0.238506   \n",
       "bright_t31  -0.380406    0.606844 -0.094356 -0.092064    0.238506    1.000000   \n",
       "frp          0.000449    0.661131  0.292117  0.286563    0.355388    0.216824   \n",
       "\n",
       "                 frp  \n",
       "longitude   0.000449  \n",
       "brightness  0.661131  \n",
       "scan        0.292117  \n",
       "track       0.286563  \n",
       "confidence  0.355388  \n",
       "bright_t31  0.216824  \n",
       "frp         1.000000  "
      ],
      "text/html": "<div>\n<style scoped>\n    .dataframe tbody tr th:only-of-type {\n        vertical-align: middle;\n    }\n\n    .dataframe tbody tr th {\n        vertical-align: top;\n    }\n\n    .dataframe thead th {\n        text-align: right;\n    }\n</style>\n<table border=\"1\" class=\"dataframe\">\n  <thead>\n    <tr style=\"text-align: right;\">\n      <th></th>\n      <th>longitude</th>\n      <th>brightness</th>\n      <th>scan</th>\n      <th>track</th>\n      <th>confidence</th>\n      <th>bright_t31</th>\n      <th>frp</th>\n    </tr>\n  </thead>\n  <tbody>\n    <tr>\n      <th>longitude</th>\n      <td>1.000000</td>\n      <td>-0.104097</td>\n      <td>-0.051840</td>\n      <td>-0.054767</td>\n      <td>-0.035529</td>\n      <td>-0.380406</td>\n      <td>0.000449</td>\n    </tr>\n    <tr>\n      <th>brightness</th>\n      <td>-0.104097</td>\n      <td>1.000000</td>\n      <td>-0.105940</td>\n      <td>-0.108572</td>\n      <td>0.614691</td>\n      <td>0.606844</td>\n      <td>0.661131</td>\n    </tr>\n    <tr>\n      <th>scan</th>\n      <td>-0.051840</td>\n      <td>-0.105940</td>\n      <td>1.000000</td>\n      <td>0.982484</td>\n      <td>-0.103808</td>\n      <td>-0.094356</td>\n      <td>0.292117</td>\n    </tr>\n    <tr>\n      <th>track</th>\n      <td>-0.054767</td>\n      <td>-0.108572</td>\n      <td>0.982484</td>\n      <td>1.000000</td>\n      <td>-0.105949</td>\n      <td>-0.092064</td>\n      <td>0.286563</td>\n    </tr>\n    <tr>\n      <th>confidence</th>\n      <td>-0.035529</td>\n      <td>0.614691</td>\n      <td>-0.103808</td>\n      <td>-0.105949</td>\n      <td>1.000000</td>\n      <td>0.238506</td>\n      <td>0.355388</td>\n    </tr>\n    <tr>\n      <th>bright_t31</th>\n      <td>-0.380406</td>\n      <td>0.606844</td>\n      <td>-0.094356</td>\n      <td>-0.092064</td>\n      <td>0.238506</td>\n      <td>1.000000</td>\n      <td>0.216824</td>\n    </tr>\n    <tr>\n      <th>frp</th>\n      <td>0.000449</td>\n      <td>0.661131</td>\n      <td>0.292117</td>\n      <td>0.286563</td>\n      <td>0.355388</td>\n      <td>0.216824</td>\n      <td>1.000000</td>\n    </tr>\n  </tbody>\n</table>\n</div>"
     },
     "metadata": {},
     "execution_count": 76
    }
   ],
   "source": [
    "x_data1.corr()"
   ]
  },
  {
   "cell_type": "code",
   "execution_count": 12,
   "metadata": {},
   "outputs": [
    {
     "output_type": "execute_result",
     "data": {
      "text/plain": [
       "(36011,)"
      ]
     },
     "metadata": {},
     "execution_count": 12
    }
   ],
   "source": [
    "y_data1= data1[\"fire_type\"]\n",
    "y_data1.shape"
   ]
  },
  {
   "source": [
    "Normalización latitud y longitud"
   ],
   "cell_type": "markdown",
   "metadata": {}
  },
  {
   "cell_type": "code",
   "execution_count": 15,
   "metadata": {},
   "outputs": [
    {
     "output_type": "execute_result",
     "data": {
      "text/plain": [
       "((36011, 1), (36011, 1))"
      ]
     },
     "metadata": {},
     "execution_count": 15
    }
   ],
   "source": [
    "lat= np.array(x_data1[\"latitude\"]).reshape(-1,1)\n",
    "log= np.array(x_data1[\"longitude\"]).reshape(-1,1)\n",
    "lat.shape, log.shape"
   ]
  },
  {
   "cell_type": "code",
   "execution_count": 16,
   "metadata": {},
   "outputs": [
    {
     "output_type": "execute_result",
     "data": {
      "text/plain": [
       "array([[0.94694434],\n",
       "       [0.94739096],\n",
       "       [0.91535078],\n",
       "       ...,\n",
       "       [0.44260053],\n",
       "       [0.44241699],\n",
       "       [0.3639837 ]])"
      ]
     },
     "metadata": {},
     "execution_count": 16
    }
   ],
   "source": [
    "from sklearn.preprocessing import MinMaxScaler\n",
    "\n",
    "scaler = MinMaxScaler() #Normaliza los datos de 0 a 1\n",
    "scaler.fit(lat)\n",
    "lat_normalized = scaler.transform(lat)\n",
    "lat_normalized"
   ]
  },
  {
   "cell_type": "code",
   "execution_count": 17,
   "metadata": {},
   "outputs": [
    {
     "output_type": "execute_result",
     "data": {
      "text/plain": [
       "array([[0.70974278],\n",
       "       [0.71042068],\n",
       "       [0.47656661],\n",
       "       ...,\n",
       "       [0.36581434],\n",
       "       [0.36684769],\n",
       "       [0.18776167]])"
      ]
     },
     "metadata": {},
     "execution_count": 17
    }
   ],
   "source": [
    "scaler.fit(log)\n",
    "log_normalized = scaler.transform(log)\n",
    "log_normalized"
   ]
  },
  {
   "cell_type": "code",
   "execution_count": 18,
   "metadata": {},
   "outputs": [
    {
     "output_type": "execute_result",
     "data": {
      "text/plain": [
       "(36011, 1)"
      ]
     },
     "metadata": {},
     "execution_count": 18
    }
   ],
   "source": [
    "dn= np.array(x_data1[\"daynight\"]).reshape(-1,1)\n",
    "dn.shape"
   ]
  },
  {
   "source": [
    "Transform con label encoder dynight"
   ],
   "cell_type": "markdown",
   "metadata": {}
  },
  {
   "cell_type": "code",
   "execution_count": 21,
   "metadata": {},
   "outputs": [
    {
     "output_type": "execute_result",
     "data": {
      "text/plain": [
       "array([0, 0, 0, ..., 1, 1, 1])"
      ]
     },
     "metadata": {},
     "execution_count": 21
    }
   ],
   "source": [
    "le = preprocessing.LabelEncoder()\n",
    "le.fit(dn)\n",
    "dn= le.transform(dn)\n",
    "dn"
   ]
  },
  {
   "cell_type": "code",
   "execution_count": 22,
   "metadata": {},
   "outputs": [
    {
     "output_type": "execute_result",
     "data": {
      "text/plain": [
       "       latitude  longitude  brightness  scan  track  confidence  bright_t31  \\\n",
       "0      0.946944   0.709743       313.0   1.0    1.0          48       297.3   \n",
       "1      0.947391   0.710421       319.3   1.0    1.0          71       297.3   \n",
       "2      0.915351   0.476567       311.6   3.1    1.7          42       298.7   \n",
       "3      0.866688   0.741358       310.1   1.1    1.1          33       296.1   \n",
       "4      0.925889   0.441410       310.3   4.0    1.9          36       298.8   \n",
       "...         ...        ...         ...   ...    ...         ...         ...   \n",
       "36006  0.449590   0.445058       312.7   1.2    1.1          85       292.9   \n",
       "36007  0.443567   0.366756       304.9   1.0    1.0          27       290.9   \n",
       "36008  0.442601   0.365814       301.7   1.0    1.0          43       290.4   \n",
       "36009  0.442417   0.366848       303.6   1.0    1.0          41       290.3   \n",
       "36010  0.363984   0.187762       309.1   1.8    1.3          77       290.9   \n",
       "\n",
       "        frp  daynight  \n",
       "0       6.6         0  \n",
       "1      11.3         0  \n",
       "2      23.1         0  \n",
       "3       6.5         0  \n",
       "4      27.6         0  \n",
       "...     ...       ...  \n",
       "36006  14.2         1  \n",
       "36007   6.4         1  \n",
       "36008   5.5         1  \n",
       "36009   5.7         1  \n",
       "36010  23.0         1  \n",
       "\n",
       "[36011 rows x 9 columns]"
      ],
      "text/html": "<div>\n<style scoped>\n    .dataframe tbody tr th:only-of-type {\n        vertical-align: middle;\n    }\n\n    .dataframe tbody tr th {\n        vertical-align: top;\n    }\n\n    .dataframe thead th {\n        text-align: right;\n    }\n</style>\n<table border=\"1\" class=\"dataframe\">\n  <thead>\n    <tr style=\"text-align: right;\">\n      <th></th>\n      <th>latitude</th>\n      <th>longitude</th>\n      <th>brightness</th>\n      <th>scan</th>\n      <th>track</th>\n      <th>confidence</th>\n      <th>bright_t31</th>\n      <th>frp</th>\n      <th>daynight</th>\n    </tr>\n  </thead>\n  <tbody>\n    <tr>\n      <th>0</th>\n      <td>0.946944</td>\n      <td>0.709743</td>\n      <td>313.0</td>\n      <td>1.0</td>\n      <td>1.0</td>\n      <td>48</td>\n      <td>297.3</td>\n      <td>6.6</td>\n      <td>0</td>\n    </tr>\n    <tr>\n      <th>1</th>\n      <td>0.947391</td>\n      <td>0.710421</td>\n      <td>319.3</td>\n      <td>1.0</td>\n      <td>1.0</td>\n      <td>71</td>\n      <td>297.3</td>\n      <td>11.3</td>\n      <td>0</td>\n    </tr>\n    <tr>\n      <th>2</th>\n      <td>0.915351</td>\n      <td>0.476567</td>\n      <td>311.6</td>\n      <td>3.1</td>\n      <td>1.7</td>\n      <td>42</td>\n      <td>298.7</td>\n      <td>23.1</td>\n      <td>0</td>\n    </tr>\n    <tr>\n      <th>3</th>\n      <td>0.866688</td>\n      <td>0.741358</td>\n      <td>310.1</td>\n      <td>1.1</td>\n      <td>1.1</td>\n      <td>33</td>\n      <td>296.1</td>\n      <td>6.5</td>\n      <td>0</td>\n    </tr>\n    <tr>\n      <th>4</th>\n      <td>0.925889</td>\n      <td>0.441410</td>\n      <td>310.3</td>\n      <td>4.0</td>\n      <td>1.9</td>\n      <td>36</td>\n      <td>298.8</td>\n      <td>27.6</td>\n      <td>0</td>\n    </tr>\n    <tr>\n      <th>...</th>\n      <td>...</td>\n      <td>...</td>\n      <td>...</td>\n      <td>...</td>\n      <td>...</td>\n      <td>...</td>\n      <td>...</td>\n      <td>...</td>\n      <td>...</td>\n    </tr>\n    <tr>\n      <th>36006</th>\n      <td>0.449590</td>\n      <td>0.445058</td>\n      <td>312.7</td>\n      <td>1.2</td>\n      <td>1.1</td>\n      <td>85</td>\n      <td>292.9</td>\n      <td>14.2</td>\n      <td>1</td>\n    </tr>\n    <tr>\n      <th>36007</th>\n      <td>0.443567</td>\n      <td>0.366756</td>\n      <td>304.9</td>\n      <td>1.0</td>\n      <td>1.0</td>\n      <td>27</td>\n      <td>290.9</td>\n      <td>6.4</td>\n      <td>1</td>\n    </tr>\n    <tr>\n      <th>36008</th>\n      <td>0.442601</td>\n      <td>0.365814</td>\n      <td>301.7</td>\n      <td>1.0</td>\n      <td>1.0</td>\n      <td>43</td>\n      <td>290.4</td>\n      <td>5.5</td>\n      <td>1</td>\n    </tr>\n    <tr>\n      <th>36009</th>\n      <td>0.442417</td>\n      <td>0.366848</td>\n      <td>303.6</td>\n      <td>1.0</td>\n      <td>1.0</td>\n      <td>41</td>\n      <td>290.3</td>\n      <td>5.7</td>\n      <td>1</td>\n    </tr>\n    <tr>\n      <th>36010</th>\n      <td>0.363984</td>\n      <td>0.187762</td>\n      <td>309.1</td>\n      <td>1.8</td>\n      <td>1.3</td>\n      <td>77</td>\n      <td>290.9</td>\n      <td>23.0</td>\n      <td>1</td>\n    </tr>\n  </tbody>\n</table>\n<p>36011 rows × 9 columns</p>\n</div>"
     },
     "metadata": {},
     "execution_count": 22
    }
   ],
   "source": [
    "X_1= x_data1.copy()\n",
    "X_1[\"latitude\"]= lat_normalized\n",
    "X_1[\"longitude\"]= log_normalized\n",
    "X_1[\"daynight\"]= dn\n",
    "X_1"
   ]
  },
  {
   "source": [
    "## Parte ML\n"
   ],
   "cell_type": "markdown",
   "metadata": {}
  },
  {
   "cell_type": "code",
   "execution_count": 83,
   "metadata": {},
   "outputs": [],
   "source": [
    "X_train, X_test, y_train, y_test = train_test_split(X_1, y_data1, test_size=0.2, random_state=2)"
   ]
  },
  {
   "cell_type": "code",
   "execution_count": 104,
   "metadata": {},
   "outputs": [],
   "source": [
    "pipe = Pipeline(steps=[('classifier', RandomForestClassifier())])\n",
    "\n",
    "\n",
    "logistic_params = {\n",
    "    'classifier': [LogisticRegression()]}    \n",
    "    \n",
    "\n",
    "random_forest_params = {\n",
    "    'classifier': [RandomForestClassifier()]\n",
    "    }\n",
    "\n",
    "svm_params = {\n",
    "    'classifier': [SVC()]\n",
    "    }\n",
    "knn_params = {\n",
    "    \"classifier\": [KNeighborsClassifier()]\n",
    "}\n",
    "\n",
    "XG= {\n",
    "    \"classifier\": [XGBClassifier()]\n",
    "}\n",
    "\n",
    "\n",
    "# Create space of candidate learning algorithms and their hyperparameters\n",
    "search_space = [\n",
    "    logistic_params,\n",
    "    random_forest_params,\n",
    "    svm_params,\n",
    "    knn_params, \n",
    "    XG\n",
    "    ]"
   ]
  },
  {
   "cell_type": "code",
   "execution_count": 105,
   "metadata": {},
   "outputs": [
    {
     "output_type": "stream",
     "name": "stdout",
     "text": [
      "\n############################\n\nbest estimator: LogisticRegression()\n\n############################\n\nclf.best_params_ {'classifier': LogisticRegression()}\n\n############################\n\nclf.best_score nan\n"
     ]
    }
   ],
   "source": [
    "#cv = RepeatedKFold(n_splits=10, n_repeats=1, random_state=1)#cross-validation?\n",
    "# Create grid search \n",
    "clf = GridSearchCV(estimator=pipe, param_grid=search_space, verbose=0, n_jobs=-1, scoring=\"recall\")\n",
    "\n",
    "# Fit grid search\n",
    "best_model = clf.fit(X_train, y_train)\n",
    "# View best model\n",
    "separator = \"\\n############################\\n\"\n",
    "print(separator)\n",
    "print(\"best estimator:\", best_model.best_estimator_.get_params()['classifier'])\n",
    "print(separator)\n",
    "print(\"clf.best_params_\", clf.best_params_)\n",
    "print(separator)\n",
    "# Mean cross-validated score of the best_estimator\n",
    "print(\"clf.best_score\", clf.best_score_)\n",
    "#SAVE MODEL\n",
    "# save the model to disk\n",
    "#filename = 'finished_model.sav'\n",
    "#pickle.dump(best_model, open(filename, 'wb'))"
   ]
  },
  {
   "cell_type": "code",
   "execution_count": 23,
   "metadata": {},
   "outputs": [],
   "source": [
    "X_train, X_test, y_train, y_test = train_test_split(X_1, y_data1, test_size=0.2, random_state=2)"
   ]
  },
  {
   "cell_type": "code",
   "execution_count": 84,
   "metadata": {},
   "outputs": [
    {
     "output_type": "stream",
     "name": "stdout",
     "text": [
      "[15:53:36] WARNING: C:/Users/Administrator/workspace/xgboost-win64_release_1.3.0/src/learner.cc:1061: Starting in XGBoost 1.3.0, the default evaluation metric used with the objective 'multi:softprob' was changed from 'merror' to 'mlogloss'. Explicitly set eval_metric if you'd like to restore the old behavior.\n"
     ]
    },
    {
     "output_type": "execute_result",
     "data": {
      "text/plain": [
       "XGBClassifier(base_score=0.5, booster='gbtree', colsample_bylevel=1,\n",
       "              colsample_bynode=1, colsample_bytree=1, gamma=0, gpu_id=-1,\n",
       "              importance_type='gain', interaction_constraints='',\n",
       "              learning_rate=0.300000012, max_delta_step=0, max_depth=6,\n",
       "              min_child_weight=1, missing=nan, monotone_constraints='()',\n",
       "              n_estimators=100, n_jobs=4, num_parallel_tree=1,\n",
       "              objective='multi:softprob', random_state=0, reg_alpha=0,\n",
       "              reg_lambda=1, scale_pos_weight=None, subsample=1,\n",
       "              tree_method='exact', validate_parameters=1, verbosity=None)"
      ]
     },
     "metadata": {},
     "execution_count": 84
    }
   ],
   "source": [
    "model = XGBClassifier()\n",
    "model.fit(X_train, y_train)"
   ]
  },
  {
   "cell_type": "code",
   "execution_count": 85,
   "metadata": {},
   "outputs": [
    {
     "output_type": "execute_result",
     "data": {
      "text/plain": [
       "1.0"
      ]
     },
     "metadata": {},
     "execution_count": 85
    }
   ],
   "source": [
    "model.score(X_train,y_train)"
   ]
  },
  {
   "source": [
    "To predict"
   ],
   "cell_type": "markdown",
   "metadata": {}
  },
  {
   "cell_type": "code",
   "execution_count": 27,
   "metadata": {},
   "outputs": [],
   "source": [
    "def choose_x_y(df, col_name, col_name2, col_name3, col_name4, col_name5, col_name6, target_col=None):\n",
    "    x_data= df.drop(columns=[col_name,col_name2, col_name3, col_name4, col_name5, col_name6])\n",
    "    if target_col:\n",
    "        y_data = df[target_col]\n",
    "        return x_data, y_data\n",
    "    else:\n",
    "        return x_data"
   ]
  },
  {
   "cell_type": "code",
   "execution_count": 28,
   "metadata": {},
   "outputs": [
    {
     "output_type": "execute_result",
     "data": {
      "text/plain": [
       "       latitude  longitude  brightness  scan  track  confidence  bright_t31  \\\n",
       "0       -14.281    143.636       323.9   1.7    1.3          70       302.3   \n",
       "1       -14.284    143.532       343.5   1.7    1.3          90       306.3   \n",
       "2       -14.302    143.706       320.2   1.7    1.3          30       305.0   \n",
       "3       -14.283    143.652       320.4   1.7    1.3          57       303.3   \n",
       "4       -14.285    143.521       349.4   1.7    1.3          94       304.7   \n",
       "...         ...        ...         ...   ...    ...         ...         ...   \n",
       "183588  -32.675    122.113       300.5   2.4    1.5          19       289.3   \n",
       "183589  -16.708    129.646       300.5   1.0    1.0          16       280.8   \n",
       "183590  -16.747    129.653       301.8   1.0    1.0          23       277.9   \n",
       "183591  -32.484    121.319       306.5   1.4    1.2          68       291.9   \n",
       "183592  -30.858    121.500       300.7   1.4    1.2          32       290.5   \n",
       "\n",
       "          frp daynight  \n",
       "0        26.8        D  \n",
       "1        84.3        D  \n",
       "2        14.1        D  \n",
       "3        18.4        D  \n",
       "4       110.7        D  \n",
       "...       ...      ...  \n",
       "183588   15.3        N  \n",
       "183589    2.9        N  \n",
       "183590    3.7        N  \n",
       "183591   11.6        N  \n",
       "183592    6.8        N  \n",
       "\n",
       "[183593 rows x 9 columns]"
      ],
      "text/html": "<div>\n<style scoped>\n    .dataframe tbody tr th:only-of-type {\n        vertical-align: middle;\n    }\n\n    .dataframe tbody tr th {\n        vertical-align: top;\n    }\n\n    .dataframe thead th {\n        text-align: right;\n    }\n</style>\n<table border=\"1\" class=\"dataframe\">\n  <thead>\n    <tr style=\"text-align: right;\">\n      <th></th>\n      <th>latitude</th>\n      <th>longitude</th>\n      <th>brightness</th>\n      <th>scan</th>\n      <th>track</th>\n      <th>confidence</th>\n      <th>bright_t31</th>\n      <th>frp</th>\n      <th>daynight</th>\n    </tr>\n  </thead>\n  <tbody>\n    <tr>\n      <th>0</th>\n      <td>-14.281</td>\n      <td>143.636</td>\n      <td>323.9</td>\n      <td>1.7</td>\n      <td>1.3</td>\n      <td>70</td>\n      <td>302.3</td>\n      <td>26.8</td>\n      <td>D</td>\n    </tr>\n    <tr>\n      <th>1</th>\n      <td>-14.284</td>\n      <td>143.532</td>\n      <td>343.5</td>\n      <td>1.7</td>\n      <td>1.3</td>\n      <td>90</td>\n      <td>306.3</td>\n      <td>84.3</td>\n      <td>D</td>\n    </tr>\n    <tr>\n      <th>2</th>\n      <td>-14.302</td>\n      <td>143.706</td>\n      <td>320.2</td>\n      <td>1.7</td>\n      <td>1.3</td>\n      <td>30</td>\n      <td>305.0</td>\n      <td>14.1</td>\n      <td>D</td>\n    </tr>\n    <tr>\n      <th>3</th>\n      <td>-14.283</td>\n      <td>143.652</td>\n      <td>320.4</td>\n      <td>1.7</td>\n      <td>1.3</td>\n      <td>57</td>\n      <td>303.3</td>\n      <td>18.4</td>\n      <td>D</td>\n    </tr>\n    <tr>\n      <th>4</th>\n      <td>-14.285</td>\n      <td>143.521</td>\n      <td>349.4</td>\n      <td>1.7</td>\n      <td>1.3</td>\n      <td>94</td>\n      <td>304.7</td>\n      <td>110.7</td>\n      <td>D</td>\n    </tr>\n    <tr>\n      <th>...</th>\n      <td>...</td>\n      <td>...</td>\n      <td>...</td>\n      <td>...</td>\n      <td>...</td>\n      <td>...</td>\n      <td>...</td>\n      <td>...</td>\n      <td>...</td>\n    </tr>\n    <tr>\n      <th>183588</th>\n      <td>-32.675</td>\n      <td>122.113</td>\n      <td>300.5</td>\n      <td>2.4</td>\n      <td>1.5</td>\n      <td>19</td>\n      <td>289.3</td>\n      <td>15.3</td>\n      <td>N</td>\n    </tr>\n    <tr>\n      <th>183589</th>\n      <td>-16.708</td>\n      <td>129.646</td>\n      <td>300.5</td>\n      <td>1.0</td>\n      <td>1.0</td>\n      <td>16</td>\n      <td>280.8</td>\n      <td>2.9</td>\n      <td>N</td>\n    </tr>\n    <tr>\n      <th>183590</th>\n      <td>-16.747</td>\n      <td>129.653</td>\n      <td>301.8</td>\n      <td>1.0</td>\n      <td>1.0</td>\n      <td>23</td>\n      <td>277.9</td>\n      <td>3.7</td>\n      <td>N</td>\n    </tr>\n    <tr>\n      <th>183591</th>\n      <td>-32.484</td>\n      <td>121.319</td>\n      <td>306.5</td>\n      <td>1.4</td>\n      <td>1.2</td>\n      <td>68</td>\n      <td>291.9</td>\n      <td>11.6</td>\n      <td>N</td>\n    </tr>\n    <tr>\n      <th>183592</th>\n      <td>-30.858</td>\n      <td>121.500</td>\n      <td>300.7</td>\n      <td>1.4</td>\n      <td>1.2</td>\n      <td>32</td>\n      <td>290.5</td>\n      <td>6.8</td>\n      <td>N</td>\n    </tr>\n  </tbody>\n</table>\n<p>183593 rows × 9 columns</p>\n</div>"
     },
     "metadata": {},
     "execution_count": 28
    }
   ],
   "source": [
    "x_test_data= choose_x_y(df= data3,col_name= \"index\",col_name2=\"acq_date\", col_name3=\"acq_time\",col_name4= \"satellite\", col_name5=\"instrument\", col_name6=\"version\")\n",
    "x_test_data"
   ]
  },
  {
   "cell_type": "code",
   "execution_count": 29,
   "metadata": {},
   "outputs": [],
   "source": [
    "def encoder(label):\n",
    "    le = preprocessing.LabelEncoder()\n",
    "    le.fit(label)\n",
    "    lb= le.transform(label)\n",
    "    return lb"
   ]
  },
  {
   "cell_type": "code",
   "execution_count": 30,
   "metadata": {},
   "outputs": [],
   "source": [
    "dyng= encoder(label= np.array(x_test_data[\"daynight\"]).reshape(-1,1))"
   ]
  },
  {
   "cell_type": "code",
   "execution_count": 31,
   "metadata": {},
   "outputs": [],
   "source": [
    "def normalize(x):\n",
    "    scaler = MinMaxScaler() \n",
    "    scaler.fit(x)\n",
    "    x_normalized = scaler.transform(x)\n",
    "    return x_normalized"
   ]
  },
  {
   "cell_type": "code",
   "execution_count": 32,
   "metadata": {},
   "outputs": [],
   "source": [
    "x_lat_test= normalize(x=np.array(x_test_data[\"latitude\"]).reshape(-1,1))\n",
    "x_log_test= normalize(x= np.array(x_test_data[\"longitude\"]).reshape(-1,1))"
   ]
  },
  {
   "cell_type": "code",
   "execution_count": 86,
   "metadata": {},
   "outputs": [
    {
     "output_type": "execute_result",
     "data": {
      "text/plain": [
       "        latitude  longitude  brightness  scan  track  confidence  bright_t31  \\\n",
       "0       0.854902   0.754092       323.9   1.7    1.3          70       302.3   \n",
       "1       0.854813   0.751493       343.5   1.7    1.3          90       306.3   \n",
       "2       0.854280   0.755841       320.2   1.7    1.3          30       305.0   \n",
       "3       0.854843   0.754492       320.4   1.7    1.3          57       303.3   \n",
       "4       0.854784   0.751218       349.4   1.7    1.3          94       304.7   \n",
       "...          ...        ...         ...   ...    ...         ...         ...   \n",
       "183588  0.309556   0.216272       300.5   2.4    1.5          19       289.3   \n",
       "183589  0.782946   0.404508       300.5   1.0    1.0          16       280.8   \n",
       "183590  0.781790   0.404683       301.8   1.0    1.0          23       277.9   \n",
       "183591  0.315218   0.196432       306.5   1.4    1.2          68       291.9   \n",
       "183592  0.363426   0.200955       300.7   1.4    1.2          32       290.5   \n",
       "\n",
       "          frp  daynight  \n",
       "0        26.8         0  \n",
       "1        84.3         0  \n",
       "2        14.1         0  \n",
       "3        18.4         0  \n",
       "4       110.7         0  \n",
       "...       ...       ...  \n",
       "183588   15.3         1  \n",
       "183589    2.9         1  \n",
       "183590    3.7         1  \n",
       "183591   11.6         1  \n",
       "183592    6.8         1  \n",
       "\n",
       "[183593 rows x 9 columns]"
      ],
      "text/html": "<div>\n<style scoped>\n    .dataframe tbody tr th:only-of-type {\n        vertical-align: middle;\n    }\n\n    .dataframe tbody tr th {\n        vertical-align: top;\n    }\n\n    .dataframe thead th {\n        text-align: right;\n    }\n</style>\n<table border=\"1\" class=\"dataframe\">\n  <thead>\n    <tr style=\"text-align: right;\">\n      <th></th>\n      <th>latitude</th>\n      <th>longitude</th>\n      <th>brightness</th>\n      <th>scan</th>\n      <th>track</th>\n      <th>confidence</th>\n      <th>bright_t31</th>\n      <th>frp</th>\n      <th>daynight</th>\n    </tr>\n  </thead>\n  <tbody>\n    <tr>\n      <th>0</th>\n      <td>0.854902</td>\n      <td>0.754092</td>\n      <td>323.9</td>\n      <td>1.7</td>\n      <td>1.3</td>\n      <td>70</td>\n      <td>302.3</td>\n      <td>26.8</td>\n      <td>0</td>\n    </tr>\n    <tr>\n      <th>1</th>\n      <td>0.854813</td>\n      <td>0.751493</td>\n      <td>343.5</td>\n      <td>1.7</td>\n      <td>1.3</td>\n      <td>90</td>\n      <td>306.3</td>\n      <td>84.3</td>\n      <td>0</td>\n    </tr>\n    <tr>\n      <th>2</th>\n      <td>0.854280</td>\n      <td>0.755841</td>\n      <td>320.2</td>\n      <td>1.7</td>\n      <td>1.3</td>\n      <td>30</td>\n      <td>305.0</td>\n      <td>14.1</td>\n      <td>0</td>\n    </tr>\n    <tr>\n      <th>3</th>\n      <td>0.854843</td>\n      <td>0.754492</td>\n      <td>320.4</td>\n      <td>1.7</td>\n      <td>1.3</td>\n      <td>57</td>\n      <td>303.3</td>\n      <td>18.4</td>\n      <td>0</td>\n    </tr>\n    <tr>\n      <th>4</th>\n      <td>0.854784</td>\n      <td>0.751218</td>\n      <td>349.4</td>\n      <td>1.7</td>\n      <td>1.3</td>\n      <td>94</td>\n      <td>304.7</td>\n      <td>110.7</td>\n      <td>0</td>\n    </tr>\n    <tr>\n      <th>...</th>\n      <td>...</td>\n      <td>...</td>\n      <td>...</td>\n      <td>...</td>\n      <td>...</td>\n      <td>...</td>\n      <td>...</td>\n      <td>...</td>\n      <td>...</td>\n    </tr>\n    <tr>\n      <th>183588</th>\n      <td>0.309556</td>\n      <td>0.216272</td>\n      <td>300.5</td>\n      <td>2.4</td>\n      <td>1.5</td>\n      <td>19</td>\n      <td>289.3</td>\n      <td>15.3</td>\n      <td>1</td>\n    </tr>\n    <tr>\n      <th>183589</th>\n      <td>0.782946</td>\n      <td>0.404508</td>\n      <td>300.5</td>\n      <td>1.0</td>\n      <td>1.0</td>\n      <td>16</td>\n      <td>280.8</td>\n      <td>2.9</td>\n      <td>1</td>\n    </tr>\n    <tr>\n      <th>183590</th>\n      <td>0.781790</td>\n      <td>0.404683</td>\n      <td>301.8</td>\n      <td>1.0</td>\n      <td>1.0</td>\n      <td>23</td>\n      <td>277.9</td>\n      <td>3.7</td>\n      <td>1</td>\n    </tr>\n    <tr>\n      <th>183591</th>\n      <td>0.315218</td>\n      <td>0.196432</td>\n      <td>306.5</td>\n      <td>1.4</td>\n      <td>1.2</td>\n      <td>68</td>\n      <td>291.9</td>\n      <td>11.6</td>\n      <td>1</td>\n    </tr>\n    <tr>\n      <th>183592</th>\n      <td>0.363426</td>\n      <td>0.200955</td>\n      <td>300.7</td>\n      <td>1.4</td>\n      <td>1.2</td>\n      <td>32</td>\n      <td>290.5</td>\n      <td>6.8</td>\n      <td>1</td>\n    </tr>\n  </tbody>\n</table>\n<p>183593 rows × 9 columns</p>\n</div>"
     },
     "metadata": {},
     "execution_count": 86
    }
   ],
   "source": [
    "X_pred= x_test_data.copy()\n",
    "X_pred[\"latitude\"]= x_lat_test\n",
    "X_pred[\"longitude\"]= x_log_test\n",
    "X_pred[\"daynight\"]= dyng\n",
    "X_pred"
   ]
  },
  {
   "cell_type": "code",
   "execution_count": 89,
   "metadata": {},
   "outputs": [
    {
     "output_type": "execute_result",
     "data": {
      "text/plain": [
       "(183593,)"
      ]
     },
     "metadata": {},
     "execution_count": 89
    }
   ],
   "source": [
    "y_pred_xb= model.predict(X_pred)\n",
    "y_pred_xb.shape"
   ]
  },
  {
   "cell_type": "code",
   "execution_count": 44,
   "metadata": {},
   "outputs": [
    {
     "output_type": "execute_result",
     "data": {
      "text/plain": [
       "        0\n",
       "0       0\n",
       "1       0\n",
       "2       0\n",
       "3       0\n",
       "4       0\n",
       "...    ..\n",
       "183588  0\n",
       "183589  0\n",
       "183590  0\n",
       "183591  0\n",
       "183592  0\n",
       "\n",
       "[183593 rows x 1 columns]"
      ],
      "text/html": "<div>\n<style scoped>\n    .dataframe tbody tr th:only-of-type {\n        vertical-align: middle;\n    }\n\n    .dataframe tbody tr th {\n        vertical-align: top;\n    }\n\n    .dataframe thead th {\n        text-align: right;\n    }\n</style>\n<table border=\"1\" class=\"dataframe\">\n  <thead>\n    <tr style=\"text-align: right;\">\n      <th></th>\n      <th>0</th>\n    </tr>\n  </thead>\n  <tbody>\n    <tr>\n      <th>0</th>\n      <td>0</td>\n    </tr>\n    <tr>\n      <th>1</th>\n      <td>0</td>\n    </tr>\n    <tr>\n      <th>2</th>\n      <td>0</td>\n    </tr>\n    <tr>\n      <th>3</th>\n      <td>0</td>\n    </tr>\n    <tr>\n      <th>4</th>\n      <td>0</td>\n    </tr>\n    <tr>\n      <th>...</th>\n      <td>...</td>\n    </tr>\n    <tr>\n      <th>183588</th>\n      <td>0</td>\n    </tr>\n    <tr>\n      <th>183589</th>\n      <td>0</td>\n    </tr>\n    <tr>\n      <th>183590</th>\n      <td>0</td>\n    </tr>\n    <tr>\n      <th>183591</th>\n      <td>0</td>\n    </tr>\n    <tr>\n      <th>183592</th>\n      <td>0</td>\n    </tr>\n  </tbody>\n</table>\n<p>183593 rows × 1 columns</p>\n</div>"
     },
     "metadata": {},
     "execution_count": 44
    }
   ],
   "source": [
    "prueba= pd.DataFrame(y_pred)\n",
    "prueba"
   ]
  },
  {
   "cell_type": "code",
   "execution_count": 47,
   "metadata": {},
   "outputs": [
    {
     "output_type": "execute_result",
     "data": {
      "text/plain": [
       "0    183266\n",
       "2       324\n",
       "3         3\n",
       "Name: y_pred, dtype: int64"
      ]
     },
     "metadata": {},
     "execution_count": 47
    }
   ],
   "source": [
    "prueba= prueba.rename(columns={0:\"y_pred\"})\n",
    "prueba.y_pred.value_counts()"
   ]
  },
  {
   "cell_type": "code",
   "execution_count": 90,
   "metadata": {},
   "outputs": [
    {
     "output_type": "error",
     "ename": "ValueError",
     "evalue": "Found input variables with inconsistent numbers of samples: [7203, 183593]",
     "traceback": [
      "\u001b[1;31m---------------------------------------------------------------------------\u001b[0m",
      "\u001b[1;31mValueError\u001b[0m                                Traceback (most recent call last)",
      "\u001b[1;32m<ipython-input-90-d4feb350a2f9>\u001b[0m in \u001b[0;36m<module>\u001b[1;34m\u001b[0m\n\u001b[0;32m      1\u001b[0m \u001b[0mscore_xgb\u001b[0m\u001b[1;33m=\u001b[0m \u001b[0mmodel\u001b[0m\u001b[1;33m.\u001b[0m\u001b[0mscore\u001b[0m\u001b[1;33m(\u001b[0m\u001b[0mX_pred\u001b[0m\u001b[1;33m,\u001b[0m\u001b[0my_pred_xb\u001b[0m\u001b[1;33m)\u001b[0m\u001b[1;33m\u001b[0m\u001b[1;33m\u001b[0m\u001b[0m\n\u001b[1;32m----> 2\u001b[1;33m \u001b[0mrecall_score\u001b[0m\u001b[1;33m(\u001b[0m\u001b[0my_test\u001b[0m\u001b[1;33m,\u001b[0m\u001b[0my_pred_xb\u001b[0m\u001b[1;33m,\u001b[0m \u001b[0maverage\u001b[0m\u001b[1;33m=\u001b[0m\u001b[1;34m\"micro\"\u001b[0m\u001b[1;33m)\u001b[0m\u001b[1;33m\u001b[0m\u001b[1;33m\u001b[0m\u001b[0m\n\u001b[0m",
      "\u001b[1;32m~\\AppData\\Local\\Programs\\Python\\Python39\\lib\\site-packages\\sklearn\\utils\\validation.py\u001b[0m in \u001b[0;36minner_f\u001b[1;34m(*args, **kwargs)\u001b[0m\n\u001b[0;32m     61\u001b[0m             \u001b[0mextra_args\u001b[0m \u001b[1;33m=\u001b[0m \u001b[0mlen\u001b[0m\u001b[1;33m(\u001b[0m\u001b[0margs\u001b[0m\u001b[1;33m)\u001b[0m \u001b[1;33m-\u001b[0m \u001b[0mlen\u001b[0m\u001b[1;33m(\u001b[0m\u001b[0mall_args\u001b[0m\u001b[1;33m)\u001b[0m\u001b[1;33m\u001b[0m\u001b[1;33m\u001b[0m\u001b[0m\n\u001b[0;32m     62\u001b[0m             \u001b[1;32mif\u001b[0m \u001b[0mextra_args\u001b[0m \u001b[1;33m<=\u001b[0m \u001b[1;36m0\u001b[0m\u001b[1;33m:\u001b[0m\u001b[1;33m\u001b[0m\u001b[1;33m\u001b[0m\u001b[0m\n\u001b[1;32m---> 63\u001b[1;33m                 \u001b[1;32mreturn\u001b[0m \u001b[0mf\u001b[0m\u001b[1;33m(\u001b[0m\u001b[1;33m*\u001b[0m\u001b[0margs\u001b[0m\u001b[1;33m,\u001b[0m \u001b[1;33m**\u001b[0m\u001b[0mkwargs\u001b[0m\u001b[1;33m)\u001b[0m\u001b[1;33m\u001b[0m\u001b[1;33m\u001b[0m\u001b[0m\n\u001b[0m\u001b[0;32m     64\u001b[0m \u001b[1;33m\u001b[0m\u001b[0m\n\u001b[0;32m     65\u001b[0m             \u001b[1;31m# extra_args > 0\u001b[0m\u001b[1;33m\u001b[0m\u001b[1;33m\u001b[0m\u001b[1;33m\u001b[0m\u001b[0m\n",
      "\u001b[1;32m~\\AppData\\Local\\Programs\\Python\\Python39\\lib\\site-packages\\sklearn\\metrics\\_classification.py\u001b[0m in \u001b[0;36mrecall_score\u001b[1;34m(y_true, y_pred, labels, pos_label, average, sample_weight, zero_division)\u001b[0m\n\u001b[0;32m   1769\u001b[0m     \u001b[0marray\u001b[0m\u001b[1;33m(\u001b[0m\u001b[1;33m[\u001b[0m\u001b[1;36m0.5\u001b[0m\u001b[1;33m,\u001b[0m \u001b[1;36m1.\u001b[0m \u001b[1;33m,\u001b[0m \u001b[1;36m1.\u001b[0m \u001b[1;33m]\u001b[0m\u001b[1;33m)\u001b[0m\u001b[1;33m\u001b[0m\u001b[1;33m\u001b[0m\u001b[0m\n\u001b[0;32m   1770\u001b[0m     \"\"\"\n\u001b[1;32m-> 1771\u001b[1;33m     _, r, _, _ = precision_recall_fscore_support(y_true, y_pred,\n\u001b[0m\u001b[0;32m   1772\u001b[0m                                                  \u001b[0mlabels\u001b[0m\u001b[1;33m=\u001b[0m\u001b[0mlabels\u001b[0m\u001b[1;33m,\u001b[0m\u001b[1;33m\u001b[0m\u001b[1;33m\u001b[0m\u001b[0m\n\u001b[0;32m   1773\u001b[0m                                                  \u001b[0mpos_label\u001b[0m\u001b[1;33m=\u001b[0m\u001b[0mpos_label\u001b[0m\u001b[1;33m,\u001b[0m\u001b[1;33m\u001b[0m\u001b[1;33m\u001b[0m\u001b[0m\n",
      "\u001b[1;32m~\\AppData\\Local\\Programs\\Python\\Python39\\lib\\site-packages\\sklearn\\utils\\validation.py\u001b[0m in \u001b[0;36minner_f\u001b[1;34m(*args, **kwargs)\u001b[0m\n\u001b[0;32m     61\u001b[0m             \u001b[0mextra_args\u001b[0m \u001b[1;33m=\u001b[0m \u001b[0mlen\u001b[0m\u001b[1;33m(\u001b[0m\u001b[0margs\u001b[0m\u001b[1;33m)\u001b[0m \u001b[1;33m-\u001b[0m \u001b[0mlen\u001b[0m\u001b[1;33m(\u001b[0m\u001b[0mall_args\u001b[0m\u001b[1;33m)\u001b[0m\u001b[1;33m\u001b[0m\u001b[1;33m\u001b[0m\u001b[0m\n\u001b[0;32m     62\u001b[0m             \u001b[1;32mif\u001b[0m \u001b[0mextra_args\u001b[0m \u001b[1;33m<=\u001b[0m \u001b[1;36m0\u001b[0m\u001b[1;33m:\u001b[0m\u001b[1;33m\u001b[0m\u001b[1;33m\u001b[0m\u001b[0m\n\u001b[1;32m---> 63\u001b[1;33m                 \u001b[1;32mreturn\u001b[0m \u001b[0mf\u001b[0m\u001b[1;33m(\u001b[0m\u001b[1;33m*\u001b[0m\u001b[0margs\u001b[0m\u001b[1;33m,\u001b[0m \u001b[1;33m**\u001b[0m\u001b[0mkwargs\u001b[0m\u001b[1;33m)\u001b[0m\u001b[1;33m\u001b[0m\u001b[1;33m\u001b[0m\u001b[0m\n\u001b[0m\u001b[0;32m     64\u001b[0m \u001b[1;33m\u001b[0m\u001b[0m\n\u001b[0;32m     65\u001b[0m             \u001b[1;31m# extra_args > 0\u001b[0m\u001b[1;33m\u001b[0m\u001b[1;33m\u001b[0m\u001b[1;33m\u001b[0m\u001b[0m\n",
      "\u001b[1;32m~\\AppData\\Local\\Programs\\Python\\Python39\\lib\\site-packages\\sklearn\\metrics\\_classification.py\u001b[0m in \u001b[0;36mprecision_recall_fscore_support\u001b[1;34m(y_true, y_pred, beta, labels, pos_label, average, warn_for, sample_weight, zero_division)\u001b[0m\n\u001b[0;32m   1459\u001b[0m     \u001b[1;32mif\u001b[0m \u001b[0mbeta\u001b[0m \u001b[1;33m<\u001b[0m \u001b[1;36m0\u001b[0m\u001b[1;33m:\u001b[0m\u001b[1;33m\u001b[0m\u001b[1;33m\u001b[0m\u001b[0m\n\u001b[0;32m   1460\u001b[0m         \u001b[1;32mraise\u001b[0m \u001b[0mValueError\u001b[0m\u001b[1;33m(\u001b[0m\u001b[1;34m\"beta should be >=0 in the F-beta score\"\u001b[0m\u001b[1;33m)\u001b[0m\u001b[1;33m\u001b[0m\u001b[1;33m\u001b[0m\u001b[0m\n\u001b[1;32m-> 1461\u001b[1;33m     labels = _check_set_wise_labels(y_true, y_pred, average, labels,\n\u001b[0m\u001b[0;32m   1462\u001b[0m                                     pos_label)\n\u001b[0;32m   1463\u001b[0m \u001b[1;33m\u001b[0m\u001b[0m\n",
      "\u001b[1;32m~\\AppData\\Local\\Programs\\Python\\Python39\\lib\\site-packages\\sklearn\\metrics\\_classification.py\u001b[0m in \u001b[0;36m_check_set_wise_labels\u001b[1;34m(y_true, y_pred, average, labels, pos_label)\u001b[0m\n\u001b[0;32m   1272\u001b[0m                          str(average_options))\n\u001b[0;32m   1273\u001b[0m \u001b[1;33m\u001b[0m\u001b[0m\n\u001b[1;32m-> 1274\u001b[1;33m     \u001b[0my_type\u001b[0m\u001b[1;33m,\u001b[0m \u001b[0my_true\u001b[0m\u001b[1;33m,\u001b[0m \u001b[0my_pred\u001b[0m \u001b[1;33m=\u001b[0m \u001b[0m_check_targets\u001b[0m\u001b[1;33m(\u001b[0m\u001b[0my_true\u001b[0m\u001b[1;33m,\u001b[0m \u001b[0my_pred\u001b[0m\u001b[1;33m)\u001b[0m\u001b[1;33m\u001b[0m\u001b[1;33m\u001b[0m\u001b[0m\n\u001b[0m\u001b[0;32m   1275\u001b[0m     \u001b[1;31m# Convert to Python primitive type to avoid NumPy type / Python str\u001b[0m\u001b[1;33m\u001b[0m\u001b[1;33m\u001b[0m\u001b[1;33m\u001b[0m\u001b[0m\n\u001b[0;32m   1276\u001b[0m     \u001b[1;31m# comparison. See https://github.com/numpy/numpy/issues/6784\u001b[0m\u001b[1;33m\u001b[0m\u001b[1;33m\u001b[0m\u001b[1;33m\u001b[0m\u001b[0m\n",
      "\u001b[1;32m~\\AppData\\Local\\Programs\\Python\\Python39\\lib\\site-packages\\sklearn\\metrics\\_classification.py\u001b[0m in \u001b[0;36m_check_targets\u001b[1;34m(y_true, y_pred)\u001b[0m\n\u001b[0;32m     81\u001b[0m     \u001b[0my_pred\u001b[0m \u001b[1;33m:\u001b[0m \u001b[0marray\u001b[0m \u001b[1;32mor\u001b[0m \u001b[0mindicator\u001b[0m \u001b[0mmatrix\u001b[0m\u001b[1;33m\u001b[0m\u001b[1;33m\u001b[0m\u001b[0m\n\u001b[0;32m     82\u001b[0m     \"\"\"\n\u001b[1;32m---> 83\u001b[1;33m     \u001b[0mcheck_consistent_length\u001b[0m\u001b[1;33m(\u001b[0m\u001b[0my_true\u001b[0m\u001b[1;33m,\u001b[0m \u001b[0my_pred\u001b[0m\u001b[1;33m)\u001b[0m\u001b[1;33m\u001b[0m\u001b[1;33m\u001b[0m\u001b[0m\n\u001b[0m\u001b[0;32m     84\u001b[0m     \u001b[0mtype_true\u001b[0m \u001b[1;33m=\u001b[0m \u001b[0mtype_of_target\u001b[0m\u001b[1;33m(\u001b[0m\u001b[0my_true\u001b[0m\u001b[1;33m)\u001b[0m\u001b[1;33m\u001b[0m\u001b[1;33m\u001b[0m\u001b[0m\n\u001b[0;32m     85\u001b[0m     \u001b[0mtype_pred\u001b[0m \u001b[1;33m=\u001b[0m \u001b[0mtype_of_target\u001b[0m\u001b[1;33m(\u001b[0m\u001b[0my_pred\u001b[0m\u001b[1;33m)\u001b[0m\u001b[1;33m\u001b[0m\u001b[1;33m\u001b[0m\u001b[0m\n",
      "\u001b[1;32m~\\AppData\\Local\\Programs\\Python\\Python39\\lib\\site-packages\\sklearn\\utils\\validation.py\u001b[0m in \u001b[0;36mcheck_consistent_length\u001b[1;34m(*arrays)\u001b[0m\n\u001b[0;32m    260\u001b[0m     \u001b[0muniques\u001b[0m \u001b[1;33m=\u001b[0m \u001b[0mnp\u001b[0m\u001b[1;33m.\u001b[0m\u001b[0munique\u001b[0m\u001b[1;33m(\u001b[0m\u001b[0mlengths\u001b[0m\u001b[1;33m)\u001b[0m\u001b[1;33m\u001b[0m\u001b[1;33m\u001b[0m\u001b[0m\n\u001b[0;32m    261\u001b[0m     \u001b[1;32mif\u001b[0m \u001b[0mlen\u001b[0m\u001b[1;33m(\u001b[0m\u001b[0muniques\u001b[0m\u001b[1;33m)\u001b[0m \u001b[1;33m>\u001b[0m \u001b[1;36m1\u001b[0m\u001b[1;33m:\u001b[0m\u001b[1;33m\u001b[0m\u001b[1;33m\u001b[0m\u001b[0m\n\u001b[1;32m--> 262\u001b[1;33m         raise ValueError(\"Found input variables with inconsistent numbers of\"\n\u001b[0m\u001b[0;32m    263\u001b[0m                          \" samples: %r\" % [int(l) for l in lengths])\n\u001b[0;32m    264\u001b[0m \u001b[1;33m\u001b[0m\u001b[0m\n",
      "\u001b[1;31mValueError\u001b[0m: Found input variables with inconsistent numbers of samples: [7203, 183593]"
     ]
    }
   ],
   "source": [
    "score_xgb= model.score(X_pred,y_pred_xb)\n",
    "recall_score(y_test,y_pred_xb, average=\"micro\")"
   ]
  },
  {
   "source": [
    "Random Forest Classifier"
   ],
   "cell_type": "markdown",
   "metadata": {}
  },
  {
   "cell_type": "code",
   "execution_count": 91,
   "metadata": {},
   "outputs": [
    {
     "output_type": "execute_result",
     "data": {
      "text/plain": [
       "RandomForestClassifier()"
      ]
     },
     "metadata": {},
     "execution_count": 91
    }
   ],
   "source": [
    "model_rfc= RandomForestClassifier()\n",
    "model_rfc.fit(X_train, y_train)"
   ]
  },
  {
   "cell_type": "code",
   "execution_count": 92,
   "metadata": {},
   "outputs": [
    {
     "output_type": "execute_result",
     "data": {
      "text/plain": [
       "1.0"
      ]
     },
     "metadata": {},
     "execution_count": 92
    }
   ],
   "source": [
    "model_rfc.score(X_train, y_train)"
   ]
  },
  {
   "cell_type": "code",
   "execution_count": 61,
   "metadata": {},
   "outputs": [],
   "source": [
    "y_pred_rdc= model_rfc.predict(X_test)"
   ]
  },
  {
   "cell_type": "code",
   "execution_count": 63,
   "metadata": {},
   "outputs": [
    {
     "output_type": "execute_result",
     "data": {
      "text/plain": [
       "1.0"
      ]
     },
     "metadata": {},
     "execution_count": 63
    }
   ],
   "source": [
    "model_rfc.score(X_test,y_pred_test)"
   ]
  },
  {
   "cell_type": "code",
   "execution_count": 93,
   "metadata": {},
   "outputs": [],
   "source": [
    "to_pred_rfc= model_rfc.predict(X_pred)\n",
    "score_rfc= model.score(X_pred,to_pred_rfc)"
   ]
  },
  {
   "cell_type": "code",
   "execution_count": 94,
   "metadata": {},
   "outputs": [
    {
     "output_type": "error",
     "ename": "ValueError",
     "evalue": "Found input variables with inconsistent numbers of samples: [7203, 183593]",
     "traceback": [
      "\u001b[1;31m---------------------------------------------------------------------------\u001b[0m",
      "\u001b[1;31mValueError\u001b[0m                                Traceback (most recent call last)",
      "\u001b[1;32m<ipython-input-94-dd65b49eabe1>\u001b[0m in \u001b[0;36m<module>\u001b[1;34m\u001b[0m\n\u001b[1;32m----> 1\u001b[1;33m \u001b[0mrecall_score\u001b[0m\u001b[1;33m(\u001b[0m\u001b[0my_test\u001b[0m\u001b[1;33m,\u001b[0m \u001b[0mto_pred_rfc\u001b[0m\u001b[1;33m,\u001b[0m \u001b[0maverage\u001b[0m\u001b[1;33m=\u001b[0m\u001b[1;34m\"micro\"\u001b[0m\u001b[1;33m)\u001b[0m\u001b[1;33m\u001b[0m\u001b[1;33m\u001b[0m\u001b[0m\n\u001b[0m",
      "\u001b[1;32m~\\AppData\\Local\\Programs\\Python\\Python39\\lib\\site-packages\\sklearn\\utils\\validation.py\u001b[0m in \u001b[0;36minner_f\u001b[1;34m(*args, **kwargs)\u001b[0m\n\u001b[0;32m     61\u001b[0m             \u001b[0mextra_args\u001b[0m \u001b[1;33m=\u001b[0m \u001b[0mlen\u001b[0m\u001b[1;33m(\u001b[0m\u001b[0margs\u001b[0m\u001b[1;33m)\u001b[0m \u001b[1;33m-\u001b[0m \u001b[0mlen\u001b[0m\u001b[1;33m(\u001b[0m\u001b[0mall_args\u001b[0m\u001b[1;33m)\u001b[0m\u001b[1;33m\u001b[0m\u001b[1;33m\u001b[0m\u001b[0m\n\u001b[0;32m     62\u001b[0m             \u001b[1;32mif\u001b[0m \u001b[0mextra_args\u001b[0m \u001b[1;33m<=\u001b[0m \u001b[1;36m0\u001b[0m\u001b[1;33m:\u001b[0m\u001b[1;33m\u001b[0m\u001b[1;33m\u001b[0m\u001b[0m\n\u001b[1;32m---> 63\u001b[1;33m                 \u001b[1;32mreturn\u001b[0m \u001b[0mf\u001b[0m\u001b[1;33m(\u001b[0m\u001b[1;33m*\u001b[0m\u001b[0margs\u001b[0m\u001b[1;33m,\u001b[0m \u001b[1;33m**\u001b[0m\u001b[0mkwargs\u001b[0m\u001b[1;33m)\u001b[0m\u001b[1;33m\u001b[0m\u001b[1;33m\u001b[0m\u001b[0m\n\u001b[0m\u001b[0;32m     64\u001b[0m \u001b[1;33m\u001b[0m\u001b[0m\n\u001b[0;32m     65\u001b[0m             \u001b[1;31m# extra_args > 0\u001b[0m\u001b[1;33m\u001b[0m\u001b[1;33m\u001b[0m\u001b[1;33m\u001b[0m\u001b[0m\n",
      "\u001b[1;32m~\\AppData\\Local\\Programs\\Python\\Python39\\lib\\site-packages\\sklearn\\metrics\\_classification.py\u001b[0m in \u001b[0;36mrecall_score\u001b[1;34m(y_true, y_pred, labels, pos_label, average, sample_weight, zero_division)\u001b[0m\n\u001b[0;32m   1769\u001b[0m     \u001b[0marray\u001b[0m\u001b[1;33m(\u001b[0m\u001b[1;33m[\u001b[0m\u001b[1;36m0.5\u001b[0m\u001b[1;33m,\u001b[0m \u001b[1;36m1.\u001b[0m \u001b[1;33m,\u001b[0m \u001b[1;36m1.\u001b[0m \u001b[1;33m]\u001b[0m\u001b[1;33m)\u001b[0m\u001b[1;33m\u001b[0m\u001b[1;33m\u001b[0m\u001b[0m\n\u001b[0;32m   1770\u001b[0m     \"\"\"\n\u001b[1;32m-> 1771\u001b[1;33m     _, r, _, _ = precision_recall_fscore_support(y_true, y_pred,\n\u001b[0m\u001b[0;32m   1772\u001b[0m                                                  \u001b[0mlabels\u001b[0m\u001b[1;33m=\u001b[0m\u001b[0mlabels\u001b[0m\u001b[1;33m,\u001b[0m\u001b[1;33m\u001b[0m\u001b[1;33m\u001b[0m\u001b[0m\n\u001b[0;32m   1773\u001b[0m                                                  \u001b[0mpos_label\u001b[0m\u001b[1;33m=\u001b[0m\u001b[0mpos_label\u001b[0m\u001b[1;33m,\u001b[0m\u001b[1;33m\u001b[0m\u001b[1;33m\u001b[0m\u001b[0m\n",
      "\u001b[1;32m~\\AppData\\Local\\Programs\\Python\\Python39\\lib\\site-packages\\sklearn\\utils\\validation.py\u001b[0m in \u001b[0;36minner_f\u001b[1;34m(*args, **kwargs)\u001b[0m\n\u001b[0;32m     61\u001b[0m             \u001b[0mextra_args\u001b[0m \u001b[1;33m=\u001b[0m \u001b[0mlen\u001b[0m\u001b[1;33m(\u001b[0m\u001b[0margs\u001b[0m\u001b[1;33m)\u001b[0m \u001b[1;33m-\u001b[0m \u001b[0mlen\u001b[0m\u001b[1;33m(\u001b[0m\u001b[0mall_args\u001b[0m\u001b[1;33m)\u001b[0m\u001b[1;33m\u001b[0m\u001b[1;33m\u001b[0m\u001b[0m\n\u001b[0;32m     62\u001b[0m             \u001b[1;32mif\u001b[0m \u001b[0mextra_args\u001b[0m \u001b[1;33m<=\u001b[0m \u001b[1;36m0\u001b[0m\u001b[1;33m:\u001b[0m\u001b[1;33m\u001b[0m\u001b[1;33m\u001b[0m\u001b[0m\n\u001b[1;32m---> 63\u001b[1;33m                 \u001b[1;32mreturn\u001b[0m \u001b[0mf\u001b[0m\u001b[1;33m(\u001b[0m\u001b[1;33m*\u001b[0m\u001b[0margs\u001b[0m\u001b[1;33m,\u001b[0m \u001b[1;33m**\u001b[0m\u001b[0mkwargs\u001b[0m\u001b[1;33m)\u001b[0m\u001b[1;33m\u001b[0m\u001b[1;33m\u001b[0m\u001b[0m\n\u001b[0m\u001b[0;32m     64\u001b[0m \u001b[1;33m\u001b[0m\u001b[0m\n\u001b[0;32m     65\u001b[0m             \u001b[1;31m# extra_args > 0\u001b[0m\u001b[1;33m\u001b[0m\u001b[1;33m\u001b[0m\u001b[1;33m\u001b[0m\u001b[0m\n",
      "\u001b[1;32m~\\AppData\\Local\\Programs\\Python\\Python39\\lib\\site-packages\\sklearn\\metrics\\_classification.py\u001b[0m in \u001b[0;36mprecision_recall_fscore_support\u001b[1;34m(y_true, y_pred, beta, labels, pos_label, average, warn_for, sample_weight, zero_division)\u001b[0m\n\u001b[0;32m   1459\u001b[0m     \u001b[1;32mif\u001b[0m \u001b[0mbeta\u001b[0m \u001b[1;33m<\u001b[0m \u001b[1;36m0\u001b[0m\u001b[1;33m:\u001b[0m\u001b[1;33m\u001b[0m\u001b[1;33m\u001b[0m\u001b[0m\n\u001b[0;32m   1460\u001b[0m         \u001b[1;32mraise\u001b[0m \u001b[0mValueError\u001b[0m\u001b[1;33m(\u001b[0m\u001b[1;34m\"beta should be >=0 in the F-beta score\"\u001b[0m\u001b[1;33m)\u001b[0m\u001b[1;33m\u001b[0m\u001b[1;33m\u001b[0m\u001b[0m\n\u001b[1;32m-> 1461\u001b[1;33m     labels = _check_set_wise_labels(y_true, y_pred, average, labels,\n\u001b[0m\u001b[0;32m   1462\u001b[0m                                     pos_label)\n\u001b[0;32m   1463\u001b[0m \u001b[1;33m\u001b[0m\u001b[0m\n",
      "\u001b[1;32m~\\AppData\\Local\\Programs\\Python\\Python39\\lib\\site-packages\\sklearn\\metrics\\_classification.py\u001b[0m in \u001b[0;36m_check_set_wise_labels\u001b[1;34m(y_true, y_pred, average, labels, pos_label)\u001b[0m\n\u001b[0;32m   1272\u001b[0m                          str(average_options))\n\u001b[0;32m   1273\u001b[0m \u001b[1;33m\u001b[0m\u001b[0m\n\u001b[1;32m-> 1274\u001b[1;33m     \u001b[0my_type\u001b[0m\u001b[1;33m,\u001b[0m \u001b[0my_true\u001b[0m\u001b[1;33m,\u001b[0m \u001b[0my_pred\u001b[0m \u001b[1;33m=\u001b[0m \u001b[0m_check_targets\u001b[0m\u001b[1;33m(\u001b[0m\u001b[0my_true\u001b[0m\u001b[1;33m,\u001b[0m \u001b[0my_pred\u001b[0m\u001b[1;33m)\u001b[0m\u001b[1;33m\u001b[0m\u001b[1;33m\u001b[0m\u001b[0m\n\u001b[0m\u001b[0;32m   1275\u001b[0m     \u001b[1;31m# Convert to Python primitive type to avoid NumPy type / Python str\u001b[0m\u001b[1;33m\u001b[0m\u001b[1;33m\u001b[0m\u001b[1;33m\u001b[0m\u001b[0m\n\u001b[0;32m   1276\u001b[0m     \u001b[1;31m# comparison. See https://github.com/numpy/numpy/issues/6784\u001b[0m\u001b[1;33m\u001b[0m\u001b[1;33m\u001b[0m\u001b[1;33m\u001b[0m\u001b[0m\n",
      "\u001b[1;32m~\\AppData\\Local\\Programs\\Python\\Python39\\lib\\site-packages\\sklearn\\metrics\\_classification.py\u001b[0m in \u001b[0;36m_check_targets\u001b[1;34m(y_true, y_pred)\u001b[0m\n\u001b[0;32m     81\u001b[0m     \u001b[0my_pred\u001b[0m \u001b[1;33m:\u001b[0m \u001b[0marray\u001b[0m \u001b[1;32mor\u001b[0m \u001b[0mindicator\u001b[0m \u001b[0mmatrix\u001b[0m\u001b[1;33m\u001b[0m\u001b[1;33m\u001b[0m\u001b[0m\n\u001b[0;32m     82\u001b[0m     \"\"\"\n\u001b[1;32m---> 83\u001b[1;33m     \u001b[0mcheck_consistent_length\u001b[0m\u001b[1;33m(\u001b[0m\u001b[0my_true\u001b[0m\u001b[1;33m,\u001b[0m \u001b[0my_pred\u001b[0m\u001b[1;33m)\u001b[0m\u001b[1;33m\u001b[0m\u001b[1;33m\u001b[0m\u001b[0m\n\u001b[0m\u001b[0;32m     84\u001b[0m     \u001b[0mtype_true\u001b[0m \u001b[1;33m=\u001b[0m \u001b[0mtype_of_target\u001b[0m\u001b[1;33m(\u001b[0m\u001b[0my_true\u001b[0m\u001b[1;33m)\u001b[0m\u001b[1;33m\u001b[0m\u001b[1;33m\u001b[0m\u001b[0m\n\u001b[0;32m     85\u001b[0m     \u001b[0mtype_pred\u001b[0m \u001b[1;33m=\u001b[0m \u001b[0mtype_of_target\u001b[0m\u001b[1;33m(\u001b[0m\u001b[0my_pred\u001b[0m\u001b[1;33m)\u001b[0m\u001b[1;33m\u001b[0m\u001b[1;33m\u001b[0m\u001b[0m\n",
      "\u001b[1;32m~\\AppData\\Local\\Programs\\Python\\Python39\\lib\\site-packages\\sklearn\\utils\\validation.py\u001b[0m in \u001b[0;36mcheck_consistent_length\u001b[1;34m(*arrays)\u001b[0m\n\u001b[0;32m    260\u001b[0m     \u001b[0muniques\u001b[0m \u001b[1;33m=\u001b[0m \u001b[0mnp\u001b[0m\u001b[1;33m.\u001b[0m\u001b[0munique\u001b[0m\u001b[1;33m(\u001b[0m\u001b[0mlengths\u001b[0m\u001b[1;33m)\u001b[0m\u001b[1;33m\u001b[0m\u001b[1;33m\u001b[0m\u001b[0m\n\u001b[0;32m    261\u001b[0m     \u001b[1;32mif\u001b[0m \u001b[0mlen\u001b[0m\u001b[1;33m(\u001b[0m\u001b[0muniques\u001b[0m\u001b[1;33m)\u001b[0m \u001b[1;33m>\u001b[0m \u001b[1;36m1\u001b[0m\u001b[1;33m:\u001b[0m\u001b[1;33m\u001b[0m\u001b[1;33m\u001b[0m\u001b[0m\n\u001b[1;32m--> 262\u001b[1;33m         raise ValueError(\"Found input variables with inconsistent numbers of\"\n\u001b[0m\u001b[0;32m    263\u001b[0m                          \" samples: %r\" % [int(l) for l in lengths])\n\u001b[0;32m    264\u001b[0m \u001b[1;33m\u001b[0m\u001b[0m\n",
      "\u001b[1;31mValueError\u001b[0m: Found input variables with inconsistent numbers of samples: [7203, 183593]"
     ]
    }
   ],
   "source": [
    "recall_score(y_test, to_pred_rfc, average=\"micro\")"
   ]
  },
  {
   "cell_type": "code",
   "execution_count": 69,
   "metadata": {},
   "outputs": [
    {
     "output_type": "execute_result",
     "data": {
      "text/plain": [
       "1.0"
      ]
     },
     "metadata": {},
     "execution_count": 69
    }
   ],
   "source": [
    "score_xgb"
   ]
  },
  {
   "cell_type": "code",
   "execution_count": 77,
   "metadata": {},
   "outputs": [
    {
     "output_type": "execute_result",
     "data": {
      "text/plain": [
       "0.9975380324957923"
      ]
     },
     "metadata": {},
     "execution_count": 77
    }
   ],
   "source": [
    "score_rfc"
   ]
  },
  {
   "cell_type": "code",
   "execution_count": 68,
   "metadata": {},
   "outputs": [
    {
     "output_type": "execute_result",
     "data": {
      "text/plain": [
       "Empty DataFrame\n",
       "Columns: [index, chosen_model, acc_score, recall_score]\n",
       "Index: []"
      ],
      "text/html": "<div>\n<style scoped>\n    .dataframe tbody tr th:only-of-type {\n        vertical-align: middle;\n    }\n\n    .dataframe tbody tr th {\n        vertical-align: top;\n    }\n\n    .dataframe thead th {\n        text-align: right;\n    }\n</style>\n<table border=\"1\" class=\"dataframe\">\n  <thead>\n    <tr style=\"text-align: right;\">\n      <th></th>\n      <th>index</th>\n      <th>chosen_model</th>\n      <th>acc_score</th>\n      <th>recall_score</th>\n    </tr>\n  </thead>\n  <tbody>\n  </tbody>\n</table>\n</div>"
     },
     "metadata": {},
     "execution_count": 68
    }
   ],
   "source": [
    "data5"
   ]
  },
  {
   "cell_type": "code",
   "execution_count": 72,
   "metadata": {},
   "outputs": [
    {
     "output_type": "execute_result",
     "data": {
      "text/plain": [
       "Empty DataFrame\n",
       "Columns: [index, chosen_model, acc_score, recall_score]\n",
       "Index: []"
      ],
      "text/html": "<div>\n<style scoped>\n    .dataframe tbody tr th:only-of-type {\n        vertical-align: middle;\n    }\n\n    .dataframe tbody tr th {\n        vertical-align: top;\n    }\n\n    .dataframe thead th {\n        text-align: right;\n    }\n</style>\n<table border=\"1\" class=\"dataframe\">\n  <thead>\n    <tr style=\"text-align: right;\">\n      <th></th>\n      <th>index</th>\n      <th>chosen_model</th>\n      <th>acc_score</th>\n      <th>recall_score</th>\n    </tr>\n  </thead>\n  <tbody>\n  </tbody>\n</table>\n</div>"
     },
     "metadata": {},
     "execution_count": 72
    }
   ],
   "source": [
    "query_students = \"\"\"\n",
    "SELECT * FROM student_findings\n",
    "\"\"\"\n",
    "pd.read_sql_query(query_students, connection)"
   ]
  },
  {
   "cell_type": "code",
   "execution_count": 76,
   "metadata": {},
   "outputs": [
    {
     "output_type": "error",
     "ename": "ProgrammingError",
     "evalue": "(1064, \"You have an error in your SQL syntax; check the manual that corresponds to your MySQL server version for the right syntax to use near 'index = Mar' at line 2\")",
     "traceback": [
      "\u001b[1;31m---------------------------------------------------------------------------\u001b[0m",
      "\u001b[1;31mProgrammingError\u001b[0m                          Traceback (most recent call last)",
      "\u001b[1;32m<ipython-input-76-2e31a5505037>\u001b[0m in \u001b[0;36m<module>\u001b[1;34m\u001b[0m\n\u001b[1;32m----> 1\u001b[1;33m cursor.execute(\"\"\"\n\u001b[0m\u001b[0;32m      2\u001b[0m                 \u001b[0mUPDATE\u001b[0m \u001b[0mstudent_findings\u001b[0m\u001b[1;33m\u001b[0m\u001b[1;33m\u001b[0m\u001b[0m\n\u001b[0;32m      3\u001b[0m                 \u001b[0mSET\u001b[0m \u001b[0mindex\u001b[0m \u001b[1;33m=\u001b[0m \u001b[0mMar\u001b[0m\u001b[1;33m\u001b[0m\u001b[1;33m\u001b[0m\u001b[0m\n\u001b[0;32m      4\u001b[0m \u001b[1;33m\u001b[0m\u001b[0m\n\u001b[0;32m      5\u001b[0m                 \"\"\")\n",
      "\u001b[1;32m~\\AppData\\Local\\Programs\\Python\\Python39\\lib\\site-packages\\pymysql\\cursors.py\u001b[0m in \u001b[0;36mexecute\u001b[1;34m(self, query, args)\u001b[0m\n\u001b[0;32m    146\u001b[0m         \u001b[0mquery\u001b[0m \u001b[1;33m=\u001b[0m \u001b[0mself\u001b[0m\u001b[1;33m.\u001b[0m\u001b[0mmogrify\u001b[0m\u001b[1;33m(\u001b[0m\u001b[0mquery\u001b[0m\u001b[1;33m,\u001b[0m \u001b[0margs\u001b[0m\u001b[1;33m)\u001b[0m\u001b[1;33m\u001b[0m\u001b[1;33m\u001b[0m\u001b[0m\n\u001b[0;32m    147\u001b[0m \u001b[1;33m\u001b[0m\u001b[0m\n\u001b[1;32m--> 148\u001b[1;33m         \u001b[0mresult\u001b[0m \u001b[1;33m=\u001b[0m \u001b[0mself\u001b[0m\u001b[1;33m.\u001b[0m\u001b[0m_query\u001b[0m\u001b[1;33m(\u001b[0m\u001b[0mquery\u001b[0m\u001b[1;33m)\u001b[0m\u001b[1;33m\u001b[0m\u001b[1;33m\u001b[0m\u001b[0m\n\u001b[0m\u001b[0;32m    149\u001b[0m         \u001b[0mself\u001b[0m\u001b[1;33m.\u001b[0m\u001b[0m_executed\u001b[0m \u001b[1;33m=\u001b[0m \u001b[0mquery\u001b[0m\u001b[1;33m\u001b[0m\u001b[1;33m\u001b[0m\u001b[0m\n\u001b[0;32m    150\u001b[0m         \u001b[1;32mreturn\u001b[0m \u001b[0mresult\u001b[0m\u001b[1;33m\u001b[0m\u001b[1;33m\u001b[0m\u001b[0m\n",
      "\u001b[1;32m~\\AppData\\Local\\Programs\\Python\\Python39\\lib\\site-packages\\pymysql\\cursors.py\u001b[0m in \u001b[0;36m_query\u001b[1;34m(self, q)\u001b[0m\n\u001b[0;32m    308\u001b[0m         \u001b[0mself\u001b[0m\u001b[1;33m.\u001b[0m\u001b[0m_last_executed\u001b[0m \u001b[1;33m=\u001b[0m \u001b[0mq\u001b[0m\u001b[1;33m\u001b[0m\u001b[1;33m\u001b[0m\u001b[0m\n\u001b[0;32m    309\u001b[0m         \u001b[0mself\u001b[0m\u001b[1;33m.\u001b[0m\u001b[0m_clear_result\u001b[0m\u001b[1;33m(\u001b[0m\u001b[1;33m)\u001b[0m\u001b[1;33m\u001b[0m\u001b[1;33m\u001b[0m\u001b[0m\n\u001b[1;32m--> 310\u001b[1;33m         \u001b[0mconn\u001b[0m\u001b[1;33m.\u001b[0m\u001b[0mquery\u001b[0m\u001b[1;33m(\u001b[0m\u001b[0mq\u001b[0m\u001b[1;33m)\u001b[0m\u001b[1;33m\u001b[0m\u001b[1;33m\u001b[0m\u001b[0m\n\u001b[0m\u001b[0;32m    311\u001b[0m         \u001b[0mself\u001b[0m\u001b[1;33m.\u001b[0m\u001b[0m_do_get_result\u001b[0m\u001b[1;33m(\u001b[0m\u001b[1;33m)\u001b[0m\u001b[1;33m\u001b[0m\u001b[1;33m\u001b[0m\u001b[0m\n\u001b[0;32m    312\u001b[0m         \u001b[1;32mreturn\u001b[0m \u001b[0mself\u001b[0m\u001b[1;33m.\u001b[0m\u001b[0mrowcount\u001b[0m\u001b[1;33m\u001b[0m\u001b[1;33m\u001b[0m\u001b[0m\n",
      "\u001b[1;32m~\\AppData\\Local\\Programs\\Python\\Python39\\lib\\site-packages\\pymysql\\connections.py\u001b[0m in \u001b[0;36mquery\u001b[1;34m(self, sql, unbuffered)\u001b[0m\n\u001b[0;32m    546\u001b[0m             \u001b[0msql\u001b[0m \u001b[1;33m=\u001b[0m \u001b[0msql\u001b[0m\u001b[1;33m.\u001b[0m\u001b[0mencode\u001b[0m\u001b[1;33m(\u001b[0m\u001b[0mself\u001b[0m\u001b[1;33m.\u001b[0m\u001b[0mencoding\u001b[0m\u001b[1;33m,\u001b[0m \u001b[1;34m\"surrogateescape\"\u001b[0m\u001b[1;33m)\u001b[0m\u001b[1;33m\u001b[0m\u001b[1;33m\u001b[0m\u001b[0m\n\u001b[0;32m    547\u001b[0m         \u001b[0mself\u001b[0m\u001b[1;33m.\u001b[0m\u001b[0m_execute_command\u001b[0m\u001b[1;33m(\u001b[0m\u001b[0mCOMMAND\u001b[0m\u001b[1;33m.\u001b[0m\u001b[0mCOM_QUERY\u001b[0m\u001b[1;33m,\u001b[0m \u001b[0msql\u001b[0m\u001b[1;33m)\u001b[0m\u001b[1;33m\u001b[0m\u001b[1;33m\u001b[0m\u001b[0m\n\u001b[1;32m--> 548\u001b[1;33m         \u001b[0mself\u001b[0m\u001b[1;33m.\u001b[0m\u001b[0m_affected_rows\u001b[0m \u001b[1;33m=\u001b[0m \u001b[0mself\u001b[0m\u001b[1;33m.\u001b[0m\u001b[0m_read_query_result\u001b[0m\u001b[1;33m(\u001b[0m\u001b[0munbuffered\u001b[0m\u001b[1;33m=\u001b[0m\u001b[0munbuffered\u001b[0m\u001b[1;33m)\u001b[0m\u001b[1;33m\u001b[0m\u001b[1;33m\u001b[0m\u001b[0m\n\u001b[0m\u001b[0;32m    549\u001b[0m         \u001b[1;32mreturn\u001b[0m \u001b[0mself\u001b[0m\u001b[1;33m.\u001b[0m\u001b[0m_affected_rows\u001b[0m\u001b[1;33m\u001b[0m\u001b[1;33m\u001b[0m\u001b[0m\n\u001b[0;32m    550\u001b[0m \u001b[1;33m\u001b[0m\u001b[0m\n",
      "\u001b[1;32m~\\AppData\\Local\\Programs\\Python\\Python39\\lib\\site-packages\\pymysql\\connections.py\u001b[0m in \u001b[0;36m_read_query_result\u001b[1;34m(self, unbuffered)\u001b[0m\n\u001b[0;32m    773\u001b[0m         \u001b[1;32melse\u001b[0m\u001b[1;33m:\u001b[0m\u001b[1;33m\u001b[0m\u001b[1;33m\u001b[0m\u001b[0m\n\u001b[0;32m    774\u001b[0m             \u001b[0mresult\u001b[0m \u001b[1;33m=\u001b[0m \u001b[0mMySQLResult\u001b[0m\u001b[1;33m(\u001b[0m\u001b[0mself\u001b[0m\u001b[1;33m)\u001b[0m\u001b[1;33m\u001b[0m\u001b[1;33m\u001b[0m\u001b[0m\n\u001b[1;32m--> 775\u001b[1;33m             \u001b[0mresult\u001b[0m\u001b[1;33m.\u001b[0m\u001b[0mread\u001b[0m\u001b[1;33m(\u001b[0m\u001b[1;33m)\u001b[0m\u001b[1;33m\u001b[0m\u001b[1;33m\u001b[0m\u001b[0m\n\u001b[0m\u001b[0;32m    776\u001b[0m         \u001b[0mself\u001b[0m\u001b[1;33m.\u001b[0m\u001b[0m_result\u001b[0m \u001b[1;33m=\u001b[0m \u001b[0mresult\u001b[0m\u001b[1;33m\u001b[0m\u001b[1;33m\u001b[0m\u001b[0m\n\u001b[0;32m    777\u001b[0m         \u001b[1;32mif\u001b[0m \u001b[0mresult\u001b[0m\u001b[1;33m.\u001b[0m\u001b[0mserver_status\u001b[0m \u001b[1;32mis\u001b[0m \u001b[1;32mnot\u001b[0m \u001b[1;32mNone\u001b[0m\u001b[1;33m:\u001b[0m\u001b[1;33m\u001b[0m\u001b[1;33m\u001b[0m\u001b[0m\n",
      "\u001b[1;32m~\\AppData\\Local\\Programs\\Python\\Python39\\lib\\site-packages\\pymysql\\connections.py\u001b[0m in \u001b[0;36mread\u001b[1;34m(self)\u001b[0m\n\u001b[0;32m   1154\u001b[0m     \u001b[1;32mdef\u001b[0m \u001b[0mread\u001b[0m\u001b[1;33m(\u001b[0m\u001b[0mself\u001b[0m\u001b[1;33m)\u001b[0m\u001b[1;33m:\u001b[0m\u001b[1;33m\u001b[0m\u001b[1;33m\u001b[0m\u001b[0m\n\u001b[0;32m   1155\u001b[0m         \u001b[1;32mtry\u001b[0m\u001b[1;33m:\u001b[0m\u001b[1;33m\u001b[0m\u001b[1;33m\u001b[0m\u001b[0m\n\u001b[1;32m-> 1156\u001b[1;33m             \u001b[0mfirst_packet\u001b[0m \u001b[1;33m=\u001b[0m \u001b[0mself\u001b[0m\u001b[1;33m.\u001b[0m\u001b[0mconnection\u001b[0m\u001b[1;33m.\u001b[0m\u001b[0m_read_packet\u001b[0m\u001b[1;33m(\u001b[0m\u001b[1;33m)\u001b[0m\u001b[1;33m\u001b[0m\u001b[1;33m\u001b[0m\u001b[0m\n\u001b[0m\u001b[0;32m   1157\u001b[0m \u001b[1;33m\u001b[0m\u001b[0m\n\u001b[0;32m   1158\u001b[0m             \u001b[1;32mif\u001b[0m \u001b[0mfirst_packet\u001b[0m\u001b[1;33m.\u001b[0m\u001b[0mis_ok_packet\u001b[0m\u001b[1;33m(\u001b[0m\u001b[1;33m)\u001b[0m\u001b[1;33m:\u001b[0m\u001b[1;33m\u001b[0m\u001b[1;33m\u001b[0m\u001b[0m\n",
      "\u001b[1;32m~\\AppData\\Local\\Programs\\Python\\Python39\\lib\\site-packages\\pymysql\\connections.py\u001b[0m in \u001b[0;36m_read_packet\u001b[1;34m(self, packet_type)\u001b[0m\n\u001b[0;32m    723\u001b[0m             \u001b[1;32mif\u001b[0m \u001b[0mself\u001b[0m\u001b[1;33m.\u001b[0m\u001b[0m_result\u001b[0m \u001b[1;32mis\u001b[0m \u001b[1;32mnot\u001b[0m \u001b[1;32mNone\u001b[0m \u001b[1;32mand\u001b[0m \u001b[0mself\u001b[0m\u001b[1;33m.\u001b[0m\u001b[0m_result\u001b[0m\u001b[1;33m.\u001b[0m\u001b[0munbuffered_active\u001b[0m \u001b[1;32mis\u001b[0m \u001b[1;32mTrue\u001b[0m\u001b[1;33m:\u001b[0m\u001b[1;33m\u001b[0m\u001b[1;33m\u001b[0m\u001b[0m\n\u001b[0;32m    724\u001b[0m                 \u001b[0mself\u001b[0m\u001b[1;33m.\u001b[0m\u001b[0m_result\u001b[0m\u001b[1;33m.\u001b[0m\u001b[0munbuffered_active\u001b[0m \u001b[1;33m=\u001b[0m \u001b[1;32mFalse\u001b[0m\u001b[1;33m\u001b[0m\u001b[1;33m\u001b[0m\u001b[0m\n\u001b[1;32m--> 725\u001b[1;33m             \u001b[0mpacket\u001b[0m\u001b[1;33m.\u001b[0m\u001b[0mraise_for_error\u001b[0m\u001b[1;33m(\u001b[0m\u001b[1;33m)\u001b[0m\u001b[1;33m\u001b[0m\u001b[1;33m\u001b[0m\u001b[0m\n\u001b[0m\u001b[0;32m    726\u001b[0m         \u001b[1;32mreturn\u001b[0m \u001b[0mpacket\u001b[0m\u001b[1;33m\u001b[0m\u001b[1;33m\u001b[0m\u001b[0m\n\u001b[0;32m    727\u001b[0m \u001b[1;33m\u001b[0m\u001b[0m\n",
      "\u001b[1;32m~\\AppData\\Local\\Programs\\Python\\Python39\\lib\\site-packages\\pymysql\\protocol.py\u001b[0m in \u001b[0;36mraise_for_error\u001b[1;34m(self)\u001b[0m\n\u001b[0;32m    219\u001b[0m         \u001b[1;32mif\u001b[0m \u001b[0mDEBUG\u001b[0m\u001b[1;33m:\u001b[0m\u001b[1;33m\u001b[0m\u001b[1;33m\u001b[0m\u001b[0m\n\u001b[0;32m    220\u001b[0m             \u001b[0mprint\u001b[0m\u001b[1;33m(\u001b[0m\u001b[1;34m\"errno =\"\u001b[0m\u001b[1;33m,\u001b[0m \u001b[0merrno\u001b[0m\u001b[1;33m)\u001b[0m\u001b[1;33m\u001b[0m\u001b[1;33m\u001b[0m\u001b[0m\n\u001b[1;32m--> 221\u001b[1;33m         \u001b[0merr\u001b[0m\u001b[1;33m.\u001b[0m\u001b[0mraise_mysql_exception\u001b[0m\u001b[1;33m(\u001b[0m\u001b[0mself\u001b[0m\u001b[1;33m.\u001b[0m\u001b[0m_data\u001b[0m\u001b[1;33m)\u001b[0m\u001b[1;33m\u001b[0m\u001b[1;33m\u001b[0m\u001b[0m\n\u001b[0m\u001b[0;32m    222\u001b[0m \u001b[1;33m\u001b[0m\u001b[0m\n\u001b[0;32m    223\u001b[0m     \u001b[1;32mdef\u001b[0m \u001b[0mdump\u001b[0m\u001b[1;33m(\u001b[0m\u001b[0mself\u001b[0m\u001b[1;33m)\u001b[0m\u001b[1;33m:\u001b[0m\u001b[1;33m\u001b[0m\u001b[1;33m\u001b[0m\u001b[0m\n",
      "\u001b[1;32m~\\AppData\\Local\\Programs\\Python\\Python39\\lib\\site-packages\\pymysql\\err.py\u001b[0m in \u001b[0;36mraise_mysql_exception\u001b[1;34m(data)\u001b[0m\n\u001b[0;32m    141\u001b[0m     \u001b[1;32mif\u001b[0m \u001b[0merrorclass\u001b[0m \u001b[1;32mis\u001b[0m \u001b[1;32mNone\u001b[0m\u001b[1;33m:\u001b[0m\u001b[1;33m\u001b[0m\u001b[1;33m\u001b[0m\u001b[0m\n\u001b[0;32m    142\u001b[0m         \u001b[0merrorclass\u001b[0m \u001b[1;33m=\u001b[0m \u001b[0mInternalError\u001b[0m \u001b[1;32mif\u001b[0m \u001b[0merrno\u001b[0m \u001b[1;33m<\u001b[0m \u001b[1;36m1000\u001b[0m \u001b[1;32melse\u001b[0m \u001b[0mOperationalError\u001b[0m\u001b[1;33m\u001b[0m\u001b[1;33m\u001b[0m\u001b[0m\n\u001b[1;32m--> 143\u001b[1;33m     \u001b[1;32mraise\u001b[0m \u001b[0merrorclass\u001b[0m\u001b[1;33m(\u001b[0m\u001b[0merrno\u001b[0m\u001b[1;33m,\u001b[0m \u001b[0merrval\u001b[0m\u001b[1;33m)\u001b[0m\u001b[1;33m\u001b[0m\u001b[1;33m\u001b[0m\u001b[0m\n\u001b[0m",
      "\u001b[1;31mProgrammingError\u001b[0m: (1064, \"You have an error in your SQL syntax; check the manual that corresponds to your MySQL server version for the right syntax to use near 'index = Mar' at line 2\")"
     ]
    }
   ],
   "source": [
    "cursor.execute(\"\"\"\n",
    "                UPDATE student_findings\n",
    "                SET index = Mar\n",
    "                WHERE chosen_model = 'XGBoost' and acc_score = 1.0 and recall_score = Nan\n",
    "                \"\"\")\n",
    "\n",
    "pd.read_sql_query(query_students, connection)"
   ]
  },
  {
   "cell_type": "code",
   "execution_count": 97,
   "metadata": {},
   "outputs": [
    {
     "output_type": "execute_result",
     "data": {
      "text/plain": [
       "Empty DataFrame\n",
       "Columns: [index, chosen_model, acc_score, recall_score]\n",
       "Index: []"
      ],
      "text/html": "<div>\n<style scoped>\n    .dataframe tbody tr th:only-of-type {\n        vertical-align: middle;\n    }\n\n    .dataframe tbody tr th {\n        vertical-align: top;\n    }\n\n    .dataframe thead th {\n        text-align: right;\n    }\n</style>\n<table border=\"1\" class=\"dataframe\">\n  <thead>\n    <tr style=\"text-align: right;\">\n      <th></th>\n      <th>index</th>\n      <th>chosen_model</th>\n      <th>acc_score</th>\n      <th>recall_score</th>\n    </tr>\n  </thead>\n  <tbody>\n  </tbody>\n</table>\n</div>"
     },
     "metadata": {},
     "execution_count": 97
    }
   ],
   "source": [
    "cursor.execute(\"\"\" SHOW CREATE TABLE student_findings\n",
    "\"\"\")\n",
    "pd.read_sql_query(query_students, connection)"
   ]
  },
  {
   "cell_type": "code",
   "execution_count": 102,
   "metadata": {},
   "outputs": [
    {
     "output_type": "error",
     "ename": "IntegrityError",
     "evalue": "(1062, \"Duplicate entry 'Mar' for key 'PRIMARY'\")",
     "traceback": [
      "\u001b[1;31m---------------------------------------------------------------------------\u001b[0m",
      "\u001b[1;31mIntegrityError\u001b[0m                            Traceback (most recent call last)",
      "\u001b[1;32m<ipython-input-102-e211ec8ee76e>\u001b[0m in \u001b[0;36m<module>\u001b[1;34m\u001b[0m\n\u001b[1;32m----> 1\u001b[1;33m cursor.execute(\"\"\"\n\u001b[0m\u001b[0;32m      2\u001b[0m                 \u001b[0mINSERT\u001b[0m \u001b[0mINTO\u001b[0m \u001b[0mstudent_findings\u001b[0m\u001b[1;33m\u001b[0m\u001b[1;33m\u001b[0m\u001b[0m\n\u001b[0;32m      3\u001b[0m                 \u001b[0mVALUES\u001b[0m\u001b[1;33m\u001b[0m\u001b[1;33m\u001b[0m\u001b[0m\n\u001b[0;32m      4\u001b[0m                 \u001b[1;33m(\u001b[0m\u001b[1;34m\"Mar\"\u001b[0m\u001b[1;33m,\u001b[0m \u001b[1;34m\"XGBoost\"\u001b[0m\u001b[1;33m,\u001b[0m \u001b[1;36m1.0\u001b[0m\u001b[1;33m,\u001b[0m \u001b[1;36m0.0\u001b[0m\u001b[1;33m)\u001b[0m\u001b[1;33m,\u001b[0m\u001b[1;33m\u001b[0m\u001b[1;33m\u001b[0m\u001b[0m\n\u001b[0;32m      5\u001b[0m                 \u001b[1;33m(\u001b[0m\u001b[1;34m\"Mar\"\u001b[0m\u001b[1;33m,\u001b[0m \u001b[1;34m\"Random Forest Classifier\"\u001b[0m\u001b[1;33m,\u001b[0m \u001b[1;36m0.997\u001b[0m\u001b[1;33m,\u001b[0m \u001b[1;36m0.0\u001b[0m\u001b[1;33m)\u001b[0m\u001b[1;33m\u001b[0m\u001b[1;33m\u001b[0m\u001b[0m\n",
      "\u001b[1;32m~\\AppData\\Local\\Programs\\Python\\Python39\\lib\\site-packages\\pymysql\\cursors.py\u001b[0m in \u001b[0;36mexecute\u001b[1;34m(self, query, args)\u001b[0m\n\u001b[0;32m    146\u001b[0m         \u001b[0mquery\u001b[0m \u001b[1;33m=\u001b[0m \u001b[0mself\u001b[0m\u001b[1;33m.\u001b[0m\u001b[0mmogrify\u001b[0m\u001b[1;33m(\u001b[0m\u001b[0mquery\u001b[0m\u001b[1;33m,\u001b[0m \u001b[0margs\u001b[0m\u001b[1;33m)\u001b[0m\u001b[1;33m\u001b[0m\u001b[1;33m\u001b[0m\u001b[0m\n\u001b[0;32m    147\u001b[0m \u001b[1;33m\u001b[0m\u001b[0m\n\u001b[1;32m--> 148\u001b[1;33m         \u001b[0mresult\u001b[0m \u001b[1;33m=\u001b[0m \u001b[0mself\u001b[0m\u001b[1;33m.\u001b[0m\u001b[0m_query\u001b[0m\u001b[1;33m(\u001b[0m\u001b[0mquery\u001b[0m\u001b[1;33m)\u001b[0m\u001b[1;33m\u001b[0m\u001b[1;33m\u001b[0m\u001b[0m\n\u001b[0m\u001b[0;32m    149\u001b[0m         \u001b[0mself\u001b[0m\u001b[1;33m.\u001b[0m\u001b[0m_executed\u001b[0m \u001b[1;33m=\u001b[0m \u001b[0mquery\u001b[0m\u001b[1;33m\u001b[0m\u001b[1;33m\u001b[0m\u001b[0m\n\u001b[0;32m    150\u001b[0m         \u001b[1;32mreturn\u001b[0m \u001b[0mresult\u001b[0m\u001b[1;33m\u001b[0m\u001b[1;33m\u001b[0m\u001b[0m\n",
      "\u001b[1;32m~\\AppData\\Local\\Programs\\Python\\Python39\\lib\\site-packages\\pymysql\\cursors.py\u001b[0m in \u001b[0;36m_query\u001b[1;34m(self, q)\u001b[0m\n\u001b[0;32m    308\u001b[0m         \u001b[0mself\u001b[0m\u001b[1;33m.\u001b[0m\u001b[0m_last_executed\u001b[0m \u001b[1;33m=\u001b[0m \u001b[0mq\u001b[0m\u001b[1;33m\u001b[0m\u001b[1;33m\u001b[0m\u001b[0m\n\u001b[0;32m    309\u001b[0m         \u001b[0mself\u001b[0m\u001b[1;33m.\u001b[0m\u001b[0m_clear_result\u001b[0m\u001b[1;33m(\u001b[0m\u001b[1;33m)\u001b[0m\u001b[1;33m\u001b[0m\u001b[1;33m\u001b[0m\u001b[0m\n\u001b[1;32m--> 310\u001b[1;33m         \u001b[0mconn\u001b[0m\u001b[1;33m.\u001b[0m\u001b[0mquery\u001b[0m\u001b[1;33m(\u001b[0m\u001b[0mq\u001b[0m\u001b[1;33m)\u001b[0m\u001b[1;33m\u001b[0m\u001b[1;33m\u001b[0m\u001b[0m\n\u001b[0m\u001b[0;32m    311\u001b[0m         \u001b[0mself\u001b[0m\u001b[1;33m.\u001b[0m\u001b[0m_do_get_result\u001b[0m\u001b[1;33m(\u001b[0m\u001b[1;33m)\u001b[0m\u001b[1;33m\u001b[0m\u001b[1;33m\u001b[0m\u001b[0m\n\u001b[0;32m    312\u001b[0m         \u001b[1;32mreturn\u001b[0m \u001b[0mself\u001b[0m\u001b[1;33m.\u001b[0m\u001b[0mrowcount\u001b[0m\u001b[1;33m\u001b[0m\u001b[1;33m\u001b[0m\u001b[0m\n",
      "\u001b[1;32m~\\AppData\\Local\\Programs\\Python\\Python39\\lib\\site-packages\\pymysql\\connections.py\u001b[0m in \u001b[0;36mquery\u001b[1;34m(self, sql, unbuffered)\u001b[0m\n\u001b[0;32m    546\u001b[0m             \u001b[0msql\u001b[0m \u001b[1;33m=\u001b[0m \u001b[0msql\u001b[0m\u001b[1;33m.\u001b[0m\u001b[0mencode\u001b[0m\u001b[1;33m(\u001b[0m\u001b[0mself\u001b[0m\u001b[1;33m.\u001b[0m\u001b[0mencoding\u001b[0m\u001b[1;33m,\u001b[0m \u001b[1;34m\"surrogateescape\"\u001b[0m\u001b[1;33m)\u001b[0m\u001b[1;33m\u001b[0m\u001b[1;33m\u001b[0m\u001b[0m\n\u001b[0;32m    547\u001b[0m         \u001b[0mself\u001b[0m\u001b[1;33m.\u001b[0m\u001b[0m_execute_command\u001b[0m\u001b[1;33m(\u001b[0m\u001b[0mCOMMAND\u001b[0m\u001b[1;33m.\u001b[0m\u001b[0mCOM_QUERY\u001b[0m\u001b[1;33m,\u001b[0m \u001b[0msql\u001b[0m\u001b[1;33m)\u001b[0m\u001b[1;33m\u001b[0m\u001b[1;33m\u001b[0m\u001b[0m\n\u001b[1;32m--> 548\u001b[1;33m         \u001b[0mself\u001b[0m\u001b[1;33m.\u001b[0m\u001b[0m_affected_rows\u001b[0m \u001b[1;33m=\u001b[0m \u001b[0mself\u001b[0m\u001b[1;33m.\u001b[0m\u001b[0m_read_query_result\u001b[0m\u001b[1;33m(\u001b[0m\u001b[0munbuffered\u001b[0m\u001b[1;33m=\u001b[0m\u001b[0munbuffered\u001b[0m\u001b[1;33m)\u001b[0m\u001b[1;33m\u001b[0m\u001b[1;33m\u001b[0m\u001b[0m\n\u001b[0m\u001b[0;32m    549\u001b[0m         \u001b[1;32mreturn\u001b[0m \u001b[0mself\u001b[0m\u001b[1;33m.\u001b[0m\u001b[0m_affected_rows\u001b[0m\u001b[1;33m\u001b[0m\u001b[1;33m\u001b[0m\u001b[0m\n\u001b[0;32m    550\u001b[0m \u001b[1;33m\u001b[0m\u001b[0m\n",
      "\u001b[1;32m~\\AppData\\Local\\Programs\\Python\\Python39\\lib\\site-packages\\pymysql\\connections.py\u001b[0m in \u001b[0;36m_read_query_result\u001b[1;34m(self, unbuffered)\u001b[0m\n\u001b[0;32m    773\u001b[0m         \u001b[1;32melse\u001b[0m\u001b[1;33m:\u001b[0m\u001b[1;33m\u001b[0m\u001b[1;33m\u001b[0m\u001b[0m\n\u001b[0;32m    774\u001b[0m             \u001b[0mresult\u001b[0m \u001b[1;33m=\u001b[0m \u001b[0mMySQLResult\u001b[0m\u001b[1;33m(\u001b[0m\u001b[0mself\u001b[0m\u001b[1;33m)\u001b[0m\u001b[1;33m\u001b[0m\u001b[1;33m\u001b[0m\u001b[0m\n\u001b[1;32m--> 775\u001b[1;33m             \u001b[0mresult\u001b[0m\u001b[1;33m.\u001b[0m\u001b[0mread\u001b[0m\u001b[1;33m(\u001b[0m\u001b[1;33m)\u001b[0m\u001b[1;33m\u001b[0m\u001b[1;33m\u001b[0m\u001b[0m\n\u001b[0m\u001b[0;32m    776\u001b[0m         \u001b[0mself\u001b[0m\u001b[1;33m.\u001b[0m\u001b[0m_result\u001b[0m \u001b[1;33m=\u001b[0m \u001b[0mresult\u001b[0m\u001b[1;33m\u001b[0m\u001b[1;33m\u001b[0m\u001b[0m\n\u001b[0;32m    777\u001b[0m         \u001b[1;32mif\u001b[0m \u001b[0mresult\u001b[0m\u001b[1;33m.\u001b[0m\u001b[0mserver_status\u001b[0m \u001b[1;32mis\u001b[0m \u001b[1;32mnot\u001b[0m \u001b[1;32mNone\u001b[0m\u001b[1;33m:\u001b[0m\u001b[1;33m\u001b[0m\u001b[1;33m\u001b[0m\u001b[0m\n",
      "\u001b[1;32m~\\AppData\\Local\\Programs\\Python\\Python39\\lib\\site-packages\\pymysql\\connections.py\u001b[0m in \u001b[0;36mread\u001b[1;34m(self)\u001b[0m\n\u001b[0;32m   1154\u001b[0m     \u001b[1;32mdef\u001b[0m \u001b[0mread\u001b[0m\u001b[1;33m(\u001b[0m\u001b[0mself\u001b[0m\u001b[1;33m)\u001b[0m\u001b[1;33m:\u001b[0m\u001b[1;33m\u001b[0m\u001b[1;33m\u001b[0m\u001b[0m\n\u001b[0;32m   1155\u001b[0m         \u001b[1;32mtry\u001b[0m\u001b[1;33m:\u001b[0m\u001b[1;33m\u001b[0m\u001b[1;33m\u001b[0m\u001b[0m\n\u001b[1;32m-> 1156\u001b[1;33m             \u001b[0mfirst_packet\u001b[0m \u001b[1;33m=\u001b[0m \u001b[0mself\u001b[0m\u001b[1;33m.\u001b[0m\u001b[0mconnection\u001b[0m\u001b[1;33m.\u001b[0m\u001b[0m_read_packet\u001b[0m\u001b[1;33m(\u001b[0m\u001b[1;33m)\u001b[0m\u001b[1;33m\u001b[0m\u001b[1;33m\u001b[0m\u001b[0m\n\u001b[0m\u001b[0;32m   1157\u001b[0m \u001b[1;33m\u001b[0m\u001b[0m\n\u001b[0;32m   1158\u001b[0m             \u001b[1;32mif\u001b[0m \u001b[0mfirst_packet\u001b[0m\u001b[1;33m.\u001b[0m\u001b[0mis_ok_packet\u001b[0m\u001b[1;33m(\u001b[0m\u001b[1;33m)\u001b[0m\u001b[1;33m:\u001b[0m\u001b[1;33m\u001b[0m\u001b[1;33m\u001b[0m\u001b[0m\n",
      "\u001b[1;32m~\\AppData\\Local\\Programs\\Python\\Python39\\lib\\site-packages\\pymysql\\connections.py\u001b[0m in \u001b[0;36m_read_packet\u001b[1;34m(self, packet_type)\u001b[0m\n\u001b[0;32m    723\u001b[0m             \u001b[1;32mif\u001b[0m \u001b[0mself\u001b[0m\u001b[1;33m.\u001b[0m\u001b[0m_result\u001b[0m \u001b[1;32mis\u001b[0m \u001b[1;32mnot\u001b[0m \u001b[1;32mNone\u001b[0m \u001b[1;32mand\u001b[0m \u001b[0mself\u001b[0m\u001b[1;33m.\u001b[0m\u001b[0m_result\u001b[0m\u001b[1;33m.\u001b[0m\u001b[0munbuffered_active\u001b[0m \u001b[1;32mis\u001b[0m \u001b[1;32mTrue\u001b[0m\u001b[1;33m:\u001b[0m\u001b[1;33m\u001b[0m\u001b[1;33m\u001b[0m\u001b[0m\n\u001b[0;32m    724\u001b[0m                 \u001b[0mself\u001b[0m\u001b[1;33m.\u001b[0m\u001b[0m_result\u001b[0m\u001b[1;33m.\u001b[0m\u001b[0munbuffered_active\u001b[0m \u001b[1;33m=\u001b[0m \u001b[1;32mFalse\u001b[0m\u001b[1;33m\u001b[0m\u001b[1;33m\u001b[0m\u001b[0m\n\u001b[1;32m--> 725\u001b[1;33m             \u001b[0mpacket\u001b[0m\u001b[1;33m.\u001b[0m\u001b[0mraise_for_error\u001b[0m\u001b[1;33m(\u001b[0m\u001b[1;33m)\u001b[0m\u001b[1;33m\u001b[0m\u001b[1;33m\u001b[0m\u001b[0m\n\u001b[0m\u001b[0;32m    726\u001b[0m         \u001b[1;32mreturn\u001b[0m \u001b[0mpacket\u001b[0m\u001b[1;33m\u001b[0m\u001b[1;33m\u001b[0m\u001b[0m\n\u001b[0;32m    727\u001b[0m \u001b[1;33m\u001b[0m\u001b[0m\n",
      "\u001b[1;32m~\\AppData\\Local\\Programs\\Python\\Python39\\lib\\site-packages\\pymysql\\protocol.py\u001b[0m in \u001b[0;36mraise_for_error\u001b[1;34m(self)\u001b[0m\n\u001b[0;32m    219\u001b[0m         \u001b[1;32mif\u001b[0m \u001b[0mDEBUG\u001b[0m\u001b[1;33m:\u001b[0m\u001b[1;33m\u001b[0m\u001b[1;33m\u001b[0m\u001b[0m\n\u001b[0;32m    220\u001b[0m             \u001b[0mprint\u001b[0m\u001b[1;33m(\u001b[0m\u001b[1;34m\"errno =\"\u001b[0m\u001b[1;33m,\u001b[0m \u001b[0merrno\u001b[0m\u001b[1;33m)\u001b[0m\u001b[1;33m\u001b[0m\u001b[1;33m\u001b[0m\u001b[0m\n\u001b[1;32m--> 221\u001b[1;33m         \u001b[0merr\u001b[0m\u001b[1;33m.\u001b[0m\u001b[0mraise_mysql_exception\u001b[0m\u001b[1;33m(\u001b[0m\u001b[0mself\u001b[0m\u001b[1;33m.\u001b[0m\u001b[0m_data\u001b[0m\u001b[1;33m)\u001b[0m\u001b[1;33m\u001b[0m\u001b[1;33m\u001b[0m\u001b[0m\n\u001b[0m\u001b[0;32m    222\u001b[0m \u001b[1;33m\u001b[0m\u001b[0m\n\u001b[0;32m    223\u001b[0m     \u001b[1;32mdef\u001b[0m \u001b[0mdump\u001b[0m\u001b[1;33m(\u001b[0m\u001b[0mself\u001b[0m\u001b[1;33m)\u001b[0m\u001b[1;33m:\u001b[0m\u001b[1;33m\u001b[0m\u001b[1;33m\u001b[0m\u001b[0m\n",
      "\u001b[1;32m~\\AppData\\Local\\Programs\\Python\\Python39\\lib\\site-packages\\pymysql\\err.py\u001b[0m in \u001b[0;36mraise_mysql_exception\u001b[1;34m(data)\u001b[0m\n\u001b[0;32m    141\u001b[0m     \u001b[1;32mif\u001b[0m \u001b[0merrorclass\u001b[0m \u001b[1;32mis\u001b[0m \u001b[1;32mNone\u001b[0m\u001b[1;33m:\u001b[0m\u001b[1;33m\u001b[0m\u001b[1;33m\u001b[0m\u001b[0m\n\u001b[0;32m    142\u001b[0m         \u001b[0merrorclass\u001b[0m \u001b[1;33m=\u001b[0m \u001b[0mInternalError\u001b[0m \u001b[1;32mif\u001b[0m \u001b[0merrno\u001b[0m \u001b[1;33m<\u001b[0m \u001b[1;36m1000\u001b[0m \u001b[1;32melse\u001b[0m \u001b[0mOperationalError\u001b[0m\u001b[1;33m\u001b[0m\u001b[1;33m\u001b[0m\u001b[0m\n\u001b[1;32m--> 143\u001b[1;33m     \u001b[1;32mraise\u001b[0m \u001b[0merrorclass\u001b[0m\u001b[1;33m(\u001b[0m\u001b[0merrno\u001b[0m\u001b[1;33m,\u001b[0m \u001b[0merrval\u001b[0m\u001b[1;33m)\u001b[0m\u001b[1;33m\u001b[0m\u001b[1;33m\u001b[0m\u001b[0m\n\u001b[0m",
      "\u001b[1;31mIntegrityError\u001b[0m: (1062, \"Duplicate entry 'Mar' for key 'PRIMARY'\")"
     ]
    }
   ],
   "source": [
    "cursor.execute(\"\"\"\n",
    "                INSERT INTO student_findings\n",
    "                VALUES\n",
    "                (\"Mar\", \"XGBoost\", 1.0, 0.0),\n",
    "                (\"Mar\", \"Random Forest Classifier\", 0.997, 0.0)\n",
    "                \"\"\")\n",
    "\n",
    "pd.read_sql_query(query_students, connection)"
   ]
  },
  {
   "cell_type": "code",
   "execution_count": 95,
   "metadata": {},
   "outputs": [
    {
     "output_type": "execute_result",
     "data": {
      "text/plain": [
       "0.9969457170623351"
      ]
     },
     "metadata": {},
     "execution_count": 95
    }
   ],
   "source": [
    "from sklearn.metrics import recall_score\n",
    "recall_score(y_test,y_pred_test, average=\"micro\")"
   ]
  },
  {
   "cell_type": "code",
   "execution_count": 53,
   "metadata": {},
   "outputs": [
    {
     "output_type": "error",
     "ename": "ImportError",
     "evalue": "cannot import name 'logloss' from 'sklearn.metrics' (C:\\Users\\Usuario\\AppData\\Local\\Programs\\Python\\Python39\\lib\\site-packages\\sklearn\\metrics\\__init__.py)",
     "traceback": [
      "\u001b[1;31m---------------------------------------------------------------------------\u001b[0m",
      "\u001b[1;31mImportError\u001b[0m                               Traceback (most recent call last)",
      "\u001b[1;32m<ipython-input-53-622ef11de243>\u001b[0m in \u001b[0;36m<module>\u001b[1;34m\u001b[0m\n\u001b[1;32m----> 1\u001b[1;33m \u001b[1;32mfrom\u001b[0m \u001b[0msklearn\u001b[0m\u001b[1;33m.\u001b[0m\u001b[0mmetrics\u001b[0m \u001b[1;32mimport\u001b[0m \u001b[0mlogloss\u001b[0m\u001b[1;33m\u001b[0m\u001b[1;33m\u001b[0m\u001b[0m\n\u001b[0m\u001b[0;32m      2\u001b[0m \u001b[0mmodel\u001b[0m\u001b[1;33m.\u001b[0m\u001b[0mlogloss\u001b[0m\u001b[1;33m(\u001b[0m\u001b[0my_test\u001b[0m\u001b[1;33m,\u001b[0m \u001b[0my_pred\u001b[0m\u001b[1;33m)\u001b[0m\u001b[1;33m\u001b[0m\u001b[1;33m\u001b[0m\u001b[0m\n",
      "\u001b[1;31mImportError\u001b[0m: cannot import name 'logloss' from 'sklearn.metrics' (C:\\Users\\Usuario\\AppData\\Local\\Programs\\Python\\Python39\\lib\\site-packages\\sklearn\\metrics\\__init__.py)"
     ]
    }
   ],
   "source": [
    "from sklearn.metrics import logloss\n",
    "model.logloss(y_test, y_pred)"
   ]
  },
  {
   "cell_type": "code",
   "execution_count": null,
   "metadata": {},
   "outputs": [],
   "source": [
    "bar = \"######################################\"\n",
    "scores = ['precision', 'recall']\n",
    "for score in scores:\n",
    "    print(bar + \"\\n########## SCORE \" + score + \" ########### \\n\" + bar)\n",
    "    print(\"# Tuning hyper-parameters for %s\" % score)\n",
    "    print()\n",
    "\n",
    "    clf = GridSearchCV(estimator=pipe, param_grid=search_space, verbose=0, n_jobs=-1, scoring=scores)\n",
    "    best_model = clf.fit(X_train, y_train)\n",
    "    # View best model\n",
    "    separator = \"\\n############################\\n\"\n",
    "    print(separator)\n",
    "    print(\"best estimator:\", best_model.best_estimator_.get_params()['classifier'])\n",
    "    print(separator)\n",
    "    print(\"clf.best_params_\", clf.best_params_)\n",
    "    print(separator)\n",
    "    # Mean cross-validated score of the best_estimator\n",
    "    print(\"clf.best_score\", clf.best_score_)\n",
    "#SAVE MODEL\n",
    "# save the model to disk\n",
    "#filename = 'finished_model.sav'\n",
    "#pickle.dump(best_model, open(filename, 'wb'))"
   ]
  }
 ]
}
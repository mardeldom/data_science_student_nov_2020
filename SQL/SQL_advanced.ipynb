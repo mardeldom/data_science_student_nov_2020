{
 "cells": [
  {
   "cell_type": "markdown",
   "metadata": {},
   "source": [
    "# S-Q-L or Sequel?\n",
    "\n",
    "- ¿Cómo creo una BBDD SQL?\n",
    "- ¿Cómo añado/elimino/modifico datos?\n",
    "- Triggers, ¿un tigre?\n",
    "- ¿Por qué no debes olvidar el WHERE cuando uses DELETE FROM?\n",
    "- Referencias y next steps"
   ]
  },
  {
   "cell_type": "code",
   "execution_count": 1,
   "metadata": {
    "id": "fMPcSHXjFskv"
   },
   "outputs": [],
   "source": [
    "import sqlite3\n",
    "import pandas as pd\n",
    "\n",
    "conn = sqlite3.connect('thebridge.db') \n",
    "# Se crea la base de datos si no encuentra una con ese nombre"
   ]
  },
  {
   "cell_type": "code",
   "execution_count": 2,
   "metadata": {
    "id": "DCsjFc_AB-j8"
   },
   "outputs": [],
   "source": [
    "cursor = conn.cursor() \n",
    "# La bbdd se guarda allí donde tengas tu archivo jupyter"
   ]
  },
  {
   "cell_type": "markdown",
   "metadata": {
    "id": "-e9rBX2PFo8S"
   },
   "source": [
    "Tened en cuenta que la query para crear nuevas tablas solo podrás ejecutarla una vez, sino dará un error porque ya está creada.  \n",
    "\n",
    "La columna `[generated_id]` se usa para ir generando un ID incremental para cada entrada. \n",
    "\n",
    "Cuando se crea una tabla nueva en la misma query se puede añadir el nombre y el formato de las columnas o campos.\n"
   ]
  },
  {
   "cell_type": "markdown",
   "metadata": {
    "id": "GADbDpqKL555"
   },
   "source": [
    "### CREATE TABLE"
   ]
  },
  {
   "cell_type": "code",
   "execution_count": 3,
   "metadata": {
    "id": "KKsCNMPbFcLM"
   },
   "outputs": [],
   "source": [
    "# Crear tabla - STUDENTS\n",
    "cursor.execute('''CREATE TABLE STUDENTS\n",
    "             ([generated_id] INTEGER PRIMARY KEY,[Student_Name] text, [Bootcamp_ID] integer, [Date_Start] date)''')\n",
    "          \n",
    "# Crear tabla - BOOTCAMP\n",
    "cursor.execute('''CREATE TABLE BOOTCAMP\n",
    "             ([generated_id] INTEGER PRIMARY KEY,[Bootcamp_ID] integer, [Program] text)''')\n",
    "        \n",
    "# Crear tabla - STUDENT_LOGS - Tabla donde se registra cuando se registra un alumno nuevo\n",
    "cursor.execute('''CREATE TABLE STUDENT_LOGS\n",
    "             ([Student_ID] integer, [Date_Start] TIMESTAMP)''')\n",
    "                 \n",
    "conn.commit()"
   ]
  },
  {
   "cell_type": "markdown",
   "metadata": {
    "id": "ryO461gvIWHS"
   },
   "source": [
    "Acerca del método `commit()` --> https://dev.mysql.com/doc/connector-python/en/connector-python-api-mysqlconnection-commit.html"
   ]
  },
  {
   "cell_type": "code",
   "execution_count": 4,
   "metadata": {
    "colab": {
     "base_uri": "https://localhost:8080/"
    },
    "id": "tNoDBmc4IPfo",
    "outputId": "5fbddab3-b8a4-45a3-aa1d-38258de5e4eb"
   },
   "outputs": [
    {
     "name": "stdout",
     "output_type": "stream",
     "text": [
      "[('STUDENTS',), ('BOOTCAMP',), ('STUDENT_LOGS',)]\n"
     ]
    }
   ],
   "source": [
    "query_all = \"SELECT name FROM sqlite_master WHERE type='table';\"\n",
    "cursor.execute(query_all)\n",
    "lista_tablas = cursor.fetchall()\n",
    "print(lista_tablas)"
   ]
  },
  {
   "cell_type": "markdown",
   "metadata": {
    "id": "7TaQvupsh1E1"
   },
   "source": [
    "### ALTER TABLE + ADD COLUMN"
   ]
  },
  {
   "cell_type": "code",
   "execution_count": 5,
   "metadata": {
    "id": "guER44mkh6y3"
   },
   "outputs": [
    {
     "data": {
      "text/plain": [
       "<sqlite3.Cursor at 0x2a8b815c180>"
      ]
     },
     "execution_count": 5,
     "metadata": {},
     "output_type": "execute_result"
    }
   ],
   "source": [
    "query_addColumn = \"ALTER TABLE BOOTCAMP ADD COLUMN Bootcamp_Name text\"\n",
    "\n",
    "cursor.execute(query_addColumn)"
   ]
  },
  {
   "cell_type": "markdown",
   "metadata": {
    "id": "2FFKrgvRLod3"
   },
   "source": [
    "### INSERT INTO "
   ]
  },
  {
   "cell_type": "code",
   "execution_count": 6,
   "metadata": {
    "colab": {
     "base_uri": "https://localhost:8080/"
    },
    "id": "GmGYpNP2WUCR",
    "outputId": "ef4904c6-8d76-4438-dc8b-155a52a616a0"
   },
   "outputs": [
    {
     "data": {
      "text/plain": [
       "<sqlite3.Cursor at 0x2a8b815c180>"
      ]
     },
     "execution_count": 6,
     "metadata": {},
     "output_type": "execute_result"
    }
   ],
   "source": [
    "cursor.execute(\"\"\"\n",
    "                INSERT INTO BOOTCAMP (Bootcamp_ID, Bootcamp_Name, Program)\n",
    "                VALUES\n",
    "                (11, 'Data Science', 'Full Time'),\n",
    "                (21, 'Full Stack', 'Full Time'),\n",
    "                (31, 'UX/UI', 'Full Time'),\n",
    "                (41, 'Ciberseguridad', 'Full Time'),\n",
    "                (12, 'Data Science', 'Part Time'),\n",
    "                (22, 'Full Stack', 'Part Time'),\n",
    "                (32, 'UX/UI', 'Part Time'),\n",
    "                (42, 'Ciberseguridad', 'Part Time')\n",
    "                \"\"\")"
   ]
  },
  {
   "cell_type": "code",
   "execution_count": 7,
   "metadata": {
    "colab": {
     "base_uri": "https://localhost:8080/",
     "height": 294
    },
    "id": "rRAQznQNXGNF",
    "outputId": "29225306-8b49-4e44-c26c-35ee63ccf40f"
   },
   "outputs": [
    {
     "data": {
      "text/html": [
       "<div>\n",
       "<style scoped>\n",
       "    .dataframe tbody tr th:only-of-type {\n",
       "        vertical-align: middle;\n",
       "    }\n",
       "\n",
       "    .dataframe tbody tr th {\n",
       "        vertical-align: top;\n",
       "    }\n",
       "\n",
       "    .dataframe thead th {\n",
       "        text-align: right;\n",
       "    }\n",
       "</style>\n",
       "<table border=\"1\" class=\"dataframe\">\n",
       "  <thead>\n",
       "    <tr style=\"text-align: right;\">\n",
       "      <th></th>\n",
       "      <th>generated_id</th>\n",
       "      <th>Bootcamp_ID</th>\n",
       "      <th>Program</th>\n",
       "      <th>Bootcamp_Name</th>\n",
       "    </tr>\n",
       "  </thead>\n",
       "  <tbody>\n",
       "    <tr>\n",
       "      <th>0</th>\n",
       "      <td>1</td>\n",
       "      <td>11</td>\n",
       "      <td>Full Time</td>\n",
       "      <td>Data Science</td>\n",
       "    </tr>\n",
       "    <tr>\n",
       "      <th>1</th>\n",
       "      <td>2</td>\n",
       "      <td>21</td>\n",
       "      <td>Full Time</td>\n",
       "      <td>Full Stack</td>\n",
       "    </tr>\n",
       "    <tr>\n",
       "      <th>2</th>\n",
       "      <td>3</td>\n",
       "      <td>31</td>\n",
       "      <td>Full Time</td>\n",
       "      <td>UX/UI</td>\n",
       "    </tr>\n",
       "    <tr>\n",
       "      <th>3</th>\n",
       "      <td>4</td>\n",
       "      <td>41</td>\n",
       "      <td>Full Time</td>\n",
       "      <td>Ciberseguridad</td>\n",
       "    </tr>\n",
       "    <tr>\n",
       "      <th>4</th>\n",
       "      <td>5</td>\n",
       "      <td>12</td>\n",
       "      <td>Part Time</td>\n",
       "      <td>Data Science</td>\n",
       "    </tr>\n",
       "    <tr>\n",
       "      <th>5</th>\n",
       "      <td>6</td>\n",
       "      <td>22</td>\n",
       "      <td>Part Time</td>\n",
       "      <td>Full Stack</td>\n",
       "    </tr>\n",
       "    <tr>\n",
       "      <th>6</th>\n",
       "      <td>7</td>\n",
       "      <td>32</td>\n",
       "      <td>Part Time</td>\n",
       "      <td>UX/UI</td>\n",
       "    </tr>\n",
       "    <tr>\n",
       "      <th>7</th>\n",
       "      <td>8</td>\n",
       "      <td>42</td>\n",
       "      <td>Part Time</td>\n",
       "      <td>Ciberseguridad</td>\n",
       "    </tr>\n",
       "  </tbody>\n",
       "</table>\n",
       "</div>"
      ],
      "text/plain": [
       "   generated_id  Bootcamp_ID    Program   Bootcamp_Name\n",
       "0             1           11  Full Time    Data Science\n",
       "1             2           21  Full Time      Full Stack\n",
       "2             3           31  Full Time           UX/UI\n",
       "3             4           41  Full Time  Ciberseguridad\n",
       "4             5           12  Part Time    Data Science\n",
       "5             6           22  Part Time      Full Stack\n",
       "6             7           32  Part Time           UX/UI\n",
       "7             8           42  Part Time  Ciberseguridad"
      ]
     },
     "execution_count": 7,
     "metadata": {},
     "output_type": "execute_result"
    }
   ],
   "source": [
    "query_bootcamp = \"\"\"\n",
    "SELECT * FROM BOOTCAMP\n",
    "\"\"\"\n",
    "pd.read_sql_query(query_bootcamp, conn)"
   ]
  },
  {
   "cell_type": "code",
   "execution_count": 10,
   "metadata": {
    "colab": {
     "base_uri": "https://localhost:8080/"
    },
    "id": "TkZslrFuJpVs",
    "outputId": "07c33317-d74c-4f66-adb8-0830cf7249c3"
   },
   "outputs": [
    {
     "data": {
      "text/plain": [
       "<sqlite3.Cursor at 0x2a8b815c180>"
      ]
     },
     "execution_count": 10,
     "metadata": {},
     "output_type": "execute_result"
    }
   ],
   "source": [
    "cursor.execute('''\n",
    "                INSERT INTO STUDENTS (Student_Name, Bootcamp_ID, Date_Start)\n",
    "                VALUES\n",
    "                ('Javi', 11, '20-11-2020'),\n",
    "                ('Javi', 11, '25-01-2021'),\n",
    "                ('Laura', 32, '20-11-2020'),\n",
    "                ('Martín', 21, '25-01-2021'),\n",
    "                ('Elena', 12, '25-01-2021')\n",
    "                ''')\n"
   ]
  },
  {
   "cell_type": "markdown",
   "metadata": {
    "id": "tnMzBOHCM-qG"
   },
   "source": [
    "Si ejecuto esta celda dos veces, los valores se van a duplicar generando un ID único para cada valor."
   ]
  },
  {
   "cell_type": "code",
   "execution_count": 11,
   "metadata": {
    "colab": {
     "base_uri": "https://localhost:8080/"
    },
    "id": "HJ5jS_AJJF0x",
    "outputId": "ce2a931d-1b52-44d0-e0e4-f9a84318f503"
   },
   "outputs": [
    {
     "name": "stdout",
     "output_type": "stream",
     "text": [
      "(1, 'Javi', 11, '20-11-2020')\n",
      "(2, 'Javi', 11, '25-01-2021')\n",
      "(3, 'Laura', 32, '20-11-2020')\n",
      "(4, 'Martín', 21, '25-01-2021')\n",
      "(5, 'Elena', 12, '25-01-2021')\n",
      "(6, 'Javi', 11, '20-11-2020')\n",
      "(7, 'Javi', 11, '25-01-2021')\n",
      "(8, 'Laura', 32, '20-11-2020')\n",
      "(9, 'Martín', 21, '25-01-2021')\n",
      "(10, 'Elena', 12, '25-01-2021')\n"
     ]
    }
   ],
   "source": [
    "cursor.execute('SELECT * FROM STUDENTS')\n",
    "\n",
    "for row in cursor:\n",
    "    print(row)"
   ]
  },
  {
   "cell_type": "code",
   "execution_count": 12,
   "metadata": {
    "colab": {
     "base_uri": "https://localhost:8080/",
     "height": 202
    },
    "id": "dNgdtqakKiIy",
    "outputId": "95f982d6-ac3d-45c1-8efd-e5584d03bbb1"
   },
   "outputs": [
    {
     "data": {
      "text/html": [
       "<div>\n",
       "<style scoped>\n",
       "    .dataframe tbody tr th:only-of-type {\n",
       "        vertical-align: middle;\n",
       "    }\n",
       "\n",
       "    .dataframe tbody tr th {\n",
       "        vertical-align: top;\n",
       "    }\n",
       "\n",
       "    .dataframe thead th {\n",
       "        text-align: right;\n",
       "    }\n",
       "</style>\n",
       "<table border=\"1\" class=\"dataframe\">\n",
       "  <thead>\n",
       "    <tr style=\"text-align: right;\">\n",
       "      <th></th>\n",
       "      <th>generated_id</th>\n",
       "      <th>Student_Name</th>\n",
       "      <th>Bootcamp_ID</th>\n",
       "      <th>Date_Start</th>\n",
       "    </tr>\n",
       "  </thead>\n",
       "  <tbody>\n",
       "    <tr>\n",
       "      <th>0</th>\n",
       "      <td>1</td>\n",
       "      <td>Javi</td>\n",
       "      <td>11</td>\n",
       "      <td>20-11-2020</td>\n",
       "    </tr>\n",
       "    <tr>\n",
       "      <th>1</th>\n",
       "      <td>2</td>\n",
       "      <td>Javi</td>\n",
       "      <td>11</td>\n",
       "      <td>25-01-2021</td>\n",
       "    </tr>\n",
       "    <tr>\n",
       "      <th>2</th>\n",
       "      <td>3</td>\n",
       "      <td>Laura</td>\n",
       "      <td>32</td>\n",
       "      <td>20-11-2020</td>\n",
       "    </tr>\n",
       "    <tr>\n",
       "      <th>3</th>\n",
       "      <td>4</td>\n",
       "      <td>Martín</td>\n",
       "      <td>21</td>\n",
       "      <td>25-01-2021</td>\n",
       "    </tr>\n",
       "    <tr>\n",
       "      <th>4</th>\n",
       "      <td>5</td>\n",
       "      <td>Elena</td>\n",
       "      <td>12</td>\n",
       "      <td>25-01-2021</td>\n",
       "    </tr>\n",
       "    <tr>\n",
       "      <th>5</th>\n",
       "      <td>6</td>\n",
       "      <td>Javi</td>\n",
       "      <td>11</td>\n",
       "      <td>20-11-2020</td>\n",
       "    </tr>\n",
       "    <tr>\n",
       "      <th>6</th>\n",
       "      <td>7</td>\n",
       "      <td>Javi</td>\n",
       "      <td>11</td>\n",
       "      <td>25-01-2021</td>\n",
       "    </tr>\n",
       "    <tr>\n",
       "      <th>7</th>\n",
       "      <td>8</td>\n",
       "      <td>Laura</td>\n",
       "      <td>32</td>\n",
       "      <td>20-11-2020</td>\n",
       "    </tr>\n",
       "    <tr>\n",
       "      <th>8</th>\n",
       "      <td>9</td>\n",
       "      <td>Martín</td>\n",
       "      <td>21</td>\n",
       "      <td>25-01-2021</td>\n",
       "    </tr>\n",
       "    <tr>\n",
       "      <th>9</th>\n",
       "      <td>10</td>\n",
       "      <td>Elena</td>\n",
       "      <td>12</td>\n",
       "      <td>25-01-2021</td>\n",
       "    </tr>\n",
       "  </tbody>\n",
       "</table>\n",
       "</div>"
      ],
      "text/plain": [
       "   generated_id Student_Name  Bootcamp_ID  Date_Start\n",
       "0             1         Javi           11  20-11-2020\n",
       "1             2         Javi           11  25-01-2021\n",
       "2             3        Laura           32  20-11-2020\n",
       "3             4       Martín           21  25-01-2021\n",
       "4             5        Elena           12  25-01-2021\n",
       "5             6         Javi           11  20-11-2020\n",
       "6             7         Javi           11  25-01-2021\n",
       "7             8        Laura           32  20-11-2020\n",
       "8             9       Martín           21  25-01-2021\n",
       "9            10        Elena           12  25-01-2021"
      ]
     },
     "execution_count": 12,
     "metadata": {},
     "output_type": "execute_result"
    }
   ],
   "source": [
    "query_students = \"\"\"\n",
    "SELECT * FROM STUDENTS\n",
    "\"\"\"\n",
    "pd.read_sql_query(query_students, conn)"
   ]
  },
  {
   "cell_type": "markdown",
   "metadata": {
    "id": "_UUBTO3_NTDT"
   },
   "source": [
    "### UPDATE"
   ]
  },
  {
   "cell_type": "code",
   "execution_count": 15,
   "metadata": {
    "colab": {
     "base_uri": "https://localhost:8080/",
     "height": 202
    },
    "id": "oTE7VzlXNIT6",
    "outputId": "6340149e-35d5-4945-f849-b1a977d15eb9"
   },
   "outputs": [
    {
     "data": {
      "text/html": [
       "<div>\n",
       "<style scoped>\n",
       "    .dataframe tbody tr th:only-of-type {\n",
       "        vertical-align: middle;\n",
       "    }\n",
       "\n",
       "    .dataframe tbody tr th {\n",
       "        vertical-align: top;\n",
       "    }\n",
       "\n",
       "    .dataframe thead th {\n",
       "        text-align: right;\n",
       "    }\n",
       "</style>\n",
       "<table border=\"1\" class=\"dataframe\">\n",
       "  <thead>\n",
       "    <tr style=\"text-align: right;\">\n",
       "      <th></th>\n",
       "      <th>generated_id</th>\n",
       "      <th>Student_Name</th>\n",
       "      <th>Bootcamp_ID</th>\n",
       "      <th>Date_Start</th>\n",
       "    </tr>\n",
       "  </thead>\n",
       "  <tbody>\n",
       "    <tr>\n",
       "      <th>0</th>\n",
       "      <td>1</td>\n",
       "      <td>Javi</td>\n",
       "      <td>11</td>\n",
       "      <td>20-11-2020</td>\n",
       "    </tr>\n",
       "    <tr>\n",
       "      <th>1</th>\n",
       "      <td>2</td>\n",
       "      <td>Javi</td>\n",
       "      <td>11</td>\n",
       "      <td>25-01-2021</td>\n",
       "    </tr>\n",
       "    <tr>\n",
       "      <th>2</th>\n",
       "      <td>3</td>\n",
       "      <td>Laura</td>\n",
       "      <td>32</td>\n",
       "      <td>20-11-2020</td>\n",
       "    </tr>\n",
       "    <tr>\n",
       "      <th>3</th>\n",
       "      <td>4</td>\n",
       "      <td>Martín</td>\n",
       "      <td>21</td>\n",
       "      <td>25-01-2021</td>\n",
       "    </tr>\n",
       "    <tr>\n",
       "      <th>4</th>\n",
       "      <td>5</td>\n",
       "      <td>Elena</td>\n",
       "      <td>11</td>\n",
       "      <td>25-01-2021</td>\n",
       "    </tr>\n",
       "    <tr>\n",
       "      <th>5</th>\n",
       "      <td>6</td>\n",
       "      <td>Javi</td>\n",
       "      <td>11</td>\n",
       "      <td>20-11-2020</td>\n",
       "    </tr>\n",
       "    <tr>\n",
       "      <th>6</th>\n",
       "      <td>7</td>\n",
       "      <td>Javi</td>\n",
       "      <td>11</td>\n",
       "      <td>25-01-2021</td>\n",
       "    </tr>\n",
       "  </tbody>\n",
       "</table>\n",
       "</div>"
      ],
      "text/plain": [
       "   generated_id Student_Name  Bootcamp_ID  Date_Start\n",
       "0             1         Javi           11  20-11-2020\n",
       "1             2         Javi           11  25-01-2021\n",
       "2             3        Laura           32  20-11-2020\n",
       "3             4       Martín           21  25-01-2021\n",
       "4             5        Elena           11  25-01-2021\n",
       "5             6         Javi           11  20-11-2020\n",
       "6             7         Javi           11  25-01-2021"
      ]
     },
     "execution_count": 15,
     "metadata": {},
     "output_type": "execute_result"
    }
   ],
   "source": [
    "cursor.execute('''\n",
    "                UPDATE STUDENTS\n",
    "                SET Bootcamp_ID = 11\n",
    "                WHERE Student_Name = 'Elena'\n",
    "                ''')\n",
    "\n",
    "pd.read_sql_query(query_students, conn)"
   ]
  },
  {
   "cell_type": "markdown",
   "metadata": {
    "id": "yUTrzoflO2hW"
   },
   "source": [
    "### DELETE"
   ]
  },
  {
   "cell_type": "code",
   "execution_count": 14,
   "metadata": {
    "colab": {
     "base_uri": "https://localhost:8080/",
     "height": 202
    },
    "id": "ilPvWFTbO1cq",
    "outputId": "c7f35f65-ecc1-4181-a173-9491b6682e25"
   },
   "outputs": [
    {
     "data": {
      "text/html": [
       "<div>\n",
       "<style scoped>\n",
       "    .dataframe tbody tr th:only-of-type {\n",
       "        vertical-align: middle;\n",
       "    }\n",
       "\n",
       "    .dataframe tbody tr th {\n",
       "        vertical-align: top;\n",
       "    }\n",
       "\n",
       "    .dataframe thead th {\n",
       "        text-align: right;\n",
       "    }\n",
       "</style>\n",
       "<table border=\"1\" class=\"dataframe\">\n",
       "  <thead>\n",
       "    <tr style=\"text-align: right;\">\n",
       "      <th></th>\n",
       "      <th>generated_id</th>\n",
       "      <th>Student_Name</th>\n",
       "      <th>Bootcamp_ID</th>\n",
       "      <th>Date_Start</th>\n",
       "    </tr>\n",
       "  </thead>\n",
       "  <tbody>\n",
       "    <tr>\n",
       "      <th>0</th>\n",
       "      <td>1</td>\n",
       "      <td>Javi</td>\n",
       "      <td>11</td>\n",
       "      <td>20-11-2020</td>\n",
       "    </tr>\n",
       "    <tr>\n",
       "      <th>1</th>\n",
       "      <td>2</td>\n",
       "      <td>Javi</td>\n",
       "      <td>11</td>\n",
       "      <td>25-01-2021</td>\n",
       "    </tr>\n",
       "    <tr>\n",
       "      <th>2</th>\n",
       "      <td>3</td>\n",
       "      <td>Laura</td>\n",
       "      <td>32</td>\n",
       "      <td>20-11-2020</td>\n",
       "    </tr>\n",
       "    <tr>\n",
       "      <th>3</th>\n",
       "      <td>4</td>\n",
       "      <td>Martín</td>\n",
       "      <td>21</td>\n",
       "      <td>25-01-2021</td>\n",
       "    </tr>\n",
       "    <tr>\n",
       "      <th>4</th>\n",
       "      <td>5</td>\n",
       "      <td>Elena</td>\n",
       "      <td>11</td>\n",
       "      <td>25-01-2021</td>\n",
       "    </tr>\n",
       "    <tr>\n",
       "      <th>5</th>\n",
       "      <td>6</td>\n",
       "      <td>Javi</td>\n",
       "      <td>11</td>\n",
       "      <td>20-11-2020</td>\n",
       "    </tr>\n",
       "    <tr>\n",
       "      <th>6</th>\n",
       "      <td>7</td>\n",
       "      <td>Javi</td>\n",
       "      <td>11</td>\n",
       "      <td>25-01-2021</td>\n",
       "    </tr>\n",
       "  </tbody>\n",
       "</table>\n",
       "</div>"
      ],
      "text/plain": [
       "   generated_id Student_Name  Bootcamp_ID  Date_Start\n",
       "0             1         Javi           11  20-11-2020\n",
       "1             2         Javi           11  25-01-2021\n",
       "2             3        Laura           32  20-11-2020\n",
       "3             4       Martín           21  25-01-2021\n",
       "4             5        Elena           11  25-01-2021\n",
       "5             6         Javi           11  20-11-2020\n",
       "6             7         Javi           11  25-01-2021"
      ]
     },
     "execution_count": 14,
     "metadata": {},
     "output_type": "execute_result"
    }
   ],
   "source": [
    "cursor.execute('''\n",
    "                DELETE FROM STUDENTS \n",
    "                WHERE generated_id in (8,9,10)\n",
    "               ''')\n",
    "\n",
    "pd.read_sql_query(query_students, conn)"
   ]
  },
  {
   "cell_type": "markdown",
   "metadata": {
    "id": "KoZD4LaHN-wj"
   },
   "source": [
    "¡No te olvides de `conn.commit()` para hacer permanente tus cambios! \n",
    "\n",
    "Observa la importancia de la instrucción **WHERE**, en ella indicamos los registros que queremos borrar: todos los registros que cumplan con la condición indicada (es decir en cuya columna indicada esté el valor indicado) serán eliminados.\n",
    "\n",
    "De no poner la instrucción **WHERE** se eliminarán todos los registros de la tabla. La tabla seguirá existiendo, pero será una tabla vacía, sin ningún registro (sólo se mantiene la estructura).\n",
    "\n",
    "Hay que tener mucho cuidado con la instrucción **DELETE**, ya que la eliminación de un registro se hace de forma irreversible. Una vez eliminado ya no se pueden recuperar los datos.\n",
    "\n",
    "\n",
    "\n"
   ]
  },
  {
   "cell_type": "code",
   "execution_count": 16,
   "metadata": {
    "id": "ZJTHi9JVfhMK"
   },
   "outputs": [],
   "source": [
    "conn.commit()"
   ]
  },
  {
   "cell_type": "markdown",
   "metadata": {
    "id": "YTtCe0eMOUMh"
   },
   "source": [
    "[Video \"No te olvides de poner el WHERE en el DELETE FROM\"](https://www.youtube.com/watch?v=i_cVJgIz_Cs&t=1s)"
   ]
  },
  {
   "cell_type": "markdown",
   "metadata": {
    "id": "Es2F5mH7cIem"
   },
   "source": [
    "### TRIGGERS\n",
    "\n",
    "Son objetos de la base de datos que ejecutan acciones cuando se producen ciertos eventos (inserciones, modificaciones, borrados, creación de tablas, etc)."
   ]
  },
  {
   "cell_type": "markdown",
   "metadata": {},
   "source": [
    "Más sobre los triggers --> https://elbauldelprogramador.com/plsql-disparadores-o-triggers/"
   ]
  },
  {
   "cell_type": "code",
   "execution_count": 17,
   "metadata": {
    "colab": {
     "base_uri": "https://localhost:8080/"
    },
    "id": "9-zme73OcbZ7",
    "outputId": "b2474cd7-e9f4-4e71-9375-91573285ae48"
   },
   "outputs": [
    {
     "data": {
      "text/plain": [
       "<sqlite3.Cursor at 0x2a8b815c180>"
      ]
     },
     "execution_count": 17,
     "metadata": {},
     "output_type": "execute_result"
    }
   ],
   "source": [
    "cursor.execute(\"drop trigger if exists my_trigger\")\n",
    "\n",
    "cursor.execute(\"\"\"CREATE TRIGGER my_trigger\n",
    "             AFTER INSERT ON STUDENTS\n",
    "             BEGIN\n",
    "                 INSERT INTO STUDENT_LOGS (Student_ID, Date_Start) VALUES (new.generated_id, strftime('%Y*%m-%d','now'));\n",
    "             END\n",
    "             ;\n",
    "             \"\"\")"
   ]
  },
  {
   "cell_type": "code",
   "execution_count": 22,
   "metadata": {
    "colab": {
     "base_uri": "https://localhost:8080/"
    },
    "id": "ymJAoM7ndJDr",
    "outputId": "8e36b87b-f24a-4d8d-9711-558252816098"
   },
   "outputs": [
    {
     "data": {
      "text/plain": [
       "<sqlite3.Cursor at 0x2a8b815c180>"
      ]
     },
     "execution_count": 22,
     "metadata": {},
     "output_type": "execute_result"
    }
   ],
   "source": [
    "cursor.execute(\"\"\"\n",
    "                INSERT INTO STUDENTS (Student_Name, Bootcamp_ID, Date_Start)\n",
    "                VALUES\n",
    "                ('Clara', 42, '20-11-2020'),\n",
    "                ('Antonio', 21, '15-06-2020')\n",
    "                \"\"\")\n"
   ]
  },
  {
   "cell_type": "code",
   "execution_count": 19,
   "metadata": {},
   "outputs": [],
   "source": [
    "conn.commit()"
   ]
  },
  {
   "cell_type": "code",
   "execution_count": 20,
   "metadata": {},
   "outputs": [
    {
     "data": {
      "text/plain": [
       "[('STUDENTS',), ('BOOTCAMP',), ('STUDENT_LOGS',)]"
      ]
     },
     "execution_count": 20,
     "metadata": {},
     "output_type": "execute_result"
    }
   ],
   "source": [
    "lista_tablas"
   ]
  },
  {
   "cell_type": "code",
   "execution_count": 23,
   "metadata": {
    "colab": {
     "base_uri": "https://localhost:8080/",
     "height": 633
    },
    "id": "HSxgbxASdpDl",
    "outputId": "89ce336a-6f1c-4c3e-bd1c-89a420f71a4e"
   },
   "outputs": [
    {
     "data": {
      "text/html": [
       "<div>\n",
       "<style scoped>\n",
       "    .dataframe tbody tr th:only-of-type {\n",
       "        vertical-align: middle;\n",
       "    }\n",
       "\n",
       "    .dataframe tbody tr th {\n",
       "        vertical-align: top;\n",
       "    }\n",
       "\n",
       "    .dataframe thead th {\n",
       "        text-align: right;\n",
       "    }\n",
       "</style>\n",
       "<table border=\"1\" class=\"dataframe\">\n",
       "  <thead>\n",
       "    <tr style=\"text-align: right;\">\n",
       "      <th></th>\n",
       "      <th>generated_id</th>\n",
       "      <th>Student_Name</th>\n",
       "      <th>Bootcamp_ID</th>\n",
       "      <th>Date_Start</th>\n",
       "    </tr>\n",
       "  </thead>\n",
       "  <tbody>\n",
       "    <tr>\n",
       "      <th>0</th>\n",
       "      <td>1</td>\n",
       "      <td>Javi</td>\n",
       "      <td>11</td>\n",
       "      <td>20-11-2020</td>\n",
       "    </tr>\n",
       "    <tr>\n",
       "      <th>1</th>\n",
       "      <td>2</td>\n",
       "      <td>Javi</td>\n",
       "      <td>11</td>\n",
       "      <td>25-01-2021</td>\n",
       "    </tr>\n",
       "    <tr>\n",
       "      <th>2</th>\n",
       "      <td>3</td>\n",
       "      <td>Laura</td>\n",
       "      <td>32</td>\n",
       "      <td>20-11-2020</td>\n",
       "    </tr>\n",
       "    <tr>\n",
       "      <th>3</th>\n",
       "      <td>4</td>\n",
       "      <td>Martín</td>\n",
       "      <td>21</td>\n",
       "      <td>25-01-2021</td>\n",
       "    </tr>\n",
       "    <tr>\n",
       "      <th>4</th>\n",
       "      <td>5</td>\n",
       "      <td>Elena</td>\n",
       "      <td>11</td>\n",
       "      <td>25-01-2021</td>\n",
       "    </tr>\n",
       "    <tr>\n",
       "      <th>5</th>\n",
       "      <td>6</td>\n",
       "      <td>Javi</td>\n",
       "      <td>11</td>\n",
       "      <td>20-11-2020</td>\n",
       "    </tr>\n",
       "    <tr>\n",
       "      <th>6</th>\n",
       "      <td>7</td>\n",
       "      <td>Javi</td>\n",
       "      <td>11</td>\n",
       "      <td>25-01-2021</td>\n",
       "    </tr>\n",
       "    <tr>\n",
       "      <th>7</th>\n",
       "      <td>8</td>\n",
       "      <td>Clara</td>\n",
       "      <td>42</td>\n",
       "      <td>20-11-2020</td>\n",
       "    </tr>\n",
       "    <tr>\n",
       "      <th>8</th>\n",
       "      <td>9</td>\n",
       "      <td>Antonio</td>\n",
       "      <td>21</td>\n",
       "      <td>15-06-2020</td>\n",
       "    </tr>\n",
       "    <tr>\n",
       "      <th>9</th>\n",
       "      <td>10</td>\n",
       "      <td>Clara</td>\n",
       "      <td>42</td>\n",
       "      <td>20-11-2020</td>\n",
       "    </tr>\n",
       "    <tr>\n",
       "      <th>10</th>\n",
       "      <td>11</td>\n",
       "      <td>Antonio</td>\n",
       "      <td>21</td>\n",
       "      <td>15-06-2020</td>\n",
       "    </tr>\n",
       "  </tbody>\n",
       "</table>\n",
       "</div>"
      ],
      "text/plain": [
       "    generated_id Student_Name  Bootcamp_ID  Date_Start\n",
       "0              1         Javi           11  20-11-2020\n",
       "1              2         Javi           11  25-01-2021\n",
       "2              3        Laura           32  20-11-2020\n",
       "3              4       Martín           21  25-01-2021\n",
       "4              5        Elena           11  25-01-2021\n",
       "5              6         Javi           11  20-11-2020\n",
       "6              7         Javi           11  25-01-2021\n",
       "7              8        Clara           42  20-11-2020\n",
       "8              9      Antonio           21  15-06-2020\n",
       "9             10        Clara           42  20-11-2020\n",
       "10            11      Antonio           21  15-06-2020"
      ]
     },
     "metadata": {},
     "output_type": "display_data"
    },
    {
     "data": {
      "text/html": [
       "<div>\n",
       "<style scoped>\n",
       "    .dataframe tbody tr th:only-of-type {\n",
       "        vertical-align: middle;\n",
       "    }\n",
       "\n",
       "    .dataframe tbody tr th {\n",
       "        vertical-align: top;\n",
       "    }\n",
       "\n",
       "    .dataframe thead th {\n",
       "        text-align: right;\n",
       "    }\n",
       "</style>\n",
       "<table border=\"1\" class=\"dataframe\">\n",
       "  <thead>\n",
       "    <tr style=\"text-align: right;\">\n",
       "      <th></th>\n",
       "      <th>generated_id</th>\n",
       "      <th>Bootcamp_ID</th>\n",
       "      <th>Program</th>\n",
       "      <th>Bootcamp_Name</th>\n",
       "    </tr>\n",
       "  </thead>\n",
       "  <tbody>\n",
       "    <tr>\n",
       "      <th>0</th>\n",
       "      <td>1</td>\n",
       "      <td>11</td>\n",
       "      <td>Full Time</td>\n",
       "      <td>Data Science</td>\n",
       "    </tr>\n",
       "    <tr>\n",
       "      <th>1</th>\n",
       "      <td>2</td>\n",
       "      <td>21</td>\n",
       "      <td>Full Time</td>\n",
       "      <td>Full Stack</td>\n",
       "    </tr>\n",
       "    <tr>\n",
       "      <th>2</th>\n",
       "      <td>3</td>\n",
       "      <td>31</td>\n",
       "      <td>Full Time</td>\n",
       "      <td>UX/UI</td>\n",
       "    </tr>\n",
       "    <tr>\n",
       "      <th>3</th>\n",
       "      <td>4</td>\n",
       "      <td>41</td>\n",
       "      <td>Full Time</td>\n",
       "      <td>Ciberseguridad</td>\n",
       "    </tr>\n",
       "    <tr>\n",
       "      <th>4</th>\n",
       "      <td>5</td>\n",
       "      <td>12</td>\n",
       "      <td>Part Time</td>\n",
       "      <td>Data Science</td>\n",
       "    </tr>\n",
       "    <tr>\n",
       "      <th>5</th>\n",
       "      <td>6</td>\n",
       "      <td>22</td>\n",
       "      <td>Part Time</td>\n",
       "      <td>Full Stack</td>\n",
       "    </tr>\n",
       "    <tr>\n",
       "      <th>6</th>\n",
       "      <td>7</td>\n",
       "      <td>32</td>\n",
       "      <td>Part Time</td>\n",
       "      <td>UX/UI</td>\n",
       "    </tr>\n",
       "    <tr>\n",
       "      <th>7</th>\n",
       "      <td>8</td>\n",
       "      <td>42</td>\n",
       "      <td>Part Time</td>\n",
       "      <td>Ciberseguridad</td>\n",
       "    </tr>\n",
       "  </tbody>\n",
       "</table>\n",
       "</div>"
      ],
      "text/plain": [
       "   generated_id  Bootcamp_ID    Program   Bootcamp_Name\n",
       "0             1           11  Full Time    Data Science\n",
       "1             2           21  Full Time      Full Stack\n",
       "2             3           31  Full Time           UX/UI\n",
       "3             4           41  Full Time  Ciberseguridad\n",
       "4             5           12  Part Time    Data Science\n",
       "5             6           22  Part Time      Full Stack\n",
       "6             7           32  Part Time           UX/UI\n",
       "7             8           42  Part Time  Ciberseguridad"
      ]
     },
     "metadata": {},
     "output_type": "display_data"
    },
    {
     "data": {
      "text/html": [
       "<div>\n",
       "<style scoped>\n",
       "    .dataframe tbody tr th:only-of-type {\n",
       "        vertical-align: middle;\n",
       "    }\n",
       "\n",
       "    .dataframe tbody tr th {\n",
       "        vertical-align: top;\n",
       "    }\n",
       "\n",
       "    .dataframe thead th {\n",
       "        text-align: right;\n",
       "    }\n",
       "</style>\n",
       "<table border=\"1\" class=\"dataframe\">\n",
       "  <thead>\n",
       "    <tr style=\"text-align: right;\">\n",
       "      <th></th>\n",
       "      <th>Student_ID</th>\n",
       "      <th>Date_Start</th>\n",
       "    </tr>\n",
       "  </thead>\n",
       "  <tbody>\n",
       "    <tr>\n",
       "      <th>0</th>\n",
       "      <td>8</td>\n",
       "      <td>2021*02-04</td>\n",
       "    </tr>\n",
       "    <tr>\n",
       "      <th>1</th>\n",
       "      <td>9</td>\n",
       "      <td>2021*02-04</td>\n",
       "    </tr>\n",
       "    <tr>\n",
       "      <th>2</th>\n",
       "      <td>10</td>\n",
       "      <td>2021*02-04</td>\n",
       "    </tr>\n",
       "    <tr>\n",
       "      <th>3</th>\n",
       "      <td>11</td>\n",
       "      <td>2021*02-04</td>\n",
       "    </tr>\n",
       "  </tbody>\n",
       "</table>\n",
       "</div>"
      ],
      "text/plain": [
       "   Student_ID  Date_Start\n",
       "0           8  2021*02-04\n",
       "1           9  2021*02-04\n",
       "2          10  2021*02-04\n",
       "3          11  2021*02-04"
      ]
     },
     "metadata": {},
     "output_type": "display_data"
    }
   ],
   "source": [
    "for tabla in lista_tablas:\n",
    "    display(pd.read_sql_query(f\"SELECT * FROM {tabla[0]}\", conn))"
   ]
  },
  {
   "cell_type": "markdown",
   "metadata": {
    "id": "SoPaXa8fgTK5"
   },
   "source": [
    "**¿En qué Bootcamp está Elena?**"
   ]
  },
  {
   "cell_type": "code",
   "execution_count": 24,
   "metadata": {
    "colab": {
     "base_uri": "https://localhost:8080/"
    },
    "id": "dzRRPQwsgbiE",
    "outputId": "b3731e24-4f96-444b-e0b5-d6a394a75eff"
   },
   "outputs": [
    {
     "data": {
      "text/plain": [
       "[('Elena', 'Data Science', 'Full Time')]"
      ]
     },
     "execution_count": 24,
     "metadata": {},
     "output_type": "execute_result"
    }
   ],
   "source": [
    "query_review = \"\"\"\n",
    "SELECT s.Student_Name, b.Bootcamp_Name, b.Program\n",
    "FROM STUDENTS s\n",
    "JOIN BOOTCAMP b ON b.Bootcamp_ID == s.Bootcamp_ID\n",
    "WHERE s.Student_Name == 'Elena'\n",
    "\"\"\"\n",
    "\n",
    "cursor.execute(query_review)\n",
    "cursor.fetchall()"
   ]
  },
  {
   "cell_type": "markdown",
   "metadata": {},
   "source": [
    "---------------------------------------------------------------------------------------------------------------"
   ]
  },
  {
   "cell_type": "markdown",
   "metadata": {},
   "source": [
    "¿Y qué es más importante que hacer `conn.commit()`? \n",
    "\n",
    "¡Hacer `conn.close()`!"
   ]
  },
  {
   "cell_type": "code",
   "execution_count": 25,
   "metadata": {
    "id": "M0cPQ2jVYngA"
   },
   "outputs": [],
   "source": [
    "conn.close()"
   ]
  },
  {
   "cell_type": "markdown",
   "metadata": {},
   "source": [
    "--------------------------------------------------------------------------------------------"
   ]
  },
  {
   "cell_type": "markdown",
   "metadata": {
    "id": "2pUSVkAcj5rx"
   },
   "source": [
    "### Referencias\n",
    "\n",
    "- [w3schools](https://www.w3schools.com/sql/default.asp)  es tu lugar de referencia por excelencia.\n",
    "- Busca en [datatofish](https://datatofish.com/python-tutorials/) la sección **Databases & SQL**\n",
    "- Practica [String Functions](https://mode.com/sql-tutorial/sql-string-functions-for-cleaning/)\n",
    "\n",
    "#### ¿Buscas **cursos/tutoriales** gratuitos?\n",
    "\n",
    "- https://sqlbolt.com/\n",
    "- https://www.kaggle.com/learn/intro-to-sql\n",
    "\n",
    "#### ¿Un poco más avanzado?\n",
    "\n",
    "- https://www.kaggle.com/learn/advanced-sql\n",
    "\n",
    "#### El retorno de Jeremy...\n",
    "\n",
    "- http://mystery.knightlab.com/#experienced\n",
    "\n",
    "#### La respuesta a la primera pregunta \n",
    "\n",
    "- https://medium.com/tableplus/how-to-pronounce-sql-properly-s-q-l-or-sequel-7203a5185676"
   ]
  }
 ],
 "metadata": {
  "colab": {
   "name": "SQL_advanced.ipynb",
   "provenance": []
  },
  "kernelspec": {
   "display_name": "Python 3",
   "language": "python",
   "name": "python3"
  },
  "language_info": {
   "codemirror_mode": {
    "name": "ipython",
    "version": 3
   },
   "file_extension": ".py",
   "mimetype": "text/x-python",
   "name": "python",
   "nbconvert_exporter": "python",
   "pygments_lexer": "ipython3",
   "version": "3.8.3"
  }
 },
 "nbformat": 4,
 "nbformat_minor": 1
}

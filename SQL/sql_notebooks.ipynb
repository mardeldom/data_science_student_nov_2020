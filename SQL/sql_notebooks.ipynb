{
 "metadata": {
  "language_info": {
   "codemirror_mode": {
    "name": "ipython",
    "version": 3
   },
   "file_extension": ".py",
   "mimetype": "text/x-python",
   "name": "python",
   "nbconvert_exporter": "python",
   "pygments_lexer": "ipython3",
   "version": "3.9.0-final"
  },
  "orig_nbformat": 2,
  "kernelspec": {
   "name": "python3",
   "display_name": "Python 3.9.0 64-bit",
   "metadata": {
    "interpreter": {
     "hash": "2e3c1e8da6e821b0193601da5a0e541c0efda9704da45b6b820f5f4c317f2def"
    }
   }
  }
 },
 "nbformat": 4,
 "nbformat_minor": 2,
 "cells": [
  {
   "cell_type": "code",
   "execution_count": 1,
   "metadata": {},
   "outputs": [],
   "source": [
    "import sqlite3"
   ]
  },
  {
   "cell_type": "code",
   "execution_count": null,
   "metadata": {},
   "outputs": [],
   "source": [
    "#Función para pasar de archivos sqlite a csv\n",
    "def sqlite_to_csv(file_path, table_name, output_file):\n",
    "    \"\"\" Creates a csv file from sqlite file\n",
    "\n",
    "        Args:   \n",
    "            file_path ([str]): path of the sqlite file to be converted\n",
    "            table_name ([str]): name of the table to be converted\n",
    "            output_file ([str]): name of the output csv file\n",
    "    \"\"\"\n",
    "    # Creates SQL connection\n",
    "    try:\n",
    "        connection = sqlite3.connect(file_path, isolation_level=None, detect_types=sqlite3.PARSE_COLNAMES)\n",
    "    except FileNotFoundError:\n",
    "        print(\"ERROR: File not found.\")\n",
    "    except:\n",
    "        print(\"ERROR: SQL connection not created.\")\n",
    "\n",
    "    # Reads table from SQLite file and exports it to a csv file\n",
    "    try:\n",
    "        database = pd.read_sql_query(\"SELECT * FROM \" + table_name, connection)\n",
    "        database.to_csv(output_file, index=False)\n",
    "    except:\n",
    "        print(\"ERROR: CSV file not created.\")"
   ]
  },
  {
   "cell_type": "code",
   "execution_count": 2,
   "metadata": {},
   "outputs": [],
   "source": [
    "import pandas as pd "
   ]
  },
  {
   "cell_type": "code",
   "execution_count": 3,
   "metadata": {},
   "outputs": [],
   "source": [
    "dir_db= \"chinook.db\"\n",
    "#Conexion a la base de datos que esta en sqlite3\n",
    "conn = sqlite3.connect(dir_db)"
   ]
  },
  {
   "cell_type": "code",
   "execution_count": 4,
   "metadata": {},
   "outputs": [],
   "source": [
    "#Creamos el cursor\n",
    "cursor = conn.cursor()"
   ]
  },
  {
   "cell_type": "code",
   "execution_count": 14,
   "metadata": {},
   "outputs": [],
   "source": [
    "query = \"\"\"\n",
    "SELECT *\n",
    "FROM genres\n",
    "\"\"\""
   ]
  },
  {
   "cell_type": "code",
   "execution_count": 15,
   "metadata": {},
   "outputs": [],
   "source": [
    "mi_query= cursor.execute(query)"
   ]
  },
  {
   "cell_type": "code",
   "execution_count": 16,
   "metadata": {},
   "outputs": [
    {
     "output_type": "execute_result",
     "data": {
      "text/plain": [
       "[(1, 'Rock'),\n",
       " (2, 'Jazz'),\n",
       " (3, 'Metal'),\n",
       " (4, 'Alternative & Punk'),\n",
       " (5, 'Rock And Roll'),\n",
       " (6, 'Blues'),\n",
       " (7, 'Latin'),\n",
       " (8, 'Reggae'),\n",
       " (9, 'Pop'),\n",
       " (10, 'Soundtrack'),\n",
       " (11, 'Bossa Nova'),\n",
       " (12, 'Easy Listening'),\n",
       " (13, 'Heavy Metal'),\n",
       " (14, 'R&B/Soul'),\n",
       " (15, 'Electronica/Dance'),\n",
       " (16, 'World'),\n",
       " (17, 'Hip Hop/Rap'),\n",
       " (18, 'Science Fiction'),\n",
       " (19, 'TV Shows'),\n",
       " (20, 'Sci Fi & Fantasy'),\n",
       " (21, 'Drama'),\n",
       " (22, 'Comedy'),\n",
       " (23, 'Alternative'),\n",
       " (24, 'Classical'),\n",
       " (25, 'Opera'),\n",
       " (90, 'hola')]"
      ]
     },
     "metadata": {},
     "execution_count": 16
    }
   ],
   "source": [
    "mi_query.fetchall()"
   ]
  },
  {
   "cell_type": "code",
   "execution_count": 5,
   "metadata": {},
   "outputs": [
    {
     "output_type": "error",
     "ename": "NameError",
     "evalue": "name 'query' is not defined",
     "traceback": [
      "\u001b[1;31m---------------------------------------------------------------------------\u001b[0m",
      "\u001b[1;31mNameError\u001b[0m                                 Traceback (most recent call last)",
      "\u001b[1;32m<ipython-input-5-3d31ac1c75bd>\u001b[0m in \u001b[0;36m<module>\u001b[1;34m\u001b[0m\n\u001b[1;32m----> 1\u001b[1;33m \u001b[0mpd\u001b[0m\u001b[1;33m.\u001b[0m\u001b[0mread_sql_query\u001b[0m\u001b[1;33m(\u001b[0m\u001b[0mquery\u001b[0m\u001b[1;33m,\u001b[0m \u001b[0mconn\u001b[0m\u001b[1;33m)\u001b[0m\u001b[1;33m\u001b[0m\u001b[1;33m\u001b[0m\u001b[0m\n\u001b[0m",
      "\u001b[1;31mNameError\u001b[0m: name 'query' is not defined"
     ]
    }
   ],
   "source": [
    "pd.read_sql_query(query, conn)"
   ]
  },
  {
   "cell_type": "code",
   "execution_count": 19,
   "metadata": {},
   "outputs": [
    {
     "output_type": "execute_result",
     "data": {
      "text/plain": [
       "     CustomerId FirstName    LastName  \\\n",
       "0             1      Luís   Gonçalves   \n",
       "1             1      Luís   Gonçalves   \n",
       "2             1      Luís   Gonçalves   \n",
       "3             1      Luís   Gonçalves   \n",
       "4             1      Luís   Gonçalves   \n",
       "..          ...       ...         ...   \n",
       "407          59      Puja  Srivastava   \n",
       "408          59      Puja  Srivastava   \n",
       "409          59      Puja  Srivastava   \n",
       "410          59      Puja  Srivastava   \n",
       "411          59      Puja  Srivastava   \n",
       "\n",
       "                                              Company  \\\n",
       "0    Embraer - Empresa Brasileira de Aeronáutica S.A.   \n",
       "1    Embraer - Empresa Brasileira de Aeronáutica S.A.   \n",
       "2    Embraer - Empresa Brasileira de Aeronáutica S.A.   \n",
       "3    Embraer - Empresa Brasileira de Aeronáutica S.A.   \n",
       "4    Embraer - Empresa Brasileira de Aeronáutica S.A.   \n",
       "..                                                ...   \n",
       "407                                              None   \n",
       "408                                              None   \n",
       "409                                              None   \n",
       "410                                              None   \n",
       "411                                              None   \n",
       "\n",
       "                             Address                 City State Country  \\\n",
       "0    Av. Brigadeiro Faria Lima, 2170  São José dos Campos    SP  Brazil   \n",
       "1    Av. Brigadeiro Faria Lima, 2170  São José dos Campos    SP  Brazil   \n",
       "2    Av. Brigadeiro Faria Lima, 2170  São José dos Campos    SP  Brazil   \n",
       "3    Av. Brigadeiro Faria Lima, 2170  São José dos Campos    SP  Brazil   \n",
       "4    Av. Brigadeiro Faria Lima, 2170  São José dos Campos    SP  Brazil   \n",
       "..                               ...                  ...   ...     ...   \n",
       "407                3,Raj Bhavan Road            Bangalore  None   India   \n",
       "408                3,Raj Bhavan Road            Bangalore  None   India   \n",
       "409                3,Raj Bhavan Road            Bangalore  None   India   \n",
       "410                3,Raj Bhavan Road            Bangalore  None   India   \n",
       "411                3,Raj Bhavan Road            Bangalore  None   India   \n",
       "\n",
       "    PostalCode               Phone  ... SupportRepId InvoiceId  CustomerId  \\\n",
       "0    12227-000  +55 (12) 3923-5555  ...            3        98           1   \n",
       "1    12227-000  +55 (12) 3923-5555  ...            3       121           1   \n",
       "2    12227-000  +55 (12) 3923-5555  ...            3       143           1   \n",
       "3    12227-000  +55 (12) 3923-5555  ...            3       195           1   \n",
       "4    12227-000  +55 (12) 3923-5555  ...            3       316           1   \n",
       "..         ...                 ...  ...          ...       ...         ...   \n",
       "407     560001    +91 080 22289999  ...            3        45          59   \n",
       "408     560001    +91 080 22289999  ...            3        97          59   \n",
       "409     560001    +91 080 22289999  ...            3       218          59   \n",
       "410     560001    +91 080 22289999  ...            3       229          59   \n",
       "411     560001    +91 080 22289999  ...            3       284          59   \n",
       "\n",
       "             InvoiceDate                   BillingAddress  \\\n",
       "0    2010-03-11 00:00:00  Av. Brigadeiro Faria Lima, 2170   \n",
       "1    2010-06-13 00:00:00  Av. Brigadeiro Faria Lima, 2170   \n",
       "2    2010-09-15 00:00:00  Av. Brigadeiro Faria Lima, 2170   \n",
       "3    2011-05-06 00:00:00  Av. Brigadeiro Faria Lima, 2170   \n",
       "4    2012-10-27 00:00:00  Av. Brigadeiro Faria Lima, 2170   \n",
       "..                   ...                              ...   \n",
       "407  2009-07-08 00:00:00                3,Raj Bhavan Road   \n",
       "408  2010-02-26 00:00:00                3,Raj Bhavan Road   \n",
       "409  2011-08-20 00:00:00                3,Raj Bhavan Road   \n",
       "410  2011-09-30 00:00:00                3,Raj Bhavan Road   \n",
       "411  2012-05-30 00:00:00                3,Raj Bhavan Road   \n",
       "\n",
       "             BillingCity BillingState BillingCountry BillingPostalCode  Total  \n",
       "0    São José dos Campos           SP         Brazil         12227-000   3.98  \n",
       "1    São José dos Campos           SP         Brazil         12227-000   3.96  \n",
       "2    São José dos Campos           SP         Brazil         12227-000   5.94  \n",
       "3    São José dos Campos           SP         Brazil         12227-000   0.99  \n",
       "4    São José dos Campos           SP         Brazil         12227-000   1.98  \n",
       "..                   ...          ...            ...               ...    ...  \n",
       "407            Bangalore         None          India            560001   5.94  \n",
       "408            Bangalore         None          India            560001   1.99  \n",
       "409            Bangalore         None          India            560001   1.98  \n",
       "410            Bangalore         None          India            560001  13.86  \n",
       "411            Bangalore         None          India            560001   8.91  \n",
       "\n",
       "[412 rows x 22 columns]"
      ],
      "text/html": "<div>\n<style scoped>\n    .dataframe tbody tr th:only-of-type {\n        vertical-align: middle;\n    }\n\n    .dataframe tbody tr th {\n        vertical-align: top;\n    }\n\n    .dataframe thead th {\n        text-align: right;\n    }\n</style>\n<table border=\"1\" class=\"dataframe\">\n  <thead>\n    <tr style=\"text-align: right;\">\n      <th></th>\n      <th>CustomerId</th>\n      <th>FirstName</th>\n      <th>LastName</th>\n      <th>Company</th>\n      <th>Address</th>\n      <th>City</th>\n      <th>State</th>\n      <th>Country</th>\n      <th>PostalCode</th>\n      <th>Phone</th>\n      <th>...</th>\n      <th>SupportRepId</th>\n      <th>InvoiceId</th>\n      <th>CustomerId</th>\n      <th>InvoiceDate</th>\n      <th>BillingAddress</th>\n      <th>BillingCity</th>\n      <th>BillingState</th>\n      <th>BillingCountry</th>\n      <th>BillingPostalCode</th>\n      <th>Total</th>\n    </tr>\n  </thead>\n  <tbody>\n    <tr>\n      <th>0</th>\n      <td>1</td>\n      <td>Luís</td>\n      <td>Gonçalves</td>\n      <td>Embraer - Empresa Brasileira de Aeronáutica S.A.</td>\n      <td>Av. Brigadeiro Faria Lima, 2170</td>\n      <td>São José dos Campos</td>\n      <td>SP</td>\n      <td>Brazil</td>\n      <td>12227-000</td>\n      <td>+55 (12) 3923-5555</td>\n      <td>...</td>\n      <td>3</td>\n      <td>98</td>\n      <td>1</td>\n      <td>2010-03-11 00:00:00</td>\n      <td>Av. Brigadeiro Faria Lima, 2170</td>\n      <td>São José dos Campos</td>\n      <td>SP</td>\n      <td>Brazil</td>\n      <td>12227-000</td>\n      <td>3.98</td>\n    </tr>\n    <tr>\n      <th>1</th>\n      <td>1</td>\n      <td>Luís</td>\n      <td>Gonçalves</td>\n      <td>Embraer - Empresa Brasileira de Aeronáutica S.A.</td>\n      <td>Av. Brigadeiro Faria Lima, 2170</td>\n      <td>São José dos Campos</td>\n      <td>SP</td>\n      <td>Brazil</td>\n      <td>12227-000</td>\n      <td>+55 (12) 3923-5555</td>\n      <td>...</td>\n      <td>3</td>\n      <td>121</td>\n      <td>1</td>\n      <td>2010-06-13 00:00:00</td>\n      <td>Av. Brigadeiro Faria Lima, 2170</td>\n      <td>São José dos Campos</td>\n      <td>SP</td>\n      <td>Brazil</td>\n      <td>12227-000</td>\n      <td>3.96</td>\n    </tr>\n    <tr>\n      <th>2</th>\n      <td>1</td>\n      <td>Luís</td>\n      <td>Gonçalves</td>\n      <td>Embraer - Empresa Brasileira de Aeronáutica S.A.</td>\n      <td>Av. Brigadeiro Faria Lima, 2170</td>\n      <td>São José dos Campos</td>\n      <td>SP</td>\n      <td>Brazil</td>\n      <td>12227-000</td>\n      <td>+55 (12) 3923-5555</td>\n      <td>...</td>\n      <td>3</td>\n      <td>143</td>\n      <td>1</td>\n      <td>2010-09-15 00:00:00</td>\n      <td>Av. Brigadeiro Faria Lima, 2170</td>\n      <td>São José dos Campos</td>\n      <td>SP</td>\n      <td>Brazil</td>\n      <td>12227-000</td>\n      <td>5.94</td>\n    </tr>\n    <tr>\n      <th>3</th>\n      <td>1</td>\n      <td>Luís</td>\n      <td>Gonçalves</td>\n      <td>Embraer - Empresa Brasileira de Aeronáutica S.A.</td>\n      <td>Av. Brigadeiro Faria Lima, 2170</td>\n      <td>São José dos Campos</td>\n      <td>SP</td>\n      <td>Brazil</td>\n      <td>12227-000</td>\n      <td>+55 (12) 3923-5555</td>\n      <td>...</td>\n      <td>3</td>\n      <td>195</td>\n      <td>1</td>\n      <td>2011-05-06 00:00:00</td>\n      <td>Av. Brigadeiro Faria Lima, 2170</td>\n      <td>São José dos Campos</td>\n      <td>SP</td>\n      <td>Brazil</td>\n      <td>12227-000</td>\n      <td>0.99</td>\n    </tr>\n    <tr>\n      <th>4</th>\n      <td>1</td>\n      <td>Luís</td>\n      <td>Gonçalves</td>\n      <td>Embraer - Empresa Brasileira de Aeronáutica S.A.</td>\n      <td>Av. Brigadeiro Faria Lima, 2170</td>\n      <td>São José dos Campos</td>\n      <td>SP</td>\n      <td>Brazil</td>\n      <td>12227-000</td>\n      <td>+55 (12) 3923-5555</td>\n      <td>...</td>\n      <td>3</td>\n      <td>316</td>\n      <td>1</td>\n      <td>2012-10-27 00:00:00</td>\n      <td>Av. Brigadeiro Faria Lima, 2170</td>\n      <td>São José dos Campos</td>\n      <td>SP</td>\n      <td>Brazil</td>\n      <td>12227-000</td>\n      <td>1.98</td>\n    </tr>\n    <tr>\n      <th>...</th>\n      <td>...</td>\n      <td>...</td>\n      <td>...</td>\n      <td>...</td>\n      <td>...</td>\n      <td>...</td>\n      <td>...</td>\n      <td>...</td>\n      <td>...</td>\n      <td>...</td>\n      <td>...</td>\n      <td>...</td>\n      <td>...</td>\n      <td>...</td>\n      <td>...</td>\n      <td>...</td>\n      <td>...</td>\n      <td>...</td>\n      <td>...</td>\n      <td>...</td>\n      <td>...</td>\n    </tr>\n    <tr>\n      <th>407</th>\n      <td>59</td>\n      <td>Puja</td>\n      <td>Srivastava</td>\n      <td>None</td>\n      <td>3,Raj Bhavan Road</td>\n      <td>Bangalore</td>\n      <td>None</td>\n      <td>India</td>\n      <td>560001</td>\n      <td>+91 080 22289999</td>\n      <td>...</td>\n      <td>3</td>\n      <td>45</td>\n      <td>59</td>\n      <td>2009-07-08 00:00:00</td>\n      <td>3,Raj Bhavan Road</td>\n      <td>Bangalore</td>\n      <td>None</td>\n      <td>India</td>\n      <td>560001</td>\n      <td>5.94</td>\n    </tr>\n    <tr>\n      <th>408</th>\n      <td>59</td>\n      <td>Puja</td>\n      <td>Srivastava</td>\n      <td>None</td>\n      <td>3,Raj Bhavan Road</td>\n      <td>Bangalore</td>\n      <td>None</td>\n      <td>India</td>\n      <td>560001</td>\n      <td>+91 080 22289999</td>\n      <td>...</td>\n      <td>3</td>\n      <td>97</td>\n      <td>59</td>\n      <td>2010-02-26 00:00:00</td>\n      <td>3,Raj Bhavan Road</td>\n      <td>Bangalore</td>\n      <td>None</td>\n      <td>India</td>\n      <td>560001</td>\n      <td>1.99</td>\n    </tr>\n    <tr>\n      <th>409</th>\n      <td>59</td>\n      <td>Puja</td>\n      <td>Srivastava</td>\n      <td>None</td>\n      <td>3,Raj Bhavan Road</td>\n      <td>Bangalore</td>\n      <td>None</td>\n      <td>India</td>\n      <td>560001</td>\n      <td>+91 080 22289999</td>\n      <td>...</td>\n      <td>3</td>\n      <td>218</td>\n      <td>59</td>\n      <td>2011-08-20 00:00:00</td>\n      <td>3,Raj Bhavan Road</td>\n      <td>Bangalore</td>\n      <td>None</td>\n      <td>India</td>\n      <td>560001</td>\n      <td>1.98</td>\n    </tr>\n    <tr>\n      <th>410</th>\n      <td>59</td>\n      <td>Puja</td>\n      <td>Srivastava</td>\n      <td>None</td>\n      <td>3,Raj Bhavan Road</td>\n      <td>Bangalore</td>\n      <td>None</td>\n      <td>India</td>\n      <td>560001</td>\n      <td>+91 080 22289999</td>\n      <td>...</td>\n      <td>3</td>\n      <td>229</td>\n      <td>59</td>\n      <td>2011-09-30 00:00:00</td>\n      <td>3,Raj Bhavan Road</td>\n      <td>Bangalore</td>\n      <td>None</td>\n      <td>India</td>\n      <td>560001</td>\n      <td>13.86</td>\n    </tr>\n    <tr>\n      <th>411</th>\n      <td>59</td>\n      <td>Puja</td>\n      <td>Srivastava</td>\n      <td>None</td>\n      <td>3,Raj Bhavan Road</td>\n      <td>Bangalore</td>\n      <td>None</td>\n      <td>India</td>\n      <td>560001</td>\n      <td>+91 080 22289999</td>\n      <td>...</td>\n      <td>3</td>\n      <td>284</td>\n      <td>59</td>\n      <td>2012-05-30 00:00:00</td>\n      <td>3,Raj Bhavan Road</td>\n      <td>Bangalore</td>\n      <td>None</td>\n      <td>India</td>\n      <td>560001</td>\n      <td>8.91</td>\n    </tr>\n  </tbody>\n</table>\n<p>412 rows × 22 columns</p>\n</div>"
     },
     "metadata": {},
     "execution_count": 19
    }
   ],
   "source": [
    "query = \"\"\"\n",
    "SELECT *\n",
    "FROM customers, invoices\n",
    "WHERE customers.CustomerId = invoices.CustomerId\n",
    "\"\"\"\n",
    "pd.read_sql_query(query,conn)"
   ]
  },
  {
   "cell_type": "code",
   "execution_count": 20,
   "metadata": {},
   "outputs": [
    {
     "output_type": "execute_result",
     "data": {
      "text/plain": [
       "     CustomerId FirstName    LastName  \\\n",
       "0             1      Luís   Gonçalves   \n",
       "1             1      Luís   Gonçalves   \n",
       "2             1      Luís   Gonçalves   \n",
       "3             1      Luís   Gonçalves   \n",
       "4             1      Luís   Gonçalves   \n",
       "..          ...       ...         ...   \n",
       "407          59      Puja  Srivastava   \n",
       "408          59      Puja  Srivastava   \n",
       "409          59      Puja  Srivastava   \n",
       "410          59      Puja  Srivastava   \n",
       "411          59      Puja  Srivastava   \n",
       "\n",
       "                                              Company  \\\n",
       "0    Embraer - Empresa Brasileira de Aeronáutica S.A.   \n",
       "1    Embraer - Empresa Brasileira de Aeronáutica S.A.   \n",
       "2    Embraer - Empresa Brasileira de Aeronáutica S.A.   \n",
       "3    Embraer - Empresa Brasileira de Aeronáutica S.A.   \n",
       "4    Embraer - Empresa Brasileira de Aeronáutica S.A.   \n",
       "..                                                ...   \n",
       "407                                              None   \n",
       "408                                              None   \n",
       "409                                              None   \n",
       "410                                              None   \n",
       "411                                              None   \n",
       "\n",
       "                             Address                 City State Country  \\\n",
       "0    Av. Brigadeiro Faria Lima, 2170  São José dos Campos    SP  Brazil   \n",
       "1    Av. Brigadeiro Faria Lima, 2170  São José dos Campos    SP  Brazil   \n",
       "2    Av. Brigadeiro Faria Lima, 2170  São José dos Campos    SP  Brazil   \n",
       "3    Av. Brigadeiro Faria Lima, 2170  São José dos Campos    SP  Brazil   \n",
       "4    Av. Brigadeiro Faria Lima, 2170  São José dos Campos    SP  Brazil   \n",
       "..                               ...                  ...   ...     ...   \n",
       "407                3,Raj Bhavan Road            Bangalore  None   India   \n",
       "408                3,Raj Bhavan Road            Bangalore  None   India   \n",
       "409                3,Raj Bhavan Road            Bangalore  None   India   \n",
       "410                3,Raj Bhavan Road            Bangalore  None   India   \n",
       "411                3,Raj Bhavan Road            Bangalore  None   India   \n",
       "\n",
       "    PostalCode               Phone  ... SupportRepId InvoiceId  CustomerId  \\\n",
       "0    12227-000  +55 (12) 3923-5555  ...            3        98           1   \n",
       "1    12227-000  +55 (12) 3923-5555  ...            3       121           1   \n",
       "2    12227-000  +55 (12) 3923-5555  ...            3       143           1   \n",
       "3    12227-000  +55 (12) 3923-5555  ...            3       195           1   \n",
       "4    12227-000  +55 (12) 3923-5555  ...            3       316           1   \n",
       "..         ...                 ...  ...          ...       ...         ...   \n",
       "407     560001    +91 080 22289999  ...            3        45          59   \n",
       "408     560001    +91 080 22289999  ...            3        97          59   \n",
       "409     560001    +91 080 22289999  ...            3       218          59   \n",
       "410     560001    +91 080 22289999  ...            3       229          59   \n",
       "411     560001    +91 080 22289999  ...            3       284          59   \n",
       "\n",
       "             InvoiceDate                   BillingAddress  \\\n",
       "0    2010-03-11 00:00:00  Av. Brigadeiro Faria Lima, 2170   \n",
       "1    2010-06-13 00:00:00  Av. Brigadeiro Faria Lima, 2170   \n",
       "2    2010-09-15 00:00:00  Av. Brigadeiro Faria Lima, 2170   \n",
       "3    2011-05-06 00:00:00  Av. Brigadeiro Faria Lima, 2170   \n",
       "4    2012-10-27 00:00:00  Av. Brigadeiro Faria Lima, 2170   \n",
       "..                   ...                              ...   \n",
       "407  2009-07-08 00:00:00                3,Raj Bhavan Road   \n",
       "408  2010-02-26 00:00:00                3,Raj Bhavan Road   \n",
       "409  2011-08-20 00:00:00                3,Raj Bhavan Road   \n",
       "410  2011-09-30 00:00:00                3,Raj Bhavan Road   \n",
       "411  2012-05-30 00:00:00                3,Raj Bhavan Road   \n",
       "\n",
       "             BillingCity BillingState BillingCountry BillingPostalCode  Total  \n",
       "0    São José dos Campos           SP         Brazil         12227-000   3.98  \n",
       "1    São José dos Campos           SP         Brazil         12227-000   3.96  \n",
       "2    São José dos Campos           SP         Brazil         12227-000   5.94  \n",
       "3    São José dos Campos           SP         Brazil         12227-000   0.99  \n",
       "4    São José dos Campos           SP         Brazil         12227-000   1.98  \n",
       "..                   ...          ...            ...               ...    ...  \n",
       "407            Bangalore         None          India            560001   5.94  \n",
       "408            Bangalore         None          India            560001   1.99  \n",
       "409            Bangalore         None          India            560001   1.98  \n",
       "410            Bangalore         None          India            560001  13.86  \n",
       "411            Bangalore         None          India            560001   8.91  \n",
       "\n",
       "[412 rows x 22 columns]"
      ],
      "text/html": "<div>\n<style scoped>\n    .dataframe tbody tr th:only-of-type {\n        vertical-align: middle;\n    }\n\n    .dataframe tbody tr th {\n        vertical-align: top;\n    }\n\n    .dataframe thead th {\n        text-align: right;\n    }\n</style>\n<table border=\"1\" class=\"dataframe\">\n  <thead>\n    <tr style=\"text-align: right;\">\n      <th></th>\n      <th>CustomerId</th>\n      <th>FirstName</th>\n      <th>LastName</th>\n      <th>Company</th>\n      <th>Address</th>\n      <th>City</th>\n      <th>State</th>\n      <th>Country</th>\n      <th>PostalCode</th>\n      <th>Phone</th>\n      <th>...</th>\n      <th>SupportRepId</th>\n      <th>InvoiceId</th>\n      <th>CustomerId</th>\n      <th>InvoiceDate</th>\n      <th>BillingAddress</th>\n      <th>BillingCity</th>\n      <th>BillingState</th>\n      <th>BillingCountry</th>\n      <th>BillingPostalCode</th>\n      <th>Total</th>\n    </tr>\n  </thead>\n  <tbody>\n    <tr>\n      <th>0</th>\n      <td>1</td>\n      <td>Luís</td>\n      <td>Gonçalves</td>\n      <td>Embraer - Empresa Brasileira de Aeronáutica S.A.</td>\n      <td>Av. Brigadeiro Faria Lima, 2170</td>\n      <td>São José dos Campos</td>\n      <td>SP</td>\n      <td>Brazil</td>\n      <td>12227-000</td>\n      <td>+55 (12) 3923-5555</td>\n      <td>...</td>\n      <td>3</td>\n      <td>98</td>\n      <td>1</td>\n      <td>2010-03-11 00:00:00</td>\n      <td>Av. Brigadeiro Faria Lima, 2170</td>\n      <td>São José dos Campos</td>\n      <td>SP</td>\n      <td>Brazil</td>\n      <td>12227-000</td>\n      <td>3.98</td>\n    </tr>\n    <tr>\n      <th>1</th>\n      <td>1</td>\n      <td>Luís</td>\n      <td>Gonçalves</td>\n      <td>Embraer - Empresa Brasileira de Aeronáutica S.A.</td>\n      <td>Av. Brigadeiro Faria Lima, 2170</td>\n      <td>São José dos Campos</td>\n      <td>SP</td>\n      <td>Brazil</td>\n      <td>12227-000</td>\n      <td>+55 (12) 3923-5555</td>\n      <td>...</td>\n      <td>3</td>\n      <td>121</td>\n      <td>1</td>\n      <td>2010-06-13 00:00:00</td>\n      <td>Av. Brigadeiro Faria Lima, 2170</td>\n      <td>São José dos Campos</td>\n      <td>SP</td>\n      <td>Brazil</td>\n      <td>12227-000</td>\n      <td>3.96</td>\n    </tr>\n    <tr>\n      <th>2</th>\n      <td>1</td>\n      <td>Luís</td>\n      <td>Gonçalves</td>\n      <td>Embraer - Empresa Brasileira de Aeronáutica S.A.</td>\n      <td>Av. Brigadeiro Faria Lima, 2170</td>\n      <td>São José dos Campos</td>\n      <td>SP</td>\n      <td>Brazil</td>\n      <td>12227-000</td>\n      <td>+55 (12) 3923-5555</td>\n      <td>...</td>\n      <td>3</td>\n      <td>143</td>\n      <td>1</td>\n      <td>2010-09-15 00:00:00</td>\n      <td>Av. Brigadeiro Faria Lima, 2170</td>\n      <td>São José dos Campos</td>\n      <td>SP</td>\n      <td>Brazil</td>\n      <td>12227-000</td>\n      <td>5.94</td>\n    </tr>\n    <tr>\n      <th>3</th>\n      <td>1</td>\n      <td>Luís</td>\n      <td>Gonçalves</td>\n      <td>Embraer - Empresa Brasileira de Aeronáutica S.A.</td>\n      <td>Av. Brigadeiro Faria Lima, 2170</td>\n      <td>São José dos Campos</td>\n      <td>SP</td>\n      <td>Brazil</td>\n      <td>12227-000</td>\n      <td>+55 (12) 3923-5555</td>\n      <td>...</td>\n      <td>3</td>\n      <td>195</td>\n      <td>1</td>\n      <td>2011-05-06 00:00:00</td>\n      <td>Av. Brigadeiro Faria Lima, 2170</td>\n      <td>São José dos Campos</td>\n      <td>SP</td>\n      <td>Brazil</td>\n      <td>12227-000</td>\n      <td>0.99</td>\n    </tr>\n    <tr>\n      <th>4</th>\n      <td>1</td>\n      <td>Luís</td>\n      <td>Gonçalves</td>\n      <td>Embraer - Empresa Brasileira de Aeronáutica S.A.</td>\n      <td>Av. Brigadeiro Faria Lima, 2170</td>\n      <td>São José dos Campos</td>\n      <td>SP</td>\n      <td>Brazil</td>\n      <td>12227-000</td>\n      <td>+55 (12) 3923-5555</td>\n      <td>...</td>\n      <td>3</td>\n      <td>316</td>\n      <td>1</td>\n      <td>2012-10-27 00:00:00</td>\n      <td>Av. Brigadeiro Faria Lima, 2170</td>\n      <td>São José dos Campos</td>\n      <td>SP</td>\n      <td>Brazil</td>\n      <td>12227-000</td>\n      <td>1.98</td>\n    </tr>\n    <tr>\n      <th>...</th>\n      <td>...</td>\n      <td>...</td>\n      <td>...</td>\n      <td>...</td>\n      <td>...</td>\n      <td>...</td>\n      <td>...</td>\n      <td>...</td>\n      <td>...</td>\n      <td>...</td>\n      <td>...</td>\n      <td>...</td>\n      <td>...</td>\n      <td>...</td>\n      <td>...</td>\n      <td>...</td>\n      <td>...</td>\n      <td>...</td>\n      <td>...</td>\n      <td>...</td>\n      <td>...</td>\n    </tr>\n    <tr>\n      <th>407</th>\n      <td>59</td>\n      <td>Puja</td>\n      <td>Srivastava</td>\n      <td>None</td>\n      <td>3,Raj Bhavan Road</td>\n      <td>Bangalore</td>\n      <td>None</td>\n      <td>India</td>\n      <td>560001</td>\n      <td>+91 080 22289999</td>\n      <td>...</td>\n      <td>3</td>\n      <td>45</td>\n      <td>59</td>\n      <td>2009-07-08 00:00:00</td>\n      <td>3,Raj Bhavan Road</td>\n      <td>Bangalore</td>\n      <td>None</td>\n      <td>India</td>\n      <td>560001</td>\n      <td>5.94</td>\n    </tr>\n    <tr>\n      <th>408</th>\n      <td>59</td>\n      <td>Puja</td>\n      <td>Srivastava</td>\n      <td>None</td>\n      <td>3,Raj Bhavan Road</td>\n      <td>Bangalore</td>\n      <td>None</td>\n      <td>India</td>\n      <td>560001</td>\n      <td>+91 080 22289999</td>\n      <td>...</td>\n      <td>3</td>\n      <td>97</td>\n      <td>59</td>\n      <td>2010-02-26 00:00:00</td>\n      <td>3,Raj Bhavan Road</td>\n      <td>Bangalore</td>\n      <td>None</td>\n      <td>India</td>\n      <td>560001</td>\n      <td>1.99</td>\n    </tr>\n    <tr>\n      <th>409</th>\n      <td>59</td>\n      <td>Puja</td>\n      <td>Srivastava</td>\n      <td>None</td>\n      <td>3,Raj Bhavan Road</td>\n      <td>Bangalore</td>\n      <td>None</td>\n      <td>India</td>\n      <td>560001</td>\n      <td>+91 080 22289999</td>\n      <td>...</td>\n      <td>3</td>\n      <td>218</td>\n      <td>59</td>\n      <td>2011-08-20 00:00:00</td>\n      <td>3,Raj Bhavan Road</td>\n      <td>Bangalore</td>\n      <td>None</td>\n      <td>India</td>\n      <td>560001</td>\n      <td>1.98</td>\n    </tr>\n    <tr>\n      <th>410</th>\n      <td>59</td>\n      <td>Puja</td>\n      <td>Srivastava</td>\n      <td>None</td>\n      <td>3,Raj Bhavan Road</td>\n      <td>Bangalore</td>\n      <td>None</td>\n      <td>India</td>\n      <td>560001</td>\n      <td>+91 080 22289999</td>\n      <td>...</td>\n      <td>3</td>\n      <td>229</td>\n      <td>59</td>\n      <td>2011-09-30 00:00:00</td>\n      <td>3,Raj Bhavan Road</td>\n      <td>Bangalore</td>\n      <td>None</td>\n      <td>India</td>\n      <td>560001</td>\n      <td>13.86</td>\n    </tr>\n    <tr>\n      <th>411</th>\n      <td>59</td>\n      <td>Puja</td>\n      <td>Srivastava</td>\n      <td>None</td>\n      <td>3,Raj Bhavan Road</td>\n      <td>Bangalore</td>\n      <td>None</td>\n      <td>India</td>\n      <td>560001</td>\n      <td>+91 080 22289999</td>\n      <td>...</td>\n      <td>3</td>\n      <td>284</td>\n      <td>59</td>\n      <td>2012-05-30 00:00:00</td>\n      <td>3,Raj Bhavan Road</td>\n      <td>Bangalore</td>\n      <td>None</td>\n      <td>India</td>\n      <td>560001</td>\n      <td>8.91</td>\n    </tr>\n  </tbody>\n</table>\n<p>412 rows × 22 columns</p>\n</div>"
     },
     "metadata": {},
     "execution_count": 20
    }
   ],
   "source": [
    "#Es lo mismo que antes\n",
    "#INNER JOIN me devuelve esto\n",
    "# FULL JOIN seria todas las filas, la union de las dos \"tablas\" completas\n",
    "query = \"\"\"\n",
    "SELECT *\n",
    "FROM customers\n",
    "JOIN invoices ON customers.CustomerId = invoices.CustomerId\n",
    "\"\"\"\n",
    "\n",
    "pd.read_sql_query(query,conn)"
   ]
  },
  {
   "cell_type": "code",
   "execution_count": 21,
   "metadata": {},
   "outputs": [
    {
     "output_type": "execute_result",
     "data": {
      "text/plain": [
       "       LastName\n",
       "0     Gonçalves\n",
       "1     Gonçalves\n",
       "2     Gonçalves\n",
       "3     Gonçalves\n",
       "4     Gonçalves\n",
       "..          ...\n",
       "407  Srivastava\n",
       "408  Srivastava\n",
       "409  Srivastava\n",
       "410  Srivastava\n",
       "411  Srivastava\n",
       "\n",
       "[412 rows x 1 columns]"
      ],
      "text/html": "<div>\n<style scoped>\n    .dataframe tbody tr th:only-of-type {\n        vertical-align: middle;\n    }\n\n    .dataframe tbody tr th {\n        vertical-align: top;\n    }\n\n    .dataframe thead th {\n        text-align: right;\n    }\n</style>\n<table border=\"1\" class=\"dataframe\">\n  <thead>\n    <tr style=\"text-align: right;\">\n      <th></th>\n      <th>LastName</th>\n    </tr>\n  </thead>\n  <tbody>\n    <tr>\n      <th>0</th>\n      <td>Gonçalves</td>\n    </tr>\n    <tr>\n      <th>1</th>\n      <td>Gonçalves</td>\n    </tr>\n    <tr>\n      <th>2</th>\n      <td>Gonçalves</td>\n    </tr>\n    <tr>\n      <th>3</th>\n      <td>Gonçalves</td>\n    </tr>\n    <tr>\n      <th>4</th>\n      <td>Gonçalves</td>\n    </tr>\n    <tr>\n      <th>...</th>\n      <td>...</td>\n    </tr>\n    <tr>\n      <th>407</th>\n      <td>Srivastava</td>\n    </tr>\n    <tr>\n      <th>408</th>\n      <td>Srivastava</td>\n    </tr>\n    <tr>\n      <th>409</th>\n      <td>Srivastava</td>\n    </tr>\n    <tr>\n      <th>410</th>\n      <td>Srivastava</td>\n    </tr>\n    <tr>\n      <th>411</th>\n      <td>Srivastava</td>\n    </tr>\n  </tbody>\n</table>\n<p>412 rows × 1 columns</p>\n</div>"
     },
     "metadata": {},
     "execution_count": 21
    }
   ],
   "source": [
    "query = \"\"\"\n",
    "SELECT c.LastName\n",
    "FROM customers c\n",
    "JOIN invoices i ON c.CustomerId = i.CustomerId\n",
    "\"\"\"\n",
    "\n",
    "pd.read_sql_query(query,conn)"
   ]
  },
  {
   "cell_type": "code",
   "execution_count": 24,
   "metadata": {},
   "outputs": [
    {
     "output_type": "execute_result",
     "data": {
      "text/plain": [
       "    FirstName  InvoiceId          InvoiceDate BillingCountry\n",
       "0        Luís         98  2010-03-11 00:00:00         Brazil\n",
       "1        Luís        121  2010-06-13 00:00:00         Brazil\n",
       "2        Luís        143  2010-09-15 00:00:00         Brazil\n",
       "3        Luís        195  2011-05-06 00:00:00         Brazil\n",
       "4        Luís        316  2012-10-27 00:00:00         Brazil\n",
       "5        Luís        327  2012-12-07 00:00:00         Brazil\n",
       "6        Luís        382  2013-08-07 00:00:00         Brazil\n",
       "7     Eduardo         25  2009-04-09 00:00:00         Brazil\n",
       "8     Eduardo        154  2010-11-14 00:00:00         Brazil\n",
       "9     Eduardo        177  2011-02-16 00:00:00         Brazil\n",
       "10    Eduardo        199  2011-05-21 00:00:00         Brazil\n",
       "11    Eduardo        251  2012-01-09 00:00:00         Brazil\n",
       "12    Eduardo        372  2013-07-02 00:00:00         Brazil\n",
       "13    Eduardo        383  2013-08-12 00:00:00         Brazil\n",
       "14  Alexandre         57  2009-09-06 00:00:00         Brazil\n",
       "15  Alexandre         68  2009-10-17 00:00:00         Brazil\n",
       "16  Alexandre        123  2010-06-17 00:00:00         Brazil\n",
       "17  Alexandre        252  2012-01-22 00:00:00         Brazil\n",
       "18  Alexandre        275  2012-04-25 00:00:00         Brazil\n",
       "19  Alexandre        297  2012-07-28 00:00:00         Brazil\n",
       "20  Alexandre        349  2013-03-18 00:00:00         Brazil\n",
       "21    Roberto         34  2009-05-23 00:00:00         Brazil\n",
       "22    Roberto        155  2010-11-14 00:00:00         Brazil\n",
       "23    Roberto        166  2010-12-25 00:00:00         Brazil\n",
       "24    Roberto        221  2011-08-25 00:00:00         Brazil\n",
       "25    Roberto        350  2013-03-31 00:00:00         Brazil\n",
       "26    Roberto        373  2013-07-03 00:00:00         Brazil\n",
       "27    Roberto        395  2013-10-05 00:00:00         Brazil\n",
       "28   Fernanda         35  2009-06-05 00:00:00         Brazil\n",
       "29   Fernanda         58  2009-09-07 00:00:00         Brazil\n",
       "30   Fernanda         80  2009-12-10 00:00:00         Brazil\n",
       "31   Fernanda        132  2010-07-31 00:00:00         Brazil\n",
       "32   Fernanda        253  2012-01-22 00:00:00         Brazil\n",
       "33   Fernanda        264  2012-03-03 00:00:00         Brazil\n",
       "34   Fernanda        319  2012-11-01 00:00:00         Brazil"
      ],
      "text/html": "<div>\n<style scoped>\n    .dataframe tbody tr th:only-of-type {\n        vertical-align: middle;\n    }\n\n    .dataframe tbody tr th {\n        vertical-align: top;\n    }\n\n    .dataframe thead th {\n        text-align: right;\n    }\n</style>\n<table border=\"1\" class=\"dataframe\">\n  <thead>\n    <tr style=\"text-align: right;\">\n      <th></th>\n      <th>FirstName</th>\n      <th>InvoiceId</th>\n      <th>InvoiceDate</th>\n      <th>BillingCountry</th>\n    </tr>\n  </thead>\n  <tbody>\n    <tr>\n      <th>0</th>\n      <td>Luís</td>\n      <td>98</td>\n      <td>2010-03-11 00:00:00</td>\n      <td>Brazil</td>\n    </tr>\n    <tr>\n      <th>1</th>\n      <td>Luís</td>\n      <td>121</td>\n      <td>2010-06-13 00:00:00</td>\n      <td>Brazil</td>\n    </tr>\n    <tr>\n      <th>2</th>\n      <td>Luís</td>\n      <td>143</td>\n      <td>2010-09-15 00:00:00</td>\n      <td>Brazil</td>\n    </tr>\n    <tr>\n      <th>3</th>\n      <td>Luís</td>\n      <td>195</td>\n      <td>2011-05-06 00:00:00</td>\n      <td>Brazil</td>\n    </tr>\n    <tr>\n      <th>4</th>\n      <td>Luís</td>\n      <td>316</td>\n      <td>2012-10-27 00:00:00</td>\n      <td>Brazil</td>\n    </tr>\n    <tr>\n      <th>5</th>\n      <td>Luís</td>\n      <td>327</td>\n      <td>2012-12-07 00:00:00</td>\n      <td>Brazil</td>\n    </tr>\n    <tr>\n      <th>6</th>\n      <td>Luís</td>\n      <td>382</td>\n      <td>2013-08-07 00:00:00</td>\n      <td>Brazil</td>\n    </tr>\n    <tr>\n      <th>7</th>\n      <td>Eduardo</td>\n      <td>25</td>\n      <td>2009-04-09 00:00:00</td>\n      <td>Brazil</td>\n    </tr>\n    <tr>\n      <th>8</th>\n      <td>Eduardo</td>\n      <td>154</td>\n      <td>2010-11-14 00:00:00</td>\n      <td>Brazil</td>\n    </tr>\n    <tr>\n      <th>9</th>\n      <td>Eduardo</td>\n      <td>177</td>\n      <td>2011-02-16 00:00:00</td>\n      <td>Brazil</td>\n    </tr>\n    <tr>\n      <th>10</th>\n      <td>Eduardo</td>\n      <td>199</td>\n      <td>2011-05-21 00:00:00</td>\n      <td>Brazil</td>\n    </tr>\n    <tr>\n      <th>11</th>\n      <td>Eduardo</td>\n      <td>251</td>\n      <td>2012-01-09 00:00:00</td>\n      <td>Brazil</td>\n    </tr>\n    <tr>\n      <th>12</th>\n      <td>Eduardo</td>\n      <td>372</td>\n      <td>2013-07-02 00:00:00</td>\n      <td>Brazil</td>\n    </tr>\n    <tr>\n      <th>13</th>\n      <td>Eduardo</td>\n      <td>383</td>\n      <td>2013-08-12 00:00:00</td>\n      <td>Brazil</td>\n    </tr>\n    <tr>\n      <th>14</th>\n      <td>Alexandre</td>\n      <td>57</td>\n      <td>2009-09-06 00:00:00</td>\n      <td>Brazil</td>\n    </tr>\n    <tr>\n      <th>15</th>\n      <td>Alexandre</td>\n      <td>68</td>\n      <td>2009-10-17 00:00:00</td>\n      <td>Brazil</td>\n    </tr>\n    <tr>\n      <th>16</th>\n      <td>Alexandre</td>\n      <td>123</td>\n      <td>2010-06-17 00:00:00</td>\n      <td>Brazil</td>\n    </tr>\n    <tr>\n      <th>17</th>\n      <td>Alexandre</td>\n      <td>252</td>\n      <td>2012-01-22 00:00:00</td>\n      <td>Brazil</td>\n    </tr>\n    <tr>\n      <th>18</th>\n      <td>Alexandre</td>\n      <td>275</td>\n      <td>2012-04-25 00:00:00</td>\n      <td>Brazil</td>\n    </tr>\n    <tr>\n      <th>19</th>\n      <td>Alexandre</td>\n      <td>297</td>\n      <td>2012-07-28 00:00:00</td>\n      <td>Brazil</td>\n    </tr>\n    <tr>\n      <th>20</th>\n      <td>Alexandre</td>\n      <td>349</td>\n      <td>2013-03-18 00:00:00</td>\n      <td>Brazil</td>\n    </tr>\n    <tr>\n      <th>21</th>\n      <td>Roberto</td>\n      <td>34</td>\n      <td>2009-05-23 00:00:00</td>\n      <td>Brazil</td>\n    </tr>\n    <tr>\n      <th>22</th>\n      <td>Roberto</td>\n      <td>155</td>\n      <td>2010-11-14 00:00:00</td>\n      <td>Brazil</td>\n    </tr>\n    <tr>\n      <th>23</th>\n      <td>Roberto</td>\n      <td>166</td>\n      <td>2010-12-25 00:00:00</td>\n      <td>Brazil</td>\n    </tr>\n    <tr>\n      <th>24</th>\n      <td>Roberto</td>\n      <td>221</td>\n      <td>2011-08-25 00:00:00</td>\n      <td>Brazil</td>\n    </tr>\n    <tr>\n      <th>25</th>\n      <td>Roberto</td>\n      <td>350</td>\n      <td>2013-03-31 00:00:00</td>\n      <td>Brazil</td>\n    </tr>\n    <tr>\n      <th>26</th>\n      <td>Roberto</td>\n      <td>373</td>\n      <td>2013-07-03 00:00:00</td>\n      <td>Brazil</td>\n    </tr>\n    <tr>\n      <th>27</th>\n      <td>Roberto</td>\n      <td>395</td>\n      <td>2013-10-05 00:00:00</td>\n      <td>Brazil</td>\n    </tr>\n    <tr>\n      <th>28</th>\n      <td>Fernanda</td>\n      <td>35</td>\n      <td>2009-06-05 00:00:00</td>\n      <td>Brazil</td>\n    </tr>\n    <tr>\n      <th>29</th>\n      <td>Fernanda</td>\n      <td>58</td>\n      <td>2009-09-07 00:00:00</td>\n      <td>Brazil</td>\n    </tr>\n    <tr>\n      <th>30</th>\n      <td>Fernanda</td>\n      <td>80</td>\n      <td>2009-12-10 00:00:00</td>\n      <td>Brazil</td>\n    </tr>\n    <tr>\n      <th>31</th>\n      <td>Fernanda</td>\n      <td>132</td>\n      <td>2010-07-31 00:00:00</td>\n      <td>Brazil</td>\n    </tr>\n    <tr>\n      <th>32</th>\n      <td>Fernanda</td>\n      <td>253</td>\n      <td>2012-01-22 00:00:00</td>\n      <td>Brazil</td>\n    </tr>\n    <tr>\n      <th>33</th>\n      <td>Fernanda</td>\n      <td>264</td>\n      <td>2012-03-03 00:00:00</td>\n      <td>Brazil</td>\n    </tr>\n    <tr>\n      <th>34</th>\n      <td>Fernanda</td>\n      <td>319</td>\n      <td>2012-11-01 00:00:00</td>\n      <td>Brazil</td>\n    </tr>\n  </tbody>\n</table>\n</div>"
     },
     "metadata": {},
     "execution_count": 24
    }
   ],
   "source": [
    "query = \"\"\"\n",
    "SELECT c.FirstName, i.InvoiceId, i.InvoiceDate, i.BillingCountry\n",
    "FROM customers c\n",
    "JOIN invoices i ON c.CustomerId = i.CustomerId\n",
    "WHERE c.Country = \"Brazil\"\n",
    "\"\"\"\n",
    "pd.read_sql_query(query,conn)"
   ]
  },
  {
   "cell_type": "code",
   "execution_count": 27,
   "metadata": {},
   "outputs": [
    {
     "output_type": "execute_result",
     "data": {
      "text/plain": [
       "    InvoiceId  CustomerId          InvoiceDate  \\\n",
       "0          98           1  2010-03-11 00:00:00   \n",
       "1         121           1  2010-06-13 00:00:00   \n",
       "2         143           1  2010-09-15 00:00:00   \n",
       "3         195           1  2011-05-06 00:00:00   \n",
       "4         316           1  2012-10-27 00:00:00   \n",
       "5         327           1  2012-12-07 00:00:00   \n",
       "6         382           1  2013-08-07 00:00:00   \n",
       "7          25          10  2009-04-09 00:00:00   \n",
       "8         154          10  2010-11-14 00:00:00   \n",
       "9         177          10  2011-02-16 00:00:00   \n",
       "10        199          10  2011-05-21 00:00:00   \n",
       "11        251          10  2012-01-09 00:00:00   \n",
       "12        372          10  2013-07-02 00:00:00   \n",
       "13        383          10  2013-08-12 00:00:00   \n",
       "14         57          11  2009-09-06 00:00:00   \n",
       "15         68          11  2009-10-17 00:00:00   \n",
       "16        123          11  2010-06-17 00:00:00   \n",
       "17        252          11  2012-01-22 00:00:00   \n",
       "18        275          11  2012-04-25 00:00:00   \n",
       "19        297          11  2012-07-28 00:00:00   \n",
       "20        349          11  2013-03-18 00:00:00   \n",
       "21         34          12  2009-05-23 00:00:00   \n",
       "22        155          12  2010-11-14 00:00:00   \n",
       "23        166          12  2010-12-25 00:00:00   \n",
       "24        221          12  2011-08-25 00:00:00   \n",
       "25        350          12  2013-03-31 00:00:00   \n",
       "26        373          12  2013-07-03 00:00:00   \n",
       "27        395          12  2013-10-05 00:00:00   \n",
       "28         35          13  2009-06-05 00:00:00   \n",
       "29         58          13  2009-09-07 00:00:00   \n",
       "30         80          13  2009-12-10 00:00:00   \n",
       "31        132          13  2010-07-31 00:00:00   \n",
       "32        253          13  2012-01-22 00:00:00   \n",
       "33        264          13  2012-03-03 00:00:00   \n",
       "34        319          13  2012-11-01 00:00:00   \n",
       "\n",
       "                     BillingAddress          BillingCity BillingState  \\\n",
       "0   Av. Brigadeiro Faria Lima, 2170  São José dos Campos           SP   \n",
       "1   Av. Brigadeiro Faria Lima, 2170  São José dos Campos           SP   \n",
       "2   Av. Brigadeiro Faria Lima, 2170  São José dos Campos           SP   \n",
       "3   Av. Brigadeiro Faria Lima, 2170  São José dos Campos           SP   \n",
       "4   Av. Brigadeiro Faria Lima, 2170  São José dos Campos           SP   \n",
       "5   Av. Brigadeiro Faria Lima, 2170  São José dos Campos           SP   \n",
       "6   Av. Brigadeiro Faria Lima, 2170  São José dos Campos           SP   \n",
       "7         Rua Dr. Falcão Filho, 155            São Paulo           SP   \n",
       "8         Rua Dr. Falcão Filho, 155            São Paulo           SP   \n",
       "9         Rua Dr. Falcão Filho, 155            São Paulo           SP   \n",
       "10        Rua Dr. Falcão Filho, 155            São Paulo           SP   \n",
       "11        Rua Dr. Falcão Filho, 155            São Paulo           SP   \n",
       "12        Rua Dr. Falcão Filho, 155            São Paulo           SP   \n",
       "13        Rua Dr. Falcão Filho, 155            São Paulo           SP   \n",
       "14               Av. Paulista, 2022            São Paulo           SP   \n",
       "15               Av. Paulista, 2022            São Paulo           SP   \n",
       "16               Av. Paulista, 2022            São Paulo           SP   \n",
       "17               Av. Paulista, 2022            São Paulo           SP   \n",
       "18               Av. Paulista, 2022            São Paulo           SP   \n",
       "19               Av. Paulista, 2022            São Paulo           SP   \n",
       "20               Av. Paulista, 2022            São Paulo           SP   \n",
       "21                 Praça Pio X, 119       Rio de Janeiro           RJ   \n",
       "22                 Praça Pio X, 119       Rio de Janeiro           RJ   \n",
       "23                 Praça Pio X, 119       Rio de Janeiro           RJ   \n",
       "24                 Praça Pio X, 119       Rio de Janeiro           RJ   \n",
       "25                 Praça Pio X, 119       Rio de Janeiro           RJ   \n",
       "26                 Praça Pio X, 119       Rio de Janeiro           RJ   \n",
       "27                 Praça Pio X, 119       Rio de Janeiro           RJ   \n",
       "28                     Qe 7 Bloco G             Brasília           DF   \n",
       "29                     Qe 7 Bloco G             Brasília           DF   \n",
       "30                     Qe 7 Bloco G             Brasília           DF   \n",
       "31                     Qe 7 Bloco G             Brasília           DF   \n",
       "32                     Qe 7 Bloco G             Brasília           DF   \n",
       "33                     Qe 7 Bloco G             Brasília           DF   \n",
       "34                     Qe 7 Bloco G             Brasília           DF   \n",
       "\n",
       "   BillingCountry BillingPostalCode  Total  \n",
       "0          Brazil         12227-000   3.98  \n",
       "1          Brazil         12227-000   3.96  \n",
       "2          Brazil         12227-000   5.94  \n",
       "3          Brazil         12227-000   0.99  \n",
       "4          Brazil         12227-000   1.98  \n",
       "5          Brazil         12227-000  13.86  \n",
       "6          Brazil         12227-000   8.91  \n",
       "7          Brazil         01007-010   8.91  \n",
       "8          Brazil         01007-010   1.98  \n",
       "9          Brazil         01007-010   3.96  \n",
       "10         Brazil         01007-010   5.94  \n",
       "11         Brazil         01007-010   0.99  \n",
       "12         Brazil         01007-010   1.98  \n",
       "13         Brazil         01007-010  13.86  \n",
       "14         Brazil         01310-200   1.98  \n",
       "15         Brazil         01310-200  13.86  \n",
       "16         Brazil         01310-200   8.91  \n",
       "17         Brazil         01310-200   1.98  \n",
       "18         Brazil         01310-200   3.96  \n",
       "19         Brazil         01310-200   5.94  \n",
       "20         Brazil         01310-200   0.99  \n",
       "21         Brazil         20040-020   0.99  \n",
       "22         Brazil         20040-020   1.98  \n",
       "23         Brazil         20040-020  13.86  \n",
       "24         Brazil         20040-020   8.91  \n",
       "25         Brazil         20040-020   1.98  \n",
       "26         Brazil         20040-020   3.96  \n",
       "27         Brazil         20040-020   5.94  \n",
       "28         Brazil         71020-677   1.98  \n",
       "29         Brazil         71020-677   3.96  \n",
       "30         Brazil         71020-677   5.94  \n",
       "31         Brazil         71020-677   0.99  \n",
       "32         Brazil         71020-677   1.98  \n",
       "33         Brazil         71020-677  13.86  \n",
       "34         Brazil         71020-677   8.91  "
      ],
      "text/html": "<div>\n<style scoped>\n    .dataframe tbody tr th:only-of-type {\n        vertical-align: middle;\n    }\n\n    .dataframe tbody tr th {\n        vertical-align: top;\n    }\n\n    .dataframe thead th {\n        text-align: right;\n    }\n</style>\n<table border=\"1\" class=\"dataframe\">\n  <thead>\n    <tr style=\"text-align: right;\">\n      <th></th>\n      <th>InvoiceId</th>\n      <th>CustomerId</th>\n      <th>InvoiceDate</th>\n      <th>BillingAddress</th>\n      <th>BillingCity</th>\n      <th>BillingState</th>\n      <th>BillingCountry</th>\n      <th>BillingPostalCode</th>\n      <th>Total</th>\n    </tr>\n  </thead>\n  <tbody>\n    <tr>\n      <th>0</th>\n      <td>98</td>\n      <td>1</td>\n      <td>2010-03-11 00:00:00</td>\n      <td>Av. Brigadeiro Faria Lima, 2170</td>\n      <td>São José dos Campos</td>\n      <td>SP</td>\n      <td>Brazil</td>\n      <td>12227-000</td>\n      <td>3.98</td>\n    </tr>\n    <tr>\n      <th>1</th>\n      <td>121</td>\n      <td>1</td>\n      <td>2010-06-13 00:00:00</td>\n      <td>Av. Brigadeiro Faria Lima, 2170</td>\n      <td>São José dos Campos</td>\n      <td>SP</td>\n      <td>Brazil</td>\n      <td>12227-000</td>\n      <td>3.96</td>\n    </tr>\n    <tr>\n      <th>2</th>\n      <td>143</td>\n      <td>1</td>\n      <td>2010-09-15 00:00:00</td>\n      <td>Av. Brigadeiro Faria Lima, 2170</td>\n      <td>São José dos Campos</td>\n      <td>SP</td>\n      <td>Brazil</td>\n      <td>12227-000</td>\n      <td>5.94</td>\n    </tr>\n    <tr>\n      <th>3</th>\n      <td>195</td>\n      <td>1</td>\n      <td>2011-05-06 00:00:00</td>\n      <td>Av. Brigadeiro Faria Lima, 2170</td>\n      <td>São José dos Campos</td>\n      <td>SP</td>\n      <td>Brazil</td>\n      <td>12227-000</td>\n      <td>0.99</td>\n    </tr>\n    <tr>\n      <th>4</th>\n      <td>316</td>\n      <td>1</td>\n      <td>2012-10-27 00:00:00</td>\n      <td>Av. Brigadeiro Faria Lima, 2170</td>\n      <td>São José dos Campos</td>\n      <td>SP</td>\n      <td>Brazil</td>\n      <td>12227-000</td>\n      <td>1.98</td>\n    </tr>\n    <tr>\n      <th>5</th>\n      <td>327</td>\n      <td>1</td>\n      <td>2012-12-07 00:00:00</td>\n      <td>Av. Brigadeiro Faria Lima, 2170</td>\n      <td>São José dos Campos</td>\n      <td>SP</td>\n      <td>Brazil</td>\n      <td>12227-000</td>\n      <td>13.86</td>\n    </tr>\n    <tr>\n      <th>6</th>\n      <td>382</td>\n      <td>1</td>\n      <td>2013-08-07 00:00:00</td>\n      <td>Av. Brigadeiro Faria Lima, 2170</td>\n      <td>São José dos Campos</td>\n      <td>SP</td>\n      <td>Brazil</td>\n      <td>12227-000</td>\n      <td>8.91</td>\n    </tr>\n    <tr>\n      <th>7</th>\n      <td>25</td>\n      <td>10</td>\n      <td>2009-04-09 00:00:00</td>\n      <td>Rua Dr. Falcão Filho, 155</td>\n      <td>São Paulo</td>\n      <td>SP</td>\n      <td>Brazil</td>\n      <td>01007-010</td>\n      <td>8.91</td>\n    </tr>\n    <tr>\n      <th>8</th>\n      <td>154</td>\n      <td>10</td>\n      <td>2010-11-14 00:00:00</td>\n      <td>Rua Dr. Falcão Filho, 155</td>\n      <td>São Paulo</td>\n      <td>SP</td>\n      <td>Brazil</td>\n      <td>01007-010</td>\n      <td>1.98</td>\n    </tr>\n    <tr>\n      <th>9</th>\n      <td>177</td>\n      <td>10</td>\n      <td>2011-02-16 00:00:00</td>\n      <td>Rua Dr. Falcão Filho, 155</td>\n      <td>São Paulo</td>\n      <td>SP</td>\n      <td>Brazil</td>\n      <td>01007-010</td>\n      <td>3.96</td>\n    </tr>\n    <tr>\n      <th>10</th>\n      <td>199</td>\n      <td>10</td>\n      <td>2011-05-21 00:00:00</td>\n      <td>Rua Dr. Falcão Filho, 155</td>\n      <td>São Paulo</td>\n      <td>SP</td>\n      <td>Brazil</td>\n      <td>01007-010</td>\n      <td>5.94</td>\n    </tr>\n    <tr>\n      <th>11</th>\n      <td>251</td>\n      <td>10</td>\n      <td>2012-01-09 00:00:00</td>\n      <td>Rua Dr. Falcão Filho, 155</td>\n      <td>São Paulo</td>\n      <td>SP</td>\n      <td>Brazil</td>\n      <td>01007-010</td>\n      <td>0.99</td>\n    </tr>\n    <tr>\n      <th>12</th>\n      <td>372</td>\n      <td>10</td>\n      <td>2013-07-02 00:00:00</td>\n      <td>Rua Dr. Falcão Filho, 155</td>\n      <td>São Paulo</td>\n      <td>SP</td>\n      <td>Brazil</td>\n      <td>01007-010</td>\n      <td>1.98</td>\n    </tr>\n    <tr>\n      <th>13</th>\n      <td>383</td>\n      <td>10</td>\n      <td>2013-08-12 00:00:00</td>\n      <td>Rua Dr. Falcão Filho, 155</td>\n      <td>São Paulo</td>\n      <td>SP</td>\n      <td>Brazil</td>\n      <td>01007-010</td>\n      <td>13.86</td>\n    </tr>\n    <tr>\n      <th>14</th>\n      <td>57</td>\n      <td>11</td>\n      <td>2009-09-06 00:00:00</td>\n      <td>Av. Paulista, 2022</td>\n      <td>São Paulo</td>\n      <td>SP</td>\n      <td>Brazil</td>\n      <td>01310-200</td>\n      <td>1.98</td>\n    </tr>\n    <tr>\n      <th>15</th>\n      <td>68</td>\n      <td>11</td>\n      <td>2009-10-17 00:00:00</td>\n      <td>Av. Paulista, 2022</td>\n      <td>São Paulo</td>\n      <td>SP</td>\n      <td>Brazil</td>\n      <td>01310-200</td>\n      <td>13.86</td>\n    </tr>\n    <tr>\n      <th>16</th>\n      <td>123</td>\n      <td>11</td>\n      <td>2010-06-17 00:00:00</td>\n      <td>Av. Paulista, 2022</td>\n      <td>São Paulo</td>\n      <td>SP</td>\n      <td>Brazil</td>\n      <td>01310-200</td>\n      <td>8.91</td>\n    </tr>\n    <tr>\n      <th>17</th>\n      <td>252</td>\n      <td>11</td>\n      <td>2012-01-22 00:00:00</td>\n      <td>Av. Paulista, 2022</td>\n      <td>São Paulo</td>\n      <td>SP</td>\n      <td>Brazil</td>\n      <td>01310-200</td>\n      <td>1.98</td>\n    </tr>\n    <tr>\n      <th>18</th>\n      <td>275</td>\n      <td>11</td>\n      <td>2012-04-25 00:00:00</td>\n      <td>Av. Paulista, 2022</td>\n      <td>São Paulo</td>\n      <td>SP</td>\n      <td>Brazil</td>\n      <td>01310-200</td>\n      <td>3.96</td>\n    </tr>\n    <tr>\n      <th>19</th>\n      <td>297</td>\n      <td>11</td>\n      <td>2012-07-28 00:00:00</td>\n      <td>Av. Paulista, 2022</td>\n      <td>São Paulo</td>\n      <td>SP</td>\n      <td>Brazil</td>\n      <td>01310-200</td>\n      <td>5.94</td>\n    </tr>\n    <tr>\n      <th>20</th>\n      <td>349</td>\n      <td>11</td>\n      <td>2013-03-18 00:00:00</td>\n      <td>Av. Paulista, 2022</td>\n      <td>São Paulo</td>\n      <td>SP</td>\n      <td>Brazil</td>\n      <td>01310-200</td>\n      <td>0.99</td>\n    </tr>\n    <tr>\n      <th>21</th>\n      <td>34</td>\n      <td>12</td>\n      <td>2009-05-23 00:00:00</td>\n      <td>Praça Pio X, 119</td>\n      <td>Rio de Janeiro</td>\n      <td>RJ</td>\n      <td>Brazil</td>\n      <td>20040-020</td>\n      <td>0.99</td>\n    </tr>\n    <tr>\n      <th>22</th>\n      <td>155</td>\n      <td>12</td>\n      <td>2010-11-14 00:00:00</td>\n      <td>Praça Pio X, 119</td>\n      <td>Rio de Janeiro</td>\n      <td>RJ</td>\n      <td>Brazil</td>\n      <td>20040-020</td>\n      <td>1.98</td>\n    </tr>\n    <tr>\n      <th>23</th>\n      <td>166</td>\n      <td>12</td>\n      <td>2010-12-25 00:00:00</td>\n      <td>Praça Pio X, 119</td>\n      <td>Rio de Janeiro</td>\n      <td>RJ</td>\n      <td>Brazil</td>\n      <td>20040-020</td>\n      <td>13.86</td>\n    </tr>\n    <tr>\n      <th>24</th>\n      <td>221</td>\n      <td>12</td>\n      <td>2011-08-25 00:00:00</td>\n      <td>Praça Pio X, 119</td>\n      <td>Rio de Janeiro</td>\n      <td>RJ</td>\n      <td>Brazil</td>\n      <td>20040-020</td>\n      <td>8.91</td>\n    </tr>\n    <tr>\n      <th>25</th>\n      <td>350</td>\n      <td>12</td>\n      <td>2013-03-31 00:00:00</td>\n      <td>Praça Pio X, 119</td>\n      <td>Rio de Janeiro</td>\n      <td>RJ</td>\n      <td>Brazil</td>\n      <td>20040-020</td>\n      <td>1.98</td>\n    </tr>\n    <tr>\n      <th>26</th>\n      <td>373</td>\n      <td>12</td>\n      <td>2013-07-03 00:00:00</td>\n      <td>Praça Pio X, 119</td>\n      <td>Rio de Janeiro</td>\n      <td>RJ</td>\n      <td>Brazil</td>\n      <td>20040-020</td>\n      <td>3.96</td>\n    </tr>\n    <tr>\n      <th>27</th>\n      <td>395</td>\n      <td>12</td>\n      <td>2013-10-05 00:00:00</td>\n      <td>Praça Pio X, 119</td>\n      <td>Rio de Janeiro</td>\n      <td>RJ</td>\n      <td>Brazil</td>\n      <td>20040-020</td>\n      <td>5.94</td>\n    </tr>\n    <tr>\n      <th>28</th>\n      <td>35</td>\n      <td>13</td>\n      <td>2009-06-05 00:00:00</td>\n      <td>Qe 7 Bloco G</td>\n      <td>Brasília</td>\n      <td>DF</td>\n      <td>Brazil</td>\n      <td>71020-677</td>\n      <td>1.98</td>\n    </tr>\n    <tr>\n      <th>29</th>\n      <td>58</td>\n      <td>13</td>\n      <td>2009-09-07 00:00:00</td>\n      <td>Qe 7 Bloco G</td>\n      <td>Brasília</td>\n      <td>DF</td>\n      <td>Brazil</td>\n      <td>71020-677</td>\n      <td>3.96</td>\n    </tr>\n    <tr>\n      <th>30</th>\n      <td>80</td>\n      <td>13</td>\n      <td>2009-12-10 00:00:00</td>\n      <td>Qe 7 Bloco G</td>\n      <td>Brasília</td>\n      <td>DF</td>\n      <td>Brazil</td>\n      <td>71020-677</td>\n      <td>5.94</td>\n    </tr>\n    <tr>\n      <th>31</th>\n      <td>132</td>\n      <td>13</td>\n      <td>2010-07-31 00:00:00</td>\n      <td>Qe 7 Bloco G</td>\n      <td>Brasília</td>\n      <td>DF</td>\n      <td>Brazil</td>\n      <td>71020-677</td>\n      <td>0.99</td>\n    </tr>\n    <tr>\n      <th>32</th>\n      <td>253</td>\n      <td>13</td>\n      <td>2012-01-22 00:00:00</td>\n      <td>Qe 7 Bloco G</td>\n      <td>Brasília</td>\n      <td>DF</td>\n      <td>Brazil</td>\n      <td>71020-677</td>\n      <td>1.98</td>\n    </tr>\n    <tr>\n      <th>33</th>\n      <td>264</td>\n      <td>13</td>\n      <td>2012-03-03 00:00:00</td>\n      <td>Qe 7 Bloco G</td>\n      <td>Brasília</td>\n      <td>DF</td>\n      <td>Brazil</td>\n      <td>71020-677</td>\n      <td>13.86</td>\n    </tr>\n    <tr>\n      <th>34</th>\n      <td>319</td>\n      <td>13</td>\n      <td>2012-11-01 00:00:00</td>\n      <td>Qe 7 Bloco G</td>\n      <td>Brasília</td>\n      <td>DF</td>\n      <td>Brazil</td>\n      <td>71020-677</td>\n      <td>8.91</td>\n    </tr>\n  </tbody>\n</table>\n</div>"
     },
     "metadata": {},
     "execution_count": 27
    }
   ],
   "source": [
    "query = \"\"\"\n",
    "SELECT i.*\n",
    "FROM customers c\n",
    "JOIN invoices i ON c.CustomerId = i.CustomerId\n",
    "WHERE c.Country = \"Brazil\"\n",
    "\"\"\"\n",
    "pd.read_sql_query(query,conn)"
   ]
  },
  {
   "cell_type": "code",
   "execution_count": 29,
   "metadata": {},
   "outputs": [
    {
     "output_type": "execute_result",
     "data": {
      "text/plain": [
       "     InvoiceId  CustomerId          InvoiceDate  \\\n",
       "0           98           1  2010-03-11 00:00:00   \n",
       "1          121           1  2010-06-13 00:00:00   \n",
       "2          143           1  2010-09-15 00:00:00   \n",
       "3          195           1  2011-05-06 00:00:00   \n",
       "4          316           1  2012-10-27 00:00:00   \n",
       "..         ...         ...                  ...   \n",
       "407         88          57  2010-01-13 00:00:00   \n",
       "408        217          57  2011-08-20 00:00:00   \n",
       "409        240          57  2011-11-22 00:00:00   \n",
       "410        262          57  2012-02-24 00:00:00   \n",
       "411        314          57  2012-10-14 00:00:00   \n",
       "\n",
       "                      BillingAddress          BillingCity BillingState  \\\n",
       "0    Av. Brigadeiro Faria Lima, 2170  São José dos Campos           SP   \n",
       "1    Av. Brigadeiro Faria Lima, 2170  São José dos Campos           SP   \n",
       "2    Av. Brigadeiro Faria Lima, 2170  São José dos Campos           SP   \n",
       "3    Av. Brigadeiro Faria Lima, 2170  São José dos Campos           SP   \n",
       "4    Av. Brigadeiro Faria Lima, 2170  São José dos Campos           SP   \n",
       "..                               ...                  ...          ...   \n",
       "407                  Calle Lira, 198             Santiago         None   \n",
       "408                  Calle Lira, 198             Santiago         None   \n",
       "409                  Calle Lira, 198             Santiago         None   \n",
       "410                  Calle Lira, 198             Santiago         None   \n",
       "411                  Calle Lira, 198             Santiago         None   \n",
       "\n",
       "    BillingCountry BillingPostalCode  Total Nombre completo  \n",
       "0           Brazil         12227-000   3.98    Peacock Jane  \n",
       "1           Brazil         12227-000   3.96    Peacock Jane  \n",
       "2           Brazil         12227-000   5.94    Peacock Jane  \n",
       "3           Brazil         12227-000   0.99    Peacock Jane  \n",
       "4           Brazil         12227-000   1.98    Peacock Jane  \n",
       "..             ...               ...    ...             ...  \n",
       "407          Chile              None  17.91   Johnson Steve  \n",
       "408          Chile              None   1.98   Johnson Steve  \n",
       "409          Chile              None   3.96   Johnson Steve  \n",
       "410          Chile              None   5.94   Johnson Steve  \n",
       "411          Chile              None   0.99   Johnson Steve  \n",
       "\n",
       "[412 rows x 10 columns]"
      ],
      "text/html": "<div>\n<style scoped>\n    .dataframe tbody tr th:only-of-type {\n        vertical-align: middle;\n    }\n\n    .dataframe tbody tr th {\n        vertical-align: top;\n    }\n\n    .dataframe thead th {\n        text-align: right;\n    }\n</style>\n<table border=\"1\" class=\"dataframe\">\n  <thead>\n    <tr style=\"text-align: right;\">\n      <th></th>\n      <th>InvoiceId</th>\n      <th>CustomerId</th>\n      <th>InvoiceDate</th>\n      <th>BillingAddress</th>\n      <th>BillingCity</th>\n      <th>BillingState</th>\n      <th>BillingCountry</th>\n      <th>BillingPostalCode</th>\n      <th>Total</th>\n      <th>Nombre completo</th>\n    </tr>\n  </thead>\n  <tbody>\n    <tr>\n      <th>0</th>\n      <td>98</td>\n      <td>1</td>\n      <td>2010-03-11 00:00:00</td>\n      <td>Av. Brigadeiro Faria Lima, 2170</td>\n      <td>São José dos Campos</td>\n      <td>SP</td>\n      <td>Brazil</td>\n      <td>12227-000</td>\n      <td>3.98</td>\n      <td>Peacock Jane</td>\n    </tr>\n    <tr>\n      <th>1</th>\n      <td>121</td>\n      <td>1</td>\n      <td>2010-06-13 00:00:00</td>\n      <td>Av. Brigadeiro Faria Lima, 2170</td>\n      <td>São José dos Campos</td>\n      <td>SP</td>\n      <td>Brazil</td>\n      <td>12227-000</td>\n      <td>3.96</td>\n      <td>Peacock Jane</td>\n    </tr>\n    <tr>\n      <th>2</th>\n      <td>143</td>\n      <td>1</td>\n      <td>2010-09-15 00:00:00</td>\n      <td>Av. Brigadeiro Faria Lima, 2170</td>\n      <td>São José dos Campos</td>\n      <td>SP</td>\n      <td>Brazil</td>\n      <td>12227-000</td>\n      <td>5.94</td>\n      <td>Peacock Jane</td>\n    </tr>\n    <tr>\n      <th>3</th>\n      <td>195</td>\n      <td>1</td>\n      <td>2011-05-06 00:00:00</td>\n      <td>Av. Brigadeiro Faria Lima, 2170</td>\n      <td>São José dos Campos</td>\n      <td>SP</td>\n      <td>Brazil</td>\n      <td>12227-000</td>\n      <td>0.99</td>\n      <td>Peacock Jane</td>\n    </tr>\n    <tr>\n      <th>4</th>\n      <td>316</td>\n      <td>1</td>\n      <td>2012-10-27 00:00:00</td>\n      <td>Av. Brigadeiro Faria Lima, 2170</td>\n      <td>São José dos Campos</td>\n      <td>SP</td>\n      <td>Brazil</td>\n      <td>12227-000</td>\n      <td>1.98</td>\n      <td>Peacock Jane</td>\n    </tr>\n    <tr>\n      <th>...</th>\n      <td>...</td>\n      <td>...</td>\n      <td>...</td>\n      <td>...</td>\n      <td>...</td>\n      <td>...</td>\n      <td>...</td>\n      <td>...</td>\n      <td>...</td>\n      <td>...</td>\n    </tr>\n    <tr>\n      <th>407</th>\n      <td>88</td>\n      <td>57</td>\n      <td>2010-01-13 00:00:00</td>\n      <td>Calle Lira, 198</td>\n      <td>Santiago</td>\n      <td>None</td>\n      <td>Chile</td>\n      <td>None</td>\n      <td>17.91</td>\n      <td>Johnson Steve</td>\n    </tr>\n    <tr>\n      <th>408</th>\n      <td>217</td>\n      <td>57</td>\n      <td>2011-08-20 00:00:00</td>\n      <td>Calle Lira, 198</td>\n      <td>Santiago</td>\n      <td>None</td>\n      <td>Chile</td>\n      <td>None</td>\n      <td>1.98</td>\n      <td>Johnson Steve</td>\n    </tr>\n    <tr>\n      <th>409</th>\n      <td>240</td>\n      <td>57</td>\n      <td>2011-11-22 00:00:00</td>\n      <td>Calle Lira, 198</td>\n      <td>Santiago</td>\n      <td>None</td>\n      <td>Chile</td>\n      <td>None</td>\n      <td>3.96</td>\n      <td>Johnson Steve</td>\n    </tr>\n    <tr>\n      <th>410</th>\n      <td>262</td>\n      <td>57</td>\n      <td>2012-02-24 00:00:00</td>\n      <td>Calle Lira, 198</td>\n      <td>Santiago</td>\n      <td>None</td>\n      <td>Chile</td>\n      <td>None</td>\n      <td>5.94</td>\n      <td>Johnson Steve</td>\n    </tr>\n    <tr>\n      <th>411</th>\n      <td>314</td>\n      <td>57</td>\n      <td>2012-10-14 00:00:00</td>\n      <td>Calle Lira, 198</td>\n      <td>Santiago</td>\n      <td>None</td>\n      <td>Chile</td>\n      <td>None</td>\n      <td>0.99</td>\n      <td>Johnson Steve</td>\n    </tr>\n  </tbody>\n</table>\n<p>412 rows × 10 columns</p>\n</div>"
     },
     "metadata": {},
     "execution_count": 29
    }
   ],
   "source": [
    "query = \"\"\"\n",
    "SELECT i.*, e.LastName || \" \" || e.FirstName as \"Nombre completo\"\n",
    "FROM employees e\n",
    "JOIN customers c ON e.EmployeeId = c.SupportRepId\n",
    "JOIN invoices i ON c.CustomerId = i.CustomerId\n",
    "\"\"\"\n",
    "pd.read_sql_query(query,conn)"
   ]
  },
  {
   "cell_type": "code",
   "execution_count": 9,
   "metadata": {},
   "outputs": [
    {
     "output_type": "execute_result",
     "data": {
      "text/plain": [
       "    Cliente Country Empleado  Total\n",
       "0      Luís  Brazil     Jane   3.98\n",
       "1      Luís  Brazil     Jane   3.96\n",
       "2      Luís  Brazil     Jane   5.94\n",
       "3      Luís  Brazil     Jane   0.99\n",
       "4      Luís  Brazil     Jane   1.98\n",
       "..      ...     ...      ...    ...\n",
       "407    Puja   India     Jane   5.94\n",
       "408    Puja   India     Jane   1.99\n",
       "409    Puja   India     Jane   1.98\n",
       "410    Puja   India     Jane  13.86\n",
       "411    Puja   India     Jane   8.91\n",
       "\n",
       "[412 rows x 4 columns]"
      ],
      "text/html": "<div>\n<style scoped>\n    .dataframe tbody tr th:only-of-type {\n        vertical-align: middle;\n    }\n\n    .dataframe tbody tr th {\n        vertical-align: top;\n    }\n\n    .dataframe thead th {\n        text-align: right;\n    }\n</style>\n<table border=\"1\" class=\"dataframe\">\n  <thead>\n    <tr style=\"text-align: right;\">\n      <th></th>\n      <th>Cliente</th>\n      <th>Country</th>\n      <th>Empleado</th>\n      <th>Total</th>\n    </tr>\n  </thead>\n  <tbody>\n    <tr>\n      <th>0</th>\n      <td>Luís</td>\n      <td>Brazil</td>\n      <td>Jane</td>\n      <td>3.98</td>\n    </tr>\n    <tr>\n      <th>1</th>\n      <td>Luís</td>\n      <td>Brazil</td>\n      <td>Jane</td>\n      <td>3.96</td>\n    </tr>\n    <tr>\n      <th>2</th>\n      <td>Luís</td>\n      <td>Brazil</td>\n      <td>Jane</td>\n      <td>5.94</td>\n    </tr>\n    <tr>\n      <th>3</th>\n      <td>Luís</td>\n      <td>Brazil</td>\n      <td>Jane</td>\n      <td>0.99</td>\n    </tr>\n    <tr>\n      <th>4</th>\n      <td>Luís</td>\n      <td>Brazil</td>\n      <td>Jane</td>\n      <td>1.98</td>\n    </tr>\n    <tr>\n      <th>...</th>\n      <td>...</td>\n      <td>...</td>\n      <td>...</td>\n      <td>...</td>\n    </tr>\n    <tr>\n      <th>407</th>\n      <td>Puja</td>\n      <td>India</td>\n      <td>Jane</td>\n      <td>5.94</td>\n    </tr>\n    <tr>\n      <th>408</th>\n      <td>Puja</td>\n      <td>India</td>\n      <td>Jane</td>\n      <td>1.99</td>\n    </tr>\n    <tr>\n      <th>409</th>\n      <td>Puja</td>\n      <td>India</td>\n      <td>Jane</td>\n      <td>1.98</td>\n    </tr>\n    <tr>\n      <th>410</th>\n      <td>Puja</td>\n      <td>India</td>\n      <td>Jane</td>\n      <td>13.86</td>\n    </tr>\n    <tr>\n      <th>411</th>\n      <td>Puja</td>\n      <td>India</td>\n      <td>Jane</td>\n      <td>8.91</td>\n    </tr>\n  </tbody>\n</table>\n<p>412 rows × 4 columns</p>\n</div>"
     },
     "metadata": {},
     "execution_count": 9
    }
   ],
   "source": [
    "#4. \n",
    "query = \"\"\"\n",
    "SELECT c.FirstName \"Cliente\", c.Country, e.FirstName \"Empleado\", i.Total\n",
    "FROM invoices i\n",
    "JOIN customers c ON i.CustomerId = c.CustomerId\n",
    "JOIN employees e ON e.EmployeeId = c.supportRepId\n",
    "\n",
    "\"\"\"\n",
    "pd.read_sql_query(query,conn)\n"
   ]
  },
  {
   "cell_type": "code",
   "execution_count": 11,
   "metadata": {},
   "outputs": [
    {
     "output_type": "execute_result",
     "data": {
      "text/plain": [
       "      TrackId                                               Name\n",
       "0           1            For Those About To Rock (We Salute You)\n",
       "1           2                                  Balls to the Wall\n",
       "2           2                                  Balls to the Wall\n",
       "3           3                                    Fast As a Shark\n",
       "4           4                                  Restless and Wild\n",
       "...       ...                                                ...\n",
       "2235     3494  Symphony No. 2, Op. 16 -  \"The Four Temperamen...\n",
       "2236     3496    Étude 1, In C Major - Preludio (Presto) - Liszt\n",
       "2237     3499  Pini Di Roma (Pinien Von Rom) \\ I Pini Della V...\n",
       "2238     3500  String Quartet No. 12 in C Minor, D. 703 \"Quar...\n",
       "2239     3500  String Quartet No. 12 in C Minor, D. 703 \"Quar...\n",
       "\n",
       "[2240 rows x 2 columns]"
      ],
      "text/html": "<div>\n<style scoped>\n    .dataframe tbody tr th:only-of-type {\n        vertical-align: middle;\n    }\n\n    .dataframe tbody tr th {\n        vertical-align: top;\n    }\n\n    .dataframe thead th {\n        text-align: right;\n    }\n</style>\n<table border=\"1\" class=\"dataframe\">\n  <thead>\n    <tr style=\"text-align: right;\">\n      <th></th>\n      <th>TrackId</th>\n      <th>Name</th>\n    </tr>\n  </thead>\n  <tbody>\n    <tr>\n      <th>0</th>\n      <td>1</td>\n      <td>For Those About To Rock (We Salute You)</td>\n    </tr>\n    <tr>\n      <th>1</th>\n      <td>2</td>\n      <td>Balls to the Wall</td>\n    </tr>\n    <tr>\n      <th>2</th>\n      <td>2</td>\n      <td>Balls to the Wall</td>\n    </tr>\n    <tr>\n      <th>3</th>\n      <td>3</td>\n      <td>Fast As a Shark</td>\n    </tr>\n    <tr>\n      <th>4</th>\n      <td>4</td>\n      <td>Restless and Wild</td>\n    </tr>\n    <tr>\n      <th>...</th>\n      <td>...</td>\n      <td>...</td>\n    </tr>\n    <tr>\n      <th>2235</th>\n      <td>3494</td>\n      <td>Symphony No. 2, Op. 16 -  \"The Four Temperamen...</td>\n    </tr>\n    <tr>\n      <th>2236</th>\n      <td>3496</td>\n      <td>Étude 1, In C Major - Preludio (Presto) - Liszt</td>\n    </tr>\n    <tr>\n      <th>2237</th>\n      <td>3499</td>\n      <td>Pini Di Roma (Pinien Von Rom) \\ I Pini Della V...</td>\n    </tr>\n    <tr>\n      <th>2238</th>\n      <td>3500</td>\n      <td>String Quartet No. 12 in C Minor, D. 703 \"Quar...</td>\n    </tr>\n    <tr>\n      <th>2239</th>\n      <td>3500</td>\n      <td>String Quartet No. 12 in C Minor, D. 703 \"Quar...</td>\n    </tr>\n  </tbody>\n</table>\n<p>2240 rows × 2 columns</p>\n</div>"
     },
     "metadata": {},
     "execution_count": 11
    }
   ],
   "source": [
    "#5.\n",
    "query= \"\"\"\n",
    "SELECT it.TrackId, t.Name\n",
    "FROM invoice_items it\n",
    "JOIN tracks t ON t.TrackId = it.TrackId\n",
    "\"\"\"\n",
    "pd.read_sql_query(query,conn)"
   ]
  },
  {
   "cell_type": "code",
   "execution_count": 34,
   "metadata": {},
   "outputs": [
    {
     "output_type": "execute_result",
     "data": {
      "text/plain": [
       "                               Name  InvoiceLineId  InvoiceId\n",
       "0               Experiment In Terra            531         98\n",
       "1                 Take the Celestra            532         98\n",
       "2                 Shout It Out Loud            649        121\n",
       "3                  Calling Dr. Love            650        121\n",
       "4                          Strutter            651        121\n",
       "...                             ...            ...        ...\n",
       "2235           Esporrei Na Manivela           1537        284\n",
       "2236  No Fundo Do Quintal Da Escola           1538        284\n",
       "2237                 Que Luz É Essa           1539        284\n",
       "2238          The Power Of Equality           1540        284\n",
       "2239   Mellowship Slinky In B Major           1541        284\n",
       "\n",
       "[2240 rows x 3 columns]"
      ],
      "text/html": "<div>\n<style scoped>\n    .dataframe tbody tr th:only-of-type {\n        vertical-align: middle;\n    }\n\n    .dataframe tbody tr th {\n        vertical-align: top;\n    }\n\n    .dataframe thead th {\n        text-align: right;\n    }\n</style>\n<table border=\"1\" class=\"dataframe\">\n  <thead>\n    <tr style=\"text-align: right;\">\n      <th></th>\n      <th>Name</th>\n      <th>InvoiceLineId</th>\n      <th>InvoiceId</th>\n    </tr>\n  </thead>\n  <tbody>\n    <tr>\n      <th>0</th>\n      <td>Experiment In Terra</td>\n      <td>531</td>\n      <td>98</td>\n    </tr>\n    <tr>\n      <th>1</th>\n      <td>Take the Celestra</td>\n      <td>532</td>\n      <td>98</td>\n    </tr>\n    <tr>\n      <th>2</th>\n      <td>Shout It Out Loud</td>\n      <td>649</td>\n      <td>121</td>\n    </tr>\n    <tr>\n      <th>3</th>\n      <td>Calling Dr. Love</td>\n      <td>650</td>\n      <td>121</td>\n    </tr>\n    <tr>\n      <th>4</th>\n      <td>Strutter</td>\n      <td>651</td>\n      <td>121</td>\n    </tr>\n    <tr>\n      <th>...</th>\n      <td>...</td>\n      <td>...</td>\n      <td>...</td>\n    </tr>\n    <tr>\n      <th>2235</th>\n      <td>Esporrei Na Manivela</td>\n      <td>1537</td>\n      <td>284</td>\n    </tr>\n    <tr>\n      <th>2236</th>\n      <td>No Fundo Do Quintal Da Escola</td>\n      <td>1538</td>\n      <td>284</td>\n    </tr>\n    <tr>\n      <th>2237</th>\n      <td>Que Luz É Essa</td>\n      <td>1539</td>\n      <td>284</td>\n    </tr>\n    <tr>\n      <th>2238</th>\n      <td>The Power Of Equality</td>\n      <td>1540</td>\n      <td>284</td>\n    </tr>\n    <tr>\n      <th>2239</th>\n      <td>Mellowship Slinky In B Major</td>\n      <td>1541</td>\n      <td>284</td>\n    </tr>\n  </tbody>\n</table>\n<p>2240 rows × 3 columns</p>\n</div>"
     },
     "metadata": {},
     "execution_count": 34
    }
   ],
   "source": [
    "#5.\n",
    "query5= \"\"\"\n",
    "SELECT t.name, ii.InvoiceLineId, i.invoiceId\n",
    "FROM tracks t\n",
    "JOIN invoice_items ii ON ii.trackId = t.trackId\n",
    "JOIN invoices i ON i.invoiceId= ii.invoiceId\n",
    "\"\"\"\n",
    "pd.read_sql_query(query5,conn)"
   ]
  },
  {
   "cell_type": "code",
   "execution_count": 33,
   "metadata": {},
   "outputs": [
    {
     "output_type": "execute_result",
     "data": {
      "text/plain": [
       "                                         Nombre Canción  \\\n",
       "0               For Those About To Rock (We Salute You)   \n",
       "1                                     Balls to the Wall   \n",
       "2                                       Fast As a Shark   \n",
       "3                                     Restless and Wild   \n",
       "4                                  Princess of the Dawn   \n",
       "...                                                 ...   \n",
       "3498  Pini Di Roma (Pinien Von Rom) \\ I Pini Della V...   \n",
       "3499  String Quartet No. 12 in C Minor, D. 703 \"Quar...   \n",
       "3500               L'orfeo, Act 3, Sinfonia (Orchestra)   \n",
       "3501  Quintet for Horn, Violin, 2 Violas, and Cello ...   \n",
       "3502  Die Zauberflöte, K.620: \"Der Hölle Rache Kocht...   \n",
       "\n",
       "                       Formato  \\\n",
       "0              MPEG audio file   \n",
       "1     Protected AAC audio file   \n",
       "2     Protected AAC audio file   \n",
       "3     Protected AAC audio file   \n",
       "4     Protected AAC audio file   \n",
       "...                        ...   \n",
       "3498  Protected AAC audio file   \n",
       "3499  Protected AAC audio file   \n",
       "3500  Protected AAC audio file   \n",
       "3501  Protected AAC audio file   \n",
       "3502  Protected AAC audio file   \n",
       "\n",
       "                                                  Album     Genero  \n",
       "0                 For Those About To Rock We Salute You       Rock  \n",
       "1                                     Balls to the Wall       Rock  \n",
       "2                                     Restless and Wild       Rock  \n",
       "3                                     Restless and Wild       Rock  \n",
       "4                                     Restless and Wild       Rock  \n",
       "...                                                 ...        ...  \n",
       "3498                             Respighi:Pines of Rome  Classical  \n",
       "3499  Schubert: The Late String Quartets & String Qu...  Classical  \n",
       "3500                                Monteverdi: L'Orfeo  Classical  \n",
       "3501                              Mozart: Chamber Music  Classical  \n",
       "3502                          Mozart Gala: Famous Arias      Opera  \n",
       "\n",
       "[3503 rows x 4 columns]"
      ],
      "text/html": "<div>\n<style scoped>\n    .dataframe tbody tr th:only-of-type {\n        vertical-align: middle;\n    }\n\n    .dataframe tbody tr th {\n        vertical-align: top;\n    }\n\n    .dataframe thead th {\n        text-align: right;\n    }\n</style>\n<table border=\"1\" class=\"dataframe\">\n  <thead>\n    <tr style=\"text-align: right;\">\n      <th></th>\n      <th>Nombre Canción</th>\n      <th>Formato</th>\n      <th>Album</th>\n      <th>Genero</th>\n    </tr>\n  </thead>\n  <tbody>\n    <tr>\n      <th>0</th>\n      <td>For Those About To Rock (We Salute You)</td>\n      <td>MPEG audio file</td>\n      <td>For Those About To Rock We Salute You</td>\n      <td>Rock</td>\n    </tr>\n    <tr>\n      <th>1</th>\n      <td>Balls to the Wall</td>\n      <td>Protected AAC audio file</td>\n      <td>Balls to the Wall</td>\n      <td>Rock</td>\n    </tr>\n    <tr>\n      <th>2</th>\n      <td>Fast As a Shark</td>\n      <td>Protected AAC audio file</td>\n      <td>Restless and Wild</td>\n      <td>Rock</td>\n    </tr>\n    <tr>\n      <th>3</th>\n      <td>Restless and Wild</td>\n      <td>Protected AAC audio file</td>\n      <td>Restless and Wild</td>\n      <td>Rock</td>\n    </tr>\n    <tr>\n      <th>4</th>\n      <td>Princess of the Dawn</td>\n      <td>Protected AAC audio file</td>\n      <td>Restless and Wild</td>\n      <td>Rock</td>\n    </tr>\n    <tr>\n      <th>...</th>\n      <td>...</td>\n      <td>...</td>\n      <td>...</td>\n      <td>...</td>\n    </tr>\n    <tr>\n      <th>3498</th>\n      <td>Pini Di Roma (Pinien Von Rom) \\ I Pini Della V...</td>\n      <td>Protected AAC audio file</td>\n      <td>Respighi:Pines of Rome</td>\n      <td>Classical</td>\n    </tr>\n    <tr>\n      <th>3499</th>\n      <td>String Quartet No. 12 in C Minor, D. 703 \"Quar...</td>\n      <td>Protected AAC audio file</td>\n      <td>Schubert: The Late String Quartets &amp; String Qu...</td>\n      <td>Classical</td>\n    </tr>\n    <tr>\n      <th>3500</th>\n      <td>L'orfeo, Act 3, Sinfonia (Orchestra)</td>\n      <td>Protected AAC audio file</td>\n      <td>Monteverdi: L'Orfeo</td>\n      <td>Classical</td>\n    </tr>\n    <tr>\n      <th>3501</th>\n      <td>Quintet for Horn, Violin, 2 Violas, and Cello ...</td>\n      <td>Protected AAC audio file</td>\n      <td>Mozart: Chamber Music</td>\n      <td>Classical</td>\n    </tr>\n    <tr>\n      <th>3502</th>\n      <td>Die Zauberflöte, K.620: \"Der Hölle Rache Kocht...</td>\n      <td>Protected AAC audio file</td>\n      <td>Mozart Gala: Famous Arias</td>\n      <td>Opera</td>\n    </tr>\n  </tbody>\n</table>\n<p>3503 rows × 4 columns</p>\n</div>"
     },
     "metadata": {},
     "execution_count": 33
    }
   ],
   "source": [
    "query6= \"\"\"\n",
    "SELECT t.name \"Nombre Canción\", mt.name \"Formato\", al.Title \"Album\", g.name \"Genero\"\n",
    "FROM tracks t\n",
    "JOIN media_types mt ON t.mediaTypeId= mt.mediaTypeId\n",
    "JOIN albums al ON t.albumId = al.albumId\n",
    "JOIN genres g ON g.GenreId = t.GenreId\n",
    "\"\"\"\n",
    "pd.read_sql_query(query6,conn)"
   ]
  },
  {
   "cell_type": "code",
   "execution_count": 50,
   "metadata": {},
   "outputs": [
    {
     "output_type": "execute_result",
     "data": {
      "text/plain": [
       "                                                   Name  MediaTypeId  GenreId  \\\n",
       "0               For Those About To Rock (We Salute You)            1        1   \n",
       "1                                     Balls to the Wall            2        1   \n",
       "2                                       Fast As a Shark            2        1   \n",
       "3                                     Restless and Wild            2        1   \n",
       "4                                  Princess of the Dawn            2        1   \n",
       "...                                                 ...          ...      ...   \n",
       "3498  Pini Di Roma (Pinien Von Rom) \\ I Pini Della V...            2       24   \n",
       "3499  String Quartet No. 12 in C Minor, D. 703 \"Quar...            2       24   \n",
       "3500               L'orfeo, Act 3, Sinfonia (Orchestra)            2       24   \n",
       "3501  Quintet for Horn, Violin, 2 Violas, and Cello ...            2       24   \n",
       "3502  Die Zauberflöte, K.620: \"Der Hölle Rache Kocht...            2       25   \n",
       "\n",
       "                                                  Title  \n",
       "0                 For Those About To Rock We Salute You  \n",
       "1                                     Balls to the Wall  \n",
       "2                                     Restless and Wild  \n",
       "3                                     Restless and Wild  \n",
       "4                                     Restless and Wild  \n",
       "...                                                 ...  \n",
       "3498                             Respighi:Pines of Rome  \n",
       "3499  Schubert: The Late String Quartets & String Qu...  \n",
       "3500                                Monteverdi: L'Orfeo  \n",
       "3501                              Mozart: Chamber Music  \n",
       "3502                          Mozart Gala: Famous Arias  \n",
       "\n",
       "[3503 rows x 4 columns]"
      ],
      "text/html": "<div>\n<style scoped>\n    .dataframe tbody tr th:only-of-type {\n        vertical-align: middle;\n    }\n\n    .dataframe tbody tr th {\n        vertical-align: top;\n    }\n\n    .dataframe thead th {\n        text-align: right;\n    }\n</style>\n<table border=\"1\" class=\"dataframe\">\n  <thead>\n    <tr style=\"text-align: right;\">\n      <th></th>\n      <th>Name</th>\n      <th>MediaTypeId</th>\n      <th>GenreId</th>\n      <th>Title</th>\n    </tr>\n  </thead>\n  <tbody>\n    <tr>\n      <th>0</th>\n      <td>For Those About To Rock (We Salute You)</td>\n      <td>1</td>\n      <td>1</td>\n      <td>For Those About To Rock We Salute You</td>\n    </tr>\n    <tr>\n      <th>1</th>\n      <td>Balls to the Wall</td>\n      <td>2</td>\n      <td>1</td>\n      <td>Balls to the Wall</td>\n    </tr>\n    <tr>\n      <th>2</th>\n      <td>Fast As a Shark</td>\n      <td>2</td>\n      <td>1</td>\n      <td>Restless and Wild</td>\n    </tr>\n    <tr>\n      <th>3</th>\n      <td>Restless and Wild</td>\n      <td>2</td>\n      <td>1</td>\n      <td>Restless and Wild</td>\n    </tr>\n    <tr>\n      <th>4</th>\n      <td>Princess of the Dawn</td>\n      <td>2</td>\n      <td>1</td>\n      <td>Restless and Wild</td>\n    </tr>\n    <tr>\n      <th>...</th>\n      <td>...</td>\n      <td>...</td>\n      <td>...</td>\n      <td>...</td>\n    </tr>\n    <tr>\n      <th>3498</th>\n      <td>Pini Di Roma (Pinien Von Rom) \\ I Pini Della V...</td>\n      <td>2</td>\n      <td>24</td>\n      <td>Respighi:Pines of Rome</td>\n    </tr>\n    <tr>\n      <th>3499</th>\n      <td>String Quartet No. 12 in C Minor, D. 703 \"Quar...</td>\n      <td>2</td>\n      <td>24</td>\n      <td>Schubert: The Late String Quartets &amp; String Qu...</td>\n    </tr>\n    <tr>\n      <th>3500</th>\n      <td>L'orfeo, Act 3, Sinfonia (Orchestra)</td>\n      <td>2</td>\n      <td>24</td>\n      <td>Monteverdi: L'Orfeo</td>\n    </tr>\n    <tr>\n      <th>3501</th>\n      <td>Quintet for Horn, Violin, 2 Violas, and Cello ...</td>\n      <td>2</td>\n      <td>24</td>\n      <td>Mozart: Chamber Music</td>\n    </tr>\n    <tr>\n      <th>3502</th>\n      <td>Die Zauberflöte, K.620: \"Der Hölle Rache Kocht...</td>\n      <td>2</td>\n      <td>25</td>\n      <td>Mozart Gala: Famous Arias</td>\n    </tr>\n  </tbody>\n</table>\n<p>3503 rows × 4 columns</p>\n</div>"
     },
     "metadata": {},
     "execution_count": 50
    }
   ],
   "source": [
    "#6. \n",
    "query= \"\"\"\n",
    "SELECT t.Name, mt.MediaTypeId, g.Genreid, a.Title\n",
    "FROM tracks t\n",
    "JOIN albums a ON a.AlbumId= t.AlbumId\n",
    "JOIN media_types mt ON mt.MediaTypeId = t.MediaTypeId\n",
    "JOIN genres g ON g.GenreId = t.GenreId\n",
    "\"\"\"\n",
    "pd.read_sql_query(query,conn)"
   ]
  },
  {
   "cell_type": "code",
   "execution_count": 20,
   "metadata": {},
   "outputs": [
    {
     "output_type": "execute_result",
     "data": {
      "text/plain": [
       "                          Name  COUNT(pt.trackId)\n",
       "0                        Music               3290\n",
       "1                       Movies                  0\n",
       "2                     TV Shows                213\n",
       "3                   Audiobooks                  0\n",
       "4                   90’s Music               1477\n",
       "5                   Audiobooks                  0\n",
       "6                       Movies                  0\n",
       "7                        Music               3290\n",
       "8                 Music Videos                  1\n",
       "9                     TV Shows                213\n",
       "10             Brazilian Music                 39\n",
       "11                   Classical                 75\n",
       "12   Classical 101 - Deep Cuts                 25\n",
       "13  Classical 101 - Next Steps                 25\n",
       "14  Classical 101 - The Basics                 25\n",
       "15                      Grunge                 15\n",
       "16         Heavy Metal Classic                 26\n",
       "17                 On-The-Go 1                  1"
      ],
      "text/html": "<div>\n<style scoped>\n    .dataframe tbody tr th:only-of-type {\n        vertical-align: middle;\n    }\n\n    .dataframe tbody tr th {\n        vertical-align: top;\n    }\n\n    .dataframe thead th {\n        text-align: right;\n    }\n</style>\n<table border=\"1\" class=\"dataframe\">\n  <thead>\n    <tr style=\"text-align: right;\">\n      <th></th>\n      <th>Name</th>\n      <th>COUNT(pt.trackId)</th>\n    </tr>\n  </thead>\n  <tbody>\n    <tr>\n      <th>0</th>\n      <td>Music</td>\n      <td>3290</td>\n    </tr>\n    <tr>\n      <th>1</th>\n      <td>Movies</td>\n      <td>0</td>\n    </tr>\n    <tr>\n      <th>2</th>\n      <td>TV Shows</td>\n      <td>213</td>\n    </tr>\n    <tr>\n      <th>3</th>\n      <td>Audiobooks</td>\n      <td>0</td>\n    </tr>\n    <tr>\n      <th>4</th>\n      <td>90’s Music</td>\n      <td>1477</td>\n    </tr>\n    <tr>\n      <th>5</th>\n      <td>Audiobooks</td>\n      <td>0</td>\n    </tr>\n    <tr>\n      <th>6</th>\n      <td>Movies</td>\n      <td>0</td>\n    </tr>\n    <tr>\n      <th>7</th>\n      <td>Music</td>\n      <td>3290</td>\n    </tr>\n    <tr>\n      <th>8</th>\n      <td>Music Videos</td>\n      <td>1</td>\n    </tr>\n    <tr>\n      <th>9</th>\n      <td>TV Shows</td>\n      <td>213</td>\n    </tr>\n    <tr>\n      <th>10</th>\n      <td>Brazilian Music</td>\n      <td>39</td>\n    </tr>\n    <tr>\n      <th>11</th>\n      <td>Classical</td>\n      <td>75</td>\n    </tr>\n    <tr>\n      <th>12</th>\n      <td>Classical 101 - Deep Cuts</td>\n      <td>25</td>\n    </tr>\n    <tr>\n      <th>13</th>\n      <td>Classical 101 - Next Steps</td>\n      <td>25</td>\n    </tr>\n    <tr>\n      <th>14</th>\n      <td>Classical 101 - The Basics</td>\n      <td>25</td>\n    </tr>\n    <tr>\n      <th>15</th>\n      <td>Grunge</td>\n      <td>15</td>\n    </tr>\n    <tr>\n      <th>16</th>\n      <td>Heavy Metal Classic</td>\n      <td>26</td>\n    </tr>\n    <tr>\n      <th>17</th>\n      <td>On-The-Go 1</td>\n      <td>1</td>\n    </tr>\n  </tbody>\n</table>\n</div>"
     },
     "metadata": {},
     "execution_count": 20
    }
   ],
   "source": [
    "query7= \"\"\"\n",
    "SELECT p.Name, COUNT(pt.trackId)\n",
    "FROM playlists p\n",
    "LEFT JOIN playlist_track pt ON p.PlaylistId = pt.PlaylistId\n",
    "GROUP BY p.PlaylistId\n",
    "\"\"\"\n",
    "pd.read_sql_query(query7,conn)"
   ]
  },
  {
   "cell_type": "code",
   "execution_count": 64,
   "metadata": {},
   "outputs": [
    {
     "output_type": "execute_result",
     "data": {
      "text/plain": [
       "                                                 Name  PlaylistId  TrackId  \\\n",
       "0             For Those About To Rock (We Salute You)           1        1   \n",
       "1              Battlestar Galactica: The Story So Far           3     2819   \n",
       "2                                     Fast As a Shark           5        3   \n",
       "3             For Those About To Rock (We Salute You)           8        1   \n",
       "4      Band Members Discuss Tracks from \"Revelations\"           9     3402   \n",
       "5              Battlestar Galactica: The Story So Far          10     2819   \n",
       "6                                             Sozinho          11      215   \n",
       "7                              Intoitus: Adorate Deum          12     3403   \n",
       "8                         Prometheus Overture, Op. 43          13     3479   \n",
       "9   Toccata and Fugue in D Minor, BWV 565: I. Toccata          14     3430   \n",
       "10                             Intoitus: Adorate Deum          15     3403   \n",
       "11                                     Man In The Box          16       52   \n",
       "12            For Those About To Rock (We Salute You)          17        1   \n",
       "13                                     Now's The Time          18      597   \n",
       "\n",
       "    COUNT(*)  \n",
       "0       3290  \n",
       "1        213  \n",
       "2       1477  \n",
       "3       3290  \n",
       "4          1  \n",
       "5        213  \n",
       "6         39  \n",
       "7         75  \n",
       "8         25  \n",
       "9         25  \n",
       "10        25  \n",
       "11        15  \n",
       "12        26  \n",
       "13         1  "
      ],
      "text/html": "<div>\n<style scoped>\n    .dataframe tbody tr th:only-of-type {\n        vertical-align: middle;\n    }\n\n    .dataframe tbody tr th {\n        vertical-align: top;\n    }\n\n    .dataframe thead th {\n        text-align: right;\n    }\n</style>\n<table border=\"1\" class=\"dataframe\">\n  <thead>\n    <tr style=\"text-align: right;\">\n      <th></th>\n      <th>Name</th>\n      <th>PlaylistId</th>\n      <th>TrackId</th>\n      <th>COUNT(*)</th>\n    </tr>\n  </thead>\n  <tbody>\n    <tr>\n      <th>0</th>\n      <td>For Those About To Rock (We Salute You)</td>\n      <td>1</td>\n      <td>1</td>\n      <td>3290</td>\n    </tr>\n    <tr>\n      <th>1</th>\n      <td>Battlestar Galactica: The Story So Far</td>\n      <td>3</td>\n      <td>2819</td>\n      <td>213</td>\n    </tr>\n    <tr>\n      <th>2</th>\n      <td>Fast As a Shark</td>\n      <td>5</td>\n      <td>3</td>\n      <td>1477</td>\n    </tr>\n    <tr>\n      <th>3</th>\n      <td>For Those About To Rock (We Salute You)</td>\n      <td>8</td>\n      <td>1</td>\n      <td>3290</td>\n    </tr>\n    <tr>\n      <th>4</th>\n      <td>Band Members Discuss Tracks from \"Revelations\"</td>\n      <td>9</td>\n      <td>3402</td>\n      <td>1</td>\n    </tr>\n    <tr>\n      <th>5</th>\n      <td>Battlestar Galactica: The Story So Far</td>\n      <td>10</td>\n      <td>2819</td>\n      <td>213</td>\n    </tr>\n    <tr>\n      <th>6</th>\n      <td>Sozinho</td>\n      <td>11</td>\n      <td>215</td>\n      <td>39</td>\n    </tr>\n    <tr>\n      <th>7</th>\n      <td>Intoitus: Adorate Deum</td>\n      <td>12</td>\n      <td>3403</td>\n      <td>75</td>\n    </tr>\n    <tr>\n      <th>8</th>\n      <td>Prometheus Overture, Op. 43</td>\n      <td>13</td>\n      <td>3479</td>\n      <td>25</td>\n    </tr>\n    <tr>\n      <th>9</th>\n      <td>Toccata and Fugue in D Minor, BWV 565: I. Toccata</td>\n      <td>14</td>\n      <td>3430</td>\n      <td>25</td>\n    </tr>\n    <tr>\n      <th>10</th>\n      <td>Intoitus: Adorate Deum</td>\n      <td>15</td>\n      <td>3403</td>\n      <td>25</td>\n    </tr>\n    <tr>\n      <th>11</th>\n      <td>Man In The Box</td>\n      <td>16</td>\n      <td>52</td>\n      <td>15</td>\n    </tr>\n    <tr>\n      <th>12</th>\n      <td>For Those About To Rock (We Salute You)</td>\n      <td>17</td>\n      <td>1</td>\n      <td>26</td>\n    </tr>\n    <tr>\n      <th>13</th>\n      <td>Now's The Time</td>\n      <td>18</td>\n      <td>597</td>\n      <td>1</td>\n    </tr>\n  </tbody>\n</table>\n</div>"
     },
     "metadata": {},
     "execution_count": 64
    }
   ],
   "source": [
    "#7. \n",
    "query =  \"\"\"\n",
    "SELECT t.Name,pt.PlaylistID, t.TrackId, COUNT(*)\n",
    "FROM playlist_track pt\n",
    "JOIN playlists pl ON pl.PlaylistId = pt.PlaylistId\n",
    "JOIN tracks t ON t.TrackId = pt.TrackId\n",
    "GROUP BY pt.PlaylistId\n",
    "\"\"\"\n",
    "pd.read_sql_query(query,conn)"
   ]
  },
  {
   "cell_type": "code",
   "execution_count": 21,
   "metadata": {},
   "outputs": [
    {
     "output_type": "execute_result",
     "data": {
      "text/plain": [
       "  FirstName  Ventas\n",
       "0      Jane  833.04\n",
       "1  Margaret  775.40\n",
       "2     Steve  720.16"
      ],
      "text/html": "<div>\n<style scoped>\n    .dataframe tbody tr th:only-of-type {\n        vertical-align: middle;\n    }\n\n    .dataframe tbody tr th {\n        vertical-align: top;\n    }\n\n    .dataframe thead th {\n        text-align: right;\n    }\n</style>\n<table border=\"1\" class=\"dataframe\">\n  <thead>\n    <tr style=\"text-align: right;\">\n      <th></th>\n      <th>FirstName</th>\n      <th>Ventas</th>\n    </tr>\n  </thead>\n  <tbody>\n    <tr>\n      <th>0</th>\n      <td>Jane</td>\n      <td>833.04</td>\n    </tr>\n    <tr>\n      <th>1</th>\n      <td>Margaret</td>\n      <td>775.40</td>\n    </tr>\n    <tr>\n      <th>2</th>\n      <td>Steve</td>\n      <td>720.16</td>\n    </tr>\n  </tbody>\n</table>\n</div>"
     },
     "metadata": {},
     "execution_count": 21
    }
   ],
   "source": [
    "\n",
    "query8=  \"\"\"\n",
    "SELECT e.FirstName, SUM(i.Total) \"Ventas\"\n",
    "FROM employees e\n",
    "JOIN customers c ON e.EmployeeId = c.SupportRepId\n",
    "JOIN invoices i ON i.CustomerId = c.CustomerId\n",
    "GROUP BY e.EmployeeId\n",
    "\"\"\"\n",
    "pd.read_sql_query(query8,conn)"
   ]
  },
  {
   "cell_type": "code",
   "execution_count": 25,
   "metadata": {},
   "outputs": [
    {
     "output_type": "execute_result",
     "data": {
      "text/plain": [
       "  FirstName  Ventas\n",
       "0     Steve  164.34"
      ],
      "text/html": "<div>\n<style scoped>\n    .dataframe tbody tr th:only-of-type {\n        vertical-align: middle;\n    }\n\n    .dataframe tbody tr th {\n        vertical-align: top;\n    }\n\n    .dataframe thead th {\n        text-align: right;\n    }\n</style>\n<table border=\"1\" class=\"dataframe\">\n  <thead>\n    <tr style=\"text-align: right;\">\n      <th></th>\n      <th>FirstName</th>\n      <th>Ventas</th>\n    </tr>\n  </thead>\n  <tbody>\n    <tr>\n      <th>0</th>\n      <td>Steve</td>\n      <td>164.34</td>\n    </tr>\n  </tbody>\n</table>\n</div>"
     },
     "metadata": {},
     "execution_count": 25
    }
   ],
   "source": [
    "query9 = \"\"\"\n",
    "SELECT e.FirstName, SUM(i.Total) \"Ventas\"\n",
    "FROM employees e\n",
    "JOIN customers c ON e.EmployeeId = c.SupportRepId\n",
    "JOIN invoices i ON i.CustomerId = c.CustomerId\n",
    "WHERE i.InvoiceDate LIKE \"2009%\"\n",
    "GROUP BY e.EmployeeId\n",
    "ORDER BY Ventas DESC\n",
    "LIMIT 1\n",
    "\"\"\"\n",
    "pd.read_sql_query(query9,conn)"
   ]
  },
  {
   "cell_type": "code",
   "execution_count": 31,
   "metadata": {},
   "outputs": [
    {
     "output_type": "execute_result",
     "data": {
      "text/plain": [
       "          Name  Ventas\n",
       "0  Iron Maiden  138.60\n",
       "1           U2  105.93\n",
       "2    Metallica   90.09"
      ],
      "text/html": "<div>\n<style scoped>\n    .dataframe tbody tr th:only-of-type {\n        vertical-align: middle;\n    }\n\n    .dataframe tbody tr th {\n        vertical-align: top;\n    }\n\n    .dataframe thead th {\n        text-align: right;\n    }\n</style>\n<table border=\"1\" class=\"dataframe\">\n  <thead>\n    <tr style=\"text-align: right;\">\n      <th></th>\n      <th>Name</th>\n      <th>Ventas</th>\n    </tr>\n  </thead>\n  <tbody>\n    <tr>\n      <th>0</th>\n      <td>Iron Maiden</td>\n      <td>138.60</td>\n    </tr>\n    <tr>\n      <th>1</th>\n      <td>U2</td>\n      <td>105.93</td>\n    </tr>\n    <tr>\n      <th>2</th>\n      <td>Metallica</td>\n      <td>90.09</td>\n    </tr>\n  </tbody>\n</table>\n</div>"
     },
     "metadata": {},
     "execution_count": 31
    }
   ],
   "source": [
    "query10= \"\"\"\n",
    "SELECT ar.Name, SUM(ii.UnitPrice) \"Ventas\"\n",
    "FROM artists ar\n",
    "JOIN albums al ON al.artistId = ar.artistId\n",
    "JOIN tracks t ON al.albumId = t.albumId\n",
    "JOIN invoice_items ii ON t.trackId = ii.trackID\n",
    "GROUP BY ar.ArtistId\n",
    "ORDER BY Ventas DESC\n",
    "LIMIT 3\n",
    "\"\"\"\n",
    "pd.read_sql_query(query10,conn)"
   ]
  },
  {
   "cell_type": "code",
   "execution_count": 35,
   "metadata": {},
   "outputs": [],
   "source": [
    "conn.close()"
   ]
  },
  {
   "cell_type": "code",
   "execution_count": null,
   "metadata": {},
   "outputs": [],
   "source": []
  }
 ]
}
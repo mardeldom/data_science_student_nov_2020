{
 "metadata": {
  "language_info": {
   "codemirror_mode": {
    "name": "ipython",
    "version": 3
   },
   "file_extension": ".py",
   "mimetype": "text/x-python",
   "name": "python",
   "nbconvert_exporter": "python",
   "pygments_lexer": "ipython3",
   "version": "3.9.0-final"
  },
  "orig_nbformat": 2,
  "kernelspec": {
   "name": "python3",
   "display_name": "Python 3.9.0 64-bit",
   "metadata": {
    "interpreter": {
     "hash": "2e3c1e8da6e821b0193601da5a0e541c0efda9704da45b6b820f5f4c317f2def"
    }
   }
  }
 },
 "nbformat": 4,
 "nbformat_minor": 2,
 "cells": [
  {
   "cell_type": "code",
   "execution_count": 3,
   "metadata": {},
   "outputs": [],
   "source": [
    "import sqlite3\n",
    "import pandas as pd"
   ]
  },
  {
   "cell_type": "code",
   "execution_count": 4,
   "metadata": {},
   "outputs": [],
   "source": [
    "dir_db= \"sql-murder-mystery.db\"\n",
    "conn = sqlite3.connect(dir_db)"
   ]
  },
  {
   "cell_type": "code",
   "execution_count": 5,
   "metadata": {},
   "outputs": [],
   "source": [
    "cursor= conn.cursor()"
   ]
  },
  {
   "cell_type": "code",
   "execution_count": 6,
   "metadata": {},
   "outputs": [
    {
     "output_type": "execute_result",
     "data": {
      "text/plain": [
       "[('Security footage shows that there were 2 witnesses. The first witness lives at the last house on \"Northwestern Dr\". The second witness, named Annabel, lives somewhere on \"Franklin Ave\".',)]"
      ]
     },
     "metadata": {},
     "execution_count": 6
    }
   ],
   "source": [
    "query = \"\"\"\n",
    "SELECT description\n",
    "FROM crime_scene_report\n",
    "WHERE date= \"20180115\" and type = \"murder\" and city = \"SQL City\"\n",
    "\"\"\"\n",
    "\n",
    "cursor= conn.cursor()\n",
    "mi_query= cursor.execute(query)\n",
    "mi_query.fetchall()"
   ]
  },
  {
   "cell_type": "code",
   "execution_count": 7,
   "metadata": {},
   "outputs": [
    {
     "output_type": "execute_result",
     "data": {
      "text/plain": [
       "      id            name  license_id  address_number address_street_name  \\\n",
       "0  14887  Morty Schapiro      118009            4919     Northwestern Dr   \n",
       "\n",
       "         ssn  \n",
       "0  111564949  "
      ],
      "text/html": "<div>\n<style scoped>\n    .dataframe tbody tr th:only-of-type {\n        vertical-align: middle;\n    }\n\n    .dataframe tbody tr th {\n        vertical-align: top;\n    }\n\n    .dataframe thead th {\n        text-align: right;\n    }\n</style>\n<table border=\"1\" class=\"dataframe\">\n  <thead>\n    <tr style=\"text-align: right;\">\n      <th></th>\n      <th>id</th>\n      <th>name</th>\n      <th>license_id</th>\n      <th>address_number</th>\n      <th>address_street_name</th>\n      <th>ssn</th>\n    </tr>\n  </thead>\n  <tbody>\n    <tr>\n      <th>0</th>\n      <td>14887</td>\n      <td>Morty Schapiro</td>\n      <td>118009</td>\n      <td>4919</td>\n      <td>Northwestern Dr</td>\n      <td>111564949</td>\n    </tr>\n  </tbody>\n</table>\n</div>"
     },
     "metadata": {},
     "execution_count": 7
    }
   ],
   "source": [
    "query1 = \"\"\"\n",
    "SELECT *\n",
    "FROM person\n",
    "WHERE address_street_name = \"Northwestern Dr\" and name = \"Morty Schapiro\"\n",
    "ORDER BY address_number DESC\n",
    "LIMIT 1\n",
    "\"\"\"\n",
    "pd.read_sql_query(query1, conn)"
   ]
  },
  {
   "cell_type": "code",
   "execution_count": 8,
   "metadata": {},
   "outputs": [
    {
     "output_type": "execute_result",
     "data": {
      "text/plain": [
       "      id            name  license_id  address_number address_street_name  \\\n",
       "0  16371  Annabel Miller      490173             103        Franklin Ave   \n",
       "\n",
       "         ssn  \n",
       "0  318771143  "
      ],
      "text/html": "<div>\n<style scoped>\n    .dataframe tbody tr th:only-of-type {\n        vertical-align: middle;\n    }\n\n    .dataframe tbody tr th {\n        vertical-align: top;\n    }\n\n    .dataframe thead th {\n        text-align: right;\n    }\n</style>\n<table border=\"1\" class=\"dataframe\">\n  <thead>\n    <tr style=\"text-align: right;\">\n      <th></th>\n      <th>id</th>\n      <th>name</th>\n      <th>license_id</th>\n      <th>address_number</th>\n      <th>address_street_name</th>\n      <th>ssn</th>\n    </tr>\n  </thead>\n  <tbody>\n    <tr>\n      <th>0</th>\n      <td>16371</td>\n      <td>Annabel Miller</td>\n      <td>490173</td>\n      <td>103</td>\n      <td>Franklin Ave</td>\n      <td>318771143</td>\n    </tr>\n  </tbody>\n</table>\n</div>"
     },
     "metadata": {},
     "execution_count": 8
    }
   ],
   "source": [
    "query2 = \"\"\"\n",
    "SELECT *\n",
    "FROM person\n",
    "WHERE address_street_name = \"Franklin Ave\" and name = \"Annabel Miller\"\n",
    "\"\"\"\n",
    "pd.read_sql_query(query2, conn)"
   ]
  },
  {
   "cell_type": "code",
   "execution_count": 9,
   "metadata": {},
   "outputs": [
    {
     "output_type": "execute_result",
     "data": {
      "text/plain": [
       "      id            name  license_id  address_number address_street_name  \\\n",
       "0  16371  Annabel Miller      490173             103        Franklin Ave   \n",
       "\n",
       "         ssn  person_id                                         transcript  \n",
       "0  318771143      16371  I saw the murder happen, and I recognized the ...  "
      ],
      "text/html": "<div>\n<style scoped>\n    .dataframe tbody tr th:only-of-type {\n        vertical-align: middle;\n    }\n\n    .dataframe tbody tr th {\n        vertical-align: top;\n    }\n\n    .dataframe thead th {\n        text-align: right;\n    }\n</style>\n<table border=\"1\" class=\"dataframe\">\n  <thead>\n    <tr style=\"text-align: right;\">\n      <th></th>\n      <th>id</th>\n      <th>name</th>\n      <th>license_id</th>\n      <th>address_number</th>\n      <th>address_street_name</th>\n      <th>ssn</th>\n      <th>person_id</th>\n      <th>transcript</th>\n    </tr>\n  </thead>\n  <tbody>\n    <tr>\n      <th>0</th>\n      <td>16371</td>\n      <td>Annabel Miller</td>\n      <td>490173</td>\n      <td>103</td>\n      <td>Franklin Ave</td>\n      <td>318771143</td>\n      <td>16371</td>\n      <td>I saw the murder happen, and I recognized the ...</td>\n    </tr>\n  </tbody>\n</table>\n</div>"
     },
     "metadata": {},
     "execution_count": 9
    }
   ],
   "source": [
    "query3 = \"\"\"\n",
    "SELECT *\n",
    "FROM person p \n",
    "JOIN interview it ON it.person_Id = p.id\n",
    "WHERE address_street_name = \"Franklin Ave\" and name = \"Annabel Miller\"\n",
    "\n",
    "\"\"\"\n",
    "pd.read_sql_query(query3, conn)"
   ]
  },
  {
   "cell_type": "code",
   "execution_count": 10,
   "metadata": {},
   "outputs": [
    {
     "output_type": "execute_result",
     "data": {
      "text/plain": [
       "'I saw the murder happen, and I recognized the killer from my gym when I was working out last week on January the 9th.'"
      ]
     },
     "metadata": {},
     "execution_count": 10
    }
   ],
   "source": [
    "pd.read_sql_query(query3, conn).iloc[0,7]"
   ]
  },
  {
   "cell_type": "code",
   "execution_count": 11,
   "metadata": {},
   "outputs": [
    {
     "output_type": "error",
     "ename": "IndexError",
     "evalue": "list index out of range",
     "traceback": [
      "\u001b[1;31m---------------------------------------------------------------------------\u001b[0m",
      "\u001b[1;31mIndexError\u001b[0m                                Traceback (most recent call last)",
      "\u001b[1;32m<ipython-input-11-6a714e8db180>\u001b[0m in \u001b[0;36m<module>\u001b[1;34m\u001b[0m\n\u001b[1;32m----> 1\u001b[1;33m \u001b[0mprint\u001b[0m\u001b[1;33m(\u001b[0m\u001b[1;34m'Description:\\n'\u001b[0m\u001b[1;33m,\u001b[0m \u001b[0mmi_query\u001b[0m\u001b[1;33m.\u001b[0m\u001b[0mfetchall\u001b[0m\u001b[1;33m(\u001b[0m\u001b[1;33m)\u001b[0m\u001b[1;33m[\u001b[0m\u001b[1;36m0\u001b[0m\u001b[1;33m]\u001b[0m\u001b[1;33m[\u001b[0m\u001b[1;36m2\u001b[0m\u001b[1;33m]\u001b[0m\u001b[1;33m)\u001b[0m\u001b[1;33m\u001b[0m\u001b[1;33m\u001b[0m\u001b[0m\n\u001b[0m",
      "\u001b[1;31mIndexError\u001b[0m: list index out of range"
     ]
    }
   ],
   "source": [
    " print('Description:\\n', mi_query.fetchall()[0][2])"
   ]
  },
  {
   "cell_type": "code",
   "execution_count": 12,
   "metadata": {},
   "outputs": [
    {
     "output_type": "execute_result",
     "data": {
      "text/plain": [
       "'I heard a gunshot and then saw a man run out. He had a \"Get Fit Now Gym\" bag. The membership number on the bag started with \"48Z\". Only gold members have those bags. The man got into a car with a plate that included \"H42W\".'"
      ]
     },
     "metadata": {},
     "execution_count": 12
    }
   ],
   "source": [
    "query4 = \"\"\"\n",
    "SELECT *\n",
    "FROM person p \n",
    "JOIN interview it ON it.person_Id = p.id\n",
    "WHERE address_street_name= \"Northwestern Dr\" and name= \"Morty Schapiro\"\n",
    "\"\"\"\n",
    "pd.read_sql_query(query4, conn).iloc[0,7]"
   ]
  },
  {
   "cell_type": "code",
   "execution_count": 30,
   "metadata": {},
   "outputs": [
    {
     "output_type": "execute_result",
     "data": {
      "text/plain": [
       "Empty DataFrame\n",
       "Columns: [id, name, license_id, address_number, address_street_name, ssn, id, age, height, eye_color, hair_color, gender, plate_number, car_make, car_model]\n",
       "Index: []"
      ],
      "text/html": "<div>\n<style scoped>\n    .dataframe tbody tr th:only-of-type {\n        vertical-align: middle;\n    }\n\n    .dataframe tbody tr th {\n        vertical-align: top;\n    }\n\n    .dataframe thead th {\n        text-align: right;\n    }\n</style>\n<table border=\"1\" class=\"dataframe\">\n  <thead>\n    <tr style=\"text-align: right;\">\n      <th></th>\n      <th>id</th>\n      <th>name</th>\n      <th>license_id</th>\n      <th>address_number</th>\n      <th>address_street_name</th>\n      <th>ssn</th>\n      <th>id</th>\n      <th>age</th>\n      <th>height</th>\n      <th>eye_color</th>\n      <th>hair_color</th>\n      <th>gender</th>\n      <th>plate_number</th>\n      <th>car_make</th>\n      <th>car_model</th>\n    </tr>\n  </thead>\n  <tbody>\n  </tbody>\n</table>\n</div>"
     },
     "metadata": {},
     "execution_count": 30
    }
   ],
   "source": [
    "query5 = \"\"\"\n",
    "SELECT *\n",
    "FROM person p\n",
    "JOIN drivers_license dl ON p.id = dl.id\n",
    "\"\"\"\n",
    "pd.read_sql_query(query5, conn)"
   ]
  },
  {
   "cell_type": "code",
   "execution_count": 75,
   "metadata": {},
   "outputs": [
    {
     "output_type": "execute_result",
     "data": {
      "text/plain": [
       "       id  age  height eye_color hair_color  gender plate_number   car_make  \\\n",
       "0  183779   21      65      blue     blonde  female       H42W0X     Toyota   \n",
       "1  423327   30      70     brown      brown    male       0H42W2  Chevrolet   \n",
       "2  664760   21      71     black      black    male       4H42WR     Nissan   \n",
       "\n",
       "  car_model  \n",
       "0     Prius  \n",
       "1  Spark LS  \n",
       "2    Altima  "
      ],
      "text/html": "<div>\n<style scoped>\n    .dataframe tbody tr th:only-of-type {\n        vertical-align: middle;\n    }\n\n    .dataframe tbody tr th {\n        vertical-align: top;\n    }\n\n    .dataframe thead th {\n        text-align: right;\n    }\n</style>\n<table border=\"1\" class=\"dataframe\">\n  <thead>\n    <tr style=\"text-align: right;\">\n      <th></th>\n      <th>id</th>\n      <th>age</th>\n      <th>height</th>\n      <th>eye_color</th>\n      <th>hair_color</th>\n      <th>gender</th>\n      <th>plate_number</th>\n      <th>car_make</th>\n      <th>car_model</th>\n    </tr>\n  </thead>\n  <tbody>\n    <tr>\n      <th>0</th>\n      <td>183779</td>\n      <td>21</td>\n      <td>65</td>\n      <td>blue</td>\n      <td>blonde</td>\n      <td>female</td>\n      <td>H42W0X</td>\n      <td>Toyota</td>\n      <td>Prius</td>\n    </tr>\n    <tr>\n      <th>1</th>\n      <td>423327</td>\n      <td>30</td>\n      <td>70</td>\n      <td>brown</td>\n      <td>brown</td>\n      <td>male</td>\n      <td>0H42W2</td>\n      <td>Chevrolet</td>\n      <td>Spark LS</td>\n    </tr>\n    <tr>\n      <th>2</th>\n      <td>664760</td>\n      <td>21</td>\n      <td>71</td>\n      <td>black</td>\n      <td>black</td>\n      <td>male</td>\n      <td>4H42WR</td>\n      <td>Nissan</td>\n      <td>Altima</td>\n    </tr>\n  </tbody>\n</table>\n</div>"
     },
     "metadata": {},
     "execution_count": 75
    }
   ],
   "source": [
    "query5 = \"\"\"\n",
    "SELECT *\n",
    "FROM drivers_license dl\n",
    "WHERE plate_number LIKE \"%H42W%\"\n",
    "\n",
    "\"\"\"\n",
    "pd.read_sql_query(query5, conn)"
   ]
  },
  {
   "cell_type": "code",
   "execution_count": 76,
   "metadata": {},
   "outputs": [
    {
     "output_type": "execute_result",
     "data": {
      "text/plain": [
       "      id            name  license_id  address_number    address_street_name  \\\n",
       "0  51739  Tushar Chandra      664760             312                 Phi St   \n",
       "1  67318   Jeremy Bowers      423327             530  Washington Pl, Apt 3A   \n",
       "2  78193  Maxine Whitely      183779             110                Fisk Rd   \n",
       "\n",
       "         ssn      id  age  height eye_color hair_color  gender plate_number  \\\n",
       "0  137882671  664760   21      71     black      black    male       4H42WR   \n",
       "1  871539279  423327   30      70     brown      brown    male       0H42W2   \n",
       "2  137882671  183779   21      65      blue     blonde  female       H42W0X   \n",
       "\n",
       "    car_make car_model  \n",
       "0     Nissan    Altima  \n",
       "1  Chevrolet  Spark LS  \n",
       "2     Toyota     Prius  "
      ],
      "text/html": "<div>\n<style scoped>\n    .dataframe tbody tr th:only-of-type {\n        vertical-align: middle;\n    }\n\n    .dataframe tbody tr th {\n        vertical-align: top;\n    }\n\n    .dataframe thead th {\n        text-align: right;\n    }\n</style>\n<table border=\"1\" class=\"dataframe\">\n  <thead>\n    <tr style=\"text-align: right;\">\n      <th></th>\n      <th>id</th>\n      <th>name</th>\n      <th>license_id</th>\n      <th>address_number</th>\n      <th>address_street_name</th>\n      <th>ssn</th>\n      <th>id</th>\n      <th>age</th>\n      <th>height</th>\n      <th>eye_color</th>\n      <th>hair_color</th>\n      <th>gender</th>\n      <th>plate_number</th>\n      <th>car_make</th>\n      <th>car_model</th>\n    </tr>\n  </thead>\n  <tbody>\n    <tr>\n      <th>0</th>\n      <td>51739</td>\n      <td>Tushar Chandra</td>\n      <td>664760</td>\n      <td>312</td>\n      <td>Phi St</td>\n      <td>137882671</td>\n      <td>664760</td>\n      <td>21</td>\n      <td>71</td>\n      <td>black</td>\n      <td>black</td>\n      <td>male</td>\n      <td>4H42WR</td>\n      <td>Nissan</td>\n      <td>Altima</td>\n    </tr>\n    <tr>\n      <th>1</th>\n      <td>67318</td>\n      <td>Jeremy Bowers</td>\n      <td>423327</td>\n      <td>530</td>\n      <td>Washington Pl, Apt 3A</td>\n      <td>871539279</td>\n      <td>423327</td>\n      <td>30</td>\n      <td>70</td>\n      <td>brown</td>\n      <td>brown</td>\n      <td>male</td>\n      <td>0H42W2</td>\n      <td>Chevrolet</td>\n      <td>Spark LS</td>\n    </tr>\n    <tr>\n      <th>2</th>\n      <td>78193</td>\n      <td>Maxine Whitely</td>\n      <td>183779</td>\n      <td>110</td>\n      <td>Fisk Rd</td>\n      <td>137882671</td>\n      <td>183779</td>\n      <td>21</td>\n      <td>65</td>\n      <td>blue</td>\n      <td>blonde</td>\n      <td>female</td>\n      <td>H42W0X</td>\n      <td>Toyota</td>\n      <td>Prius</td>\n    </tr>\n  </tbody>\n</table>\n</div>"
     },
     "metadata": {},
     "execution_count": 76
    }
   ],
   "source": [
    "#Primer sospechoso\n",
    "query6 = \"\"\"\n",
    "SELECT *\n",
    "FROM person p\n",
    "JOIN drivers_license dl ON p.license_id = dl.id\n",
    "WHERE plate_number LIKE \"%H42W%\"\n",
    "\"\"\"\n",
    "pd.read_sql_query(query6, conn)"
   ]
  },
  {
   "cell_type": "code",
   "execution_count": 57,
   "metadata": {},
   "outputs": [
    {
     "output_type": "execute_result",
     "data": {
      "text/plain": [
       "        id  person_id                name  membership_start_date  \\\n",
       "0    NL318      65076     Everette Koepke               20170926   \n",
       "1    AOE21      39426        Noe Locascio               20171005   \n",
       "2    2PN28      63823  Jeromy Heitschmidt               20180215   \n",
       "3    0YJ24      80651      Waneta Wellard               20171206   \n",
       "4    3A08L      32858        Mei Bianchin               20170401   \n",
       "..     ...        ...                 ...                    ...   \n",
       "179  2V137      41693      Wendell Dulany               20171219   \n",
       "180  4KB72      79110          Emile Hege               20170522   \n",
       "181  48Z7A      28819        Joe Germuska               20160305   \n",
       "182  48Z55      67318       Jeremy Bowers               20160101   \n",
       "183  90081      16371      Annabel Miller               20160208   \n",
       "\n",
       "    membership_status  \n",
       "0                gold  \n",
       "1             regular  \n",
       "2              silver  \n",
       "3                gold  \n",
       "4              silver  \n",
       "..                ...  \n",
       "179            silver  \n",
       "180           regular  \n",
       "181              gold  \n",
       "182              gold  \n",
       "183              gold  \n",
       "\n",
       "[184 rows x 5 columns]"
      ],
      "text/html": "<div>\n<style scoped>\n    .dataframe tbody tr th:only-of-type {\n        vertical-align: middle;\n    }\n\n    .dataframe tbody tr th {\n        vertical-align: top;\n    }\n\n    .dataframe thead th {\n        text-align: right;\n    }\n</style>\n<table border=\"1\" class=\"dataframe\">\n  <thead>\n    <tr style=\"text-align: right;\">\n      <th></th>\n      <th>id</th>\n      <th>person_id</th>\n      <th>name</th>\n      <th>membership_start_date</th>\n      <th>membership_status</th>\n    </tr>\n  </thead>\n  <tbody>\n    <tr>\n      <th>0</th>\n      <td>NL318</td>\n      <td>65076</td>\n      <td>Everette Koepke</td>\n      <td>20170926</td>\n      <td>gold</td>\n    </tr>\n    <tr>\n      <th>1</th>\n      <td>AOE21</td>\n      <td>39426</td>\n      <td>Noe Locascio</td>\n      <td>20171005</td>\n      <td>regular</td>\n    </tr>\n    <tr>\n      <th>2</th>\n      <td>2PN28</td>\n      <td>63823</td>\n      <td>Jeromy Heitschmidt</td>\n      <td>20180215</td>\n      <td>silver</td>\n    </tr>\n    <tr>\n      <th>3</th>\n      <td>0YJ24</td>\n      <td>80651</td>\n      <td>Waneta Wellard</td>\n      <td>20171206</td>\n      <td>gold</td>\n    </tr>\n    <tr>\n      <th>4</th>\n      <td>3A08L</td>\n      <td>32858</td>\n      <td>Mei Bianchin</td>\n      <td>20170401</td>\n      <td>silver</td>\n    </tr>\n    <tr>\n      <th>...</th>\n      <td>...</td>\n      <td>...</td>\n      <td>...</td>\n      <td>...</td>\n      <td>...</td>\n    </tr>\n    <tr>\n      <th>179</th>\n      <td>2V137</td>\n      <td>41693</td>\n      <td>Wendell Dulany</td>\n      <td>20171219</td>\n      <td>silver</td>\n    </tr>\n    <tr>\n      <th>180</th>\n      <td>4KB72</td>\n      <td>79110</td>\n      <td>Emile Hege</td>\n      <td>20170522</td>\n      <td>regular</td>\n    </tr>\n    <tr>\n      <th>181</th>\n      <td>48Z7A</td>\n      <td>28819</td>\n      <td>Joe Germuska</td>\n      <td>20160305</td>\n      <td>gold</td>\n    </tr>\n    <tr>\n      <th>182</th>\n      <td>48Z55</td>\n      <td>67318</td>\n      <td>Jeremy Bowers</td>\n      <td>20160101</td>\n      <td>gold</td>\n    </tr>\n    <tr>\n      <th>183</th>\n      <td>90081</td>\n      <td>16371</td>\n      <td>Annabel Miller</td>\n      <td>20160208</td>\n      <td>gold</td>\n    </tr>\n  </tbody>\n</table>\n<p>184 rows × 5 columns</p>\n</div>"
     },
     "metadata": {},
     "execution_count": 57
    }
   ],
   "source": [
    "query7 = \"\"\"\n",
    "SELECT *\n",
    "FROM get_fit_now_member gt\n",
    "\n",
    "\"\"\"\n",
    "pd.read_sql_query(query7, conn)"
   ]
  },
  {
   "cell_type": "code",
   "execution_count": 61,
   "metadata": {},
   "outputs": [
    {
     "output_type": "execute_result",
     "data": {
      "text/plain": [
       "  membership_id  check_in_date  check_in_time  check_out_time     id  \\\n",
       "0         48Z7A       20180109           1600            1730  48Z7A   \n",
       "1         48Z55       20180109           1530            1700  48Z55   \n",
       "\n",
       "   person_id           name  membership_start_date membership_status  \n",
       "0      28819   Joe Germuska               20160305              gold  \n",
       "1      67318  Jeremy Bowers               20160101              gold  "
      ],
      "text/html": "<div>\n<style scoped>\n    .dataframe tbody tr th:only-of-type {\n        vertical-align: middle;\n    }\n\n    .dataframe tbody tr th {\n        vertical-align: top;\n    }\n\n    .dataframe thead th {\n        text-align: right;\n    }\n</style>\n<table border=\"1\" class=\"dataframe\">\n  <thead>\n    <tr style=\"text-align: right;\">\n      <th></th>\n      <th>membership_id</th>\n      <th>check_in_date</th>\n      <th>check_in_time</th>\n      <th>check_out_time</th>\n      <th>id</th>\n      <th>person_id</th>\n      <th>name</th>\n      <th>membership_start_date</th>\n      <th>membership_status</th>\n    </tr>\n  </thead>\n  <tbody>\n    <tr>\n      <th>0</th>\n      <td>48Z7A</td>\n      <td>20180109</td>\n      <td>1600</td>\n      <td>1730</td>\n      <td>48Z7A</td>\n      <td>28819</td>\n      <td>Joe Germuska</td>\n      <td>20160305</td>\n      <td>gold</td>\n    </tr>\n    <tr>\n      <th>1</th>\n      <td>48Z55</td>\n      <td>20180109</td>\n      <td>1530</td>\n      <td>1700</td>\n      <td>48Z55</td>\n      <td>67318</td>\n      <td>Jeremy Bowers</td>\n      <td>20160101</td>\n      <td>gold</td>\n    </tr>\n  </tbody>\n</table>\n</div>"
     },
     "metadata": {},
     "execution_count": 61
    }
   ],
   "source": [
    "query8 = \"\"\"\n",
    "SELECT *\n",
    "FROM get_fit_now_check_in gc\n",
    "JOIN get_fit_now_member gt ON gc.membership_id = gt.id\n",
    "WHERE check_in_date LIKE \"20180109\" and membership_status LIKE \"gold\" and membership_id LIKE \"48Z%\"\n",
    "\"\"\"\n",
    "pd.read_sql_query(query8, conn)"
   ]
  },
  {
   "cell_type": "code",
   "execution_count": 69,
   "metadata": {},
   "outputs": [
    {
     "output_type": "execute_result",
     "data": {
      "text/plain": [
       "      id           name  license_id  address_number    address_street_name  \\\n",
       "0  67318  Jeremy Bowers      423327             530  Washington Pl, Apt 3A   \n",
       "\n",
       "         ssn      id  age  height eye_color hair_color gender plate_number  \\\n",
       "0  871539279  423327   30      70     brown      brown   male       0H42W2   \n",
       "\n",
       "    car_make car_model  \n",
       "0  Chevrolet  Spark LS  "
      ],
      "text/html": "<div>\n<style scoped>\n    .dataframe tbody tr th:only-of-type {\n        vertical-align: middle;\n    }\n\n    .dataframe tbody tr th {\n        vertical-align: top;\n    }\n\n    .dataframe thead th {\n        text-align: right;\n    }\n</style>\n<table border=\"1\" class=\"dataframe\">\n  <thead>\n    <tr style=\"text-align: right;\">\n      <th></th>\n      <th>id</th>\n      <th>name</th>\n      <th>license_id</th>\n      <th>address_number</th>\n      <th>address_street_name</th>\n      <th>ssn</th>\n      <th>id</th>\n      <th>age</th>\n      <th>height</th>\n      <th>eye_color</th>\n      <th>hair_color</th>\n      <th>gender</th>\n      <th>plate_number</th>\n      <th>car_make</th>\n      <th>car_model</th>\n    </tr>\n  </thead>\n  <tbody>\n    <tr>\n      <th>0</th>\n      <td>67318</td>\n      <td>Jeremy Bowers</td>\n      <td>423327</td>\n      <td>530</td>\n      <td>Washington Pl, Apt 3A</td>\n      <td>871539279</td>\n      <td>423327</td>\n      <td>30</td>\n      <td>70</td>\n      <td>brown</td>\n      <td>brown</td>\n      <td>male</td>\n      <td>0H42W2</td>\n      <td>Chevrolet</td>\n      <td>Spark LS</td>\n    </tr>\n  </tbody>\n</table>\n</div>"
     },
     "metadata": {},
     "execution_count": 69
    }
   ],
   "source": [
    "query9= \"\"\"\n",
    "SELECT *\n",
    "FROM person p\n",
    "JOIN drivers_license dl ON p.license_id = dl.id\n",
    "WHERE name LIKE \"Jeremy Bowers\"\n",
    "\n",
    "\"\"\"\n",
    "pd.read_sql_query(query9, conn)"
   ]
  },
  {
   "cell_type": "code",
   "execution_count": 13,
   "metadata": {},
   "outputs": [],
   "source": [
    "conn.close()"
   ]
  },
  {
   "cell_type": "code",
   "execution_count": null,
   "metadata": {},
   "outputs": [],
   "source": [
    "#Subir un excel a la base de datos mirar notebook\n",
    "df_excel= pd.read_excel(\"dataset_pruebaTecnica___.xlsx\", sheet_name= 1) # probar para subirlo todo (ie, sheet_name=0)\n",
    "df_excel.to_sql()"
   ]
  }
 ]
}
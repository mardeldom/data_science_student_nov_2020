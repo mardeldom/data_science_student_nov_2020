{
 "cells": [
  {
   "cell_type": "markdown",
   "metadata": {},
   "source": [
    "# Python | day 7 | while"
   ]
  },
  {
   "cell_type": "markdown",
   "metadata": {},
   "source": [
    "With the **while** loop we can execute a set of statements as long as a condition is true."
   ]
  },
  {
   "cell_type": "markdown",
   "metadata": {},
   "source": [
    "```python\n",
    "i = 1\n",
    "while i < 6:\n",
    "  print(i)\n",
    "  i += 1\n",
    "```"
   ]
  },
  {
   "cell_type": "markdown",
   "metadata": {},
   "source": [
    "https://www.w3schools.com/python/python_while_loops.asp"
   ]
  },
  {
   "cell_type": "markdown",
   "metadata": {},
   "source": [
    "### Exercise 1. "
   ]
  },
  {
   "cell_type": "markdown",
   "metadata": {},
   "source": [
    "Do as described below:\n",
    "\n",
    "- Make a variable called strength, and set its initial value to 5.\n",
    "\n",
    "- Print a message reporting the player's strength.\n",
    "\n",
    "- Set up a while loop that runs until the player's strength increases to a value such as 10.\n",
    "\n",
    "- Inside the while loop, print a message that reports the player's current strength.\n",
    "\n",
    "- Inside the while loop, write a statement that increases the player's strength.\n",
    "\n",
    "- Outside the while loop, print a message reporting that the player has grown too strong, and that they have moved up to a new level of the game.\n",
    "\n",
    "Play around with different cutoff levels for the value of strength, and play around with different ways to increase the strength value within the while loop.\n"
   ]
  },
  {
   "cell_type": "code",
   "execution_count": null,
   "metadata": {},
   "outputs": [],
   "source": []
  },
  {
   "cell_type": "code",
   "execution_count": 16,
   "metadata": {
    "tags": []
   },
   "outputs": [
    {
     "output_type": "stream",
     "name": "stdout",
     "text": [
      "The player's: 5\nthe player's current strength: 6\nthe player's current strength: 7\nthe player's current strength: 8\nthe player's current strength: 9\nthe player's current strength: 10\nThe player has grown too strong, and that they have moved up to a new level of the game\n^^^^^^^^^^^^^^^^Level 2^^^^^^^^^^^^^^^^^^\nthe player's current strength: 1\nthe player's current strength: 2\nthe player's current strength: 3\nthe player's current strength: 4\nthe player's current strength: 5\nThe player has grown too strong, and that they have moved up to a new level of the game\n"
     ]
    }
   ],
   "source": [
    "strength = 5\n",
    "print(\"The player's:\", strength)\n",
    "acum = 6\n",
    "while acum <= 10:\n",
    "    print(\"the player's current strength:\", acum)\n",
    "    acum+=1\n",
    "print(\"The player has grown too strong, and that they have moved up to a new level of the game\")\n",
    "print(\"^^^^^^^^^^^^^^^^Level 2^^^^^^^^^^^^^^^^^^\")\n",
    "level2 = 1\n",
    "while 1 <= level2 <= 5:\n",
    "    print(\"the player's current strength:\", level2)\n",
    "    level2 +=1\n",
    "print(\"The player has grown too strong, and that they have moved up to a new level of the game\")"
   ]
  },
  {
   "cell_type": "markdown",
   "metadata": {},
   "source": [
    "### Exercise 2. "
   ]
  },
  {
   "cell_type": "markdown",
   "metadata": {},
   "source": [
    "To solve the following exercises it will be necessary to define a function for each section. You choose the name of those functions unless specified, but make sure you define a single parameter `whichever_list`, when calling the function it will correspond to the variable `info_list`."
   ]
  },
  {
   "cell_type": "code",
   "execution_count": 18,
   "metadata": {},
   "outputs": [
    {
     "output_type": "execute_result",
     "data": {
      "text/plain": [
       "[15, 'Recoletos', True, ['Recoletos', 15], None, '8']"
      ]
     },
     "metadata": {},
     "execution_count": 18
    }
   ],
   "source": [
    "# you can use this list or take yours from Practice 3\n",
    "info_list = [15, 'Recoletos', True, ['Recoletos', 15],  None, '8'] \n",
    "info_list"
   ]
  },
  {
   "cell_type": "markdown",
   "metadata": {},
   "source": [
    "You have already read these questions below, but this time you are asked to solve it using `while` loop instead of `for`. \n",
    "\n",
    "   - Loop through `whichever_list` to print all the elements it contains. This function should return the list turned into a tuple. \n",
    "   - Loop through `whichever_list` to print all the elements it contains concatenated with the string` \"--> OK\" `. This function should return a message saying, `\"everything will be ok\"`. \n",
    "   - Loop through `whichever_list` to display all items it contains except the first one. This function should return the first element of the list. \n",
    "   - Loop through `whichever_list` to display all the items it contains except the last one. This function should return the last element of the list. "
   ]
  },
  {
   "cell_type": "code",
   "execution_count": null,
   "metadata": {},
   "outputs": [],
   "source": [
    "#respuesta clase\n",
    "info_list = [15, 'Recoletos', True, ['Recoletos', 15],  None, '8'] \n",
    "def t1(whichever_list):\n",
    "    pos = 0\n",
    "    while pos < len(whichever_list):\n",
    "        pos+=1\n",
    "    return tuple(whichever_list)\n",
    "t1(whichever_list=info_list)\n"
   ]
  },
  {
   "cell_type": "code",
   "execution_count": 3,
   "metadata": {},
   "outputs": [
    {
     "output_type": "execute_result",
     "data": {
      "text/plain": [
       "('R', 'e', 'c', 'o', 'l', 'e', 't', 'o', 's')"
      ]
     },
     "metadata": {},
     "execution_count": 3
    }
   ],
   "source": [
    "#Intento 1\n",
    "def function_while(whichever_list):\n",
    "    i = 0\n",
    "    while i <= len(whichever_list):\n",
    "        i+=1\n",
    "        return (tuple(whichever_list[i])) #¿Porqué recoge solo la palabra recoletos? \n",
    "function_while(info_list)"
   ]
  },
  {
   "cell_type": "code",
   "execution_count": 4,
   "metadata": {},
   "outputs": [
    {
     "output_type": "execute_result",
     "data": {
      "text/plain": [
       "(15, 'Recoletos', True, ['Recoletos', 15], None, '8')"
      ]
     },
     "metadata": {},
     "execution_count": 4
    }
   ],
   "source": [
    "#Intento 2 válido\n",
    "info_list = [15, 'Recoletos', True, ['Recoletos', 15],  None, '8'] \n",
    "def function_while(whichever_list):\n",
    "    i = 0\n",
    "    while i <= len(whichever_list):\n",
    "        i+=1\n",
    "        return (tuple(whichever_list)) #no entiendo el razonamiento\n",
    "function_while(info_list)"
   ]
  },
  {
   "cell_type": "code",
   "execution_count": 36,
   "metadata": {},
   "outputs": [
    {
     "output_type": "stream",
     "name": "stdout",
     "text": [
      "15 --> OK\nRecoletos --> OK\nTrue --> OK\n['Recoletos', 15] --> OK\nNone --> OK\n8 --> OK\n"
     ]
    },
    {
     "output_type": "execute_result",
     "data": {
      "text/plain": [
       "'everything will be ok'"
      ]
     },
     "metadata": {},
     "execution_count": 36
    }
   ],
   "source": [
    "def function_while(whichever_list):\n",
    "    i = 0\n",
    "    while i in range(len(whichever_list)):\n",
    "        print(whichever_list[i], \"--> OK\")\n",
    "        i+=1\n",
    "    return \"everything will be ok\"\n",
    "function_while(info_list)"
   ]
  },
  {
   "cell_type": "code",
   "execution_count": 37,
   "metadata": {},
   "outputs": [
    {
     "output_type": "stream",
     "name": "stdout",
     "text": [
      "Recoletos\nTrue\n['Recoletos', 15]\nNone\n8\n"
     ]
    },
    {
     "output_type": "execute_result",
     "data": {
      "text/plain": [
       "15"
      ]
     },
     "metadata": {},
     "execution_count": 37
    }
   ],
   "source": [
    "def function_while(whichever_list):\n",
    "    i = 1\n",
    "    while i in range(len(whichever_list)):\n",
    "        print(whichever_list[i])\n",
    "        i+=1\n",
    "    return (whichever_list[0])\n",
    "function_while(info_list)"
   ]
  },
  {
   "cell_type": "code",
   "execution_count": 6,
   "metadata": {},
   "outputs": [
    {
     "output_type": "stream",
     "name": "stdout",
     "text": [
      "Recoletos\nTrue\n['Recoletos', 15]\nNone\n8\n"
     ]
    },
    {
     "output_type": "execute_result",
     "data": {
      "text/plain": [
       "15"
      ]
     },
     "metadata": {},
     "execution_count": 6
    }
   ],
   "source": [
    "#respuesta de clase\n",
    "def function_while(whichever_list):\n",
    "    i = 0\n",
    "    while i < len(whichever_list):\n",
    "        if i ==0:\n",
    "            i+=1\n",
    "            continue\n",
    "        print(whichever_list[i])\n",
    "        i+=1\n",
    "    return (whichever_list[0])\n",
    "function_while(info_list)"
   ]
  },
  {
   "cell_type": "code",
   "execution_count": 38,
   "metadata": {},
   "outputs": [
    {
     "output_type": "stream",
     "name": "stdout",
     "text": [
      "15\nRecoletos\nTrue\n['Recoletos', 15]\nNone\n"
     ]
    },
    {
     "output_type": "execute_result",
     "data": {
      "text/plain": [
       "'8'"
      ]
     },
     "metadata": {},
     "execution_count": 38
    }
   ],
   "source": [
    "def function_while(whichever_list):\n",
    "    i = 0\n",
    "    while i in range(len(whichever_list) -1): # sinonimo de  while i < len(whichever_list)-1\n",
    "        print(whichever_list[i])\n",
    "        i+=1\n",
    "    return (whichever_list[-1])\n",
    "function_while(info_list)"
   ]
  },
  {
   "cell_type": "code",
   "execution_count": null,
   "metadata": {},
   "outputs": [],
   "source": []
  },
  {
   "cell_type": "markdown",
   "metadata": {},
   "source": [
    "### Exercise 3. "
   ]
  },
  {
   "cell_type": "markdown",
   "metadata": {},
   "source": [
    "1. Define a function that performs the [Fibonacci series](https://quantdare.com/numeros-de-fibonacci/#:~:text=En%20matem%C3%A1ticas%2C%20la%20sucesi%C3%B3n%20o,nombre%20de%20n%C3%BAmero%20de%20Fibonacci.) with a `while`."
   ]
  },
  {
   "cell_type": "code",
   "execution_count": 39,
   "metadata": {},
   "outputs": [
    {
     "output_type": "execute_result",
     "data": {
      "text/plain": [
       "-1.0"
      ]
     },
     "metadata": {},
     "execution_count": 39
    }
   ],
   "source": [
    "def fibonacci(x):\n",
    "   return x/(1-x-x**2)\n",
    "fibonacci(1)"
   ]
  },
  {
   "cell_type": "code",
   "execution_count": null,
   "metadata": {},
   "outputs": [],
   "source": [
    "def fibonacci(x):\n",
    "   a = 0\n",
    "   b = 1\n",
    "   x = (x-1) + (x-2)\n",
    "fibonacci(1)"
   ]
  },
  {
   "cell_type": "code",
   "execution_count": 11,
   "metadata": {},
   "outputs": [
    {
     "output_type": "stream",
     "name": "stdout",
     "text": [
      "0 1 1 2 3 5 8 13 21 34 55 89 144 233 377 610 987 \n"
     ]
    }
   ],
   "source": [
    "#No entiendía muy bien los números Fibonacci, busqué en mi amigo google y me salió la respuesta\n",
    "def fibonacci(n):\n",
    "    a, b = 0,1\n",
    "    while a < n:\n",
    "        print(a, end=' ')\n",
    "        a, b = b, a+b\n",
    "    print()\n",
    "fibonacci(1000)"
   ]
  },
  {
   "cell_type": "code",
   "execution_count": 5,
   "metadata": {},
   "outputs": [
    {
     "output_type": "execute_result",
     "data": {
      "text/plain": [
       "[0, 1]"
      ]
     },
     "metadata": {},
     "execution_count": 5
    }
   ],
   "source": [
    "#respuesta de clase, empezando en 0 y 1 y despues la suma de los dos anteriores\n",
    "#hay muchas maneras de resolverlo\n",
    "def fibonacci_(num_elems):\n",
    "    secuencia =[0,1]\n",
    "    if num_elems ==0:\n",
    "        return[]\n",
    "    elif num_elems ==1:\n",
    "        return secuencia[0]\n",
    "        # este se puede eliminar porque retorna al final la secuencia\n",
    "        #elif num_elems ==2:\n",
    "        # return secuencia\n",
    "    while len(secuencia)< num_elems:\n",
    "        secuencia.append(secuencia[-2] + secuencia[-1])\n",
    "    return secuencia\n",
    "\n",
    "fibonacci_(num_elems= 2)\n"
   ]
  },
  {
   "cell_type": "markdown",
   "metadata": {},
   "source": [
    "### Exercise 4."
   ]
  },
  {
   "cell_type": "markdown",
   "metadata": {},
   "source": [
    "To solve the following exercises it will be necessary to define a function for each section. You choose the name of those functions unless specified, but make sure you define a single parameter `whichever_list`, when calling the function it will correspond to the variable `info_list`."
   ]
  },
  {
   "cell_type": "code",
   "execution_count": 5,
   "metadata": {},
   "outputs": [
    {
     "output_type": "execute_result",
     "data": {
      "text/plain": [
       "[15, 'Recoletos', True, ['Recoletos', 15], None, '8']"
      ]
     },
     "metadata": {},
     "execution_count": 5
    }
   ],
   "source": [
    "# you can use this list or take yours from Practice 3\n",
    "info_list = [15, 'Recoletos', True, ['Recoletos', 15],  None, '8'] \n",
    "info_list"
   ]
  },
  {
   "cell_type": "markdown",
   "metadata": {},
   "source": [
    "1. Define a function that saves the value of `\"nothing\"` in a variable and print it. Also, concatenate its value with the number of The Bridge and display it on the screen. \n",
    "\n",
    "   Also, display a boolean **True** if the length of the concatenated word is 6. If not, it will be **False**. The function must return the value **True** or **False** and the name of this function will be `f_s`."
   ]
  },
  {
   "cell_type": "code",
   "execution_count": 20,
   "metadata": {},
   "outputs": [
    {
     "output_type": "stream",
     "name": "stdout",
     "text": [
      "nothing\nnothing 15\n"
     ]
    },
    {
     "output_type": "execute_result",
     "data": {
      "text/plain": [
       "False"
      ]
     },
     "metadata": {},
     "execution_count": 20
    }
   ],
   "source": [
    "#concatenación fuera de la lista\n",
    "def f_s(whichever_list):\n",
    "    val = \"nothing\"\n",
    "    print(val)\n",
    "    m = val + \" \" + str(whichever_list[0])\n",
    "    print(m)\n",
    "    if len(m) == 6:\n",
    "        return True\n",
    "    else:\n",
    "        return False\n",
    "\n",
    "f_s(info_list)"
   ]
  },
  {
   "cell_type": "code",
   "execution_count": 6,
   "metadata": {},
   "outputs": [
    {
     "output_type": "stream",
     "name": "stdout",
     "text": [
      "nothing\n['15 nothing', 'Recoletos', True, ['Recoletos', 15], None, '8']\n"
     ]
    },
    {
     "output_type": "execute_result",
     "data": {
      "text/plain": [
       "False"
      ]
     },
     "metadata": {},
     "execution_count": 6
    }
   ],
   "source": [
    "#concatenación dentro de la lista\n",
    "def f_s(whichever_list):\n",
    "    val = \"nothing\"\n",
    "    print(val)\n",
    "    whichever_list[0] = (str(whichever_list[0]) + \" \" + val)\n",
    "    print(whichever_list)\n",
    "    if len(whichever_list[0]) == 6 :\n",
    "        return True\n",
    "    else:\n",
    "        return False\n",
    "    \n",
    "f_s(info_list)"
   ]
  },
  {
   "cell_type": "markdown",
   "metadata": {},
   "source": [
    "### Bonus Track."
   ]
  },
  {
   "cell_type": "markdown",
   "metadata": {},
   "source": [
    "2. Create a list `list_aux` with 7 elements, whichever you want. Next, create a function `function_use_f_s` which receives as parameters a function `some_function` and whichever list `whichever_list`. If the value of `some_function` is **True**, then delete an item from `whichever_list`. Repeat the process until `whichever_list` has no elements. The argument for `whichever_list` must be `list_aux` and for `some_function` it will be the function `f_s` from the previous point."
   ]
  },
  {
   "cell_type": "code",
   "execution_count": 19,
   "metadata": {},
   "outputs": [
    {
     "output_type": "stream",
     "name": "stdout",
     "text": [
      "nothing\n['15 nothing nothing nothing', 'Recoletos', True, ['Recoletos', 15], None, '8']\n"
     ]
    },
    {
     "output_type": "execute_result",
     "data": {
      "text/plain": [
       "[]"
      ]
     },
     "metadata": {},
     "execution_count": 19
    }
   ],
   "source": [
    "#Respuesta última \"válida\"\n",
    "list_aux = [\"amigo\", \"paco\", 3, \"adios\", \"bienvenida\", 26, 15]\n",
    "def function_use_f_s(some_function, whichever_list):\n",
    "    i=0\n",
    "    if some_function == True:\n",
    "    while i < len(list_aux):\n",
    "        whichever_list.pop(i)\n",
    "    return whichever_list\n",
    "        \n",
    "       \n",
    "function_use_f_s(f_s(info_list), list_aux)\n"
   ]
  },
  {
   "cell_type": "code",
   "execution_count": 10,
   "metadata": {},
   "outputs": [
    {
     "output_type": "stream",
     "name": "stdout",
     "text": [
      "nothing\n['15 nothing nothing nothing', 'Recoletos', True, ['Recoletos', 15], None, '8']\n"
     ]
    }
   ],
   "source": [
    "list_aux = [\"amigo\", \"paco\", 3, \"adios\", \"bienvenida\", 26, 15]\n",
    "def function_use_f_s(some_function, whichever_list):\n",
    "    i=0\n",
    "    if some_function == True:\n",
    "        while i < len(list_aux):\n",
    "            whichever_list.pop(i)\n",
    "    else:\n",
    "         True        \n",
    "function_use_f_s(f_s(info_list), list_aux)"
   ]
  },
  {
   "cell_type": "code",
   "execution_count": 23,
   "metadata": {},
   "outputs": [
    {
     "output_type": "stream",
     "name": "stdout",
     "text": [
      "nothing\n['15 nothing nothing', 'Recoletos', True, ['Recoletos', 15], None, '8']\n"
     ]
    },
    {
     "output_type": "execute_result",
     "data": {
      "text/plain": [
       "True"
      ]
     },
     "metadata": {},
     "execution_count": 23
    }
   ],
   "source": [
    "list_aux = [\"amigo\", \"paco\", 3, \"adios\", \"bienvenida\", 26, 15]\n",
    "def function_use_f_s(some_function, whichever_list):\n",
    "    i=0\n",
    "    some_function = True\n",
    "    while some_function:\n",
    "        \n",
    "    return some_function\n",
    "    i+=1\n",
    "       \n",
    "function_use_f_s(f_s(info_list), list_aux)\n"
   ]
  },
  {
   "cell_type": "code",
   "execution_count": 29,
   "metadata": {},
   "outputs": [
    {
     "output_type": "execute_result",
     "data": {
      "text/plain": [
       "7"
      ]
     },
     "metadata": {},
     "execution_count": 29
    }
   ],
   "source": [
    "list_aux = [\"amigo\", \"paco\", 3, \"adios\", \"bienvenida\", 26, 15]\n",
    "len(list_aux)"
   ]
  },
  {
   "cell_type": "code",
   "execution_count": 10,
   "metadata": {},
   "outputs": [
    {
     "output_type": "stream",
     "name": "stdout",
     "text": [
      "nothing\n['15 nothing nothing nothing nothing nothing', 'Recoletos', True, ['Recoletos', 15], None, '8']\n"
     ]
    },
    {
     "output_type": "error",
     "ename": "IndexError",
     "evalue": "pop index out of range",
     "traceback": [
      "\u001b[1;31m---------------------------------------------------------------------------\u001b[0m",
      "\u001b[1;31mIndexError\u001b[0m                                Traceback (most recent call last)",
      "\u001b[1;32m<ipython-input-10-9ec8e37dfa07>\u001b[0m in \u001b[0;36m<module>\u001b[1;34m\u001b[0m\n\u001b[0;32m      9\u001b[0m \u001b[1;33m\u001b[0m\u001b[0m\n\u001b[0;32m     10\u001b[0m \u001b[1;33m\u001b[0m\u001b[0m\n\u001b[1;32m---> 11\u001b[1;33m \u001b[0mfunction_use_f_s\u001b[0m\u001b[1;33m(\u001b[0m\u001b[0mf_s\u001b[0m\u001b[1;33m(\u001b[0m\u001b[0minfo_list\u001b[0m\u001b[1;33m)\u001b[0m\u001b[1;33m,\u001b[0m \u001b[0mlist_aux\u001b[0m\u001b[1;33m)\u001b[0m\u001b[1;33m\u001b[0m\u001b[1;33m\u001b[0m\u001b[0m\n\u001b[0m",
      "\u001b[1;32m<ipython-input-10-9ec8e37dfa07>\u001b[0m in \u001b[0;36mfunction_use_f_s\u001b[1;34m(some_function, whichever_list)\u001b[0m\n\u001b[0;32m      4\u001b[0m     \u001b[0msome_function\u001b[0m \u001b[1;33m=\u001b[0m \u001b[1;32mTrue\u001b[0m\u001b[1;33m\u001b[0m\u001b[1;33m\u001b[0m\u001b[0m\n\u001b[0;32m      5\u001b[0m     \u001b[1;32mfor\u001b[0m \u001b[0mi\u001b[0m \u001b[1;32min\u001b[0m \u001b[0mrange\u001b[0m\u001b[1;33m(\u001b[0m\u001b[0mlen\u001b[0m\u001b[1;33m(\u001b[0m\u001b[0mlist_aux\u001b[0m\u001b[1;33m)\u001b[0m\u001b[1;33m)\u001b[0m\u001b[1;33m:\u001b[0m\u001b[1;33m\u001b[0m\u001b[1;33m\u001b[0m\u001b[0m\n\u001b[1;32m----> 6\u001b[1;33m         \u001b[0mwhichever_list\u001b[0m\u001b[1;33m.\u001b[0m\u001b[0mpop\u001b[0m\u001b[1;33m(\u001b[0m\u001b[0mi\u001b[0m\u001b[1;33m)\u001b[0m\u001b[1;33m\u001b[0m\u001b[1;33m\u001b[0m\u001b[0m\n\u001b[0m\u001b[0;32m      7\u001b[0m         \u001b[0mi\u001b[0m\u001b[1;33m+=\u001b[0m\u001b[1;36m1\u001b[0m\u001b[1;33m\u001b[0m\u001b[1;33m\u001b[0m\u001b[0m\n\u001b[0;32m      8\u001b[0m     \u001b[1;32mreturn\u001b[0m \u001b[1;33m[\u001b[0m\u001b[0mwhichever_list\u001b[0m\u001b[1;33m]\u001b[0m\u001b[1;33m\u001b[0m\u001b[1;33m\u001b[0m\u001b[0m\n",
      "\u001b[1;31mIndexError\u001b[0m: pop index out of range"
     ]
    }
   ],
   "source": [
    "list_aux = [\"amigo\", \"paco\", 3, \"adios\", \"bienvenida\", 26, 15]\n",
    "def function_use_f_s(some_function, whichever_list):\n",
    "    i=0\n",
    "    some_function = True\n",
    "    for i in range(len(list_aux)):\n",
    "        whichever_list.pop(i)\n",
    "        i+=1\n",
    "    return [whichever_list]\n",
    "        \n",
    "       \n",
    "function_use_f_s(f_s(info_list), list_aux)\n"
   ]
  },
  {
   "cell_type": "code",
   "execution_count": 31,
   "metadata": {},
   "outputs": [
    {
     "output_type": "stream",
     "name": "stdout",
     "text": [
      "nothing\n['15 nothing nothing nothing nothing nothing nothing nothing nothing', 'Recoletos', True, ['Recoletos', 15], None, '8']\n"
     ]
    },
    {
     "output_type": "error",
     "ename": "TypeError",
     "evalue": "'<=' not supported between instances of 'int' and 'range'",
     "traceback": [
      "\u001b[1;31m---------------------------------------------------------------------------\u001b[0m",
      "\u001b[1;31mTypeError\u001b[0m                                 Traceback (most recent call last)",
      "\u001b[1;32m<ipython-input-31-226d90dc6bb2>\u001b[0m in \u001b[0;36m<module>\u001b[1;34m\u001b[0m\n\u001b[0;32m      9\u001b[0m \u001b[1;33m\u001b[0m\u001b[0m\n\u001b[0;32m     10\u001b[0m \u001b[1;33m\u001b[0m\u001b[0m\n\u001b[1;32m---> 11\u001b[1;33m \u001b[0mfunction_use_f_s\u001b[0m\u001b[1;33m(\u001b[0m\u001b[0mf_s\u001b[0m\u001b[1;33m(\u001b[0m\u001b[0minfo_list\u001b[0m\u001b[1;33m)\u001b[0m\u001b[1;33m,\u001b[0m \u001b[0mlist_aux\u001b[0m\u001b[1;33m)\u001b[0m\u001b[1;33m\u001b[0m\u001b[1;33m\u001b[0m\u001b[0m\n\u001b[0m",
      "\u001b[1;32m<ipython-input-31-226d90dc6bb2>\u001b[0m in \u001b[0;36mfunction_use_f_s\u001b[1;34m(some_function, whichever_list)\u001b[0m\n\u001b[0;32m      3\u001b[0m     \u001b[0mi\u001b[0m\u001b[1;33m=\u001b[0m\u001b[1;36m0\u001b[0m\u001b[1;33m\u001b[0m\u001b[1;33m\u001b[0m\u001b[0m\n\u001b[0;32m      4\u001b[0m     \u001b[0msome_function\u001b[0m \u001b[1;33m=\u001b[0m \u001b[1;32mTrue\u001b[0m\u001b[1;33m\u001b[0m\u001b[1;33m\u001b[0m\u001b[0m\n\u001b[1;32m----> 5\u001b[1;33m     \u001b[1;32mwhile\u001b[0m \u001b[0mi\u001b[0m \u001b[1;33m<=\u001b[0m \u001b[0mrange\u001b[0m\u001b[1;33m(\u001b[0m\u001b[0mlen\u001b[0m\u001b[1;33m(\u001b[0m\u001b[0mwhichever_list\u001b[0m\u001b[1;33m)\u001b[0m \u001b[1;33m-\u001b[0m \u001b[1;36m1\u001b[0m\u001b[1;33m)\u001b[0m\u001b[1;33m:\u001b[0m\u001b[1;33m\u001b[0m\u001b[1;33m\u001b[0m\u001b[0m\n\u001b[0m\u001b[0;32m      6\u001b[0m         \u001b[0mwhichever_list\u001b[0m\u001b[1;33m.\u001b[0m\u001b[0mpop\u001b[0m\u001b[1;33m(\u001b[0m\u001b[0mi\u001b[0m\u001b[1;33m)\u001b[0m\u001b[1;33m\u001b[0m\u001b[1;33m\u001b[0m\u001b[0m\n\u001b[0;32m      7\u001b[0m         \u001b[0mi\u001b[0m\u001b[1;33m+=\u001b[0m\u001b[1;36m1\u001b[0m\u001b[1;33m\u001b[0m\u001b[1;33m\u001b[0m\u001b[0m\n",
      "\u001b[1;31mTypeError\u001b[0m: '<=' not supported between instances of 'int' and 'range'"
     ]
    }
   ],
   "source": [
    "list_aux = [\"amigo\", \"paco\", 3, \"adios\", \"bienvenida\", 26, 15]\n",
    "def function_use_f_s(some_function, whichever_list):\n",
    "    i=0\n",
    "    some_function = True\n",
    "    while i <= range(len(whichever_list) - 1):\n",
    "        whichever_list.pop(i)\n",
    "        i+=1\n",
    "    return whichever_list\n",
    "        \n",
    "       \n",
    "function_use_f_s(f_s(info_list), list_aux)\n"
   ]
  },
  {
   "cell_type": "markdown",
   "metadata": {},
   "source": [
    "3. Define a function `even_numbers` that has an input parameter `arg1`, type integer. The function must return a list of numbers of size `arg1`, all of them being even numbers. \n",
    "\n",
    "   Don't use the function `print()` inside the function, but print what `even_numbers` returns when calling it with the argument `10`, just to check your function works.\n",
    "   \n",
    "```python\n",
    "print(even_numbers(10))\n",
    "```"
   ]
  },
  {
   "cell_type": "code",
   "execution_count": 2,
   "metadata": {},
   "outputs": [
    {
     "output_type": "execute_result",
     "data": {
      "text/plain": [
       "[0, 2, 4, 6, 8, 10]"
      ]
     },
     "metadata": {},
     "execution_count": 2
    }
   ],
   "source": [
    "def even_numbers(arg1):\n",
    "    return list(range(0,11,2))\n",
    "\n",
    "even_numbers(11)\n"
   ]
  },
  {
   "cell_type": "markdown",
   "metadata": {},
   "source": [
    "4. Create a function that has an input variable `arg1`, which will be the list of even numbers from the previous section, and that removes elements from the list, one by one, if `arg1` has a size divisible by 2 and, if not, it adds just once, the value of the function `f_s` that should be a boolean (`True` or `False`).\n"
   ]
  },
  {
   "cell_type": "code",
   "execution_count": null,
   "metadata": {},
   "outputs": [],
   "source": [
    "Crear una función que tenga una variable de entrada arg1, que será la lista de números pares de la sección anterior, y que elimine elementos de la lista, uno por uno, si arg1 tiene un tamaño divisible por 2 y, si no, añada sólo una vez, el valor de la función f_s que debe ser booleana (Verdadero o Falso)."
   ]
  },
  {
   "cell_type": "code",
   "execution_count": 3,
   "metadata": {},
   "outputs": [
    {
     "output_type": "execute_result",
     "data": {
      "text/plain": [
       "False"
      ]
     },
     "metadata": {},
     "execution_count": 3
    }
   ],
   "source": [
    "def function_2(arg1):\n",
    "    acum = 0\n",
    "    if len(arg1) % 2:\n",
    "        arg1.pop(acum)\n",
    "        print(arg1)\n",
    "        acum+=1\n",
    "    else:\n",
    "        return False\n",
    "function_2(even_numbers(11))\n"
   ]
  },
  {
   "cell_type": "markdown",
   "metadata": {},
   "source": [
    "!['nicetry'](https://i.pinimg.com/originals/36/ab/81/36ab81cd8d63cf7c4a08f39403698c77.jpg)"
   ]
  },
  {
   "cell_type": "code",
   "execution_count": null,
   "metadata": {},
   "outputs": [],
   "source": []
  }
 ],
 "metadata": {
  "kernelspec": {
   "name": "python3",
   "display_name": "Python 3.9.0 64-bit",
   "metadata": {
    "interpreter": {
     "hash": "2e3c1e8da6e821b0193601da5a0e541c0efda9704da45b6b820f5f4c317f2def"
    }
   }
  },
  "language_info": {
   "codemirror_mode": {
    "name": "ipython",
    "version": 3
   },
   "file_extension": ".py",
   "mimetype": "text/x-python",
   "name": "python",
   "nbconvert_exporter": "python",
   "pygments_lexer": "ipython3",
   "version": "3.9.0-final"
  }
 },
 "nbformat": 4,
 "nbformat_minor": 4
}
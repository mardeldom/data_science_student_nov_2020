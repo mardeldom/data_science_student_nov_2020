{
 "metadata": {
  "language_info": {
   "codemirror_mode": {
    "name": "ipython",
    "version": 3
   },
   "file_extension": ".py",
   "mimetype": "text/x-python",
   "name": "python",
   "nbconvert_exporter": "python",
   "pygments_lexer": "ipython3",
   "version": "3.9.0-final"
  },
  "orig_nbformat": 2,
  "kernelspec": {
   "name": "python3",
   "display_name": "Python 3.9.0 64-bit",
   "metadata": {
    "interpreter": {
     "hash": "2e3c1e8da6e821b0193601da5a0e541c0efda9704da45b6b820f5f4c317f2def"
    }
   }
  }
 },
 "nbformat": 4,
 "nbformat_minor": 2,
 "cells": [
  {
   "cell_type": "code",
   "execution_count": 1,
   "metadata": {},
   "outputs": [],
   "source": [
    "from sklearn import preprocessing\n",
    "import pandas as pd \n",
    "import matplotlib.pyplot as plt\n",
    "from sklearn import model_selection\n",
    "from sklearn.linear_model import LinearRegression\n",
    "from sklearn.model_selection import train_test_split\n",
    "from sklearn.preprocessing import PolynomialFeatures\n",
    "from sklearn.svm import SVR\n",
    "from sklearn import svm\n",
    "from sklearn.tree import DecisionTreeRegressor\n",
    "from sklearn.ensemble import RandomForestRegressor\n",
    "import numpy as np\n",
    "from sklearn import metrics\n",
    "from sklearn.metrics import r2_score, mean_absolute_error"
   ]
  },
  {
   "cell_type": "code",
   "execution_count": 22,
   "metadata": {},
   "outputs": [
    {
     "output_type": "execute_result",
     "data": {
      "text/plain": [
       "       Unnamed: 0  carat        cut color clarity  depth  table     x     y  \\\n",
       "0               0   1.21      Ideal     H     VS2   63.0   57.0  6.73  6.70   \n",
       "1               1   0.28  Very Good     D    VVS2   64.0   56.0  4.14  4.17   \n",
       "2               2   0.42    Premium     F     VS1   61.2   58.0  4.86  4.82   \n",
       "3               3   0.26      Ideal     H      IF   61.1   57.0  4.16  4.12   \n",
       "4               4   1.10       Good     G     SI1   63.4   57.0  6.52  6.55   \n",
       "...           ...    ...        ...   ...     ...    ...    ...   ...   ...   \n",
       "40340       40340   1.55    Premium     H     VS2   61.3   61.0  7.46  7.39   \n",
       "40341       40341   0.36      Ideal     D     SI1   60.6   56.0  4.58  4.63   \n",
       "40342       40342   0.57  Very Good     I     VS2   62.2   55.0  5.33  5.34   \n",
       "40343       40343   1.01  Very Good     F      IF   59.6   62.0  6.47  6.56   \n",
       "40344       40344   0.54      Ideal     E     SI2   60.4   57.0  5.33  5.27   \n",
       "\n",
       "          z  price  \n",
       "0      4.23   6134  \n",
       "1      2.66    532  \n",
       "2      2.96   1103  \n",
       "3      2.53    600  \n",
       "4      4.14   4997  \n",
       "...     ...    ...  \n",
       "40340  4.55  11708  \n",
       "40341  2.79    619  \n",
       "40342  3.32   1267  \n",
       "40343  3.88   9965  \n",
       "40344  3.20   1340  \n",
       "\n",
       "[40345 rows x 11 columns]"
      ],
      "text/html": "<div>\n<style scoped>\n    .dataframe tbody tr th:only-of-type {\n        vertical-align: middle;\n    }\n\n    .dataframe tbody tr th {\n        vertical-align: top;\n    }\n\n    .dataframe thead th {\n        text-align: right;\n    }\n</style>\n<table border=\"1\" class=\"dataframe\">\n  <thead>\n    <tr style=\"text-align: right;\">\n      <th></th>\n      <th>Unnamed: 0</th>\n      <th>carat</th>\n      <th>cut</th>\n      <th>color</th>\n      <th>clarity</th>\n      <th>depth</th>\n      <th>table</th>\n      <th>x</th>\n      <th>y</th>\n      <th>z</th>\n      <th>price</th>\n    </tr>\n  </thead>\n  <tbody>\n    <tr>\n      <th>0</th>\n      <td>0</td>\n      <td>1.21</td>\n      <td>Ideal</td>\n      <td>H</td>\n      <td>VS2</td>\n      <td>63.0</td>\n      <td>57.0</td>\n      <td>6.73</td>\n      <td>6.70</td>\n      <td>4.23</td>\n      <td>6134</td>\n    </tr>\n    <tr>\n      <th>1</th>\n      <td>1</td>\n      <td>0.28</td>\n      <td>Very Good</td>\n      <td>D</td>\n      <td>VVS2</td>\n      <td>64.0</td>\n      <td>56.0</td>\n      <td>4.14</td>\n      <td>4.17</td>\n      <td>2.66</td>\n      <td>532</td>\n    </tr>\n    <tr>\n      <th>2</th>\n      <td>2</td>\n      <td>0.42</td>\n      <td>Premium</td>\n      <td>F</td>\n      <td>VS1</td>\n      <td>61.2</td>\n      <td>58.0</td>\n      <td>4.86</td>\n      <td>4.82</td>\n      <td>2.96</td>\n      <td>1103</td>\n    </tr>\n    <tr>\n      <th>3</th>\n      <td>3</td>\n      <td>0.26</td>\n      <td>Ideal</td>\n      <td>H</td>\n      <td>IF</td>\n      <td>61.1</td>\n      <td>57.0</td>\n      <td>4.16</td>\n      <td>4.12</td>\n      <td>2.53</td>\n      <td>600</td>\n    </tr>\n    <tr>\n      <th>4</th>\n      <td>4</td>\n      <td>1.10</td>\n      <td>Good</td>\n      <td>G</td>\n      <td>SI1</td>\n      <td>63.4</td>\n      <td>57.0</td>\n      <td>6.52</td>\n      <td>6.55</td>\n      <td>4.14</td>\n      <td>4997</td>\n    </tr>\n    <tr>\n      <th>...</th>\n      <td>...</td>\n      <td>...</td>\n      <td>...</td>\n      <td>...</td>\n      <td>...</td>\n      <td>...</td>\n      <td>...</td>\n      <td>...</td>\n      <td>...</td>\n      <td>...</td>\n      <td>...</td>\n    </tr>\n    <tr>\n      <th>40340</th>\n      <td>40340</td>\n      <td>1.55</td>\n      <td>Premium</td>\n      <td>H</td>\n      <td>VS2</td>\n      <td>61.3</td>\n      <td>61.0</td>\n      <td>7.46</td>\n      <td>7.39</td>\n      <td>4.55</td>\n      <td>11708</td>\n    </tr>\n    <tr>\n      <th>40341</th>\n      <td>40341</td>\n      <td>0.36</td>\n      <td>Ideal</td>\n      <td>D</td>\n      <td>SI1</td>\n      <td>60.6</td>\n      <td>56.0</td>\n      <td>4.58</td>\n      <td>4.63</td>\n      <td>2.79</td>\n      <td>619</td>\n    </tr>\n    <tr>\n      <th>40342</th>\n      <td>40342</td>\n      <td>0.57</td>\n      <td>Very Good</td>\n      <td>I</td>\n      <td>VS2</td>\n      <td>62.2</td>\n      <td>55.0</td>\n      <td>5.33</td>\n      <td>5.34</td>\n      <td>3.32</td>\n      <td>1267</td>\n    </tr>\n    <tr>\n      <th>40343</th>\n      <td>40343</td>\n      <td>1.01</td>\n      <td>Very Good</td>\n      <td>F</td>\n      <td>IF</td>\n      <td>59.6</td>\n      <td>62.0</td>\n      <td>6.47</td>\n      <td>6.56</td>\n      <td>3.88</td>\n      <td>9965</td>\n    </tr>\n    <tr>\n      <th>40344</th>\n      <td>40344</td>\n      <td>0.54</td>\n      <td>Ideal</td>\n      <td>E</td>\n      <td>SI2</td>\n      <td>60.4</td>\n      <td>57.0</td>\n      <td>5.33</td>\n      <td>5.27</td>\n      <td>3.20</td>\n      <td>1340</td>\n    </tr>\n  </tbody>\n</table>\n<p>40345 rows × 11 columns</p>\n</div>"
     },
     "metadata": {},
     "execution_count": 22
    }
   ],
   "source": [
    "df = pd.read_csv(\"diamonds_train.csv\")\n",
    "df"
   ]
  },
  {
   "cell_type": "code",
   "execution_count": 3,
   "metadata": {},
   "outputs": [
    {
     "output_type": "execute_result",
     "data": {
      "text/plain": [
       "G    8499\n",
       "E    7351\n",
       "F    7130\n",
       "H    6234\n",
       "D    5074\n",
       "I    4023\n",
       "J    2034\n",
       "Name: color, dtype: int64"
      ]
     },
     "metadata": {},
     "execution_count": 3
    }
   ],
   "source": [
    "df.color.value_counts()"
   ]
  },
  {
   "cell_type": "code",
   "execution_count": 5,
   "metadata": {},
   "outputs": [
    {
     "output_type": "execute_result",
     "data": {
      "text/plain": [
       "4.34    336\n",
       "4.37    333\n",
       "4.38    330\n",
       "4.33    328\n",
       "4.32    309\n",
       "       ... \n",
       "9.23      1\n",
       "9.05      1\n",
       "9.15      1\n",
       "9.53      1\n",
       "9.10      1\n",
       "Name: x, Length: 538, dtype: int64"
      ]
     },
     "metadata": {},
     "execution_count": 5
    }
   ],
   "source": [
    "df.x.value_counts()"
   ]
  },
  {
   "cell_type": "code",
   "execution_count": 4,
   "metadata": {},
   "outputs": [
    {
     "output_type": "execute_result",
     "data": {
      "text/plain": [
       "price         0\n",
       "z             0\n",
       "y             0\n",
       "x             0\n",
       "table         0\n",
       "depth         0\n",
       "clarity       0\n",
       "color         0\n",
       "cut           0\n",
       "carat         0\n",
       "Unnamed: 0    0\n",
       "dtype: int64"
      ]
     },
     "metadata": {},
     "execution_count": 4
    }
   ],
   "source": [
    "df.isna().sum().sort_values(ascending=False)\n"
   ]
  },
  {
   "cell_type": "code",
   "execution_count": 6,
   "metadata": {},
   "outputs": [
    {
     "output_type": "execute_result",
     "data": {
      "text/plain": [
       "SI1     9751\n",
       "VS2     9178\n",
       "SI2     6828\n",
       "VS1     6101\n",
       "VVS2    3858\n",
       "VVS1    2714\n",
       "IF      1362\n",
       "I1       553\n",
       "Name: clarity, dtype: int64"
      ]
     },
     "metadata": {},
     "execution_count": 6
    }
   ],
   "source": [
    "df.clarity.value_counts()"
   ]
  },
  {
   "cell_type": "code",
   "execution_count": 6,
   "metadata": {},
   "outputs": [
    {
     "output_type": "execute_result",
     "data": {
      "text/plain": [
       "       Unnamed: 0  carat        cut color  clarity  depth  table     x     y  \\\n",
       "0               0   1.21      Ideal     H        3   63.0   57.0  6.73  6.70   \n",
       "1               1   0.28  Very Good     D        2   64.0   56.0  4.14  4.17   \n",
       "2               2   0.42    Premium     F        3   61.2   58.0  4.86  4.82   \n",
       "3               3   0.26      Ideal     H        1   61.1   57.0  4.16  4.12   \n",
       "4               4   1.10       Good     G        4   63.4   57.0  6.52  6.55   \n",
       "...           ...    ...        ...   ...      ...    ...    ...   ...   ...   \n",
       "40340       40340   1.55    Premium     H        3   61.3   61.0  7.46  7.39   \n",
       "40341       40341   0.36      Ideal     D        4   60.6   56.0  4.58  4.63   \n",
       "40342       40342   0.57  Very Good     I        3   62.2   55.0  5.33  5.34   \n",
       "40343       40343   1.01  Very Good     F        1   59.6   62.0  6.47  6.56   \n",
       "40344       40344   0.54      Ideal     E        4   60.4   57.0  5.33  5.27   \n",
       "\n",
       "          z  price  \n",
       "0      4.23   6134  \n",
       "1      2.66    532  \n",
       "2      2.96   1103  \n",
       "3      2.53    600  \n",
       "4      4.14   4997  \n",
       "...     ...    ...  \n",
       "40340  4.55  11708  \n",
       "40341  2.79    619  \n",
       "40342  3.32   1267  \n",
       "40343  3.88   9965  \n",
       "40344  3.20   1340  \n",
       "\n",
       "[40345 rows x 11 columns]"
      ],
      "text/html": "<div>\n<style scoped>\n    .dataframe tbody tr th:only-of-type {\n        vertical-align: middle;\n    }\n\n    .dataframe tbody tr th {\n        vertical-align: top;\n    }\n\n    .dataframe thead th {\n        text-align: right;\n    }\n</style>\n<table border=\"1\" class=\"dataframe\">\n  <thead>\n    <tr style=\"text-align: right;\">\n      <th></th>\n      <th>Unnamed: 0</th>\n      <th>carat</th>\n      <th>cut</th>\n      <th>color</th>\n      <th>clarity</th>\n      <th>depth</th>\n      <th>table</th>\n      <th>x</th>\n      <th>y</th>\n      <th>z</th>\n      <th>price</th>\n    </tr>\n  </thead>\n  <tbody>\n    <tr>\n      <th>0</th>\n      <td>0</td>\n      <td>1.21</td>\n      <td>Ideal</td>\n      <td>H</td>\n      <td>3</td>\n      <td>63.0</td>\n      <td>57.0</td>\n      <td>6.73</td>\n      <td>6.70</td>\n      <td>4.23</td>\n      <td>6134</td>\n    </tr>\n    <tr>\n      <th>1</th>\n      <td>1</td>\n      <td>0.28</td>\n      <td>Very Good</td>\n      <td>D</td>\n      <td>2</td>\n      <td>64.0</td>\n      <td>56.0</td>\n      <td>4.14</td>\n      <td>4.17</td>\n      <td>2.66</td>\n      <td>532</td>\n    </tr>\n    <tr>\n      <th>2</th>\n      <td>2</td>\n      <td>0.42</td>\n      <td>Premium</td>\n      <td>F</td>\n      <td>3</td>\n      <td>61.2</td>\n      <td>58.0</td>\n      <td>4.86</td>\n      <td>4.82</td>\n      <td>2.96</td>\n      <td>1103</td>\n    </tr>\n    <tr>\n      <th>3</th>\n      <td>3</td>\n      <td>0.26</td>\n      <td>Ideal</td>\n      <td>H</td>\n      <td>1</td>\n      <td>61.1</td>\n      <td>57.0</td>\n      <td>4.16</td>\n      <td>4.12</td>\n      <td>2.53</td>\n      <td>600</td>\n    </tr>\n    <tr>\n      <th>4</th>\n      <td>4</td>\n      <td>1.10</td>\n      <td>Good</td>\n      <td>G</td>\n      <td>4</td>\n      <td>63.4</td>\n      <td>57.0</td>\n      <td>6.52</td>\n      <td>6.55</td>\n      <td>4.14</td>\n      <td>4997</td>\n    </tr>\n    <tr>\n      <th>...</th>\n      <td>...</td>\n      <td>...</td>\n      <td>...</td>\n      <td>...</td>\n      <td>...</td>\n      <td>...</td>\n      <td>...</td>\n      <td>...</td>\n      <td>...</td>\n      <td>...</td>\n      <td>...</td>\n    </tr>\n    <tr>\n      <th>40340</th>\n      <td>40340</td>\n      <td>1.55</td>\n      <td>Premium</td>\n      <td>H</td>\n      <td>3</td>\n      <td>61.3</td>\n      <td>61.0</td>\n      <td>7.46</td>\n      <td>7.39</td>\n      <td>4.55</td>\n      <td>11708</td>\n    </tr>\n    <tr>\n      <th>40341</th>\n      <td>40341</td>\n      <td>0.36</td>\n      <td>Ideal</td>\n      <td>D</td>\n      <td>4</td>\n      <td>60.6</td>\n      <td>56.0</td>\n      <td>4.58</td>\n      <td>4.63</td>\n      <td>2.79</td>\n      <td>619</td>\n    </tr>\n    <tr>\n      <th>40342</th>\n      <td>40342</td>\n      <td>0.57</td>\n      <td>Very Good</td>\n      <td>I</td>\n      <td>3</td>\n      <td>62.2</td>\n      <td>55.0</td>\n      <td>5.33</td>\n      <td>5.34</td>\n      <td>3.32</td>\n      <td>1267</td>\n    </tr>\n    <tr>\n      <th>40343</th>\n      <td>40343</td>\n      <td>1.01</td>\n      <td>Very Good</td>\n      <td>F</td>\n      <td>1</td>\n      <td>59.6</td>\n      <td>62.0</td>\n      <td>6.47</td>\n      <td>6.56</td>\n      <td>3.88</td>\n      <td>9965</td>\n    </tr>\n    <tr>\n      <th>40344</th>\n      <td>40344</td>\n      <td>0.54</td>\n      <td>Ideal</td>\n      <td>E</td>\n      <td>4</td>\n      <td>60.4</td>\n      <td>57.0</td>\n      <td>5.33</td>\n      <td>5.27</td>\n      <td>3.20</td>\n      <td>1340</td>\n    </tr>\n  </tbody>\n</table>\n<p>40345 rows × 11 columns</p>\n</div>"
     },
     "metadata": {},
     "execution_count": 6
    }
   ],
   "source": [
    "df= df.replace({\"IF\":1, \"VVS1\": 2, \"VVS2\":2, \"VS1\":3, \"VS2\":3, \"SI1\":4, \"SI2\":4, \"I1\":5})\n",
    "df"
   ]
  },
  {
   "cell_type": "code",
   "execution_count": 13,
   "metadata": {},
   "outputs": [
    {
     "output_type": "execute_result",
     "data": {
      "text/plain": [
       "G    8499\n",
       "E    7351\n",
       "F    7130\n",
       "H    6234\n",
       "D    5074\n",
       "I    4023\n",
       "J    2034\n",
       "Name: color, dtype: int64"
      ]
     },
     "metadata": {},
     "execution_count": 13
    }
   ],
   "source": [
    "df.color.value_counts()"
   ]
  },
  {
   "cell_type": "code",
   "execution_count": 7,
   "metadata": {},
   "outputs": [
    {
     "output_type": "execute_result",
     "data": {
      "text/plain": [
       "       Unnamed: 0  carat        cut  color  clarity  depth  table     x     y  \\\n",
       "0               0   1.21      Ideal      0        3   63.0   57.0  6.73  6.70   \n",
       "1               1   0.28  Very Good      1        2   64.0   56.0  4.14  4.17   \n",
       "2               2   0.42    Premium      1        3   61.2   58.0  4.86  4.82   \n",
       "3               3   0.26      Ideal      0        1   61.1   57.0  4.16  4.12   \n",
       "4               4   1.10       Good      0        4   63.4   57.0  6.52  6.55   \n",
       "...           ...    ...        ...    ...      ...    ...    ...   ...   ...   \n",
       "40340       40340   1.55    Premium      0        3   61.3   61.0  7.46  7.39   \n",
       "40341       40341   0.36      Ideal      1        4   60.6   56.0  4.58  4.63   \n",
       "40342       40342   0.57  Very Good      0        3   62.2   55.0  5.33  5.34   \n",
       "40343       40343   1.01  Very Good      1        1   59.6   62.0  6.47  6.56   \n",
       "40344       40344   0.54      Ideal      1        4   60.4   57.0  5.33  5.27   \n",
       "\n",
       "          z  price  \n",
       "0      4.23   6134  \n",
       "1      2.66    532  \n",
       "2      2.96   1103  \n",
       "3      2.53    600  \n",
       "4      4.14   4997  \n",
       "...     ...    ...  \n",
       "40340  4.55  11708  \n",
       "40341  2.79    619  \n",
       "40342  3.32   1267  \n",
       "40343  3.88   9965  \n",
       "40344  3.20   1340  \n",
       "\n",
       "[40345 rows x 11 columns]"
      ],
      "text/html": "<div>\n<style scoped>\n    .dataframe tbody tr th:only-of-type {\n        vertical-align: middle;\n    }\n\n    .dataframe tbody tr th {\n        vertical-align: top;\n    }\n\n    .dataframe thead th {\n        text-align: right;\n    }\n</style>\n<table border=\"1\" class=\"dataframe\">\n  <thead>\n    <tr style=\"text-align: right;\">\n      <th></th>\n      <th>Unnamed: 0</th>\n      <th>carat</th>\n      <th>cut</th>\n      <th>color</th>\n      <th>clarity</th>\n      <th>depth</th>\n      <th>table</th>\n      <th>x</th>\n      <th>y</th>\n      <th>z</th>\n      <th>price</th>\n    </tr>\n  </thead>\n  <tbody>\n    <tr>\n      <th>0</th>\n      <td>0</td>\n      <td>1.21</td>\n      <td>Ideal</td>\n      <td>0</td>\n      <td>3</td>\n      <td>63.0</td>\n      <td>57.0</td>\n      <td>6.73</td>\n      <td>6.70</td>\n      <td>4.23</td>\n      <td>6134</td>\n    </tr>\n    <tr>\n      <th>1</th>\n      <td>1</td>\n      <td>0.28</td>\n      <td>Very Good</td>\n      <td>1</td>\n      <td>2</td>\n      <td>64.0</td>\n      <td>56.0</td>\n      <td>4.14</td>\n      <td>4.17</td>\n      <td>2.66</td>\n      <td>532</td>\n    </tr>\n    <tr>\n      <th>2</th>\n      <td>2</td>\n      <td>0.42</td>\n      <td>Premium</td>\n      <td>1</td>\n      <td>3</td>\n      <td>61.2</td>\n      <td>58.0</td>\n      <td>4.86</td>\n      <td>4.82</td>\n      <td>2.96</td>\n      <td>1103</td>\n    </tr>\n    <tr>\n      <th>3</th>\n      <td>3</td>\n      <td>0.26</td>\n      <td>Ideal</td>\n      <td>0</td>\n      <td>1</td>\n      <td>61.1</td>\n      <td>57.0</td>\n      <td>4.16</td>\n      <td>4.12</td>\n      <td>2.53</td>\n      <td>600</td>\n    </tr>\n    <tr>\n      <th>4</th>\n      <td>4</td>\n      <td>1.10</td>\n      <td>Good</td>\n      <td>0</td>\n      <td>4</td>\n      <td>63.4</td>\n      <td>57.0</td>\n      <td>6.52</td>\n      <td>6.55</td>\n      <td>4.14</td>\n      <td>4997</td>\n    </tr>\n    <tr>\n      <th>...</th>\n      <td>...</td>\n      <td>...</td>\n      <td>...</td>\n      <td>...</td>\n      <td>...</td>\n      <td>...</td>\n      <td>...</td>\n      <td>...</td>\n      <td>...</td>\n      <td>...</td>\n      <td>...</td>\n    </tr>\n    <tr>\n      <th>40340</th>\n      <td>40340</td>\n      <td>1.55</td>\n      <td>Premium</td>\n      <td>0</td>\n      <td>3</td>\n      <td>61.3</td>\n      <td>61.0</td>\n      <td>7.46</td>\n      <td>7.39</td>\n      <td>4.55</td>\n      <td>11708</td>\n    </tr>\n    <tr>\n      <th>40341</th>\n      <td>40341</td>\n      <td>0.36</td>\n      <td>Ideal</td>\n      <td>1</td>\n      <td>4</td>\n      <td>60.6</td>\n      <td>56.0</td>\n      <td>4.58</td>\n      <td>4.63</td>\n      <td>2.79</td>\n      <td>619</td>\n    </tr>\n    <tr>\n      <th>40342</th>\n      <td>40342</td>\n      <td>0.57</td>\n      <td>Very Good</td>\n      <td>0</td>\n      <td>3</td>\n      <td>62.2</td>\n      <td>55.0</td>\n      <td>5.33</td>\n      <td>5.34</td>\n      <td>3.32</td>\n      <td>1267</td>\n    </tr>\n    <tr>\n      <th>40343</th>\n      <td>40343</td>\n      <td>1.01</td>\n      <td>Very Good</td>\n      <td>1</td>\n      <td>1</td>\n      <td>59.6</td>\n      <td>62.0</td>\n      <td>6.47</td>\n      <td>6.56</td>\n      <td>3.88</td>\n      <td>9965</td>\n    </tr>\n    <tr>\n      <th>40344</th>\n      <td>40344</td>\n      <td>0.54</td>\n      <td>Ideal</td>\n      <td>1</td>\n      <td>4</td>\n      <td>60.4</td>\n      <td>57.0</td>\n      <td>5.33</td>\n      <td>5.27</td>\n      <td>3.20</td>\n      <td>1340</td>\n    </tr>\n  </tbody>\n</table>\n<p>40345 rows × 11 columns</p>\n</div>"
     },
     "metadata": {},
     "execution_count": 7
    }
   ],
   "source": [
    "df= df.replace({\"D\":1, \"E\": 1, \"F\":1, \"G\":0, \"H\":0, \"I\":0, \"J\":0})\n",
    "df"
   ]
  },
  {
   "cell_type": "code",
   "execution_count": 8,
   "metadata": {},
   "outputs": [
    {
     "output_type": "execute_result",
     "data": {
      "text/plain": [
       "       Unnamed: 0  carat  cut  color  clarity  depth  table     x     y     z  \\\n",
       "0               0   1.21    2      0        3   63.0   57.0  6.73  6.70  4.23   \n",
       "1               1   0.28    4      1        2   64.0   56.0  4.14  4.17  2.66   \n",
       "2               2   0.42    3      1        3   61.2   58.0  4.86  4.82  2.96   \n",
       "3               3   0.26    2      0        1   61.1   57.0  4.16  4.12  2.53   \n",
       "4               4   1.10    1      0        4   63.4   57.0  6.52  6.55  4.14   \n",
       "...           ...    ...  ...    ...      ...    ...    ...   ...   ...   ...   \n",
       "40340       40340   1.55    3      0        3   61.3   61.0  7.46  7.39  4.55   \n",
       "40341       40341   0.36    2      1        4   60.6   56.0  4.58  4.63  2.79   \n",
       "40342       40342   0.57    4      0        3   62.2   55.0  5.33  5.34  3.32   \n",
       "40343       40343   1.01    4      1        1   59.6   62.0  6.47  6.56  3.88   \n",
       "40344       40344   0.54    2      1        4   60.4   57.0  5.33  5.27  3.20   \n",
       "\n",
       "       price  \n",
       "0       6134  \n",
       "1        532  \n",
       "2       1103  \n",
       "3        600  \n",
       "4       4997  \n",
       "...      ...  \n",
       "40340  11708  \n",
       "40341    619  \n",
       "40342   1267  \n",
       "40343   9965  \n",
       "40344   1340  \n",
       "\n",
       "[40345 rows x 11 columns]"
      ],
      "text/html": "<div>\n<style scoped>\n    .dataframe tbody tr th:only-of-type {\n        vertical-align: middle;\n    }\n\n    .dataframe tbody tr th {\n        vertical-align: top;\n    }\n\n    .dataframe thead th {\n        text-align: right;\n    }\n</style>\n<table border=\"1\" class=\"dataframe\">\n  <thead>\n    <tr style=\"text-align: right;\">\n      <th></th>\n      <th>Unnamed: 0</th>\n      <th>carat</th>\n      <th>cut</th>\n      <th>color</th>\n      <th>clarity</th>\n      <th>depth</th>\n      <th>table</th>\n      <th>x</th>\n      <th>y</th>\n      <th>z</th>\n      <th>price</th>\n    </tr>\n  </thead>\n  <tbody>\n    <tr>\n      <th>0</th>\n      <td>0</td>\n      <td>1.21</td>\n      <td>2</td>\n      <td>0</td>\n      <td>3</td>\n      <td>63.0</td>\n      <td>57.0</td>\n      <td>6.73</td>\n      <td>6.70</td>\n      <td>4.23</td>\n      <td>6134</td>\n    </tr>\n    <tr>\n      <th>1</th>\n      <td>1</td>\n      <td>0.28</td>\n      <td>4</td>\n      <td>1</td>\n      <td>2</td>\n      <td>64.0</td>\n      <td>56.0</td>\n      <td>4.14</td>\n      <td>4.17</td>\n      <td>2.66</td>\n      <td>532</td>\n    </tr>\n    <tr>\n      <th>2</th>\n      <td>2</td>\n      <td>0.42</td>\n      <td>3</td>\n      <td>1</td>\n      <td>3</td>\n      <td>61.2</td>\n      <td>58.0</td>\n      <td>4.86</td>\n      <td>4.82</td>\n      <td>2.96</td>\n      <td>1103</td>\n    </tr>\n    <tr>\n      <th>3</th>\n      <td>3</td>\n      <td>0.26</td>\n      <td>2</td>\n      <td>0</td>\n      <td>1</td>\n      <td>61.1</td>\n      <td>57.0</td>\n      <td>4.16</td>\n      <td>4.12</td>\n      <td>2.53</td>\n      <td>600</td>\n    </tr>\n    <tr>\n      <th>4</th>\n      <td>4</td>\n      <td>1.10</td>\n      <td>1</td>\n      <td>0</td>\n      <td>4</td>\n      <td>63.4</td>\n      <td>57.0</td>\n      <td>6.52</td>\n      <td>6.55</td>\n      <td>4.14</td>\n      <td>4997</td>\n    </tr>\n    <tr>\n      <th>...</th>\n      <td>...</td>\n      <td>...</td>\n      <td>...</td>\n      <td>...</td>\n      <td>...</td>\n      <td>...</td>\n      <td>...</td>\n      <td>...</td>\n      <td>...</td>\n      <td>...</td>\n      <td>...</td>\n    </tr>\n    <tr>\n      <th>40340</th>\n      <td>40340</td>\n      <td>1.55</td>\n      <td>3</td>\n      <td>0</td>\n      <td>3</td>\n      <td>61.3</td>\n      <td>61.0</td>\n      <td>7.46</td>\n      <td>7.39</td>\n      <td>4.55</td>\n      <td>11708</td>\n    </tr>\n    <tr>\n      <th>40341</th>\n      <td>40341</td>\n      <td>0.36</td>\n      <td>2</td>\n      <td>1</td>\n      <td>4</td>\n      <td>60.6</td>\n      <td>56.0</td>\n      <td>4.58</td>\n      <td>4.63</td>\n      <td>2.79</td>\n      <td>619</td>\n    </tr>\n    <tr>\n      <th>40342</th>\n      <td>40342</td>\n      <td>0.57</td>\n      <td>4</td>\n      <td>0</td>\n      <td>3</td>\n      <td>62.2</td>\n      <td>55.0</td>\n      <td>5.33</td>\n      <td>5.34</td>\n      <td>3.32</td>\n      <td>1267</td>\n    </tr>\n    <tr>\n      <th>40343</th>\n      <td>40343</td>\n      <td>1.01</td>\n      <td>4</td>\n      <td>1</td>\n      <td>1</td>\n      <td>59.6</td>\n      <td>62.0</td>\n      <td>6.47</td>\n      <td>6.56</td>\n      <td>3.88</td>\n      <td>9965</td>\n    </tr>\n    <tr>\n      <th>40344</th>\n      <td>40344</td>\n      <td>0.54</td>\n      <td>2</td>\n      <td>1</td>\n      <td>4</td>\n      <td>60.4</td>\n      <td>57.0</td>\n      <td>5.33</td>\n      <td>5.27</td>\n      <td>3.20</td>\n      <td>1340</td>\n    </tr>\n  </tbody>\n</table>\n<p>40345 rows × 11 columns</p>\n</div>"
     },
     "metadata": {},
     "execution_count": 8
    }
   ],
   "source": [
    "le = preprocessing.LabelEncoder()\n",
    "df[\"cut\"]= le.fit_transform(df[\"cut\"])\n",
    "df"
   ]
  },
  {
   "cell_type": "code",
   "execution_count": 9,
   "metadata": {},
   "outputs": [
    {
     "output_type": "execute_result",
     "data": {
      "text/plain": [
       "            Unnamed: 0     carat       cut     color   clarity     depth  \\\n",
       "Unnamed: 0    1.000000  0.005524  0.006349  0.003975 -0.006390  0.008138   \n",
       "carat         0.005524  1.000000  0.018551 -0.221556  0.330552  0.029414   \n",
       "cut           0.006349  0.018551  1.000000  0.005240  0.000591 -0.195392   \n",
       "color         0.003975 -0.221556  0.005240  1.000000  0.042123 -0.046010   \n",
       "clarity      -0.006390  0.330552  0.000591  0.042123  1.000000  0.076742   \n",
       "depth         0.008138  0.029414 -0.195392 -0.046010  0.076742  1.000000   \n",
       "table        -0.007051  0.181273  0.149833 -0.002403  0.156615 -0.288987   \n",
       "x             0.003705  0.975077  0.023399 -0.203951  0.350505 -0.023389   \n",
       "y             0.005897  0.944445  0.028351 -0.196860  0.334947 -0.027880   \n",
       "z             0.005142  0.967289  0.002183 -0.206305  0.352204  0.097399   \n",
       "price         0.007212  0.921887  0.039499 -0.138111  0.128487 -0.009228   \n",
       "\n",
       "               table         x         y         z     price  \n",
       "Unnamed: 0 -0.007051  0.003705  0.005897  0.005142  0.007212  \n",
       "carat       0.181273  0.975077  0.944445  0.967289  0.921887  \n",
       "cut         0.149833  0.023399  0.028351  0.002183  0.039499  \n",
       "color      -0.002403 -0.203951 -0.196860 -0.206305 -0.138111  \n",
       "clarity     0.156615  0.350505  0.334947  0.352204  0.128487  \n",
       "depth      -0.288987 -0.023389 -0.027880  0.097399 -0.009228  \n",
       "table       1.000000  0.193986  0.180449  0.153175  0.127338  \n",
       "x           0.193986  1.000000  0.966827  0.985080  0.883163  \n",
       "y           0.180449  0.966827  1.000000  0.959957  0.857564  \n",
       "z           0.153175  0.985080  0.959957  1.000000  0.872855  \n",
       "price       0.127338  0.883163  0.857564  0.872855  1.000000  "
      ],
      "text/html": "<div>\n<style scoped>\n    .dataframe tbody tr th:only-of-type {\n        vertical-align: middle;\n    }\n\n    .dataframe tbody tr th {\n        vertical-align: top;\n    }\n\n    .dataframe thead th {\n        text-align: right;\n    }\n</style>\n<table border=\"1\" class=\"dataframe\">\n  <thead>\n    <tr style=\"text-align: right;\">\n      <th></th>\n      <th>Unnamed: 0</th>\n      <th>carat</th>\n      <th>cut</th>\n      <th>color</th>\n      <th>clarity</th>\n      <th>depth</th>\n      <th>table</th>\n      <th>x</th>\n      <th>y</th>\n      <th>z</th>\n      <th>price</th>\n    </tr>\n  </thead>\n  <tbody>\n    <tr>\n      <th>Unnamed: 0</th>\n      <td>1.000000</td>\n      <td>0.005524</td>\n      <td>0.006349</td>\n      <td>0.003975</td>\n      <td>-0.006390</td>\n      <td>0.008138</td>\n      <td>-0.007051</td>\n      <td>0.003705</td>\n      <td>0.005897</td>\n      <td>0.005142</td>\n      <td>0.007212</td>\n    </tr>\n    <tr>\n      <th>carat</th>\n      <td>0.005524</td>\n      <td>1.000000</td>\n      <td>0.018551</td>\n      <td>-0.221556</td>\n      <td>0.330552</td>\n      <td>0.029414</td>\n      <td>0.181273</td>\n      <td>0.975077</td>\n      <td>0.944445</td>\n      <td>0.967289</td>\n      <td>0.921887</td>\n    </tr>\n    <tr>\n      <th>cut</th>\n      <td>0.006349</td>\n      <td>0.018551</td>\n      <td>1.000000</td>\n      <td>0.005240</td>\n      <td>0.000591</td>\n      <td>-0.195392</td>\n      <td>0.149833</td>\n      <td>0.023399</td>\n      <td>0.028351</td>\n      <td>0.002183</td>\n      <td>0.039499</td>\n    </tr>\n    <tr>\n      <th>color</th>\n      <td>0.003975</td>\n      <td>-0.221556</td>\n      <td>0.005240</td>\n      <td>1.000000</td>\n      <td>0.042123</td>\n      <td>-0.046010</td>\n      <td>-0.002403</td>\n      <td>-0.203951</td>\n      <td>-0.196860</td>\n      <td>-0.206305</td>\n      <td>-0.138111</td>\n    </tr>\n    <tr>\n      <th>clarity</th>\n      <td>-0.006390</td>\n      <td>0.330552</td>\n      <td>0.000591</td>\n      <td>0.042123</td>\n      <td>1.000000</td>\n      <td>0.076742</td>\n      <td>0.156615</td>\n      <td>0.350505</td>\n      <td>0.334947</td>\n      <td>0.352204</td>\n      <td>0.128487</td>\n    </tr>\n    <tr>\n      <th>depth</th>\n      <td>0.008138</td>\n      <td>0.029414</td>\n      <td>-0.195392</td>\n      <td>-0.046010</td>\n      <td>0.076742</td>\n      <td>1.000000</td>\n      <td>-0.288987</td>\n      <td>-0.023389</td>\n      <td>-0.027880</td>\n      <td>0.097399</td>\n      <td>-0.009228</td>\n    </tr>\n    <tr>\n      <th>table</th>\n      <td>-0.007051</td>\n      <td>0.181273</td>\n      <td>0.149833</td>\n      <td>-0.002403</td>\n      <td>0.156615</td>\n      <td>-0.288987</td>\n      <td>1.000000</td>\n      <td>0.193986</td>\n      <td>0.180449</td>\n      <td>0.153175</td>\n      <td>0.127338</td>\n    </tr>\n    <tr>\n      <th>x</th>\n      <td>0.003705</td>\n      <td>0.975077</td>\n      <td>0.023399</td>\n      <td>-0.203951</td>\n      <td>0.350505</td>\n      <td>-0.023389</td>\n      <td>0.193986</td>\n      <td>1.000000</td>\n      <td>0.966827</td>\n      <td>0.985080</td>\n      <td>0.883163</td>\n    </tr>\n    <tr>\n      <th>y</th>\n      <td>0.005897</td>\n      <td>0.944445</td>\n      <td>0.028351</td>\n      <td>-0.196860</td>\n      <td>0.334947</td>\n      <td>-0.027880</td>\n      <td>0.180449</td>\n      <td>0.966827</td>\n      <td>1.000000</td>\n      <td>0.959957</td>\n      <td>0.857564</td>\n    </tr>\n    <tr>\n      <th>z</th>\n      <td>0.005142</td>\n      <td>0.967289</td>\n      <td>0.002183</td>\n      <td>-0.206305</td>\n      <td>0.352204</td>\n      <td>0.097399</td>\n      <td>0.153175</td>\n      <td>0.985080</td>\n      <td>0.959957</td>\n      <td>1.000000</td>\n      <td>0.872855</td>\n    </tr>\n    <tr>\n      <th>price</th>\n      <td>0.007212</td>\n      <td>0.921887</td>\n      <td>0.039499</td>\n      <td>-0.138111</td>\n      <td>0.128487</td>\n      <td>-0.009228</td>\n      <td>0.127338</td>\n      <td>0.883163</td>\n      <td>0.857564</td>\n      <td>0.872855</td>\n      <td>1.000000</td>\n    </tr>\n  </tbody>\n</table>\n</div>"
     },
     "metadata": {},
     "execution_count": 9
    }
   ],
   "source": [
    "df.corr()"
   ]
  },
  {
   "cell_type": "code",
   "execution_count": 11,
   "metadata": {},
   "outputs": [
    {
     "output_type": "execute_result",
     "data": {
      "text/plain": [
       "(40345, 4)"
      ]
     },
     "metadata": {},
     "execution_count": 11
    }
   ],
   "source": [
    "X = df[[\"carat\",\"cut\", \"color\", \"clarity\"]]\n",
    "X.shape"
   ]
  },
  {
   "cell_type": "code",
   "execution_count": 10,
   "metadata": {},
   "outputs": [
    {
     "output_type": "execute_result",
     "data": {
      "text/plain": [
       "(40345,)"
      ]
     },
     "metadata": {},
     "execution_count": 10
    }
   ],
   "source": [
    "y= df[\"price\"]\n",
    "y.shape"
   ]
  },
  {
   "cell_type": "code",
   "execution_count": 9,
   "metadata": {},
   "outputs": [],
   "source": [
    "X = df.drop(columns=[\"Unnamed: 0\", \"price\"])"
   ]
  },
  {
   "cell_type": "code",
   "execution_count": 55,
   "metadata": {},
   "outputs": [
    {
     "output_type": "execute_result",
     "data": {
      "text/plain": [
       "       carat  cut  color  clarity  depth  table     x     y     z\n",
       "0       1.21    2      0        3   63.0   57.0  6.73  6.70  4.23\n",
       "1       0.28    4      1        2   64.0   56.0  4.14  4.17  2.66\n",
       "2       0.42    3      1        3   61.2   58.0  4.86  4.82  2.96\n",
       "3       0.26    2      0        1   61.1   57.0  4.16  4.12  2.53\n",
       "4       1.10    1      0        4   63.4   57.0  6.52  6.55  4.14\n",
       "...      ...  ...    ...      ...    ...    ...   ...   ...   ...\n",
       "40340   1.55    3      0        3   61.3   61.0  7.46  7.39  4.55\n",
       "40341   0.36    2      1        4   60.6   56.0  4.58  4.63  2.79\n",
       "40342   0.57    4      0        3   62.2   55.0  5.33  5.34  3.32\n",
       "40343   1.01    4      1        1   59.6   62.0  6.47  6.56  3.88\n",
       "40344   0.54    2      1        4   60.4   57.0  5.33  5.27  3.20\n",
       "\n",
       "[40345 rows x 9 columns]"
      ],
      "text/html": "<div>\n<style scoped>\n    .dataframe tbody tr th:only-of-type {\n        vertical-align: middle;\n    }\n\n    .dataframe tbody tr th {\n        vertical-align: top;\n    }\n\n    .dataframe thead th {\n        text-align: right;\n    }\n</style>\n<table border=\"1\" class=\"dataframe\">\n  <thead>\n    <tr style=\"text-align: right;\">\n      <th></th>\n      <th>carat</th>\n      <th>cut</th>\n      <th>color</th>\n      <th>clarity</th>\n      <th>depth</th>\n      <th>table</th>\n      <th>x</th>\n      <th>y</th>\n      <th>z</th>\n    </tr>\n  </thead>\n  <tbody>\n    <tr>\n      <th>0</th>\n      <td>1.21</td>\n      <td>2</td>\n      <td>0</td>\n      <td>3</td>\n      <td>63.0</td>\n      <td>57.0</td>\n      <td>6.73</td>\n      <td>6.70</td>\n      <td>4.23</td>\n    </tr>\n    <tr>\n      <th>1</th>\n      <td>0.28</td>\n      <td>4</td>\n      <td>1</td>\n      <td>2</td>\n      <td>64.0</td>\n      <td>56.0</td>\n      <td>4.14</td>\n      <td>4.17</td>\n      <td>2.66</td>\n    </tr>\n    <tr>\n      <th>2</th>\n      <td>0.42</td>\n      <td>3</td>\n      <td>1</td>\n      <td>3</td>\n      <td>61.2</td>\n      <td>58.0</td>\n      <td>4.86</td>\n      <td>4.82</td>\n      <td>2.96</td>\n    </tr>\n    <tr>\n      <th>3</th>\n      <td>0.26</td>\n      <td>2</td>\n      <td>0</td>\n      <td>1</td>\n      <td>61.1</td>\n      <td>57.0</td>\n      <td>4.16</td>\n      <td>4.12</td>\n      <td>2.53</td>\n    </tr>\n    <tr>\n      <th>4</th>\n      <td>1.10</td>\n      <td>1</td>\n      <td>0</td>\n      <td>4</td>\n      <td>63.4</td>\n      <td>57.0</td>\n      <td>6.52</td>\n      <td>6.55</td>\n      <td>4.14</td>\n    </tr>\n    <tr>\n      <th>...</th>\n      <td>...</td>\n      <td>...</td>\n      <td>...</td>\n      <td>...</td>\n      <td>...</td>\n      <td>...</td>\n      <td>...</td>\n      <td>...</td>\n      <td>...</td>\n    </tr>\n    <tr>\n      <th>40340</th>\n      <td>1.55</td>\n      <td>3</td>\n      <td>0</td>\n      <td>3</td>\n      <td>61.3</td>\n      <td>61.0</td>\n      <td>7.46</td>\n      <td>7.39</td>\n      <td>4.55</td>\n    </tr>\n    <tr>\n      <th>40341</th>\n      <td>0.36</td>\n      <td>2</td>\n      <td>1</td>\n      <td>4</td>\n      <td>60.6</td>\n      <td>56.0</td>\n      <td>4.58</td>\n      <td>4.63</td>\n      <td>2.79</td>\n    </tr>\n    <tr>\n      <th>40342</th>\n      <td>0.57</td>\n      <td>4</td>\n      <td>0</td>\n      <td>3</td>\n      <td>62.2</td>\n      <td>55.0</td>\n      <td>5.33</td>\n      <td>5.34</td>\n      <td>3.32</td>\n    </tr>\n    <tr>\n      <th>40343</th>\n      <td>1.01</td>\n      <td>4</td>\n      <td>1</td>\n      <td>1</td>\n      <td>59.6</td>\n      <td>62.0</td>\n      <td>6.47</td>\n      <td>6.56</td>\n      <td>3.88</td>\n    </tr>\n    <tr>\n      <th>40344</th>\n      <td>0.54</td>\n      <td>2</td>\n      <td>1</td>\n      <td>4</td>\n      <td>60.4</td>\n      <td>57.0</td>\n      <td>5.33</td>\n      <td>5.27</td>\n      <td>3.20</td>\n    </tr>\n  </tbody>\n</table>\n<p>40345 rows × 9 columns</p>\n</div>"
     },
     "metadata": {},
     "execution_count": 55
    }
   ],
   "source": [
    "X"
   ]
  },
  {
   "cell_type": "code",
   "execution_count": 33,
   "metadata": {},
   "outputs": [],
   "source": [
    "#RandomForest\n",
    "def rf(df,X, y):\n",
    "    X_train, X_test, y_train, y_test = train_test_split(X, y, test_size=0.2, random_state=10)\n",
    "    model = RandomForestRegressor(n_estimators = 100, random_state = 40)\n",
    "    train= model.fit(X_train ,y_train)\n",
    "    y_pred = model.predict(X_test)\n",
    "    print('RMSE:', np.sqrt(metrics.mean_squared_error(y_test, y_pred)))"
   ]
  },
  {
   "cell_type": "code",
   "execution_count": 46,
   "metadata": {},
   "outputs": [],
   "source": [
    "train= model.fit(X ,y)\n",
    "y_pred = model.predict(X_test)"
   ]
  },
  {
   "cell_type": "code",
   "execution_count": 20,
   "metadata": {},
   "outputs": [
    {
     "output_type": "execute_result",
     "data": {
      "text/plain": [
       "(32276, 4)"
      ]
     },
     "metadata": {},
     "execution_count": 20
    }
   ],
   "source": [
    "X_train, X_test, y_train, y_test = train_test_split(X, y, test_size=0.2, random_state=10)\n",
    "X_train.shape"
   ]
  },
  {
   "cell_type": "code",
   "execution_count": 22,
   "metadata": {},
   "outputs": [],
   "source": [
    "model = RandomForestRegressor(n_estimators = 100, random_state = 40)\n",
    "train= model.fit(X_train, y_train)"
   ]
  },
  {
   "cell_type": "code",
   "execution_count": 27,
   "metadata": {},
   "outputs": [
    {
     "output_type": "execute_result",
     "data": {
      "text/plain": [
       "0.962869777521568"
      ]
     },
     "metadata": {},
     "execution_count": 27
    }
   ],
   "source": [
    "model.score(X,y)"
   ]
  },
  {
   "cell_type": "code",
   "execution_count": 23,
   "metadata": {},
   "outputs": [],
   "source": [
    "y_pred = model.predict(X_test)"
   ]
  },
  {
   "cell_type": "code",
   "execution_count": 28,
   "metadata": {},
   "outputs": [
    {
     "output_type": "execute_result",
     "data": {
      "text/plain": [
       "0.9663451202587049"
      ]
     },
     "metadata": {},
     "execution_count": 28
    }
   ],
   "source": [
    "model.score(X_train,y_train)"
   ]
  },
  {
   "cell_type": "code",
   "execution_count": 29,
   "metadata": {},
   "outputs": [
    {
     "output_type": "execute_result",
     "data": {
      "text/plain": [
       "0.9483654391443944"
      ]
     },
     "metadata": {},
     "execution_count": 29
    }
   ],
   "source": [
    "model.score(X_test, y_test)"
   ]
  },
  {
   "cell_type": "code",
   "execution_count": 26,
   "metadata": {},
   "outputs": [
    {
     "output_type": "stream",
     "name": "stdout",
     "text": [
      "RMSE: 889.7788664392008\n"
     ]
    }
   ],
   "source": [
    "print('RMSE:', np.sqrt(metrics.mean_squared_error(y_test, y_pred)))"
   ]
  },
  {
   "cell_type": "code",
   "execution_count": 57,
   "metadata": {},
   "outputs": [
    {
     "output_type": "stream",
     "name": "stdout",
     "text": [
      "####### Grado: 2 #########\n",
      "(32276, 55)\n",
      "y_pred (32276,)\n",
      "Score: 0.9436432607011177\n",
      "RMSE: 948.9424840400802\n",
      "####### Grado: 3 #########\n",
      "(32276, 220)\n",
      "y_pred (32276,)\n",
      "Score: 0.9535639539990295\n",
      "RMSE: 861.3795915709861\n",
      "####### Grado: 4 #########\n",
      "(32276, 715)\n",
      "y_pred (32276,)\n",
      "Score: 0.957265550417147\n",
      "RMSE: 826.3347543275036\n",
      "####### Grado: 5 #########\n",
      "(32276, 2002)\n",
      "y_pred (32276,)\n",
      "Score: 0.9609638242806191\n",
      "RMSE: 789.7699290481065\n",
      "####### Grado: 6 #########\n",
      "(32276, 5005)\n",
      "y_pred (32276,)\n",
      "Score: 0.9654932790101732\n",
      "RMSE: 742.538211613215\n",
      "####### Grado: 7 #########\n",
      "(32276, 11440)\n"
     ]
    }
   ],
   "source": [
    "X_train, X_test, y_train, y_test = train_test_split(X, y,test_size=0.2)\n",
    "    #No linear regresion Polynomial\n",
    "degree = range(2,11)\n",
    "scores = []\n",
    "for d in degree:\n",
    "    print(\"#######\",\"Grado:\", d,\"#########\")\n",
    "    polinominal_model = PolynomialFeatures(d) \n",
    "    X_poly = polinominal_model.fit_transform(X_train,y_train)\n",
    "\n",
    "    #######\n",
    "    print(X_poly.shape)\n",
    "\n",
    "    lin_reg_model = LinearRegression()\n",
    "    model =lin_reg_model.fit(X_poly, y_train)\n",
    "    y_pred = lin_reg_model.predict(X_poly)\n",
    "\n",
    "    print(\"y_pred\", y_pred.shape)\n",
    "    print(\"Score:\", r2_score(y_train, y_pred))\n",
    "    print('RMSE:', np.sqrt(metrics.mean_squared_error(y_train, y_pred)))"
   ]
  },
  {
   "cell_type": "code",
   "execution_count": null,
   "metadata": {},
   "outputs": [],
   "source": []
  },
  {
   "cell_type": "code",
   "execution_count": 99,
   "metadata": {},
   "outputs": [],
   "source": [
    "polinominal_model = PolynomialFeatures(10) \n",
    "X_poly = polinominal_model.fit_transform(X_train,y_train)\n",
    "lin_reg_model = LinearRegression()\n",
    "model =lin_reg_model.fit(X_poly, y_train)\n",
    "y_pred = lin_reg_model.predict(X_poly)"
   ]
  },
  {
   "cell_type": "code",
   "execution_count": 24,
   "metadata": {},
   "outputs": [],
   "source": [
    "#SVR\n",
    "def svr_():\n",
    "    X_train, X_test, y_train, y_test = train_test_split(X, y,test_size=0.2)\n",
    "    svr_rbf = SVR(kernel='rbf', C=100, gamma=0.1, epsilon=.1)\n",
    "    svr_lin = SVR(kernel='linear', C=100, gamma='auto')\n",
    "    svr_poly = SVR(kernel='poly', C=100, gamma='auto', degree=3, epsilon=.1, coef0=1)\n",
    "    svrs = [svr_rbf, svr_lin, svr_poly]\n",
    "    i=1\n",
    "    for svr in svrs:\n",
    "        print(\"###### Model:\",i, svr, \"####\")\n",
    "        model = svr.fit(X_train, y_train)\n",
    "        y_pred = model.predict(X_test)\n",
    "        print(\"Score:\", r2_score(y_test,y_pred))\n",
    "        print(\"MAE:\", mean_absolute_error(y_true=y_test, y_pred=y_pred))\n",
    "        print('RMSE:', np.sqrt(metrics.mean_squared_error(y_test, y_pred)))\n",
    "        i+=1"
   ]
  },
  {
   "cell_type": "code",
   "execution_count": 25,
   "metadata": {},
   "outputs": [
    {
     "output_type": "stream",
     "name": "stdout",
     "text": [
      "###### Model: 1 SVR(C=100, gamma=0.1) ####\n",
      "Score: 0.9176037742183716\n",
      "MAE: 632.0928935518857\n",
      "RMSE: 1155.3134594250348\n",
      "###### Model: 2 SVR(C=100, gamma='auto', kernel='linear') ####\n",
      "Score: 0.8708984328934638\n",
      "MAE: 842.9594371385091\n",
      "RMSE: 1446.1452998995692\n",
      "###### Model: 3 SVR(C=100, coef0=1, gamma='auto', kernel='poly') ####\n",
      "Score: 0.9370092232154271\n",
      "MAE: 558.5221839780792\n",
      "RMSE: 1010.1471791694009\n"
     ]
    }
   ],
   "source": [
    "svr_()"
   ]
  },
  {
   "cell_type": "code",
   "execution_count": 20,
   "metadata": {},
   "outputs": [],
   "source": [
    "X_train, X_test, y_train, y_test = train_test_split(X_normalized, y,test_size=0.2)\n",
    "svr_rbf = SVR(kernel='rbf', C=100, gamma=0.1, epsilon=.1)\n",
    "model = svr_rbf.fit(X_train, y_train)\n",
    "y_pred = model.predict(X_test)"
   ]
  },
  {
   "cell_type": "code",
   "execution_count": 21,
   "metadata": {},
   "outputs": [
    {
     "output_type": "stream",
     "name": "stdout",
     "text": [
      "RMSE: 1808.3570789197167\n"
     ]
    },
    {
     "output_type": "execute_result",
     "data": {
      "text/plain": [
       "0.7988736126065201"
      ]
     },
     "metadata": {},
     "execution_count": 21
    }
   ],
   "source": [
    "print('RMSE:', np.sqrt(metrics.mean_squared_error(y_test, y_pred)))\n",
    "model.score(X_train, y_train)"
   ]
  },
  {
   "cell_type": "code",
   "execution_count": 29,
   "metadata": {},
   "outputs": [
    {
     "output_type": "execute_result",
     "data": {
      "text/plain": [
       "SVR(C=100, gamma=0.1)"
      ]
     },
     "metadata": {},
     "execution_count": 29
    }
   ],
   "source": [
    "print('RMSE:', np.sqrt(metrics.mean_squared_error(y_test, y_pred)))\n",
    "svr_rbf.fit(X,y)"
   ]
  },
  {
   "cell_type": "code",
   "execution_count": 30,
   "metadata": {},
   "outputs": [],
   "source": [
    "y_pred = model.predict(to_pred)"
   ]
  },
  {
   "cell_type": "code",
   "execution_count": 18,
   "metadata": {},
   "outputs": [],
   "source": [
    "from sklearn.preprocessing import MinMaxScaler"
   ]
  },
  {
   "cell_type": "code",
   "execution_count": 25,
   "metadata": {},
   "outputs": [
    {
     "output_type": "error",
     "ename": "ValueError",
     "evalue": "could not convert string to float: 'Ideal'",
     "traceback": [
      "\u001b[1;31m---------------------------------------------------------------------------\u001b[0m",
      "\u001b[1;31mValueError\u001b[0m                                Traceback (most recent call last)",
      "\u001b[1;32m<ipython-input-25-f572ff6a6669>\u001b[0m in \u001b[0;36m<module>\u001b[1;34m\u001b[0m\n\u001b[0;32m      1\u001b[0m \u001b[0mscaler\u001b[0m \u001b[1;33m=\u001b[0m \u001b[0mMinMaxScaler\u001b[0m\u001b[1;33m(\u001b[0m\u001b[1;33m)\u001b[0m \u001b[1;31m#Normaliza los datos de 0 a 1\u001b[0m\u001b[1;33m\u001b[0m\u001b[1;33m\u001b[0m\u001b[0m\n\u001b[1;32m----> 2\u001b[1;33m \u001b[0mscaler\u001b[0m\u001b[1;33m.\u001b[0m\u001b[0mfit\u001b[0m\u001b[1;33m(\u001b[0m\u001b[0mdf\u001b[0m\u001b[1;33m[\u001b[0m\u001b[1;34m\"cut\"\u001b[0m\u001b[1;33m]\u001b[0m\u001b[1;33m)\u001b[0m\u001b[1;33m\u001b[0m\u001b[1;33m\u001b[0m\u001b[0m\n\u001b[0m\u001b[0;32m      3\u001b[0m \u001b[0mX_normalized\u001b[0m \u001b[1;33m=\u001b[0m \u001b[0mscaler\u001b[0m\u001b[1;33m.\u001b[0m\u001b[0mtransform\u001b[0m\u001b[1;33m(\u001b[0m\u001b[0mdf\u001b[0m\u001b[1;33m[\u001b[0m\u001b[1;34m\"cut\"\u001b[0m\u001b[1;33m]\u001b[0m\u001b[1;33m)\u001b[0m\u001b[1;33m\u001b[0m\u001b[1;33m\u001b[0m\u001b[0m\n\u001b[0;32m      4\u001b[0m \u001b[0mX_normalized\u001b[0m\u001b[1;33m\u001b[0m\u001b[1;33m\u001b[0m\u001b[0m\n",
      "\u001b[1;32m~\\AppData\\Local\\Programs\\Python\\Python39\\lib\\site-packages\\sklearn\\preprocessing\\_data.py\u001b[0m in \u001b[0;36mfit\u001b[1;34m(self, X, y)\u001b[0m\n\u001b[0;32m    361\u001b[0m         \u001b[1;31m# Reset internal state before fitting\u001b[0m\u001b[1;33m\u001b[0m\u001b[1;33m\u001b[0m\u001b[1;33m\u001b[0m\u001b[0m\n\u001b[0;32m    362\u001b[0m         \u001b[0mself\u001b[0m\u001b[1;33m.\u001b[0m\u001b[0m_reset\u001b[0m\u001b[1;33m(\u001b[0m\u001b[1;33m)\u001b[0m\u001b[1;33m\u001b[0m\u001b[1;33m\u001b[0m\u001b[0m\n\u001b[1;32m--> 363\u001b[1;33m         \u001b[1;32mreturn\u001b[0m \u001b[0mself\u001b[0m\u001b[1;33m.\u001b[0m\u001b[0mpartial_fit\u001b[0m\u001b[1;33m(\u001b[0m\u001b[0mX\u001b[0m\u001b[1;33m,\u001b[0m \u001b[0my\u001b[0m\u001b[1;33m)\u001b[0m\u001b[1;33m\u001b[0m\u001b[1;33m\u001b[0m\u001b[0m\n\u001b[0m\u001b[0;32m    364\u001b[0m \u001b[1;33m\u001b[0m\u001b[0m\n\u001b[0;32m    365\u001b[0m     \u001b[1;32mdef\u001b[0m \u001b[0mpartial_fit\u001b[0m\u001b[1;33m(\u001b[0m\u001b[0mself\u001b[0m\u001b[1;33m,\u001b[0m \u001b[0mX\u001b[0m\u001b[1;33m,\u001b[0m \u001b[0my\u001b[0m\u001b[1;33m=\u001b[0m\u001b[1;32mNone\u001b[0m\u001b[1;33m)\u001b[0m\u001b[1;33m:\u001b[0m\u001b[1;33m\u001b[0m\u001b[1;33m\u001b[0m\u001b[0m\n",
      "\u001b[1;32m~\\AppData\\Local\\Programs\\Python\\Python39\\lib\\site-packages\\sklearn\\preprocessing\\_data.py\u001b[0m in \u001b[0;36mpartial_fit\u001b[1;34m(self, X, y)\u001b[0m\n\u001b[0;32m    394\u001b[0m \u001b[1;33m\u001b[0m\u001b[0m\n\u001b[0;32m    395\u001b[0m         \u001b[0mfirst_pass\u001b[0m \u001b[1;33m=\u001b[0m \u001b[1;32mnot\u001b[0m \u001b[0mhasattr\u001b[0m\u001b[1;33m(\u001b[0m\u001b[0mself\u001b[0m\u001b[1;33m,\u001b[0m \u001b[1;34m'n_samples_seen_'\u001b[0m\u001b[1;33m)\u001b[0m\u001b[1;33m\u001b[0m\u001b[1;33m\u001b[0m\u001b[0m\n\u001b[1;32m--> 396\u001b[1;33m         X = self._validate_data(X, reset=first_pass,\n\u001b[0m\u001b[0;32m    397\u001b[0m                                 \u001b[0mestimator\u001b[0m\u001b[1;33m=\u001b[0m\u001b[0mself\u001b[0m\u001b[1;33m,\u001b[0m \u001b[0mdtype\u001b[0m\u001b[1;33m=\u001b[0m\u001b[0mFLOAT_DTYPES\u001b[0m\u001b[1;33m,\u001b[0m\u001b[1;33m\u001b[0m\u001b[1;33m\u001b[0m\u001b[0m\n\u001b[0;32m    398\u001b[0m                                 force_all_finite=\"allow-nan\")\n",
      "\u001b[1;32m~\\AppData\\Local\\Programs\\Python\\Python39\\lib\\site-packages\\sklearn\\base.py\u001b[0m in \u001b[0;36m_validate_data\u001b[1;34m(self, X, y, reset, validate_separately, **check_params)\u001b[0m\n\u001b[0;32m    419\u001b[0m             \u001b[0mout\u001b[0m \u001b[1;33m=\u001b[0m \u001b[0mX\u001b[0m\u001b[1;33m\u001b[0m\u001b[1;33m\u001b[0m\u001b[0m\n\u001b[0;32m    420\u001b[0m         \u001b[1;32melif\u001b[0m \u001b[0misinstance\u001b[0m\u001b[1;33m(\u001b[0m\u001b[0my\u001b[0m\u001b[1;33m,\u001b[0m \u001b[0mstr\u001b[0m\u001b[1;33m)\u001b[0m \u001b[1;32mand\u001b[0m \u001b[0my\u001b[0m \u001b[1;33m==\u001b[0m \u001b[1;34m'no_validation'\u001b[0m\u001b[1;33m:\u001b[0m\u001b[1;33m\u001b[0m\u001b[1;33m\u001b[0m\u001b[0m\n\u001b[1;32m--> 421\u001b[1;33m             \u001b[0mX\u001b[0m \u001b[1;33m=\u001b[0m \u001b[0mcheck_array\u001b[0m\u001b[1;33m(\u001b[0m\u001b[0mX\u001b[0m\u001b[1;33m,\u001b[0m \u001b[1;33m**\u001b[0m\u001b[0mcheck_params\u001b[0m\u001b[1;33m)\u001b[0m\u001b[1;33m\u001b[0m\u001b[1;33m\u001b[0m\u001b[0m\n\u001b[0m\u001b[0;32m    422\u001b[0m             \u001b[0mout\u001b[0m \u001b[1;33m=\u001b[0m \u001b[0mX\u001b[0m\u001b[1;33m\u001b[0m\u001b[1;33m\u001b[0m\u001b[0m\n\u001b[0;32m    423\u001b[0m         \u001b[1;32melse\u001b[0m\u001b[1;33m:\u001b[0m\u001b[1;33m\u001b[0m\u001b[1;33m\u001b[0m\u001b[0m\n",
      "\u001b[1;32m~\\AppData\\Local\\Programs\\Python\\Python39\\lib\\site-packages\\sklearn\\utils\\validation.py\u001b[0m in \u001b[0;36minner_f\u001b[1;34m(*args, **kwargs)\u001b[0m\n\u001b[0;32m     61\u001b[0m             \u001b[0mextra_args\u001b[0m \u001b[1;33m=\u001b[0m \u001b[0mlen\u001b[0m\u001b[1;33m(\u001b[0m\u001b[0margs\u001b[0m\u001b[1;33m)\u001b[0m \u001b[1;33m-\u001b[0m \u001b[0mlen\u001b[0m\u001b[1;33m(\u001b[0m\u001b[0mall_args\u001b[0m\u001b[1;33m)\u001b[0m\u001b[1;33m\u001b[0m\u001b[1;33m\u001b[0m\u001b[0m\n\u001b[0;32m     62\u001b[0m             \u001b[1;32mif\u001b[0m \u001b[0mextra_args\u001b[0m \u001b[1;33m<=\u001b[0m \u001b[1;36m0\u001b[0m\u001b[1;33m:\u001b[0m\u001b[1;33m\u001b[0m\u001b[1;33m\u001b[0m\u001b[0m\n\u001b[1;32m---> 63\u001b[1;33m                 \u001b[1;32mreturn\u001b[0m \u001b[0mf\u001b[0m\u001b[1;33m(\u001b[0m\u001b[1;33m*\u001b[0m\u001b[0margs\u001b[0m\u001b[1;33m,\u001b[0m \u001b[1;33m**\u001b[0m\u001b[0mkwargs\u001b[0m\u001b[1;33m)\u001b[0m\u001b[1;33m\u001b[0m\u001b[1;33m\u001b[0m\u001b[0m\n\u001b[0m\u001b[0;32m     64\u001b[0m \u001b[1;33m\u001b[0m\u001b[0m\n\u001b[0;32m     65\u001b[0m             \u001b[1;31m# extra_args > 0\u001b[0m\u001b[1;33m\u001b[0m\u001b[1;33m\u001b[0m\u001b[1;33m\u001b[0m\u001b[0m\n",
      "\u001b[1;32m~\\AppData\\Local\\Programs\\Python\\Python39\\lib\\site-packages\\sklearn\\utils\\validation.py\u001b[0m in \u001b[0;36mcheck_array\u001b[1;34m(array, accept_sparse, accept_large_sparse, dtype, order, copy, force_all_finite, ensure_2d, allow_nd, ensure_min_samples, ensure_min_features, estimator)\u001b[0m\n\u001b[0;32m    614\u001b[0m                     \u001b[0marray\u001b[0m \u001b[1;33m=\u001b[0m \u001b[0marray\u001b[0m\u001b[1;33m.\u001b[0m\u001b[0mastype\u001b[0m\u001b[1;33m(\u001b[0m\u001b[0mdtype\u001b[0m\u001b[1;33m,\u001b[0m \u001b[0mcasting\u001b[0m\u001b[1;33m=\u001b[0m\u001b[1;34m\"unsafe\"\u001b[0m\u001b[1;33m,\u001b[0m \u001b[0mcopy\u001b[0m\u001b[1;33m=\u001b[0m\u001b[1;32mFalse\u001b[0m\u001b[1;33m)\u001b[0m\u001b[1;33m\u001b[0m\u001b[1;33m\u001b[0m\u001b[0m\n\u001b[0;32m    615\u001b[0m                 \u001b[1;32melse\u001b[0m\u001b[1;33m:\u001b[0m\u001b[1;33m\u001b[0m\u001b[1;33m\u001b[0m\u001b[0m\n\u001b[1;32m--> 616\u001b[1;33m                     \u001b[0marray\u001b[0m \u001b[1;33m=\u001b[0m \u001b[0mnp\u001b[0m\u001b[1;33m.\u001b[0m\u001b[0masarray\u001b[0m\u001b[1;33m(\u001b[0m\u001b[0marray\u001b[0m\u001b[1;33m,\u001b[0m \u001b[0morder\u001b[0m\u001b[1;33m=\u001b[0m\u001b[0morder\u001b[0m\u001b[1;33m,\u001b[0m \u001b[0mdtype\u001b[0m\u001b[1;33m=\u001b[0m\u001b[0mdtype\u001b[0m\u001b[1;33m)\u001b[0m\u001b[1;33m\u001b[0m\u001b[1;33m\u001b[0m\u001b[0m\n\u001b[0m\u001b[0;32m    617\u001b[0m             \u001b[1;32mexcept\u001b[0m \u001b[0mComplexWarning\u001b[0m \u001b[1;32mas\u001b[0m \u001b[0mcomplex_warning\u001b[0m\u001b[1;33m:\u001b[0m\u001b[1;33m\u001b[0m\u001b[1;33m\u001b[0m\u001b[0m\n\u001b[0;32m    618\u001b[0m                 raise ValueError(\"Complex data not supported\\n\"\n",
      "\u001b[1;32m~\\AppData\\Local\\Programs\\Python\\Python39\\lib\\site-packages\\numpy\\core\\_asarray.py\u001b[0m in \u001b[0;36masarray\u001b[1;34m(a, dtype, order)\u001b[0m\n\u001b[0;32m     81\u001b[0m \u001b[1;33m\u001b[0m\u001b[0m\n\u001b[0;32m     82\u001b[0m     \"\"\"\n\u001b[1;32m---> 83\u001b[1;33m     \u001b[1;32mreturn\u001b[0m \u001b[0marray\u001b[0m\u001b[1;33m(\u001b[0m\u001b[0ma\u001b[0m\u001b[1;33m,\u001b[0m \u001b[0mdtype\u001b[0m\u001b[1;33m,\u001b[0m \u001b[0mcopy\u001b[0m\u001b[1;33m=\u001b[0m\u001b[1;32mFalse\u001b[0m\u001b[1;33m,\u001b[0m \u001b[0morder\u001b[0m\u001b[1;33m=\u001b[0m\u001b[0morder\u001b[0m\u001b[1;33m)\u001b[0m\u001b[1;33m\u001b[0m\u001b[1;33m\u001b[0m\u001b[0m\n\u001b[0m\u001b[0;32m     84\u001b[0m \u001b[1;33m\u001b[0m\u001b[0m\n\u001b[0;32m     85\u001b[0m \u001b[1;33m\u001b[0m\u001b[0m\n",
      "\u001b[1;32m~\\AppData\\Local\\Programs\\Python\\Python39\\lib\\site-packages\\pandas\\core\\series.py\u001b[0m in \u001b[0;36m__array__\u001b[1;34m(self, dtype)\u001b[0m\n\u001b[0;32m    795\u001b[0m               dtype='datetime64[ns]')\n\u001b[0;32m    796\u001b[0m         \"\"\"\n\u001b[1;32m--> 797\u001b[1;33m         \u001b[1;32mreturn\u001b[0m \u001b[0mnp\u001b[0m\u001b[1;33m.\u001b[0m\u001b[0masarray\u001b[0m\u001b[1;33m(\u001b[0m\u001b[0mself\u001b[0m\u001b[1;33m.\u001b[0m\u001b[0marray\u001b[0m\u001b[1;33m,\u001b[0m \u001b[0mdtype\u001b[0m\u001b[1;33m)\u001b[0m\u001b[1;33m\u001b[0m\u001b[1;33m\u001b[0m\u001b[0m\n\u001b[0m\u001b[0;32m    798\u001b[0m \u001b[1;33m\u001b[0m\u001b[0m\n\u001b[0;32m    799\u001b[0m     \u001b[1;31m# ----------------------------------------------------------------------\u001b[0m\u001b[1;33m\u001b[0m\u001b[1;33m\u001b[0m\u001b[1;33m\u001b[0m\u001b[0m\n",
      "\u001b[1;32m~\\AppData\\Local\\Programs\\Python\\Python39\\lib\\site-packages\\numpy\\core\\_asarray.py\u001b[0m in \u001b[0;36masarray\u001b[1;34m(a, dtype, order)\u001b[0m\n\u001b[0;32m     81\u001b[0m \u001b[1;33m\u001b[0m\u001b[0m\n\u001b[0;32m     82\u001b[0m     \"\"\"\n\u001b[1;32m---> 83\u001b[1;33m     \u001b[1;32mreturn\u001b[0m \u001b[0marray\u001b[0m\u001b[1;33m(\u001b[0m\u001b[0ma\u001b[0m\u001b[1;33m,\u001b[0m \u001b[0mdtype\u001b[0m\u001b[1;33m,\u001b[0m \u001b[0mcopy\u001b[0m\u001b[1;33m=\u001b[0m\u001b[1;32mFalse\u001b[0m\u001b[1;33m,\u001b[0m \u001b[0morder\u001b[0m\u001b[1;33m=\u001b[0m\u001b[0morder\u001b[0m\u001b[1;33m)\u001b[0m\u001b[1;33m\u001b[0m\u001b[1;33m\u001b[0m\u001b[0m\n\u001b[0m\u001b[0;32m     84\u001b[0m \u001b[1;33m\u001b[0m\u001b[0m\n\u001b[0;32m     85\u001b[0m \u001b[1;33m\u001b[0m\u001b[0m\n",
      "\u001b[1;32m~\\AppData\\Local\\Programs\\Python\\Python39\\lib\\site-packages\\pandas\\core\\arrays\\numpy_.py\u001b[0m in \u001b[0;36m__array__\u001b[1;34m(self, dtype)\u001b[0m\n\u001b[0;32m    209\u001b[0m \u001b[1;33m\u001b[0m\u001b[0m\n\u001b[0;32m    210\u001b[0m     \u001b[1;32mdef\u001b[0m \u001b[0m__array__\u001b[0m\u001b[1;33m(\u001b[0m\u001b[0mself\u001b[0m\u001b[1;33m,\u001b[0m \u001b[0mdtype\u001b[0m\u001b[1;33m=\u001b[0m\u001b[1;32mNone\u001b[0m\u001b[1;33m)\u001b[0m \u001b[1;33m->\u001b[0m \u001b[0mnp\u001b[0m\u001b[1;33m.\u001b[0m\u001b[0mndarray\u001b[0m\u001b[1;33m:\u001b[0m\u001b[1;33m\u001b[0m\u001b[1;33m\u001b[0m\u001b[0m\n\u001b[1;32m--> 211\u001b[1;33m         \u001b[1;32mreturn\u001b[0m \u001b[0mnp\u001b[0m\u001b[1;33m.\u001b[0m\u001b[0masarray\u001b[0m\u001b[1;33m(\u001b[0m\u001b[0mself\u001b[0m\u001b[1;33m.\u001b[0m\u001b[0m_ndarray\u001b[0m\u001b[1;33m,\u001b[0m \u001b[0mdtype\u001b[0m\u001b[1;33m=\u001b[0m\u001b[0mdtype\u001b[0m\u001b[1;33m)\u001b[0m\u001b[1;33m\u001b[0m\u001b[1;33m\u001b[0m\u001b[0m\n\u001b[0m\u001b[0;32m    212\u001b[0m \u001b[1;33m\u001b[0m\u001b[0m\n\u001b[0;32m    213\u001b[0m     \u001b[0m_HANDLED_TYPES\u001b[0m \u001b[1;33m=\u001b[0m \u001b[1;33m(\u001b[0m\u001b[0mnp\u001b[0m\u001b[1;33m.\u001b[0m\u001b[0mndarray\u001b[0m\u001b[1;33m,\u001b[0m \u001b[0mnumbers\u001b[0m\u001b[1;33m.\u001b[0m\u001b[0mNumber\u001b[0m\u001b[1;33m)\u001b[0m\u001b[1;33m\u001b[0m\u001b[1;33m\u001b[0m\u001b[0m\n",
      "\u001b[1;32m~\\AppData\\Local\\Programs\\Python\\Python39\\lib\\site-packages\\numpy\\core\\_asarray.py\u001b[0m in \u001b[0;36masarray\u001b[1;34m(a, dtype, order)\u001b[0m\n\u001b[0;32m     81\u001b[0m \u001b[1;33m\u001b[0m\u001b[0m\n\u001b[0;32m     82\u001b[0m     \"\"\"\n\u001b[1;32m---> 83\u001b[1;33m     \u001b[1;32mreturn\u001b[0m \u001b[0marray\u001b[0m\u001b[1;33m(\u001b[0m\u001b[0ma\u001b[0m\u001b[1;33m,\u001b[0m \u001b[0mdtype\u001b[0m\u001b[1;33m,\u001b[0m \u001b[0mcopy\u001b[0m\u001b[1;33m=\u001b[0m\u001b[1;32mFalse\u001b[0m\u001b[1;33m,\u001b[0m \u001b[0morder\u001b[0m\u001b[1;33m=\u001b[0m\u001b[0morder\u001b[0m\u001b[1;33m)\u001b[0m\u001b[1;33m\u001b[0m\u001b[1;33m\u001b[0m\u001b[0m\n\u001b[0m\u001b[0;32m     84\u001b[0m \u001b[1;33m\u001b[0m\u001b[0m\n\u001b[0;32m     85\u001b[0m \u001b[1;33m\u001b[0m\u001b[0m\n",
      "\u001b[1;31mValueError\u001b[0m: could not convert string to float: 'Ideal'"
     ]
    }
   ],
   "source": [
    "scaler = MinMaxScaler() #Normaliza los datos de 0 a 1\n",
    "scaler.fit(df[\"cut\"])\n",
    "X_normalized = scaler.transform(df[\"cut\"])\n",
    "X_normalized"
   ]
  },
  {
   "cell_type": "code",
   "execution_count": 27,
   "metadata": {},
   "outputs": [],
   "source": [
    "le = preprocessing.LabelEncoder()\n",
    "cut= le.fit_transform(df[\"cut\"])\n",
    "df[\"cut\"]= cut"
   ]
  },
  {
   "cell_type": "code",
   "execution_count": 28,
   "metadata": {},
   "outputs": [],
   "source": [
    "le = preprocessing.LabelEncoder()\n",
    "color= le.fit_transform(df[\"color\"])\n",
    "df[\"color\"]= color"
   ]
  },
  {
   "cell_type": "code",
   "execution_count": 29,
   "metadata": {},
   "outputs": [],
   "source": [
    "le = preprocessing.LabelEncoder()\n",
    "clarity= le.fit_transform(df[\"color\"])\n",
    "df[\"clarity\"]= clarity"
   ]
  },
  {
   "cell_type": "code",
   "execution_count": 31,
   "metadata": {},
   "outputs": [
    {
     "output_type": "execute_result",
     "data": {
      "text/plain": [
       "            Unnamed: 0     carat       cut     color   clarity     depth  \\\n",
       "Unnamed: 0    1.000000  0.005524  0.006349 -0.000942 -0.000942  0.008138   \n",
       "carat         0.005524  1.000000  0.018551  0.285737  0.285737  0.029414   \n",
       "cut           0.006349  0.018551  1.000000 -0.000943 -0.000943 -0.195392   \n",
       "color        -0.000942  0.285737 -0.000943  1.000000  1.000000  0.048637   \n",
       "clarity      -0.000942  0.285737 -0.000943  1.000000  1.000000  0.048637   \n",
       "depth         0.008138  0.029414 -0.195392  0.048637  0.048637  1.000000   \n",
       "table        -0.007051  0.181273  0.149833  0.022557  0.022557 -0.288987   \n",
       "x             0.003705  0.975077  0.023399  0.263915  0.263915 -0.023389   \n",
       "y             0.005897  0.944445  0.028351  0.255262  0.255262 -0.027880   \n",
       "z             0.005142  0.967289  0.002183  0.266589  0.266589  0.097399   \n",
       "price         0.007212  0.921887  0.039499  0.166340  0.166340 -0.009228   \n",
       "\n",
       "               table         x         y         z     price  \n",
       "Unnamed: 0 -0.007051  0.003705  0.005897  0.005142  0.007212  \n",
       "carat       0.181273  0.975077  0.944445  0.967289  0.921887  \n",
       "cut         0.149833  0.023399  0.028351  0.002183  0.039499  \n",
       "color       0.022557  0.263915  0.255262  0.266589  0.166340  \n",
       "clarity     0.022557  0.263915  0.255262  0.266589  0.166340  \n",
       "depth      -0.288987 -0.023389 -0.027880  0.097399 -0.009228  \n",
       "table       1.000000  0.193986  0.180449  0.153175  0.127338  \n",
       "x           0.193986  1.000000  0.966827  0.985080  0.883163  \n",
       "y           0.180449  0.966827  1.000000  0.959957  0.857564  \n",
       "z           0.153175  0.985080  0.959957  1.000000  0.872855  \n",
       "price       0.127338  0.883163  0.857564  0.872855  1.000000  "
      ],
      "text/html": "<div>\n<style scoped>\n    .dataframe tbody tr th:only-of-type {\n        vertical-align: middle;\n    }\n\n    .dataframe tbody tr th {\n        vertical-align: top;\n    }\n\n    .dataframe thead th {\n        text-align: right;\n    }\n</style>\n<table border=\"1\" class=\"dataframe\">\n  <thead>\n    <tr style=\"text-align: right;\">\n      <th></th>\n      <th>Unnamed: 0</th>\n      <th>carat</th>\n      <th>cut</th>\n      <th>color</th>\n      <th>clarity</th>\n      <th>depth</th>\n      <th>table</th>\n      <th>x</th>\n      <th>y</th>\n      <th>z</th>\n      <th>price</th>\n    </tr>\n  </thead>\n  <tbody>\n    <tr>\n      <th>Unnamed: 0</th>\n      <td>1.000000</td>\n      <td>0.005524</td>\n      <td>0.006349</td>\n      <td>-0.000942</td>\n      <td>-0.000942</td>\n      <td>0.008138</td>\n      <td>-0.007051</td>\n      <td>0.003705</td>\n      <td>0.005897</td>\n      <td>0.005142</td>\n      <td>0.007212</td>\n    </tr>\n    <tr>\n      <th>carat</th>\n      <td>0.005524</td>\n      <td>1.000000</td>\n      <td>0.018551</td>\n      <td>0.285737</td>\n      <td>0.285737</td>\n      <td>0.029414</td>\n      <td>0.181273</td>\n      <td>0.975077</td>\n      <td>0.944445</td>\n      <td>0.967289</td>\n      <td>0.921887</td>\n    </tr>\n    <tr>\n      <th>cut</th>\n      <td>0.006349</td>\n      <td>0.018551</td>\n      <td>1.000000</td>\n      <td>-0.000943</td>\n      <td>-0.000943</td>\n      <td>-0.195392</td>\n      <td>0.149833</td>\n      <td>0.023399</td>\n      <td>0.028351</td>\n      <td>0.002183</td>\n      <td>0.039499</td>\n    </tr>\n    <tr>\n      <th>color</th>\n      <td>-0.000942</td>\n      <td>0.285737</td>\n      <td>-0.000943</td>\n      <td>1.000000</td>\n      <td>1.000000</td>\n      <td>0.048637</td>\n      <td>0.022557</td>\n      <td>0.263915</td>\n      <td>0.255262</td>\n      <td>0.266589</td>\n      <td>0.166340</td>\n    </tr>\n    <tr>\n      <th>clarity</th>\n      <td>-0.000942</td>\n      <td>0.285737</td>\n      <td>-0.000943</td>\n      <td>1.000000</td>\n      <td>1.000000</td>\n      <td>0.048637</td>\n      <td>0.022557</td>\n      <td>0.263915</td>\n      <td>0.255262</td>\n      <td>0.266589</td>\n      <td>0.166340</td>\n    </tr>\n    <tr>\n      <th>depth</th>\n      <td>0.008138</td>\n      <td>0.029414</td>\n      <td>-0.195392</td>\n      <td>0.048637</td>\n      <td>0.048637</td>\n      <td>1.000000</td>\n      <td>-0.288987</td>\n      <td>-0.023389</td>\n      <td>-0.027880</td>\n      <td>0.097399</td>\n      <td>-0.009228</td>\n    </tr>\n    <tr>\n      <th>table</th>\n      <td>-0.007051</td>\n      <td>0.181273</td>\n      <td>0.149833</td>\n      <td>0.022557</td>\n      <td>0.022557</td>\n      <td>-0.288987</td>\n      <td>1.000000</td>\n      <td>0.193986</td>\n      <td>0.180449</td>\n      <td>0.153175</td>\n      <td>0.127338</td>\n    </tr>\n    <tr>\n      <th>x</th>\n      <td>0.003705</td>\n      <td>0.975077</td>\n      <td>0.023399</td>\n      <td>0.263915</td>\n      <td>0.263915</td>\n      <td>-0.023389</td>\n      <td>0.193986</td>\n      <td>1.000000</td>\n      <td>0.966827</td>\n      <td>0.985080</td>\n      <td>0.883163</td>\n    </tr>\n    <tr>\n      <th>y</th>\n      <td>0.005897</td>\n      <td>0.944445</td>\n      <td>0.028351</td>\n      <td>0.255262</td>\n      <td>0.255262</td>\n      <td>-0.027880</td>\n      <td>0.180449</td>\n      <td>0.966827</td>\n      <td>1.000000</td>\n      <td>0.959957</td>\n      <td>0.857564</td>\n    </tr>\n    <tr>\n      <th>z</th>\n      <td>0.005142</td>\n      <td>0.967289</td>\n      <td>0.002183</td>\n      <td>0.266589</td>\n      <td>0.266589</td>\n      <td>0.097399</td>\n      <td>0.153175</td>\n      <td>0.985080</td>\n      <td>0.959957</td>\n      <td>1.000000</td>\n      <td>0.872855</td>\n    </tr>\n    <tr>\n      <th>price</th>\n      <td>0.007212</td>\n      <td>0.921887</td>\n      <td>0.039499</td>\n      <td>0.166340</td>\n      <td>0.166340</td>\n      <td>-0.009228</td>\n      <td>0.127338</td>\n      <td>0.883163</td>\n      <td>0.857564</td>\n      <td>0.872855</td>\n      <td>1.000000</td>\n    </tr>\n  </tbody>\n</table>\n</div>"
     },
     "metadata": {},
     "execution_count": 31
    }
   ],
   "source": [
    "df.corr()"
   ]
  },
  {
   "cell_type": "code",
   "execution_count": 36,
   "metadata": {},
   "outputs": [],
   "source": [
    "from sklearn.pipeline import Pipeline\n",
    "from sklearn.model_selection import RepeatedKFold\n",
    "from sklearn.model_selection import GridSearchCV\n",
    "pipe = Pipeline(steps=[('Regression', RandomForestRegressor())])\n",
    "random_forest_params = {\n",
    "    'Regression': [RandomForestRegressor()],\n",
    "    'Regression__n_estimators': [10, 100, 1000],\n",
    "    'Regression__max_features': [1, 2, 3]\n",
    "    }"
   ]
  },
  {
   "cell_type": "code",
   "execution_count": 37,
   "metadata": {},
   "outputs": [
    {
     "output_type": "stream",
     "name": "stdout",
     "text": [
      "\n############################\n\nbest estimator: RandomForestRegressor(max_features=3, n_estimators=1000)\n\n############################\n\nclf.best_params_ {'Regression': RandomForestRegressor(max_features=3, n_estimators=1000), 'Regression__max_features': 3, 'Regression__n_estimators': 1000}\n\n############################\n\nclf.best_score 0.9534917615477332\n"
     ]
    }
   ],
   "source": [
    "cv = RepeatedKFold(n_splits=10, n_repeats=1, random_state=1)\n",
    "# Create grid search \n",
    "clf = GridSearchCV(estimator=pipe, param_grid=random_forest_params, cv=cv, verbose=0, n_jobs=-1)\n",
    "\n",
    "# Fit grid search\n",
    "best_model = clf.fit(X_train, y_train)\n",
    "# View best model\n",
    "separator = \"\\n############################\\n\"\n",
    "print(separator)\n",
    "print(\"best estimator:\", best_model.best_estimator_.get_params()['Regression'])\n",
    "print(separator)\n",
    "print(\"clf.best_params_\", clf.best_params_)\n",
    "print(separator)\n",
    "# Mean cross-validated score of the best_estimator\n",
    "print(\"clf.best_score\", clf.best_score_)\n",
    "#print('RMSE:', np.sqrt(metrics.mean_squared_error(y_test, y_pred)))"
   ]
  },
  {
   "cell_type": "code",
   "execution_count": 39,
   "metadata": {},
   "outputs": [
    {
     "output_type": "stream",
     "name": "stdout",
     "text": [
      "RMSE: 877.0069716541301\n"
     ]
    }
   ],
   "source": [
    "X_train, X_test, y_train, y_test = train_test_split(X, y, test_size=0.2, random_state=10)\n",
    "model = RandomForestRegressor(max_features=3, n_estimators=1000)\n",
    "train= model.fit(X_train ,y_train)\n",
    "y_pred = model.predict(X_test)\n",
    "print('RMSE:', np.sqrt(metrics.mean_squared_error(y_test, y_pred)))\n"
   ]
  },
  {
   "cell_type": "code",
   "execution_count": 41,
   "metadata": {},
   "outputs": [
    {
     "output_type": "execute_result",
     "data": {
      "text/plain": [
       "RandomForestRegressor(max_features=3, n_estimators=1000)"
      ]
     },
     "metadata": {},
     "execution_count": 41
    }
   ],
   "source": [
    "model.fit(X,y)"
   ]
  },
  {
   "cell_type": "code",
   "execution_count": 43,
   "metadata": {},
   "outputs": [
    {
     "output_type": "execute_result",
     "data": {
      "text/plain": [
       "       carat  cut  color  clarity  depth  table    x    y    z\n",
       "0       1.21    2      0        3   63.0   57.0  7.0  7.0  4.0\n",
       "1       0.28    4      1        2   64.0   56.0  4.0  4.0  3.0\n",
       "2       0.42    3      1        3   61.2   58.0  5.0  5.0  3.0\n",
       "3       0.26    2      0        1   61.1   57.0  4.0  4.0  3.0\n",
       "4       1.10    1      0        4   63.4   57.0  7.0  7.0  4.0\n",
       "...      ...  ...    ...      ...    ...    ...  ...  ...  ...\n",
       "40340   1.55    3      0        3   61.3   61.0  7.0  7.0  5.0\n",
       "40341   0.36    2      1        4   60.6   56.0  5.0  5.0  3.0\n",
       "40342   0.57    4      0        3   62.2   55.0  5.0  5.0  3.0\n",
       "40343   1.01    4      1        1   59.6   62.0  6.0  7.0  4.0\n",
       "40344   0.54    2      1        4   60.4   57.0  5.0  5.0  3.0\n",
       "\n",
       "[40345 rows x 9 columns]"
      ],
      "text/html": "<div>\n<style scoped>\n    .dataframe tbody tr th:only-of-type {\n        vertical-align: middle;\n    }\n\n    .dataframe tbody tr th {\n        vertical-align: top;\n    }\n\n    .dataframe thead th {\n        text-align: right;\n    }\n</style>\n<table border=\"1\" class=\"dataframe\">\n  <thead>\n    <tr style=\"text-align: right;\">\n      <th></th>\n      <th>carat</th>\n      <th>cut</th>\n      <th>color</th>\n      <th>clarity</th>\n      <th>depth</th>\n      <th>table</th>\n      <th>x</th>\n      <th>y</th>\n      <th>z</th>\n    </tr>\n  </thead>\n  <tbody>\n    <tr>\n      <th>0</th>\n      <td>1.21</td>\n      <td>2</td>\n      <td>0</td>\n      <td>3</td>\n      <td>63.0</td>\n      <td>57.0</td>\n      <td>7.0</td>\n      <td>7.0</td>\n      <td>4.0</td>\n    </tr>\n    <tr>\n      <th>1</th>\n      <td>0.28</td>\n      <td>4</td>\n      <td>1</td>\n      <td>2</td>\n      <td>64.0</td>\n      <td>56.0</td>\n      <td>4.0</td>\n      <td>4.0</td>\n      <td>3.0</td>\n    </tr>\n    <tr>\n      <th>2</th>\n      <td>0.42</td>\n      <td>3</td>\n      <td>1</td>\n      <td>3</td>\n      <td>61.2</td>\n      <td>58.0</td>\n      <td>5.0</td>\n      <td>5.0</td>\n      <td>3.0</td>\n    </tr>\n    <tr>\n      <th>3</th>\n      <td>0.26</td>\n      <td>2</td>\n      <td>0</td>\n      <td>1</td>\n      <td>61.1</td>\n      <td>57.0</td>\n      <td>4.0</td>\n      <td>4.0</td>\n      <td>3.0</td>\n    </tr>\n    <tr>\n      <th>4</th>\n      <td>1.10</td>\n      <td>1</td>\n      <td>0</td>\n      <td>4</td>\n      <td>63.4</td>\n      <td>57.0</td>\n      <td>7.0</td>\n      <td>7.0</td>\n      <td>4.0</td>\n    </tr>\n    <tr>\n      <th>...</th>\n      <td>...</td>\n      <td>...</td>\n      <td>...</td>\n      <td>...</td>\n      <td>...</td>\n      <td>...</td>\n      <td>...</td>\n      <td>...</td>\n      <td>...</td>\n    </tr>\n    <tr>\n      <th>40340</th>\n      <td>1.55</td>\n      <td>3</td>\n      <td>0</td>\n      <td>3</td>\n      <td>61.3</td>\n      <td>61.0</td>\n      <td>7.0</td>\n      <td>7.0</td>\n      <td>5.0</td>\n    </tr>\n    <tr>\n      <th>40341</th>\n      <td>0.36</td>\n      <td>2</td>\n      <td>1</td>\n      <td>4</td>\n      <td>60.6</td>\n      <td>56.0</td>\n      <td>5.0</td>\n      <td>5.0</td>\n      <td>3.0</td>\n    </tr>\n    <tr>\n      <th>40342</th>\n      <td>0.57</td>\n      <td>4</td>\n      <td>0</td>\n      <td>3</td>\n      <td>62.2</td>\n      <td>55.0</td>\n      <td>5.0</td>\n      <td>5.0</td>\n      <td>3.0</td>\n    </tr>\n    <tr>\n      <th>40343</th>\n      <td>1.01</td>\n      <td>4</td>\n      <td>1</td>\n      <td>1</td>\n      <td>59.6</td>\n      <td>62.0</td>\n      <td>6.0</td>\n      <td>7.0</td>\n      <td>4.0</td>\n    </tr>\n    <tr>\n      <th>40344</th>\n      <td>0.54</td>\n      <td>2</td>\n      <td>1</td>\n      <td>4</td>\n      <td>60.4</td>\n      <td>57.0</td>\n      <td>5.0</td>\n      <td>5.0</td>\n      <td>3.0</td>\n    </tr>\n  </tbody>\n</table>\n<p>40345 rows × 9 columns</p>\n</div>"
     },
     "metadata": {},
     "execution_count": 43
    }
   ],
   "source": [
    "X"
   ]
  },
  {
   "cell_type": "code",
   "execution_count": 44,
   "metadata": {},
   "outputs": [],
   "source": [
    "le = preprocessing.LabelEncoder()\n",
    "cut= le.fit_transform(to_pred[\"cut\"])\n",
    "to_pred[\"cut\"]= cut"
   ]
  },
  {
   "cell_type": "code",
   "execution_count": 45,
   "metadata": {},
   "outputs": [],
   "source": [
    "le = preprocessing.LabelEncoder()\n",
    "cut= le.fit_transform(to_pred[\"color\"])\n",
    "to_pred[\"color\"]= cut"
   ]
  },
  {
   "cell_type": "code",
   "execution_count": 46,
   "metadata": {},
   "outputs": [],
   "source": [
    "le = preprocessing.LabelEncoder()\n",
    "cut= le.fit_transform(to_pred[\"clarity\"])\n",
    "to_pred[\"clarity\"]= cut"
   ]
  },
  {
   "cell_type": "code",
   "execution_count": 48,
   "metadata": {},
   "outputs": [
    {
     "output_type": "execute_result",
     "data": {
      "text/plain": [
       "       carat  cut  color  clarity  depth  table     x     y     z\n",
       "0       0.30    2      4        3   60.0   56.0  4.41  4.43  2.65\n",
       "1       0.34    2      0        1   62.1   57.0  4.52  4.46  2.79\n",
       "2       1.57    4      5        5   60.3   58.0  7.58  7.55  4.56\n",
       "3       0.31    2      4        5   61.8   57.0  4.32  4.36  2.68\n",
       "4       1.51    1      5        6   64.0   60.0  7.26  7.21  4.63\n",
       "...      ...  ...    ...      ...    ...    ...   ...   ...   ...\n",
       "13444   1.05    2      2        3   60.3   55.0  6.55  6.68  3.99\n",
       "13445   0.27    4      3        4   61.9   56.0  4.13  4.16  2.56\n",
       "13446   1.50    3      0        5   61.8   60.0  7.30  7.37  4.53\n",
       "13447   1.70    3      2        3   60.2   61.0  7.79  7.68  4.66\n",
       "13448   0.30    2      0        5   61.2   57.0  4.29  4.34  2.64\n",
       "\n",
       "[13449 rows x 9 columns]"
      ],
      "text/html": "<div>\n<style scoped>\n    .dataframe tbody tr th:only-of-type {\n        vertical-align: middle;\n    }\n\n    .dataframe tbody tr th {\n        vertical-align: top;\n    }\n\n    .dataframe thead th {\n        text-align: right;\n    }\n</style>\n<table border=\"1\" class=\"dataframe\">\n  <thead>\n    <tr style=\"text-align: right;\">\n      <th></th>\n      <th>carat</th>\n      <th>cut</th>\n      <th>color</th>\n      <th>clarity</th>\n      <th>depth</th>\n      <th>table</th>\n      <th>x</th>\n      <th>y</th>\n      <th>z</th>\n    </tr>\n  </thead>\n  <tbody>\n    <tr>\n      <th>0</th>\n      <td>0.30</td>\n      <td>2</td>\n      <td>4</td>\n      <td>3</td>\n      <td>60.0</td>\n      <td>56.0</td>\n      <td>4.41</td>\n      <td>4.43</td>\n      <td>2.65</td>\n    </tr>\n    <tr>\n      <th>1</th>\n      <td>0.34</td>\n      <td>2</td>\n      <td>0</td>\n      <td>1</td>\n      <td>62.1</td>\n      <td>57.0</td>\n      <td>4.52</td>\n      <td>4.46</td>\n      <td>2.79</td>\n    </tr>\n    <tr>\n      <th>2</th>\n      <td>1.57</td>\n      <td>4</td>\n      <td>5</td>\n      <td>5</td>\n      <td>60.3</td>\n      <td>58.0</td>\n      <td>7.58</td>\n      <td>7.55</td>\n      <td>4.56</td>\n    </tr>\n    <tr>\n      <th>3</th>\n      <td>0.31</td>\n      <td>2</td>\n      <td>4</td>\n      <td>5</td>\n      <td>61.8</td>\n      <td>57.0</td>\n      <td>4.32</td>\n      <td>4.36</td>\n      <td>2.68</td>\n    </tr>\n    <tr>\n      <th>4</th>\n      <td>1.51</td>\n      <td>1</td>\n      <td>5</td>\n      <td>6</td>\n      <td>64.0</td>\n      <td>60.0</td>\n      <td>7.26</td>\n      <td>7.21</td>\n      <td>4.63</td>\n    </tr>\n    <tr>\n      <th>...</th>\n      <td>...</td>\n      <td>...</td>\n      <td>...</td>\n      <td>...</td>\n      <td>...</td>\n      <td>...</td>\n      <td>...</td>\n      <td>...</td>\n      <td>...</td>\n    </tr>\n    <tr>\n      <th>13444</th>\n      <td>1.05</td>\n      <td>2</td>\n      <td>2</td>\n      <td>3</td>\n      <td>60.3</td>\n      <td>55.0</td>\n      <td>6.55</td>\n      <td>6.68</td>\n      <td>3.99</td>\n    </tr>\n    <tr>\n      <th>13445</th>\n      <td>0.27</td>\n      <td>4</td>\n      <td>3</td>\n      <td>4</td>\n      <td>61.9</td>\n      <td>56.0</td>\n      <td>4.13</td>\n      <td>4.16</td>\n      <td>2.56</td>\n    </tr>\n    <tr>\n      <th>13446</th>\n      <td>1.50</td>\n      <td>3</td>\n      <td>0</td>\n      <td>5</td>\n      <td>61.8</td>\n      <td>60.0</td>\n      <td>7.30</td>\n      <td>7.37</td>\n      <td>4.53</td>\n    </tr>\n    <tr>\n      <th>13447</th>\n      <td>1.70</td>\n      <td>3</td>\n      <td>2</td>\n      <td>3</td>\n      <td>60.2</td>\n      <td>61.0</td>\n      <td>7.79</td>\n      <td>7.68</td>\n      <td>4.66</td>\n    </tr>\n    <tr>\n      <th>13448</th>\n      <td>0.30</td>\n      <td>2</td>\n      <td>0</td>\n      <td>5</td>\n      <td>61.2</td>\n      <td>57.0</td>\n      <td>4.29</td>\n      <td>4.34</td>\n      <td>2.64</td>\n    </tr>\n  </tbody>\n</table>\n<p>13449 rows × 9 columns</p>\n</div>"
     },
     "metadata": {},
     "execution_count": 48
    }
   ],
   "source": [
    "to_pred = to_pred.drop(columns=\"Unnamed: 0\")\n",
    "to_pred"
   ]
  },
  {
   "cell_type": "code",
   "execution_count": 51,
   "metadata": {},
   "outputs": [],
   "source": [
    "pred = model.predict(to_pred)"
   ]
  },
  {
   "cell_type": "code",
   "execution_count": 53,
   "metadata": {},
   "outputs": [
    {
     "output_type": "execute_result",
     "data": {
      "text/plain": [
       "          id         price\n",
       "0          0    691.146681\n",
       "1          1   1012.320225\n",
       "2          2   7477.687167\n",
       "3          3    513.557445\n",
       "4          4   5941.304200\n",
       "...      ...           ...\n",
       "13444  13444   7432.508083\n",
       "13445  13445    488.996000\n",
       "13446  13446   4796.738848\n",
       "13447  13447  16247.067500\n",
       "13448  13448    455.884700\n",
       "\n",
       "[13449 rows x 2 columns]"
      ],
      "text/html": "<div>\n<style scoped>\n    .dataframe tbody tr th:only-of-type {\n        vertical-align: middle;\n    }\n\n    .dataframe tbody tr th {\n        vertical-align: top;\n    }\n\n    .dataframe thead th {\n        text-align: right;\n    }\n</style>\n<table border=\"1\" class=\"dataframe\">\n  <thead>\n    <tr style=\"text-align: right;\">\n      <th></th>\n      <th>id</th>\n      <th>price</th>\n    </tr>\n  </thead>\n  <tbody>\n    <tr>\n      <th>0</th>\n      <td>0</td>\n      <td>691.146681</td>\n    </tr>\n    <tr>\n      <th>1</th>\n      <td>1</td>\n      <td>1012.320225</td>\n    </tr>\n    <tr>\n      <th>2</th>\n      <td>2</td>\n      <td>7477.687167</td>\n    </tr>\n    <tr>\n      <th>3</th>\n      <td>3</td>\n      <td>513.557445</td>\n    </tr>\n    <tr>\n      <th>4</th>\n      <td>4</td>\n      <td>5941.304200</td>\n    </tr>\n    <tr>\n      <th>...</th>\n      <td>...</td>\n      <td>...</td>\n    </tr>\n    <tr>\n      <th>13444</th>\n      <td>13444</td>\n      <td>7432.508083</td>\n    </tr>\n    <tr>\n      <th>13445</th>\n      <td>13445</td>\n      <td>488.996000</td>\n    </tr>\n    <tr>\n      <th>13446</th>\n      <td>13446</td>\n      <td>4796.738848</td>\n    </tr>\n    <tr>\n      <th>13447</th>\n      <td>13447</td>\n      <td>16247.067500</td>\n    </tr>\n    <tr>\n      <th>13448</th>\n      <td>13448</td>\n      <td>455.884700</td>\n    </tr>\n  </tbody>\n</table>\n<p>13449 rows × 2 columns</p>\n</div>"
     },
     "metadata": {},
     "execution_count": 53
    }
   ],
   "source": [
    "submission5 = pd.DataFrame({\"id\": submission5.index,\"price\": pred})\n",
    "submission5\n"
   ]
  },
  {
   "cell_type": "code",
   "execution_count": 54,
   "metadata": {},
   "outputs": [],
   "source": [
    "submission5.to_csv(\"to_submit5.csv\", index = False)"
   ]
  },
  {
   "cell_type": "code",
   "execution_count": 11,
   "metadata": {},
   "outputs": [],
   "source": [
    "X[\"x\"]= round(X[\"x\"])\n",
    "X[\"y\"]= round(X[\"y\"])\n",
    "X[\"z\"]= round(X[\"z\"])"
   ]
  },
  {
   "source": [
    "Predictions"
   ],
   "cell_type": "markdown",
   "metadata": {}
  },
  {
   "cell_type": "code",
   "execution_count": 42,
   "metadata": {},
   "outputs": [
    {
     "output_type": "execute_result",
     "data": {
      "text/plain": [
       "       Unnamed: 0  carat        cut color clarity  depth  table     x     y  \\\n",
       "0               0   0.30      Ideal     H     SI2   60.0   56.0  4.41  4.43   \n",
       "1               1   0.34      Ideal     D      IF   62.1   57.0  4.52  4.46   \n",
       "2               2   1.57  Very Good     I     VS2   60.3   58.0  7.58  7.55   \n",
       "3               3   0.31      Ideal     H     VS2   61.8   57.0  4.32  4.36   \n",
       "4               4   1.51       Good     I    VVS1   64.0   60.0  7.26  7.21   \n",
       "...           ...    ...        ...   ...     ...    ...    ...   ...   ...   \n",
       "13444       13444   1.05      Ideal     F     SI2   60.3   55.0  6.55  6.68   \n",
       "13445       13445   0.27  Very Good     G     VS1   61.9   56.0  4.13  4.16   \n",
       "13446       13446   1.50    Premium     D     VS2   61.8   60.0  7.30  7.37   \n",
       "13447       13447   1.70    Premium     F     SI2   60.2   61.0  7.79  7.68   \n",
       "13448       13448   0.30      Ideal     D     VS2   61.2   57.0  4.29  4.34   \n",
       "\n",
       "          z  \n",
       "0      2.65  \n",
       "1      2.79  \n",
       "2      4.56  \n",
       "3      2.68  \n",
       "4      4.63  \n",
       "...     ...  \n",
       "13444  3.99  \n",
       "13445  2.56  \n",
       "13446  4.53  \n",
       "13447  4.66  \n",
       "13448  2.64  \n",
       "\n",
       "[13449 rows x 10 columns]"
      ],
      "text/html": "<div>\n<style scoped>\n    .dataframe tbody tr th:only-of-type {\n        vertical-align: middle;\n    }\n\n    .dataframe tbody tr th {\n        vertical-align: top;\n    }\n\n    .dataframe thead th {\n        text-align: right;\n    }\n</style>\n<table border=\"1\" class=\"dataframe\">\n  <thead>\n    <tr style=\"text-align: right;\">\n      <th></th>\n      <th>Unnamed: 0</th>\n      <th>carat</th>\n      <th>cut</th>\n      <th>color</th>\n      <th>clarity</th>\n      <th>depth</th>\n      <th>table</th>\n      <th>x</th>\n      <th>y</th>\n      <th>z</th>\n    </tr>\n  </thead>\n  <tbody>\n    <tr>\n      <th>0</th>\n      <td>0</td>\n      <td>0.30</td>\n      <td>Ideal</td>\n      <td>H</td>\n      <td>SI2</td>\n      <td>60.0</td>\n      <td>56.0</td>\n      <td>4.41</td>\n      <td>4.43</td>\n      <td>2.65</td>\n    </tr>\n    <tr>\n      <th>1</th>\n      <td>1</td>\n      <td>0.34</td>\n      <td>Ideal</td>\n      <td>D</td>\n      <td>IF</td>\n      <td>62.1</td>\n      <td>57.0</td>\n      <td>4.52</td>\n      <td>4.46</td>\n      <td>2.79</td>\n    </tr>\n    <tr>\n      <th>2</th>\n      <td>2</td>\n      <td>1.57</td>\n      <td>Very Good</td>\n      <td>I</td>\n      <td>VS2</td>\n      <td>60.3</td>\n      <td>58.0</td>\n      <td>7.58</td>\n      <td>7.55</td>\n      <td>4.56</td>\n    </tr>\n    <tr>\n      <th>3</th>\n      <td>3</td>\n      <td>0.31</td>\n      <td>Ideal</td>\n      <td>H</td>\n      <td>VS2</td>\n      <td>61.8</td>\n      <td>57.0</td>\n      <td>4.32</td>\n      <td>4.36</td>\n      <td>2.68</td>\n    </tr>\n    <tr>\n      <th>4</th>\n      <td>4</td>\n      <td>1.51</td>\n      <td>Good</td>\n      <td>I</td>\n      <td>VVS1</td>\n      <td>64.0</td>\n      <td>60.0</td>\n      <td>7.26</td>\n      <td>7.21</td>\n      <td>4.63</td>\n    </tr>\n    <tr>\n      <th>...</th>\n      <td>...</td>\n      <td>...</td>\n      <td>...</td>\n      <td>...</td>\n      <td>...</td>\n      <td>...</td>\n      <td>...</td>\n      <td>...</td>\n      <td>...</td>\n      <td>...</td>\n    </tr>\n    <tr>\n      <th>13444</th>\n      <td>13444</td>\n      <td>1.05</td>\n      <td>Ideal</td>\n      <td>F</td>\n      <td>SI2</td>\n      <td>60.3</td>\n      <td>55.0</td>\n      <td>6.55</td>\n      <td>6.68</td>\n      <td>3.99</td>\n    </tr>\n    <tr>\n      <th>13445</th>\n      <td>13445</td>\n      <td>0.27</td>\n      <td>Very Good</td>\n      <td>G</td>\n      <td>VS1</td>\n      <td>61.9</td>\n      <td>56.0</td>\n      <td>4.13</td>\n      <td>4.16</td>\n      <td>2.56</td>\n    </tr>\n    <tr>\n      <th>13446</th>\n      <td>13446</td>\n      <td>1.50</td>\n      <td>Premium</td>\n      <td>D</td>\n      <td>VS2</td>\n      <td>61.8</td>\n      <td>60.0</td>\n      <td>7.30</td>\n      <td>7.37</td>\n      <td>4.53</td>\n    </tr>\n    <tr>\n      <th>13447</th>\n      <td>13447</td>\n      <td>1.70</td>\n      <td>Premium</td>\n      <td>F</td>\n      <td>SI2</td>\n      <td>60.2</td>\n      <td>61.0</td>\n      <td>7.79</td>\n      <td>7.68</td>\n      <td>4.66</td>\n    </tr>\n    <tr>\n      <th>13448</th>\n      <td>13448</td>\n      <td>0.30</td>\n      <td>Ideal</td>\n      <td>D</td>\n      <td>VS2</td>\n      <td>61.2</td>\n      <td>57.0</td>\n      <td>4.29</td>\n      <td>4.34</td>\n      <td>2.64</td>\n    </tr>\n  </tbody>\n</table>\n<p>13449 rows × 10 columns</p>\n</div>"
     },
     "metadata": {},
     "execution_count": 42
    }
   ],
   "source": [
    "to_pred = pd.read_csv(\"diamonds_test.csv\")\n",
    "to_pred"
   ]
  },
  {
   "cell_type": "code",
   "execution_count": 48,
   "metadata": {},
   "outputs": [
    {
     "output_type": "execute_result",
     "data": {
      "text/plain": [
       "       Unnamed: 0  carat  cut  color  clarity  depth  table     x     y     z\n",
       "0               0   0.30    2      0        4   60.0   56.0  4.41  4.43  2.65\n",
       "1               1   0.34    2      1        1   62.1   57.0  4.52  4.46  2.79\n",
       "2               2   1.57    4      0        3   60.3   58.0  7.58  7.55  4.56\n",
       "3               3   0.31    2      0        3   61.8   57.0  4.32  4.36  2.68\n",
       "4               4   1.51    1      0        2   64.0   60.0  7.26  7.21  4.63\n",
       "...           ...    ...  ...    ...      ...    ...    ...   ...   ...   ...\n",
       "13444       13444   1.05    2      1        4   60.3   55.0  6.55  6.68  3.99\n",
       "13445       13445   0.27    4      0        3   61.9   56.0  4.13  4.16  2.56\n",
       "13446       13446   1.50    3      1        3   61.8   60.0  7.30  7.37  4.53\n",
       "13447       13447   1.70    3      1        4   60.2   61.0  7.79  7.68  4.66\n",
       "13448       13448   0.30    2      1        3   61.2   57.0  4.29  4.34  2.64\n",
       "\n",
       "[13449 rows x 10 columns]"
      ],
      "text/html": "<div>\n<style scoped>\n    .dataframe tbody tr th:only-of-type {\n        vertical-align: middle;\n    }\n\n    .dataframe tbody tr th {\n        vertical-align: top;\n    }\n\n    .dataframe thead th {\n        text-align: right;\n    }\n</style>\n<table border=\"1\" class=\"dataframe\">\n  <thead>\n    <tr style=\"text-align: right;\">\n      <th></th>\n      <th>Unnamed: 0</th>\n      <th>carat</th>\n      <th>cut</th>\n      <th>color</th>\n      <th>clarity</th>\n      <th>depth</th>\n      <th>table</th>\n      <th>x</th>\n      <th>y</th>\n      <th>z</th>\n    </tr>\n  </thead>\n  <tbody>\n    <tr>\n      <th>0</th>\n      <td>0</td>\n      <td>0.30</td>\n      <td>2</td>\n      <td>0</td>\n      <td>4</td>\n      <td>60.0</td>\n      <td>56.0</td>\n      <td>4.41</td>\n      <td>4.43</td>\n      <td>2.65</td>\n    </tr>\n    <tr>\n      <th>1</th>\n      <td>1</td>\n      <td>0.34</td>\n      <td>2</td>\n      <td>1</td>\n      <td>1</td>\n      <td>62.1</td>\n      <td>57.0</td>\n      <td>4.52</td>\n      <td>4.46</td>\n      <td>2.79</td>\n    </tr>\n    <tr>\n      <th>2</th>\n      <td>2</td>\n      <td>1.57</td>\n      <td>4</td>\n      <td>0</td>\n      <td>3</td>\n      <td>60.3</td>\n      <td>58.0</td>\n      <td>7.58</td>\n      <td>7.55</td>\n      <td>4.56</td>\n    </tr>\n    <tr>\n      <th>3</th>\n      <td>3</td>\n      <td>0.31</td>\n      <td>2</td>\n      <td>0</td>\n      <td>3</td>\n      <td>61.8</td>\n      <td>57.0</td>\n      <td>4.32</td>\n      <td>4.36</td>\n      <td>2.68</td>\n    </tr>\n    <tr>\n      <th>4</th>\n      <td>4</td>\n      <td>1.51</td>\n      <td>1</td>\n      <td>0</td>\n      <td>2</td>\n      <td>64.0</td>\n      <td>60.0</td>\n      <td>7.26</td>\n      <td>7.21</td>\n      <td>4.63</td>\n    </tr>\n    <tr>\n      <th>...</th>\n      <td>...</td>\n      <td>...</td>\n      <td>...</td>\n      <td>...</td>\n      <td>...</td>\n      <td>...</td>\n      <td>...</td>\n      <td>...</td>\n      <td>...</td>\n      <td>...</td>\n    </tr>\n    <tr>\n      <th>13444</th>\n      <td>13444</td>\n      <td>1.05</td>\n      <td>2</td>\n      <td>1</td>\n      <td>4</td>\n      <td>60.3</td>\n      <td>55.0</td>\n      <td>6.55</td>\n      <td>6.68</td>\n      <td>3.99</td>\n    </tr>\n    <tr>\n      <th>13445</th>\n      <td>13445</td>\n      <td>0.27</td>\n      <td>4</td>\n      <td>0</td>\n      <td>3</td>\n      <td>61.9</td>\n      <td>56.0</td>\n      <td>4.13</td>\n      <td>4.16</td>\n      <td>2.56</td>\n    </tr>\n    <tr>\n      <th>13446</th>\n      <td>13446</td>\n      <td>1.50</td>\n      <td>3</td>\n      <td>1</td>\n      <td>3</td>\n      <td>61.8</td>\n      <td>60.0</td>\n      <td>7.30</td>\n      <td>7.37</td>\n      <td>4.53</td>\n    </tr>\n    <tr>\n      <th>13447</th>\n      <td>13447</td>\n      <td>1.70</td>\n      <td>3</td>\n      <td>1</td>\n      <td>4</td>\n      <td>60.2</td>\n      <td>61.0</td>\n      <td>7.79</td>\n      <td>7.68</td>\n      <td>4.66</td>\n    </tr>\n    <tr>\n      <th>13448</th>\n      <td>13448</td>\n      <td>0.30</td>\n      <td>2</td>\n      <td>1</td>\n      <td>3</td>\n      <td>61.2</td>\n      <td>57.0</td>\n      <td>4.29</td>\n      <td>4.34</td>\n      <td>2.64</td>\n    </tr>\n  </tbody>\n</table>\n<p>13449 rows × 10 columns</p>\n</div>"
     },
     "metadata": {},
     "execution_count": 48
    }
   ],
   "source": [
    "to_pred= to_pred.replace({\"IF\":1, \"VVS1\": 2, \"VVS2\":2, \"VS1\":3, \"VS2\":3, \"SI1\":4, \"SI2\":4, \"I1\":5})\n",
    "to_pred= to_pred.replace({\"D\":1, \"E\": 1, \"F\":1, \"G\":0, \"H\":0, \"I\":0, \"J\":0})\n",
    "to_pred[\"cut\"]= le.fit_transform(to_pred[\"cut\"])\n",
    "to_pred "
   ]
  },
  {
   "cell_type": "code",
   "execution_count": 17,
   "metadata": {},
   "outputs": [
    {
     "output_type": "execute_result",
     "data": {
      "text/plain": [
       "       carat  cut  color  clarity\n",
       "0       0.30    2      0        4\n",
       "1       0.34    2      1        1\n",
       "2       1.57    4      0        3\n",
       "3       0.31    2      0        3\n",
       "4       1.51    1      0        2\n",
       "...      ...  ...    ...      ...\n",
       "13444   1.05    2      1        4\n",
       "13445   0.27    4      0        3\n",
       "13446   1.50    3      1        3\n",
       "13447   1.70    3      1        4\n",
       "13448   0.30    2      1        3\n",
       "\n",
       "[13449 rows x 4 columns]"
      ],
      "text/html": "<div>\n<style scoped>\n    .dataframe tbody tr th:only-of-type {\n        vertical-align: middle;\n    }\n\n    .dataframe tbody tr th {\n        vertical-align: top;\n    }\n\n    .dataframe thead th {\n        text-align: right;\n    }\n</style>\n<table border=\"1\" class=\"dataframe\">\n  <thead>\n    <tr style=\"text-align: right;\">\n      <th></th>\n      <th>carat</th>\n      <th>cut</th>\n      <th>color</th>\n      <th>clarity</th>\n    </tr>\n  </thead>\n  <tbody>\n    <tr>\n      <th>0</th>\n      <td>0.30</td>\n      <td>2</td>\n      <td>0</td>\n      <td>4</td>\n    </tr>\n    <tr>\n      <th>1</th>\n      <td>0.34</td>\n      <td>2</td>\n      <td>1</td>\n      <td>1</td>\n    </tr>\n    <tr>\n      <th>2</th>\n      <td>1.57</td>\n      <td>4</td>\n      <td>0</td>\n      <td>3</td>\n    </tr>\n    <tr>\n      <th>3</th>\n      <td>0.31</td>\n      <td>2</td>\n      <td>0</td>\n      <td>3</td>\n    </tr>\n    <tr>\n      <th>4</th>\n      <td>1.51</td>\n      <td>1</td>\n      <td>0</td>\n      <td>2</td>\n    </tr>\n    <tr>\n      <th>...</th>\n      <td>...</td>\n      <td>...</td>\n      <td>...</td>\n      <td>...</td>\n    </tr>\n    <tr>\n      <th>13444</th>\n      <td>1.05</td>\n      <td>2</td>\n      <td>1</td>\n      <td>4</td>\n    </tr>\n    <tr>\n      <th>13445</th>\n      <td>0.27</td>\n      <td>4</td>\n      <td>0</td>\n      <td>3</td>\n    </tr>\n    <tr>\n      <th>13446</th>\n      <td>1.50</td>\n      <td>3</td>\n      <td>1</td>\n      <td>3</td>\n    </tr>\n    <tr>\n      <th>13447</th>\n      <td>1.70</td>\n      <td>3</td>\n      <td>1</td>\n      <td>4</td>\n    </tr>\n    <tr>\n      <th>13448</th>\n      <td>0.30</td>\n      <td>2</td>\n      <td>1</td>\n      <td>3</td>\n    </tr>\n  </tbody>\n</table>\n<p>13449 rows × 4 columns</p>\n</div>"
     },
     "metadata": {},
     "execution_count": 17
    }
   ],
   "source": [
    "to_pred = to_pred[[\"carat\",\"cut\", \"color\", \"clarity\"]]\n",
    "to_pred"
   ]
  },
  {
   "cell_type": "code",
   "execution_count": 47,
   "metadata": {},
   "outputs": [],
   "source": [
    "pred= model.predict(to_pred)\n",
    "pred"
   ]
  },
  {
   "cell_type": "code",
   "execution_count": 40,
   "metadata": {},
   "outputs": [
    {
     "output_type": "execute_result",
     "data": {
      "text/plain": [
       "(13449, 4)"
      ]
     },
     "metadata": {},
     "execution_count": 40
    }
   ],
   "source": [
    "to_pred.shape"
   ]
  },
  {
   "cell_type": "code",
   "execution_count": 92,
   "metadata": {},
   "outputs": [
    {
     "output_type": "execute_result",
     "data": {
      "text/plain": [
       "(13449, 4)"
      ]
     },
     "metadata": {},
     "execution_count": 92
    }
   ],
   "source": [
    "to_pred.shape"
   ]
  },
  {
   "cell_type": "code",
   "execution_count": 50,
   "metadata": {},
   "outputs": [
    {
     "output_type": "execute_result",
     "data": {
      "text/plain": [
       "       carat  cut  color  clarity  depth  table     x     y     z\n",
       "0       0.30    2      0        4   60.0   56.0  4.41  4.43  2.65\n",
       "1       0.34    2      1        1   62.1   57.0  4.52  4.46  2.79\n",
       "2       1.57    4      0        3   60.3   58.0  7.58  7.55  4.56\n",
       "3       0.31    2      0        3   61.8   57.0  4.32  4.36  2.68\n",
       "4       1.51    1      0        2   64.0   60.0  7.26  7.21  4.63\n",
       "...      ...  ...    ...      ...    ...    ...   ...   ...   ...\n",
       "13444   1.05    2      1        4   60.3   55.0  6.55  6.68  3.99\n",
       "13445   0.27    4      0        3   61.9   56.0  4.13  4.16  2.56\n",
       "13446   1.50    3      1        3   61.8   60.0  7.30  7.37  4.53\n",
       "13447   1.70    3      1        4   60.2   61.0  7.79  7.68  4.66\n",
       "13448   0.30    2      1        3   61.2   57.0  4.29  4.34  2.64\n",
       "\n",
       "[13449 rows x 9 columns]"
      ],
      "text/html": "<div>\n<style scoped>\n    .dataframe tbody tr th:only-of-type {\n        vertical-align: middle;\n    }\n\n    .dataframe tbody tr th {\n        vertical-align: top;\n    }\n\n    .dataframe thead th {\n        text-align: right;\n    }\n</style>\n<table border=\"1\" class=\"dataframe\">\n  <thead>\n    <tr style=\"text-align: right;\">\n      <th></th>\n      <th>carat</th>\n      <th>cut</th>\n      <th>color</th>\n      <th>clarity</th>\n      <th>depth</th>\n      <th>table</th>\n      <th>x</th>\n      <th>y</th>\n      <th>z</th>\n    </tr>\n  </thead>\n  <tbody>\n    <tr>\n      <th>0</th>\n      <td>0.30</td>\n      <td>2</td>\n      <td>0</td>\n      <td>4</td>\n      <td>60.0</td>\n      <td>56.0</td>\n      <td>4.41</td>\n      <td>4.43</td>\n      <td>2.65</td>\n    </tr>\n    <tr>\n      <th>1</th>\n      <td>0.34</td>\n      <td>2</td>\n      <td>1</td>\n      <td>1</td>\n      <td>62.1</td>\n      <td>57.0</td>\n      <td>4.52</td>\n      <td>4.46</td>\n      <td>2.79</td>\n    </tr>\n    <tr>\n      <th>2</th>\n      <td>1.57</td>\n      <td>4</td>\n      <td>0</td>\n      <td>3</td>\n      <td>60.3</td>\n      <td>58.0</td>\n      <td>7.58</td>\n      <td>7.55</td>\n      <td>4.56</td>\n    </tr>\n    <tr>\n      <th>3</th>\n      <td>0.31</td>\n      <td>2</td>\n      <td>0</td>\n      <td>3</td>\n      <td>61.8</td>\n      <td>57.0</td>\n      <td>4.32</td>\n      <td>4.36</td>\n      <td>2.68</td>\n    </tr>\n    <tr>\n      <th>4</th>\n      <td>1.51</td>\n      <td>1</td>\n      <td>0</td>\n      <td>2</td>\n      <td>64.0</td>\n      <td>60.0</td>\n      <td>7.26</td>\n      <td>7.21</td>\n      <td>4.63</td>\n    </tr>\n    <tr>\n      <th>...</th>\n      <td>...</td>\n      <td>...</td>\n      <td>...</td>\n      <td>...</td>\n      <td>...</td>\n      <td>...</td>\n      <td>...</td>\n      <td>...</td>\n      <td>...</td>\n    </tr>\n    <tr>\n      <th>13444</th>\n      <td>1.05</td>\n      <td>2</td>\n      <td>1</td>\n      <td>4</td>\n      <td>60.3</td>\n      <td>55.0</td>\n      <td>6.55</td>\n      <td>6.68</td>\n      <td>3.99</td>\n    </tr>\n    <tr>\n      <th>13445</th>\n      <td>0.27</td>\n      <td>4</td>\n      <td>0</td>\n      <td>3</td>\n      <td>61.9</td>\n      <td>56.0</td>\n      <td>4.13</td>\n      <td>4.16</td>\n      <td>2.56</td>\n    </tr>\n    <tr>\n      <th>13446</th>\n      <td>1.50</td>\n      <td>3</td>\n      <td>1</td>\n      <td>3</td>\n      <td>61.8</td>\n      <td>60.0</td>\n      <td>7.30</td>\n      <td>7.37</td>\n      <td>4.53</td>\n    </tr>\n    <tr>\n      <th>13447</th>\n      <td>1.70</td>\n      <td>3</td>\n      <td>1</td>\n      <td>4</td>\n      <td>60.2</td>\n      <td>61.0</td>\n      <td>7.79</td>\n      <td>7.68</td>\n      <td>4.66</td>\n    </tr>\n    <tr>\n      <th>13448</th>\n      <td>0.30</td>\n      <td>2</td>\n      <td>1</td>\n      <td>3</td>\n      <td>61.2</td>\n      <td>57.0</td>\n      <td>4.29</td>\n      <td>4.34</td>\n      <td>2.64</td>\n    </tr>\n  </tbody>\n</table>\n<p>13449 rows × 9 columns</p>\n</div>"
     },
     "metadata": {},
     "execution_count": 50
    }
   ],
   "source": [
    "to_pred4 = to_pred.drop(columns=[\"Unnamed: 0\"])\n",
    "to_pred4"
   ]
  },
  {
   "cell_type": "code",
   "execution_count": 51,
   "metadata": {},
   "outputs": [],
   "source": [
    "y_pred = model.predict(to_pred4)"
   ]
  },
  {
   "cell_type": "code",
   "execution_count": 35,
   "metadata": {},
   "outputs": [
    {
     "output_type": "error",
     "ename": "NameError",
     "evalue": "name 'submission' is not defined",
     "traceback": [
      "\u001b[1;31m---------------------------------------------------------------------------\u001b[0m",
      "\u001b[1;31mNameError\u001b[0m                                 Traceback (most recent call last)",
      "\u001b[1;32m<ipython-input-35-29424a585136>\u001b[0m in \u001b[0;36m<module>\u001b[1;34m\u001b[0m\n\u001b[1;32m----> 1\u001b[1;33m \u001b[0msubmission\u001b[0m \u001b[1;33m=\u001b[0m \u001b[0mpd\u001b[0m\u001b[1;33m.\u001b[0m\u001b[0mDataFrame\u001b[0m\u001b[1;33m(\u001b[0m\u001b[1;33m{\u001b[0m\u001b[1;34m\"id\"\u001b[0m\u001b[1;33m:\u001b[0m \u001b[0msubmission\u001b[0m\u001b[1;33m.\u001b[0m\u001b[0mindex\u001b[0m\u001b[1;33m,\u001b[0m\u001b[1;34m\"price\"\u001b[0m\u001b[1;33m:\u001b[0m \u001b[0mpred\u001b[0m\u001b[1;33m}\u001b[0m\u001b[1;33m)\u001b[0m\u001b[1;33m\u001b[0m\u001b[1;33m\u001b[0m\u001b[0m\n\u001b[0m\u001b[0;32m      2\u001b[0m \u001b[0msubmission\u001b[0m\u001b[1;33m\u001b[0m\u001b[1;33m\u001b[0m\u001b[0m\n",
      "\u001b[1;31mNameError\u001b[0m: name 'submission' is not defined"
     ]
    }
   ],
   "source": [
    "submission = pd.DataFrame({\"id\": submission.index,\"price\": pred})\n",
    "submission"
   ]
  },
  {
   "cell_type": "code",
   "execution_count": 65,
   "metadata": {},
   "outputs": [],
   "source": [
    "submission.to_csv(\"to_submit.csv\", index = False)"
   ]
  },
  {
   "cell_type": "code",
   "execution_count": 97,
   "metadata": {},
   "outputs": [
    {
     "output_type": "execute_result",
     "data": {
      "text/plain": [
       "(32308276, 1)"
      ]
     },
     "metadata": {},
     "execution_count": 97
    }
   ],
   "source": [
    "X_poly.reshape(-1,1).shape"
   ]
  },
  {
   "cell_type": "code",
   "execution_count": 105,
   "metadata": {},
   "outputs": [
    {
     "output_type": "execute_result",
     "data": {
      "text/plain": [
       "array([  480.72372794,  1169.12397912, 11093.30851978, ...,\n",
       "       14604.26848071, 12531.85831046,   707.4451546 ])"
      ]
     },
     "metadata": {},
     "execution_count": 105
    }
   ],
   "source": [
    "X_test_poly = polinominal_model.fit_transform(to_pred)\n",
    "\n",
    "y_test_pred = lin_reg_model.predict(X_test_poly)\n",
    "y_test_pred"
   ]
  },
  {
   "cell_type": "code",
   "execution_count": 32,
   "metadata": {},
   "outputs": [
    {
     "output_type": "error",
     "ename": "NameError",
     "evalue": "name 'submission2' is not defined",
     "traceback": [
      "\u001b[1;31m---------------------------------------------------------------------------\u001b[0m",
      "\u001b[1;31mNameError\u001b[0m                                 Traceback (most recent call last)",
      "\u001b[1;32m<ipython-input-32-3a98363d1376>\u001b[0m in \u001b[0;36m<module>\u001b[1;34m\u001b[0m\n\u001b[1;32m----> 1\u001b[1;33m \u001b[0msubmission2\u001b[0m \u001b[1;33m=\u001b[0m \u001b[0mpd\u001b[0m\u001b[1;33m.\u001b[0m\u001b[0mDataFrame\u001b[0m\u001b[1;33m(\u001b[0m\u001b[1;33m{\u001b[0m\u001b[1;34m\"id\"\u001b[0m\u001b[1;33m:\u001b[0m \u001b[0msubmission2\u001b[0m\u001b[1;33m.\u001b[0m\u001b[0mindex\u001b[0m\u001b[1;33m,\u001b[0m\u001b[1;34m\"price\"\u001b[0m\u001b[1;33m:\u001b[0m \u001b[0my_test_pred\u001b[0m\u001b[1;33m}\u001b[0m\u001b[1;33m)\u001b[0m\u001b[1;33m\u001b[0m\u001b[1;33m\u001b[0m\u001b[0m\n\u001b[0m",
      "\u001b[1;31mNameError\u001b[0m: name 'submission2' is not defined"
     ]
    }
   ],
   "source": [
    "submission2 = pd.DataFrame({\"id\": submission2.index,\"price\": y_test_pred})\n"
   ]
  },
  {
   "cell_type": "code",
   "execution_count": 110,
   "metadata": {},
   "outputs": [],
   "source": [
    "submission2.to_csv(\"to_submit2.csv\", index = False)"
   ]
  },
  {
   "cell_type": "code",
   "execution_count": 37,
   "metadata": {},
   "outputs": [
    {
     "output_type": "execute_result",
     "data": {
      "text/plain": [
       "       carat  cut  color  clarity\n",
       "0       0.30    2      0        4\n",
       "1       0.34    2      1        1\n",
       "2       1.57    4      0        3\n",
       "3       0.31    2      0        3\n",
       "4       1.51    1      0        2\n",
       "...      ...  ...    ...      ...\n",
       "13444   1.05    2      1        4\n",
       "13445   0.27    4      0        3\n",
       "13446   1.50    3      1        3\n",
       "13447   1.70    3      1        4\n",
       "13448   0.30    2      1        3\n",
       "\n",
       "[13449 rows x 4 columns]"
      ],
      "text/html": "<div>\n<style scoped>\n    .dataframe tbody tr th:only-of-type {\n        vertical-align: middle;\n    }\n\n    .dataframe tbody tr th {\n        vertical-align: top;\n    }\n\n    .dataframe thead th {\n        text-align: right;\n    }\n</style>\n<table border=\"1\" class=\"dataframe\">\n  <thead>\n    <tr style=\"text-align: right;\">\n      <th></th>\n      <th>carat</th>\n      <th>cut</th>\n      <th>color</th>\n      <th>clarity</th>\n    </tr>\n  </thead>\n  <tbody>\n    <tr>\n      <th>0</th>\n      <td>0.30</td>\n      <td>2</td>\n      <td>0</td>\n      <td>4</td>\n    </tr>\n    <tr>\n      <th>1</th>\n      <td>0.34</td>\n      <td>2</td>\n      <td>1</td>\n      <td>1</td>\n    </tr>\n    <tr>\n      <th>2</th>\n      <td>1.57</td>\n      <td>4</td>\n      <td>0</td>\n      <td>3</td>\n    </tr>\n    <tr>\n      <th>3</th>\n      <td>0.31</td>\n      <td>2</td>\n      <td>0</td>\n      <td>3</td>\n    </tr>\n    <tr>\n      <th>4</th>\n      <td>1.51</td>\n      <td>1</td>\n      <td>0</td>\n      <td>2</td>\n    </tr>\n    <tr>\n      <th>...</th>\n      <td>...</td>\n      <td>...</td>\n      <td>...</td>\n      <td>...</td>\n    </tr>\n    <tr>\n      <th>13444</th>\n      <td>1.05</td>\n      <td>2</td>\n      <td>1</td>\n      <td>4</td>\n    </tr>\n    <tr>\n      <th>13445</th>\n      <td>0.27</td>\n      <td>4</td>\n      <td>0</td>\n      <td>3</td>\n    </tr>\n    <tr>\n      <th>13446</th>\n      <td>1.50</td>\n      <td>3</td>\n      <td>1</td>\n      <td>3</td>\n    </tr>\n    <tr>\n      <th>13447</th>\n      <td>1.70</td>\n      <td>3</td>\n      <td>1</td>\n      <td>4</td>\n    </tr>\n    <tr>\n      <th>13448</th>\n      <td>0.30</td>\n      <td>2</td>\n      <td>1</td>\n      <td>3</td>\n    </tr>\n  </tbody>\n</table>\n<p>13449 rows × 4 columns</p>\n</div>"
     },
     "metadata": {},
     "execution_count": 37
    }
   ],
   "source": [
    "to_pred"
   ]
  },
  {
   "cell_type": "code",
   "execution_count": 39,
   "metadata": {},
   "outputs": [
    {
     "output_type": "execute_result",
     "data": {
      "text/plain": [
       "          id         price\n",
       "0          0    394.406006\n",
       "1          1   1267.476117\n",
       "2          2  10273.116046\n",
       "3          3    492.405790\n",
       "4          4  10053.851846\n",
       "...      ...           ...\n",
       "13444  13444   5182.892008\n",
       "13445  13445    277.318015\n",
       "13446  13446  11707.394736\n",
       "13447  13447  11321.899047\n",
       "13448  13448    539.678285\n",
       "\n",
       "[13449 rows x 2 columns]"
      ],
      "text/html": "<div>\n<style scoped>\n    .dataframe tbody tr th:only-of-type {\n        vertical-align: middle;\n    }\n\n    .dataframe tbody tr th {\n        vertical-align: top;\n    }\n\n    .dataframe thead th {\n        text-align: right;\n    }\n</style>\n<table border=\"1\" class=\"dataframe\">\n  <thead>\n    <tr style=\"text-align: right;\">\n      <th></th>\n      <th>id</th>\n      <th>price</th>\n    </tr>\n  </thead>\n  <tbody>\n    <tr>\n      <th>0</th>\n      <td>0</td>\n      <td>394.406006</td>\n    </tr>\n    <tr>\n      <th>1</th>\n      <td>1</td>\n      <td>1267.476117</td>\n    </tr>\n    <tr>\n      <th>2</th>\n      <td>2</td>\n      <td>10273.116046</td>\n    </tr>\n    <tr>\n      <th>3</th>\n      <td>3</td>\n      <td>492.405790</td>\n    </tr>\n    <tr>\n      <th>4</th>\n      <td>4</td>\n      <td>10053.851846</td>\n    </tr>\n    <tr>\n      <th>...</th>\n      <td>...</td>\n      <td>...</td>\n    </tr>\n    <tr>\n      <th>13444</th>\n      <td>13444</td>\n      <td>5182.892008</td>\n    </tr>\n    <tr>\n      <th>13445</th>\n      <td>13445</td>\n      <td>277.318015</td>\n    </tr>\n    <tr>\n      <th>13446</th>\n      <td>13446</td>\n      <td>11707.394736</td>\n    </tr>\n    <tr>\n      <th>13447</th>\n      <td>13447</td>\n      <td>11321.899047</td>\n    </tr>\n    <tr>\n      <th>13448</th>\n      <td>13448</td>\n      <td>539.678285</td>\n    </tr>\n  </tbody>\n</table>\n<p>13449 rows × 2 columns</p>\n</div>"
     },
     "metadata": {},
     "execution_count": 39
    }
   ],
   "source": [
    "submission3 = pd.DataFrame({\"id\": submission3.index,\"price\": y_pred})\n",
    "submission3"
   ]
  },
  {
   "cell_type": "code",
   "execution_count": 40,
   "metadata": {},
   "outputs": [],
   "source": [
    "submission3.to_csv(\"to_submit3.csv\", index = False)"
   ]
  },
  {
   "cell_type": "code",
   "execution_count": 52,
   "metadata": {},
   "outputs": [
    {
     "output_type": "execute_result",
     "data": {
      "text/plain": [
       "          id         price\n",
       "0          0    438.620000\n",
       "1          1   1467.490000\n",
       "2          2  10564.990000\n",
       "3          3    573.523333\n",
       "4          4  11163.470000\n",
       "...      ...           ...\n",
       "13444  13444   5640.210000\n",
       "13445  13445    429.016667\n",
       "13446  13446  14769.600000\n",
       "13447  13447  12235.310000\n",
       "13448  13448    644.461667\n",
       "\n",
       "[13449 rows x 2 columns]"
      ],
      "text/html": "<div>\n<style scoped>\n    .dataframe tbody tr th:only-of-type {\n        vertical-align: middle;\n    }\n\n    .dataframe tbody tr th {\n        vertical-align: top;\n    }\n\n    .dataframe thead th {\n        text-align: right;\n    }\n</style>\n<table border=\"1\" class=\"dataframe\">\n  <thead>\n    <tr style=\"text-align: right;\">\n      <th></th>\n      <th>id</th>\n      <th>price</th>\n    </tr>\n  </thead>\n  <tbody>\n    <tr>\n      <th>0</th>\n      <td>0</td>\n      <td>438.620000</td>\n    </tr>\n    <tr>\n      <th>1</th>\n      <td>1</td>\n      <td>1467.490000</td>\n    </tr>\n    <tr>\n      <th>2</th>\n      <td>2</td>\n      <td>10564.990000</td>\n    </tr>\n    <tr>\n      <th>3</th>\n      <td>3</td>\n      <td>573.523333</td>\n    </tr>\n    <tr>\n      <th>4</th>\n      <td>4</td>\n      <td>11163.470000</td>\n    </tr>\n    <tr>\n      <th>...</th>\n      <td>...</td>\n      <td>...</td>\n    </tr>\n    <tr>\n      <th>13444</th>\n      <td>13444</td>\n      <td>5640.210000</td>\n    </tr>\n    <tr>\n      <th>13445</th>\n      <td>13445</td>\n      <td>429.016667</td>\n    </tr>\n    <tr>\n      <th>13446</th>\n      <td>13446</td>\n      <td>14769.600000</td>\n    </tr>\n    <tr>\n      <th>13447</th>\n      <td>13447</td>\n      <td>12235.310000</td>\n    </tr>\n    <tr>\n      <th>13448</th>\n      <td>13448</td>\n      <td>644.461667</td>\n    </tr>\n  </tbody>\n</table>\n<p>13449 rows × 2 columns</p>\n</div>"
     },
     "metadata": {},
     "execution_count": 52
    }
   ],
   "source": [
    "submission4 = pd.DataFrame({\"id\": submission3.index,\"price\": y_pred})\n",
    "submission4"
   ]
  },
  {
   "cell_type": "code",
   "execution_count": 53,
   "metadata": {},
   "outputs": [],
   "source": [
    "submission4.to_csv(\"to_submit4.csv\", index = False)"
   ]
  },
  {
   "cell_type": "code",
   "execution_count": null,
   "metadata": {},
   "outputs": [],
   "source": []
  }
 ]
}
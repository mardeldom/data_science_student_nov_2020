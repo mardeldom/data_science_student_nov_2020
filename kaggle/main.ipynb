{
 "metadata": {
  "language_info": {
   "codemirror_mode": {
    "name": "ipython",
    "version": 3
   },
   "file_extension": ".py",
   "mimetype": "text/x-python",
   "name": "python",
   "nbconvert_exporter": "python",
   "pygments_lexer": "ipython3",
   "version": "3.9.0-final"
  },
  "orig_nbformat": 2,
  "kernelspec": {
   "name": "python3",
   "display_name": "Python 3.9.0 64-bit",
   "metadata": {
    "interpreter": {
     "hash": "2e3c1e8da6e821b0193601da5a0e541c0efda9704da45b6b820f5f4c317f2def"
    }
   }
  }
 },
 "nbformat": 4,
 "nbformat_minor": 2,
 "cells": [
  {
   "cell_type": "code",
   "execution_count": 2,
   "metadata": {},
   "outputs": [],
   "source": [
    "import pandas as pd\n",
    "import numpy as np\n",
    "from sklearn.linear_model import LogisticRegression\n",
    "from sklearn import preprocessing\n",
    "from sklearn.model_selection import train_test_split"
   ]
  },
  {
   "cell_type": "code",
   "execution_count": 4,
   "metadata": {},
   "outputs": [],
   "source": [
    "import missingno as msno"
   ]
  },
  {
   "cell_type": "code",
   "execution_count": 7,
   "metadata": {},
   "outputs": [
    {
     "output_type": "error",
     "ename": "FileNotFoundError",
     "evalue": "[Errno 2] No such file or directory: 'train_set.csv'",
     "traceback": [
      "\u001b[1;31m---------------------------------------------------------------------------\u001b[0m",
      "\u001b[1;31mFileNotFoundError\u001b[0m                         Traceback (most recent call last)",
      "\u001b[1;32m<ipython-input-7-5943d59d767f>\u001b[0m in \u001b[0;36m<module>\u001b[1;34m\u001b[0m\n\u001b[1;32m----> 1\u001b[1;33m \u001b[0mdf\u001b[0m \u001b[1;33m=\u001b[0m \u001b[0mpd\u001b[0m\u001b[1;33m.\u001b[0m\u001b[0mread_csv\u001b[0m\u001b[1;33m(\u001b[0m\u001b[1;34m\"train_set.csv\"\u001b[0m\u001b[1;33m)\u001b[0m\u001b[1;33m\u001b[0m\u001b[1;33m\u001b[0m\u001b[0m\n\u001b[0m\u001b[0;32m      2\u001b[0m \u001b[0mdf\u001b[0m\u001b[1;33m\u001b[0m\u001b[1;33m\u001b[0m\u001b[0m\n",
      "\u001b[1;32m~\\AppData\\Local\\Programs\\Python\\Python39\\lib\\site-packages\\pandas\\io\\parsers.py\u001b[0m in \u001b[0;36mread_csv\u001b[1;34m(filepath_or_buffer, sep, delimiter, header, names, index_col, usecols, squeeze, prefix, mangle_dupe_cols, dtype, engine, converters, true_values, false_values, skipinitialspace, skiprows, skipfooter, nrows, na_values, keep_default_na, na_filter, verbose, skip_blank_lines, parse_dates, infer_datetime_format, keep_date_col, date_parser, dayfirst, cache_dates, iterator, chunksize, compression, thousands, decimal, lineterminator, quotechar, quoting, doublequote, escapechar, comment, encoding, dialect, error_bad_lines, warn_bad_lines, delim_whitespace, low_memory, memory_map, float_precision)\u001b[0m\n\u001b[0;32m    686\u001b[0m     )\n\u001b[0;32m    687\u001b[0m \u001b[1;33m\u001b[0m\u001b[0m\n\u001b[1;32m--> 688\u001b[1;33m     \u001b[1;32mreturn\u001b[0m \u001b[0m_read\u001b[0m\u001b[1;33m(\u001b[0m\u001b[0mfilepath_or_buffer\u001b[0m\u001b[1;33m,\u001b[0m \u001b[0mkwds\u001b[0m\u001b[1;33m)\u001b[0m\u001b[1;33m\u001b[0m\u001b[1;33m\u001b[0m\u001b[0m\n\u001b[0m\u001b[0;32m    689\u001b[0m \u001b[1;33m\u001b[0m\u001b[0m\n\u001b[0;32m    690\u001b[0m \u001b[1;33m\u001b[0m\u001b[0m\n",
      "\u001b[1;32m~\\AppData\\Local\\Programs\\Python\\Python39\\lib\\site-packages\\pandas\\io\\parsers.py\u001b[0m in \u001b[0;36m_read\u001b[1;34m(filepath_or_buffer, kwds)\u001b[0m\n\u001b[0;32m    452\u001b[0m \u001b[1;33m\u001b[0m\u001b[0m\n\u001b[0;32m    453\u001b[0m     \u001b[1;31m# Create the parser.\u001b[0m\u001b[1;33m\u001b[0m\u001b[1;33m\u001b[0m\u001b[1;33m\u001b[0m\u001b[0m\n\u001b[1;32m--> 454\u001b[1;33m     \u001b[0mparser\u001b[0m \u001b[1;33m=\u001b[0m \u001b[0mTextFileReader\u001b[0m\u001b[1;33m(\u001b[0m\u001b[0mfp_or_buf\u001b[0m\u001b[1;33m,\u001b[0m \u001b[1;33m**\u001b[0m\u001b[0mkwds\u001b[0m\u001b[1;33m)\u001b[0m\u001b[1;33m\u001b[0m\u001b[1;33m\u001b[0m\u001b[0m\n\u001b[0m\u001b[0;32m    455\u001b[0m \u001b[1;33m\u001b[0m\u001b[0m\n\u001b[0;32m    456\u001b[0m     \u001b[1;32mif\u001b[0m \u001b[0mchunksize\u001b[0m \u001b[1;32mor\u001b[0m \u001b[0miterator\u001b[0m\u001b[1;33m:\u001b[0m\u001b[1;33m\u001b[0m\u001b[1;33m\u001b[0m\u001b[0m\n",
      "\u001b[1;32m~\\AppData\\Local\\Programs\\Python\\Python39\\lib\\site-packages\\pandas\\io\\parsers.py\u001b[0m in \u001b[0;36m__init__\u001b[1;34m(self, f, engine, **kwds)\u001b[0m\n\u001b[0;32m    946\u001b[0m             \u001b[0mself\u001b[0m\u001b[1;33m.\u001b[0m\u001b[0moptions\u001b[0m\u001b[1;33m[\u001b[0m\u001b[1;34m\"has_index_names\"\u001b[0m\u001b[1;33m]\u001b[0m \u001b[1;33m=\u001b[0m \u001b[0mkwds\u001b[0m\u001b[1;33m[\u001b[0m\u001b[1;34m\"has_index_names\"\u001b[0m\u001b[1;33m]\u001b[0m\u001b[1;33m\u001b[0m\u001b[1;33m\u001b[0m\u001b[0m\n\u001b[0;32m    947\u001b[0m \u001b[1;33m\u001b[0m\u001b[0m\n\u001b[1;32m--> 948\u001b[1;33m         \u001b[0mself\u001b[0m\u001b[1;33m.\u001b[0m\u001b[0m_make_engine\u001b[0m\u001b[1;33m(\u001b[0m\u001b[0mself\u001b[0m\u001b[1;33m.\u001b[0m\u001b[0mengine\u001b[0m\u001b[1;33m)\u001b[0m\u001b[1;33m\u001b[0m\u001b[1;33m\u001b[0m\u001b[0m\n\u001b[0m\u001b[0;32m    949\u001b[0m \u001b[1;33m\u001b[0m\u001b[0m\n\u001b[0;32m    950\u001b[0m     \u001b[1;32mdef\u001b[0m \u001b[0mclose\u001b[0m\u001b[1;33m(\u001b[0m\u001b[0mself\u001b[0m\u001b[1;33m)\u001b[0m\u001b[1;33m:\u001b[0m\u001b[1;33m\u001b[0m\u001b[1;33m\u001b[0m\u001b[0m\n",
      "\u001b[1;32m~\\AppData\\Local\\Programs\\Python\\Python39\\lib\\site-packages\\pandas\\io\\parsers.py\u001b[0m in \u001b[0;36m_make_engine\u001b[1;34m(self, engine)\u001b[0m\n\u001b[0;32m   1178\u001b[0m     \u001b[1;32mdef\u001b[0m \u001b[0m_make_engine\u001b[0m\u001b[1;33m(\u001b[0m\u001b[0mself\u001b[0m\u001b[1;33m,\u001b[0m \u001b[0mengine\u001b[0m\u001b[1;33m=\u001b[0m\u001b[1;34m\"c\"\u001b[0m\u001b[1;33m)\u001b[0m\u001b[1;33m:\u001b[0m\u001b[1;33m\u001b[0m\u001b[1;33m\u001b[0m\u001b[0m\n\u001b[0;32m   1179\u001b[0m         \u001b[1;32mif\u001b[0m \u001b[0mengine\u001b[0m \u001b[1;33m==\u001b[0m \u001b[1;34m\"c\"\u001b[0m\u001b[1;33m:\u001b[0m\u001b[1;33m\u001b[0m\u001b[1;33m\u001b[0m\u001b[0m\n\u001b[1;32m-> 1180\u001b[1;33m             \u001b[0mself\u001b[0m\u001b[1;33m.\u001b[0m\u001b[0m_engine\u001b[0m \u001b[1;33m=\u001b[0m \u001b[0mCParserWrapper\u001b[0m\u001b[1;33m(\u001b[0m\u001b[0mself\u001b[0m\u001b[1;33m.\u001b[0m\u001b[0mf\u001b[0m\u001b[1;33m,\u001b[0m \u001b[1;33m**\u001b[0m\u001b[0mself\u001b[0m\u001b[1;33m.\u001b[0m\u001b[0moptions\u001b[0m\u001b[1;33m)\u001b[0m\u001b[1;33m\u001b[0m\u001b[1;33m\u001b[0m\u001b[0m\n\u001b[0m\u001b[0;32m   1181\u001b[0m         \u001b[1;32melse\u001b[0m\u001b[1;33m:\u001b[0m\u001b[1;33m\u001b[0m\u001b[1;33m\u001b[0m\u001b[0m\n\u001b[0;32m   1182\u001b[0m             \u001b[1;32mif\u001b[0m \u001b[0mengine\u001b[0m \u001b[1;33m==\u001b[0m \u001b[1;34m\"python\"\u001b[0m\u001b[1;33m:\u001b[0m\u001b[1;33m\u001b[0m\u001b[1;33m\u001b[0m\u001b[0m\n",
      "\u001b[1;32m~\\AppData\\Local\\Programs\\Python\\Python39\\lib\\site-packages\\pandas\\io\\parsers.py\u001b[0m in \u001b[0;36m__init__\u001b[1;34m(self, src, **kwds)\u001b[0m\n\u001b[0;32m   2008\u001b[0m         \u001b[0mkwds\u001b[0m\u001b[1;33m[\u001b[0m\u001b[1;34m\"usecols\"\u001b[0m\u001b[1;33m]\u001b[0m \u001b[1;33m=\u001b[0m \u001b[0mself\u001b[0m\u001b[1;33m.\u001b[0m\u001b[0musecols\u001b[0m\u001b[1;33m\u001b[0m\u001b[1;33m\u001b[0m\u001b[0m\n\u001b[0;32m   2009\u001b[0m \u001b[1;33m\u001b[0m\u001b[0m\n\u001b[1;32m-> 2010\u001b[1;33m         \u001b[0mself\u001b[0m\u001b[1;33m.\u001b[0m\u001b[0m_reader\u001b[0m \u001b[1;33m=\u001b[0m \u001b[0mparsers\u001b[0m\u001b[1;33m.\u001b[0m\u001b[0mTextReader\u001b[0m\u001b[1;33m(\u001b[0m\u001b[0msrc\u001b[0m\u001b[1;33m,\u001b[0m \u001b[1;33m**\u001b[0m\u001b[0mkwds\u001b[0m\u001b[1;33m)\u001b[0m\u001b[1;33m\u001b[0m\u001b[1;33m\u001b[0m\u001b[0m\n\u001b[0m\u001b[0;32m   2011\u001b[0m         \u001b[0mself\u001b[0m\u001b[1;33m.\u001b[0m\u001b[0munnamed_cols\u001b[0m \u001b[1;33m=\u001b[0m \u001b[0mself\u001b[0m\u001b[1;33m.\u001b[0m\u001b[0m_reader\u001b[0m\u001b[1;33m.\u001b[0m\u001b[0munnamed_cols\u001b[0m\u001b[1;33m\u001b[0m\u001b[1;33m\u001b[0m\u001b[0m\n\u001b[0;32m   2012\u001b[0m \u001b[1;33m\u001b[0m\u001b[0m\n",
      "\u001b[1;32mpandas\\_libs\\parsers.pyx\u001b[0m in \u001b[0;36mpandas._libs.parsers.TextReader.__cinit__\u001b[1;34m()\u001b[0m\n",
      "\u001b[1;32mpandas\\_libs\\parsers.pyx\u001b[0m in \u001b[0;36mpandas._libs.parsers.TextReader._setup_parser_source\u001b[1;34m()\u001b[0m\n",
      "\u001b[1;31mFileNotFoundError\u001b[0m: [Errno 2] No such file or directory: 'train_set.csv'"
     ]
    }
   ],
   "source": [
    "df = pd.read_csv(\"train_set.csv\")\n",
    "df\n"
   ]
  },
  {
   "cell_type": "code",
   "execution_count": 8,
   "metadata": {},
   "outputs": [
    {
     "output_type": "error",
     "ename": "FileNotFoundError",
     "evalue": "[Errno 2] No such file or directory: 'columns_meaning.csv'",
     "traceback": [
      "\u001b[1;31m---------------------------------------------------------------------------\u001b[0m",
      "\u001b[1;31mFileNotFoundError\u001b[0m                         Traceback (most recent call last)",
      "\u001b[1;32m<ipython-input-8-883ff46f4780>\u001b[0m in \u001b[0;36m<module>\u001b[1;34m\u001b[0m\n\u001b[1;32m----> 1\u001b[1;33m \u001b[0mcolumns\u001b[0m \u001b[1;33m=\u001b[0m \u001b[0mpd\u001b[0m\u001b[1;33m.\u001b[0m\u001b[0mread_csv\u001b[0m\u001b[1;33m(\u001b[0m\u001b[1;34m\"columns_meaning.csv\"\u001b[0m\u001b[1;33m)\u001b[0m\u001b[1;33m\u001b[0m\u001b[1;33m\u001b[0m\u001b[0m\n\u001b[0m\u001b[0;32m      2\u001b[0m \u001b[0mcolumns\u001b[0m\u001b[1;33m\u001b[0m\u001b[1;33m\u001b[0m\u001b[0m\n",
      "\u001b[1;32m~\\AppData\\Local\\Programs\\Python\\Python39\\lib\\site-packages\\pandas\\io\\parsers.py\u001b[0m in \u001b[0;36mread_csv\u001b[1;34m(filepath_or_buffer, sep, delimiter, header, names, index_col, usecols, squeeze, prefix, mangle_dupe_cols, dtype, engine, converters, true_values, false_values, skipinitialspace, skiprows, skipfooter, nrows, na_values, keep_default_na, na_filter, verbose, skip_blank_lines, parse_dates, infer_datetime_format, keep_date_col, date_parser, dayfirst, cache_dates, iterator, chunksize, compression, thousands, decimal, lineterminator, quotechar, quoting, doublequote, escapechar, comment, encoding, dialect, error_bad_lines, warn_bad_lines, delim_whitespace, low_memory, memory_map, float_precision)\u001b[0m\n\u001b[0;32m    686\u001b[0m     )\n\u001b[0;32m    687\u001b[0m \u001b[1;33m\u001b[0m\u001b[0m\n\u001b[1;32m--> 688\u001b[1;33m     \u001b[1;32mreturn\u001b[0m \u001b[0m_read\u001b[0m\u001b[1;33m(\u001b[0m\u001b[0mfilepath_or_buffer\u001b[0m\u001b[1;33m,\u001b[0m \u001b[0mkwds\u001b[0m\u001b[1;33m)\u001b[0m\u001b[1;33m\u001b[0m\u001b[1;33m\u001b[0m\u001b[0m\n\u001b[0m\u001b[0;32m    689\u001b[0m \u001b[1;33m\u001b[0m\u001b[0m\n\u001b[0;32m    690\u001b[0m \u001b[1;33m\u001b[0m\u001b[0m\n",
      "\u001b[1;32m~\\AppData\\Local\\Programs\\Python\\Python39\\lib\\site-packages\\pandas\\io\\parsers.py\u001b[0m in \u001b[0;36m_read\u001b[1;34m(filepath_or_buffer, kwds)\u001b[0m\n\u001b[0;32m    452\u001b[0m \u001b[1;33m\u001b[0m\u001b[0m\n\u001b[0;32m    453\u001b[0m     \u001b[1;31m# Create the parser.\u001b[0m\u001b[1;33m\u001b[0m\u001b[1;33m\u001b[0m\u001b[1;33m\u001b[0m\u001b[0m\n\u001b[1;32m--> 454\u001b[1;33m     \u001b[0mparser\u001b[0m \u001b[1;33m=\u001b[0m \u001b[0mTextFileReader\u001b[0m\u001b[1;33m(\u001b[0m\u001b[0mfp_or_buf\u001b[0m\u001b[1;33m,\u001b[0m \u001b[1;33m**\u001b[0m\u001b[0mkwds\u001b[0m\u001b[1;33m)\u001b[0m\u001b[1;33m\u001b[0m\u001b[1;33m\u001b[0m\u001b[0m\n\u001b[0m\u001b[0;32m    455\u001b[0m \u001b[1;33m\u001b[0m\u001b[0m\n\u001b[0;32m    456\u001b[0m     \u001b[1;32mif\u001b[0m \u001b[0mchunksize\u001b[0m \u001b[1;32mor\u001b[0m \u001b[0miterator\u001b[0m\u001b[1;33m:\u001b[0m\u001b[1;33m\u001b[0m\u001b[1;33m\u001b[0m\u001b[0m\n",
      "\u001b[1;32m~\\AppData\\Local\\Programs\\Python\\Python39\\lib\\site-packages\\pandas\\io\\parsers.py\u001b[0m in \u001b[0;36m__init__\u001b[1;34m(self, f, engine, **kwds)\u001b[0m\n\u001b[0;32m    946\u001b[0m             \u001b[0mself\u001b[0m\u001b[1;33m.\u001b[0m\u001b[0moptions\u001b[0m\u001b[1;33m[\u001b[0m\u001b[1;34m\"has_index_names\"\u001b[0m\u001b[1;33m]\u001b[0m \u001b[1;33m=\u001b[0m \u001b[0mkwds\u001b[0m\u001b[1;33m[\u001b[0m\u001b[1;34m\"has_index_names\"\u001b[0m\u001b[1;33m]\u001b[0m\u001b[1;33m\u001b[0m\u001b[1;33m\u001b[0m\u001b[0m\n\u001b[0;32m    947\u001b[0m \u001b[1;33m\u001b[0m\u001b[0m\n\u001b[1;32m--> 948\u001b[1;33m         \u001b[0mself\u001b[0m\u001b[1;33m.\u001b[0m\u001b[0m_make_engine\u001b[0m\u001b[1;33m(\u001b[0m\u001b[0mself\u001b[0m\u001b[1;33m.\u001b[0m\u001b[0mengine\u001b[0m\u001b[1;33m)\u001b[0m\u001b[1;33m\u001b[0m\u001b[1;33m\u001b[0m\u001b[0m\n\u001b[0m\u001b[0;32m    949\u001b[0m \u001b[1;33m\u001b[0m\u001b[0m\n\u001b[0;32m    950\u001b[0m     \u001b[1;32mdef\u001b[0m \u001b[0mclose\u001b[0m\u001b[1;33m(\u001b[0m\u001b[0mself\u001b[0m\u001b[1;33m)\u001b[0m\u001b[1;33m:\u001b[0m\u001b[1;33m\u001b[0m\u001b[1;33m\u001b[0m\u001b[0m\n",
      "\u001b[1;32m~\\AppData\\Local\\Programs\\Python\\Python39\\lib\\site-packages\\pandas\\io\\parsers.py\u001b[0m in \u001b[0;36m_make_engine\u001b[1;34m(self, engine)\u001b[0m\n\u001b[0;32m   1178\u001b[0m     \u001b[1;32mdef\u001b[0m \u001b[0m_make_engine\u001b[0m\u001b[1;33m(\u001b[0m\u001b[0mself\u001b[0m\u001b[1;33m,\u001b[0m \u001b[0mengine\u001b[0m\u001b[1;33m=\u001b[0m\u001b[1;34m\"c\"\u001b[0m\u001b[1;33m)\u001b[0m\u001b[1;33m:\u001b[0m\u001b[1;33m\u001b[0m\u001b[1;33m\u001b[0m\u001b[0m\n\u001b[0;32m   1179\u001b[0m         \u001b[1;32mif\u001b[0m \u001b[0mengine\u001b[0m \u001b[1;33m==\u001b[0m \u001b[1;34m\"c\"\u001b[0m\u001b[1;33m:\u001b[0m\u001b[1;33m\u001b[0m\u001b[1;33m\u001b[0m\u001b[0m\n\u001b[1;32m-> 1180\u001b[1;33m             \u001b[0mself\u001b[0m\u001b[1;33m.\u001b[0m\u001b[0m_engine\u001b[0m \u001b[1;33m=\u001b[0m \u001b[0mCParserWrapper\u001b[0m\u001b[1;33m(\u001b[0m\u001b[0mself\u001b[0m\u001b[1;33m.\u001b[0m\u001b[0mf\u001b[0m\u001b[1;33m,\u001b[0m \u001b[1;33m**\u001b[0m\u001b[0mself\u001b[0m\u001b[1;33m.\u001b[0m\u001b[0moptions\u001b[0m\u001b[1;33m)\u001b[0m\u001b[1;33m\u001b[0m\u001b[1;33m\u001b[0m\u001b[0m\n\u001b[0m\u001b[0;32m   1181\u001b[0m         \u001b[1;32melse\u001b[0m\u001b[1;33m:\u001b[0m\u001b[1;33m\u001b[0m\u001b[1;33m\u001b[0m\u001b[0m\n\u001b[0;32m   1182\u001b[0m             \u001b[1;32mif\u001b[0m \u001b[0mengine\u001b[0m \u001b[1;33m==\u001b[0m \u001b[1;34m\"python\"\u001b[0m\u001b[1;33m:\u001b[0m\u001b[1;33m\u001b[0m\u001b[1;33m\u001b[0m\u001b[0m\n",
      "\u001b[1;32m~\\AppData\\Local\\Programs\\Python\\Python39\\lib\\site-packages\\pandas\\io\\parsers.py\u001b[0m in \u001b[0;36m__init__\u001b[1;34m(self, src, **kwds)\u001b[0m\n\u001b[0;32m   2008\u001b[0m         \u001b[0mkwds\u001b[0m\u001b[1;33m[\u001b[0m\u001b[1;34m\"usecols\"\u001b[0m\u001b[1;33m]\u001b[0m \u001b[1;33m=\u001b[0m \u001b[0mself\u001b[0m\u001b[1;33m.\u001b[0m\u001b[0musecols\u001b[0m\u001b[1;33m\u001b[0m\u001b[1;33m\u001b[0m\u001b[0m\n\u001b[0;32m   2009\u001b[0m \u001b[1;33m\u001b[0m\u001b[0m\n\u001b[1;32m-> 2010\u001b[1;33m         \u001b[0mself\u001b[0m\u001b[1;33m.\u001b[0m\u001b[0m_reader\u001b[0m \u001b[1;33m=\u001b[0m \u001b[0mparsers\u001b[0m\u001b[1;33m.\u001b[0m\u001b[0mTextReader\u001b[0m\u001b[1;33m(\u001b[0m\u001b[0msrc\u001b[0m\u001b[1;33m,\u001b[0m \u001b[1;33m**\u001b[0m\u001b[0mkwds\u001b[0m\u001b[1;33m)\u001b[0m\u001b[1;33m\u001b[0m\u001b[1;33m\u001b[0m\u001b[0m\n\u001b[0m\u001b[0;32m   2011\u001b[0m         \u001b[0mself\u001b[0m\u001b[1;33m.\u001b[0m\u001b[0munnamed_cols\u001b[0m \u001b[1;33m=\u001b[0m \u001b[0mself\u001b[0m\u001b[1;33m.\u001b[0m\u001b[0m_reader\u001b[0m\u001b[1;33m.\u001b[0m\u001b[0munnamed_cols\u001b[0m\u001b[1;33m\u001b[0m\u001b[1;33m\u001b[0m\u001b[0m\n\u001b[0;32m   2012\u001b[0m \u001b[1;33m\u001b[0m\u001b[0m\n",
      "\u001b[1;32mpandas\\_libs\\parsers.pyx\u001b[0m in \u001b[0;36mpandas._libs.parsers.TextReader.__cinit__\u001b[1;34m()\u001b[0m\n",
      "\u001b[1;32mpandas\\_libs\\parsers.pyx\u001b[0m in \u001b[0;36mpandas._libs.parsers.TextReader._setup_parser_source\u001b[1;34m()\u001b[0m\n",
      "\u001b[1;31mFileNotFoundError\u001b[0m: [Errno 2] No such file or directory: 'columns_meaning.csv'"
     ]
    }
   ],
   "source": [
    "columns = pd.read_csv(\"columns_meaning.csv\")\n",
    "columns"
   ]
  },
  {
   "cell_type": "code",
   "execution_count": 16,
   "metadata": {},
   "outputs": [
    {
     "output_type": "execute_result",
     "data": {
      "text/plain": [
       "       2   3  5           6  8    9    11         12        13     15\n",
       "0      a   6  2  gynecology  F  4.0   2.0     Urgent  Moderate  21-30\n",
       "1      a   6  4  gynecology  F  2.0  15.0     Trauma  Moderate  51-60\n",
       "2      c   5  2  anesthesia  F  3.0   5.0     Urgent  Moderate  71-80\n",
       "3      f   9  3  gynecology  B  4.0   6.0  Emergency  Moderate  11-20\n",
       "4      a   1  3  gynecology  E  2.0   8.0     Urgent  Moderate  51-60\n",
       "...   ..  .. ..         ... ..  ...   ...        ...       ...    ...\n",
       "99995  a   9  3  gynecology  B  3.0   3.0  Emergency  Moderate  51-60\n",
       "99996  b  11  2  gynecology  F  2.0   5.0     Urgent  Moderate  21-30\n",
       "99997  a   6  3  gynecology  F  3.0   2.0     Trauma     Minor  31-40\n",
       "99998  f   9  2  gynecology  B  4.0  15.0     Trauma  Moderate  41-50\n",
       "99999  e   1  3  gynecology  E  2.0   8.0  Emergency  Moderate  41-50\n",
       "\n",
       "[100000 rows x 10 columns]"
      ],
      "text/html": "<div>\n<style scoped>\n    .dataframe tbody tr th:only-of-type {\n        vertical-align: middle;\n    }\n\n    .dataframe tbody tr th {\n        vertical-align: top;\n    }\n\n    .dataframe thead th {\n        text-align: right;\n    }\n</style>\n<table border=\"1\" class=\"dataframe\">\n  <thead>\n    <tr style=\"text-align: right;\">\n      <th></th>\n      <th>2</th>\n      <th>3</th>\n      <th>5</th>\n      <th>6</th>\n      <th>8</th>\n      <th>9</th>\n      <th>11</th>\n      <th>12</th>\n      <th>13</th>\n      <th>15</th>\n    </tr>\n  </thead>\n  <tbody>\n    <tr>\n      <th>0</th>\n      <td>a</td>\n      <td>6</td>\n      <td>2</td>\n      <td>gynecology</td>\n      <td>F</td>\n      <td>4.0</td>\n      <td>2.0</td>\n      <td>Urgent</td>\n      <td>Moderate</td>\n      <td>21-30</td>\n    </tr>\n    <tr>\n      <th>1</th>\n      <td>a</td>\n      <td>6</td>\n      <td>4</td>\n      <td>gynecology</td>\n      <td>F</td>\n      <td>2.0</td>\n      <td>15.0</td>\n      <td>Trauma</td>\n      <td>Moderate</td>\n      <td>51-60</td>\n    </tr>\n    <tr>\n      <th>2</th>\n      <td>c</td>\n      <td>5</td>\n      <td>2</td>\n      <td>anesthesia</td>\n      <td>F</td>\n      <td>3.0</td>\n      <td>5.0</td>\n      <td>Urgent</td>\n      <td>Moderate</td>\n      <td>71-80</td>\n    </tr>\n    <tr>\n      <th>3</th>\n      <td>f</td>\n      <td>9</td>\n      <td>3</td>\n      <td>gynecology</td>\n      <td>B</td>\n      <td>4.0</td>\n      <td>6.0</td>\n      <td>Emergency</td>\n      <td>Moderate</td>\n      <td>11-20</td>\n    </tr>\n    <tr>\n      <th>4</th>\n      <td>a</td>\n      <td>1</td>\n      <td>3</td>\n      <td>gynecology</td>\n      <td>E</td>\n      <td>2.0</td>\n      <td>8.0</td>\n      <td>Urgent</td>\n      <td>Moderate</td>\n      <td>51-60</td>\n    </tr>\n    <tr>\n      <th>...</th>\n      <td>...</td>\n      <td>...</td>\n      <td>...</td>\n      <td>...</td>\n      <td>...</td>\n      <td>...</td>\n      <td>...</td>\n      <td>...</td>\n      <td>...</td>\n      <td>...</td>\n    </tr>\n    <tr>\n      <th>99995</th>\n      <td>a</td>\n      <td>9</td>\n      <td>3</td>\n      <td>gynecology</td>\n      <td>B</td>\n      <td>3.0</td>\n      <td>3.0</td>\n      <td>Emergency</td>\n      <td>Moderate</td>\n      <td>51-60</td>\n    </tr>\n    <tr>\n      <th>99996</th>\n      <td>b</td>\n      <td>11</td>\n      <td>2</td>\n      <td>gynecology</td>\n      <td>F</td>\n      <td>2.0</td>\n      <td>5.0</td>\n      <td>Urgent</td>\n      <td>Moderate</td>\n      <td>21-30</td>\n    </tr>\n    <tr>\n      <th>99997</th>\n      <td>a</td>\n      <td>6</td>\n      <td>3</td>\n      <td>gynecology</td>\n      <td>F</td>\n      <td>3.0</td>\n      <td>2.0</td>\n      <td>Trauma</td>\n      <td>Minor</td>\n      <td>31-40</td>\n    </tr>\n    <tr>\n      <th>99998</th>\n      <td>f</td>\n      <td>9</td>\n      <td>2</td>\n      <td>gynecology</td>\n      <td>B</td>\n      <td>4.0</td>\n      <td>15.0</td>\n      <td>Trauma</td>\n      <td>Moderate</td>\n      <td>41-50</td>\n    </tr>\n    <tr>\n      <th>99999</th>\n      <td>e</td>\n      <td>1</td>\n      <td>3</td>\n      <td>gynecology</td>\n      <td>E</td>\n      <td>2.0</td>\n      <td>8.0</td>\n      <td>Emergency</td>\n      <td>Moderate</td>\n      <td>41-50</td>\n    </tr>\n  </tbody>\n</table>\n<p>100000 rows × 10 columns</p>\n</div>"
     },
     "metadata": {},
     "execution_count": 16
    }
   ],
   "source": [
    "data= df[[\"2\", \"3\", \"5\", \"6\", \"8\", \"9\", \"11\", \"12\", \"13\", \"15\"]]\n",
    "data"
   ]
  },
  {
   "cell_type": "code",
   "execution_count": 7,
   "metadata": {},
   "outputs": [
    {
     "output_type": "execute_result",
     "data": {
      "text/plain": [
       "11    1483\n",
       "9       33\n",
       "15       0\n",
       "13       0\n",
       "12       0\n",
       "8        0\n",
       "6        0\n",
       "5        0\n",
       "3        0\n",
       "2        0\n",
       "dtype: int64"
      ]
     },
     "metadata": {},
     "execution_count": 7
    }
   ],
   "source": [
    "data.isna().sum().sort_values(ascending=False)"
   ]
  },
  {
   "cell_type": "code",
   "execution_count": 9,
   "metadata": {},
   "outputs": [
    {
     "output_type": "execute_result",
     "data": {
      "text/plain": [
       "2.0    38932\n",
       "3.0    34548\n",
       "4.0    18096\n",
       "1.0     8391\n",
       "Name: 9, dtype: int64"
      ]
     },
     "metadata": {},
     "execution_count": 9
    }
   ],
   "source": [
    "data[\"9\"].value_counts()"
   ]
  },
  {
   "cell_type": "code",
   "execution_count": 17,
   "metadata": {},
   "outputs": [
    {
     "output_type": "execute_result",
     "data": {
      "text/plain": [
       "       2   3  5           6  8    9    11         12        13     15\n",
       "0      a   6  2  gynecology  F  4.0   2.0     Urgent  Moderate  21-30\n",
       "1      a   6  4  gynecology  F  2.0  15.0     Trauma  Moderate  51-60\n",
       "2      c   5  2  anesthesia  F  3.0   5.0     Urgent  Moderate  71-80\n",
       "3      f   9  3  gynecology  B  4.0   6.0  Emergency  Moderate  11-20\n",
       "4      a   1  3  gynecology  E  2.0   8.0     Urgent  Moderate  51-60\n",
       "...   ..  .. ..         ... ..  ...   ...        ...       ...    ...\n",
       "99995  a   9  3  gynecology  B  3.0   3.0  Emergency  Moderate  51-60\n",
       "99996  b  11  2  gynecology  F  2.0   5.0     Urgent  Moderate  21-30\n",
       "99997  a   6  3  gynecology  F  3.0   2.0     Trauma     Minor  31-40\n",
       "99998  f   9  2  gynecology  B  4.0  15.0     Trauma  Moderate  41-50\n",
       "99999  e   1  3  gynecology  E  2.0   8.0  Emergency  Moderate  41-50\n",
       "\n",
       "[98484 rows x 10 columns]"
      ],
      "text/html": "<div>\n<style scoped>\n    .dataframe tbody tr th:only-of-type {\n        vertical-align: middle;\n    }\n\n    .dataframe tbody tr th {\n        vertical-align: top;\n    }\n\n    .dataframe thead th {\n        text-align: right;\n    }\n</style>\n<table border=\"1\" class=\"dataframe\">\n  <thead>\n    <tr style=\"text-align: right;\">\n      <th></th>\n      <th>2</th>\n      <th>3</th>\n      <th>5</th>\n      <th>6</th>\n      <th>8</th>\n      <th>9</th>\n      <th>11</th>\n      <th>12</th>\n      <th>13</th>\n      <th>15</th>\n    </tr>\n  </thead>\n  <tbody>\n    <tr>\n      <th>0</th>\n      <td>a</td>\n      <td>6</td>\n      <td>2</td>\n      <td>gynecology</td>\n      <td>F</td>\n      <td>4.0</td>\n      <td>2.0</td>\n      <td>Urgent</td>\n      <td>Moderate</td>\n      <td>21-30</td>\n    </tr>\n    <tr>\n      <th>1</th>\n      <td>a</td>\n      <td>6</td>\n      <td>4</td>\n      <td>gynecology</td>\n      <td>F</td>\n      <td>2.0</td>\n      <td>15.0</td>\n      <td>Trauma</td>\n      <td>Moderate</td>\n      <td>51-60</td>\n    </tr>\n    <tr>\n      <th>2</th>\n      <td>c</td>\n      <td>5</td>\n      <td>2</td>\n      <td>anesthesia</td>\n      <td>F</td>\n      <td>3.0</td>\n      <td>5.0</td>\n      <td>Urgent</td>\n      <td>Moderate</td>\n      <td>71-80</td>\n    </tr>\n    <tr>\n      <th>3</th>\n      <td>f</td>\n      <td>9</td>\n      <td>3</td>\n      <td>gynecology</td>\n      <td>B</td>\n      <td>4.0</td>\n      <td>6.0</td>\n      <td>Emergency</td>\n      <td>Moderate</td>\n      <td>11-20</td>\n    </tr>\n    <tr>\n      <th>4</th>\n      <td>a</td>\n      <td>1</td>\n      <td>3</td>\n      <td>gynecology</td>\n      <td>E</td>\n      <td>2.0</td>\n      <td>8.0</td>\n      <td>Urgent</td>\n      <td>Moderate</td>\n      <td>51-60</td>\n    </tr>\n    <tr>\n      <th>...</th>\n      <td>...</td>\n      <td>...</td>\n      <td>...</td>\n      <td>...</td>\n      <td>...</td>\n      <td>...</td>\n      <td>...</td>\n      <td>...</td>\n      <td>...</td>\n      <td>...</td>\n    </tr>\n    <tr>\n      <th>99995</th>\n      <td>a</td>\n      <td>9</td>\n      <td>3</td>\n      <td>gynecology</td>\n      <td>B</td>\n      <td>3.0</td>\n      <td>3.0</td>\n      <td>Emergency</td>\n      <td>Moderate</td>\n      <td>51-60</td>\n    </tr>\n    <tr>\n      <th>99996</th>\n      <td>b</td>\n      <td>11</td>\n      <td>2</td>\n      <td>gynecology</td>\n      <td>F</td>\n      <td>2.0</td>\n      <td>5.0</td>\n      <td>Urgent</td>\n      <td>Moderate</td>\n      <td>21-30</td>\n    </tr>\n    <tr>\n      <th>99997</th>\n      <td>a</td>\n      <td>6</td>\n      <td>3</td>\n      <td>gynecology</td>\n      <td>F</td>\n      <td>3.0</td>\n      <td>2.0</td>\n      <td>Trauma</td>\n      <td>Minor</td>\n      <td>31-40</td>\n    </tr>\n    <tr>\n      <th>99998</th>\n      <td>f</td>\n      <td>9</td>\n      <td>2</td>\n      <td>gynecology</td>\n      <td>B</td>\n      <td>4.0</td>\n      <td>15.0</td>\n      <td>Trauma</td>\n      <td>Moderate</td>\n      <td>41-50</td>\n    </tr>\n    <tr>\n      <th>99999</th>\n      <td>e</td>\n      <td>1</td>\n      <td>3</td>\n      <td>gynecology</td>\n      <td>E</td>\n      <td>2.0</td>\n      <td>8.0</td>\n      <td>Emergency</td>\n      <td>Moderate</td>\n      <td>41-50</td>\n    </tr>\n  </tbody>\n</table>\n<p>98484 rows × 10 columns</p>\n</div>"
     },
     "metadata": {},
     "execution_count": 17
    }
   ],
   "source": [
    "data = data.dropna()\n",
    "data"
   ]
  },
  {
   "cell_type": "code",
   "execution_count": 12,
   "metadata": {},
   "outputs": [
    {
     "output_type": "stream",
     "name": "stdout",
     "text": [
      "<class 'pandas.core.frame.DataFrame'>\nInt64Index: 98484 entries, 0 to 99999\nData columns (total 10 columns):\n #   Column  Non-Null Count  Dtype  \n---  ------  --------------  -----  \n 0   2       98484 non-null  object \n 1   3       98484 non-null  int64  \n 2   5       98484 non-null  int64  \n 3   6       98484 non-null  object \n 4   8       98484 non-null  object \n 5   9       98484 non-null  float64\n 6   11      98484 non-null  float64\n 7   12      98484 non-null  object \n 8   13      98484 non-null  object \n 9   15      98484 non-null  object \ndtypes: float64(2), int64(2), object(6)\nmemory usage: 10.8+ MB\n"
     ]
    }
   ],
   "source": [
    "data.info()"
   ]
  },
  {
   "cell_type": "code",
   "execution_count": 21,
   "metadata": {},
   "outputs": [],
   "source": [
    "def label(dt= None, name_col=None):\n",
    "    lb= preprocessing.LabelEncoder()\n",
    "    label_transf= lb.fit_transform(dt[name_col])\n",
    "    dt[name_col]= label_transf\n",
    "    return dt \n"
   ]
  },
  {
   "cell_type": "code",
   "execution_count": 22,
   "metadata": {},
   "outputs": [
    {
     "output_type": "execute_result",
     "data": {
      "text/plain": [
       "       2   3  5  6  8    9    11         12        13     15\n",
       "0      a   6  2  2  F  4.0   2.0     Urgent  Moderate  21-30\n",
       "1      a   6  4  2  F  2.0  15.0     Trauma  Moderate  51-60\n",
       "2      c   5  2  1  F  3.0   5.0     Urgent  Moderate  71-80\n",
       "3      f   9  3  2  B  4.0   6.0  Emergency  Moderate  11-20\n",
       "4      a   1  3  2  E  2.0   8.0     Urgent  Moderate  51-60\n",
       "...   ..  .. .. .. ..  ...   ...        ...       ...    ...\n",
       "99995  a   9  3  2  B  3.0   3.0  Emergency  Moderate  51-60\n",
       "99996  b  11  2  2  F  2.0   5.0     Urgent  Moderate  21-30\n",
       "99997  a   6  3  2  F  3.0   2.0     Trauma     Minor  31-40\n",
       "99998  f   9  2  2  B  4.0  15.0     Trauma  Moderate  41-50\n",
       "99999  e   1  3  2  E  2.0   8.0  Emergency  Moderate  41-50\n",
       "\n",
       "[98484 rows x 10 columns]"
      ],
      "text/html": "<div>\n<style scoped>\n    .dataframe tbody tr th:only-of-type {\n        vertical-align: middle;\n    }\n\n    .dataframe tbody tr th {\n        vertical-align: top;\n    }\n\n    .dataframe thead th {\n        text-align: right;\n    }\n</style>\n<table border=\"1\" class=\"dataframe\">\n  <thead>\n    <tr style=\"text-align: right;\">\n      <th></th>\n      <th>2</th>\n      <th>3</th>\n      <th>5</th>\n      <th>6</th>\n      <th>8</th>\n      <th>9</th>\n      <th>11</th>\n      <th>12</th>\n      <th>13</th>\n      <th>15</th>\n    </tr>\n  </thead>\n  <tbody>\n    <tr>\n      <th>0</th>\n      <td>a</td>\n      <td>6</td>\n      <td>2</td>\n      <td>2</td>\n      <td>F</td>\n      <td>4.0</td>\n      <td>2.0</td>\n      <td>Urgent</td>\n      <td>Moderate</td>\n      <td>21-30</td>\n    </tr>\n    <tr>\n      <th>1</th>\n      <td>a</td>\n      <td>6</td>\n      <td>4</td>\n      <td>2</td>\n      <td>F</td>\n      <td>2.0</td>\n      <td>15.0</td>\n      <td>Trauma</td>\n      <td>Moderate</td>\n      <td>51-60</td>\n    </tr>\n    <tr>\n      <th>2</th>\n      <td>c</td>\n      <td>5</td>\n      <td>2</td>\n      <td>1</td>\n      <td>F</td>\n      <td>3.0</td>\n      <td>5.0</td>\n      <td>Urgent</td>\n      <td>Moderate</td>\n      <td>71-80</td>\n    </tr>\n    <tr>\n      <th>3</th>\n      <td>f</td>\n      <td>9</td>\n      <td>3</td>\n      <td>2</td>\n      <td>B</td>\n      <td>4.0</td>\n      <td>6.0</td>\n      <td>Emergency</td>\n      <td>Moderate</td>\n      <td>11-20</td>\n    </tr>\n    <tr>\n      <th>4</th>\n      <td>a</td>\n      <td>1</td>\n      <td>3</td>\n      <td>2</td>\n      <td>E</td>\n      <td>2.0</td>\n      <td>8.0</td>\n      <td>Urgent</td>\n      <td>Moderate</td>\n      <td>51-60</td>\n    </tr>\n    <tr>\n      <th>...</th>\n      <td>...</td>\n      <td>...</td>\n      <td>...</td>\n      <td>...</td>\n      <td>...</td>\n      <td>...</td>\n      <td>...</td>\n      <td>...</td>\n      <td>...</td>\n      <td>...</td>\n    </tr>\n    <tr>\n      <th>99995</th>\n      <td>a</td>\n      <td>9</td>\n      <td>3</td>\n      <td>2</td>\n      <td>B</td>\n      <td>3.0</td>\n      <td>3.0</td>\n      <td>Emergency</td>\n      <td>Moderate</td>\n      <td>51-60</td>\n    </tr>\n    <tr>\n      <th>99996</th>\n      <td>b</td>\n      <td>11</td>\n      <td>2</td>\n      <td>2</td>\n      <td>F</td>\n      <td>2.0</td>\n      <td>5.0</td>\n      <td>Urgent</td>\n      <td>Moderate</td>\n      <td>21-30</td>\n    </tr>\n    <tr>\n      <th>99997</th>\n      <td>a</td>\n      <td>6</td>\n      <td>3</td>\n      <td>2</td>\n      <td>F</td>\n      <td>3.0</td>\n      <td>2.0</td>\n      <td>Trauma</td>\n      <td>Minor</td>\n      <td>31-40</td>\n    </tr>\n    <tr>\n      <th>99998</th>\n      <td>f</td>\n      <td>9</td>\n      <td>2</td>\n      <td>2</td>\n      <td>B</td>\n      <td>4.0</td>\n      <td>15.0</td>\n      <td>Trauma</td>\n      <td>Moderate</td>\n      <td>41-50</td>\n    </tr>\n    <tr>\n      <th>99999</th>\n      <td>e</td>\n      <td>1</td>\n      <td>3</td>\n      <td>2</td>\n      <td>E</td>\n      <td>2.0</td>\n      <td>8.0</td>\n      <td>Emergency</td>\n      <td>Moderate</td>\n      <td>41-50</td>\n    </tr>\n  </tbody>\n</table>\n<p>98484 rows × 10 columns</p>\n</div>"
     },
     "metadata": {},
     "execution_count": 22
    }
   ],
   "source": [
    "label(dt=data, name_col= \"6\")"
   ]
  },
  {
   "cell_type": "code",
   "execution_count": 23,
   "metadata": {},
   "outputs": [
    {
     "output_type": "execute_result",
     "data": {
      "text/plain": [
       "       2   3  5  6  8    9    11  12  13  15\n",
       "0      0   6  2  2  5  4.0   2.0   2   2   2\n",
       "1      0   6  4  2  5  2.0  15.0   1   2   5\n",
       "2      2   5  2  1  5  3.0   5.0   2   2   7\n",
       "3      5   9  3  2  1  4.0   6.0   0   2   1\n",
       "4      0   1  3  2  4  2.0   8.0   2   2   5\n",
       "...   ..  .. .. .. ..  ...   ...  ..  ..  ..\n",
       "99995  0   9  3  2  1  3.0   3.0   0   2   5\n",
       "99996  1  11  2  2  5  2.0   5.0   2   2   2\n",
       "99997  0   6  3  2  5  3.0   2.0   1   1   3\n",
       "99998  5   9  2  2  1  4.0  15.0   1   2   4\n",
       "99999  4   1  3  2  4  2.0   8.0   0   2   4\n",
       "\n",
       "[98484 rows x 10 columns]"
      ],
      "text/html": "<div>\n<style scoped>\n    .dataframe tbody tr th:only-of-type {\n        vertical-align: middle;\n    }\n\n    .dataframe tbody tr th {\n        vertical-align: top;\n    }\n\n    .dataframe thead th {\n        text-align: right;\n    }\n</style>\n<table border=\"1\" class=\"dataframe\">\n  <thead>\n    <tr style=\"text-align: right;\">\n      <th></th>\n      <th>2</th>\n      <th>3</th>\n      <th>5</th>\n      <th>6</th>\n      <th>8</th>\n      <th>9</th>\n      <th>11</th>\n      <th>12</th>\n      <th>13</th>\n      <th>15</th>\n    </tr>\n  </thead>\n  <tbody>\n    <tr>\n      <th>0</th>\n      <td>0</td>\n      <td>6</td>\n      <td>2</td>\n      <td>2</td>\n      <td>5</td>\n      <td>4.0</td>\n      <td>2.0</td>\n      <td>2</td>\n      <td>2</td>\n      <td>2</td>\n    </tr>\n    <tr>\n      <th>1</th>\n      <td>0</td>\n      <td>6</td>\n      <td>4</td>\n      <td>2</td>\n      <td>5</td>\n      <td>2.0</td>\n      <td>15.0</td>\n      <td>1</td>\n      <td>2</td>\n      <td>5</td>\n    </tr>\n    <tr>\n      <th>2</th>\n      <td>2</td>\n      <td>5</td>\n      <td>2</td>\n      <td>1</td>\n      <td>5</td>\n      <td>3.0</td>\n      <td>5.0</td>\n      <td>2</td>\n      <td>2</td>\n      <td>7</td>\n    </tr>\n    <tr>\n      <th>3</th>\n      <td>5</td>\n      <td>9</td>\n      <td>3</td>\n      <td>2</td>\n      <td>1</td>\n      <td>4.0</td>\n      <td>6.0</td>\n      <td>0</td>\n      <td>2</td>\n      <td>1</td>\n    </tr>\n    <tr>\n      <th>4</th>\n      <td>0</td>\n      <td>1</td>\n      <td>3</td>\n      <td>2</td>\n      <td>4</td>\n      <td>2.0</td>\n      <td>8.0</td>\n      <td>2</td>\n      <td>2</td>\n      <td>5</td>\n    </tr>\n    <tr>\n      <th>...</th>\n      <td>...</td>\n      <td>...</td>\n      <td>...</td>\n      <td>...</td>\n      <td>...</td>\n      <td>...</td>\n      <td>...</td>\n      <td>...</td>\n      <td>...</td>\n      <td>...</td>\n    </tr>\n    <tr>\n      <th>99995</th>\n      <td>0</td>\n      <td>9</td>\n      <td>3</td>\n      <td>2</td>\n      <td>1</td>\n      <td>3.0</td>\n      <td>3.0</td>\n      <td>0</td>\n      <td>2</td>\n      <td>5</td>\n    </tr>\n    <tr>\n      <th>99996</th>\n      <td>1</td>\n      <td>11</td>\n      <td>2</td>\n      <td>2</td>\n      <td>5</td>\n      <td>2.0</td>\n      <td>5.0</td>\n      <td>2</td>\n      <td>2</td>\n      <td>2</td>\n    </tr>\n    <tr>\n      <th>99997</th>\n      <td>0</td>\n      <td>6</td>\n      <td>3</td>\n      <td>2</td>\n      <td>5</td>\n      <td>3.0</td>\n      <td>2.0</td>\n      <td>1</td>\n      <td>1</td>\n      <td>3</td>\n    </tr>\n    <tr>\n      <th>99998</th>\n      <td>5</td>\n      <td>9</td>\n      <td>2</td>\n      <td>2</td>\n      <td>1</td>\n      <td>4.0</td>\n      <td>15.0</td>\n      <td>1</td>\n      <td>2</td>\n      <td>4</td>\n    </tr>\n    <tr>\n      <th>99999</th>\n      <td>4</td>\n      <td>1</td>\n      <td>3</td>\n      <td>2</td>\n      <td>4</td>\n      <td>2.0</td>\n      <td>8.0</td>\n      <td>0</td>\n      <td>2</td>\n      <td>4</td>\n    </tr>\n  </tbody>\n</table>\n<p>98484 rows × 10 columns</p>\n</div>"
     },
     "metadata": {},
     "execution_count": 23
    }
   ],
   "source": [
    "label(dt=data, name_col= \"8\")\n",
    "label(dt=data, name_col= \"2\")\n",
    "label(dt=data, name_col= \"12\")\n",
    "label(dt=data, name_col= \"13\")\n",
    "label(dt=data, name_col= \"15\")"
   ]
  },
  {
   "cell_type": "code",
   "execution_count": 24,
   "metadata": {},
   "outputs": [
    {
     "output_type": "execute_result",
     "data": {
      "text/plain": [
       "       2   3  5  6  8    9    11  12  13  15\n",
       "0      0   6  2  2  5  4.0   2.0   2   2   2\n",
       "1      0   6  4  2  5  2.0  15.0   1   2   5\n",
       "2      2   5  2  1  5  3.0   5.0   2   2   7\n",
       "3      5   9  3  2  1  4.0   6.0   0   2   1\n",
       "4      0   1  3  2  4  2.0   8.0   2   2   5\n",
       "...   ..  .. .. .. ..  ...   ...  ..  ..  ..\n",
       "99995  0   9  3  2  1  3.0   3.0   0   2   5\n",
       "99996  1  11  2  2  5  2.0   5.0   2   2   2\n",
       "99997  0   6  3  2  5  3.0   2.0   1   1   3\n",
       "99998  5   9  2  2  1  4.0  15.0   1   2   4\n",
       "99999  4   1  3  2  4  2.0   8.0   0   2   4\n",
       "\n",
       "[98484 rows x 10 columns]"
      ],
      "text/html": "<div>\n<style scoped>\n    .dataframe tbody tr th:only-of-type {\n        vertical-align: middle;\n    }\n\n    .dataframe tbody tr th {\n        vertical-align: top;\n    }\n\n    .dataframe thead th {\n        text-align: right;\n    }\n</style>\n<table border=\"1\" class=\"dataframe\">\n  <thead>\n    <tr style=\"text-align: right;\">\n      <th></th>\n      <th>2</th>\n      <th>3</th>\n      <th>5</th>\n      <th>6</th>\n      <th>8</th>\n      <th>9</th>\n      <th>11</th>\n      <th>12</th>\n      <th>13</th>\n      <th>15</th>\n    </tr>\n  </thead>\n  <tbody>\n    <tr>\n      <th>0</th>\n      <td>0</td>\n      <td>6</td>\n      <td>2</td>\n      <td>2</td>\n      <td>5</td>\n      <td>4.0</td>\n      <td>2.0</td>\n      <td>2</td>\n      <td>2</td>\n      <td>2</td>\n    </tr>\n    <tr>\n      <th>1</th>\n      <td>0</td>\n      <td>6</td>\n      <td>4</td>\n      <td>2</td>\n      <td>5</td>\n      <td>2.0</td>\n      <td>15.0</td>\n      <td>1</td>\n      <td>2</td>\n      <td>5</td>\n    </tr>\n    <tr>\n      <th>2</th>\n      <td>2</td>\n      <td>5</td>\n      <td>2</td>\n      <td>1</td>\n      <td>5</td>\n      <td>3.0</td>\n      <td>5.0</td>\n      <td>2</td>\n      <td>2</td>\n      <td>7</td>\n    </tr>\n    <tr>\n      <th>3</th>\n      <td>5</td>\n      <td>9</td>\n      <td>3</td>\n      <td>2</td>\n      <td>1</td>\n      <td>4.0</td>\n      <td>6.0</td>\n      <td>0</td>\n      <td>2</td>\n      <td>1</td>\n    </tr>\n    <tr>\n      <th>4</th>\n      <td>0</td>\n      <td>1</td>\n      <td>3</td>\n      <td>2</td>\n      <td>4</td>\n      <td>2.0</td>\n      <td>8.0</td>\n      <td>2</td>\n      <td>2</td>\n      <td>5</td>\n    </tr>\n    <tr>\n      <th>...</th>\n      <td>...</td>\n      <td>...</td>\n      <td>...</td>\n      <td>...</td>\n      <td>...</td>\n      <td>...</td>\n      <td>...</td>\n      <td>...</td>\n      <td>...</td>\n      <td>...</td>\n    </tr>\n    <tr>\n      <th>99995</th>\n      <td>0</td>\n      <td>9</td>\n      <td>3</td>\n      <td>2</td>\n      <td>1</td>\n      <td>3.0</td>\n      <td>3.0</td>\n      <td>0</td>\n      <td>2</td>\n      <td>5</td>\n    </tr>\n    <tr>\n      <th>99996</th>\n      <td>1</td>\n      <td>11</td>\n      <td>2</td>\n      <td>2</td>\n      <td>5</td>\n      <td>2.0</td>\n      <td>5.0</td>\n      <td>2</td>\n      <td>2</td>\n      <td>2</td>\n    </tr>\n    <tr>\n      <th>99997</th>\n      <td>0</td>\n      <td>6</td>\n      <td>3</td>\n      <td>2</td>\n      <td>5</td>\n      <td>3.0</td>\n      <td>2.0</td>\n      <td>1</td>\n      <td>1</td>\n      <td>3</td>\n    </tr>\n    <tr>\n      <th>99998</th>\n      <td>5</td>\n      <td>9</td>\n      <td>2</td>\n      <td>2</td>\n      <td>1</td>\n      <td>4.0</td>\n      <td>15.0</td>\n      <td>1</td>\n      <td>2</td>\n      <td>4</td>\n    </tr>\n    <tr>\n      <th>99999</th>\n      <td>4</td>\n      <td>1</td>\n      <td>3</td>\n      <td>2</td>\n      <td>4</td>\n      <td>2.0</td>\n      <td>8.0</td>\n      <td>0</td>\n      <td>2</td>\n      <td>4</td>\n    </tr>\n  </tbody>\n</table>\n<p>98484 rows × 10 columns</p>\n</div>"
     },
     "metadata": {},
     "execution_count": 24
    }
   ],
   "source": [
    "dt= label(dt=data, name_col= \"15\")\n",
    "dt"
   ]
  },
  {
   "cell_type": "code",
   "execution_count": 29,
   "metadata": {},
   "outputs": [],
   "source": [
    "df= df.dropna()\n"
   ]
  },
  {
   "cell_type": "code",
   "execution_count": 30,
   "metadata": {},
   "outputs": [
    {
     "output_type": "execute_result",
     "data": {
      "text/plain": [
       "(98484, 10)"
      ]
     },
     "metadata": {},
     "execution_count": 30
    }
   ],
   "source": [
    "X = np.array(dt)\n",
    "y = np.array(df['17'])\n",
    "X.shape"
   ]
  },
  {
   "cell_type": "code",
   "execution_count": 31,
   "metadata": {},
   "outputs": [
    {
     "output_type": "execute_result",
     "data": {
      "text/plain": [
       "(98484,)"
      ]
     },
     "metadata": {},
     "execution_count": 31
    }
   ],
   "source": [
    "y.shape"
   ]
  },
  {
   "cell_type": "code",
   "execution_count": 32,
   "metadata": {},
   "outputs": [],
   "source": [
    "X_train, X_test, y_train, y_test = train_test_split(X, y, test_size=0.20)\n"
   ]
  },
  {
   "cell_type": "code",
   "execution_count": 33,
   "metadata": {},
   "outputs": [],
   "source": [
    "model = LogisticRegression()"
   ]
  },
  {
   "cell_type": "code",
   "execution_count": 34,
   "metadata": {},
   "outputs": [
    {
     "output_type": "execute_result",
     "data": {
      "text/plain": [
       "LogisticRegression()"
      ]
     },
     "metadata": {},
     "execution_count": 34
    }
   ],
   "source": [
    "model.fit(X_train, y_train)"
   ]
  },
  {
   "cell_type": "code",
   "execution_count": 35,
   "metadata": {},
   "outputs": [],
   "source": [
    "predictions = model.predict(X_test)"
   ]
  },
  {
   "cell_type": "code",
   "execution_count": 36,
   "metadata": {},
   "outputs": [
    {
     "output_type": "stream",
     "name": "stdout",
     "text": [
      "['21-30' '21-30' '21-30' ... '51-60' '21-30' '11-20']\n"
     ]
    }
   ],
   "source": [
    "print(predictions)"
   ]
  },
  {
   "cell_type": "code",
   "execution_count": 37,
   "metadata": {},
   "outputs": [
    {
     "output_type": "execute_result",
     "data": {
      "text/plain": [
       "0.29897954003147686"
      ]
     },
     "metadata": {},
     "execution_count": 37
    }
   ],
   "source": [
    "model.score(X_test,y_test)"
   ]
  },
  {
   "cell_type": "code",
   "execution_count": 38,
   "metadata": {},
   "outputs": [],
   "source": [
    "to_pred = pd.read_csv(\"test_set.csv\")"
   ]
  },
  {
   "cell_type": "code",
   "execution_count": 40,
   "metadata": {},
   "outputs": [
    {
     "output_type": "execute_result",
     "data": {
      "text/plain": [
       "        2   3  5                   6  8    9    11         12        13     15\n",
       "0       a   7  4          gynecology  C  2.0   8.0  Emergency     Minor  41-50\n",
       "1       c   5  3          gynecology  F  2.0  15.0     Trauma  Moderate  31-40\n",
       "2       e   1  4          gynecology  E  4.0   4.0  Emergency     Minor  71-80\n",
       "3       c   3  4  TB & Chest disease  A  2.0   9.0     Urgent   Extreme  31-40\n",
       "4       a   6  4          gynecology  F  1.0   8.0  Emergency     Minor  21-30\n",
       "...    ..  .. ..                 ... ..  ...   ...        ...       ...    ...\n",
       "133739  d  13  6          anesthesia  B  3.0  25.0     Urgent     Minor  51-60\n",
       "133740  a   7  2          gynecology  C  2.0   8.0  Emergency  Moderate  61-70\n",
       "133741  c   3  3          gynecology  A  3.0   5.0     Trauma     Minor  31-40\n",
       "133742  b  11  4          gynecology  F  2.0   2.0     Trauma   Extreme  31-40\n",
       "133743  a   6  4  TB & Chest disease  F  2.0  12.0     Trauma  Moderate  51-60\n",
       "\n",
       "[133744 rows x 10 columns]"
      ],
      "text/html": "<div>\n<style scoped>\n    .dataframe tbody tr th:only-of-type {\n        vertical-align: middle;\n    }\n\n    .dataframe tbody tr th {\n        vertical-align: top;\n    }\n\n    .dataframe thead th {\n        text-align: right;\n    }\n</style>\n<table border=\"1\" class=\"dataframe\">\n  <thead>\n    <tr style=\"text-align: right;\">\n      <th></th>\n      <th>2</th>\n      <th>3</th>\n      <th>5</th>\n      <th>6</th>\n      <th>8</th>\n      <th>9</th>\n      <th>11</th>\n      <th>12</th>\n      <th>13</th>\n      <th>15</th>\n    </tr>\n  </thead>\n  <tbody>\n    <tr>\n      <th>0</th>\n      <td>a</td>\n      <td>7</td>\n      <td>4</td>\n      <td>gynecology</td>\n      <td>C</td>\n      <td>2.0</td>\n      <td>8.0</td>\n      <td>Emergency</td>\n      <td>Minor</td>\n      <td>41-50</td>\n    </tr>\n    <tr>\n      <th>1</th>\n      <td>c</td>\n      <td>5</td>\n      <td>3</td>\n      <td>gynecology</td>\n      <td>F</td>\n      <td>2.0</td>\n      <td>15.0</td>\n      <td>Trauma</td>\n      <td>Moderate</td>\n      <td>31-40</td>\n    </tr>\n    <tr>\n      <th>2</th>\n      <td>e</td>\n      <td>1</td>\n      <td>4</td>\n      <td>gynecology</td>\n      <td>E</td>\n      <td>4.0</td>\n      <td>4.0</td>\n      <td>Emergency</td>\n      <td>Minor</td>\n      <td>71-80</td>\n    </tr>\n    <tr>\n      <th>3</th>\n      <td>c</td>\n      <td>3</td>\n      <td>4</td>\n      <td>TB &amp; Chest disease</td>\n      <td>A</td>\n      <td>2.0</td>\n      <td>9.0</td>\n      <td>Urgent</td>\n      <td>Extreme</td>\n      <td>31-40</td>\n    </tr>\n    <tr>\n      <th>4</th>\n      <td>a</td>\n      <td>6</td>\n      <td>4</td>\n      <td>gynecology</td>\n      <td>F</td>\n      <td>1.0</td>\n      <td>8.0</td>\n      <td>Emergency</td>\n      <td>Minor</td>\n      <td>21-30</td>\n    </tr>\n    <tr>\n      <th>...</th>\n      <td>...</td>\n      <td>...</td>\n      <td>...</td>\n      <td>...</td>\n      <td>...</td>\n      <td>...</td>\n      <td>...</td>\n      <td>...</td>\n      <td>...</td>\n      <td>...</td>\n    </tr>\n    <tr>\n      <th>133739</th>\n      <td>d</td>\n      <td>13</td>\n      <td>6</td>\n      <td>anesthesia</td>\n      <td>B</td>\n      <td>3.0</td>\n      <td>25.0</td>\n      <td>Urgent</td>\n      <td>Minor</td>\n      <td>51-60</td>\n    </tr>\n    <tr>\n      <th>133740</th>\n      <td>a</td>\n      <td>7</td>\n      <td>2</td>\n      <td>gynecology</td>\n      <td>C</td>\n      <td>2.0</td>\n      <td>8.0</td>\n      <td>Emergency</td>\n      <td>Moderate</td>\n      <td>61-70</td>\n    </tr>\n    <tr>\n      <th>133741</th>\n      <td>c</td>\n      <td>3</td>\n      <td>3</td>\n      <td>gynecology</td>\n      <td>A</td>\n      <td>3.0</td>\n      <td>5.0</td>\n      <td>Trauma</td>\n      <td>Minor</td>\n      <td>31-40</td>\n    </tr>\n    <tr>\n      <th>133742</th>\n      <td>b</td>\n      <td>11</td>\n      <td>4</td>\n      <td>gynecology</td>\n      <td>F</td>\n      <td>2.0</td>\n      <td>2.0</td>\n      <td>Trauma</td>\n      <td>Extreme</td>\n      <td>31-40</td>\n    </tr>\n    <tr>\n      <th>133743</th>\n      <td>a</td>\n      <td>6</td>\n      <td>4</td>\n      <td>TB &amp; Chest disease</td>\n      <td>F</td>\n      <td>2.0</td>\n      <td>12.0</td>\n      <td>Trauma</td>\n      <td>Moderate</td>\n      <td>51-60</td>\n    </tr>\n  </tbody>\n</table>\n<p>133744 rows × 10 columns</p>\n</div>"
     },
     "metadata": {},
     "execution_count": 40
    }
   ],
   "source": [
    "pred= to_pred[[\"2\", \"3\", \"5\", \"6\", \"8\", \"9\", \"11\", \"12\", \"13\", \"15\"]]\n",
    "pred"
   ]
  },
  {
   "cell_type": "code",
   "execution_count": 43,
   "metadata": {},
   "outputs": [
    {
     "output_type": "execute_result",
     "data": {
      "text/plain": [
       "        2   3  5  6  8    9    11  12  13  15\n",
       "0       0   7  4  2  2  2.0   8.0   0   1   4\n",
       "1       2   5  3  2  5  2.0  15.0   1   2   3\n",
       "2       4   1  4  2  4  4.0   4.0   0   1   7\n",
       "3       2   3  4  0  0  2.0   9.0   2   0   3\n",
       "4       0   6  4  2  5  1.0   8.0   0   1   2\n",
       "...    ..  .. .. .. ..  ...   ...  ..  ..  ..\n",
       "133739  3  13  6  1  1  3.0  25.0   2   1   5\n",
       "133740  0   7  2  2  2  2.0   8.0   0   2   6\n",
       "133741  2   3  3  2  0  3.0   5.0   1   1   3\n",
       "133742  1  11  4  2  5  2.0   2.0   1   0   3\n",
       "133743  0   6  4  0  5  2.0  12.0   1   2   5\n",
       "\n",
       "[133744 rows x 10 columns]"
      ],
      "text/html": "<div>\n<style scoped>\n    .dataframe tbody tr th:only-of-type {\n        vertical-align: middle;\n    }\n\n    .dataframe tbody tr th {\n        vertical-align: top;\n    }\n\n    .dataframe thead th {\n        text-align: right;\n    }\n</style>\n<table border=\"1\" class=\"dataframe\">\n  <thead>\n    <tr style=\"text-align: right;\">\n      <th></th>\n      <th>2</th>\n      <th>3</th>\n      <th>5</th>\n      <th>6</th>\n      <th>8</th>\n      <th>9</th>\n      <th>11</th>\n      <th>12</th>\n      <th>13</th>\n      <th>15</th>\n    </tr>\n  </thead>\n  <tbody>\n    <tr>\n      <th>0</th>\n      <td>0</td>\n      <td>7</td>\n      <td>4</td>\n      <td>2</td>\n      <td>2</td>\n      <td>2.0</td>\n      <td>8.0</td>\n      <td>0</td>\n      <td>1</td>\n      <td>4</td>\n    </tr>\n    <tr>\n      <th>1</th>\n      <td>2</td>\n      <td>5</td>\n      <td>3</td>\n      <td>2</td>\n      <td>5</td>\n      <td>2.0</td>\n      <td>15.0</td>\n      <td>1</td>\n      <td>2</td>\n      <td>3</td>\n    </tr>\n    <tr>\n      <th>2</th>\n      <td>4</td>\n      <td>1</td>\n      <td>4</td>\n      <td>2</td>\n      <td>4</td>\n      <td>4.0</td>\n      <td>4.0</td>\n      <td>0</td>\n      <td>1</td>\n      <td>7</td>\n    </tr>\n    <tr>\n      <th>3</th>\n      <td>2</td>\n      <td>3</td>\n      <td>4</td>\n      <td>0</td>\n      <td>0</td>\n      <td>2.0</td>\n      <td>9.0</td>\n      <td>2</td>\n      <td>0</td>\n      <td>3</td>\n    </tr>\n    <tr>\n      <th>4</th>\n      <td>0</td>\n      <td>6</td>\n      <td>4</td>\n      <td>2</td>\n      <td>5</td>\n      <td>1.0</td>\n      <td>8.0</td>\n      <td>0</td>\n      <td>1</td>\n      <td>2</td>\n    </tr>\n    <tr>\n      <th>...</th>\n      <td>...</td>\n      <td>...</td>\n      <td>...</td>\n      <td>...</td>\n      <td>...</td>\n      <td>...</td>\n      <td>...</td>\n      <td>...</td>\n      <td>...</td>\n      <td>...</td>\n    </tr>\n    <tr>\n      <th>133739</th>\n      <td>3</td>\n      <td>13</td>\n      <td>6</td>\n      <td>1</td>\n      <td>1</td>\n      <td>3.0</td>\n      <td>25.0</td>\n      <td>2</td>\n      <td>1</td>\n      <td>5</td>\n    </tr>\n    <tr>\n      <th>133740</th>\n      <td>0</td>\n      <td>7</td>\n      <td>2</td>\n      <td>2</td>\n      <td>2</td>\n      <td>2.0</td>\n      <td>8.0</td>\n      <td>0</td>\n      <td>2</td>\n      <td>6</td>\n    </tr>\n    <tr>\n      <th>133741</th>\n      <td>2</td>\n      <td>3</td>\n      <td>3</td>\n      <td>2</td>\n      <td>0</td>\n      <td>3.0</td>\n      <td>5.0</td>\n      <td>1</td>\n      <td>1</td>\n      <td>3</td>\n    </tr>\n    <tr>\n      <th>133742</th>\n      <td>1</td>\n      <td>11</td>\n      <td>4</td>\n      <td>2</td>\n      <td>5</td>\n      <td>2.0</td>\n      <td>2.0</td>\n      <td>1</td>\n      <td>0</td>\n      <td>3</td>\n    </tr>\n    <tr>\n      <th>133743</th>\n      <td>0</td>\n      <td>6</td>\n      <td>4</td>\n      <td>0</td>\n      <td>5</td>\n      <td>2.0</td>\n      <td>12.0</td>\n      <td>1</td>\n      <td>2</td>\n      <td>5</td>\n    </tr>\n  </tbody>\n</table>\n<p>133744 rows × 10 columns</p>\n</div>"
     },
     "metadata": {},
     "execution_count": 43
    }
   ],
   "source": [
    "label(dt=pred, name_col= \"6\")\n",
    "label(dt=pred, name_col= \"8\")\n",
    "label(dt=pred, name_col= \"2\")\n",
    "label(dt=pred, name_col= \"12\")\n",
    "label(dt=pred, name_col= \"13\")\n",
    "label(dt=pred, name_col= \"15\")"
   ]
  },
  {
   "cell_type": "code",
   "execution_count": 44,
   "metadata": {},
   "outputs": [
    {
     "output_type": "execute_result",
     "data": {
      "text/plain": [
       "        2   3  5  6  8    9    11  12  13  15\n",
       "0       0   7  4  2  2  2.0   8.0   0   1   4\n",
       "1       2   5  3  2  5  2.0  15.0   1   2   3\n",
       "2       4   1  4  2  4  4.0   4.0   0   1   7\n",
       "3       2   3  4  0  0  2.0   9.0   2   0   3\n",
       "4       0   6  4  2  5  1.0   8.0   0   1   2\n",
       "...    ..  .. .. .. ..  ...   ...  ..  ..  ..\n",
       "133739  3  13  6  1  1  3.0  25.0   2   1   5\n",
       "133740  0   7  2  2  2  2.0   8.0   0   2   6\n",
       "133741  2   3  3  2  0  3.0   5.0   1   1   3\n",
       "133742  1  11  4  2  5  2.0   2.0   1   0   3\n",
       "133743  0   6  4  0  5  2.0  12.0   1   2   5\n",
       "\n",
       "[133744 rows x 10 columns]"
      ],
      "text/html": "<div>\n<style scoped>\n    .dataframe tbody tr th:only-of-type {\n        vertical-align: middle;\n    }\n\n    .dataframe tbody tr th {\n        vertical-align: top;\n    }\n\n    .dataframe thead th {\n        text-align: right;\n    }\n</style>\n<table border=\"1\" class=\"dataframe\">\n  <thead>\n    <tr style=\"text-align: right;\">\n      <th></th>\n      <th>2</th>\n      <th>3</th>\n      <th>5</th>\n      <th>6</th>\n      <th>8</th>\n      <th>9</th>\n      <th>11</th>\n      <th>12</th>\n      <th>13</th>\n      <th>15</th>\n    </tr>\n  </thead>\n  <tbody>\n    <tr>\n      <th>0</th>\n      <td>0</td>\n      <td>7</td>\n      <td>4</td>\n      <td>2</td>\n      <td>2</td>\n      <td>2.0</td>\n      <td>8.0</td>\n      <td>0</td>\n      <td>1</td>\n      <td>4</td>\n    </tr>\n    <tr>\n      <th>1</th>\n      <td>2</td>\n      <td>5</td>\n      <td>3</td>\n      <td>2</td>\n      <td>5</td>\n      <td>2.0</td>\n      <td>15.0</td>\n      <td>1</td>\n      <td>2</td>\n      <td>3</td>\n    </tr>\n    <tr>\n      <th>2</th>\n      <td>4</td>\n      <td>1</td>\n      <td>4</td>\n      <td>2</td>\n      <td>4</td>\n      <td>4.0</td>\n      <td>4.0</td>\n      <td>0</td>\n      <td>1</td>\n      <td>7</td>\n    </tr>\n    <tr>\n      <th>3</th>\n      <td>2</td>\n      <td>3</td>\n      <td>4</td>\n      <td>0</td>\n      <td>0</td>\n      <td>2.0</td>\n      <td>9.0</td>\n      <td>2</td>\n      <td>0</td>\n      <td>3</td>\n    </tr>\n    <tr>\n      <th>4</th>\n      <td>0</td>\n      <td>6</td>\n      <td>4</td>\n      <td>2</td>\n      <td>5</td>\n      <td>1.0</td>\n      <td>8.0</td>\n      <td>0</td>\n      <td>1</td>\n      <td>2</td>\n    </tr>\n    <tr>\n      <th>...</th>\n      <td>...</td>\n      <td>...</td>\n      <td>...</td>\n      <td>...</td>\n      <td>...</td>\n      <td>...</td>\n      <td>...</td>\n      <td>...</td>\n      <td>...</td>\n      <td>...</td>\n    </tr>\n    <tr>\n      <th>133739</th>\n      <td>3</td>\n      <td>13</td>\n      <td>6</td>\n      <td>1</td>\n      <td>1</td>\n      <td>3.0</td>\n      <td>25.0</td>\n      <td>2</td>\n      <td>1</td>\n      <td>5</td>\n    </tr>\n    <tr>\n      <th>133740</th>\n      <td>0</td>\n      <td>7</td>\n      <td>2</td>\n      <td>2</td>\n      <td>2</td>\n      <td>2.0</td>\n      <td>8.0</td>\n      <td>0</td>\n      <td>2</td>\n      <td>6</td>\n    </tr>\n    <tr>\n      <th>133741</th>\n      <td>2</td>\n      <td>3</td>\n      <td>3</td>\n      <td>2</td>\n      <td>0</td>\n      <td>3.0</td>\n      <td>5.0</td>\n      <td>1</td>\n      <td>1</td>\n      <td>3</td>\n    </tr>\n    <tr>\n      <th>133742</th>\n      <td>1</td>\n      <td>11</td>\n      <td>4</td>\n      <td>2</td>\n      <td>5</td>\n      <td>2.0</td>\n      <td>2.0</td>\n      <td>1</td>\n      <td>0</td>\n      <td>3</td>\n    </tr>\n    <tr>\n      <th>133743</th>\n      <td>0</td>\n      <td>6</td>\n      <td>4</td>\n      <td>0</td>\n      <td>5</td>\n      <td>2.0</td>\n      <td>12.0</td>\n      <td>1</td>\n      <td>2</td>\n      <td>5</td>\n    </tr>\n  </tbody>\n</table>\n<p>133744 rows × 10 columns</p>\n</div>"
     },
     "metadata": {},
     "execution_count": 44
    }
   ],
   "source": [
    "pred = pred.fillna(0)\n",
    "pred"
   ]
  },
  {
   "cell_type": "code",
   "execution_count": 45,
   "metadata": {},
   "outputs": [
    {
     "output_type": "execute_result",
     "data": {
      "text/plain": [
       "array(['21-30', '21-30', '11-20', ..., '11-20', '21-30', '21-30'],\n",
       "      dtype=object)"
      ]
     },
     "metadata": {},
     "execution_count": 45
    }
   ],
   "source": [
    "predictions_submit = model.predict(pred)\n",
    "predictions_submit"
   ]
  },
  {
   "cell_type": "code",
   "execution_count": 50,
   "metadata": {},
   "outputs": [
    {
     "output_type": "execute_result",
     "data": {
      "text/plain": [
       "array([[ 0.,  7.,  4., ...,  0.,  1.,  4.],\n",
       "       [ 2.,  5.,  3., ...,  1.,  2.,  3.],\n",
       "       [ 4.,  1.,  4., ...,  0.,  1.,  7.],\n",
       "       ...,\n",
       "       [ 2.,  3.,  3., ...,  1.,  1.,  3.],\n",
       "       [ 1., 11.,  4., ...,  1.,  0.,  3.],\n",
       "       [ 0.,  6.,  4., ...,  1.,  2.,  5.]])"
      ]
     },
     "metadata": {},
     "execution_count": 50
    }
   ],
   "source": [
    "x= np.array(pred)\n",
    "x"
   ]
  },
  {
   "cell_type": "code",
   "execution_count": 51,
   "metadata": {},
   "outputs": [
    {
     "output_type": "execute_result",
     "data": {
      "text/plain": [
       "1.0"
      ]
     },
     "metadata": {},
     "execution_count": 51
    }
   ],
   "source": [
    "model.score(x, predictions_submit)"
   ]
  },
  {
   "cell_type": "code",
   "execution_count": 46,
   "metadata": {},
   "outputs": [
    {
     "output_type": "execute_result",
     "data": {
      "text/plain": [
       "array([['21-30'],\n",
       "       ['21-30'],\n",
       "       ['11-20'],\n",
       "       ...,\n",
       "       ['11-20'],\n",
       "       ['21-30'],\n",
       "       ['21-30']], dtype=object)"
      ]
     },
     "metadata": {},
     "execution_count": 46
    }
   ],
   "source": [
    "predictions_submit.reshape(-1,1)"
   ]
  },
  {
   "cell_type": "code",
   "execution_count": 48,
   "metadata": {},
   "outputs": [
    {
     "output_type": "execute_result",
     "data": {
      "text/plain": [
       "            id   days\n",
       "0       314114  21-30\n",
       "1       208989  21-30\n",
       "2       305872  11-20\n",
       "3       266099  21-30\n",
       "4        13228  21-30\n",
       "...        ...    ...\n",
       "133739  318155  21-30\n",
       "133740  144850  21-30\n",
       "133741  180676  11-20\n",
       "133742   39933  21-30\n",
       "133743  116673  21-30\n",
       "\n",
       "[133744 rows x 2 columns]"
      ],
      "text/html": "<div>\n<style scoped>\n    .dataframe tbody tr th:only-of-type {\n        vertical-align: middle;\n    }\n\n    .dataframe tbody tr th {\n        vertical-align: top;\n    }\n\n    .dataframe thead th {\n        text-align: right;\n    }\n</style>\n<table border=\"1\" class=\"dataframe\">\n  <thead>\n    <tr style=\"text-align: right;\">\n      <th></th>\n      <th>id</th>\n      <th>days</th>\n    </tr>\n  </thead>\n  <tbody>\n    <tr>\n      <th>0</th>\n      <td>314114</td>\n      <td>21-30</td>\n    </tr>\n    <tr>\n      <th>1</th>\n      <td>208989</td>\n      <td>21-30</td>\n    </tr>\n    <tr>\n      <th>2</th>\n      <td>305872</td>\n      <td>11-20</td>\n    </tr>\n    <tr>\n      <th>3</th>\n      <td>266099</td>\n      <td>21-30</td>\n    </tr>\n    <tr>\n      <th>4</th>\n      <td>13228</td>\n      <td>21-30</td>\n    </tr>\n    <tr>\n      <th>...</th>\n      <td>...</td>\n      <td>...</td>\n    </tr>\n    <tr>\n      <th>133739</th>\n      <td>318155</td>\n      <td>21-30</td>\n    </tr>\n    <tr>\n      <th>133740</th>\n      <td>144850</td>\n      <td>21-30</td>\n    </tr>\n    <tr>\n      <th>133741</th>\n      <td>180676</td>\n      <td>11-20</td>\n    </tr>\n    <tr>\n      <th>133742</th>\n      <td>39933</td>\n      <td>21-30</td>\n    </tr>\n    <tr>\n      <th>133743</th>\n      <td>116673</td>\n      <td>21-30</td>\n    </tr>\n  </tbody>\n</table>\n<p>133744 rows × 2 columns</p>\n</div>"
     },
     "metadata": {},
     "execution_count": 48
    }
   ],
   "source": [
    "submission = pd.DataFrame({\"id\": to_pred[\"0\"], \"days\": predictions_submit})\n",
    "submission"
   ]
  },
  {
   "cell_type": "code",
   "execution_count": 49,
   "metadata": {},
   "outputs": [],
   "source": [
    "submission.to_csv(\"to_submit.csv\", index = False)"
   ]
  },
  {
   "cell_type": "code",
   "execution_count": null,
   "metadata": {},
   "outputs": [],
   "source": []
  }
 ]
}
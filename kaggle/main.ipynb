{
 "metadata": {
  "language_info": {
   "codemirror_mode": {
    "name": "ipython",
    "version": 3
   },
   "file_extension": ".py",
   "mimetype": "text/x-python",
   "name": "python",
   "nbconvert_exporter": "python",
   "pygments_lexer": "ipython3",
   "version": "3.9.0-final"
  },
  "orig_nbformat": 2,
  "kernelspec": {
   "name": "python3",
   "display_name": "Python 3.9.0 64-bit",
   "metadata": {
    "interpreter": {
     "hash": "2e3c1e8da6e821b0193601da5a0e541c0efda9704da45b6b820f5f4c317f2def"
    }
   }
  }
 },
 "nbformat": 4,
 "nbformat_minor": 2,
 "cells": [
  {
   "cell_type": "code",
   "execution_count": 11,
   "metadata": {},
   "outputs": [],
   "source": [
    "import pandas as pd\n",
    "import numpy as np\n",
    "from sklearn.linear_model import LogisticRegression\n",
    "from sklearn import preprocessing\n",
    "from sklearn.model_selection import train_test_split"
   ]
  },
  {
   "cell_type": "code",
   "execution_count": 2,
   "metadata": {},
   "outputs": [],
   "source": [
    "import missingno as msno"
   ]
  },
  {
   "cell_type": "code",
   "execution_count": 15,
   "metadata": {},
   "outputs": [
    {
     "output_type": "execute_result",
     "data": {
      "text/plain": [
       "            0   1  2   3  4  5           6  7  8    9      10    11  \\\n",
       "0      161528   6  a   6  X  2  gynecology  R  F  4.0   45810   2.0   \n",
       "1      159472  23  a   6  X  4  gynecology  Q  F  2.0  128565  15.0   \n",
       "2      309765   2  c   5  Z  2  anesthesia  S  F  3.0   46565   5.0   \n",
       "3      279614  32  f   9  Y  3  gynecology  S  B  4.0  124546   6.0   \n",
       "4      147791  14  a   1  X  3  gynecology  S  E  2.0   22729   8.0   \n",
       "...       ...  .. ..  .. .. ..         ... .. ..  ...     ...   ...   \n",
       "99995  237869  12  a   9  Y  3  gynecology  R  B  3.0   82914   3.0   \n",
       "99996  254763  28  b  11  X  2  gynecology  R  F  2.0   40026   5.0   \n",
       "99997   69788   6  a   6  X  3  gynecology  Q  F  3.0   92346   2.0   \n",
       "99998  204442  32  f   9  Y  2  gynecology  S  B  4.0  113798  15.0   \n",
       "99999   69647  25  e   1  X  3  gynecology  Q  E  2.0  109237   8.0   \n",
       "\n",
       "              12        13  14     15      16                  17  \n",
       "0         Urgent  Moderate   2  21-30  2817.0                0-10  \n",
       "1         Trauma  Moderate   4  51-60  4498.0               21-30  \n",
       "2         Urgent  Moderate   2  71-80  4573.0               11-20  \n",
       "3      Emergency  Moderate   4  11-20  7202.0               51-60  \n",
       "4         Urgent  Moderate   2  51-60  3398.0               51-60  \n",
       "...          ...       ...  ..    ...     ...                 ...  \n",
       "99995  Emergency  Moderate   6  51-60  3966.0  More than 100 Days  \n",
       "99996     Urgent  Moderate   3  21-30  4005.0               51-60  \n",
       "99997     Trauma     Minor   2  31-40  5215.0               31-40  \n",
       "99998     Trauma  Moderate   3  41-50  5092.0               11-20  \n",
       "99999  Emergency  Moderate   2  41-50  3390.0               41-50  \n",
       "\n",
       "[100000 rows x 18 columns]"
      ],
      "text/html": "<div>\n<style scoped>\n    .dataframe tbody tr th:only-of-type {\n        vertical-align: middle;\n    }\n\n    .dataframe tbody tr th {\n        vertical-align: top;\n    }\n\n    .dataframe thead th {\n        text-align: right;\n    }\n</style>\n<table border=\"1\" class=\"dataframe\">\n  <thead>\n    <tr style=\"text-align: right;\">\n      <th></th>\n      <th>0</th>\n      <th>1</th>\n      <th>2</th>\n      <th>3</th>\n      <th>4</th>\n      <th>5</th>\n      <th>6</th>\n      <th>7</th>\n      <th>8</th>\n      <th>9</th>\n      <th>10</th>\n      <th>11</th>\n      <th>12</th>\n      <th>13</th>\n      <th>14</th>\n      <th>15</th>\n      <th>16</th>\n      <th>17</th>\n    </tr>\n  </thead>\n  <tbody>\n    <tr>\n      <th>0</th>\n      <td>161528</td>\n      <td>6</td>\n      <td>a</td>\n      <td>6</td>\n      <td>X</td>\n      <td>2</td>\n      <td>gynecology</td>\n      <td>R</td>\n      <td>F</td>\n      <td>4.0</td>\n      <td>45810</td>\n      <td>2.0</td>\n      <td>Urgent</td>\n      <td>Moderate</td>\n      <td>2</td>\n      <td>21-30</td>\n      <td>2817.0</td>\n      <td>0-10</td>\n    </tr>\n    <tr>\n      <th>1</th>\n      <td>159472</td>\n      <td>23</td>\n      <td>a</td>\n      <td>6</td>\n      <td>X</td>\n      <td>4</td>\n      <td>gynecology</td>\n      <td>Q</td>\n      <td>F</td>\n      <td>2.0</td>\n      <td>128565</td>\n      <td>15.0</td>\n      <td>Trauma</td>\n      <td>Moderate</td>\n      <td>4</td>\n      <td>51-60</td>\n      <td>4498.0</td>\n      <td>21-30</td>\n    </tr>\n    <tr>\n      <th>2</th>\n      <td>309765</td>\n      <td>2</td>\n      <td>c</td>\n      <td>5</td>\n      <td>Z</td>\n      <td>2</td>\n      <td>anesthesia</td>\n      <td>S</td>\n      <td>F</td>\n      <td>3.0</td>\n      <td>46565</td>\n      <td>5.0</td>\n      <td>Urgent</td>\n      <td>Moderate</td>\n      <td>2</td>\n      <td>71-80</td>\n      <td>4573.0</td>\n      <td>11-20</td>\n    </tr>\n    <tr>\n      <th>3</th>\n      <td>279614</td>\n      <td>32</td>\n      <td>f</td>\n      <td>9</td>\n      <td>Y</td>\n      <td>3</td>\n      <td>gynecology</td>\n      <td>S</td>\n      <td>B</td>\n      <td>4.0</td>\n      <td>124546</td>\n      <td>6.0</td>\n      <td>Emergency</td>\n      <td>Moderate</td>\n      <td>4</td>\n      <td>11-20</td>\n      <td>7202.0</td>\n      <td>51-60</td>\n    </tr>\n    <tr>\n      <th>4</th>\n      <td>147791</td>\n      <td>14</td>\n      <td>a</td>\n      <td>1</td>\n      <td>X</td>\n      <td>3</td>\n      <td>gynecology</td>\n      <td>S</td>\n      <td>E</td>\n      <td>2.0</td>\n      <td>22729</td>\n      <td>8.0</td>\n      <td>Urgent</td>\n      <td>Moderate</td>\n      <td>2</td>\n      <td>51-60</td>\n      <td>3398.0</td>\n      <td>51-60</td>\n    </tr>\n    <tr>\n      <th>...</th>\n      <td>...</td>\n      <td>...</td>\n      <td>...</td>\n      <td>...</td>\n      <td>...</td>\n      <td>...</td>\n      <td>...</td>\n      <td>...</td>\n      <td>...</td>\n      <td>...</td>\n      <td>...</td>\n      <td>...</td>\n      <td>...</td>\n      <td>...</td>\n      <td>...</td>\n      <td>...</td>\n      <td>...</td>\n      <td>...</td>\n    </tr>\n    <tr>\n      <th>99995</th>\n      <td>237869</td>\n      <td>12</td>\n      <td>a</td>\n      <td>9</td>\n      <td>Y</td>\n      <td>3</td>\n      <td>gynecology</td>\n      <td>R</td>\n      <td>B</td>\n      <td>3.0</td>\n      <td>82914</td>\n      <td>3.0</td>\n      <td>Emergency</td>\n      <td>Moderate</td>\n      <td>6</td>\n      <td>51-60</td>\n      <td>3966.0</td>\n      <td>More than 100 Days</td>\n    </tr>\n    <tr>\n      <th>99996</th>\n      <td>254763</td>\n      <td>28</td>\n      <td>b</td>\n      <td>11</td>\n      <td>X</td>\n      <td>2</td>\n      <td>gynecology</td>\n      <td>R</td>\n      <td>F</td>\n      <td>2.0</td>\n      <td>40026</td>\n      <td>5.0</td>\n      <td>Urgent</td>\n      <td>Moderate</td>\n      <td>3</td>\n      <td>21-30</td>\n      <td>4005.0</td>\n      <td>51-60</td>\n    </tr>\n    <tr>\n      <th>99997</th>\n      <td>69788</td>\n      <td>6</td>\n      <td>a</td>\n      <td>6</td>\n      <td>X</td>\n      <td>3</td>\n      <td>gynecology</td>\n      <td>Q</td>\n      <td>F</td>\n      <td>3.0</td>\n      <td>92346</td>\n      <td>2.0</td>\n      <td>Trauma</td>\n      <td>Minor</td>\n      <td>2</td>\n      <td>31-40</td>\n      <td>5215.0</td>\n      <td>31-40</td>\n    </tr>\n    <tr>\n      <th>99998</th>\n      <td>204442</td>\n      <td>32</td>\n      <td>f</td>\n      <td>9</td>\n      <td>Y</td>\n      <td>2</td>\n      <td>gynecology</td>\n      <td>S</td>\n      <td>B</td>\n      <td>4.0</td>\n      <td>113798</td>\n      <td>15.0</td>\n      <td>Trauma</td>\n      <td>Moderate</td>\n      <td>3</td>\n      <td>41-50</td>\n      <td>5092.0</td>\n      <td>11-20</td>\n    </tr>\n    <tr>\n      <th>99999</th>\n      <td>69647</td>\n      <td>25</td>\n      <td>e</td>\n      <td>1</td>\n      <td>X</td>\n      <td>3</td>\n      <td>gynecology</td>\n      <td>Q</td>\n      <td>E</td>\n      <td>2.0</td>\n      <td>109237</td>\n      <td>8.0</td>\n      <td>Emergency</td>\n      <td>Moderate</td>\n      <td>2</td>\n      <td>41-50</td>\n      <td>3390.0</td>\n      <td>41-50</td>\n    </tr>\n  </tbody>\n</table>\n<p>100000 rows × 18 columns</p>\n</div>"
     },
     "metadata": {},
     "execution_count": 15
    }
   ],
   "source": [
    "df = pd.read_csv(\"train_set.csv\")\n",
    "df\n"
   ]
  },
  {
   "cell_type": "code",
   "execution_count": 6,
   "metadata": {},
   "outputs": [
    {
     "output_type": "execute_result",
     "data": {
      "text/plain": [
       "    Column                                        Description\n",
       "0        0                     Case_ID registered in Hospital\n",
       "1        1                       Unique code for the Hospital\n",
       "2        2               Unique code for the type of Hospital\n",
       "3        3                          City Code of the Hospital\n",
       "4        4                        Region Code of the Hospital\n",
       "5        5    Number of Extra rooms available in the Hospital\n",
       "6        6                    Department overlooking the case\n",
       "7        7                             Code for the Ward type\n",
       "8        8                         Code for the Ward Facility\n",
       "9        9                       Condition of Bed in the Ward\n",
       "10      10                                  Unique Patient Id\n",
       "11      11                          City Code for the patient\n",
       "12      12          Admission Type registered by the Hospital\n",
       "13      13  Severity of the illness recorded at the time o...\n",
       "14      14                Number of Visitors with the patient\n",
       "15      15                                 Age of the patient\n",
       "16      16                      Deposit at the Admission Time\n",
       "17      17                           Stay Days by the patient"
      ],
      "text/html": "<div>\n<style scoped>\n    .dataframe tbody tr th:only-of-type {\n        vertical-align: middle;\n    }\n\n    .dataframe tbody tr th {\n        vertical-align: top;\n    }\n\n    .dataframe thead th {\n        text-align: right;\n    }\n</style>\n<table border=\"1\" class=\"dataframe\">\n  <thead>\n    <tr style=\"text-align: right;\">\n      <th></th>\n      <th>Column</th>\n      <th>Description</th>\n    </tr>\n  </thead>\n  <tbody>\n    <tr>\n      <th>0</th>\n      <td>0</td>\n      <td>Case_ID registered in Hospital</td>\n    </tr>\n    <tr>\n      <th>1</th>\n      <td>1</td>\n      <td>Unique code for the Hospital</td>\n    </tr>\n    <tr>\n      <th>2</th>\n      <td>2</td>\n      <td>Unique code for the type of Hospital</td>\n    </tr>\n    <tr>\n      <th>3</th>\n      <td>3</td>\n      <td>City Code of the Hospital</td>\n    </tr>\n    <tr>\n      <th>4</th>\n      <td>4</td>\n      <td>Region Code of the Hospital</td>\n    </tr>\n    <tr>\n      <th>5</th>\n      <td>5</td>\n      <td>Number of Extra rooms available in the Hospital</td>\n    </tr>\n    <tr>\n      <th>6</th>\n      <td>6</td>\n      <td>Department overlooking the case</td>\n    </tr>\n    <tr>\n      <th>7</th>\n      <td>7</td>\n      <td>Code for the Ward type</td>\n    </tr>\n    <tr>\n      <th>8</th>\n      <td>8</td>\n      <td>Code for the Ward Facility</td>\n    </tr>\n    <tr>\n      <th>9</th>\n      <td>9</td>\n      <td>Condition of Bed in the Ward</td>\n    </tr>\n    <tr>\n      <th>10</th>\n      <td>10</td>\n      <td>Unique Patient Id</td>\n    </tr>\n    <tr>\n      <th>11</th>\n      <td>11</td>\n      <td>City Code for the patient</td>\n    </tr>\n    <tr>\n      <th>12</th>\n      <td>12</td>\n      <td>Admission Type registered by the Hospital</td>\n    </tr>\n    <tr>\n      <th>13</th>\n      <td>13</td>\n      <td>Severity of the illness recorded at the time o...</td>\n    </tr>\n    <tr>\n      <th>14</th>\n      <td>14</td>\n      <td>Number of Visitors with the patient</td>\n    </tr>\n    <tr>\n      <th>15</th>\n      <td>15</td>\n      <td>Age of the patient</td>\n    </tr>\n    <tr>\n      <th>16</th>\n      <td>16</td>\n      <td>Deposit at the Admission Time</td>\n    </tr>\n    <tr>\n      <th>17</th>\n      <td>17</td>\n      <td>Stay Days by the patient</td>\n    </tr>\n  </tbody>\n</table>\n</div>"
     },
     "metadata": {},
     "execution_count": 6
    }
   ],
   "source": [
    "columns = pd.read_csv(\"columns_meaning.csv\")\n",
    "columns"
   ]
  },
  {
   "cell_type": "code",
   "execution_count": 16,
   "metadata": {},
   "outputs": [
    {
     "output_type": "execute_result",
     "data": {
      "text/plain": [
       "       2   3  5           6  8    9    11         12        13     15\n",
       "0      a   6  2  gynecology  F  4.0   2.0     Urgent  Moderate  21-30\n",
       "1      a   6  4  gynecology  F  2.0  15.0     Trauma  Moderate  51-60\n",
       "2      c   5  2  anesthesia  F  3.0   5.0     Urgent  Moderate  71-80\n",
       "3      f   9  3  gynecology  B  4.0   6.0  Emergency  Moderate  11-20\n",
       "4      a   1  3  gynecology  E  2.0   8.0     Urgent  Moderate  51-60\n",
       "...   ..  .. ..         ... ..  ...   ...        ...       ...    ...\n",
       "99995  a   9  3  gynecology  B  3.0   3.0  Emergency  Moderate  51-60\n",
       "99996  b  11  2  gynecology  F  2.0   5.0     Urgent  Moderate  21-30\n",
       "99997  a   6  3  gynecology  F  3.0   2.0     Trauma     Minor  31-40\n",
       "99998  f   9  2  gynecology  B  4.0  15.0     Trauma  Moderate  41-50\n",
       "99999  e   1  3  gynecology  E  2.0   8.0  Emergency  Moderate  41-50\n",
       "\n",
       "[100000 rows x 10 columns]"
      ],
      "text/html": "<div>\n<style scoped>\n    .dataframe tbody tr th:only-of-type {\n        vertical-align: middle;\n    }\n\n    .dataframe tbody tr th {\n        vertical-align: top;\n    }\n\n    .dataframe thead th {\n        text-align: right;\n    }\n</style>\n<table border=\"1\" class=\"dataframe\">\n  <thead>\n    <tr style=\"text-align: right;\">\n      <th></th>\n      <th>2</th>\n      <th>3</th>\n      <th>5</th>\n      <th>6</th>\n      <th>8</th>\n      <th>9</th>\n      <th>11</th>\n      <th>12</th>\n      <th>13</th>\n      <th>15</th>\n    </tr>\n  </thead>\n  <tbody>\n    <tr>\n      <th>0</th>\n      <td>a</td>\n      <td>6</td>\n      <td>2</td>\n      <td>gynecology</td>\n      <td>F</td>\n      <td>4.0</td>\n      <td>2.0</td>\n      <td>Urgent</td>\n      <td>Moderate</td>\n      <td>21-30</td>\n    </tr>\n    <tr>\n      <th>1</th>\n      <td>a</td>\n      <td>6</td>\n      <td>4</td>\n      <td>gynecology</td>\n      <td>F</td>\n      <td>2.0</td>\n      <td>15.0</td>\n      <td>Trauma</td>\n      <td>Moderate</td>\n      <td>51-60</td>\n    </tr>\n    <tr>\n      <th>2</th>\n      <td>c</td>\n      <td>5</td>\n      <td>2</td>\n      <td>anesthesia</td>\n      <td>F</td>\n      <td>3.0</td>\n      <td>5.0</td>\n      <td>Urgent</td>\n      <td>Moderate</td>\n      <td>71-80</td>\n    </tr>\n    <tr>\n      <th>3</th>\n      <td>f</td>\n      <td>9</td>\n      <td>3</td>\n      <td>gynecology</td>\n      <td>B</td>\n      <td>4.0</td>\n      <td>6.0</td>\n      <td>Emergency</td>\n      <td>Moderate</td>\n      <td>11-20</td>\n    </tr>\n    <tr>\n      <th>4</th>\n      <td>a</td>\n      <td>1</td>\n      <td>3</td>\n      <td>gynecology</td>\n      <td>E</td>\n      <td>2.0</td>\n      <td>8.0</td>\n      <td>Urgent</td>\n      <td>Moderate</td>\n      <td>51-60</td>\n    </tr>\n    <tr>\n      <th>...</th>\n      <td>...</td>\n      <td>...</td>\n      <td>...</td>\n      <td>...</td>\n      <td>...</td>\n      <td>...</td>\n      <td>...</td>\n      <td>...</td>\n      <td>...</td>\n      <td>...</td>\n    </tr>\n    <tr>\n      <th>99995</th>\n      <td>a</td>\n      <td>9</td>\n      <td>3</td>\n      <td>gynecology</td>\n      <td>B</td>\n      <td>3.0</td>\n      <td>3.0</td>\n      <td>Emergency</td>\n      <td>Moderate</td>\n      <td>51-60</td>\n    </tr>\n    <tr>\n      <th>99996</th>\n      <td>b</td>\n      <td>11</td>\n      <td>2</td>\n      <td>gynecology</td>\n      <td>F</td>\n      <td>2.0</td>\n      <td>5.0</td>\n      <td>Urgent</td>\n      <td>Moderate</td>\n      <td>21-30</td>\n    </tr>\n    <tr>\n      <th>99997</th>\n      <td>a</td>\n      <td>6</td>\n      <td>3</td>\n      <td>gynecology</td>\n      <td>F</td>\n      <td>3.0</td>\n      <td>2.0</td>\n      <td>Trauma</td>\n      <td>Minor</td>\n      <td>31-40</td>\n    </tr>\n    <tr>\n      <th>99998</th>\n      <td>f</td>\n      <td>9</td>\n      <td>2</td>\n      <td>gynecology</td>\n      <td>B</td>\n      <td>4.0</td>\n      <td>15.0</td>\n      <td>Trauma</td>\n      <td>Moderate</td>\n      <td>41-50</td>\n    </tr>\n    <tr>\n      <th>99999</th>\n      <td>e</td>\n      <td>1</td>\n      <td>3</td>\n      <td>gynecology</td>\n      <td>E</td>\n      <td>2.0</td>\n      <td>8.0</td>\n      <td>Emergency</td>\n      <td>Moderate</td>\n      <td>41-50</td>\n    </tr>\n  </tbody>\n</table>\n<p>100000 rows × 10 columns</p>\n</div>"
     },
     "metadata": {},
     "execution_count": 16
    }
   ],
   "source": [
    "data= df[[\"2\", \"3\", \"5\", \"6\", \"8\", \"9\", \"11\", \"12\", \"13\", \"15\"]]\n",
    "data"
   ]
  },
  {
   "cell_type": "code",
   "execution_count": 7,
   "metadata": {},
   "outputs": [
    {
     "output_type": "execute_result",
     "data": {
      "text/plain": [
       "11    1483\n",
       "9       33\n",
       "15       0\n",
       "13       0\n",
       "12       0\n",
       "8        0\n",
       "6        0\n",
       "5        0\n",
       "3        0\n",
       "2        0\n",
       "dtype: int64"
      ]
     },
     "metadata": {},
     "execution_count": 7
    }
   ],
   "source": [
    "data.isna().sum().sort_values(ascending=False)"
   ]
  },
  {
   "cell_type": "code",
   "execution_count": 9,
   "metadata": {},
   "outputs": [
    {
     "output_type": "execute_result",
     "data": {
      "text/plain": [
       "2.0    38932\n",
       "3.0    34548\n",
       "4.0    18096\n",
       "1.0     8391\n",
       "Name: 9, dtype: int64"
      ]
     },
     "metadata": {},
     "execution_count": 9
    }
   ],
   "source": [
    "data[\"9\"].value_counts()"
   ]
  },
  {
   "cell_type": "code",
   "execution_count": 17,
   "metadata": {},
   "outputs": [
    {
     "output_type": "execute_result",
     "data": {
      "text/plain": [
       "       2   3  5           6  8    9    11         12        13     15\n",
       "0      a   6  2  gynecology  F  4.0   2.0     Urgent  Moderate  21-30\n",
       "1      a   6  4  gynecology  F  2.0  15.0     Trauma  Moderate  51-60\n",
       "2      c   5  2  anesthesia  F  3.0   5.0     Urgent  Moderate  71-80\n",
       "3      f   9  3  gynecology  B  4.0   6.0  Emergency  Moderate  11-20\n",
       "4      a   1  3  gynecology  E  2.0   8.0     Urgent  Moderate  51-60\n",
       "...   ..  .. ..         ... ..  ...   ...        ...       ...    ...\n",
       "99995  a   9  3  gynecology  B  3.0   3.0  Emergency  Moderate  51-60\n",
       "99996  b  11  2  gynecology  F  2.0   5.0     Urgent  Moderate  21-30\n",
       "99997  a   6  3  gynecology  F  3.0   2.0     Trauma     Minor  31-40\n",
       "99998  f   9  2  gynecology  B  4.0  15.0     Trauma  Moderate  41-50\n",
       "99999  e   1  3  gynecology  E  2.0   8.0  Emergency  Moderate  41-50\n",
       "\n",
       "[98484 rows x 10 columns]"
      ],
      "text/html": "<div>\n<style scoped>\n    .dataframe tbody tr th:only-of-type {\n        vertical-align: middle;\n    }\n\n    .dataframe tbody tr th {\n        vertical-align: top;\n    }\n\n    .dataframe thead th {\n        text-align: right;\n    }\n</style>\n<table border=\"1\" class=\"dataframe\">\n  <thead>\n    <tr style=\"text-align: right;\">\n      <th></th>\n      <th>2</th>\n      <th>3</th>\n      <th>5</th>\n      <th>6</th>\n      <th>8</th>\n      <th>9</th>\n      <th>11</th>\n      <th>12</th>\n      <th>13</th>\n      <th>15</th>\n    </tr>\n  </thead>\n  <tbody>\n    <tr>\n      <th>0</th>\n      <td>a</td>\n      <td>6</td>\n      <td>2</td>\n      <td>gynecology</td>\n      <td>F</td>\n      <td>4.0</td>\n      <td>2.0</td>\n      <td>Urgent</td>\n      <td>Moderate</td>\n      <td>21-30</td>\n    </tr>\n    <tr>\n      <th>1</th>\n      <td>a</td>\n      <td>6</td>\n      <td>4</td>\n      <td>gynecology</td>\n      <td>F</td>\n      <td>2.0</td>\n      <td>15.0</td>\n      <td>Trauma</td>\n      <td>Moderate</td>\n      <td>51-60</td>\n    </tr>\n    <tr>\n      <th>2</th>\n      <td>c</td>\n      <td>5</td>\n      <td>2</td>\n      <td>anesthesia</td>\n      <td>F</td>\n      <td>3.0</td>\n      <td>5.0</td>\n      <td>Urgent</td>\n      <td>Moderate</td>\n      <td>71-80</td>\n    </tr>\n    <tr>\n      <th>3</th>\n      <td>f</td>\n      <td>9</td>\n      <td>3</td>\n      <td>gynecology</td>\n      <td>B</td>\n      <td>4.0</td>\n      <td>6.0</td>\n      <td>Emergency</td>\n      <td>Moderate</td>\n      <td>11-20</td>\n    </tr>\n    <tr>\n      <th>4</th>\n      <td>a</td>\n      <td>1</td>\n      <td>3</td>\n      <td>gynecology</td>\n      <td>E</td>\n      <td>2.0</td>\n      <td>8.0</td>\n      <td>Urgent</td>\n      <td>Moderate</td>\n      <td>51-60</td>\n    </tr>\n    <tr>\n      <th>...</th>\n      <td>...</td>\n      <td>...</td>\n      <td>...</td>\n      <td>...</td>\n      <td>...</td>\n      <td>...</td>\n      <td>...</td>\n      <td>...</td>\n      <td>...</td>\n      <td>...</td>\n    </tr>\n    <tr>\n      <th>99995</th>\n      <td>a</td>\n      <td>9</td>\n      <td>3</td>\n      <td>gynecology</td>\n      <td>B</td>\n      <td>3.0</td>\n      <td>3.0</td>\n      <td>Emergency</td>\n      <td>Moderate</td>\n      <td>51-60</td>\n    </tr>\n    <tr>\n      <th>99996</th>\n      <td>b</td>\n      <td>11</td>\n      <td>2</td>\n      <td>gynecology</td>\n      <td>F</td>\n      <td>2.0</td>\n      <td>5.0</td>\n      <td>Urgent</td>\n      <td>Moderate</td>\n      <td>21-30</td>\n    </tr>\n    <tr>\n      <th>99997</th>\n      <td>a</td>\n      <td>6</td>\n      <td>3</td>\n      <td>gynecology</td>\n      <td>F</td>\n      <td>3.0</td>\n      <td>2.0</td>\n      <td>Trauma</td>\n      <td>Minor</td>\n      <td>31-40</td>\n    </tr>\n    <tr>\n      <th>99998</th>\n      <td>f</td>\n      <td>9</td>\n      <td>2</td>\n      <td>gynecology</td>\n      <td>B</td>\n      <td>4.0</td>\n      <td>15.0</td>\n      <td>Trauma</td>\n      <td>Moderate</td>\n      <td>41-50</td>\n    </tr>\n    <tr>\n      <th>99999</th>\n      <td>e</td>\n      <td>1</td>\n      <td>3</td>\n      <td>gynecology</td>\n      <td>E</td>\n      <td>2.0</td>\n      <td>8.0</td>\n      <td>Emergency</td>\n      <td>Moderate</td>\n      <td>41-50</td>\n    </tr>\n  </tbody>\n</table>\n<p>98484 rows × 10 columns</p>\n</div>"
     },
     "metadata": {},
     "execution_count": 17
    }
   ],
   "source": [
    "data = data.dropna()\n",
    "data"
   ]
  },
  {
   "cell_type": "code",
   "execution_count": 12,
   "metadata": {},
   "outputs": [
    {
     "output_type": "stream",
     "name": "stdout",
     "text": [
      "<class 'pandas.core.frame.DataFrame'>\nInt64Index: 98484 entries, 0 to 99999\nData columns (total 10 columns):\n #   Column  Non-Null Count  Dtype  \n---  ------  --------------  -----  \n 0   2       98484 non-null  object \n 1   3       98484 non-null  int64  \n 2   5       98484 non-null  int64  \n 3   6       98484 non-null  object \n 4   8       98484 non-null  object \n 5   9       98484 non-null  float64\n 6   11      98484 non-null  float64\n 7   12      98484 non-null  object \n 8   13      98484 non-null  object \n 9   15      98484 non-null  object \ndtypes: float64(2), int64(2), object(6)\nmemory usage: 10.8+ MB\n"
     ]
    }
   ],
   "source": [
    "data.info()"
   ]
  },
  {
   "cell_type": "code",
   "execution_count": 21,
   "metadata": {},
   "outputs": [],
   "source": [
    "def label(dt= None, name_col=None):\n",
    "    lb= preprocessing.LabelEncoder()\n",
    "    label_transf= lb.fit_transform(dt[name_col])\n",
    "    dt[name_col]= label_transf\n",
    "    return dt \n"
   ]
  },
  {
   "cell_type": "code",
   "execution_count": 22,
   "metadata": {},
   "outputs": [
    {
     "output_type": "execute_result",
     "data": {
      "text/plain": [
       "       2   3  5  6  8    9    11         12        13     15\n",
       "0      a   6  2  2  F  4.0   2.0     Urgent  Moderate  21-30\n",
       "1      a   6  4  2  F  2.0  15.0     Trauma  Moderate  51-60\n",
       "2      c   5  2  1  F  3.0   5.0     Urgent  Moderate  71-80\n",
       "3      f   9  3  2  B  4.0   6.0  Emergency  Moderate  11-20\n",
       "4      a   1  3  2  E  2.0   8.0     Urgent  Moderate  51-60\n",
       "...   ..  .. .. .. ..  ...   ...        ...       ...    ...\n",
       "99995  a   9  3  2  B  3.0   3.0  Emergency  Moderate  51-60\n",
       "99996  b  11  2  2  F  2.0   5.0     Urgent  Moderate  21-30\n",
       "99997  a   6  3  2  F  3.0   2.0     Trauma     Minor  31-40\n",
       "99998  f   9  2  2  B  4.0  15.0     Trauma  Moderate  41-50\n",
       "99999  e   1  3  2  E  2.0   8.0  Emergency  Moderate  41-50\n",
       "\n",
       "[98484 rows x 10 columns]"
      ],
      "text/html": "<div>\n<style scoped>\n    .dataframe tbody tr th:only-of-type {\n        vertical-align: middle;\n    }\n\n    .dataframe tbody tr th {\n        vertical-align: top;\n    }\n\n    .dataframe thead th {\n        text-align: right;\n    }\n</style>\n<table border=\"1\" class=\"dataframe\">\n  <thead>\n    <tr style=\"text-align: right;\">\n      <th></th>\n      <th>2</th>\n      <th>3</th>\n      <th>5</th>\n      <th>6</th>\n      <th>8</th>\n      <th>9</th>\n      <th>11</th>\n      <th>12</th>\n      <th>13</th>\n      <th>15</th>\n    </tr>\n  </thead>\n  <tbody>\n    <tr>\n      <th>0</th>\n      <td>a</td>\n      <td>6</td>\n      <td>2</td>\n      <td>2</td>\n      <td>F</td>\n      <td>4.0</td>\n      <td>2.0</td>\n      <td>Urgent</td>\n      <td>Moderate</td>\n      <td>21-30</td>\n    </tr>\n    <tr>\n      <th>1</th>\n      <td>a</td>\n      <td>6</td>\n      <td>4</td>\n      <td>2</td>\n      <td>F</td>\n      <td>2.0</td>\n      <td>15.0</td>\n      <td>Trauma</td>\n      <td>Moderate</td>\n      <td>51-60</td>\n    </tr>\n    <tr>\n      <th>2</th>\n      <td>c</td>\n      <td>5</td>\n      <td>2</td>\n      <td>1</td>\n      <td>F</td>\n      <td>3.0</td>\n      <td>5.0</td>\n      <td>Urgent</td>\n      <td>Moderate</td>\n      <td>71-80</td>\n    </tr>\n    <tr>\n      <th>3</th>\n      <td>f</td>\n      <td>9</td>\n      <td>3</td>\n      <td>2</td>\n      <td>B</td>\n      <td>4.0</td>\n      <td>6.0</td>\n      <td>Emergency</td>\n      <td>Moderate</td>\n      <td>11-20</td>\n    </tr>\n    <tr>\n      <th>4</th>\n      <td>a</td>\n      <td>1</td>\n      <td>3</td>\n      <td>2</td>\n      <td>E</td>\n      <td>2.0</td>\n      <td>8.0</td>\n      <td>Urgent</td>\n      <td>Moderate</td>\n      <td>51-60</td>\n    </tr>\n    <tr>\n      <th>...</th>\n      <td>...</td>\n      <td>...</td>\n      <td>...</td>\n      <td>...</td>\n      <td>...</td>\n      <td>...</td>\n      <td>...</td>\n      <td>...</td>\n      <td>...</td>\n      <td>...</td>\n    </tr>\n    <tr>\n      <th>99995</th>\n      <td>a</td>\n      <td>9</td>\n      <td>3</td>\n      <td>2</td>\n      <td>B</td>\n      <td>3.0</td>\n      <td>3.0</td>\n      <td>Emergency</td>\n      <td>Moderate</td>\n      <td>51-60</td>\n    </tr>\n    <tr>\n      <th>99996</th>\n      <td>b</td>\n      <td>11</td>\n      <td>2</td>\n      <td>2</td>\n      <td>F</td>\n      <td>2.0</td>\n      <td>5.0</td>\n      <td>Urgent</td>\n      <td>Moderate</td>\n      <td>21-30</td>\n    </tr>\n    <tr>\n      <th>99997</th>\n      <td>a</td>\n      <td>6</td>\n      <td>3</td>\n      <td>2</td>\n      <td>F</td>\n      <td>3.0</td>\n      <td>2.0</td>\n      <td>Trauma</td>\n      <td>Minor</td>\n      <td>31-40</td>\n    </tr>\n    <tr>\n      <th>99998</th>\n      <td>f</td>\n      <td>9</td>\n      <td>2</td>\n      <td>2</td>\n      <td>B</td>\n      <td>4.0</td>\n      <td>15.0</td>\n      <td>Trauma</td>\n      <td>Moderate</td>\n      <td>41-50</td>\n    </tr>\n    <tr>\n      <th>99999</th>\n      <td>e</td>\n      <td>1</td>\n      <td>3</td>\n      <td>2</td>\n      <td>E</td>\n      <td>2.0</td>\n      <td>8.0</td>\n      <td>Emergency</td>\n      <td>Moderate</td>\n      <td>41-50</td>\n    </tr>\n  </tbody>\n</table>\n<p>98484 rows × 10 columns</p>\n</div>"
     },
     "metadata": {},
     "execution_count": 22
    }
   ],
   "source": [
    "label(dt=data, name_col= \"6\")"
   ]
  },
  {
   "cell_type": "code",
   "execution_count": 23,
   "metadata": {},
   "outputs": [
    {
     "output_type": "execute_result",
     "data": {
      "text/plain": [
       "       2   3  5  6  8    9    11  12  13  15\n",
       "0      0   6  2  2  5  4.0   2.0   2   2   2\n",
       "1      0   6  4  2  5  2.0  15.0   1   2   5\n",
       "2      2   5  2  1  5  3.0   5.0   2   2   7\n",
       "3      5   9  3  2  1  4.0   6.0   0   2   1\n",
       "4      0   1  3  2  4  2.0   8.0   2   2   5\n",
       "...   ..  .. .. .. ..  ...   ...  ..  ..  ..\n",
       "99995  0   9  3  2  1  3.0   3.0   0   2   5\n",
       "99996  1  11  2  2  5  2.0   5.0   2   2   2\n",
       "99997  0   6  3  2  5  3.0   2.0   1   1   3\n",
       "99998  5   9  2  2  1  4.0  15.0   1   2   4\n",
       "99999  4   1  3  2  4  2.0   8.0   0   2   4\n",
       "\n",
       "[98484 rows x 10 columns]"
      ],
      "text/html": "<div>\n<style scoped>\n    .dataframe tbody tr th:only-of-type {\n        vertical-align: middle;\n    }\n\n    .dataframe tbody tr th {\n        vertical-align: top;\n    }\n\n    .dataframe thead th {\n        text-align: right;\n    }\n</style>\n<table border=\"1\" class=\"dataframe\">\n  <thead>\n    <tr style=\"text-align: right;\">\n      <th></th>\n      <th>2</th>\n      <th>3</th>\n      <th>5</th>\n      <th>6</th>\n      <th>8</th>\n      <th>9</th>\n      <th>11</th>\n      <th>12</th>\n      <th>13</th>\n      <th>15</th>\n    </tr>\n  </thead>\n  <tbody>\n    <tr>\n      <th>0</th>\n      <td>0</td>\n      <td>6</td>\n      <td>2</td>\n      <td>2</td>\n      <td>5</td>\n      <td>4.0</td>\n      <td>2.0</td>\n      <td>2</td>\n      <td>2</td>\n      <td>2</td>\n    </tr>\n    <tr>\n      <th>1</th>\n      <td>0</td>\n      <td>6</td>\n      <td>4</td>\n      <td>2</td>\n      <td>5</td>\n      <td>2.0</td>\n      <td>15.0</td>\n      <td>1</td>\n      <td>2</td>\n      <td>5</td>\n    </tr>\n    <tr>\n      <th>2</th>\n      <td>2</td>\n      <td>5</td>\n      <td>2</td>\n      <td>1</td>\n      <td>5</td>\n      <td>3.0</td>\n      <td>5.0</td>\n      <td>2</td>\n      <td>2</td>\n      <td>7</td>\n    </tr>\n    <tr>\n      <th>3</th>\n      <td>5</td>\n      <td>9</td>\n      <td>3</td>\n      <td>2</td>\n      <td>1</td>\n      <td>4.0</td>\n      <td>6.0</td>\n      <td>0</td>\n      <td>2</td>\n      <td>1</td>\n    </tr>\n    <tr>\n      <th>4</th>\n      <td>0</td>\n      <td>1</td>\n      <td>3</td>\n      <td>2</td>\n      <td>4</td>\n      <td>2.0</td>\n      <td>8.0</td>\n      <td>2</td>\n      <td>2</td>\n      <td>5</td>\n    </tr>\n    <tr>\n      <th>...</th>\n      <td>...</td>\n      <td>...</td>\n      <td>...</td>\n      <td>...</td>\n      <td>...</td>\n      <td>...</td>\n      <td>...</td>\n      <td>...</td>\n      <td>...</td>\n      <td>...</td>\n    </tr>\n    <tr>\n      <th>99995</th>\n      <td>0</td>\n      <td>9</td>\n      <td>3</td>\n      <td>2</td>\n      <td>1</td>\n      <td>3.0</td>\n      <td>3.0</td>\n      <td>0</td>\n      <td>2</td>\n      <td>5</td>\n    </tr>\n    <tr>\n      <th>99996</th>\n      <td>1</td>\n      <td>11</td>\n      <td>2</td>\n      <td>2</td>\n      <td>5</td>\n      <td>2.0</td>\n      <td>5.0</td>\n      <td>2</td>\n      <td>2</td>\n      <td>2</td>\n    </tr>\n    <tr>\n      <th>99997</th>\n      <td>0</td>\n      <td>6</td>\n      <td>3</td>\n      <td>2</td>\n      <td>5</td>\n      <td>3.0</td>\n      <td>2.0</td>\n      <td>1</td>\n      <td>1</td>\n      <td>3</td>\n    </tr>\n    <tr>\n      <th>99998</th>\n      <td>5</td>\n      <td>9</td>\n      <td>2</td>\n      <td>2</td>\n      <td>1</td>\n      <td>4.0</td>\n      <td>15.0</td>\n      <td>1</td>\n      <td>2</td>\n      <td>4</td>\n    </tr>\n    <tr>\n      <th>99999</th>\n      <td>4</td>\n      <td>1</td>\n      <td>3</td>\n      <td>2</td>\n      <td>4</td>\n      <td>2.0</td>\n      <td>8.0</td>\n      <td>0</td>\n      <td>2</td>\n      <td>4</td>\n    </tr>\n  </tbody>\n</table>\n<p>98484 rows × 10 columns</p>\n</div>"
     },
     "metadata": {},
     "execution_count": 23
    }
   ],
   "source": [
    "label(dt=data, name_col= \"8\")\n",
    "label(dt=data, name_col= \"2\")\n",
    "label(dt=data, name_col= \"12\")\n",
    "label(dt=data, name_col= \"13\")\n",
    "label(dt=data, name_col= \"15\")"
   ]
  },
  {
   "cell_type": "code",
   "execution_count": 24,
   "metadata": {},
   "outputs": [
    {
     "output_type": "execute_result",
     "data": {
      "text/plain": [
       "       2   3  5  6  8    9    11  12  13  15\n",
       "0      0   6  2  2  5  4.0   2.0   2   2   2\n",
       "1      0   6  4  2  5  2.0  15.0   1   2   5\n",
       "2      2   5  2  1  5  3.0   5.0   2   2   7\n",
       "3      5   9  3  2  1  4.0   6.0   0   2   1\n",
       "4      0   1  3  2  4  2.0   8.0   2   2   5\n",
       "...   ..  .. .. .. ..  ...   ...  ..  ..  ..\n",
       "99995  0   9  3  2  1  3.0   3.0   0   2   5\n",
       "99996  1  11  2  2  5  2.0   5.0   2   2   2\n",
       "99997  0   6  3  2  5  3.0   2.0   1   1   3\n",
       "99998  5   9  2  2  1  4.0  15.0   1   2   4\n",
       "99999  4   1  3  2  4  2.0   8.0   0   2   4\n",
       "\n",
       "[98484 rows x 10 columns]"
      ],
      "text/html": "<div>\n<style scoped>\n    .dataframe tbody tr th:only-of-type {\n        vertical-align: middle;\n    }\n\n    .dataframe tbody tr th {\n        vertical-align: top;\n    }\n\n    .dataframe thead th {\n        text-align: right;\n    }\n</style>\n<table border=\"1\" class=\"dataframe\">\n  <thead>\n    <tr style=\"text-align: right;\">\n      <th></th>\n      <th>2</th>\n      <th>3</th>\n      <th>5</th>\n      <th>6</th>\n      <th>8</th>\n      <th>9</th>\n      <th>11</th>\n      <th>12</th>\n      <th>13</th>\n      <th>15</th>\n    </tr>\n  </thead>\n  <tbody>\n    <tr>\n      <th>0</th>\n      <td>0</td>\n      <td>6</td>\n      <td>2</td>\n      <td>2</td>\n      <td>5</td>\n      <td>4.0</td>\n      <td>2.0</td>\n      <td>2</td>\n      <td>2</td>\n      <td>2</td>\n    </tr>\n    <tr>\n      <th>1</th>\n      <td>0</td>\n      <td>6</td>\n      <td>4</td>\n      <td>2</td>\n      <td>5</td>\n      <td>2.0</td>\n      <td>15.0</td>\n      <td>1</td>\n      <td>2</td>\n      <td>5</td>\n    </tr>\n    <tr>\n      <th>2</th>\n      <td>2</td>\n      <td>5</td>\n      <td>2</td>\n      <td>1</td>\n      <td>5</td>\n      <td>3.0</td>\n      <td>5.0</td>\n      <td>2</td>\n      <td>2</td>\n      <td>7</td>\n    </tr>\n    <tr>\n      <th>3</th>\n      <td>5</td>\n      <td>9</td>\n      <td>3</td>\n      <td>2</td>\n      <td>1</td>\n      <td>4.0</td>\n      <td>6.0</td>\n      <td>0</td>\n      <td>2</td>\n      <td>1</td>\n    </tr>\n    <tr>\n      <th>4</th>\n      <td>0</td>\n      <td>1</td>\n      <td>3</td>\n      <td>2</td>\n      <td>4</td>\n      <td>2.0</td>\n      <td>8.0</td>\n      <td>2</td>\n      <td>2</td>\n      <td>5</td>\n    </tr>\n    <tr>\n      <th>...</th>\n      <td>...</td>\n      <td>...</td>\n      <td>...</td>\n      <td>...</td>\n      <td>...</td>\n      <td>...</td>\n      <td>...</td>\n      <td>...</td>\n      <td>...</td>\n      <td>...</td>\n    </tr>\n    <tr>\n      <th>99995</th>\n      <td>0</td>\n      <td>9</td>\n      <td>3</td>\n      <td>2</td>\n      <td>1</td>\n      <td>3.0</td>\n      <td>3.0</td>\n      <td>0</td>\n      <td>2</td>\n      <td>5</td>\n    </tr>\n    <tr>\n      <th>99996</th>\n      <td>1</td>\n      <td>11</td>\n      <td>2</td>\n      <td>2</td>\n      <td>5</td>\n      <td>2.0</td>\n      <td>5.0</td>\n      <td>2</td>\n      <td>2</td>\n      <td>2</td>\n    </tr>\n    <tr>\n      <th>99997</th>\n      <td>0</td>\n      <td>6</td>\n      <td>3</td>\n      <td>2</td>\n      <td>5</td>\n      <td>3.0</td>\n      <td>2.0</td>\n      <td>1</td>\n      <td>1</td>\n      <td>3</td>\n    </tr>\n    <tr>\n      <th>99998</th>\n      <td>5</td>\n      <td>9</td>\n      <td>2</td>\n      <td>2</td>\n      <td>1</td>\n      <td>4.0</td>\n      <td>15.0</td>\n      <td>1</td>\n      <td>2</td>\n      <td>4</td>\n    </tr>\n    <tr>\n      <th>99999</th>\n      <td>4</td>\n      <td>1</td>\n      <td>3</td>\n      <td>2</td>\n      <td>4</td>\n      <td>2.0</td>\n      <td>8.0</td>\n      <td>0</td>\n      <td>2</td>\n      <td>4</td>\n    </tr>\n  </tbody>\n</table>\n<p>98484 rows × 10 columns</p>\n</div>"
     },
     "metadata": {},
     "execution_count": 24
    }
   ],
   "source": [
    "dt= label(dt=data, name_col= \"15\")\n",
    "dt"
   ]
  },
  {
   "cell_type": "code",
   "execution_count": 29,
   "metadata": {},
   "outputs": [],
   "source": [
    "df= df.dropna()\n"
   ]
  },
  {
   "cell_type": "code",
   "execution_count": 30,
   "metadata": {},
   "outputs": [
    {
     "output_type": "execute_result",
     "data": {
      "text/plain": [
       "(98484, 10)"
      ]
     },
     "metadata": {},
     "execution_count": 30
    }
   ],
   "source": [
    "X = np.array(dt)\n",
    "y = np.array(df['17'])\n",
    "X.shape"
   ]
  },
  {
   "cell_type": "code",
   "execution_count": 31,
   "metadata": {},
   "outputs": [
    {
     "output_type": "execute_result",
     "data": {
      "text/plain": [
       "(98484,)"
      ]
     },
     "metadata": {},
     "execution_count": 31
    }
   ],
   "source": [
    "y.shape"
   ]
  },
  {
   "cell_type": "code",
   "execution_count": 32,
   "metadata": {},
   "outputs": [],
   "source": [
    "X_train, X_test, y_train, y_test = train_test_split(X, y, test_size=0.20)\n"
   ]
  },
  {
   "cell_type": "code",
   "execution_count": 33,
   "metadata": {},
   "outputs": [],
   "source": [
    "model = LogisticRegression()"
   ]
  },
  {
   "cell_type": "code",
   "execution_count": 34,
   "metadata": {},
   "outputs": [
    {
     "output_type": "execute_result",
     "data": {
      "text/plain": [
       "LogisticRegression()"
      ]
     },
     "metadata": {},
     "execution_count": 34
    }
   ],
   "source": [
    "model.fit(X_train, y_train)"
   ]
  },
  {
   "cell_type": "code",
   "execution_count": 35,
   "metadata": {},
   "outputs": [],
   "source": [
    "predictions = model.predict(X_test)"
   ]
  },
  {
   "cell_type": "code",
   "execution_count": 36,
   "metadata": {},
   "outputs": [
    {
     "output_type": "stream",
     "name": "stdout",
     "text": [
      "['21-30' '21-30' '21-30' ... '51-60' '21-30' '11-20']\n"
     ]
    }
   ],
   "source": [
    "print(predictions)"
   ]
  },
  {
   "cell_type": "code",
   "execution_count": 37,
   "metadata": {},
   "outputs": [
    {
     "output_type": "execute_result",
     "data": {
      "text/plain": [
       "0.29897954003147686"
      ]
     },
     "metadata": {},
     "execution_count": 37
    }
   ],
   "source": [
    "model.score(X_test,y_test)"
   ]
  },
  {
   "cell_type": "code",
   "execution_count": 38,
   "metadata": {},
   "outputs": [],
   "source": [
    "to_pred = pd.read_csv(\"test_set.csv\")"
   ]
  },
  {
   "cell_type": "code",
   "execution_count": 40,
   "metadata": {},
   "outputs": [
    {
     "output_type": "execute_result",
     "data": {
      "text/plain": [
       "        2   3  5                   6  8    9    11         12        13     15\n",
       "0       a   7  4          gynecology  C  2.0   8.0  Emergency     Minor  41-50\n",
       "1       c   5  3          gynecology  F  2.0  15.0     Trauma  Moderate  31-40\n",
       "2       e   1  4          gynecology  E  4.0   4.0  Emergency     Minor  71-80\n",
       "3       c   3  4  TB & Chest disease  A  2.0   9.0     Urgent   Extreme  31-40\n",
       "4       a   6  4          gynecology  F  1.0   8.0  Emergency     Minor  21-30\n",
       "...    ..  .. ..                 ... ..  ...   ...        ...       ...    ...\n",
       "133739  d  13  6          anesthesia  B  3.0  25.0     Urgent     Minor  51-60\n",
       "133740  a   7  2          gynecology  C  2.0   8.0  Emergency  Moderate  61-70\n",
       "133741  c   3  3          gynecology  A  3.0   5.0     Trauma     Minor  31-40\n",
       "133742  b  11  4          gynecology  F  2.0   2.0     Trauma   Extreme  31-40\n",
       "133743  a   6  4  TB & Chest disease  F  2.0  12.0     Trauma  Moderate  51-60\n",
       "\n",
       "[133744 rows x 10 columns]"
      ],
      "text/html": "<div>\n<style scoped>\n    .dataframe tbody tr th:only-of-type {\n        vertical-align: middle;\n    }\n\n    .dataframe tbody tr th {\n        vertical-align: top;\n    }\n\n    .dataframe thead th {\n        text-align: right;\n    }\n</style>\n<table border=\"1\" class=\"dataframe\">\n  <thead>\n    <tr style=\"text-align: right;\">\n      <th></th>\n      <th>2</th>\n      <th>3</th>\n      <th>5</th>\n      <th>6</th>\n      <th>8</th>\n      <th>9</th>\n      <th>11</th>\n      <th>12</th>\n      <th>13</th>\n      <th>15</th>\n    </tr>\n  </thead>\n  <tbody>\n    <tr>\n      <th>0</th>\n      <td>a</td>\n      <td>7</td>\n      <td>4</td>\n      <td>gynecology</td>\n      <td>C</td>\n      <td>2.0</td>\n      <td>8.0</td>\n      <td>Emergency</td>\n      <td>Minor</td>\n      <td>41-50</td>\n    </tr>\n    <tr>\n      <th>1</th>\n      <td>c</td>\n      <td>5</td>\n      <td>3</td>\n      <td>gynecology</td>\n      <td>F</td>\n      <td>2.0</td>\n      <td>15.0</td>\n      <td>Trauma</td>\n      <td>Moderate</td>\n      <td>31-40</td>\n    </tr>\n    <tr>\n      <th>2</th>\n      <td>e</td>\n      <td>1</td>\n      <td>4</td>\n      <td>gynecology</td>\n      <td>E</td>\n      <td>4.0</td>\n      <td>4.0</td>\n      <td>Emergency</td>\n      <td>Minor</td>\n      <td>71-80</td>\n    </tr>\n    <tr>\n      <th>3</th>\n      <td>c</td>\n      <td>3</td>\n      <td>4</td>\n      <td>TB &amp; Chest disease</td>\n      <td>A</td>\n      <td>2.0</td>\n      <td>9.0</td>\n      <td>Urgent</td>\n      <td>Extreme</td>\n      <td>31-40</td>\n    </tr>\n    <tr>\n      <th>4</th>\n      <td>a</td>\n      <td>6</td>\n      <td>4</td>\n      <td>gynecology</td>\n      <td>F</td>\n      <td>1.0</td>\n      <td>8.0</td>\n      <td>Emergency</td>\n      <td>Minor</td>\n      <td>21-30</td>\n    </tr>\n    <tr>\n      <th>...</th>\n      <td>...</td>\n      <td>...</td>\n      <td>...</td>\n      <td>...</td>\n      <td>...</td>\n      <td>...</td>\n      <td>...</td>\n      <td>...</td>\n      <td>...</td>\n      <td>...</td>\n    </tr>\n    <tr>\n      <th>133739</th>\n      <td>d</td>\n      <td>13</td>\n      <td>6</td>\n      <td>anesthesia</td>\n      <td>B</td>\n      <td>3.0</td>\n      <td>25.0</td>\n      <td>Urgent</td>\n      <td>Minor</td>\n      <td>51-60</td>\n    </tr>\n    <tr>\n      <th>133740</th>\n      <td>a</td>\n      <td>7</td>\n      <td>2</td>\n      <td>gynecology</td>\n      <td>C</td>\n      <td>2.0</td>\n      <td>8.0</td>\n      <td>Emergency</td>\n      <td>Moderate</td>\n      <td>61-70</td>\n    </tr>\n    <tr>\n      <th>133741</th>\n      <td>c</td>\n      <td>3</td>\n      <td>3</td>\n      <td>gynecology</td>\n      <td>A</td>\n      <td>3.0</td>\n      <td>5.0</td>\n      <td>Trauma</td>\n      <td>Minor</td>\n      <td>31-40</td>\n    </tr>\n    <tr>\n      <th>133742</th>\n      <td>b</td>\n      <td>11</td>\n      <td>4</td>\n      <td>gynecology</td>\n      <td>F</td>\n      <td>2.0</td>\n      <td>2.0</td>\n      <td>Trauma</td>\n      <td>Extreme</td>\n      <td>31-40</td>\n    </tr>\n    <tr>\n      <th>133743</th>\n      <td>a</td>\n      <td>6</td>\n      <td>4</td>\n      <td>TB &amp; Chest disease</td>\n      <td>F</td>\n      <td>2.0</td>\n      <td>12.0</td>\n      <td>Trauma</td>\n      <td>Moderate</td>\n      <td>51-60</td>\n    </tr>\n  </tbody>\n</table>\n<p>133744 rows × 10 columns</p>\n</div>"
     },
     "metadata": {},
     "execution_count": 40
    }
   ],
   "source": [
    "pred= to_pred[[\"2\", \"3\", \"5\", \"6\", \"8\", \"9\", \"11\", \"12\", \"13\", \"15\"]]\n",
    "pred"
   ]
  },
  {
   "cell_type": "code",
   "execution_count": 43,
   "metadata": {},
   "outputs": [
    {
     "output_type": "execute_result",
     "data": {
      "text/plain": [
       "        2   3  5  6  8    9    11  12  13  15\n",
       "0       0   7  4  2  2  2.0   8.0   0   1   4\n",
       "1       2   5  3  2  5  2.0  15.0   1   2   3\n",
       "2       4   1  4  2  4  4.0   4.0   0   1   7\n",
       "3       2   3  4  0  0  2.0   9.0   2   0   3\n",
       "4       0   6  4  2  5  1.0   8.0   0   1   2\n",
       "...    ..  .. .. .. ..  ...   ...  ..  ..  ..\n",
       "133739  3  13  6  1  1  3.0  25.0   2   1   5\n",
       "133740  0   7  2  2  2  2.0   8.0   0   2   6\n",
       "133741  2   3  3  2  0  3.0   5.0   1   1   3\n",
       "133742  1  11  4  2  5  2.0   2.0   1   0   3\n",
       "133743  0   6  4  0  5  2.0  12.0   1   2   5\n",
       "\n",
       "[133744 rows x 10 columns]"
      ],
      "text/html": "<div>\n<style scoped>\n    .dataframe tbody tr th:only-of-type {\n        vertical-align: middle;\n    }\n\n    .dataframe tbody tr th {\n        vertical-align: top;\n    }\n\n    .dataframe thead th {\n        text-align: right;\n    }\n</style>\n<table border=\"1\" class=\"dataframe\">\n  <thead>\n    <tr style=\"text-align: right;\">\n      <th></th>\n      <th>2</th>\n      <th>3</th>\n      <th>5</th>\n      <th>6</th>\n      <th>8</th>\n      <th>9</th>\n      <th>11</th>\n      <th>12</th>\n      <th>13</th>\n      <th>15</th>\n    </tr>\n  </thead>\n  <tbody>\n    <tr>\n      <th>0</th>\n      <td>0</td>\n      <td>7</td>\n      <td>4</td>\n      <td>2</td>\n      <td>2</td>\n      <td>2.0</td>\n      <td>8.0</td>\n      <td>0</td>\n      <td>1</td>\n      <td>4</td>\n    </tr>\n    <tr>\n      <th>1</th>\n      <td>2</td>\n      <td>5</td>\n      <td>3</td>\n      <td>2</td>\n      <td>5</td>\n      <td>2.0</td>\n      <td>15.0</td>\n      <td>1</td>\n      <td>2</td>\n      <td>3</td>\n    </tr>\n    <tr>\n      <th>2</th>\n      <td>4</td>\n      <td>1</td>\n      <td>4</td>\n      <td>2</td>\n      <td>4</td>\n      <td>4.0</td>\n      <td>4.0</td>\n      <td>0</td>\n      <td>1</td>\n      <td>7</td>\n    </tr>\n    <tr>\n      <th>3</th>\n      <td>2</td>\n      <td>3</td>\n      <td>4</td>\n      <td>0</td>\n      <td>0</td>\n      <td>2.0</td>\n      <td>9.0</td>\n      <td>2</td>\n      <td>0</td>\n      <td>3</td>\n    </tr>\n    <tr>\n      <th>4</th>\n      <td>0</td>\n      <td>6</td>\n      <td>4</td>\n      <td>2</td>\n      <td>5</td>\n      <td>1.0</td>\n      <td>8.0</td>\n      <td>0</td>\n      <td>1</td>\n      <td>2</td>\n    </tr>\n    <tr>\n      <th>...</th>\n      <td>...</td>\n      <td>...</td>\n      <td>...</td>\n      <td>...</td>\n      <td>...</td>\n      <td>...</td>\n      <td>...</td>\n      <td>...</td>\n      <td>...</td>\n      <td>...</td>\n    </tr>\n    <tr>\n      <th>133739</th>\n      <td>3</td>\n      <td>13</td>\n      <td>6</td>\n      <td>1</td>\n      <td>1</td>\n      <td>3.0</td>\n      <td>25.0</td>\n      <td>2</td>\n      <td>1</td>\n      <td>5</td>\n    </tr>\n    <tr>\n      <th>133740</th>\n      <td>0</td>\n      <td>7</td>\n      <td>2</td>\n      <td>2</td>\n      <td>2</td>\n      <td>2.0</td>\n      <td>8.0</td>\n      <td>0</td>\n      <td>2</td>\n      <td>6</td>\n    </tr>\n    <tr>\n      <th>133741</th>\n      <td>2</td>\n      <td>3</td>\n      <td>3</td>\n      <td>2</td>\n      <td>0</td>\n      <td>3.0</td>\n      <td>5.0</td>\n      <td>1</td>\n      <td>1</td>\n      <td>3</td>\n    </tr>\n    <tr>\n      <th>133742</th>\n      <td>1</td>\n      <td>11</td>\n      <td>4</td>\n      <td>2</td>\n      <td>5</td>\n      <td>2.0</td>\n      <td>2.0</td>\n      <td>1</td>\n      <td>0</td>\n      <td>3</td>\n    </tr>\n    <tr>\n      <th>133743</th>\n      <td>0</td>\n      <td>6</td>\n      <td>4</td>\n      <td>0</td>\n      <td>5</td>\n      <td>2.0</td>\n      <td>12.0</td>\n      <td>1</td>\n      <td>2</td>\n      <td>5</td>\n    </tr>\n  </tbody>\n</table>\n<p>133744 rows × 10 columns</p>\n</div>"
     },
     "metadata": {},
     "execution_count": 43
    }
   ],
   "source": [
    "label(dt=pred, name_col= \"6\")\n",
    "label(dt=pred, name_col= \"8\")\n",
    "label(dt=pred, name_col= \"2\")\n",
    "label(dt=pred, name_col= \"12\")\n",
    "label(dt=pred, name_col= \"13\")\n",
    "label(dt=pred, name_col= \"15\")"
   ]
  },
  {
   "cell_type": "code",
   "execution_count": 44,
   "metadata": {},
   "outputs": [
    {
     "output_type": "execute_result",
     "data": {
      "text/plain": [
       "        2   3  5  6  8    9    11  12  13  15\n",
       "0       0   7  4  2  2  2.0   8.0   0   1   4\n",
       "1       2   5  3  2  5  2.0  15.0   1   2   3\n",
       "2       4   1  4  2  4  4.0   4.0   0   1   7\n",
       "3       2   3  4  0  0  2.0   9.0   2   0   3\n",
       "4       0   6  4  2  5  1.0   8.0   0   1   2\n",
       "...    ..  .. .. .. ..  ...   ...  ..  ..  ..\n",
       "133739  3  13  6  1  1  3.0  25.0   2   1   5\n",
       "133740  0   7  2  2  2  2.0   8.0   0   2   6\n",
       "133741  2   3  3  2  0  3.0   5.0   1   1   3\n",
       "133742  1  11  4  2  5  2.0   2.0   1   0   3\n",
       "133743  0   6  4  0  5  2.0  12.0   1   2   5\n",
       "\n",
       "[133744 rows x 10 columns]"
      ],
      "text/html": "<div>\n<style scoped>\n    .dataframe tbody tr th:only-of-type {\n        vertical-align: middle;\n    }\n\n    .dataframe tbody tr th {\n        vertical-align: top;\n    }\n\n    .dataframe thead th {\n        text-align: right;\n    }\n</style>\n<table border=\"1\" class=\"dataframe\">\n  <thead>\n    <tr style=\"text-align: right;\">\n      <th></th>\n      <th>2</th>\n      <th>3</th>\n      <th>5</th>\n      <th>6</th>\n      <th>8</th>\n      <th>9</th>\n      <th>11</th>\n      <th>12</th>\n      <th>13</th>\n      <th>15</th>\n    </tr>\n  </thead>\n  <tbody>\n    <tr>\n      <th>0</th>\n      <td>0</td>\n      <td>7</td>\n      <td>4</td>\n      <td>2</td>\n      <td>2</td>\n      <td>2.0</td>\n      <td>8.0</td>\n      <td>0</td>\n      <td>1</td>\n      <td>4</td>\n    </tr>\n    <tr>\n      <th>1</th>\n      <td>2</td>\n      <td>5</td>\n      <td>3</td>\n      <td>2</td>\n      <td>5</td>\n      <td>2.0</td>\n      <td>15.0</td>\n      <td>1</td>\n      <td>2</td>\n      <td>3</td>\n    </tr>\n    <tr>\n      <th>2</th>\n      <td>4</td>\n      <td>1</td>\n      <td>4</td>\n      <td>2</td>\n      <td>4</td>\n      <td>4.0</td>\n      <td>4.0</td>\n      <td>0</td>\n      <td>1</td>\n      <td>7</td>\n    </tr>\n    <tr>\n      <th>3</th>\n      <td>2</td>\n      <td>3</td>\n      <td>4</td>\n      <td>0</td>\n      <td>0</td>\n      <td>2.0</td>\n      <td>9.0</td>\n      <td>2</td>\n      <td>0</td>\n      <td>3</td>\n    </tr>\n    <tr>\n      <th>4</th>\n      <td>0</td>\n      <td>6</td>\n      <td>4</td>\n      <td>2</td>\n      <td>5</td>\n      <td>1.0</td>\n      <td>8.0</td>\n      <td>0</td>\n      <td>1</td>\n      <td>2</td>\n    </tr>\n    <tr>\n      <th>...</th>\n      <td>...</td>\n      <td>...</td>\n      <td>...</td>\n      <td>...</td>\n      <td>...</td>\n      <td>...</td>\n      <td>...</td>\n      <td>...</td>\n      <td>...</td>\n      <td>...</td>\n    </tr>\n    <tr>\n      <th>133739</th>\n      <td>3</td>\n      <td>13</td>\n      <td>6</td>\n      <td>1</td>\n      <td>1</td>\n      <td>3.0</td>\n      <td>25.0</td>\n      <td>2</td>\n      <td>1</td>\n      <td>5</td>\n    </tr>\n    <tr>\n      <th>133740</th>\n      <td>0</td>\n      <td>7</td>\n      <td>2</td>\n      <td>2</td>\n      <td>2</td>\n      <td>2.0</td>\n      <td>8.0</td>\n      <td>0</td>\n      <td>2</td>\n      <td>6</td>\n    </tr>\n    <tr>\n      <th>133741</th>\n      <td>2</td>\n      <td>3</td>\n      <td>3</td>\n      <td>2</td>\n      <td>0</td>\n      <td>3.0</td>\n      <td>5.0</td>\n      <td>1</td>\n      <td>1</td>\n      <td>3</td>\n    </tr>\n    <tr>\n      <th>133742</th>\n      <td>1</td>\n      <td>11</td>\n      <td>4</td>\n      <td>2</td>\n      <td>5</td>\n      <td>2.0</td>\n      <td>2.0</td>\n      <td>1</td>\n      <td>0</td>\n      <td>3</td>\n    </tr>\n    <tr>\n      <th>133743</th>\n      <td>0</td>\n      <td>6</td>\n      <td>4</td>\n      <td>0</td>\n      <td>5</td>\n      <td>2.0</td>\n      <td>12.0</td>\n      <td>1</td>\n      <td>2</td>\n      <td>5</td>\n    </tr>\n  </tbody>\n</table>\n<p>133744 rows × 10 columns</p>\n</div>"
     },
     "metadata": {},
     "execution_count": 44
    }
   ],
   "source": [
    "pred = pred.fillna(0)\n",
    "pred"
   ]
  },
  {
   "cell_type": "code",
   "execution_count": 45,
   "metadata": {},
   "outputs": [
    {
     "output_type": "execute_result",
     "data": {
      "text/plain": [
       "array(['21-30', '21-30', '11-20', ..., '11-20', '21-30', '21-30'],\n",
       "      dtype=object)"
      ]
     },
     "metadata": {},
     "execution_count": 45
    }
   ],
   "source": [
    "predictions_submit = model.predict(pred)\n",
    "predictions_submit"
   ]
  },
  {
   "cell_type": "code",
   "execution_count": 50,
   "metadata": {},
   "outputs": [
    {
     "output_type": "execute_result",
     "data": {
      "text/plain": [
       "array([[ 0.,  7.,  4., ...,  0.,  1.,  4.],\n",
       "       [ 2.,  5.,  3., ...,  1.,  2.,  3.],\n",
       "       [ 4.,  1.,  4., ...,  0.,  1.,  7.],\n",
       "       ...,\n",
       "       [ 2.,  3.,  3., ...,  1.,  1.,  3.],\n",
       "       [ 1., 11.,  4., ...,  1.,  0.,  3.],\n",
       "       [ 0.,  6.,  4., ...,  1.,  2.,  5.]])"
      ]
     },
     "metadata": {},
     "execution_count": 50
    }
   ],
   "source": [
    "x= np.array(pred)\n",
    "x"
   ]
  },
  {
   "cell_type": "code",
   "execution_count": 51,
   "metadata": {},
   "outputs": [
    {
     "output_type": "execute_result",
     "data": {
      "text/plain": [
       "1.0"
      ]
     },
     "metadata": {},
     "execution_count": 51
    }
   ],
   "source": [
    "model.score(x, predictions_submit)"
   ]
  },
  {
   "cell_type": "code",
   "execution_count": 46,
   "metadata": {},
   "outputs": [
    {
     "output_type": "execute_result",
     "data": {
      "text/plain": [
       "array([['21-30'],\n",
       "       ['21-30'],\n",
       "       ['11-20'],\n",
       "       ...,\n",
       "       ['11-20'],\n",
       "       ['21-30'],\n",
       "       ['21-30']], dtype=object)"
      ]
     },
     "metadata": {},
     "execution_count": 46
    }
   ],
   "source": [
    "predictions_submit.reshape(-1,1)"
   ]
  },
  {
   "cell_type": "code",
   "execution_count": 48,
   "metadata": {},
   "outputs": [
    {
     "output_type": "execute_result",
     "data": {
      "text/plain": [
       "            id   days\n",
       "0       314114  21-30\n",
       "1       208989  21-30\n",
       "2       305872  11-20\n",
       "3       266099  21-30\n",
       "4        13228  21-30\n",
       "...        ...    ...\n",
       "133739  318155  21-30\n",
       "133740  144850  21-30\n",
       "133741  180676  11-20\n",
       "133742   39933  21-30\n",
       "133743  116673  21-30\n",
       "\n",
       "[133744 rows x 2 columns]"
      ],
      "text/html": "<div>\n<style scoped>\n    .dataframe tbody tr th:only-of-type {\n        vertical-align: middle;\n    }\n\n    .dataframe tbody tr th {\n        vertical-align: top;\n    }\n\n    .dataframe thead th {\n        text-align: right;\n    }\n</style>\n<table border=\"1\" class=\"dataframe\">\n  <thead>\n    <tr style=\"text-align: right;\">\n      <th></th>\n      <th>id</th>\n      <th>days</th>\n    </tr>\n  </thead>\n  <tbody>\n    <tr>\n      <th>0</th>\n      <td>314114</td>\n      <td>21-30</td>\n    </tr>\n    <tr>\n      <th>1</th>\n      <td>208989</td>\n      <td>21-30</td>\n    </tr>\n    <tr>\n      <th>2</th>\n      <td>305872</td>\n      <td>11-20</td>\n    </tr>\n    <tr>\n      <th>3</th>\n      <td>266099</td>\n      <td>21-30</td>\n    </tr>\n    <tr>\n      <th>4</th>\n      <td>13228</td>\n      <td>21-30</td>\n    </tr>\n    <tr>\n      <th>...</th>\n      <td>...</td>\n      <td>...</td>\n    </tr>\n    <tr>\n      <th>133739</th>\n      <td>318155</td>\n      <td>21-30</td>\n    </tr>\n    <tr>\n      <th>133740</th>\n      <td>144850</td>\n      <td>21-30</td>\n    </tr>\n    <tr>\n      <th>133741</th>\n      <td>180676</td>\n      <td>11-20</td>\n    </tr>\n    <tr>\n      <th>133742</th>\n      <td>39933</td>\n      <td>21-30</td>\n    </tr>\n    <tr>\n      <th>133743</th>\n      <td>116673</td>\n      <td>21-30</td>\n    </tr>\n  </tbody>\n</table>\n<p>133744 rows × 2 columns</p>\n</div>"
     },
     "metadata": {},
     "execution_count": 48
    }
   ],
   "source": [
    "submission = pd.DataFrame({\"id\": to_pred[\"0\"], \"days\": predictions_submit})\n",
    "submission"
   ]
  },
  {
   "cell_type": "code",
   "execution_count": 49,
   "metadata": {},
   "outputs": [],
   "source": [
    "submission.to_csv(\"to_submit.csv\", index = False)"
   ]
  },
  {
   "cell_type": "code",
   "execution_count": null,
   "metadata": {},
   "outputs": [],
   "source": []
  }
 ]
}
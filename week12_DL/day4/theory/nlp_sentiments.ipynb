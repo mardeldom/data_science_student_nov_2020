{
 "cells": [
  {
   "source": [
    "https://www.tensorflow.org/tutorials/text/word_embeddings?hl=pt-br&refresh=1%29%2C"
   ],
   "cell_type": "markdown",
   "metadata": {}
  },
  {
   "cell_type": "markdown",
   "metadata": {
    "id": "IZBRUaiBBEpa"
   },
   "source": [
    "##### Copyright 2019 The TensorFlow Authors."
   ]
  },
  {
   "cell_type": "code",
   "execution_count": 1,
   "metadata": {
    "cellView": "form",
    "execution": {
     "iopub.execute_input": "2020-09-23T02:01:08.534341Z",
     "iopub.status.busy": "2020-09-23T02:01:08.533598Z",
     "iopub.status.idle": "2020-09-23T02:01:08.535846Z",
     "shell.execute_reply": "2020-09-23T02:01:08.536284Z"
    },
    "id": "YS3NA-i6nAFC"
   },
   "outputs": [],
   "source": [
    "#@title Licensed under the Apache License, Version 2.0 (the \"License\");\n",
    "# you may not use this file except in compliance with the License.\n",
    "# You may obtain a copy of the License at\n",
    "#\n",
    "# https://www.apache.org/licenses/LICENSE-2.0\n",
    "#\n",
    "# Unless required by applicable law or agreed to in writing, software\n",
    "# distributed under the License is distributed on an \"AS IS\" BASIS,\n",
    "# WITHOUT WARRANTIES OR CONDITIONS OF ANY KIND, either express or implied.\n",
    "# See the License for the specific language governing permissions and\n",
    "# limitations under the License."
   ]
  },
  {
   "cell_type": "markdown",
   "metadata": {
    "id": "7SN5USFEIIK3"
   },
   "source": [
    "# Word embeddings"
   ]
  },
  {
   "cell_type": "markdown",
   "metadata": {
    "id": "Q6mJg1g3apaz"
   },
   "source": [
    "This tutorial contains an introduction to word embeddings. You will train your own word embeddings using a simple Keras model for a sentiment classification task, and then visualize them in the [Embedding Projector](http://projector.tensorflow.org) (shown in the image below). \n",
    "\n",
    "<img src=\"https://github.com/tensorflow/docs/blob/master/site/en/tutorials/text/images/embedding.jpg?raw=1\" alt=\"Screenshot of the embedding projector\" width=\"400\"/>\n",
    "\n",
    "## Representing text as numbers\n",
    "\n",
    "Machine learning models take vectors (arrays of numbers) as input. When working with text, the first thing you must do is come up with a strategy to convert strings to numbers (or to \"vectorize\" the text) before feeding it to the model. In this section, you will look at three strategies for doing so.\n",
    "\n",
    "### One-hot encodings\n",
    "\n",
    "As a first idea, you might \"one-hot\" encode each word in your vocabulary. Consider the sentence \"The cat sat on the mat\". The vocabulary (or unique words) in this sentence is (cat, mat, on, sat, the). To represent each word, you will create a zero vector with length equal to the vocabulary, then place a one in the index that corresponds to the word. This approach is shown in the following diagram.\n",
    "\n",
    "<img src=\"https://github.com/tensorflow/docs/blob/master/site/en/tutorials/text/images/one-hot.png?raw=1\" alt=\"Diagram of one-hot encodings\" width=\"400\" />\n",
    "\n",
    "To create a vector that contains the encoding of the sentence, you could then concatenate the one-hot vectors for each word.\n",
    "\n",
    "Key point: This approach is inefficient. A one-hot encoded vector is sparse (meaning, most indices are zero). Imagine you have 10,000 words in the vocabulary. To one-hot encode each word, you would create a vector where 99.99% of the elements are zero.\n",
    "\n",
    "### Encode each word with a unique number\n",
    "\n",
    "A second approach you might try is to encode each word using a unique number. Continuing the example above, you could assign 1 to \"cat\", 2 to \"mat\", and so on. You could then encode the sentence \"The cat sat on the mat\" as a dense vector like [5, 1, 4, 3, 5, 2]. This appoach is efficient. Instead of a sparse vector, you now have a dense one (where all elements are full).\n",
    "\n",
    "There are two downsides to this approach, however:\n",
    "\n",
    "* The integer-encoding is arbitrary (it does not capture any relationship between words).\n",
    "\n",
    "* An integer-encoding can be challenging for a model to interpret. A linear classifier, for example, learns a single weight for each feature. Because there is no relationship between the similarity of any two words and the similarity of their encodings, this feature-weight combination is not meaningful.\n",
    "\n",
    "### Word embeddings\n",
    "\n",
    "Word embeddings give us a way to use an efficient, dense representation in which similar words have a similar encoding. Importantly, you do not have to specify this encoding by hand. An embedding is a dense vector of floating point values (the length of the vector is a parameter you specify). Instead of specifying the values for the embedding manually, they are trainable parameters (weights learned by the model during training, in the same way a model learns weights for a dense layer). It is common to see word embeddings that are 8-dimensional (for small datasets), up to 1024-dimensions when working with large datasets. A higher dimensional embedding can capture fine-grained relationships between words, but takes more data to learn.\n",
    "\n",
    "<img src=\"https://github.com/tensorflow/docs/blob/master/site/en/tutorials/text/images/embedding2.png?raw=1\" alt=\"Diagram of an embedding\" width=\"400\"/>\n",
    "\n",
    "Above is a diagram for a word embedding. Each word is represented as a 4-dimensional vector of floating point values. Another way to think of an embedding is as \"lookup table\". After these weights have been learned, you can encode each word by looking up the dense vector it corresponds to in the table."
   ]
  },
  {
   "cell_type": "markdown",
   "metadata": {
    "id": "SZUQErGewZxE"
   },
   "source": [
    "## Setup"
   ]
  },
  {
   "cell_type": "code",
   "execution_count": 1,
   "metadata": {
    "execution": {
     "iopub.execute_input": "2020-09-23T02:01:08.541903Z",
     "iopub.status.busy": "2020-09-23T02:01:08.541265Z",
     "iopub.status.idle": "2020-09-23T02:01:15.053625Z",
     "shell.execute_reply": "2020-09-23T02:01:15.052960Z"
    },
    "id": "RutaI-Tpev3T"
   },
   "outputs": [],
   "source": [
    "import io\n",
    "import os\n",
    "import re\n",
    "import shutil\n",
    "import string\n",
    "import tensorflow as tf\n",
    "\n",
    "from datetime import datetime\n",
    "from tensorflow.keras import Model, Sequential\n",
    "from tensorflow.keras.layers import Activation, Dense, Embedding, GlobalAveragePooling1D\n",
    "from tensorflow.keras.layers.experimental.preprocessing import TextVectorization"
   ]
  },
  {
   "cell_type": "markdown",
   "metadata": {
    "id": "SBFctV8-JZOc"
   },
   "source": [
    "### Download the IMDb Dataset\n",
    "You will use the [Large Movie Review Dataset](http://ai.stanford.edu/~amaas/data/sentiment/) through the tutorial. You will train a sentiment classifier model on this dataset and in the process learn embeddings from scratch. To read more about loading a dataset from scratch, see the [Loading text tutorial](../load_data/text.ipynb).  \n",
    "\n",
    "Download the dataset using Keras file utility and take a look at the directories."
   ]
  },
  {
   "cell_type": "code",
   "execution_count": 2,
   "metadata": {},
   "outputs": [],
   "source": [
    "# Mejor descargar desde explorador\n",
    "\n",
    "url = \"https://ai.stanford.edu/~amaas/data/sentiment/aclImdb_v1.tar.gz\""
   ]
  },
  {
   "cell_type": "code",
   "execution_count": 3,
   "metadata": {
    "execution": {
     "iopub.execute_input": "2020-09-23T02:01:15.060473Z",
     "iopub.status.busy": "2020-09-23T02:01:15.059798Z",
     "iopub.status.idle": "2020-09-23T02:01:35.720462Z",
     "shell.execute_reply": "2020-09-23T02:01:35.721030Z"
    },
    "id": "aPO4_UmfF0KH",
    "tags": []
   },
   "outputs": [
    {
     "output_type": "stream",
     "name": "stdout",
     "text": [
      "Downloading data from https://ai.stanford.edu/~amaas/data/sentiment/aclImdb_v1.tar.gz\n",
      "84131840/84125825 [==============================] - 16s 0us/step\n",
      "Downloading data from https://ai.stanford.edu/~amaas/data/sentiment/aclImdb_v1.tar.gz\n",
      "84131840/84125825 [==============================] - 205s 2us/step\n",
      "['imdb.vocab', 'imdbEr.txt', 'README', 'test', 'train']\n"
     ]
    }
   ],
   "source": [
    "#crea la carpeta aclImdb con positivo y negativo tanto para conjunto de test y train \n",
    "dataset = tf.keras.utils.get_file(\"aclImdb_v1.tar.gz\", url,\n",
    "                                    untar=True, cache_dir='.',\n",
    "                                    cache_subdir='')\n",
    "\n",
    "dataset_dir = os.path.join(os.path.dirname(dataset), 'aclImdb')\n",
    "os.listdir(dataset_dir)\n",
    "\n",
    "\n",
    "print(\"\"\"Downloading data from https://ai.stanford.edu/~amaas/data/sentiment/aclImdb_v1.tar.gz\n",
    "84131840/84125825 [==============================] - 205s 2us/step\n",
    "['imdb.vocab', 'imdbEr.txt', 'README', 'test', 'train']\"\"\")"
   ]
  },
  {
   "cell_type": "markdown",
   "metadata": {
    "id": "eY6yROZNKvbd"
   },
   "source": [
    "Take a look at the `train/` directory. It has `pos` and `neg` folders with movie reviews labelled as positive and negative respectively. You will use reviews from `pos` and `neg` folders to train a binary classification model."
   ]
  },
  {
   "cell_type": "code",
   "execution_count": 5,
   "metadata": {
    "execution": {
     "iopub.execute_input": "2020-09-23T02:01:35.726685Z",
     "iopub.status.busy": "2020-09-23T02:01:35.725501Z",
     "iopub.status.idle": "2020-09-23T02:01:35.730757Z",
     "shell.execute_reply": "2020-09-23T02:01:35.730150Z"
    },
    "id": "9-iOHJGN6SDu"
   },
   "outputs": [],
   "source": [
    "#change\n",
    "dataset_dir = \"aclImdb/train/\"\n",
    "train_dir = \"aclImdb/train/\"\n",
    "#train_dir = os.path.join(dataset_dir, 'train')\n",
    "#os.listdir(train_dir)"
   ]
  },
  {
   "cell_type": "markdown",
   "metadata": {
    "id": "9O59BdioK8jY"
   },
   "source": [
    "The `train` directory also has additional folders which should be removed before creating training dataset."
   ]
  },
  {
   "cell_type": "code",
   "execution_count": 6,
   "metadata": {},
   "outputs": [],
   "source": [
    "#remove_dir = os.path.join(train_dir, 'unsup')\n",
    "#shutil.rmtree(remove_dir)"
   ]
  },
  {
   "cell_type": "markdown",
   "metadata": {
    "id": "oFoJjiEyJz9u"
   },
   "source": [
    "Next, create a `tf.data.Dataset` using `tf.keras.preprocessing.text_dataset_from_directory`. You can read more about using this utility in this [text classification tutorial](https://www.tensorflow.org/tutorials/keras/text_classification). \n",
    "\n",
    "Use the `train` directory to create both train and validation datasets with a split of 20% for validation."
   ]
  },
  {
   "cell_type": "code",
   "execution_count": 7,
   "metadata": {
    "execution": {
     "iopub.execute_input": "2020-09-23T02:01:36.658186Z",
     "iopub.status.busy": "2020-09-23T02:01:36.657117Z",
     "iopub.status.idle": "2020-09-23T02:01:40.354927Z",
     "shell.execute_reply": "2020-09-23T02:01:40.354410Z"
    },
    "id": "ItYD3TLkCOP1",
    "tags": []
   },
   "outputs": [
    {
     "output_type": "stream",
     "name": "stdout",
     "text": [
      "Found 75000 files belonging to 3 classes.\n",
      "Using 60000 files for training.\n",
      "Found 75000 files belonging to 3 classes.\n",
      "Using 15000 files for validation.\n"
     ]
    }
   ],
   "source": [
    "batch_size = 1024\n",
    "seed = 123\n",
    "\n",
    "#Con subset define qué tipo de conjunto se va a definir\n",
    "train_ds = tf.keras.preprocessing.text_dataset_from_directory(\n",
    "    'aclImdb/train', batch_size=batch_size, validation_split=0.2, \n",
    "    subset='training', seed=seed)\n",
    "\n",
    "val_ds = tf.keras.preprocessing.text_dataset_from_directory(\n",
    "    'aclImdb/train', batch_size=batch_size, validation_split=0.2, \n",
    "    subset='validation', seed=seed)"
   ]
  },
  {
   "cell_type": "markdown",
   "metadata": {
    "id": "eHa6cq0-Ym0g"
   },
   "source": [
    "Take a look at a few movie reviews and their labels `(1: positive, 0: negative)` from the train dataset.\n"
   ]
  },
  {
   "cell_type": "code",
   "execution_count": 8,
   "metadata": {
    "execution": {
     "iopub.execute_input": "2020-09-23T02:01:40.360252Z",
     "iopub.status.busy": "2020-09-23T02:01:40.359563Z",
     "iopub.status.idle": "2020-09-23T02:01:40.703847Z",
     "shell.execute_reply": "2020-09-23T02:01:40.704387Z"
    },
    "id": "aTCbSkvkYmTT",
    "tags": []
   },
   "outputs": [
    {
     "output_type": "stream",
     "name": "stdout",
     "text": [
      "1\nb\"Ask yourself where she got the gun? Remember what she was taught about the mark's mindset when the con is over? The gun had blanks and it was provided to her from the very beginning.<br /><br />When the patient comes back at the end she was SUPPOSED to see him drive away in the red convertible and lead her to the gang splitting up her 80 thousand.<br /><br />The patient was in on the con from the beginning.<br /><br />Mantegna does not die in the end - the gun had blanks.<br /><br />There - enough spoilers for you there? This is why people are giving it such high ratings. It's extremely original because of the hidden ending and how it cons MOST of the audience.\"\n"
     ]
    }
   ],
   "source": [
    "\n",
    "for text_batch, label_batch in train_ds.take(1):\n",
    "  print(label_batch[0].numpy())\n",
    "  print(text_batch[0].numpy())"
   ]
  },
  {
   "cell_type": "markdown",
   "metadata": {
    "id": "FHV2pchDhzDn"
   },
   "source": [
    "### Configure the dataset for performance\n",
    "\n",
    "These are two important methods you should use when loading data to make sure that I/O does not become blocking.\n",
    "\n",
    "`.cache()` keeps data in memory after it's loaded off disk. This will ensure the dataset does not become a bottleneck while training your model. If your dataset is too large to fit into memory, you can also use this method to create a performant on-disk cache, which is more efficient to read than many small files.\n",
    "\n",
    "`.prefetch()` overlaps data preprocessing and model execution while training. \n",
    "\n",
    "You can learn more about both methods, as well as how to cache data to disk in the [data performance guide](https://www.tensorflow.org/guide/data_performance)."
   ]
  },
  {
   "cell_type": "code",
   "execution_count": 9,
   "metadata": {
    "execution": {
     "iopub.execute_input": "2020-09-23T02:01:40.709299Z",
     "iopub.status.busy": "2020-09-23T02:01:40.708670Z",
     "iopub.status.idle": "2020-09-23T02:01:40.712420Z",
     "shell.execute_reply": "2020-09-23T02:01:40.711911Z"
    },
    "id": "Oz6k1IW7h1TO"
   },
   "outputs": [],
   "source": [
    "# Basicamente, se accede más rápido a los datos de estas variables poniendo AUTOTUNE\n",
    "AUTOTUNE = tf.data.experimental.AUTOTUNE\n",
    "\n",
    "train_ds2 = train_ds.cache().prefetch(buffer_size=AUTOTUNE)\n",
    "val_ds2 = val_ds.cache().prefetch(buffer_size=AUTOTUNE)"
   ]
  },
  {
   "cell_type": "markdown",
   "metadata": {
    "id": "eqBazMiVQkj1"
   },
   "source": [
    "## Using the Embedding layer\n",
    "\n",
    "Keras makes it easy to use word embeddings. Take a look at the [Embedding](https://www.tensorflow.org/api_docs/python/tf/keras/layers/Embedding) layer.\n",
    "\n",
    "The Embedding layer can be understood as a lookup table that maps from integer indices (which stand for specific words) to dense vectors (their embeddings). The dimensionality (or width) of the embedding is a parameter you can experiment with to see what works well for your problem, much in the same way you would experiment with the number of neurons in a Dense layer.\n"
   ]
  },
  {
   "cell_type": "code",
   "execution_count": 10,
   "metadata": {
    "execution": {
     "iopub.execute_input": "2020-09-23T02:01:40.721292Z",
     "iopub.status.busy": "2020-09-23T02:01:40.716010Z",
     "iopub.status.idle": "2020-09-23T02:01:40.725307Z",
     "shell.execute_reply": "2020-09-23T02:01:40.724825Z"
    },
    "id": "-OjxLVrMvWUE"
   },
   "outputs": [],
   "source": [
    "# Embed a 1,000 word vocabulary into 5 dimensions.\n",
    "embedding_layer = tf.keras.layers.Embedding(1000, 5)"
   ]
  },
  {
   "cell_type": "markdown",
   "metadata": {
    "id": "2dKKV1L2Rk7e"
   },
   "source": [
    "When you create an Embedding layer, the weights for the embedding are randomly initialized (just like any other layer). During training, they are gradually adjusted via backpropagation. Once trained, the learned word embeddings will roughly encode similarities between words (as they were learned for the specific problem your model is trained on).\n",
    "\n",
    "If you pass an integer to an embedding layer, the result replaces each integer with the vector from the embedding table:"
   ]
  },
  {
   "cell_type": "code",
   "execution_count": 11,
   "metadata": {
    "execution": {
     "iopub.execute_input": "2020-09-23T02:01:40.730057Z",
     "iopub.status.busy": "2020-09-23T02:01:40.729380Z",
     "iopub.status.idle": "2020-09-23T02:01:40.738500Z",
     "shell.execute_reply": "2020-09-23T02:01:40.738915Z"
    },
    "id": "0YUjPgP7w0PO"
   },
   "outputs": [
    {
     "output_type": "execute_result",
     "data": {
      "text/plain": [
       "array([[ 0.04581448,  0.01276274, -0.04936377, -0.00215316, -0.01350443],\n",
       "       [-0.03424974,  0.0219366 ,  0.04615209,  0.00097851,  0.00982338],\n",
       "       [-0.02072297, -0.02441669, -0.03944607,  0.01037645, -0.01477084]],\n",
       "      dtype=float32)"
      ]
     },
     "metadata": {},
     "execution_count": 11
    }
   ],
   "source": [
    "#el 1 es un array de 5 el primero y sucesivamente\n",
    "result = embedding_layer(tf.constant([1,2,3]))\n",
    "result.numpy()\n"
   ]
  },
  {
   "cell_type": "markdown",
   "metadata": {
    "id": "O4PC4QzsxTGx"
   },
   "source": [
    "For text or sequence problems, the Embedding layer takes a 2D tensor of integers, of shape `(samples, sequence_length)`, where each entry is a sequence of integers. It can embed sequences of variable lengths. You could feed into the embedding layer above batches with shapes `(32, 10)` (batch of 32 sequences of length 10) or `(64, 15)` (batch of 64 sequences of length 15).\n",
    "\n",
    "The returned tensor has one more axis than the input, the embedding vectors are aligned along the new last axis. Pass it a `(2, 3)` input batch and the output is `(2, 3, N)`\n"
   ]
  },
  {
   "cell_type": "code",
   "execution_count": 12,
   "metadata": {
    "execution": {
     "iopub.execute_input": "2020-09-23T02:01:40.743308Z",
     "iopub.status.busy": "2020-09-23T02:01:40.742629Z",
     "iopub.status.idle": "2020-09-23T02:01:40.746183Z",
     "shell.execute_reply": "2020-09-23T02:01:40.745652Z"
    },
    "id": "vwSYepRjyRGy"
   },
   "outputs": [
    {
     "output_type": "execute_result",
     "data": {
      "text/plain": [
       "<tf.Tensor: shape=(2, 3, 5), dtype=float32, numpy=\n",
       "array([[[-0.04514877,  0.0353534 ,  0.01778736, -0.03582663,\n",
       "         -0.04876001],\n",
       "        [ 0.04581448,  0.01276274, -0.04936377, -0.00215316,\n",
       "         -0.01350443],\n",
       "        [-0.03424974,  0.0219366 ,  0.04615209,  0.00097851,\n",
       "          0.00982338]],\n",
       "\n",
       "       [[-0.02072297, -0.02441669, -0.03944607,  0.01037645,\n",
       "         -0.01477084],\n",
       "        [-0.02828728,  0.04784847, -0.03097988, -0.03530665,\n",
       "          0.04790218],\n",
       "        [-0.02088559, -0.00582031, -0.00615988,  0.03370204,\n",
       "          0.03982567]]], dtype=float32)>"
      ]
     },
     "metadata": {},
     "execution_count": 12
    }
   ],
   "source": [
    "result = embedding_layer(tf.constant([[0,1,2],\n",
    "                                      [3,4,5]]))\n",
    "result"
   ]
  },
  {
   "cell_type": "markdown",
   "metadata": {
    "id": "WGQp2N92yOyB"
   },
   "source": [
    "When given a batch of sequences as input, an embedding layer returns a 3D floating point tensor, of shape `(samples, sequence_length, embedding_dimensionality)`. To convert from this sequence of variable length to a fixed representation there are a variety of standard approaches. You could use an RNN, Attention, or pooling layer before passing it to a Dense layer. This tutorial uses pooling because it's the simplest. The [Text Classification with an RNN](text_classification_rnn.ipynb) tutorial is a good next step."
   ]
  },
  {
   "cell_type": "markdown",
   "metadata": {
    "id": "aGicgV5qT0wh"
   },
   "source": [
    "## Text preprocessing"
   ]
  },
  {
   "cell_type": "markdown",
   "metadata": {
    "id": "N6NZSqIIoU0Y"
   },
   "source": [
    "Next, define the dataset preprocessing steps required for your sentiment classification model. Initialize a TextVectorization layer with the desired parameters to vectorize movie reviews. You can learn more about using this layer in the [Text Classification](https://www.tensorflow.org/tutorials/keras/text_classification) tutorial."
   ]
  },
  {
   "cell_type": "code",
   "execution_count": 13,
   "metadata": {
    "execution": {
     "iopub.execute_input": "2020-09-23T02:01:40.761922Z",
     "iopub.status.busy": "2020-09-23T02:01:40.761212Z",
     "iopub.status.idle": "2020-09-23T02:01:44.212102Z",
     "shell.execute_reply": "2020-09-23T02:01:44.211368Z"
    },
    "id": "2MlsXzo-ZlfK"
   },
   "outputs": [],
   "source": [
    "# Create a custom standardization function to strip HTML break tags '<br />'.\n",
    "def custom_standardization(input_data):\n",
    "  lowercase = tf.strings.lower(input_data)\n",
    "  stripped_html = tf.strings.regex_replace(lowercase, '<br />', ' ')\n",
    "  return tf.strings.regex_replace(stripped_html,'[%s]' % re.escape(string.punctuation), '')\n",
    "\n",
    "# Vocabulary size and number of words in a sequence.\n",
    "vocab_size = 10000 #cuantas palabras queremos que tenga en cuenta \n",
    "sequence_length = 100 # a cada palabra se le otorga 100 numeros enteros porque abajo hemos indicado que sea int\n",
    "\n",
    "# Use the text vectorization layer to normalize, split, and map strings to \n",
    "# integers. Note that the layer uses the custom standardization defined above. \n",
    "# Set maximum_sequence length as all samples are not of the same length.\n",
    "\n",
    "\n",
    "#https://keras.io/api/layers/preprocessing_layers/core_preprocessing_layers/text_vectorization/\n",
    "# Va a tener en cuenta hasta 10000 palabras, podemos poner None para que no tenga límites. Si hay más de 10000 palabras, se queda con las que más frecuencia tengan.\n",
    "# sequence_length: cuando se usa 'int', rellena el texto para que tenga esa longitud. La intención es que la longitud de la palabra no represente un sesgo y que todas las palabras tengan el mismo tamaño. \n",
    "vectorize_layer = TextVectorization(\n",
    "    standardize=custom_standardization,\n",
    "    max_tokens=vocab_size,\n",
    "    output_mode='int',\n",
    "    output_sequence_length=sequence_length)\n",
    "\n",
    "# Make a text-only dataset (no labels) and call adapt to build the vocabulary.\n",
    "# Cogemos solo el texto, sin labels\n",
    "def get_x(x,y):\n",
    "  return x\n",
    "\n",
    "def mi_funcion(h):\n",
    "  lo_que_retorna_get_x = h(2,3)\n",
    "\n",
    "#text_ds = train_ds.map(lambda x, y: x)\n",
    "# Hacemos que el layer coja únicamente las palabras\n",
    "#trainds tiene una tupla con dos elementos, por un lado el texto y por otro si es positivo o negativo, aqui lo que estamos haciendo es quedarnos con el texto, como si nos quedaramos con la X, hace un train split\n",
    "text_ds2 = train_ds2.map(lambda x, y: x)\n",
    "\n",
    "# Adaptamos \n",
    "vectorize_layer.adapt(text_ds2)"
   ]
  },
  {
   "cell_type": "markdown",
   "metadata": {
    "id": "zI9_wLIiWO8Z"
   },
   "source": [
    "## Create a classification model\n",
    "\n",
    "Use the [Keras Sequential API](../../guide/keras) to define the sentiment classification model. In this case it is a \"Continuous bag of words\" style model.\n",
    "* The [`TextVectorization`](https://www.tensorflow.org/api_docs/python/tf/keras/layers/experimental/preprocessing/TextVectorization) layer transforms strings into vocabulary indices. You have already initialized `vectorize_layer` as a TextVectorization layer and built it's vocabulary by calling `adapt` on `text_ds`. Now vectorize_layer can be used as the first layer of your end-to-end classification model, feeding tranformed strings into the Embedding layer.\n",
    "* The [`Embedding`](https://www.tensorflow.org/api_docs/python/tf/keras/layers/Embedding) layer takes the integer-encoded vocabulary and looks up the embedding vector for each word-index. These vectors are learned as the model trains. The vectors add a dimension to the output array. The resulting dimensions are: `(batch, sequence, embedding)`.\n",
    "\n",
    "* The [`GlobalAveragePooling1D`](https://www.tensorflow.org/api_docs/python/tf/keras/layers/GlobalAveragePooling1D) layer returns a fixed-length output vector for each example by averaging over the sequence dimension. This allows the model to handle input of variable length, in the simplest way possible.\n",
    "\n",
    "* The fixed-length output vector is piped through a fully-connected ([`Dense`](https://www.tensorflow.org/api_docs/python/tf/keras/layers/Dense)) layer with 16 hidden units.\n",
    "\n",
    "* The last layer is densely connected with a single output node. \n",
    "\n",
    "Caution: This model doesn't use masking, so the zero-padding is used as part of the input and hence the padding length may affect the output.  To fix this, see the [masking and padding guide](../../guide/keras/masking_and_padding)."
   ]
  },
  {
   "cell_type": "code",
   "execution_count": 15,
   "metadata": {},
   "outputs": [
    {
     "output_type": "execute_result",
     "data": {
      "text/plain": [
       "<tensorflow.python.keras.layers.preprocessing.text_vectorization.TextVectorization at 0x1fe5b47d390>"
      ]
     },
     "metadata": {},
     "execution_count": 15
    }
   ],
   "source": [
    "vectorize_layer"
   ]
  },
  {
   "cell_type": "code",
   "execution_count": 21,
   "metadata": {
    "execution": {
     "iopub.execute_input": "2020-09-23T02:01:44.225109Z",
     "iopub.status.busy": "2020-09-23T02:01:44.224356Z",
     "iopub.status.idle": "2020-09-23T02:01:44.231286Z",
     "shell.execute_reply": "2020-09-23T02:01:44.230699Z"
    },
    "id": "pHLcFtn5Wsqj"
   },
   "outputs": [],
   "source": [
    "# El tamaño del array por palabra\n",
    "embedding_dim=16\n",
    "#los pesos del embedding es la representacion del vector de cada palabra, \n",
    "#el embedding asigna unos pesos en formato de vector a cada una de las palabras que a el le llega con un numero. \n",
    "model = Sequential([\n",
    "  vectorize_layer,\n",
    "  Embedding(vocab_size, embedding_dim, name=\"embedding\"),\n",
    "  GlobalAveragePooling1D(),\n",
    "  Dense(16, activation='relu'),\n",
    "  Dense(1)\n",
    "])"
   ]
  },
  {
   "cell_type": "markdown",
   "metadata": {
    "id": "JjLNgKO7W2fe"
   },
   "source": [
    "## Compile and train the model"
   ]
  },
  {
   "cell_type": "markdown",
   "metadata": {
    "id": "jpX9etB6IOQd"
   },
   "source": [
    "You will use [TensorBoard](https://www.tensorflow.org/tensorboard) to visualize metrics including loss and accuracy. Create a `tf.keras.callbacks.TensorBoard`."
   ]
  },
  {
   "cell_type": "code",
   "execution_count": 22,
   "metadata": {
    "execution": {
     "iopub.execute_input": "2020-09-23T02:01:44.236595Z",
     "iopub.status.busy": "2020-09-23T02:01:44.235972Z",
     "iopub.status.idle": "2020-09-23T02:01:44.238668Z",
     "shell.execute_reply": "2020-09-23T02:01:44.238113Z"
    },
    "id": "W4Hg3IHFt4Px"
   },
   "outputs": [],
   "source": [
    "# tensorboard --logdir=path_to_your_logs\n",
    "\n",
    "tensorboard_callback = tf.keras.callbacks.TensorBoard(log_dir=\"logs\")\n",
    "# Z:\\Data_Science\\TheBridge\\Content\\Contenido_Curso\\data_science_nov_2020\\week12_DL\\day4\\theory\\logs"
   ]
  },
  {
   "cell_type": "markdown",
   "metadata": {
    "id": "7OrKAKAKIbuH"
   },
   "source": [
    "Compile and train the model using the `Adam` optimizer and `BinaryCrossentropy` loss. "
   ]
  },
  {
   "cell_type": "code",
   "execution_count": 23,
   "metadata": {
    "execution": {
     "iopub.execute_input": "2020-09-23T02:01:44.250853Z",
     "iopub.status.busy": "2020-09-23T02:01:44.250076Z",
     "iopub.status.idle": "2020-09-23T02:01:44.259188Z",
     "shell.execute_reply": "2020-09-23T02:01:44.258675Z"
    },
    "id": "lCUgdP69Wzix"
   },
   "outputs": [],
   "source": [
    "model.compile(optimizer='adam',\n",
    "              loss=tf.keras.losses.BinaryCrossentropy(from_logits=True),\n",
    "              metrics=['accuracy']) "
   ]
  },
  {
   "cell_type": "code",
   "execution_count": 24,
   "metadata": {
    "execution": {
     "iopub.execute_input": "2020-09-23T02:01:44.263621Z",
     "iopub.status.busy": "2020-09-23T02:01:44.262949Z",
     "iopub.status.idle": "2020-09-23T02:02:08.641066Z",
     "shell.execute_reply": "2020-09-23T02:02:08.641584Z"
    },
    "id": "5mQehiQyv8rP",
    "tags": []
   },
   "outputs": [
    {
     "output_type": "stream",
     "name": "stdout",
     "text": [
      "Epoch 1/15\n",
      " 1/59 [..............................] - ETA: 0s - loss: 0.6976 - accuracy: 0.1719WARNING:tensorflow:From Z:\\Data_Science\\Software\\Python\\Python_3.6.4\\lib\\site-packages\\tensorflow\\python\\ops\\summary_ops_v2.py:1277: stop (from tensorflow.python.eager.profiler) is deprecated and will be removed after 2020-07-01.\n",
      "Instructions for updating:\n",
      "use `tf.profiler.experimental.stop` instead.\n",
      "59/59 [==============================] - 81s 1s/step - loss: 0.5040 - accuracy: 0.1656 - val_loss: 0.2256 - val_accuracy: 0.1633\n",
      "Epoch 2/15\n",
      "59/59 [==============================] - 4s 60ms/step - loss: -0.2487 - accuracy: 0.1656 - val_loss: -0.8002 - val_accuracy: 0.1690\n",
      "Epoch 3/15\n",
      "59/59 [==============================] - 4s 61ms/step - loss: -1.5312 - accuracy: 0.1661 - val_loss: -2.3111 - val_accuracy: 0.1690\n",
      "Epoch 4/15\n",
      "59/59 [==============================] - 3s 58ms/step - loss: -3.5565 - accuracy: 0.1661 - val_loss: -4.9197 - val_accuracy: 0.1690\n",
      "Epoch 5/15\n",
      "59/59 [==============================] - 4s 59ms/step - loss: -7.1537 - accuracy: 0.1661 - val_loss: -9.4587 - val_accuracy: 0.1690\n",
      "Epoch 6/15\n",
      "59/59 [==============================] - 3s 59ms/step - loss: -13.0582 - accuracy: 0.1661 - val_loss: -16.5424 - val_accuracy: 0.1690\n",
      "Epoch 7/15\n",
      "59/59 [==============================] - 4s 60ms/step - loss: -21.8530 - accuracy: 0.1661 - val_loss: -26.6999 - val_accuracy: 0.1690\n",
      "Epoch 8/15\n",
      "59/59 [==============================] - 4s 59ms/step - loss: -34.0547 - accuracy: 0.1661 - val_loss: -40.4071 - val_accuracy: 0.1690\n",
      "Epoch 9/15\n",
      "59/59 [==============================] - 4s 60ms/step - loss: -50.1313 - accuracy: 0.1661 - val_loss: -58.0980 - val_accuracy: 0.1690\n",
      "Epoch 10/15\n",
      "59/59 [==============================] - 4s 60ms/step - loss: -70.5113 - accuracy: 0.1661 - val_loss: -80.1722 - val_accuracy: 0.1690\n",
      "Epoch 11/15\n",
      "59/59 [==============================] - 4s 59ms/step - loss: -95.5907 - accuracy: 0.1661 - val_loss: -106.9995 - val_accuracy: 0.1690\n",
      "Epoch 12/15\n",
      "59/59 [==============================] - 4s 60ms/step - loss: -125.7366 - accuracy: 0.1661 - val_loss: -138.9238 - val_accuracy: 0.1690\n",
      "Epoch 13/15\n",
      "59/59 [==============================] - 4s 59ms/step - loss: -161.2913 - accuracy: 0.1661 - val_loss: -176.2659 - val_accuracy: 0.1690\n",
      "Epoch 14/15\n",
      "59/59 [==============================] - 4s 60ms/step - loss: -202.5738 - accuracy: 0.1661 - val_loss: -219.3252 - val_accuracy: 0.1690\n",
      "Epoch 15/15\n",
      "59/59 [==============================] - 4s 59ms/step - loss: -249.8824 - accuracy: 0.1661 - val_loss: -268.3818 - val_accuracy: 0.1690\n"
     ]
    },
    {
     "output_type": "execute_result",
     "data": {
      "text/plain": [
       "<tensorflow.python.keras.callbacks.History at 0x176974ecbe0>"
      ]
     },
     "metadata": {},
     "execution_count": 24
    }
   ],
   "source": [
    "history = model.fit(\n",
    "    train_ds2,\n",
    "    validation_data=val_ds2, \n",
    "    epochs=15,\n",
    "    callbacks=[tensorboard_callback])"
   ]
  },
  {
   "cell_type": "markdown",
   "metadata": {
    "id": "1wYnVedSPfmX"
   },
   "source": [
    "With this approach the model reaches a validation accuracy of around 84% (note that the model is overfitting since training accuracy is higher).\n",
    "\n",
    "Note: Your results may be a bit different, depending on how weights were randomly initialized before training the embedding layer. \n",
    "\n",
    "You can look into the model summary to learn more about each layer of the model."
   ]
  },
  {
   "cell_type": "code",
   "execution_count": 29,
   "metadata": {
    "execution": {
     "iopub.execute_input": "2020-09-23T02:02:08.647540Z",
     "iopub.status.busy": "2020-09-23T02:02:08.646898Z",
     "iopub.status.idle": "2020-09-23T02:02:08.650238Z",
     "shell.execute_reply": "2020-09-23T02:02:08.649607Z"
    },
    "id": "mDCgjWyq_0dc",
    "tags": []
   },
   "outputs": [
    {
     "output_type": "stream",
     "name": "stdout",
     "text": [
      "Model: \"sequential\"\n_________________________________________________________________\nLayer (type)                 Output Shape              Param #   \n=================================================================\ntext_vectorization (TextVect (None, 100)               0         \n_________________________________________________________________\nembedding (Embedding)        (None, 100, 16)           160000    \n_________________________________________________________________\nglobal_average_pooling1d (Gl (None, 16)                0         \n_________________________________________________________________\ndense (Dense)                (None, 16)                272       \n_________________________________________________________________\ndense_1 (Dense)              (None, 1)                 17        \n=================================================================\nTotal params: 160,289\nTrainable params: 160,289\nNon-trainable params: 0\n_________________________________________________________________\n"
     ]
    }
   ],
   "source": [
    "model.summary()"
   ]
  },
  {
   "cell_type": "markdown",
   "metadata": {
    "id": "hiQbOJZ2WBFY"
   },
   "source": [
    "Visualize the model metrics in TensorBoard."
   ]
  },
  {
   "cell_type": "code",
   "execution_count": 30,
   "metadata": {
    "tags": []
   },
   "outputs": [
    {
     "output_type": "execute_result",
     "data": {
      "text/plain": [
       "array([[559.6534 ],\n",
       "       [554.63385],\n",
       "       [541.82983],\n",
       "       ...,\n",
       "       [546.796  ],\n",
       "       [550.3689 ],\n",
       "       [520.8599 ]], dtype=float32)"
      ]
     },
     "metadata": {},
     "execution_count": 30
    }
   ],
   "source": [
    "model.predict(val_ds2)"
   ]
  },
  {
   "cell_type": "markdown",
   "metadata": {
    "id": "KCoA6qwqP836"
   },
   "source": [
    "## Retrieve the trained word embeddings and save them to disk\n",
    "\n",
    "Next, retrieve the word embeddings learned during training. The embeddings are weights of the Embedding layer in the model. The weights matrix is of shape `(vocab_size, embedding_dimension)`."
   ]
  },
  {
   "cell_type": "code",
   "execution_count": 31,
   "metadata": {
    "execution": {
     "iopub.execute_input": "2020-09-23T02:02:08.655221Z",
     "iopub.status.busy": "2020-09-23T02:02:08.654583Z",
     "iopub.status.idle": "2020-09-23T02:02:08.674921Z",
     "shell.execute_reply": "2020-09-23T02:02:08.674392Z"
    },
    "id": "n-j0db7ipF6k",
    "tags": []
   },
   "outputs": [
    {
     "output_type": "stream",
     "name": "stdout",
     "text": [
      "['', '[UNK]', 'the', 'and', 'a', 'of', 'to', 'is', 'in', 'it']\n(10000, 16)\n[ 1.508857   1.5969813 -1.5636353  1.5955769 -1.5412409  1.5732797\n  1.5793566 -1.5781741  1.5328519  1.548468   1.5777359 -1.5054377\n  1.5136667  1.538162   1.5391796  1.5628531]\n"
     ]
    }
   ],
   "source": [
    "vocab = vectorize_layer.get_vocabulary()\n",
    "print(vocab[:10])\n",
    "# Get weights matrix of layer named 'embedding'\n",
    "weights = model.get_layer('embedding').get_weights()[0]\n",
    "print(weights.shape) \n",
    "print(weights[1])"
   ]
  },
  {
   "cell_type": "markdown",
   "metadata": {
    "id": "J8MiCA77X8B8"
   },
   "source": [
    "Write the weights to disk. To use the [Embedding Projector](http://projector.tensorflow.org), you will upload two files in tab separated format: a file of vectors (containing the embedding), and a file of meta data (containing the words)."
   ]
  },
  {
   "cell_type": "code",
   "execution_count": 28,
   "metadata": {},
   "outputs": [],
   "source": [
    "#guardamos en un archivo tsv los valores de los vectores en este caso 10.000\n",
    "out_v = io.open('vecs.tsv', 'w', encoding='utf-8')\n",
    "out_m = io.open('meta.tsv', 'w', encoding='utf-8') #cada una de las palabras asociadas a los vectores \n",
    "\n",
    "for num, word in enumerate(vocab):\n",
    "    if num == 0: \n",
    "        continue # skip padding token from vocab\n",
    "    vec = weights[num]\n",
    "    out_m.write(word + \"\\n\")\n",
    "    out_v.write('\\t'.join([str(x) for x in vec]) + \"\\n\")\n",
    "out_v.close()\n",
    "out_m.close()"
   ]
  },
  {
   "cell_type": "markdown",
   "metadata": {
    "id": "PXLfFA54Yz-o"
   },
   "source": [
    "## Visualize the embeddings\n",
    "\n",
    "To visualize the embeddings, upload them to the embedding projector.\n",
    "\n",
    "Open the [Embedding Projector](http://projector.tensorflow.org/) (this can also run in a local TensorBoard instance).\n",
    "\n",
    "* Click on \"Load data\".\n",
    "\n",
    "* Upload the two files you created above: `vecs.tsv` and `meta.tsv`.\n",
    "\n",
    "The embeddings you have trained will now be displayed. You can search for words to find their closest neighbors. For example, try searching for \"beautiful\". You may see neighbors like \"wonderful\". \n",
    "\n",
    "Note: Experimentally, you may be able to produce more interpretable embeddings by using a simpler model. Try deleting the `Dense(16)` layer, retraining the model, and visualizing the embeddings again.\n",
    "\n",
    "Note: Typically, a much larger dataset is needed to train more interpretable word embeddings. This tutorial uses a small IMDb dataset for the purpose of demonstration.\n"
   ]
  },
  {
   "cell_type": "code",
   "execution_count": null,
   "metadata": {},
   "outputs": [],
   "source": []
  }
 ],
 "metadata": {
  "accelerator": "GPU",
  "colab": {
   "collapsed_sections": [],
   "name": "word_embeddings.ipynb",
   "toc_visible": true
  },
  "kernelspec": {
   "name": "python3",
   "display_name": "Python 3",
   "language": "python"
  },
  "language_info": {
   "codemirror_mode": {
    "name": "ipython",
    "version": 3
   },
   "file_extension": ".py",
   "mimetype": "text/x-python",
   "name": "python",
   "nbconvert_exporter": "python",
   "pygments_lexer": "ipython3",
   "version": "3.8.0-final"
  }
 },
 "nbformat": 4,
 "nbformat_minor": 0
}
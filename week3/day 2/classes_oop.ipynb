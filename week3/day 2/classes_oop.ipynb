{
 "metadata": {
  "language_info": {
   "codemirror_mode": {
    "name": "ipython",
    "version": 3
   },
   "file_extension": ".py",
   "mimetype": "text/x-python",
   "name": "python",
   "nbconvert_exporter": "python",
   "pygments_lexer": "ipython3",
   "version": "3.9.0-final"
  },
  "orig_nbformat": 2,
  "kernelspec": {
   "name": "python3",
   "display_name": "Python 3.9.0 64-bit",
   "metadata": {
    "interpreter": {
     "hash": "2e3c1e8da6e821b0193601da5a0e541c0efda9704da45b6b820f5f4c317f2def"
    }
   }
  }
 },
 "nbformat": 4,
 "nbformat_minor": 2,
 "cells": [
  {
   "source": [
    "# Classes -- OOP\n",
    "\n",
    "La programación Orientada a objetos se define como un paradigma de la programación, una manera de programar específica, donde se organiza el código en unidades denominadas clases, de las cuales se crean objetos que se relacionan entre sí para conseguir los objetivos de las aplicaciones.\n",
    "\n",
    "La programación Orientada a objetos (POO) es una forma especial de programar, más cercana a como expresaríamos las cosas en la vida real que otros tipos de programación."
   ],
   "cell_type": "markdown",
   "metadata": {}
  },
  {
   "cell_type": "code",
   "execution_count": null,
   "metadata": {},
   "outputs": [],
   "source": [
    "x =[2,4]\n",
    "x.append(2) #Append es una funcion de la clase lista en python"
   ]
  },
  {
   "cell_type": "code",
   "execution_count": null,
   "metadata": {},
   "outputs": [],
   "source": [
    "\"\"\"\n",
    "Creacion de la clase ser humano\n",
    "\"\"\"\n",
    "class humano:  \n",
    "    ojos =2\n",
    "    piernas=2\n",
    "    nombre = None\n",
    "    edad = None\n",
    "\n",
    "juan =humano()\n",
    "print(juan.ojos)"
   ]
  },
  {
   "cell_type": "code",
   "execution_count": 7,
   "metadata": {},
   "outputs": [
    {
     "output_type": "stream",
     "name": "stdout",
     "text": [
      "2\n"
     ]
    },
    {
     "output_type": "execute_result",
     "data": {
      "text/plain": [
       "3"
      ]
     },
     "metadata": {},
     "execution_count": 7
    }
   ],
   "source": [
    "#esta es la forma con la que vamos a trabajar\n",
    "class humano:\n",
    "\n",
    "    def __init__(self, o, n, b, p, e=30): #el valor que le he dado al atributo lo he creado por defecto, como en las funciones\n",
    "        \"\"\" este es el constructor de la clase self siempre se pone lo que le sigue son los argumentos de la clase \"\"\"\n",
    "\n",
    "        self.ojos = o\n",
    "        self.nombre = n\n",
    "        self.brazos = b\n",
    "        self.piernas = p\n",
    "        self.edad = e\n",
    "        #aqui si que se ponen los atributos de la clase\n",
    "juan = humano(o=2, n=\"juan\", b=2, p=2, e=12)\n",
    "print(juan.ojos)\n",
    "pepe = humano(o=1, n=\"Pepe\", b=2, p=3, e=2)\n",
    "print(pepe.piernas)"
   ]
  },
  {
   "cell_type": "code",
   "execution_count": 8,
   "metadata": {},
   "outputs": [
    {
     "output_type": "execute_result",
     "data": {
      "text/plain": [
       "False"
      ]
     },
     "metadata": {},
     "execution_count": 8
    }
   ],
   "source": [
    "juan is pepe"
   ]
  },
  {
   "cell_type": "code",
   "execution_count": 9,
   "metadata": {},
   "outputs": [
    {
     "output_type": "execute_result",
     "data": {
      "text/plain": [
       "False"
      ]
     },
     "metadata": {},
     "execution_count": 9
    }
   ],
   "source": [
    "juan==pepe"
   ]
  },
  {
   "cell_type": "code",
   "execution_count": 10,
   "metadata": {},
   "outputs": [
    {
     "output_type": "execute_result",
     "data": {
      "text/plain": [
       "False"
      ]
     },
     "metadata": {},
     "execution_count": 10
    }
   ],
   "source": [
    "juan2 = humano(o=2, n=\"juan\", b=2, p=2, e=12)\n",
    "juan==juan2"
   ]
  },
  {
   "cell_type": "code",
   "execution_count": 11,
   "metadata": {},
   "outputs": [
    {
     "output_type": "execute_result",
     "data": {
      "text/plain": [
       "False"
      ]
     },
     "metadata": {},
     "execution_count": 11
    }
   ],
   "source": [
    "#son dos hermanos gemelos y aunque tengn los mismos atributos no son lo mismo. \n",
    "juan2 is juan"
   ]
  },
  {
   "cell_type": "code",
   "execution_count": 13,
   "metadata": {},
   "outputs": [
    {
     "output_type": "stream",
     "name": "stdout",
     "text": [
      "10\n11\n"
     ]
    }
   ],
   "source": [
    "class perro:\n",
    "    def __init__(self, patas, cola, raza, peso, edad, nombre):\n",
    "\n",
    "        self.patas = patas\n",
    "        self.cola =cola\n",
    "        self.raza = raza\n",
    "        self.peso = peso\n",
    "        self.edad = edad\n",
    "rudolf = perro(patas=4, cola=True, raza=\"Pastor Alemán\", peso=25, edad=10, nombre= \"rudolf\")\n",
    "\n",
    "print(rudolf.edad)\n",
    "rudolf.edad =rudolf.edad +1\n",
    "print(rudolf.edad)"
   ]
  },
  {
   "cell_type": "code",
   "execution_count": 14,
   "metadata": {},
   "outputs": [
    {
     "output_type": "stream",
     "name": "stdout",
     "text": [
      "10\n11\n"
     ]
    }
   ],
   "source": [
    "class perro:\n",
    "    def __init__(self, patas, cola, raza, peso, edad, nombre):\n",
    "        self.patas = patas\n",
    "        self.cola =cola\n",
    "        self.raza = raza\n",
    "        self.peso = peso\n",
    "        self.edad = edad\n",
    "\n",
    "    def cumple_edad(self):\n",
    "        self.edad = self.edad + 1\n",
    "        #self.otro_atributo=2 aqui podemos agregar mas atributos, y lo podremos llamar siempre y cuando antes llamemos a la funcion \n",
    "        print(\"Feliz cumple\")\n",
    "rudolf = perro(patas=4, cola=True, raza=\"Pastor Alemán\", peso=25, edad=10, nombre= \"rudolf\")\n",
    "\n",
    "print(rudolf.edad)\n",
    "rudolf.edad =rudolf.edad +1\n",
    "print(rudolf.edad)\n",
    "baxter = perro(patas=4, cola=True, raza=\"Pastor Alemán\", peso=25, edad=4, nombre= \"rudolf\")"
   ]
  },
  {
   "cell_type": "code",
   "execution_count": 45,
   "metadata": {},
   "outputs": [],
   "source": [
    "class pelota:\n",
    "\n",
    "    def __init__(self, velocidad = 0, posicion = 0, diametro= 0):\n",
    "        self.velocidad = velocidad\n",
    "        self.posicion = posicion\n",
    "        self.diametro = diametro\n",
    "\n",
    "    def golpear(self, fuerza):\n",
    "        velocidad_antigua = self.velocidad #quiero que en el mismo print me salgan las dos velocidades\n",
    "        posicion_antigua = self.posicion \n",
    "        self.velocidad = self.velocidad + fuerza\n",
    "        if self.posicion == 0 or self.velocidad == 0:\n",
    "            self.posicion =self.posicion + self.velocidad*1,5\n",
    "        else:\n",
    "            self.posicion =self.posicion * self.velocidad\n",
    "        print(\"velocidad:\", velocidad_antigua, \"----> \", self.velocidad)\n",
    "        print(\"posicion:\", posicion_antigua, \"----> \", self.posicion)\n",
    "    def parar(self):\n",
    "        self.velocidad = 0\n",
    "    def rajar(self, diametro):\n",
    "        diametro_antiguo= self.diametro\n",
    "        print(\"diametro antiguo\", diametro_antiguo)\n",
    "        self.diametro = diametro -5\n",
    "        print(self.diametro)\n"
   ]
  },
  {
   "cell_type": "code",
   "execution_count": 46,
   "metadata": {},
   "outputs": [
    {
     "output_type": "stream",
     "name": "stdout",
     "text": [
      "velocidad: 0 ---->  8\nposicion: 0 ---->  (8, 5)\ndiametro antiguo 10\n25\ndiametro antiguo 25\n15\n"
     ]
    }
   ],
   "source": [
    "pelota_tenis = pelota(diametro=10)\n",
    "pelota_tenis.golpear(fuerza=8)\n",
    "pelota_tenis.rajar(diametro= 30)\n",
    "pelota_tenis.rajar(diametro= 20)"
   ]
  },
  {
   "cell_type": "code",
   "execution_count": 41,
   "metadata": {},
   "outputs": [],
   "source": [
    "class humano:\n",
    "    def __init__(self, vida, fuerza, armadura, n_dientes, esta_vivo=True):\n",
    "        self.vida = vida\n",
    "        self.armadura =armadura\n",
    "        self.fuerza = fuerza\n",
    "        self.esta_vivo = esta_vivo\n",
    "        self.n_dientes = n_dientes\n",
    "    def atacar(self, troll):\n",
    "        vida_antigua = troll.vida\n",
    "        troll.vida = troll.vida - (self.fuerza - troll.armadura)\n",
    "        print(\"vida Troll:\", vida_antigua, \"---->\",troll.vida)\n",
    "        if troll.vida <=0:\n",
    "            troll.esta_vivo = False\n",
    "class troll: \n",
    "    def __init__(self, vida, fuerza, armadura, n_dientes, esta_vivo=True):\n",
    "        \n",
    "        self.vida = vida\n",
    "        self.armadura =armadura\n",
    "        self.fuerza = fuerza\n",
    "        self.esta_vivo = esta_vivo\n",
    "        self.n_dientes = n_dientes\n",
    "        def atacar(self, humano):\n",
    "        vida_antigua = humano.vida\n",
    "        humano.vida = humano.vida - (self.fuerza - humano.armadura)\n",
    "        print(\"vida humano:\", vida_antigua, \"---->\",humano.vida)\n",
    "        if humano.vida <=0:\n",
    "            humano.esta_vivo = False"
   ]
  },
  {
   "cell_type": "code",
   "execution_count": 43,
   "metadata": {},
   "outputs": [],
   "source": [
    "leo = humano(vida=100, fuerza=5, armadura=3, n_dientes=27)\n",
    "troll = troll(vida=100, fuerza=8, armadura=1, n_dientes=42)"
   ]
  },
  {
   "cell_type": "code",
   "execution_count": null,
   "metadata": {},
   "outputs": [],
   "source": [
    "import time\n",
    "def empezar_pelea(humano, troll):\n",
    "    while True:\n",
    "        humano.atacar(troll=troll)\n",
    "        time.sleep(1)\n",
    "        troll.atacar(humano=humano)\n",
    "        if humano.esta_vivo == False:\n",
    "            print(\"Troll ganó\")\n",
    "            break\n",
    "        elif troll.esta_vivo == False:\n",
    "            print(\"humano ganó\")\n",
    "            break\n",
    "empezar_pelea(humano=leo, troll=troll)"
   ]
  }
 ]
}
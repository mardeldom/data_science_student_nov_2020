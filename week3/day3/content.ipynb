{
 "cells": [
  {
   "cell_type": "markdown",
   "metadata": {},
   "source": [
    "## Repaso\n",
    "\n",
    "1. Variables y tipos:\n",
    "    - Creación de variables\n",
    "    - String\n",
    "    - Enteros\n",
    "    - Booleanos\n",
    "    - None (Ningún tipo)\n",
    "    - Diccionarios\n",
    "    - type()\n",
    "    - isinstance()\n",
    "2. Operadores lógicos:\n",
    "    - Suma\n",
    "    - Resta\n",
    "    - División\n",
    "    - División absoluta\n",
    "    - Exponente\n",
    "    - Multiplicación\n",
    "    - And, or, not\n",
    "3. Listas, \"\", Tuplas y Set (Conjuntos):\n",
    "    - Acceso a dato por posiciones\n",
    "    - Tamaño de lista \n",
    "    - Listas dentro de listas\n",
    "    - Añadir datos a la listas\n",
    "    - Eliminar datos de listas\n",
    "    - Coger x elementos de listas [[:x]]\n",
    "4. Bucles:\n",
    "    - For\n",
    "    - range\n",
    "    - enumerate\n",
    "    - while\n",
    "    - break\n",
    "    - Acumuladores\n",
    "5. Funciones:\n",
    "    - Función con parámetros\n",
    "    - Funciones dentro de Funciones\n",
    "    - Funciones recursivas\n",
    "    - Return\n",
    "    - Valores por defecto\n",
    "    - *args, **kwargs\n",
    "    - Lambda\n",
    "6. Input \n",
    "7. Importar módulos (librería, paquete)\n",
    "8. Dict/List comprehension, zip()\n",
    "10. Map/Filter & Reduce (functools)\n",
    "11. Ficheros\n",
    "12. Try / Except\n",
    "13. Classes"
   ]
  },
  {
   "cell_type": "code",
   "execution_count": 1,
   "metadata": {},
   "outputs": [
    {
     "output_type": "execute_result",
     "data": {
      "text/plain": [
       "['a', 'b', 'c', 'd']"
      ]
     },
     "metadata": {},
     "execution_count": 1
    }
   ],
   "source": [
    "d = {\"key\": \"value\", 4:6, \"lista\": [\"a\", \"b\", \"c\", \"d\"]}\n",
    "lista = d[\"lista\"] #accedemos al valor de la key lista\n",
    "lista\n"
   ]
  },
  {
   "cell_type": "code",
   "execution_count": 2,
   "metadata": {},
   "outputs": [
    {
     "output_type": "stream",
     "name": "stdout",
     "text": [
      "posicion: 0\nvalor_elem: a\n------\nposicion: 1\nvalor_elem: b\n------\nposicion: 2\nvalor_elem: c\n------\nposicion: 3\nvalor_elem: d\n------\n"
     ]
    }
   ],
   "source": [
    "for pos, valor_elem in enumerate(d[\"lista\"]):\n",
    "    print(\"posicion:\", pos)\n",
    "    print(\"valor_elem:\", valor_elem)\n",
    "    print(\"------\")"
   ]
  },
  {
   "cell_type": "code",
   "execution_count": 4,
   "metadata": {},
   "outputs": [
    {
     "output_type": "stream",
     "name": "stdout",
     "text": [
      "key\n4\nlista\n"
     ]
    }
   ],
   "source": [
    "for pos, valor_elem in enumerate(d):\n",
    "    print(valor_elem)"
   ]
  },
  {
   "cell_type": "code",
   "execution_count": null,
   "metadata": {},
   "outputs": [],
   "source": [
    "import time\n",
    "def f1(): #recursividad\n",
    "    print(2)\n",
    "    time.sleep(1)\n",
    "    f()\n",
    "f()"
   ]
  }
 ],
 "metadata": {
  "language_info": {
   "codemirror_mode": {
    "name": "ipython",
    "version": 3
   },
   "file_extension": ".py",
   "mimetype": "text/x-python",
   "name": "python",
   "nbconvert_exporter": "python",
   "pygments_lexer": "ipython3",
   "version": "3.9.0-final"
  },
  "orig_nbformat": 2,
  "kernelspec": {
   "name": "python3",
   "display_name": "Python 3.9.0 64-bit",
   "metadata": {
    "interpreter": {
     "hash": "2e3c1e8da6e821b0193601da5a0e541c0efda9704da45b6b820f5f4c317f2def"
    }
   }
  }
 },
 "nbformat": 4,
 "nbformat_minor": 2
}
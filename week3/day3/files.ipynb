{
 "cells": [
  {
   "cell_type": "markdown",
   "metadata": {},
   "source": [
    "# Ficheros"
   ]
  },
  {
   "cell_type": "markdown",
   "metadata": {},
   "source": [
    "------------------"
   ]
  },
  {
   "cell_type": "code",
   "execution_count": null,
   "metadata": {},
   "outputs": [],
   "source": [
    "#crear un archivo file_to_save si no exite con los permisos de a\n",
    "# \"a\" da permiso de escritura y lectura \n",
    "# a la derecha la forma en la que va a abrir el fichero y a la izq el nombre del archivo. \n",
    "# as variable que va a representar al archivo que va a abrir\n",
    "#write funcion que permite escribir en el archivo"
   ]
  },
  {
   "cell_type": "code",
   "execution_count": 4,
   "metadata": {},
   "outputs": [],
   "source": [
    "with open('nombre_archivo.txt', 'a') as nombre_variable: #nombre_variable es el nombre de la variable que yo voy a utilizar para acceder al fichero abierto. \n",
    "    nombre_variable.write('A string to write\\n') #esto es lo que escribe dentro del archivo"
   ]
  },
  {
   "cell_type": "code",
   "execution_count": null,
   "metadata": {},
   "outputs": [],
   "source": [
    "open('nombre_archivo.txt', 'a', encoding=\"utf-8\") #esto es abrir el fichero con un tipo de codificación específica "
   ]
  },
  {
   "cell_type": "code",
   "execution_count": 5,
   "metadata": {},
   "outputs": [],
   "source": [
    "with open('nombre_archivo.txt', 'a') as nombre_variable:\n",
    "    for i in range(3):\n",
    "        nombre_variable.write('A string to write ' + str(i) + '\\n')"
   ]
  },
  {
   "cell_type": "code",
   "execution_count": 6,
   "metadata": {},
   "outputs": [],
   "source": [
    "with open('nombre_archivo.txt', 'a') as nombre_variable:\n",
    "    nombre_variable.write(\"\\n------\\n Last Line.\\n \")"
   ]
  },
  {
   "cell_type": "code",
   "execution_count": 9,
   "metadata": {},
   "outputs": [
    {
     "output_type": "stream",
     "name": "stdout",
     "text": [
      "A string to write\nA string to write 0\nA string to write 1\nA string to write 2\n\n------\n Last Line.\n \n2\n"
     ]
    }
   ],
   "source": [
    "# \"r\" son permisos de lectura\n",
    "with open('nombre_archivo.txt', 'r') as nombre_variable:\n",
    "    all_text = nombre_variable.read() #esto no se puede utilizar fuera del with, all text muestra todo el texto\n",
    "    x = 2 #esto no se almacena en el archivo\n",
    "    print(all_text)\n",
    "print(x)"
   ]
  },
  {
   "cell_type": "code",
   "execution_count": 10,
   "metadata": {},
   "outputs": [
    {
     "output_type": "stream",
     "name": "stdout",
     "text": [
      "<class 'str'>\nA string to write\n\n"
     ]
    }
   ],
   "source": [
    "with open('nombre_archivo.txt', 'r') as nombre_variable:\n",
    "    line = nombre_variable.readline() #devuelve la primera linea\n",
    "    print(type(line))\n",
    "    print(line)"
   ]
  },
  {
   "cell_type": "code",
   "execution_count": 12,
   "metadata": {},
   "outputs": [
    {
     "output_type": "stream",
     "name": "stdout",
     "text": [
      "<class 'str'>\nA string to write\n\nSegundo Line:\n A string to write 0\n\n"
     ]
    }
   ],
   "source": [
    "with open('nombre_archivo.txt', 'r') as nombre_variable:\n",
    "    line = nombre_variable.readline() \n",
    "    print(type(line))\n",
    "    print(line)\n",
    "    line = nombre_variable.readline()\n",
    "    print(\"Segundo Line:\\n\", line)"
   ]
  },
  {
   "cell_type": "code",
   "execution_count": 15,
   "metadata": {},
   "outputs": [
    {
     "output_type": "stream",
     "name": "stdout",
     "text": "A string to write\n\nA string to write 0\n\nA string to write 1\n\nA string to write 2\n\n\n\n------\n\n Last Line.\n\n \n- linea: \n"
    }
   ],
   "source": [
    "#forma de leer todo el fichero de linea a linea\n",
    "l = \"\\n\"\n",
    "with open('nombre_archivo.txt', 'r') as nombre_variable:\n",
    "    line = nombre_variable.readline() \n",
    "    count = 1\n",
    "    while line:\n",
    "        if count == 2:\n",
    "            pass # si hubiera puesto continue cuando 2==2 se hubiera quedado aqui de manera infinita porque el count esta debajo, por eso ponemos pass\n",
    "        print(line)\n",
    "        line = nombre_variable.readline()\n",
    "        count += 1\n",
    "    line = nombre_variable.readline() #cuando la linea esta vacia sale del while \n",
    "    print(\"- linea:\", line)"
   ]
  },
  {
   "cell_type": "code",
   "execution_count": 13,
   "metadata": {},
   "outputs": [
    {
     "output_type": "stream",
     "name": "stdout",
     "text": [
      "Se ha escrito\nPrimera\n\nSegunda\n\nTercera\n\n"
     ]
    }
   ],
   "source": [
    "with open(\"new_file.gh\", \"a\") as new_file:\n",
    "    new_file.write(\"Primera\\n\")\n",
    "    new_file.write(\"Segunda\\n\")\n",
    "    new_file.write(\"Tercera\\n\")\n",
    "    print(\"Se ha escrito\")\n",
    "with open(\"new_file.gh\", \"r\") as new_file:\n",
    "    linea = new_file.readline()\n",
    "    print(linea)\n",
    "    print(new_file.readline())\n",
    "    print(new_file.readline())\n"
   ]
  },
  {
   "cell_type": "code",
   "execution_count": 15,
   "metadata": {},
   "outputs": [
    {
     "output_type": "stream",
     "name": "stdout",
     "text": [
      "A string to write\n\nA string to write 0\n\nA string to write 1\n\n"
     ]
    }
   ],
   "source": [
    "#formas de encontrar información en el texto\n",
    "with open('nombre_archivo.txt', 'r') as nombre_variable:\n",
    "    line = nombre_variable.readline()\n",
    "    while line:\n",
    "        if \"1\" in line:\n",
    "            print(line)\n",
    "            break\n",
    "        print(line)\n",
    "        line = nombre_variable.readline()"
   ]
  },
  {
   "cell_type": "code",
   "execution_count": 16,
   "metadata": {},
   "outputs": [
    {
     "output_type": "stream",
     "name": "stdout",
     "text": [
      "Nombre:  Ester \nDinero:   20000\n\n----------\nNombre:  Gabriel \nDinero:   20\n\n----------\n"
     ]
    }
   ],
   "source": [
    "with open('file_to_save.txt', 'r') as open_file:\n",
    "    line = open_file.readline()\n",
    "    while line:\n",
    "        if \"|\" in line:\n",
    "            lista_strings = line.split(\"|\")\n",
    "            nombre = lista_strings[0]\n",
    "            dinero = lista_strings[1]\n",
    "            print(\"Nombre: \", nombre)\n",
    "            print(\"Dinero: \", dinero)\n",
    "            print(\"----------\")\n",
    "        line = open_file.readline()"
   ]
  },
  {
   "cell_type": "code",
   "execution_count": 17,
   "metadata": {},
   "outputs": [
    {
     "output_type": "stream",
     "name": "stdout",
     "text": [
      "['Esther santos ', ' 2000']\n"
     ]
    }
   ],
   "source": [
    "s = \"Esther santos | 2000\"\n",
    "print(s.split(\"|\"))\n"
   ]
  },
  {
   "cell_type": "code",
   "execution_count": 21,
   "metadata": {},
   "outputs": [
    {
     "output_type": "stream",
     "name": "stdout",
     "text": "YES\n"
    }
   ],
   "source": [
    "l = [\"a\", \"b\", \"c\"]\n",
    "\n",
    "if \"a\" in l:\n",
    "    print(\"YES\")"
   ]
  },
  {
   "cell_type": "code",
   "execution_count": 23,
   "metadata": {},
   "outputs": [
    {
     "output_type": "stream",
     "name": "stdout",
     "text": "A\n \ns\nt\nr\ni\nn\ng\n \nt\no\n \nw\nr\ni\nt\ne\n \n"
    }
   ],
   "source": [
    "s = \"A string to write 1\"\n",
    "\n",
    "for elem in s:\n",
    "    if elem == \"1\":\n",
    "        break\n",
    "    print(elem)"
   ]
  },
  {
   "cell_type": "code",
   "execution_count": 24,
   "metadata": {},
   "outputs": [
    {
     "output_type": "stream",
     "name": "stdout",
     "text": "['hello', 'my name is Peter', 'I am 26 years old']\n"
    }
   ],
   "source": [
    "txt = \"hello, my name is Peter, I am 26 years old\"\n",
    "\n",
    "x = txt.split(\", \")\n",
    "\n",
    "print(x)"
   ]
  },
  {
   "cell_type": "code",
   "execution_count": null,
   "metadata": {},
   "outputs": [],
   "source": []
  }
 ],
 "metadata": {
  "language_info": {
   "name": "python",
   "codemirror_mode": {
    "name": "ipython",
    "version": 3
   },
   "version": "3.9.0-final"
  },
  "orig_nbformat": 2,
  "file_extension": ".py",
  "mimetype": "text/x-python",
  "name": "python",
  "npconvert_exporter": "python",
  "pygments_lexer": "ipython3",
  "version": 3,
  "kernelspec": {
   "name": "python3",
   "display_name": "Python 3.9.0 64-bit",
   "metadata": {
    "interpreter": {
     "hash": "2e3c1e8da6e821b0193601da5a0e541c0efda9704da45b6b820f5f4c317f2def"
    }
   }
  }
 },
 "nbformat": 4,
 "nbformat_minor": 2
}
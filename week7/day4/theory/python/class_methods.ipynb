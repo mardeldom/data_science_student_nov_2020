{
 "cells": [
  {
   "cell_type": "code",
   "execution_count": 1,
   "metadata": {},
   "outputs": [],
   "source": [
    "from datetime import date \n",
    "  \n",
    "class Person: \n",
    "    def __init__(self, name, age): \n",
    "        self.__name = name \n",
    "        self.__age = age \n",
    "      \n",
    "    @classmethod\n",
    "    def from_birth_year(cls, name, year): \n",
    "        return cls(name, date.today().year - year) \n",
    "      \n",
    "    @staticmethod\n",
    "    def is_adult(age): \n",
    "        return age > 18\n",
    "  \n",
    "    @property\n",
    "    def name(self):\n",
    "        return self.__name\n",
    "\n",
    "    @name.setter\n",
    "    def name(self, x):\n",
    "        if x == \"\" or x == None:\n",
    "            print(\"Por favor, escriba un nombre\")\n",
    "        else:\n",
    "            self.__x = x\n",
    "    \n",
    "    @property\n",
    "    def age(self):\n",
    "        return self.__age\n",
    "\n",
    "    @age.setter\n",
    "    def age(self, age):\n",
    "        self.__age = age\n",
    "\n",
    "    def __private_function(self):\n",
    "        print(\"I am private\")\n",
    "\n",
    "    def _protected_function(self):\n",
    "        print(\"I am protected\")\n",
    "\n",
    "    def public_function(self):\n",
    "        print(\"I am public and I will call my sisters private and protected functions\")\n",
    "        print(\"Calling protected...\")\n",
    "        self._protected_function()\n",
    "        print(\"Calling private...\")\n",
    "        self.__private_function()\n",
    "        print(\"They are safe!\")\n"
   ]
  },
  {
   "cell_type": "code",
   "execution_count": 2,
   "metadata": {},
   "outputs": [
    {
     "output_type": "execute_result",
     "data": {
      "text/plain": [
       "True"
      ]
     },
     "metadata": {},
     "execution_count": 2
    }
   ],
   "source": [
    "Person.is_adult(86)"
   ]
  },
  {
   "cell_type": "code",
   "execution_count": 3,
   "metadata": {},
   "outputs": [],
   "source": [
    "p = Person(name=\"\", age=56)"
   ]
  },
  {
   "cell_type": "code",
   "execution_count": 4,
   "metadata": {},
   "outputs": [
    {
     "output_type": "execute_result",
     "data": {
      "text/plain": [
       "'Gregorio'"
      ]
     },
     "metadata": {},
     "execution_count": 4
    }
   ],
   "source": [
    "p = Person(name=\"Gregorio\", age=92)\n",
    "p.name "
   ]
  },
  {
   "cell_type": "code",
   "execution_count": 5,
   "metadata": {},
   "outputs": [
    {
     "output_type": "execute_result",
     "data": {
      "text/plain": [
       "92"
      ]
     },
     "metadata": {},
     "execution_count": 5
    }
   ],
   "source": [
    "p.age"
   ]
  },
  {
   "cell_type": "code",
   "execution_count": 6,
   "metadata": {},
   "outputs": [
    {
     "output_type": "error",
     "ename": "AttributeError",
     "evalue": "'Person' object has no attribute '__age'",
     "traceback": [
      "\u001b[1;31m---------------------------------------------------------------------------\u001b[0m",
      "\u001b[1;31mAttributeError\u001b[0m                            Traceback (most recent call last)",
      "\u001b[1;32m<ipython-input-6-064b181be7ac>\u001b[0m in \u001b[0;36m<module>\u001b[1;34m\u001b[0m\n\u001b[1;32m----> 1\u001b[1;33m \u001b[0mp\u001b[0m\u001b[1;33m.\u001b[0m\u001b[0m__age\u001b[0m\u001b[1;33m\u001b[0m\u001b[0m\n\u001b[0m",
      "\u001b[1;31mAttributeError\u001b[0m: 'Person' object has no attribute '__age'"
     ]
    }
   ],
   "source": [
    "p.__age"
   ]
  },
  {
   "cell_type": "code",
   "execution_count": 14,
   "metadata": {},
   "outputs": [
    {
     "data": {
      "text/plain": "'Lucía'"
     },
     "execution_count": 14,
     "metadata": {},
     "output_type": "execute_result"
    }
   ],
   "source": [
    "creado_por_class_method = Person.from_birth_year(\"Lucía\", 1992)\n",
    "creado_por_class_method.name"
   ]
  },
  {
   "cell_type": "code",
   "execution_count": 15,
   "metadata": {},
   "outputs": [
    {
     "data": {
      "text/plain": "28"
     },
     "execution_count": 15,
     "metadata": {},
     "output_type": "execute_result"
    }
   ],
   "source": [
    "creado_por_class_method.age"
   ]
  },
  {
   "cell_type": "code",
   "execution_count": null,
   "metadata": {},
   "outputs": [],
   "source": []
  }
 ],
 "metadata": {
  "language_info": {
   "name": "python",
   "codemirror_mode": {
    "name": "ipython",
    "version": 3
   },
   "version": "3.6.4-final"
  },
  "orig_nbformat": 2,
  "file_extension": ".py",
  "mimetype": "text/x-python",
  "name": "python",
  "npconvert_exporter": "python",
  "pygments_lexer": "ipython3",
  "version": 3,
  "kernelspec": {
   "name": "python3",
   "display_name": "Python 3.6.4 64-bit",
   "metadata": {
    "interpreter": {
     "hash": "5c4d2f1fdcd3716c7a5eea90ad07be30193490dd4e63617705244f5fd89ea793"
    }
   }
  }
 },
 "nbformat": 4,
 "nbformat_minor": 2
}
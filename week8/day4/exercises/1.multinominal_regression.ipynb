{
 "metadata": {
  "language_info": {
   "codemirror_mode": {
    "name": "ipython",
    "version": 3
   },
   "file_extension": ".py",
   "mimetype": "text/x-python",
   "name": "python",
   "nbconvert_exporter": "python",
   "pygments_lexer": "ipython3",
   "version": "3.9.0-final"
  },
  "orig_nbformat": 2,
  "kernelspec": {
   "name": "python3",
   "display_name": "Python 3.9.0 64-bit",
   "metadata": {
    "interpreter": {
     "hash": "2e3c1e8da6e821b0193601da5a0e541c0efda9704da45b6b820f5f4c317f2def"
    }
   }
  }
 },
 "nbformat": 4,
 "nbformat_minor": 2,
 "cells": [
  {
   "cell_type": "markdown",
   "metadata": {},
   "source": [
    "### 1. \n",
    "\n",
    "En el archivo \"logistic_regression_df_class\" hemos visto un ejemplo multiclase. Realiza un análisis con regresión linear multinominal teniendo como target la columna \"duración\". Es decir, averigua cuánto aumentan o disminuyen la duración cuando se aumenta una unidad los valores de las demás columnas.\n",
    "\n",
    "- ¿Qué acierto tiene? (score)\n",
    "- ¿Cuál es el RMSE? ¿Dirías que es un valor alto?\n",
    "- Viendo la matriz de correlación, ¿tienen coherencia los resultados de la regresión?\n",
    "- ¿Es la regresión un buen método para este dataset?"
   ]
  },
  {
   "cell_type": "code",
   "execution_count": 1,
   "metadata": {},
   "outputs": [],
   "source": [
    "import pandas as pd\n",
    "import numpy as np\n",
    "from sklearn import linear_model\n",
    "from sklearn import model_selection\n",
    "from sklearn import metrics\n",
    "from sklearn.metrics import classification_report\n",
    "from sklearn.metrics import confusion_matrix\n",
    "from sklearn.metrics import accuracy_score\n",
    "import matplotlib.pyplot as plt\n",
    "import seaborn as sb\n"
   ]
  },
  {
   "cell_type": "code",
   "execution_count": 2,
   "metadata": {},
   "outputs": [
    {
     "output_type": "execute_result",
     "data": {
      "text/plain": [
       "   duracion  paginas  acciones  valor  clase\n",
       "0       7.0        2         4      8      2\n",
       "1      21.0        2         6      6      2\n",
       "2      57.0        2         4      4      2\n",
       "3     101.0        3         6     12      2\n",
       "4     109.0        2         6     12      2"
      ],
      "text/html": "<div>\n<style scoped>\n    .dataframe tbody tr th:only-of-type {\n        vertical-align: middle;\n    }\n\n    .dataframe tbody tr th {\n        vertical-align: top;\n    }\n\n    .dataframe thead th {\n        text-align: right;\n    }\n</style>\n<table border=\"1\" class=\"dataframe\">\n  <thead>\n    <tr style=\"text-align: right;\">\n      <th></th>\n      <th>duracion</th>\n      <th>paginas</th>\n      <th>acciones</th>\n      <th>valor</th>\n      <th>clase</th>\n    </tr>\n  </thead>\n  <tbody>\n    <tr>\n      <th>0</th>\n      <td>7.0</td>\n      <td>2</td>\n      <td>4</td>\n      <td>8</td>\n      <td>2</td>\n    </tr>\n    <tr>\n      <th>1</th>\n      <td>21.0</td>\n      <td>2</td>\n      <td>6</td>\n      <td>6</td>\n      <td>2</td>\n    </tr>\n    <tr>\n      <th>2</th>\n      <td>57.0</td>\n      <td>2</td>\n      <td>4</td>\n      <td>4</td>\n      <td>2</td>\n    </tr>\n    <tr>\n      <th>3</th>\n      <td>101.0</td>\n      <td>3</td>\n      <td>6</td>\n      <td>12</td>\n      <td>2</td>\n    </tr>\n    <tr>\n      <th>4</th>\n      <td>109.0</td>\n      <td>2</td>\n      <td>6</td>\n      <td>12</td>\n      <td>2</td>\n    </tr>\n  </tbody>\n</table>\n</div>"
     },
     "metadata": {},
     "execution_count": 2
    }
   ],
   "source": [
    "dataframe = pd.read_csv(\"../data/usuarios_win_mac_lin.csv\")\n",
    "dataframe.head()"
   ]
  },
  {
   "cell_type": "code",
   "execution_count": 50,
   "metadata": {},
   "outputs": [
    {
     "output_type": "execute_result",
     "data": {
      "text/plain": [
       "111.0757294117647"
      ]
     },
     "metadata": {},
     "execution_count": 50
    }
   ],
   "source": [
    "dataframe[\"duracion\"].mean()"
   ]
  },
  {
   "cell_type": "code",
   "execution_count": 3,
   "metadata": {},
   "outputs": [
    {
     "output_type": "execute_result",
     "data": {
      "text/plain": [
       "(170,)"
      ]
     },
     "metadata": {},
     "execution_count": 3
    }
   ],
   "source": [
    "y= np.array(dataframe[\"duracion\"])\n",
    "y.shape"
   ]
  },
  {
   "cell_type": "code",
   "execution_count": 4,
   "metadata": {},
   "outputs": [
    {
     "output_type": "execute_result",
     "data": {
      "text/plain": [
       "(170, 4)"
      ]
     },
     "metadata": {},
     "execution_count": 4
    }
   ],
   "source": [
    "X = np.array(dataframe[[\"paginas\",\"acciones\", \"valor\", \"clase\"]])\n",
    "X.shape"
   ]
  },
  {
   "cell_type": "code",
   "execution_count": 5,
   "metadata": {},
   "outputs": [
    {
     "output_type": "execute_result",
     "data": {
      "text/plain": [
       "array([[  3,   5,   9,   3],\n",
       "       [  3,   7,   7,   3],\n",
       "       [  3,   5,   5,   3],\n",
       "       [  4,   7,  13,   3],\n",
       "       [  3,   7,  13,   3],\n",
       "       [  6,  11,  21,   3],\n",
       "       [  3,   3,   5,   3],\n",
       "       [  3,   7,  13,   3],\n",
       "       [  3,   5,   9,   3],\n",
       "       [  3,   7,   7,   3],\n",
       "       [  3,   7,  13,   3],\n",
       "       [  5,  13,  25,   3],\n",
       "       [  5,  13,  25,   3],\n",
       "       [  6,  16,  16,   3],\n",
       "       [  3,   7,   7,   3],\n",
       "       [  3,   5,   9,   3],\n",
       "       [  6,   6,   6,   3],\n",
       "       [  3,   5,  13,   2],\n",
       "       [  3,   9,  49,   2],\n",
       "       [  3,   9,  33,   2],\n",
       "       [  3,   7,  19,   2],\n",
       "       [  3,  13,  97,   2],\n",
       "       [  3,  11,  31,   2],\n",
       "       [  3,   5,  21,   2],\n",
       "       [  3,  11,  31,   2],\n",
       "       [  4,  10,  55,   2],\n",
       "       [  7,  13,  97,   2],\n",
       "       [  3,  13,  49,   2],\n",
       "       [  3,   5,  13,   2],\n",
       "       [  5,  25, 145,   2],\n",
       "       [  3,   5,  17,   2],\n",
       "       [  4,   7,  31,   2],\n",
       "       [  3,   7,  31,   2],\n",
       "       [  3,   7,  25,   2],\n",
       "       [  4,  19,  55,   2],\n",
       "       [  3,   3,   3,   3],\n",
       "       [  2,   2,   2,   3],\n",
       "       [  6,  16,  16,   3],\n",
       "       [  3,   3,   3,   3],\n",
       "       [  7,   7,   7,   3],\n",
       "       [  3,  11,  41,   2],\n",
       "       [  3,   7,  31,   2],\n",
       "       [  3,   5,  21,   2],\n",
       "       [  4,  19, 145,   2],\n",
       "       [  3,   7,  19,   2],\n",
       "       [  3,   5,  29,   2],\n",
       "       [  4,  19,  73,   2],\n",
       "       [  3,   9,  65,   2],\n",
       "       [  3,   7,  19,   2],\n",
       "       [  3,  19,  37,   1],\n",
       "       [  3,  21, 121,   1],\n",
       "       [  2,   8,  29,   1],\n",
       "       [  3,  19,  55,   1],\n",
       "       [  3,  21,  41,   1],\n",
       "       [  3,  13,  37,   1],\n",
       "       [  4,  22,  64,   1],\n",
       "       [  3,   7,  25,   1],\n",
       "       [  3,  19,  55,   1],\n",
       "       [  2,   6,  16,   1],\n",
       "       [ 10,  64, 379,   1],\n",
       "       [  3,   3,   7,   1],\n",
       "       [  4,  28, 163,   1],\n",
       "       [  4,  10,  37,   1],\n",
       "       [  3,   3,   7,   1],\n",
       "       [  3,  17,  65,   1],\n",
       "       [  6,  41, 241,   1],\n",
       "       [  3,  15,  29,   1],\n",
       "       [  3,   3,  13,   1],\n",
       "       [  3,  13,  61,   1],\n",
       "       [  5,   9,  25,   1],\n",
       "       [  3,  19,  55,   1],\n",
       "       [  2,   8,  29,   1],\n",
       "       [  4,  13,  25,   1],\n",
       "       [  3,  11,  31,   1],\n",
       "       [  4,  31,  61,   1],\n",
       "       [  5,  29, 169,   1],\n",
       "       [  3,   3,  13,   1],\n",
       "       [  5,  21,  81,   1],\n",
       "       [  5,  13,  25,   1],\n",
       "       [  5,  17,  49,   1],\n",
       "       [  5,  29,  57,   1],\n",
       "       [  7,  31,  91,   1],\n",
       "       [  5,  33, 161,   1],\n",
       "       [  7,  25,  73,   1],\n",
       "       [ 10,  19,  37,   1],\n",
       "       [  8,  57, 113,   1],\n",
       "       [  3,   3,   5,   1],\n",
       "       [  3,   3,  13,   1],\n",
       "       [  3,   7,  19,   1],\n",
       "       [  6,  26, 101,   1],\n",
       "       [  3,  21,  61,   1],\n",
       "       [  3,  17,  65,   1],\n",
       "       [  3,   3,  13,   1],\n",
       "       [  6,  21,  81,   1],\n",
       "       [  2,   7,  25,   1],\n",
       "       [  2,   4,   7,   3],\n",
       "       [  2,   3,  17,   2],\n",
       "       [  2,   3,   5,   3],\n",
       "       [  2,   7,  49,   2],\n",
       "       [  2,   5,  13,   2],\n",
       "       [  2,   7,  25,   2],\n",
       "       [  2,   6,  36,   2],\n",
       "       [  2,   7,  37,   2],\n",
       "       [  2,   6,  21,   2],\n",
       "       [  2,   4,  13,   2],\n",
       "       [  2,   4,  19,   2],\n",
       "       [  2,   7,  25,   2],\n",
       "       [  2,   7,  19,   2],\n",
       "       [  2,   7,  25,   2],\n",
       "       [  2,   6,  41,   2],\n",
       "       [  2,   3,   3,   3],\n",
       "       [  2,   4,   4,   3],\n",
       "       [  2,   2,   2,   3],\n",
       "       [  2,   3,   3,   3],\n",
       "       [  2,   4,   7,   3],\n",
       "       [  2,   4,   7,   3],\n",
       "       [  2,   3,   5,   3],\n",
       "       [  2,   3,   5,   3],\n",
       "       [  2,   4,   4,   3],\n",
       "       [  2,   4,   4,   3],\n",
       "       [  2,   4,   7,   3],\n",
       "       [  2,   4,   7,   3],\n",
       "       [  2,   3,   3,   3],\n",
       "       [  2,   4,   4,   3],\n",
       "       [  2,   4,   4,   3],\n",
       "       [  2,   3,   5,   3],\n",
       "       [  2,   2,   2,   3],\n",
       "       [  2,   4,   4,   3],\n",
       "       [  2,   2,   2,   3],\n",
       "       [  2,   2,   3,   3],\n",
       "       [  2,   9,  49,   1],\n",
       "       [  2,   8,  36,   1],\n",
       "       [  2,   5,  17,   1],\n",
       "       [  2,   5,  13,   1],\n",
       "       [  2,  11,  31,   1],\n",
       "       [  2,  11,  21,   1],\n",
       "       [  2,   9,  17,   1],\n",
       "       [  2,   8,  43,   1],\n",
       "       [  2,   3,   9,   1],\n",
       "       [  2,   8,  29,   1],\n",
       "       [  2,   3,  11,   1],\n",
       "       [  2,   3,  13,   1],\n",
       "       [  2,   9,  33,   1],\n",
       "       [  2,   3,   7,   1],\n",
       "       [  2,   9,  25,   1],\n",
       "       [  2,   2,   4,   1],\n",
       "       [  2,   9,  25,   1],\n",
       "       [  2,   6,  16,   1],\n",
       "       [  2,   6,  26,   1],\n",
       "       [  2,   3,   7,   1],\n",
       "       [  2,   4,  13,   1],\n",
       "       [  2,   4,   7,   1],\n",
       "       [  2,  10,  28,   1],\n",
       "       [  2,   9,  41,   1],\n",
       "       [  2,   4,  19,   1],\n",
       "       [  2,   2,   3,   1],\n",
       "       [  2,   2,   5,   1],\n",
       "       [  2,   6,  16,   1],\n",
       "       [  2,   9,  25,   1],\n",
       "       [  2,   5,  25,   1],\n",
       "       [  2,   4,  16,   1],\n",
       "       [  2,   7,  31,   1],\n",
       "       [  2,   5,  25,   1],\n",
       "       [  2,   8,  36,   1],\n",
       "       [  2,   5,   9,   1],\n",
       "       [  2,   8,  43,   1],\n",
       "       [  2,   3,   7,   1],\n",
       "       [  2,   4,  10,   1],\n",
       "       [  2,   8,  29,   1],\n",
       "       [  2,   7,  19,   1]], dtype=int64)"
      ]
     },
     "metadata": {},
     "execution_count": 5
    }
   ],
   "source": [
    "X= X + 1\n",
    "X"
   ]
  },
  {
   "cell_type": "code",
   "execution_count": 6,
   "metadata": {},
   "outputs": [
    {
     "output_type": "execute_result",
     "data": {
      "text/plain": [
       "LinearRegression()"
      ]
     },
     "metadata": {},
     "execution_count": 6
    }
   ],
   "source": [
    "model = linear_model.LinearRegression()\n",
    "model.fit(X, y)"
   ]
  },
  {
   "cell_type": "code",
   "execution_count": 35,
   "metadata": {},
   "outputs": [
    {
     "output_type": "execute_result",
     "data": {
      "text/plain": [
       "10.198661828479649"
      ]
     },
     "metadata": {},
     "execution_count": 35
    }
   ],
   "source": [
    "model.score(X,y) * 100"
   ]
  },
  {
   "cell_type": "code",
   "execution_count": 7,
   "metadata": {},
   "outputs": [],
   "source": [
    "X_train, X_test, y_train, y_test = model_selection.train_test_split(X, y, test_size=0.2)"
   ]
  },
  {
   "cell_type": "code",
   "execution_count": 8,
   "metadata": {},
   "outputs": [
    {
     "output_type": "execute_result",
     "data": {
      "text/plain": [
       "LinearRegression()"
      ]
     },
     "metadata": {},
     "execution_count": 8
    }
   ],
   "source": [
    "model.fit(X_train, y_train)"
   ]
  },
  {
   "cell_type": "code",
   "execution_count": 9,
   "metadata": {},
   "outputs": [
    {
     "output_type": "execute_result",
     "data": {
      "text/plain": [
       "array([ 93.94918607, 217.34803474,  96.44703882,  46.58648382,\n",
       "        48.9591368 ,  70.48983805,  48.6070544 , 130.52955694,\n",
       "       124.2076866 ,  91.75257429, 251.75442985, 123.15143941,\n",
       "        93.59710368, 188.06166402,  43.60939626,  73.59993178,\n",
       "        47.73465482, 121.43991621,  61.66035591, 105.43499668,\n",
       "       188.06166402,  68.46926747, 104.0246168 , 123.15143941,\n",
       "       270.88125245,  80.62596692,  66.54062069,  42.37710787,\n",
       "        42.46903168,  42.37710787, 235.79332857, 124.2076866 ,\n",
       "        41.06070208,  65.16556706])"
      ]
     },
     "metadata": {},
     "execution_count": 9
    }
   ],
   "source": [
    "predictions = model.predict(X_test)\n",
    "predictions"
   ]
  },
  {
   "cell_type": "code",
   "execution_count": 12,
   "metadata": {},
   "outputs": [
    {
     "output_type": "stream",
     "name": "stdout",
     "text": [
      "Error: -6.055391535804034\nAcierto: 7.055391535804034\n"
     ]
    }
   ],
   "source": [
    "acierto= model.score(X_train, y_train)* 100\n",
    "error = 1- acierto\n",
    "print(\"Error:\", error)\n",
    "print(\"Acierto:\", acierto)"
   ]
  },
  {
   "cell_type": "code",
   "execution_count": 13,
   "metadata": {},
   "outputs": [
    {
     "output_type": "execute_result",
     "data": {
      "text/plain": [
       "1.9545433150877978"
      ]
     },
     "metadata": {},
     "execution_count": 13
    }
   ],
   "source": [
    "model.score(X_test, y_test)* 100"
   ]
  },
  {
   "cell_type": "code",
   "execution_count": 14,
   "metadata": {},
   "outputs": [
    {
     "output_type": "stream",
     "name": "stdout",
     "text": [
      "MAE: 161.9534745367496\nMSE: 68197.26715128975\nRMSE: 261.14606478231633\n"
     ]
    }
   ],
   "source": [
    "print('MAE:', metrics.mean_absolute_error(y_test, predictions))\n",
    "print('MSE:', metrics.mean_squared_error(y_test, predictions))\n",
    "print('RMSE:', np.sqrt(metrics.mean_squared_error(y_test, predictions)))"
   ]
  },
  {
   "cell_type": "code",
   "execution_count": 15,
   "metadata": {},
   "outputs": [
    {
     "output_type": "execute_result",
     "data": {
      "text/plain": [
       "          duracion   paginas  acciones     valor     clase\n",
       "duracion  1.000000  0.277550  0.163028  0.090869  0.128706\n",
       "paginas   0.277550  1.000000  0.724061  0.583910 -0.052813\n",
       "acciones  0.163028  0.724061  1.000000  0.862961 -0.329954\n",
       "valor     0.090869  0.583910  0.862961  1.000000 -0.322737\n",
       "clase     0.128706 -0.052813 -0.329954 -0.322737  1.000000"
      ],
      "text/html": "<div>\n<style scoped>\n    .dataframe tbody tr th:only-of-type {\n        vertical-align: middle;\n    }\n\n    .dataframe tbody tr th {\n        vertical-align: top;\n    }\n\n    .dataframe thead th {\n        text-align: right;\n    }\n</style>\n<table border=\"1\" class=\"dataframe\">\n  <thead>\n    <tr style=\"text-align: right;\">\n      <th></th>\n      <th>duracion</th>\n      <th>paginas</th>\n      <th>acciones</th>\n      <th>valor</th>\n      <th>clase</th>\n    </tr>\n  </thead>\n  <tbody>\n    <tr>\n      <th>duracion</th>\n      <td>1.000000</td>\n      <td>0.277550</td>\n      <td>0.163028</td>\n      <td>0.090869</td>\n      <td>0.128706</td>\n    </tr>\n    <tr>\n      <th>paginas</th>\n      <td>0.277550</td>\n      <td>1.000000</td>\n      <td>0.724061</td>\n      <td>0.583910</td>\n      <td>-0.052813</td>\n    </tr>\n    <tr>\n      <th>acciones</th>\n      <td>0.163028</td>\n      <td>0.724061</td>\n      <td>1.000000</td>\n      <td>0.862961</td>\n      <td>-0.329954</td>\n    </tr>\n    <tr>\n      <th>valor</th>\n      <td>0.090869</td>\n      <td>0.583910</td>\n      <td>0.862961</td>\n      <td>1.000000</td>\n      <td>-0.322737</td>\n    </tr>\n    <tr>\n      <th>clase</th>\n      <td>0.128706</td>\n      <td>-0.052813</td>\n      <td>-0.329954</td>\n      <td>-0.322737</td>\n      <td>1.000000</td>\n    </tr>\n  </tbody>\n</table>\n</div>"
     },
     "metadata": {},
     "execution_count": 15
    }
   ],
   "source": [
    "dataframe.corr()"
   ]
  },
  {
   "cell_type": "code",
   "execution_count": null,
   "metadata": {},
   "outputs": [],
   "source": []
  }
 ]
}
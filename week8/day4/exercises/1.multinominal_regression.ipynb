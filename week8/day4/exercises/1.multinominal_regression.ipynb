{
 "metadata": {
  "language_info": {
   "codemirror_mode": {
    "name": "ipython",
    "version": 3
   },
   "file_extension": ".py",
   "mimetype": "text/x-python",
   "name": "python",
   "nbconvert_exporter": "python",
   "pygments_lexer": "ipython3",
   "version": "3.9.0-final"
  },
  "orig_nbformat": 2,
  "kernelspec": {
   "name": "python3",
   "display_name": "Python 3.9.0 64-bit",
   "metadata": {
    "interpreter": {
     "hash": "2e3c1e8da6e821b0193601da5a0e541c0efda9704da45b6b820f5f4c317f2def"
    }
   }
  }
 },
 "nbformat": 4,
 "nbformat_minor": 2,
 "cells": [
  {
   "cell_type": "markdown",
   "metadata": {},
   "source": [
    "### 1. \n",
    "\n",
    "En el archivo \"logistic_regression_df_class\" hemos visto un ejemplo multiclase. Realiza un análisis con regresión linear multinominal teniendo como target la columna \"duración\". Es decir, averigua cuánto aumentan o disminuyen la duración cuando se aumenta una unidad los valores de las demás columnas.\n",
    "\n",
    "- ¿Qué acierto tiene? (score)\n",
    "- ¿Cuál es el RMSE? ¿Dirías que es un valor alto?\n",
    "- Viendo la matriz de correlación, ¿tienen coherencia los resultados de la regresión?\n",
    "- ¿Es la regresión un buen método para este dataset?"
   ]
  },
  {
   "cell_type": "code",
   "execution_count": 45,
   "metadata": {},
   "outputs": [],
   "source": [
    "import pandas as pd\n",
    "import numpy as np\n",
    "from sklearn import linear_model\n",
    "from sklearn import model_selection\n",
    "from sklearn import metrics\n",
    "from sklearn.metrics import classification_report\n",
    "from sklearn.metrics import confusion_matrix\n",
    "from sklearn.metrics import accuracy_score\n",
    "import matplotlib.pyplot as plt\n",
    "import seaborn as sb\n"
   ]
  },
  {
   "cell_type": "code",
   "execution_count": 2,
   "metadata": {},
   "outputs": [
    {
     "output_type": "execute_result",
     "data": {
      "text/plain": [
       "   duracion  paginas  acciones  valor  clase\n",
       "0       7.0        2         4      8      2\n",
       "1      21.0        2         6      6      2\n",
       "2      57.0        2         4      4      2\n",
       "3     101.0        3         6     12      2\n",
       "4     109.0        2         6     12      2"
      ],
      "text/html": "<div>\n<style scoped>\n    .dataframe tbody tr th:only-of-type {\n        vertical-align: middle;\n    }\n\n    .dataframe tbody tr th {\n        vertical-align: top;\n    }\n\n    .dataframe thead th {\n        text-align: right;\n    }\n</style>\n<table border=\"1\" class=\"dataframe\">\n  <thead>\n    <tr style=\"text-align: right;\">\n      <th></th>\n      <th>duracion</th>\n      <th>paginas</th>\n      <th>acciones</th>\n      <th>valor</th>\n      <th>clase</th>\n    </tr>\n  </thead>\n  <tbody>\n    <tr>\n      <th>0</th>\n      <td>7.0</td>\n      <td>2</td>\n      <td>4</td>\n      <td>8</td>\n      <td>2</td>\n    </tr>\n    <tr>\n      <th>1</th>\n      <td>21.0</td>\n      <td>2</td>\n      <td>6</td>\n      <td>6</td>\n      <td>2</td>\n    </tr>\n    <tr>\n      <th>2</th>\n      <td>57.0</td>\n      <td>2</td>\n      <td>4</td>\n      <td>4</td>\n      <td>2</td>\n    </tr>\n    <tr>\n      <th>3</th>\n      <td>101.0</td>\n      <td>3</td>\n      <td>6</td>\n      <td>12</td>\n      <td>2</td>\n    </tr>\n    <tr>\n      <th>4</th>\n      <td>109.0</td>\n      <td>2</td>\n      <td>6</td>\n      <td>12</td>\n      <td>2</td>\n    </tr>\n  </tbody>\n</table>\n</div>"
     },
     "metadata": {},
     "execution_count": 2
    }
   ],
   "source": [
    "dataframe = pd.read_csv(\"../data/usuarios_win_mac_lin.csv\")\n",
    "dataframe.head()"
   ]
  },
  {
   "cell_type": "code",
   "execution_count": 50,
   "metadata": {},
   "outputs": [
    {
     "output_type": "execute_result",
     "data": {
      "text/plain": [
       "111.0757294117647"
      ]
     },
     "metadata": {},
     "execution_count": 50
    }
   ],
   "source": [
    "dataframe[\"duracion\"].mean()"
   ]
  },
  {
   "cell_type": "code",
   "execution_count": 23,
   "metadata": {},
   "outputs": [
    {
     "output_type": "execute_result",
     "data": {
      "text/plain": [
       "(170,)"
      ]
     },
     "metadata": {},
     "execution_count": 23
    }
   ],
   "source": [
    "y= np.array(dataframe[\"duracion\"])\n",
    "y.shape"
   ]
  },
  {
   "cell_type": "code",
   "execution_count": 27,
   "metadata": {},
   "outputs": [
    {
     "output_type": "execute_result",
     "data": {
      "text/plain": [
       "(170, 4)"
      ]
     },
     "metadata": {},
     "execution_count": 27
    }
   ],
   "source": [
    "X = np.array(dataframe[[\"paginas\",\"acciones\", \"valor\", \"clase\"]])\n",
    "X.shape"
   ]
  },
  {
   "cell_type": "code",
   "execution_count": 28,
   "metadata": {},
   "outputs": [],
   "source": [
    "X= X + 1\n"
   ]
  },
  {
   "cell_type": "code",
   "execution_count": 31,
   "metadata": {},
   "outputs": [
    {
     "output_type": "execute_result",
     "data": {
      "text/plain": [
       "LinearRegression()"
      ]
     },
     "metadata": {},
     "execution_count": 31
    }
   ],
   "source": [
    "model = linear_model.LinearRegression()\n",
    "model.fit(X, y)"
   ]
  },
  {
   "cell_type": "code",
   "execution_count": 39,
   "metadata": {},
   "outputs": [
    {
     "output_type": "execute_result",
     "data": {
      "text/plain": [
       "array([137.97658558, 129.3544114 , 136.34201283, 170.41470669,\n",
       "       131.80627052, 235.29094892, 144.14690064, 131.80627052,\n",
       "       137.97658558, 129.3544114 , 131.80627052, 190.51219768,\n",
       "       190.51219768, 213.73551347, 129.3544114 , 137.97658558,\n",
       "       248.67352064, 115.81197734, 114.91335643, 108.37506545,\n",
       "       110.45894865, 118.91845375,  99.75289127, 119.08112283,\n",
       "        99.75289127, 152.07120781, 273.35219844,  99.30358082,\n",
       "       115.81197734, 168.9208722 , 117.44655008, 153.97110306,\n",
       "       115.36266688, 112.91080777, 116.94921269, 143.32961426,\n",
       "       108.21497881, 213.73551347, 143.32961426, 283.78815609,\n",
       "       103.83932313, 115.36266688, 119.08112283, 153.72709944,\n",
       "       110.45894865, 122.35026832, 124.30479004, 121.4516474 ,\n",
       "       110.45894865,  47.18601819,  73.70715801,  48.23531945,\n",
       "        54.54159554,  41.01570313,  70.6006816 ,  85.12048868,\n",
       "        89.11162678,  54.54159554,  50.72784584, 281.59106543,\n",
       "        97.36582504, 102.16150068, 120.91644948,  97.36582504,\n",
       "        66.4329152 , 160.52077081,  59.52664831,  99.81768416,\n",
       "        80.40811807, 158.52361133,  54.54159554,  48.23531945,\n",
       "       104.30539954,  75.95371029,  48.772564  , 139.31935207,\n",
       "        99.81768416, 134.57830292, 142.91383572, 137.11149657,\n",
       "        93.55131523, 176.8571681 , 120.44043097, 192.91625417,\n",
       "       317.4450714 , 122.99221291,  96.54853867,  99.81768416,\n",
       "        86.65976767, 161.8473833 ,  49.18856685,  66.4329152 ,\n",
       "        99.81768416, 173.18673909,  50.50319061, 102.45330693,\n",
       "        86.64300171, 105.53846446,  84.10980806,  77.20354116,\n",
       "        74.30237159,  82.69989054,  79.20608983,  76.57024275,\n",
       "        81.10598507,  83.55784418,  74.30237159,  71.85051248,\n",
       "        74.30237159,  84.74310647, 104.72117809, 101.22737737,\n",
       "       108.21497881, 104.72117809, 102.45330693, 102.45330693,\n",
       "       105.53846446, 105.53846446, 101.22737737, 101.22737737,\n",
       "       102.45330693, 102.45330693, 104.72117809, 101.22737737,\n",
       "       101.22737737, 105.53846446, 108.21497881, 101.22737737,\n",
       "       108.21497881, 108.62362199,  52.50573927,  51.09582175,\n",
       "        55.03893293,  53.40436018,  37.34527412,  33.25884226,\n",
       "        39.42915732,  53.95632406,  59.57467524,  48.23531945,\n",
       "        60.39196162,  61.20924799,  45.96744829,  58.75738887,\n",
       "        42.69830281,  61.43390322,  42.69830281,  50.72784584,\n",
       "        54.8142777 ,  58.75738887,  57.30680408,  54.85494497,\n",
       "        40.02178846,  49.23659378,  59.7586632 ,  61.02526003,\n",
       "        61.8425464 ,  50.72784584,  42.69830281,  58.30807842,\n",
       "        58.53273364,  52.95504973,  58.30807842,  51.09582175,\n",
       "        51.76978744,  53.95632406,  58.75738887,  56.08087453,\n",
       "        48.23531945,  48.05133149])"
      ]
     },
     "metadata": {},
     "execution_count": 39
    }
   ],
   "source": [
    "predictions = model.predict(X)\n",
    "predictions"
   ]
  },
  {
   "cell_type": "code",
   "execution_count": 35,
   "metadata": {},
   "outputs": [
    {
     "output_type": "execute_result",
     "data": {
      "text/plain": [
       "10.198661828479649"
      ]
     },
     "metadata": {},
     "execution_count": 35
    }
   ],
   "source": [
    "model.score(X,y) * 100"
   ]
  },
  {
   "cell_type": "code",
   "execution_count": 37,
   "metadata": {},
   "outputs": [],
   "source": [
    "X_train, X_test, y_train, y_test = model_selection.train_test_split(X, y, test_size=0.2)"
   ]
  },
  {
   "cell_type": "code",
   "execution_count": 38,
   "metadata": {},
   "outputs": [
    {
     "output_type": "execute_result",
     "data": {
      "text/plain": [
       "LinearRegression()"
      ]
     },
     "metadata": {},
     "execution_count": 38
    }
   ],
   "source": [
    "model.fit(X_train, y_train)"
   ]
  },
  {
   "cell_type": "code",
   "execution_count": 40,
   "metadata": {},
   "outputs": [
    {
     "output_type": "execute_result",
     "data": {
      "text/plain": [
       "array([153.72709944,  37.34527412,  96.54853867, 105.53846446,\n",
       "       143.32961426, 120.91644948,  59.52664831, 119.08112283,\n",
       "       170.41470669,  53.40436018, 153.97110306,  48.772564  ,\n",
       "       213.73551347, 116.94921269,  58.75738887,  99.75289127,\n",
       "       104.72117809,  45.96744829,  48.05133149,  54.54159554,\n",
       "       142.91383572,  99.81768416,  84.74310647, 110.45894865,\n",
       "       235.29094892, 190.51219768, 105.53846446, 131.80627052,\n",
       "       129.3544114 ,  89.11162678,  33.25884226,  54.8142777 ,\n",
       "        73.70715801, 115.36266688])"
      ]
     },
     "metadata": {},
     "execution_count": 40
    }
   ],
   "source": [
    "predictions = model.predict(X_test)\n",
    "predictions"
   ]
  },
  {
   "cell_type": "code",
   "execution_count": 42,
   "metadata": {},
   "outputs": [
    {
     "output_type": "execute_result",
     "data": {
      "text/plain": [
       "6.862230799476555"
      ]
     },
     "metadata": {},
     "execution_count": 42
    }
   ],
   "source": [
    "model.score(X_train, y_train)* 100"
   ]
  },
  {
   "cell_type": "code",
   "execution_count": 43,
   "metadata": {},
   "outputs": [
    {
     "output_type": "execute_result",
     "data": {
      "text/plain": [
       "6.358983567854626"
      ]
     },
     "metadata": {},
     "execution_count": 43
    }
   ],
   "source": [
    "model.score(X_test, y_test)* 100"
   ]
  },
  {
   "cell_type": "code",
   "execution_count": 46,
   "metadata": {},
   "outputs": [
    {
     "output_type": "stream",
     "name": "stdout",
     "text": [
      "MAE: 136.08622102898258\nMSE: 46306.37696262184\nRMSE: 215.1891655326119\n"
     ]
    }
   ],
   "source": [
    "print('MAE:', metrics.mean_absolute_error(y_test, predictions))\n",
    "print('MSE:', metrics.mean_squared_error(y_test, predictions))\n",
    "print('RMSE:', np.sqrt(metrics.mean_squared_error(y_test, predictions)))"
   ]
  },
  {
   "cell_type": "code",
   "execution_count": 48,
   "metadata": {},
   "outputs": [
    {
     "output_type": "execute_result",
     "data": {
      "text/plain": [
       "0.06358983567854626"
      ]
     },
     "metadata": {},
     "execution_count": 48
    }
   ],
   "source": [
    "r2= metrics.r2_score(y_test, predictions)\n",
    "r2"
   ]
  },
  {
   "cell_type": "code",
   "execution_count": 51,
   "metadata": {},
   "outputs": [
    {
     "output_type": "execute_result",
     "data": {
      "text/plain": [
       "          duracion   paginas  acciones     valor     clase\n",
       "duracion  1.000000  0.277550  0.163028  0.090869  0.128706\n",
       "paginas   0.277550  1.000000  0.724061  0.583910 -0.052813\n",
       "acciones  0.163028  0.724061  1.000000  0.862961 -0.329954\n",
       "valor     0.090869  0.583910  0.862961  1.000000 -0.322737\n",
       "clase     0.128706 -0.052813 -0.329954 -0.322737  1.000000"
      ],
      "text/html": "<div>\n<style scoped>\n    .dataframe tbody tr th:only-of-type {\n        vertical-align: middle;\n    }\n\n    .dataframe tbody tr th {\n        vertical-align: top;\n    }\n\n    .dataframe thead th {\n        text-align: right;\n    }\n</style>\n<table border=\"1\" class=\"dataframe\">\n  <thead>\n    <tr style=\"text-align: right;\">\n      <th></th>\n      <th>duracion</th>\n      <th>paginas</th>\n      <th>acciones</th>\n      <th>valor</th>\n      <th>clase</th>\n    </tr>\n  </thead>\n  <tbody>\n    <tr>\n      <th>duracion</th>\n      <td>1.000000</td>\n      <td>0.277550</td>\n      <td>0.163028</td>\n      <td>0.090869</td>\n      <td>0.128706</td>\n    </tr>\n    <tr>\n      <th>paginas</th>\n      <td>0.277550</td>\n      <td>1.000000</td>\n      <td>0.724061</td>\n      <td>0.583910</td>\n      <td>-0.052813</td>\n    </tr>\n    <tr>\n      <th>acciones</th>\n      <td>0.163028</td>\n      <td>0.724061</td>\n      <td>1.000000</td>\n      <td>0.862961</td>\n      <td>-0.329954</td>\n    </tr>\n    <tr>\n      <th>valor</th>\n      <td>0.090869</td>\n      <td>0.583910</td>\n      <td>0.862961</td>\n      <td>1.000000</td>\n      <td>-0.322737</td>\n    </tr>\n    <tr>\n      <th>clase</th>\n      <td>0.128706</td>\n      <td>-0.052813</td>\n      <td>-0.329954</td>\n      <td>-0.322737</td>\n      <td>1.000000</td>\n    </tr>\n  </tbody>\n</table>\n</div>"
     },
     "metadata": {},
     "execution_count": 51
    }
   ],
   "source": [
    "dataframe.corr()"
   ]
  },
  {
   "cell_type": "code",
   "execution_count": null,
   "metadata": {},
   "outputs": [],
   "source": []
  }
 ]
}
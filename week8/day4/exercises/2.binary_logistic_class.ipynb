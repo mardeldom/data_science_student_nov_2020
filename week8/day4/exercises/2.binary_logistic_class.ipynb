{
 "metadata": {
  "language_info": {
   "codemirror_mode": {
    "name": "ipython",
    "version": 3
   },
   "file_extension": ".py",
   "mimetype": "text/x-python",
   "name": "python",
   "nbconvert_exporter": "python",
   "pygments_lexer": "ipython3",
   "version": "3.9.0-final"
  },
  "orig_nbformat": 2,
  "kernelspec": {
   "name": "python3",
   "display_name": "Python 3.9.0 64-bit",
   "metadata": {
    "interpreter": {
     "hash": "2e3c1e8da6e821b0193601da5a0e541c0efda9704da45b6b820f5f4c317f2def"
    }
   }
  }
 },
 "nbformat": 4,
 "nbformat_minor": 2,
 "cells": [
  {
   "cell_type": "markdown",
   "metadata": {},
   "source": [
    "### 1. \n",
    "\n",
    "En el archivo \"logistic_regression_df_class\" hemos visto un ejemplo multiclase. Elimina del dataframe todas las filas que se correspondan con la clase valor \"1\".\n",
    "\n",
    "Ahora, realiza el ejercicio con el nuevo dataframe:\n",
    "\n",
    "- ¿Se mejora la precisión del algoritmo con dos clases? ¿por qué?\n",
    "\n",
    "LogisticRegression() es una clase que tiene varios parámetros de entrada. Investiga (modifica, prueba) los argumentos y comenta si modificando algunas de ellas se mejora el porcentaje de acierto del problema.\n",
    "\n",
    "https://scikit-learn.org/stable/modules/generated/sklearn.linear_model.LogisticRegression.html\n"
   ]
  },
  {
   "cell_type": "code",
   "execution_count": 1,
   "metadata": {},
   "outputs": [
    {
     "output_type": "execute_result",
     "data": {
      "text/plain": [
       "   duracion  paginas  acciones  valor  clase\n",
       "0       7.0        2         4      8      2\n",
       "1      21.0        2         6      6      2\n",
       "2      57.0        2         4      4      2\n",
       "3     101.0        3         6     12      2\n",
       "4     109.0        2         6     12      2"
      ],
      "text/html": "<div>\n<style scoped>\n    .dataframe tbody tr th:only-of-type {\n        vertical-align: middle;\n    }\n\n    .dataframe tbody tr th {\n        vertical-align: top;\n    }\n\n    .dataframe thead th {\n        text-align: right;\n    }\n</style>\n<table border=\"1\" class=\"dataframe\">\n  <thead>\n    <tr style=\"text-align: right;\">\n      <th></th>\n      <th>duracion</th>\n      <th>paginas</th>\n      <th>acciones</th>\n      <th>valor</th>\n      <th>clase</th>\n    </tr>\n  </thead>\n  <tbody>\n    <tr>\n      <th>0</th>\n      <td>7.0</td>\n      <td>2</td>\n      <td>4</td>\n      <td>8</td>\n      <td>2</td>\n    </tr>\n    <tr>\n      <th>1</th>\n      <td>21.0</td>\n      <td>2</td>\n      <td>6</td>\n      <td>6</td>\n      <td>2</td>\n    </tr>\n    <tr>\n      <th>2</th>\n      <td>57.0</td>\n      <td>2</td>\n      <td>4</td>\n      <td>4</td>\n      <td>2</td>\n    </tr>\n    <tr>\n      <th>3</th>\n      <td>101.0</td>\n      <td>3</td>\n      <td>6</td>\n      <td>12</td>\n      <td>2</td>\n    </tr>\n    <tr>\n      <th>4</th>\n      <td>109.0</td>\n      <td>2</td>\n      <td>6</td>\n      <td>12</td>\n      <td>2</td>\n    </tr>\n  </tbody>\n</table>\n</div>"
     },
     "metadata": {},
     "execution_count": 1
    }
   ],
   "source": [
    "import pandas as pd\n",
    "import numpy as np\n",
    "from sklearn import linear_model\n",
    "from sklearn import model_selection\n",
    "from sklearn.metrics import classification_report\n",
    "from sklearn.metrics import confusion_matrix\n",
    "from sklearn.metrics import accuracy_score\n",
    "import matplotlib.pyplot as plt\n",
    "import seaborn as sb\n",
    "%matplotlib inline\n",
    "dataframe = pd.read_csv(\"../data/usuarios_win_mac_lin.csv\")\n",
    "dataframe.head()"
   ]
  },
  {
   "cell_type": "code",
   "execution_count": 10,
   "metadata": {},
   "outputs": [
    {
     "output_type": "execute_result",
     "data": {
      "text/plain": [
       "     duracion  paginas  acciones  valor  clase\n",
       "0         7.0        2         4      8      2\n",
       "1        21.0        2         6      6      2\n",
       "2        57.0        2         4      4      2\n",
       "3       101.0        3         6     12      2\n",
       "4       109.0        2         6     12      2\n",
       "..        ...      ...       ...    ...    ...\n",
       "165      13.0        1         7     42      0\n",
       "166      12.0        1         2      6      0\n",
       "167      13.0        1         3      9      0\n",
       "168      13.0        1         7     28      0\n",
       "169      12.0        1         6     18      0\n",
       "\n",
       "[170 rows x 5 columns]"
      ],
      "text/html": "<div>\n<style scoped>\n    .dataframe tbody tr th:only-of-type {\n        vertical-align: middle;\n    }\n\n    .dataframe tbody tr th {\n        vertical-align: top;\n    }\n\n    .dataframe thead th {\n        text-align: right;\n    }\n</style>\n<table border=\"1\" class=\"dataframe\">\n  <thead>\n    <tr style=\"text-align: right;\">\n      <th></th>\n      <th>duracion</th>\n      <th>paginas</th>\n      <th>acciones</th>\n      <th>valor</th>\n      <th>clase</th>\n    </tr>\n  </thead>\n  <tbody>\n    <tr>\n      <th>0</th>\n      <td>7.0</td>\n      <td>2</td>\n      <td>4</td>\n      <td>8</td>\n      <td>2</td>\n    </tr>\n    <tr>\n      <th>1</th>\n      <td>21.0</td>\n      <td>2</td>\n      <td>6</td>\n      <td>6</td>\n      <td>2</td>\n    </tr>\n    <tr>\n      <th>2</th>\n      <td>57.0</td>\n      <td>2</td>\n      <td>4</td>\n      <td>4</td>\n      <td>2</td>\n    </tr>\n    <tr>\n      <th>3</th>\n      <td>101.0</td>\n      <td>3</td>\n      <td>6</td>\n      <td>12</td>\n      <td>2</td>\n    </tr>\n    <tr>\n      <th>4</th>\n      <td>109.0</td>\n      <td>2</td>\n      <td>6</td>\n      <td>12</td>\n      <td>2</td>\n    </tr>\n    <tr>\n      <th>...</th>\n      <td>...</td>\n      <td>...</td>\n      <td>...</td>\n      <td>...</td>\n      <td>...</td>\n    </tr>\n    <tr>\n      <th>165</th>\n      <td>13.0</td>\n      <td>1</td>\n      <td>7</td>\n      <td>42</td>\n      <td>0</td>\n    </tr>\n    <tr>\n      <th>166</th>\n      <td>12.0</td>\n      <td>1</td>\n      <td>2</td>\n      <td>6</td>\n      <td>0</td>\n    </tr>\n    <tr>\n      <th>167</th>\n      <td>13.0</td>\n      <td>1</td>\n      <td>3</td>\n      <td>9</td>\n      <td>0</td>\n    </tr>\n    <tr>\n      <th>168</th>\n      <td>13.0</td>\n      <td>1</td>\n      <td>7</td>\n      <td>28</td>\n      <td>0</td>\n    </tr>\n    <tr>\n      <th>169</th>\n      <td>12.0</td>\n      <td>1</td>\n      <td>6</td>\n      <td>18</td>\n      <td>0</td>\n    </tr>\n  </tbody>\n</table>\n<p>170 rows × 5 columns</p>\n</div>"
     },
     "metadata": {},
     "execution_count": 10
    }
   ],
   "source": [
    "clase1= dataframe.loc[dataframe[\"clase\"]== 1]\n",
    "dataframe"
   ]
  },
  {
   "cell_type": "code",
   "execution_count": 13,
   "metadata": {},
   "outputs": [
    {
     "output_type": "execute_result",
     "data": {
      "text/plain": [
       "     duracion  paginas  acciones  valor  clase\n",
       "0         7.0        2         4      8      2\n",
       "1        21.0        2         6      6      2\n",
       "2        57.0        2         4      4      2\n",
       "3       101.0        3         6     12      2\n",
       "4       109.0        2         6     12      2\n",
       "..        ...      ...       ...    ...    ...\n",
       "165      13.0        1         7     42      0\n",
       "166      12.0        1         2      6      0\n",
       "167      13.0        1         3      9      0\n",
       "168      13.0        1         7     28      0\n",
       "169      12.0        1         6     18      0\n",
       "\n",
       "[130 rows x 5 columns]"
      ],
      "text/html": "<div>\n<style scoped>\n    .dataframe tbody tr th:only-of-type {\n        vertical-align: middle;\n    }\n\n    .dataframe tbody tr th {\n        vertical-align: top;\n    }\n\n    .dataframe thead th {\n        text-align: right;\n    }\n</style>\n<table border=\"1\" class=\"dataframe\">\n  <thead>\n    <tr style=\"text-align: right;\">\n      <th></th>\n      <th>duracion</th>\n      <th>paginas</th>\n      <th>acciones</th>\n      <th>valor</th>\n      <th>clase</th>\n    </tr>\n  </thead>\n  <tbody>\n    <tr>\n      <th>0</th>\n      <td>7.0</td>\n      <td>2</td>\n      <td>4</td>\n      <td>8</td>\n      <td>2</td>\n    </tr>\n    <tr>\n      <th>1</th>\n      <td>21.0</td>\n      <td>2</td>\n      <td>6</td>\n      <td>6</td>\n      <td>2</td>\n    </tr>\n    <tr>\n      <th>2</th>\n      <td>57.0</td>\n      <td>2</td>\n      <td>4</td>\n      <td>4</td>\n      <td>2</td>\n    </tr>\n    <tr>\n      <th>3</th>\n      <td>101.0</td>\n      <td>3</td>\n      <td>6</td>\n      <td>12</td>\n      <td>2</td>\n    </tr>\n    <tr>\n      <th>4</th>\n      <td>109.0</td>\n      <td>2</td>\n      <td>6</td>\n      <td>12</td>\n      <td>2</td>\n    </tr>\n    <tr>\n      <th>...</th>\n      <td>...</td>\n      <td>...</td>\n      <td>...</td>\n      <td>...</td>\n      <td>...</td>\n    </tr>\n    <tr>\n      <th>165</th>\n      <td>13.0</td>\n      <td>1</td>\n      <td>7</td>\n      <td>42</td>\n      <td>0</td>\n    </tr>\n    <tr>\n      <th>166</th>\n      <td>12.0</td>\n      <td>1</td>\n      <td>2</td>\n      <td>6</td>\n      <td>0</td>\n    </tr>\n    <tr>\n      <th>167</th>\n      <td>13.0</td>\n      <td>1</td>\n      <td>3</td>\n      <td>9</td>\n      <td>0</td>\n    </tr>\n    <tr>\n      <th>168</th>\n      <td>13.0</td>\n      <td>1</td>\n      <td>7</td>\n      <td>28</td>\n      <td>0</td>\n    </tr>\n    <tr>\n      <th>169</th>\n      <td>12.0</td>\n      <td>1</td>\n      <td>6</td>\n      <td>18</td>\n      <td>0</td>\n    </tr>\n  </tbody>\n</table>\n<p>130 rows × 5 columns</p>\n</div>"
     },
     "metadata": {},
     "execution_count": 13
    }
   ],
   "source": [
    "df= dataframe[dataframe.clase != 1]\n",
    "df"
   ]
  },
  {
   "cell_type": "code",
   "execution_count": 49,
   "metadata": {},
   "outputs": [
    {
     "output_type": "execute_result",
     "data": {
      "text/plain": [
       "(130, 4)"
      ]
     },
     "metadata": {},
     "execution_count": 49
    }
   ],
   "source": [
    "X = np.array(df.drop(['duracion'], axis=1))\n",
    "y = np.array(df['clase'])\n",
    "X.shape"
   ]
  },
  {
   "cell_type": "code",
   "execution_count": 27,
   "metadata": {},
   "outputs": [
    {
     "output_type": "execute_result",
     "data": {
      "text/plain": [
       "array([14, 23, 29, 34, 36, 39, 40, 42, 43, 45, 47, 51, 53, 60, 61,  2, 11,\n",
       "        9, 15, 58, 62,  5,  0,  9, 14, 16, 18, 20, 22, 24, 27, 28, 30, 31,\n",
       "       32, 33, 35, 37, 38, 41, 44, 46, 48, 49, 50, 52, 54, 55, 56, 57, 59,\n",
       "        3,  4,  6,  7,  8, 10, 12, 13, 21, 25, 26,  1, 21, 25, 26,  1, 17,\n",
       "       18, 17, 18, 18, 18, 18, 17, 18, 19, 18, 18, 17, 17, 18, 18, 18, 17,\n",
       "       17, 19, 17, 18, 17, 17, 19, 18, 19, 17, 18, 19, 18, 17, 17, 17, 19,\n",
       "       17, 17, 18, 19, 19, 17, 19, 17, 17, 17, 19, 18, 18, 18, 18, 17, 18,\n",
       "       19, 17, 19, 18, 17, 19, 19, 18, 19, 19, 18], dtype=int64)"
      ]
     },
     "metadata": {},
     "execution_count": 27
    }
   ],
   "source": [
    "#No es necesario para este ejercicio, lo que se coge es la columna clase como target \n",
    "from sklearn import preprocessing\n",
    "le = preprocessing.LabelEncoder()\n",
    "duracion_encoder = le.fit_transform(y)\n",
    "duracion_encoder"
   ]
  },
  {
   "cell_type": "code",
   "execution_count": 28,
   "metadata": {},
   "outputs": [
    {
     "output_type": "execute_result",
     "data": {
      "text/plain": [
       "(130,)"
      ]
     },
     "metadata": {},
     "execution_count": 28
    }
   ],
   "source": [
    "y = np.array(duracion_encoder)\n",
    "y.shape"
   ]
  },
  {
   "cell_type": "code",
   "execution_count": 19,
   "metadata": {},
   "outputs": [
    {
     "output_type": "execute_result",
     "data": {
      "text/plain": [
       "LogisticRegression()"
      ]
     },
     "metadata": {},
     "execution_count": 19
    }
   ],
   "source": [
    "model = linear_model.LogisticRegression()\n",
    "model"
   ]
  },
  {
   "cell_type": "code",
   "execution_count": 50,
   "metadata": {},
   "outputs": [
    {
     "output_type": "execute_result",
     "data": {
      "text/plain": [
       "LogisticRegression()"
      ]
     },
     "metadata": {},
     "execution_count": 50
    }
   ],
   "source": [
    "model.fit(X,y)"
   ]
  },
  {
   "cell_type": "code",
   "execution_count": 51,
   "metadata": {},
   "outputs": [
    {
     "output_type": "execute_result",
     "data": {
      "text/plain": [
       "100.0"
      ]
     },
     "metadata": {},
     "execution_count": 51
    }
   ],
   "source": [
    "model.score(X, y)*100"
   ]
  },
  {
   "cell_type": "code",
   "execution_count": 52,
   "metadata": {},
   "outputs": [
    {
     "output_type": "stream",
     "name": "stdout",
     "text": [
      "[2 2 2 2 2 2 2 2 2 2 2 2 2 2 2 2 2 2 2 2 2 2 0 0 0 0 0 0 0 0 0 0 0 0 0 0 0\n 0 0 0 0 0 0 0 0 0 0 0 0 0 0 0 0 0 0 0 0 0 0 0 0 0 0 0 0 0 0 0 2 2 2 2 2 2\n 2 2 2 2 2 2 2 2 2 2 2 2 2 2 2 2 0 0 0 0 0 0 0 0 0 0 0 0 0 0 0 0 0 0 0 0 0\n 0 0 0 0 0 0 0 0 0 0 0 0 0 0 0 0 0 0 0]\n"
     ]
    }
   ],
   "source": [
    "predictions = model.predict(X)\n",
    "print(predictions)"
   ]
  },
  {
   "cell_type": "code",
   "execution_count": 59,
   "metadata": {},
   "outputs": [],
   "source": [
    "seed= 10\n",
    "X_train, X_test, y_train, y_test = model_selection.train_test_split(X, y, test_size=0.2, random_state=seed)"
   ]
  },
  {
   "cell_type": "code",
   "execution_count": 60,
   "metadata": {},
   "outputs": [
    {
     "output_type": "stream",
     "name": "stdout",
     "text": [
      "[1. 1. 1. 1. 1. 1. 1. 1. 1. 1.]\nLogistic Regression: 1.000000 (0.000000)\n"
     ]
    }
   ],
   "source": [
    "name='Logistic Regression'\n",
    "kfold = model_selection.KFold(n_splits=10) #Parte los datos en 10 trozos para usar validación cruzada / cross validation\n",
    "cv_results = model_selection.cross_val_score(model, X_train, y_train, cv=kfold, scoring='accuracy')\n",
    "msg = \"%s: %f (%f)\" % (name, cv_results.mean(), cv_results.std())\n",
    "print(cv_results)\n",
    "print(msg)"
   ]
  },
  {
   "cell_type": "code",
   "execution_count": 65,
   "metadata": {},
   "outputs": [
    {
     "output_type": "execute_result",
     "data": {
      "text/plain": [
       "array([0, 0, 0, 0, 0, 0, 0, 0, 0, 0, 2, 0, 0, 0, 0, 2, 2, 0, 2, 0, 2, 0,\n",
       "       0, 2, 0, 0], dtype=int64)"
      ]
     },
     "metadata": {},
     "execution_count": 65
    }
   ],
   "source": [
    "predictions= model.predict(X_test)\n",
    "predictions\n"
   ]
  },
  {
   "cell_type": "code",
   "execution_count": 62,
   "metadata": {},
   "outputs": [
    {
     "output_type": "execute_result",
     "data": {
      "text/plain": [
       "100.0"
      ]
     },
     "metadata": {},
     "execution_count": 62
    }
   ],
   "source": [
    "model.score(X_test, y_test)* 100"
   ]
  },
  {
   "cell_type": "code",
   "execution_count": 57,
   "metadata": {},
   "outputs": [
    {
     "output_type": "stream",
     "name": "stdout",
     "text": [
      "Acierto: 100.0 %\nError: 0.0 %\n"
     ]
    }
   ],
   "source": [
    "# Con dos clases hay un porcentaje del 100% de acierto. \n",
    "acierto = accuracy_score(y_test, predictions)\n",
    "error = 1 - acierto\n",
    "print(\"Acierto:\", round(acierto*100, 2), \"%\")\n",
    "print(\"Error:\", round(error*100, 2), \"%\")"
   ]
  },
  {
   "cell_type": "code",
   "execution_count": 58,
   "metadata": {},
   "outputs": [
    {
     "output_type": "stream",
     "name": "stdout",
     "text": [
      "[[23  0]\n [ 0  3]]\n"
     ]
    }
   ],
   "source": [
    "print(confusion_matrix(y_test, predictions))"
   ]
  },
  {
   "cell_type": "code",
   "execution_count": null,
   "metadata": {},
   "outputs": [],
   "source": []
  }
 ]
}
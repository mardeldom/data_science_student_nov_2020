{
 "metadata": {
  "language_info": {
   "codemirror_mode": {
    "name": "ipython",
    "version": 3
   },
   "file_extension": ".py",
   "mimetype": "text/x-python",
   "name": "python",
   "nbconvert_exporter": "python",
   "pygments_lexer": "ipython3",
   "version": "3.9.0-final"
  },
  "orig_nbformat": 2,
  "kernelspec": {
   "name": "python3",
   "display_name": "Python 3.9.0 64-bit",
   "metadata": {
    "interpreter": {
     "hash": "2e3c1e8da6e821b0193601da5a0e541c0efda9704da45b6b820f5f4c317f2def"
    }
   }
  }
 },
 "nbformat": 4,
 "nbformat_minor": 2,
 "cells": [
  {
   "cell_type": "code",
   "execution_count": 4,
   "metadata": {},
   "outputs": [],
   "source": [
    "import pandas as pd\n",
    "import numpy as np\n",
    "from sklearn.linear_model import LogisticRegression\n",
    "from sklearn.model_selection import train_test_split\n",
    "from sklearn.linear_model import LinearRegression\n",
    "from sklearn import linear_model\n",
    "from sklearn import model_selection\n",
    "from sklearn.metrics import classification_report\n",
    "from sklearn.metrics import confusion_matrix\n",
    "from sklearn.metrics import accuracy_score"
   ]
  },
  {
   "source": [
    "#Explicación Clara \n",
    "\n",
    "x/ features es lo que tenemos\n",
    "y/ target/label es lo que vamos a predecir \n",
    "\n",
    "1. Ver cuales es mi x y cual es mi y\n",
    "\n",
    "2. Lo dividimos siempre entre train test split? en el ejemplo de football como tengo pocas lineas no merece la pena dividirlo\n",
    "\n",
    "3. Cross-validation solo divide datos, no entrena modelos\n",
    "- se hace antes de entrenar el modelo \n",
    "\n",
    "evaluar los modelos \"desnudos\", sin parametros para ver cual funciona mejor \n",
    "\n",
    "kfold-- bolitas ejemplos que vimos de las bolitas\n",
    "Strifier-- si un data esta desproporcionado, intenta coger los datos de manera propocional \n",
    "repeatfafold como el kfold pero revisando lo que antes habia entrenado \n",
    "\n",
    "despues tiene las funciones de cross-val score y gridsearch que si hace fit\n"
   ],
   "cell_type": "markdown",
   "metadata": {}
  },
  {
   "cell_type": "code",
   "execution_count": null,
   "metadata": {},
   "outputs": [],
   "source": []
  },
  {
   "source": [
    "# Regresión lineal\n",
    "#Puede ser simple o múltiple"
   ],
   "cell_type": "markdown",
   "metadata": {}
  },
  {
   "source": [
    "## Fórmula\n",
    "y = a + bX\n",
    "\n",
    "b, pendiente\n",
    "b = lin_reg.coef_ \n",
    "\n",
    "a, secante\n",
    "a = lin_reg.intercept_\n"
   ],
   "cell_type": "markdown",
   "metadata": {}
  },
  {
   "source": [
    "1. Definir X e y"
   ],
   "cell_type": "markdown",
   "metadata": {}
  },
  {
   "source": [
    "### convertir vector en formato Matriz\n",
    "X = X.reshape(-1, 1)\n"
   ],
   "cell_type": "markdown",
   "metadata": {}
  },
  {
   "source": [
    "2. Dividir X_train, X_test, y_train, y_test"
   ],
   "cell_type": "markdown",
   "metadata": {}
  },
  {
   "cell_type": "code",
   "execution_count": null,
   "metadata": {},
   "outputs": [],
   "source": [
    "X_train, X_test, y_train, y_test = train_test_split(X, y, test_size=0.20)"
   ]
  },
  {
   "source": [
    "#### 3. Asignar el modelo (vacío) a una variable\n",
    "Aquí meteríais los parámetros"
   ],
   "cell_type": "markdown",
   "metadata": {}
  },
  {
   "cell_type": "code",
   "execution_count": 5,
   "metadata": {},
   "outputs": [
    {
     "output_type": "execute_result",
     "data": {
      "text/plain": [
       "LinearRegression()"
      ]
     },
     "metadata": {},
     "execution_count": 5
    }
   ],
   "source": [
    "model_lr= LinearRegression()\n",
    "model_lr"
   ]
  },
  {
   "source": [
    "4. Entrenar el modelo con X_train, y_train"
   ],
   "cell_type": "markdown",
   "metadata": {}
  },
  {
   "cell_type": "code",
   "execution_count": null,
   "metadata": {},
   "outputs": [],
   "source": [
    "model.fit(X_train, y_train)"
   ]
  },
  {
   "source": [
    "#### 5. Predecir con el modelo ya entrenado con X_test"
   ],
   "cell_type": "markdown",
   "metadata": {}
  },
  {
   "source": [
    "### transformar un numero a matriz, es necesario para predecir un numero. \n"
   ],
   "cell_type": "markdown",
   "metadata": {}
  },
  {
   "cell_type": "code",
   "execution_count": null,
   "metadata": {},
   "outputs": [],
   "source": [
    "#to_predict = np.array([number]).reshape(1, -1) "
   ]
  },
  {
   "cell_type": "code",
   "execution_count": null,
   "metadata": {},
   "outputs": [],
   "source": [
    "predictions = model.predict(X_test)\n",
    "print(predictions)"
   ]
  },
  {
   "source": [
    "#### 6. Sacar métricas, valorar el modelo "
   ],
   "cell_type": "markdown",
   "metadata": {}
  },
  {
   "cell_type": "code",
   "execution_count": null,
   "metadata": {},
   "outputs": [],
   "source": [
    "print('MAE:', metrics.mean_absolute_error(y_test, predictions))\n",
    "print('MSE:', metrics.mean_squared_error(y_test, predictions))\n",
    "print('RMSE:', np.sqrt(metrics.mean_squared_error(y_test, predictions)))"
   ]
  },
  {
   "cell_type": "code",
   "execution_count": null,
   "metadata": {},
   "outputs": [],
   "source": [
    "lm.score(X, y) * 100 "
   ]
  },
  {
   "source": [
    "### Multiple"
   ],
   "cell_type": "markdown",
   "metadata": {}
  },
  {
   "cell_type": "code",
   "execution_count": null,
   "metadata": {},
   "outputs": [],
   "source": [
    "r2=metrics.r2_score(y_true, y_pred)\n",
    "(y_true=y_test, y_pred=linear_model.predict(X_test))"
   ]
  },
  {
   "source": [
    "## Non linear Regression SVM- SVR"
   ],
   "cell_type": "markdown",
   "metadata": {}
  },
  {
   "source": [
    "SVM tiene parte de regresión(SVR) y parte de clasificación(SVC) "
   ],
   "cell_type": "markdown",
   "metadata": {}
  },
  {
   "cell_type": "code",
   "execution_count": null,
   "metadata": {},
   "outputs": [],
   "source": [
    "from sklearn.svm import SVR\n",
    "# Fit regression model\n",
    "svr_rbf = SVR(kernel='rbf', C=100, gamma=0.1, epsilon=.1)\n",
    "svr_lin = SVR(kernel='linear', C=100, gamma='auto')\n",
    "svr_poly = SVR(kernel='poly', C=100, gamma='auto', degree=3, epsilon=.1, coef0=1)"
   ]
  },
  {
   "source": [
    "## Non- Linear Regression Polynomial"
   ],
   "cell_type": "markdown",
   "metadata": {}
  },
  {
   "cell_type": "code",
   "execution_count": null,
   "metadata": {},
   "outputs": [],
   "source": [
    "from sklearn.preprocessing import PolynomialFeatures\n",
    "from sklearn.linear_model import LinearRegression\n",
    "\n",
    "#Paso nº1\n",
    "#Llamamos al polinomio, llamando primero a fit_transform para que entrene al modelo y despues se llamara a la regresion lineal\n",
    "#estamos sacando la secante y cada una de las pendientes  hasta el grado del polimonio 3\n",
    "#dregree es el parámetro\n",
    "degree = 3\n",
    "polinominal_model = PolynomialFeatures(degree) \n",
    "X_poly = polinominal_model.fit_transform(X_train, y_train)\n",
    "\n",
    "#Paso Nº2 \n",
    "#Llamamos a la regresión lineal entrenandola con la salida del fit_transform \n",
    "\n",
    "lin_reg_model = LinearRegression()\n",
    "lin_reg_model.fit(X_poly, y_train)\n",
    "y_pred = lin_reg_model.predict(X_poly)\n",
    "\n",
    "print(\"y_pred\", y_pred.shape)\n",
    "print(\"Score:\", r2_score(y_train, y_pred))"
   ]
  },
  {
   "source": [
    "## Random forest"
   ],
   "cell_type": "markdown",
   "metadata": {}
  },
  {
   "cell_type": "code",
   "execution_count": null,
   "metadata": {},
   "outputs": [],
   "source": [
    "from sklearn.ensemble import RandomForestRegressor\n",
    "# Instantiate model with 1000 decision trees\n",
    "# n_estimators: The number of trees in the forest.\n",
    "rf = RandomForestRegressor(n_estimators = 1000, random_state = 42)\n",
    "# Train the model on training data\n",
    "rf.fit(train_features, train_labels)"
   ]
  },
  {
   "source": [
    "## Clasificación \n",
    "- Regresión logística\n",
    "- Knn\n",
    "- SVM-SVC\n",
    "- Classification Trees"
   ],
   "cell_type": "markdown",
   "metadata": {}
  },
  {
   "source": [
    "1. Regresión logística"
   ],
   "cell_type": "markdown",
   "metadata": {}
  },
  {
   "cell_type": "code",
   "execution_count": 1,
   "metadata": {},
   "outputs": [],
   "source": [
    "#Es lo mismo\n",
    "from sklearn.linear_model import LogisticRegression\n",
    "model = LogisticRegression()\n",
    "from sklearn import linear_model\n",
    "model = linear_model.LogisticRegression()\n"
   ]
  },
  {
   "cell_type": "code",
   "execution_count": null,
   "metadata": {},
   "outputs": [],
   "source": [
    "predictions = model.predict(X_test)\n",
    "acierto = accuracy_score(Y_test, predictions)\n",
    "\n",
    "error = 1 - acierto\n",
    "print(\"Acierto:\", round(acierto*100, 2), \"%\")\n",
    "print(\"Error:\", round(error*100, 2), \"%\")"
   ]
  },
  {
   "source": [
    "2. Knn"
   ],
   "cell_type": "markdown",
   "metadata": {}
  },
  {
   "cell_type": "code",
   "execution_count": null,
   "metadata": {},
   "outputs": [],
   "source": [
    "from sklearn import preprocessing\n",
    "#creating labelEncoder para pasar de categórico a númerico\n",
    "le = preprocessing.LabelEncoder()\n",
    "variable = le.fit_transform(variable_a_cambiar)"
   ]
  },
  {
   "cell_type": "code",
   "execution_count": null,
   "metadata": {},
   "outputs": [],
   "source": [
    "#Import knearest neighbors Classifier model \n",
    "from sklearn.neighbors import KNeighborsClassifier\n",
    "\n",
    "#Create KNN Classifier\n",
    "#k = número que quieras dividirlo\n",
    "knn = KNeighborsClassifier(n_neighbors=k)\n",
    "\n",
    "#Train the model using the training sets\n",
    "knn.fit(X_train, y_train)\n",
    "\n",
    "#Predict the response for test dataset\n",
    "y_pred = knn.predict(X_test)"
   ]
  },
  {
   "source": [
    "3. Clasificación SVM- SVC"
   ],
   "cell_type": "markdown",
   "metadata": {}
  },
  {
   "cell_type": "code",
   "execution_count": null,
   "metadata": {},
   "outputs": [],
   "source": [
    "#'classifier__kernel':('linear', 'rbf', 'sigmoid')\n",
    "# \"rbf\" esta por defecto\n",
    "# SVM Parameters\n",
    "C = 100\n",
    "gamma = 10\n",
    "clf = svm.SVC(C=C, kernel='rbf', gamma=gamma)"
   ]
  },
  {
   "cell_type": "code",
   "execution_count": null,
   "metadata": {},
   "outputs": [],
   "source": [
    "#GridSearch con el modelo de clasificación SVC\n",
    "from sklearn import svm, datasets\n",
    "from sklearn.model_selection import GridSearchCV\n",
    "iris = datasets.load_iris()\n",
    "\n",
    "# 'kernel':('linear', 'poly', 'rbf', 'sigmoid'), \n",
    "\n",
    "parameters = {\n",
    "    'kernel':('linear', 'rbf', 'sigmoid'), \n",
    "    'C':[0.0001,0.1, 0.5, 1, 5, 10, 100], \n",
    "    'degree': [1,2,3,4,5,6,7,8,9],\n",
    "    'coef0': [-10.,-1., 0., 0.1, 0.5, 1, 10, 100],\n",
    "    'gamma': ('scale', 'auto')\n",
    "    }\n",
    "\n",
    "svc = svm.SVC()\n",
    "\n",
    "clf = GridSearchCV(estimator=svc, param_grid=parameters, n_jobs=-1, cv=10)\n",
    "clf.fit(iris.data, iris.target)\n",
    "\n",
    "print(\"clf.best_stimator_\", clf.best_estimator_)\n",
    "print(\"clf.best_params_\", clf.best_params_)\n",
    "# Mean cross-validated score of the best_estimator\n",
    "print(\"clf.best_score\", clf.best_score_)"
   ]
  },
  {
   "source": [
    "## Aplicables a Regresión y clasificación"
   ],
   "cell_type": "markdown",
   "metadata": {}
  },
  {
   "source": [
    "- Random Forest"
   ],
   "cell_type": "markdown",
   "metadata": {}
  },
  {
   "cell_type": "code",
   "execution_count": null,
   "metadata": {},
   "outputs": [],
   "source": [
    "from sklearn.ensemble import RandomForestClassifier\n",
    "model = RandomForestClassifier()#warm_start=True guardalos valores del conjunto de validación"
   ]
  },
  {
   "cell_type": "code",
   "execution_count": null,
   "metadata": {},
   "outputs": [],
   "source": [
    "from sklearn.ensemble import RandomForestRegressor\n",
    "# Instantiate model with 1000 decision trees\n",
    "# n_estimators: The number of trees in the forest.\n",
    "rf = RandomForestRegressor(n_estimators = 1000, random_state = 42)\n",
    "# Train the model on training data\n",
    "rf.fit(train_features, train_labels)"
   ]
  },
  {
   "source": [
    "- XGBoost"
   ],
   "cell_type": "markdown",
   "metadata": {}
  },
  {
   "cell_type": "code",
   "execution_count": null,
   "metadata": {},
   "outputs": [],
   "source": [
    "#Ver si es de regresion o clasificación \n",
    "from xgboost import XGBClassifier \n",
    "model = XGBClassifier() \n",
    "model.fit(X_train, y_train) \n",
    "#Make predictions for test data \n",
    "y_pred = model.predict(X_test)\n",
    "y_pred.shape"
   ]
  }
 ]
}
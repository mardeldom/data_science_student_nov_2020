{
 "metadata": {
  "language_info": {
   "codemirror_mode": {
    "name": "ipython",
    "version": 3
   },
   "file_extension": ".py",
   "mimetype": "text/x-python",
   "name": "python",
   "nbconvert_exporter": "python",
   "pygments_lexer": "ipython3",
   "version": "3.9.0-final"
  },
  "orig_nbformat": 2,
  "kernelspec": {
   "name": "python3",
   "display_name": "Python 3.9.0 64-bit",
   "metadata": {
    "interpreter": {
     "hash": "2e3c1e8da6e821b0193601da5a0e541c0efda9704da45b6b820f5f4c317f2def"
    }
   }
  }
 },
 "nbformat": 4,
 "nbformat_minor": 2,
 "cells": [
  {
   "cell_type": "markdown",
   "metadata": {},
   "source": [
    "Here's your coding interview problem for today.\n",
    "\n",
    "This problem was asked by Facebook.\n",
    "\n",
    "Given a string of round, curly, and square open and closing brackets, return whether the brackets are balanced (well-formed).\n",
    "\n",
    "For example, given the string \"([])[]({})\", you should return true.\n",
    "\n",
    "Given the string \"([)]\" or \"((()\", you should return false."
   ]
  },
  {
   "cell_type": "code",
   "execution_count": 7,
   "metadata": {},
   "outputs": [
    {
     "output_type": "stream",
     "name": "stdout",
     "text": [
      "ok\nno\nno\n"
     ]
    }
   ],
   "source": [
    "string= \"([{}])\"\n",
    "string1 = \"(){}[]\"\n",
    "string2= \"({[]})\"\n",
    "inicio= [\"(\",\"{\",\"[\"]\n",
    "final= [\"]\",\"}\",\")\"]\n",
    "mi_list = []\n",
    "elem= \"([]\"\n",
    "for e in elem:\n",
    "    if e in inicio:\n",
    "        mi_list.append(e)\n",
    "    elif e in final:\n",
    "             \n",
    "    \n",
    "    \n",
    "    else:\n",
    "      if not inicio: \n",
    "        print(False)\n",
    "        current_char = inicio.pop() \n",
    "        \"\"\"\n",
    "    \"\"\"\n",
    "    else:\n",
    "        if e in [\")\",\"}\",\"]\"]:\n",
    "            final.append(elem)\n",
    "    \n",
    "    if e==0 or e==1 or e==2:\n",
    "        print(\"inicio\")\n",
    "        print(i)\n",
    "    elif e== 3 or e==4 or e==5:\n",
    "        print(\"final\")\n",
    "        print(i)\n",
    "\n",
    "    \"\"\"\n",
    "    "
   ]
  },
  {
   "cell_type": "code",
   "execution_count": 8,
   "metadata": {},
   "outputs": [
    {
     "output_type": "execute_result",
     "data": {
      "text/plain": [
       "'['"
      ]
     },
     "metadata": {},
     "execution_count": 8
    }
   ],
   "source": [
    "inicio.pop()"
   ]
  },
  {
   "cell_type": "code",
   "execution_count": 13,
   "metadata": {},
   "outputs": [
    {
     "output_type": "error",
     "ename": "TypeError",
     "evalue": "'int' object is not iterable",
     "traceback": [
      "\u001b[1;31m---------------------------------------------------------------------------\u001b[0m",
      "\u001b[1;31mTypeError\u001b[0m                                 Traceback (most recent call last)",
      "\u001b[1;32m<ipython-input-13-64f19fa4deba>\u001b[0m in \u001b[0;36m<module>\u001b[1;34m\u001b[0m\n\u001b[1;32m----> 1\u001b[1;33m \u001b[1;32mfor\u001b[0m \u001b[0mi\u001b[0m \u001b[1;32min\u001b[0m \u001b[0mlen\u001b[0m\u001b[1;33m(\u001b[0m\u001b[0mstring2\u001b[0m\u001b[1;33m)\u001b[0m\u001b[1;33m:\u001b[0m\u001b[1;33m\u001b[0m\u001b[1;33m\u001b[0m\u001b[0m\n\u001b[0m\u001b[0;32m      2\u001b[0m     \u001b[0mprint\u001b[0m\u001b[1;33m(\u001b[0m\u001b[0mi\u001b[0m\u001b[1;33m[\u001b[0m\u001b[1;36m1\u001b[0m\u001b[1;33m]\u001b[0m\u001b[1;33m)\u001b[0m\u001b[1;33m\u001b[0m\u001b[1;33m\u001b[0m\u001b[0m\n",
      "\u001b[1;31mTypeError\u001b[0m: 'int' object is not iterable"
     ]
    }
   ],
   "source": [
    "  \n",
    "def areBracketsBalanced(expr): \n",
    "    stack = [] \n",
    "  \n",
    "    # Traversing the Expression \n",
    "    for char in expr: \n",
    "        if char in [\"(\", \"{\", \"[\"]: \n",
    "  \n",
    "            # Push the element in the stack \n",
    "            stack.append(char) \n",
    "        else: \n",
    "  \n",
    "            # IF current character is not opening \n",
    "            # bracket, then it must be closing. \n",
    "            # So stack cannot be empty at this point. \n",
    "            if not stack: \n",
    "                return False\n",
    "            current_char = stack.pop() \n",
    "            \n",
    "            if current_char == '(': \n",
    "                if char != \")\": \n",
    "                    return False\n",
    "            if current_char == '{': \n",
    "                if char != \"}\": \n",
    "                    return False\n",
    "            if current_char == '[': \n",
    "                if char != \"]\": \n",
    "                    return False\n",
    "  \n",
    "    # Check Empty Stack \n",
    "    if stack: \n",
    "        return False\n",
    "    return True"
   ]
  },
  {
   "cell_type": "code",
   "execution_count": null,
   "metadata": {},
   "outputs": [],
   "source": []
  }
 ]
}
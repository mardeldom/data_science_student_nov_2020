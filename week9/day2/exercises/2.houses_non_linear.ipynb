{
 "metadata": {
  "language_info": {
   "codemirror_mode": {
    "name": "ipython",
    "version": 3
   },
   "file_extension": ".py",
   "mimetype": "text/x-python",
   "name": "python",
   "nbconvert_exporter": "python",
   "pygments_lexer": "ipython3",
   "version": "3.9.0-final"
  },
  "orig_nbformat": 2,
  "kernelspec": {
   "name": "python3",
   "display_name": "Python 3.9.0 64-bit",
   "metadata": {
    "interpreter": {
     "hash": "2e3c1e8da6e821b0193601da5a0e541c0efda9704da45b6b820f5f4c317f2def"
    }
   }
  }
 },
 "nbformat": 4,
 "nbformat_minor": 2,
 "cells": [
  {
   "cell_type": "markdown",
   "metadata": {},
   "source": [
    "### 1. Se pide:\n",
    "\n",
    "A partir del archivo \"USA_Housing.csv\", realizar la regresión no lineal entre cada columna numérica con la columna 'price' utilizando:\n",
    "\n",
    "- Regresión polinómica no lineal con grados del 2 al 10. ¿El score se estanca a partir de cierto grado?\n",
    "- SVR"
   ]
  },
  {
   "cell_type": "code",
   "execution_count": 30,
   "metadata": {},
   "outputs": [],
   "source": [
    "from sklearn.model_selection import train_test_split\n",
    "from sklearn.preprocessing import PolynomialFeatures\n",
    "from sklearn.linear_model import LinearRegression\n",
    "from sklearn import svm\n",
    "from sklearn.svm import SVR\n",
    "import pandas as pd\n",
    "import matplotlib.pyplot as plt\n",
    "from sklearn.metrics import r2_score, mean_absolute_error\n",
    "import numpy as np"
   ]
  },
  {
   "cell_type": "code",
   "execution_count": 31,
   "metadata": {},
   "outputs": [
    {
     "output_type": "execute_result",
     "data": {
      "text/plain": [
       "      Avg. Area Income  Avg. Area House Age  Avg. Area Number of Rooms  \\\n",
       "0         79545.458574             5.682861                   7.009188   \n",
       "1         79248.642455             6.002900                   6.730821   \n",
       "2         61287.067179             5.865890                   8.512727   \n",
       "3         63345.240046             7.188236                   5.586729   \n",
       "4         59982.197226             5.040555                   7.839388   \n",
       "...                ...                  ...                        ...   \n",
       "4995      60567.944140             7.830362                   6.137356   \n",
       "4996      78491.275435             6.999135                   6.576763   \n",
       "4997      63390.686886             7.250591                   4.805081   \n",
       "4998      68001.331235             5.534388                   7.130144   \n",
       "4999      65510.581804             5.992305                   6.792336   \n",
       "\n",
       "      Avg. Area Number of Bedrooms  Area Population         Price  \\\n",
       "0                             4.09     23086.800503  1.059034e+06   \n",
       "1                             3.09     40173.072174  1.505891e+06   \n",
       "2                             5.13     36882.159400  1.058988e+06   \n",
       "3                             3.26     34310.242831  1.260617e+06   \n",
       "4                             4.23     26354.109472  6.309435e+05   \n",
       "...                            ...              ...           ...   \n",
       "4995                          3.46     22837.361035  1.060194e+06   \n",
       "4996                          4.02     25616.115489  1.482618e+06   \n",
       "4997                          2.13     33266.145490  1.030730e+06   \n",
       "4998                          5.44     42625.620156  1.198657e+06   \n",
       "4999                          4.07     46501.283803  1.298950e+06   \n",
       "\n",
       "                                                Address  \n",
       "0     208 Michael Ferry Apt. 674\\nLaurabury, NE 3701...  \n",
       "1     188 Johnson Views Suite 079\\nLake Kathleen, CA...  \n",
       "2     9127 Elizabeth Stravenue\\nDanieltown, WI 06482...  \n",
       "3                             USS Barnett\\nFPO AP 44820  \n",
       "4                            USNS Raymond\\nFPO AE 09386  \n",
       "...                                                 ...  \n",
       "4995                   USNS Williams\\nFPO AP 30153-7653  \n",
       "4996              PSC 9258, Box 8489\\nAPO AA 42991-3352  \n",
       "4997  4215 Tracy Garden Suite 076\\nJoshualand, VA 01...  \n",
       "4998                          USS Wallace\\nFPO AE 73316  \n",
       "4999  37778 George Ridges Apt. 509\\nEast Holly, NV 2...  \n",
       "\n",
       "[5000 rows x 7 columns]"
      ],
      "text/html": "<div>\n<style scoped>\n    .dataframe tbody tr th:only-of-type {\n        vertical-align: middle;\n    }\n\n    .dataframe tbody tr th {\n        vertical-align: top;\n    }\n\n    .dataframe thead th {\n        text-align: right;\n    }\n</style>\n<table border=\"1\" class=\"dataframe\">\n  <thead>\n    <tr style=\"text-align: right;\">\n      <th></th>\n      <th>Avg. Area Income</th>\n      <th>Avg. Area House Age</th>\n      <th>Avg. Area Number of Rooms</th>\n      <th>Avg. Area Number of Bedrooms</th>\n      <th>Area Population</th>\n      <th>Price</th>\n      <th>Address</th>\n    </tr>\n  </thead>\n  <tbody>\n    <tr>\n      <th>0</th>\n      <td>79545.458574</td>\n      <td>5.682861</td>\n      <td>7.009188</td>\n      <td>4.09</td>\n      <td>23086.800503</td>\n      <td>1.059034e+06</td>\n      <td>208 Michael Ferry Apt. 674\\nLaurabury, NE 3701...</td>\n    </tr>\n    <tr>\n      <th>1</th>\n      <td>79248.642455</td>\n      <td>6.002900</td>\n      <td>6.730821</td>\n      <td>3.09</td>\n      <td>40173.072174</td>\n      <td>1.505891e+06</td>\n      <td>188 Johnson Views Suite 079\\nLake Kathleen, CA...</td>\n    </tr>\n    <tr>\n      <th>2</th>\n      <td>61287.067179</td>\n      <td>5.865890</td>\n      <td>8.512727</td>\n      <td>5.13</td>\n      <td>36882.159400</td>\n      <td>1.058988e+06</td>\n      <td>9127 Elizabeth Stravenue\\nDanieltown, WI 06482...</td>\n    </tr>\n    <tr>\n      <th>3</th>\n      <td>63345.240046</td>\n      <td>7.188236</td>\n      <td>5.586729</td>\n      <td>3.26</td>\n      <td>34310.242831</td>\n      <td>1.260617e+06</td>\n      <td>USS Barnett\\nFPO AP 44820</td>\n    </tr>\n    <tr>\n      <th>4</th>\n      <td>59982.197226</td>\n      <td>5.040555</td>\n      <td>7.839388</td>\n      <td>4.23</td>\n      <td>26354.109472</td>\n      <td>6.309435e+05</td>\n      <td>USNS Raymond\\nFPO AE 09386</td>\n    </tr>\n    <tr>\n      <th>...</th>\n      <td>...</td>\n      <td>...</td>\n      <td>...</td>\n      <td>...</td>\n      <td>...</td>\n      <td>...</td>\n      <td>...</td>\n    </tr>\n    <tr>\n      <th>4995</th>\n      <td>60567.944140</td>\n      <td>7.830362</td>\n      <td>6.137356</td>\n      <td>3.46</td>\n      <td>22837.361035</td>\n      <td>1.060194e+06</td>\n      <td>USNS Williams\\nFPO AP 30153-7653</td>\n    </tr>\n    <tr>\n      <th>4996</th>\n      <td>78491.275435</td>\n      <td>6.999135</td>\n      <td>6.576763</td>\n      <td>4.02</td>\n      <td>25616.115489</td>\n      <td>1.482618e+06</td>\n      <td>PSC 9258, Box 8489\\nAPO AA 42991-3352</td>\n    </tr>\n    <tr>\n      <th>4997</th>\n      <td>63390.686886</td>\n      <td>7.250591</td>\n      <td>4.805081</td>\n      <td>2.13</td>\n      <td>33266.145490</td>\n      <td>1.030730e+06</td>\n      <td>4215 Tracy Garden Suite 076\\nJoshualand, VA 01...</td>\n    </tr>\n    <tr>\n      <th>4998</th>\n      <td>68001.331235</td>\n      <td>5.534388</td>\n      <td>7.130144</td>\n      <td>5.44</td>\n      <td>42625.620156</td>\n      <td>1.198657e+06</td>\n      <td>USS Wallace\\nFPO AE 73316</td>\n    </tr>\n    <tr>\n      <th>4999</th>\n      <td>65510.581804</td>\n      <td>5.992305</td>\n      <td>6.792336</td>\n      <td>4.07</td>\n      <td>46501.283803</td>\n      <td>1.298950e+06</td>\n      <td>37778 George Ridges Apt. 509\\nEast Holly, NV 2...</td>\n    </tr>\n  </tbody>\n</table>\n<p>5000 rows × 7 columns</p>\n</div>"
     },
     "metadata": {},
     "execution_count": 31
    }
   ],
   "source": [
    "df = pd.read_csv(\"../data/USA_Housing.csv\")\n",
    "df"
   ]
  },
  {
   "cell_type": "code",
   "execution_count": 32,
   "metadata": {},
   "outputs": [],
   "source": [
    "def model_polymonial(df,col_name, target_name):\n",
    "    X_train, X_test, y_train, y_test = train_test_split(df[col_name].values, df[target_name].values,test_size=0.2)\n",
    "    #No linear regresion Polynomial\n",
    "    degree = range(2,11)\n",
    "    scores = []\n",
    "    for d in degree:\n",
    "        print(\"#######\",\"Grado:\", d,\"#########\")\n",
    "        polinominal_model = PolynomialFeatures(d) \n",
    "        X_poly = polinominal_model.fit_transform(X_train.reshape(-1,1),y_train)\n",
    "\n",
    "        #######\n",
    "        print(X_poly.shape)\n",
    "\n",
    "        lin_reg_model = LinearRegression()\n",
    "        lin_reg_model.fit(X_poly, y_train)\n",
    "        y_pred = lin_reg_model.predict(X_poly)\n",
    "\n",
    "        print(\"y_pred\", y_pred.shape)\n",
    "        print(\"Score:\", r2_score(y_train, y_pred))\n",
    "        print(\"MAE:\", mean_absolute_error(y_true=y_train, y_pred=y_pred))\n",
    "        "
   ]
  },
  {
   "cell_type": "code",
   "execution_count": 33,
   "metadata": {},
   "outputs": [
    {
     "output_type": "stream",
     "name": "stdout",
     "text": [
      "####### Grado: 2 #########\n(4000, 3)\ny_pred (4000,)\nScore: 0.4074157434491732\nMAE: 215606.77590573556\n####### Grado: 3 #########\n(4000, 4)\ny_pred (4000,)\nScore: 0.4074549961790186\nMAE: 215637.05668479545\n####### Grado: 4 #########\n(4000, 5)\ny_pred (4000,)\nScore: 0.40751239224986247\nMAE: 215609.52492266215\n####### Grado: 5 #########\n(4000, 6)\ny_pred (4000,)\nScore: 0.4074964405948003\nMAE: 215597.75855295\n####### Grado: 6 #########\n(4000, 7)\ny_pred (4000,)\nScore: 0.4072113799588546\nMAE: 215640.64309011365\n####### Grado: 7 #########\n(4000, 8)\ny_pred (4000,)\nScore: 0.40634651566404534\nMAE: 215789.14538729482\n####### Grado: 8 #########\n(4000, 9)\ny_pred (4000,)\nScore: 0.40451663231992196\nMAE: 216086.41853351166\n####### Grado: 9 #########\n(4000, 10)\ny_pred (4000,)\nScore: 0.40136182357562156\nMAE: 216613.8744608993\n####### Grado: 10 #########\n(4000, 11)\ny_pred (4000,)\nScore: 0.3966235939364313\nMAE: 217384.71411227412\n"
     ]
    }
   ],
   "source": [
    "model_polymonial(df=df,col_name=\"Avg. Area Income\", target_name=\"Price\")\n"
   ]
  },
  {
   "cell_type": "code",
   "execution_count": 34,
   "metadata": {},
   "outputs": [
    {
     "output_type": "stream",
     "name": "stdout",
     "text": [
      "####### Grado: 2 #########\n",
      "(4000, 3)\n",
      "y_pred (4000,)\n",
      "Score: 0.21042101855874273\n",
      "MAE: 249165.89078174793\n",
      "####### Grado: 3 #########\n",
      "(4000, 4)\n",
      "y_pred (4000,)\n",
      "Score: 0.2107378603376242\n",
      "MAE: 249192.2007561278\n",
      "####### Grado: 4 #########\n",
      "(4000, 5)\n",
      "y_pred (4000,)\n",
      "Score: 0.21073810669640425\n",
      "MAE: 249191.34225391477\n",
      "####### Grado: 5 #########\n",
      "(4000, 6)\n",
      "y_pred (4000,)\n",
      "Score: 0.21109454869661004\n",
      "MAE: 249075.82261185616\n",
      "####### Grado: 6 #########\n",
      "(4000, 7)\n",
      "y_pred (4000,)\n",
      "Score: 0.21143455692798274\n",
      "MAE: 248961.49020963078\n",
      "####### Grado: 7 #########\n",
      "(4000, 8)\n",
      "y_pred (4000,)\n",
      "Score: 0.2126678736722184\n",
      "MAE: 248565.7031324641\n",
      "####### Grado: 8 #########\n",
      "(4000, 9)\n",
      "y_pred (4000,)\n",
      "Score: 0.21276894381032851\n",
      "MAE: 248553.89838115554\n",
      "####### Grado: 9 #########\n",
      "(4000, 10)\n",
      "y_pred (4000,)\n",
      "Score: 0.21342522218413273\n",
      "MAE: 248378.21630495056\n",
      "####### Grado: 10 #########\n",
      "(4000, 11)\n",
      "y_pred (4000,)\n",
      "Score: 0.21361939575327016\n",
      "MAE: 248398.00130915883\n"
     ]
    }
   ],
   "source": [
    "model_polymonial(df=df,col_name=\"Avg. Area House Age\", target_name=\"Price\")"
   ]
  },
  {
   "cell_type": "code",
   "execution_count": 35,
   "metadata": {},
   "outputs": [
    {
     "output_type": "stream",
     "name": "stdout",
     "text": [
      "####### Grado: 2 #########\n",
      "(4000, 3)\n",
      "y_pred (4000,)\n",
      "Score: 0.1196506116933087\n",
      "MAE: 263709.98926936986\n",
      "####### Grado: 3 #########\n",
      "(4000, 4)\n",
      "y_pred (4000,)\n",
      "Score: 0.11989451087676306\n",
      "MAE: 263654.4504468908\n",
      "####### Grado: 4 #########\n",
      "(4000, 5)\n",
      "y_pred (4000,)\n",
      "Score: 0.12048524277853179\n",
      "MAE: 263549.1700748651\n",
      "####### Grado: 5 #########\n",
      "(4000, 6)\n",
      "y_pred (4000,)\n",
      "Score: 0.12048525140175681\n",
      "MAE: 263549.02128853265\n",
      "####### Grado: 6 #########\n",
      "(4000, 7)\n",
      "y_pred (4000,)\n",
      "Score: 0.12064331231596137\n",
      "MAE: 263505.3302236521\n",
      "####### Grado: 7 #########\n",
      "(4000, 8)\n",
      "y_pred (4000,)\n",
      "Score: 0.12064353089394297\n",
      "MAE: 263504.71684966126\n",
      "####### Grado: 8 #########\n",
      "(4000, 9)\n",
      "y_pred (4000,)\n",
      "Score: 0.1212910588821623\n",
      "MAE: 263375.68226125464\n",
      "####### Grado: 9 #########\n",
      "(4000, 10)\n",
      "y_pred (4000,)\n",
      "Score: 0.12238784037122141\n",
      "MAE: 263147.9534597643\n",
      "####### Grado: 10 #########\n",
      "(4000, 11)\n",
      "y_pred (4000,)\n",
      "Score: 0.12248339638995509\n",
      "MAE: 263193.1233317292\n"
     ]
    }
   ],
   "source": [
    "model_polymonial(df=df,col_name=\"Avg. Area Number of Rooms\", target_name=\"Price\")\t"
   ]
  },
  {
   "cell_type": "code",
   "execution_count": 36,
   "metadata": {},
   "outputs": [
    {
     "output_type": "stream",
     "name": "stdout",
     "text": [
      "####### Grado: 2 #########\n",
      "(4000, 3)\n",
      "y_pred (4000,)\n",
      "Score: 0.02931855641522052\n",
      "MAE: 278389.5346210657\n",
      "####### Grado: 3 #########\n",
      "(4000, 4)\n",
      "y_pred (4000,)\n",
      "Score: 0.0301876860476894\n",
      "MAE: 278178.27305166307\n",
      "####### Grado: 4 #########\n",
      "(4000, 5)\n",
      "y_pred (4000,)\n",
      "Score: 0.03353636726758491\n",
      "MAE: 277593.2813604681\n",
      "####### Grado: 5 #########\n",
      "(4000, 6)\n",
      "y_pred (4000,)\n",
      "Score: 0.033641241626953144\n",
      "MAE: 277624.086757329\n",
      "####### Grado: 6 #########\n",
      "(4000, 7)\n",
      "y_pred (4000,)\n",
      "Score: 0.03650683909356722\n",
      "MAE: 277194.56504479295\n",
      "####### Grado: 7 #########\n",
      "(4000, 8)\n",
      "y_pred (4000,)\n",
      "Score: 0.03653965226073619\n",
      "MAE: 277184.2544075645\n",
      "####### Grado: 8 #########\n",
      "(4000, 9)\n",
      "y_pred (4000,)\n",
      "Score: 0.036548758969910944\n",
      "MAE: 277187.3812105882\n",
      "####### Grado: 9 #########\n",
      "(4000, 10)\n",
      "y_pred (4000,)\n",
      "Score: 0.03676060806431025\n",
      "MAE: 277127.28407356166\n",
      "####### Grado: 10 #########\n",
      "(4000, 11)\n",
      "y_pred (4000,)\n",
      "Score: 0.036814788154991285\n",
      "MAE: 277137.3913766904\n"
     ]
    }
   ],
   "source": [
    "model_polymonial(df=df,col_name=\"Avg. Area Number of Bedrooms\", target_name=\"Price\")"
   ]
  },
  {
   "cell_type": "code",
   "execution_count": 37,
   "metadata": {},
   "outputs": [
    {
     "output_type": "stream",
     "name": "stdout",
     "text": [
      "####### Grado: 2 #########\n",
      "(4000, 3)\n",
      "y_pred (4000,)\n",
      "Score: 0.16198681990620944\n",
      "MAE: 256551.65006292827\n",
      "####### Grado: 3 #########\n",
      "(4000, 4)\n",
      "y_pred (4000,)\n",
      "Score: 0.1620015400740461\n",
      "MAE: 256558.70701562602\n",
      "####### Grado: 4 #########\n",
      "(4000, 5)\n",
      "y_pred (4000,)\n",
      "Score: 0.1619646385371113\n",
      "MAE: 256547.96363163102\n",
      "####### Grado: 5 #########\n",
      "(4000, 6)\n",
      "y_pred (4000,)\n",
      "Score: 0.1611935027223932\n",
      "MAE: 256697.1081617223\n",
      "####### Grado: 6 #########\n",
      "(4000, 7)\n",
      "y_pred (4000,)\n",
      "Score: 0.15925208626265663\n",
      "MAE: 257026.74336936563\n",
      "####### Grado: 7 #########\n",
      "(4000, 8)\n",
      "y_pred (4000,)\n",
      "Score: 0.1559580339347243\n",
      "MAE: 257605.68659003676\n",
      "####### Grado: 8 #########\n",
      "(4000, 9)\n",
      "y_pred (4000,)\n",
      "Score: 0.15130869395117008\n",
      "MAE: 258365.05993714047\n",
      "####### Grado: 9 #########\n",
      "(4000, 10)\n",
      "y_pred (4000,)\n",
      "Score: 0.14544209828599286\n",
      "MAE: 259215.81850901124\n",
      "####### Grado: 10 #########\n",
      "(4000, 11)\n",
      "y_pred (4000,)\n",
      "Score: 0.1385872814179192\n",
      "MAE: 260166.8315963914\n"
     ]
    }
   ],
   "source": [
    "model_polymonial(df=df,col_name=\"Area Population\", target_name=\"Price\")\n"
   ]
  },
  {
   "source": [
    "SVR"
   ],
   "cell_type": "markdown",
   "metadata": {}
  },
  {
   "cell_type": "code",
   "execution_count": 38,
   "metadata": {},
   "outputs": [],
   "source": [
    "def svr_(df,col_name, target_name):\n",
    "    X_train, X_test, y_train, y_test = train_test_split(df[col_name].values, df[target_name].values,test_size=0.2)\n",
    "    svr_rbf = SVR(kernel='rbf', C=100, gamma=0.1, epsilon=.1)\n",
    "    svr_lin = SVR(kernel='linear', C=100, gamma='auto')\n",
    "    svr_poly = SVR(kernel='poly', C=100, gamma='auto', degree=3, epsilon=.1, coef0=1)\n",
    "    svrs = [svr_rbf, svr_lin, svr_poly]\n",
    "    i=1\n",
    "    for svr in svrs:\n",
    "        print(\"###### Model:\",i, svr, \"####\")\n",
    "        model = svr.fit(X_train.reshape(-1,1), y_train)\n",
    "        y_pred = model.predict(X_test.reshape(-1,1))\n",
    "        print(\"Score:\", r2_score(y_test.reshape(-1,1),y_pred))\n",
    "        print(\"MAE:\", mean_absolute_error(y_true=y_test, y_pred=y_pred))\n",
    "        i+=1\n"
   ]
  },
  {
   "cell_type": "code",
   "execution_count": 39,
   "metadata": {},
   "outputs": [],
   "source": [
    "X_train, X_test, y_train, y_test = train_test_split(df[\"Avg. Area Income\"].values, df[\"Price\"].values,test_size=0.2)\n",
    "svr_poly = SVR(kernel='poly', C=100, gamma='auto', degree=3, epsilon=.1, coef0=1)\n",
    "model = svr_poly.fit(X_train.reshape(-1,1), y_train)\n",
    "y_pred = model.predict(X_test.reshape(-1,1))"
   ]
  },
  {
   "cell_type": "code",
   "execution_count": null,
   "metadata": {},
   "outputs": [],
   "source": [
    "model.score(y_test.reshape(-1,1),y_pred)"
   ]
  },
  {
   "cell_type": "code",
   "execution_count": 7,
   "metadata": {},
   "outputs": [
    {
     "output_type": "stream",
     "name": "stdout",
     "text": [
      "###### Model: 1 SVR(C=100, gamma=0.1) ####\n",
      "Score: -0.0004503470291010725\n",
      "MAE: 281737.15255353024\n",
      "###### Model: 2 SVR(C=100, gamma='auto', kernel='linear') ####\n",
      "Score: 0.3873650013386457\n",
      "MAE: 221511.3239689044\n"
     ]
    }
   ],
   "source": [
    "svr_(df=df,col_name=\"Avg. Area Income\", target_name=\"Price\")"
   ]
  },
  {
   "cell_type": "code",
   "execution_count": 8,
   "metadata": {},
   "outputs": [
    {
     "output_type": "stream",
     "name": "stdout",
     "text": [
      "###### Model: 1 SVR(C=100, gamma=0.1) ####\n",
      "Score: 0.03757091238549004\n",
      "MAE: 282478.4120324138\n",
      "###### Model: 2 SVR(C=100, gamma='auto', kernel='linear') ####\n",
      "Score: 0.14843222496625275\n",
      "MAE: 265131.22353847255\n"
     ]
    }
   ],
   "source": [
    "svr_(df=df,col_name=\"Avg. Area House Age\", target_name=\"Price\")"
   ]
  },
  {
   "cell_type": "code",
   "execution_count": null,
   "metadata": {},
   "outputs": [],
   "source": [
    "svr_(df=df,col_name=\"Avg. Area Number of Rooms\", target_name=\"Price\")\t"
   ]
  },
  {
   "cell_type": "code",
   "execution_count": null,
   "metadata": {},
   "outputs": [],
   "source": [
    "svr_(df=df,col_name=\"Avg. Area Number of Bedrooms\", target_name=\"Price\")"
   ]
  },
  {
   "cell_type": "code",
   "execution_count": null,
   "metadata": {},
   "outputs": [],
   "source": [
    "svr_(df=df,col_name=\"Area Population\", target_name=\"Price\")"
   ]
  },
  {
   "cell_type": "markdown",
   "metadata": {},
   "source": [
    "### 2. Se pide:\n",
    "\n",
    "En el anterior dataset, la columna \"Avg. Area Number of Bedrooms\" está en un rango numérico limitado:\n",
    "\n",
    "1. Cambia todos los datos para que sean enteros redondeando hacia el entero más cercano. Si es .5 exacto, se redondea hacia abajo.\n",
    "\n",
    "2. Cuando lo hayas hecho, tendrás una columna con números enteros en un rango limitado. Ahora trata a esa columna como una serie de valores discretos (classes, labels). \n",
    "\n",
    "3. Usando las demás columnas numéricas y una a una, utiliza SVM (SVC) para clasificar esa columna modificada.\n",
    "\n",
    "4. Usando todas las demás columnas a la vez, utiliza SVM para clasificar esa columna modificada. Es decir, \"Avg. Area Income\" con nuestro target, después \"Avg. Area House Age\", ... ¿hace aumentar el score? ¿por qué? \n",
    "\n",
    "5. ¿Qué columna tiene mejor correlación con \"Avg. Area Number of Bedrooms\" una vez modificada? ¿qué columna da mejor score para nuestro target? \n",
    "\n",
    "-------------------------- \n",
    "\n",
    "ACLARACIÓN del apartado 2 del ejercicio 2:\n",
    "\n",
    "- El punto 3, se espera que tu X sea una sola columna e y también, 'Avg. Area Number of Bedrooms'.\n",
    "\n",
    "- El punto 4, espera que tu X sean todas las columnas que cumplen con las características especificadas e y la columna 'Avg. Area Number of Bedrooms'"
   ]
  },
  {
   "cell_type": "code",
   "execution_count": 19,
   "metadata": {},
   "outputs": [
    {
     "output_type": "stream",
     "name": "stdout",
     "text": [
      "Score train: 0.99925\n",
      "Score predict: -0.47165845675135065\n",
      "MAE: 1.108\n"
     ]
    }
   ],
   "source": [
    "def svc_(df,col_name, target_name):\n",
    "    df[target_name]= round(df[target_name])\n",
    "    X_train, X_test, y_train, y_test = train_test_split(df[col_name].values, df[target_name].values,test_size=0.2)\n",
    "    model = svm.SVC(C=100, kernel='rbf', gamma=10)\n",
    "    train= model.fit(X_train.reshape(-1,1), y_train)\n",
    "    print('Score train:', model.score(X_train.reshape(-1,1), y_train))\n",
    "    y_pred = model.predict(X_test.reshape(-1,1))\n",
    "    print(\"Score predict:\", r2_score(y_test,y_pred))\n",
    "    print(\"MAE:\", mean_absolute_error(y_true=y_test, y_pred=y_pred))\n"
   ]
  },
  {
   "cell_type": "code",
   "execution_count": null,
   "metadata": {},
   "outputs": [],
   "source": [
    "svc_(df=df, col_name=\"Avg. Area Income\",target_name=\"Avg. Area Number of Bedrooms\") "
   ]
  },
  {
   "cell_type": "code",
   "execution_count": 21,
   "metadata": {},
   "outputs": [
    {
     "output_type": "stream",
     "name": "stdout",
     "text": [
      "Score train: 0.3325\n",
      "Score predict: -0.2595412865613218\n",
      "MAE: 1.068\n"
     ]
    }
   ],
   "source": [
    "svc_(df=df, col_name=\"Avg. Area House Age\",target_name=\"Avg. Area Number of Bedrooms\") "
   ]
  },
  {
   "cell_type": "code",
   "execution_count": 22,
   "metadata": {},
   "outputs": [
    {
     "output_type": "stream",
     "name": "stdout",
     "text": [
      "Score train: 0.33725\n",
      "Score predict: -0.4052448080825526\n",
      "MAE: 1.107\n"
     ]
    }
   ],
   "source": [
    "svc_(df=df, col_name=\"Avg. Area Number of Rooms\",target_name=\"Avg. Area Number of Bedrooms\") "
   ]
  },
  {
   "cell_type": "code",
   "execution_count": 23,
   "metadata": {},
   "outputs": [
    {
     "output_type": "stream",
     "name": "stdout",
     "text": [
      "Score train: 0.99775\n",
      "Score predict: -0.1284661775778848\n",
      "MAE: 1.026\n"
     ]
    }
   ],
   "source": [
    "svc_(df=df, col_name=\"Area Population\",target_name=\"Avg. Area Number of Bedrooms\") "
   ]
  },
  {
   "cell_type": "code",
   "execution_count": 24,
   "metadata": {},
   "outputs": [
    {
     "output_type": "stream",
     "name": "stdout",
     "text": [
      "Score train: 1.0\n",
      "Score predict: -0.07231833249894248\n",
      "MAE: 1.018\n"
     ]
    }
   ],
   "source": [
    "svc_(df=df, col_name=\"Price\",target_name=\"Avg. Area Number of Bedrooms\") "
   ]
  },
  {
   "cell_type": "code",
   "execution_count": 28,
   "metadata": {},
   "outputs": [],
   "source": [
    "def svc_(df,col_name, target_name):\n",
    "    df[target_name]= round(df[target_name])\n",
    "    X_train, X_test, y_train, y_test = train_test_split(df[col_name], df[target_name].values,test_size=0.2)\n",
    "    model = svm.SVC(C=100, kernel='rbf', gamma=10)\n",
    "    train= model.fit(X_train, y_train)\n",
    "    print('Score train:', model.score(X_train, y_train))\n",
    "    y_pred = model.predict(X_test)\n",
    "    print(\"Score predict:\", r2_score(y_test,y_pred))\n",
    "    print(\"MAE:\", mean_absolute_error(y_true=y_test, y_pred=y_pred))"
   ]
  },
  {
   "cell_type": "code",
   "execution_count": 29,
   "metadata": {},
   "outputs": [
    {
     "output_type": "stream",
     "name": "stdout",
     "text": [
      "Score train: 1.0\n",
      "Score predict: -0.4377542014407825\n",
      "MAE: 1.153\n"
     ]
    }
   ],
   "source": [
    "svc_(df=df, col_name= [\"Price\",\"Avg. Area Number of Rooms\",\"Avg. Area House Age\",\"Avg. Area Income\",\"Area Population\"],target_name=\"Avg. Area Number of Bedrooms\") "
   ]
  },
  {
   "cell_type": "code",
   "execution_count": null,
   "metadata": {},
   "outputs": [],
   "source": [
    "1+1"
   ]
  }
 ]
}
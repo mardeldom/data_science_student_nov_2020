{
 "metadata": {
  "language_info": {
   "codemirror_mode": {
    "name": "ipython",
    "version": 3
   },
   "file_extension": ".py",
   "mimetype": "text/x-python",
   "name": "python",
   "nbconvert_exporter": "python",
   "pygments_lexer": "ipython3",
   "version": "3.9.0-final"
  },
  "orig_nbformat": 2,
  "kernelspec": {
   "name": "python3",
   "display_name": "Python 3.9.0 64-bit",
   "metadata": {
    "interpreter": {
     "hash": "2e3c1e8da6e821b0193601da5a0e541c0efda9704da45b6b820f5f4c317f2def"
    }
   }
  }
 },
 "nbformat": 4,
 "nbformat_minor": 2,
 "cells": [
  {
   "cell_type": "markdown",
   "metadata": {},
   "source": [
    "A partir del archivo food_100, se pide:\n",
    "\n",
    "1. Limpiar el archivo borrando las columnas Unnamed.\n",
    "2. ¿Qué porcentaje de valores NaN hay en cada columna?\n",
    "3. ¿Tendría algún sentido clasificar el nombre de los alimentos a partir del top5 de columnas numéricas con menos valores NaN?"
   ]
  },
  {
   "cell_type": "code",
   "execution_count": 12,
   "metadata": {},
   "outputs": [],
   "source": [
    "from sklearn import preprocessing\n",
    "from sklearn.linear_model import LogisticRegression\n",
    "from sklearn.model_selection import train_test_split"
   ]
  },
  {
   "cell_type": "code",
   "execution_count": 1,
   "metadata": {},
   "outputs": [
    {
     "output_type": "execute_result",
     "data": {
      "text/plain": [
       "    Unnamed: 0   code                                                url  \\\n",
       "0            0   3087  http://world-en.openfoodfacts.org/product/0000...   \n",
       "1            1   4530  http://world-en.openfoodfacts.org/product/0000...   \n",
       "2            2   4559  http://world-en.openfoodfacts.org/product/0000...   \n",
       "3            3  16087  http://world-en.openfoodfacts.org/product/0000...   \n",
       "4            4  16094  http://world-en.openfoodfacts.org/product/0000...   \n",
       "..         ...    ...                                                ...   \n",
       "95          95  34715  http://world-en.openfoodfacts.org/product/0000...   \n",
       "96          96  34784  http://world-en.openfoodfacts.org/product/0000...   \n",
       "97          97  34791  http://world-en.openfoodfacts.org/product/0000...   \n",
       "98          98  35071  http://world-en.openfoodfacts.org/product/0000...   \n",
       "99          99  35170  http://world-en.openfoodfacts.org/product/0000...   \n",
       "\n",
       "                       creator   created_t      created_datetime  \\\n",
       "0   openfoodfacts-contributors  1474103866  2016-09-17T09:17:46Z   \n",
       "1              usda-ndb-import  1489069957  2017-03-09T14:32:37Z   \n",
       "2              usda-ndb-import  1489069957  2017-03-09T14:32:37Z   \n",
       "3              usda-ndb-import  1489055731  2017-03-09T10:35:31Z   \n",
       "4              usda-ndb-import  1489055653  2017-03-09T10:34:13Z   \n",
       "..                         ...         ...                   ...   \n",
       "95             usda-ndb-import  1489055715  2017-03-09T10:35:15Z   \n",
       "96             usda-ndb-import  1489138485  2017-03-10T09:34:45Z   \n",
       "97             usda-ndb-import  1489055720  2017-03-09T10:35:20Z   \n",
       "98             usda-ndb-import  1489138484  2017-03-10T09:34:44Z   \n",
       "99             usda-ndb-import  1489138488  2017-03-10T09:34:48Z   \n",
       "\n",
       "    last_modified_t last_modified_datetime                    product_name  \\\n",
       "0        1474103893   2016-09-17T09:18:13Z              Farine de blé noir   \n",
       "1        1489069957   2017-03-09T14:32:37Z  Banana Chips Sweetened (Whole)   \n",
       "2        1489069957   2017-03-09T14:32:37Z                         Peanuts   \n",
       "3        1489055731   2017-03-09T10:35:31Z          Organic Salted Nut Mix   \n",
       "4        1489055653   2017-03-09T10:34:13Z                 Organic Polenta   \n",
       "..              ...                    ...                             ...   \n",
       "95       1489055715   2017-03-09T10:35:15Z            Organic Pecan Halves   \n",
       "96       1489138485   2017-03-10T09:34:45Z    Unsalted Dry Roasted Almonds   \n",
       "97       1489055720   2017-03-09T10:35:20Z       Organic Raw Pumpkin Seeds   \n",
       "98       1489138484   2017-03-10T09:34:44Z  Organic Extra Virgin Olive Oil   \n",
       "99       1489138488   2017-03-10T09:34:48Z                   Liquid Aminos   \n",
       "\n",
       "    generic_name  ... fruits-vegetables-nuts_100g  \\\n",
       "0            NaN  ...                         NaN   \n",
       "1            NaN  ...                         NaN   \n",
       "2            NaN  ...                         NaN   \n",
       "3            NaN  ...                         NaN   \n",
       "4            NaN  ...                         NaN   \n",
       "..           ...  ...                         ...   \n",
       "95           NaN  ...                         NaN   \n",
       "96           NaN  ...                         NaN   \n",
       "97           NaN  ...                         NaN   \n",
       "98           NaN  ...                         NaN   \n",
       "99           NaN  ...                         NaN   \n",
       "\n",
       "   fruits-vegetables-nuts-estimate_100g collagen-meat-protein-ratio_100g  \\\n",
       "0                                   NaN                              NaN   \n",
       "1                                   NaN                              NaN   \n",
       "2                                   NaN                              NaN   \n",
       "3                                   NaN                              NaN   \n",
       "4                                   NaN                              NaN   \n",
       "..                                  ...                              ...   \n",
       "95                                  NaN                              NaN   \n",
       "96                                  NaN                              NaN   \n",
       "97                                  NaN                              NaN   \n",
       "98                                  NaN                              NaN   \n",
       "99                                  NaN                              NaN   \n",
       "\n",
       "   cocoa_100g chlorophyl_100g carbon-footprint_100g nutrition-score-fr_100g  \\\n",
       "0         NaN             NaN                   NaN                     NaN   \n",
       "1         NaN             NaN                   NaN                    14.0   \n",
       "2         NaN             NaN                   NaN                     0.0   \n",
       "3         NaN             NaN                   NaN                    12.0   \n",
       "4         NaN             NaN                   NaN                     NaN   \n",
       "..        ...             ...                   ...                     ...   \n",
       "95        NaN             NaN                   NaN                     NaN   \n",
       "96        NaN             NaN                   NaN                     NaN   \n",
       "97        NaN             NaN                   NaN                    12.0   \n",
       "98        NaN             NaN                   NaN                     NaN   \n",
       "99        NaN             NaN                   NaN                     NaN   \n",
       "\n",
       "   nutrition-score-uk_100g  glycemic-index_100g  water-hardness_100g  \n",
       "0                      NaN                  NaN                  NaN  \n",
       "1                     14.0                  NaN                  NaN  \n",
       "2                      0.0                  NaN                  NaN  \n",
       "3                     12.0                  NaN                  NaN  \n",
       "4                      NaN                  NaN                  NaN  \n",
       "..                     ...                  ...                  ...  \n",
       "95                     NaN                  NaN                  NaN  \n",
       "96                     NaN                  NaN                  NaN  \n",
       "97                    12.0                  NaN                  NaN  \n",
       "98                     NaN                  NaN                  NaN  \n",
       "99                     NaN                  NaN                  NaN  \n",
       "\n",
       "[100 rows x 164 columns]"
      ],
      "text/html": "<div>\n<style scoped>\n    .dataframe tbody tr th:only-of-type {\n        vertical-align: middle;\n    }\n\n    .dataframe tbody tr th {\n        vertical-align: top;\n    }\n\n    .dataframe thead th {\n        text-align: right;\n    }\n</style>\n<table border=\"1\" class=\"dataframe\">\n  <thead>\n    <tr style=\"text-align: right;\">\n      <th></th>\n      <th>Unnamed: 0</th>\n      <th>code</th>\n      <th>url</th>\n      <th>creator</th>\n      <th>created_t</th>\n      <th>created_datetime</th>\n      <th>last_modified_t</th>\n      <th>last_modified_datetime</th>\n      <th>product_name</th>\n      <th>generic_name</th>\n      <th>...</th>\n      <th>fruits-vegetables-nuts_100g</th>\n      <th>fruits-vegetables-nuts-estimate_100g</th>\n      <th>collagen-meat-protein-ratio_100g</th>\n      <th>cocoa_100g</th>\n      <th>chlorophyl_100g</th>\n      <th>carbon-footprint_100g</th>\n      <th>nutrition-score-fr_100g</th>\n      <th>nutrition-score-uk_100g</th>\n      <th>glycemic-index_100g</th>\n      <th>water-hardness_100g</th>\n    </tr>\n  </thead>\n  <tbody>\n    <tr>\n      <th>0</th>\n      <td>0</td>\n      <td>3087</td>\n      <td>http://world-en.openfoodfacts.org/product/0000...</td>\n      <td>openfoodfacts-contributors</td>\n      <td>1474103866</td>\n      <td>2016-09-17T09:17:46Z</td>\n      <td>1474103893</td>\n      <td>2016-09-17T09:18:13Z</td>\n      <td>Farine de blé noir</td>\n      <td>NaN</td>\n      <td>...</td>\n      <td>NaN</td>\n      <td>NaN</td>\n      <td>NaN</td>\n      <td>NaN</td>\n      <td>NaN</td>\n      <td>NaN</td>\n      <td>NaN</td>\n      <td>NaN</td>\n      <td>NaN</td>\n      <td>NaN</td>\n    </tr>\n    <tr>\n      <th>1</th>\n      <td>1</td>\n      <td>4530</td>\n      <td>http://world-en.openfoodfacts.org/product/0000...</td>\n      <td>usda-ndb-import</td>\n      <td>1489069957</td>\n      <td>2017-03-09T14:32:37Z</td>\n      <td>1489069957</td>\n      <td>2017-03-09T14:32:37Z</td>\n      <td>Banana Chips Sweetened (Whole)</td>\n      <td>NaN</td>\n      <td>...</td>\n      <td>NaN</td>\n      <td>NaN</td>\n      <td>NaN</td>\n      <td>NaN</td>\n      <td>NaN</td>\n      <td>NaN</td>\n      <td>14.0</td>\n      <td>14.0</td>\n      <td>NaN</td>\n      <td>NaN</td>\n    </tr>\n    <tr>\n      <th>2</th>\n      <td>2</td>\n      <td>4559</td>\n      <td>http://world-en.openfoodfacts.org/product/0000...</td>\n      <td>usda-ndb-import</td>\n      <td>1489069957</td>\n      <td>2017-03-09T14:32:37Z</td>\n      <td>1489069957</td>\n      <td>2017-03-09T14:32:37Z</td>\n      <td>Peanuts</td>\n      <td>NaN</td>\n      <td>...</td>\n      <td>NaN</td>\n      <td>NaN</td>\n      <td>NaN</td>\n      <td>NaN</td>\n      <td>NaN</td>\n      <td>NaN</td>\n      <td>0.0</td>\n      <td>0.0</td>\n      <td>NaN</td>\n      <td>NaN</td>\n    </tr>\n    <tr>\n      <th>3</th>\n      <td>3</td>\n      <td>16087</td>\n      <td>http://world-en.openfoodfacts.org/product/0000...</td>\n      <td>usda-ndb-import</td>\n      <td>1489055731</td>\n      <td>2017-03-09T10:35:31Z</td>\n      <td>1489055731</td>\n      <td>2017-03-09T10:35:31Z</td>\n      <td>Organic Salted Nut Mix</td>\n      <td>NaN</td>\n      <td>...</td>\n      <td>NaN</td>\n      <td>NaN</td>\n      <td>NaN</td>\n      <td>NaN</td>\n      <td>NaN</td>\n      <td>NaN</td>\n      <td>12.0</td>\n      <td>12.0</td>\n      <td>NaN</td>\n      <td>NaN</td>\n    </tr>\n    <tr>\n      <th>4</th>\n      <td>4</td>\n      <td>16094</td>\n      <td>http://world-en.openfoodfacts.org/product/0000...</td>\n      <td>usda-ndb-import</td>\n      <td>1489055653</td>\n      <td>2017-03-09T10:34:13Z</td>\n      <td>1489055653</td>\n      <td>2017-03-09T10:34:13Z</td>\n      <td>Organic Polenta</td>\n      <td>NaN</td>\n      <td>...</td>\n      <td>NaN</td>\n      <td>NaN</td>\n      <td>NaN</td>\n      <td>NaN</td>\n      <td>NaN</td>\n      <td>NaN</td>\n      <td>NaN</td>\n      <td>NaN</td>\n      <td>NaN</td>\n      <td>NaN</td>\n    </tr>\n    <tr>\n      <th>...</th>\n      <td>...</td>\n      <td>...</td>\n      <td>...</td>\n      <td>...</td>\n      <td>...</td>\n      <td>...</td>\n      <td>...</td>\n      <td>...</td>\n      <td>...</td>\n      <td>...</td>\n      <td>...</td>\n      <td>...</td>\n      <td>...</td>\n      <td>...</td>\n      <td>...</td>\n      <td>...</td>\n      <td>...</td>\n      <td>...</td>\n      <td>...</td>\n      <td>...</td>\n      <td>...</td>\n    </tr>\n    <tr>\n      <th>95</th>\n      <td>95</td>\n      <td>34715</td>\n      <td>http://world-en.openfoodfacts.org/product/0000...</td>\n      <td>usda-ndb-import</td>\n      <td>1489055715</td>\n      <td>2017-03-09T10:35:15Z</td>\n      <td>1489055715</td>\n      <td>2017-03-09T10:35:15Z</td>\n      <td>Organic Pecan Halves</td>\n      <td>NaN</td>\n      <td>...</td>\n      <td>NaN</td>\n      <td>NaN</td>\n      <td>NaN</td>\n      <td>NaN</td>\n      <td>NaN</td>\n      <td>NaN</td>\n      <td>NaN</td>\n      <td>NaN</td>\n      <td>NaN</td>\n      <td>NaN</td>\n    </tr>\n    <tr>\n      <th>96</th>\n      <td>96</td>\n      <td>34784</td>\n      <td>http://world-en.openfoodfacts.org/product/0000...</td>\n      <td>usda-ndb-import</td>\n      <td>1489138485</td>\n      <td>2017-03-10T09:34:45Z</td>\n      <td>1489138485</td>\n      <td>2017-03-10T09:34:45Z</td>\n      <td>Unsalted Dry Roasted Almonds</td>\n      <td>NaN</td>\n      <td>...</td>\n      <td>NaN</td>\n      <td>NaN</td>\n      <td>NaN</td>\n      <td>NaN</td>\n      <td>NaN</td>\n      <td>NaN</td>\n      <td>NaN</td>\n      <td>NaN</td>\n      <td>NaN</td>\n      <td>NaN</td>\n    </tr>\n    <tr>\n      <th>97</th>\n      <td>97</td>\n      <td>34791</td>\n      <td>http://world-en.openfoodfacts.org/product/0000...</td>\n      <td>usda-ndb-import</td>\n      <td>1489055720</td>\n      <td>2017-03-09T10:35:20Z</td>\n      <td>1489055720</td>\n      <td>2017-03-09T10:35:20Z</td>\n      <td>Organic Raw Pumpkin Seeds</td>\n      <td>NaN</td>\n      <td>...</td>\n      <td>NaN</td>\n      <td>NaN</td>\n      <td>NaN</td>\n      <td>NaN</td>\n      <td>NaN</td>\n      <td>NaN</td>\n      <td>12.0</td>\n      <td>12.0</td>\n      <td>NaN</td>\n      <td>NaN</td>\n    </tr>\n    <tr>\n      <th>98</th>\n      <td>98</td>\n      <td>35071</td>\n      <td>http://world-en.openfoodfacts.org/product/0000...</td>\n      <td>usda-ndb-import</td>\n      <td>1489138484</td>\n      <td>2017-03-10T09:34:44Z</td>\n      <td>1489138484</td>\n      <td>2017-03-10T09:34:44Z</td>\n      <td>Organic Extra Virgin Olive Oil</td>\n      <td>NaN</td>\n      <td>...</td>\n      <td>NaN</td>\n      <td>NaN</td>\n      <td>NaN</td>\n      <td>NaN</td>\n      <td>NaN</td>\n      <td>NaN</td>\n      <td>NaN</td>\n      <td>NaN</td>\n      <td>NaN</td>\n      <td>NaN</td>\n    </tr>\n    <tr>\n      <th>99</th>\n      <td>99</td>\n      <td>35170</td>\n      <td>http://world-en.openfoodfacts.org/product/0000...</td>\n      <td>usda-ndb-import</td>\n      <td>1489138488</td>\n      <td>2017-03-10T09:34:48Z</td>\n      <td>1489138488</td>\n      <td>2017-03-10T09:34:48Z</td>\n      <td>Liquid Aminos</td>\n      <td>NaN</td>\n      <td>...</td>\n      <td>NaN</td>\n      <td>NaN</td>\n      <td>NaN</td>\n      <td>NaN</td>\n      <td>NaN</td>\n      <td>NaN</td>\n      <td>NaN</td>\n      <td>NaN</td>\n      <td>NaN</td>\n      <td>NaN</td>\n    </tr>\n  </tbody>\n</table>\n<p>100 rows × 164 columns</p>\n</div>"
     },
     "metadata": {},
     "execution_count": 1
    }
   ],
   "source": [
    "import pandas as pd\n",
    "df = pd.read_csv(\"../data/food_100.csv\")\n",
    "df"
   ]
  },
  {
   "cell_type": "code",
   "execution_count": 4,
   "metadata": {},
   "outputs": [
    {
     "output_type": "execute_result",
     "data": {
      "text/plain": [
       "                         Unnamed: 0      code  created_t  last_modified_t  \\\n",
       "Unnamed: 0                 1.000000  0.937375   0.045576         0.045578   \n",
       "code                       0.937375  1.000000   0.048606         0.048609   \n",
       "created_t                  0.045576  0.048606   1.000000         1.000000   \n",
       "last_modified_t            0.045578  0.048609   1.000000         1.000000   \n",
       "generic_name                    NaN       NaN        NaN              NaN   \n",
       "...                             ...       ...        ...              ...   \n",
       "carbon-footprint_100g           NaN       NaN        NaN              NaN   \n",
       "nutrition-score-fr_100g    0.176240  0.108270  -0.016720        -0.016719   \n",
       "nutrition-score-uk_100g    0.176240  0.108270  -0.016720        -0.016719   \n",
       "glycemic-index_100g             NaN       NaN        NaN              NaN   \n",
       "water-hardness_100g             NaN       NaN        NaN              NaN   \n",
       "\n",
       "                         generic_name  origins  origins_tags  \\\n",
       "Unnamed: 0                        NaN      NaN           NaN   \n",
       "code                              NaN      NaN           NaN   \n",
       "created_t                         NaN      NaN           NaN   \n",
       "last_modified_t                   NaN      NaN           NaN   \n",
       "generic_name                      NaN      NaN           NaN   \n",
       "...                               ...      ...           ...   \n",
       "carbon-footprint_100g             NaN      NaN           NaN   \n",
       "nutrition-score-fr_100g           NaN      NaN           NaN   \n",
       "nutrition-score-uk_100g           NaN      NaN           NaN   \n",
       "glycemic-index_100g               NaN      NaN           NaN   \n",
       "water-hardness_100g               NaN      NaN           NaN   \n",
       "\n",
       "                         manufacturing_places  manufacturing_places_tags  \\\n",
       "Unnamed: 0                                NaN                        NaN   \n",
       "code                                      NaN                        NaN   \n",
       "created_t                                 NaN                        NaN   \n",
       "last_modified_t                           NaN                        NaN   \n",
       "generic_name                              NaN                        NaN   \n",
       "...                                       ...                        ...   \n",
       "carbon-footprint_100g                     NaN                        NaN   \n",
       "nutrition-score-fr_100g                   NaN                        NaN   \n",
       "nutrition-score-uk_100g                   NaN                        NaN   \n",
       "glycemic-index_100g                       NaN                        NaN   \n",
       "water-hardness_100g                       NaN                        NaN   \n",
       "\n",
       "                         labels  ...  fruits-vegetables-nuts_100g  \\\n",
       "Unnamed: 0                  NaN  ...                          NaN   \n",
       "code                        NaN  ...                          NaN   \n",
       "created_t                   NaN  ...                          NaN   \n",
       "last_modified_t             NaN  ...                          NaN   \n",
       "generic_name                NaN  ...                          NaN   \n",
       "...                         ...  ...                          ...   \n",
       "carbon-footprint_100g       NaN  ...                          NaN   \n",
       "nutrition-score-fr_100g     NaN  ...                          NaN   \n",
       "nutrition-score-uk_100g     NaN  ...                          NaN   \n",
       "glycemic-index_100g         NaN  ...                          NaN   \n",
       "water-hardness_100g         NaN  ...                          NaN   \n",
       "\n",
       "                         fruits-vegetables-nuts-estimate_100g  \\\n",
       "Unnamed: 0                                                NaN   \n",
       "code                                                      NaN   \n",
       "created_t                                                 NaN   \n",
       "last_modified_t                                           NaN   \n",
       "generic_name                                              NaN   \n",
       "...                                                       ...   \n",
       "carbon-footprint_100g                                     NaN   \n",
       "nutrition-score-fr_100g                                   NaN   \n",
       "nutrition-score-uk_100g                                   NaN   \n",
       "glycemic-index_100g                                       NaN   \n",
       "water-hardness_100g                                       NaN   \n",
       "\n",
       "                         collagen-meat-protein-ratio_100g  cocoa_100g  \\\n",
       "Unnamed: 0                                            NaN         NaN   \n",
       "code                                                  NaN         NaN   \n",
       "created_t                                             NaN         NaN   \n",
       "last_modified_t                                       NaN         NaN   \n",
       "generic_name                                          NaN         NaN   \n",
       "...                                                   ...         ...   \n",
       "carbon-footprint_100g                                 NaN         NaN   \n",
       "nutrition-score-fr_100g                               NaN         NaN   \n",
       "nutrition-score-uk_100g                               NaN         NaN   \n",
       "glycemic-index_100g                                   NaN         NaN   \n",
       "water-hardness_100g                                   NaN         NaN   \n",
       "\n",
       "                         chlorophyl_100g  carbon-footprint_100g  \\\n",
       "Unnamed: 0                           NaN                    NaN   \n",
       "code                                 NaN                    NaN   \n",
       "created_t                            NaN                    NaN   \n",
       "last_modified_t                      NaN                    NaN   \n",
       "generic_name                         NaN                    NaN   \n",
       "...                                  ...                    ...   \n",
       "carbon-footprint_100g                NaN                    NaN   \n",
       "nutrition-score-fr_100g              NaN                    NaN   \n",
       "nutrition-score-uk_100g              NaN                    NaN   \n",
       "glycemic-index_100g                  NaN                    NaN   \n",
       "water-hardness_100g                  NaN                    NaN   \n",
       "\n",
       "                         nutrition-score-fr_100g  nutrition-score-uk_100g  \\\n",
       "Unnamed: 0                              0.176240                 0.176240   \n",
       "code                                    0.108270                 0.108270   \n",
       "created_t                              -0.016720                -0.016720   \n",
       "last_modified_t                        -0.016719                -0.016719   \n",
       "generic_name                                 NaN                      NaN   \n",
       "...                                          ...                      ...   \n",
       "carbon-footprint_100g                        NaN                      NaN   \n",
       "nutrition-score-fr_100g                 1.000000                 1.000000   \n",
       "nutrition-score-uk_100g                 1.000000                 1.000000   \n",
       "glycemic-index_100g                          NaN                      NaN   \n",
       "water-hardness_100g                          NaN                      NaN   \n",
       "\n",
       "                         glycemic-index_100g  water-hardness_100g  \n",
       "Unnamed: 0                               NaN                  NaN  \n",
       "code                                     NaN                  NaN  \n",
       "created_t                                NaN                  NaN  \n",
       "last_modified_t                          NaN                  NaN  \n",
       "generic_name                             NaN                  NaN  \n",
       "...                                      ...                  ...  \n",
       "carbon-footprint_100g                    NaN                  NaN  \n",
       "nutrition-score-fr_100g                  NaN                  NaN  \n",
       "nutrition-score-uk_100g                  NaN                  NaN  \n",
       "glycemic-index_100g                      NaN                  NaN  \n",
       "water-hardness_100g                      NaN                  NaN  \n",
       "\n",
       "[129 rows x 129 columns]"
      ],
      "text/html": "<div>\n<style scoped>\n    .dataframe tbody tr th:only-of-type {\n        vertical-align: middle;\n    }\n\n    .dataframe tbody tr th {\n        vertical-align: top;\n    }\n\n    .dataframe thead th {\n        text-align: right;\n    }\n</style>\n<table border=\"1\" class=\"dataframe\">\n  <thead>\n    <tr style=\"text-align: right;\">\n      <th></th>\n      <th>Unnamed: 0</th>\n      <th>code</th>\n      <th>created_t</th>\n      <th>last_modified_t</th>\n      <th>generic_name</th>\n      <th>origins</th>\n      <th>origins_tags</th>\n      <th>manufacturing_places</th>\n      <th>manufacturing_places_tags</th>\n      <th>labels</th>\n      <th>...</th>\n      <th>fruits-vegetables-nuts_100g</th>\n      <th>fruits-vegetables-nuts-estimate_100g</th>\n      <th>collagen-meat-protein-ratio_100g</th>\n      <th>cocoa_100g</th>\n      <th>chlorophyl_100g</th>\n      <th>carbon-footprint_100g</th>\n      <th>nutrition-score-fr_100g</th>\n      <th>nutrition-score-uk_100g</th>\n      <th>glycemic-index_100g</th>\n      <th>water-hardness_100g</th>\n    </tr>\n  </thead>\n  <tbody>\n    <tr>\n      <th>Unnamed: 0</th>\n      <td>1.000000</td>\n      <td>0.937375</td>\n      <td>0.045576</td>\n      <td>0.045578</td>\n      <td>NaN</td>\n      <td>NaN</td>\n      <td>NaN</td>\n      <td>NaN</td>\n      <td>NaN</td>\n      <td>NaN</td>\n      <td>...</td>\n      <td>NaN</td>\n      <td>NaN</td>\n      <td>NaN</td>\n      <td>NaN</td>\n      <td>NaN</td>\n      <td>NaN</td>\n      <td>0.176240</td>\n      <td>0.176240</td>\n      <td>NaN</td>\n      <td>NaN</td>\n    </tr>\n    <tr>\n      <th>code</th>\n      <td>0.937375</td>\n      <td>1.000000</td>\n      <td>0.048606</td>\n      <td>0.048609</td>\n      <td>NaN</td>\n      <td>NaN</td>\n      <td>NaN</td>\n      <td>NaN</td>\n      <td>NaN</td>\n      <td>NaN</td>\n      <td>...</td>\n      <td>NaN</td>\n      <td>NaN</td>\n      <td>NaN</td>\n      <td>NaN</td>\n      <td>NaN</td>\n      <td>NaN</td>\n      <td>0.108270</td>\n      <td>0.108270</td>\n      <td>NaN</td>\n      <td>NaN</td>\n    </tr>\n    <tr>\n      <th>created_t</th>\n      <td>0.045576</td>\n      <td>0.048606</td>\n      <td>1.000000</td>\n      <td>1.000000</td>\n      <td>NaN</td>\n      <td>NaN</td>\n      <td>NaN</td>\n      <td>NaN</td>\n      <td>NaN</td>\n      <td>NaN</td>\n      <td>...</td>\n      <td>NaN</td>\n      <td>NaN</td>\n      <td>NaN</td>\n      <td>NaN</td>\n      <td>NaN</td>\n      <td>NaN</td>\n      <td>-0.016720</td>\n      <td>-0.016720</td>\n      <td>NaN</td>\n      <td>NaN</td>\n    </tr>\n    <tr>\n      <th>last_modified_t</th>\n      <td>0.045578</td>\n      <td>0.048609</td>\n      <td>1.000000</td>\n      <td>1.000000</td>\n      <td>NaN</td>\n      <td>NaN</td>\n      <td>NaN</td>\n      <td>NaN</td>\n      <td>NaN</td>\n      <td>NaN</td>\n      <td>...</td>\n      <td>NaN</td>\n      <td>NaN</td>\n      <td>NaN</td>\n      <td>NaN</td>\n      <td>NaN</td>\n      <td>NaN</td>\n      <td>-0.016719</td>\n      <td>-0.016719</td>\n      <td>NaN</td>\n      <td>NaN</td>\n    </tr>\n    <tr>\n      <th>generic_name</th>\n      <td>NaN</td>\n      <td>NaN</td>\n      <td>NaN</td>\n      <td>NaN</td>\n      <td>NaN</td>\n      <td>NaN</td>\n      <td>NaN</td>\n      <td>NaN</td>\n      <td>NaN</td>\n      <td>NaN</td>\n      <td>...</td>\n      <td>NaN</td>\n      <td>NaN</td>\n      <td>NaN</td>\n      <td>NaN</td>\n      <td>NaN</td>\n      <td>NaN</td>\n      <td>NaN</td>\n      <td>NaN</td>\n      <td>NaN</td>\n      <td>NaN</td>\n    </tr>\n    <tr>\n      <th>...</th>\n      <td>...</td>\n      <td>...</td>\n      <td>...</td>\n      <td>...</td>\n      <td>...</td>\n      <td>...</td>\n      <td>...</td>\n      <td>...</td>\n      <td>...</td>\n      <td>...</td>\n      <td>...</td>\n      <td>...</td>\n      <td>...</td>\n      <td>...</td>\n      <td>...</td>\n      <td>...</td>\n      <td>...</td>\n      <td>...</td>\n      <td>...</td>\n      <td>...</td>\n      <td>...</td>\n    </tr>\n    <tr>\n      <th>carbon-footprint_100g</th>\n      <td>NaN</td>\n      <td>NaN</td>\n      <td>NaN</td>\n      <td>NaN</td>\n      <td>NaN</td>\n      <td>NaN</td>\n      <td>NaN</td>\n      <td>NaN</td>\n      <td>NaN</td>\n      <td>NaN</td>\n      <td>...</td>\n      <td>NaN</td>\n      <td>NaN</td>\n      <td>NaN</td>\n      <td>NaN</td>\n      <td>NaN</td>\n      <td>NaN</td>\n      <td>NaN</td>\n      <td>NaN</td>\n      <td>NaN</td>\n      <td>NaN</td>\n    </tr>\n    <tr>\n      <th>nutrition-score-fr_100g</th>\n      <td>0.176240</td>\n      <td>0.108270</td>\n      <td>-0.016720</td>\n      <td>-0.016719</td>\n      <td>NaN</td>\n      <td>NaN</td>\n      <td>NaN</td>\n      <td>NaN</td>\n      <td>NaN</td>\n      <td>NaN</td>\n      <td>...</td>\n      <td>NaN</td>\n      <td>NaN</td>\n      <td>NaN</td>\n      <td>NaN</td>\n      <td>NaN</td>\n      <td>NaN</td>\n      <td>1.000000</td>\n      <td>1.000000</td>\n      <td>NaN</td>\n      <td>NaN</td>\n    </tr>\n    <tr>\n      <th>nutrition-score-uk_100g</th>\n      <td>0.176240</td>\n      <td>0.108270</td>\n      <td>-0.016720</td>\n      <td>-0.016719</td>\n      <td>NaN</td>\n      <td>NaN</td>\n      <td>NaN</td>\n      <td>NaN</td>\n      <td>NaN</td>\n      <td>NaN</td>\n      <td>...</td>\n      <td>NaN</td>\n      <td>NaN</td>\n      <td>NaN</td>\n      <td>NaN</td>\n      <td>NaN</td>\n      <td>NaN</td>\n      <td>1.000000</td>\n      <td>1.000000</td>\n      <td>NaN</td>\n      <td>NaN</td>\n    </tr>\n    <tr>\n      <th>glycemic-index_100g</th>\n      <td>NaN</td>\n      <td>NaN</td>\n      <td>NaN</td>\n      <td>NaN</td>\n      <td>NaN</td>\n      <td>NaN</td>\n      <td>NaN</td>\n      <td>NaN</td>\n      <td>NaN</td>\n      <td>NaN</td>\n      <td>...</td>\n      <td>NaN</td>\n      <td>NaN</td>\n      <td>NaN</td>\n      <td>NaN</td>\n      <td>NaN</td>\n      <td>NaN</td>\n      <td>NaN</td>\n      <td>NaN</td>\n      <td>NaN</td>\n      <td>NaN</td>\n    </tr>\n    <tr>\n      <th>water-hardness_100g</th>\n      <td>NaN</td>\n      <td>NaN</td>\n      <td>NaN</td>\n      <td>NaN</td>\n      <td>NaN</td>\n      <td>NaN</td>\n      <td>NaN</td>\n      <td>NaN</td>\n      <td>NaN</td>\n      <td>NaN</td>\n      <td>...</td>\n      <td>NaN</td>\n      <td>NaN</td>\n      <td>NaN</td>\n      <td>NaN</td>\n      <td>NaN</td>\n      <td>NaN</td>\n      <td>NaN</td>\n      <td>NaN</td>\n      <td>NaN</td>\n      <td>NaN</td>\n    </tr>\n  </tbody>\n</table>\n<p>129 rows × 129 columns</p>\n</div>"
     },
     "metadata": {},
     "execution_count": 4
    }
   ],
   "source": [
    "df.corr()"
   ]
  },
  {
   "cell_type": "code",
   "execution_count": 29,
   "metadata": {},
   "outputs": [],
   "source": [
    "df.isna().sum().sort_values(ascending=False)"
   ]
  },
  {
   "cell_type": "code",
   "execution_count": 35,
   "metadata": {},
   "outputs": [
    {
     "output_type": "stream",
     "name": "stdout",
     "text": [
      "<class 'pandas.core.frame.DataFrame'>\nRangeIndex: 100 entries, 0 to 99\nColumns: 164 entries, Unnamed: 0 to water-hardness_100g\ndtypes: float64(125), int64(4), object(35)\nmemory usage: 128.2+ KB\n"
     ]
    }
   ],
   "source": [
    "df.info()"
   ]
  },
  {
   "cell_type": "code",
   "execution_count": 2,
   "metadata": {},
   "outputs": [
    {
     "output_type": "execute_result",
     "data": {
      "text/plain": [
       "Index(['-alpha-linolenic-acid_100g', '-arachidic-acid_100g',\n",
       "       '-arachidonic-acid_100g', '-behenic-acid_100g', '-butyric-acid_100g',\n",
       "       '-capric-acid_100g', '-caproic-acid_100g', '-caprylic-acid_100g',\n",
       "       '-cerotic-acid_100g', '-dihomo-gamma-linolenic-acid_100g',\n",
       "       ...\n",
       "       'vitamin-b1_100g', 'vitamin-b2_100g', 'vitamin-b6_100g',\n",
       "       'vitamin-b9_100g', 'vitamin-d_100g', 'vitamin-e_100g', 'vitamin-k_100g',\n",
       "       'vitamin-pp_100g', 'water-hardness_100g', 'zinc_100g'],\n",
       "      dtype='object', length=105)"
      ]
     },
     "metadata": {},
     "execution_count": 2
    }
   ],
   "source": [
    "df.columns[df.isnull().sum() >=100].sort_values(ascending=True)"
   ]
  },
  {
   "cell_type": "code",
   "execution_count": 4,
   "metadata": {},
   "outputs": [],
   "source": [
    "m= list(df.columns[df.isnull().sum() >=100])\n"
   ]
  },
  {
   "cell_type": "code",
   "execution_count": 5,
   "metadata": {},
   "outputs": [
    {
     "output_type": "execute_result",
     "data": {
      "text/plain": [
       "   Unnamed: 0   code                                                url  \\\n",
       "0           0   3087  http://world-en.openfoodfacts.org/product/0000...   \n",
       "1           1   4530  http://world-en.openfoodfacts.org/product/0000...   \n",
       "2           2   4559  http://world-en.openfoodfacts.org/product/0000...   \n",
       "3           3  16087  http://world-en.openfoodfacts.org/product/0000...   \n",
       "4           4  16094  http://world-en.openfoodfacts.org/product/0000...   \n",
       "\n",
       "                      creator   created_t      created_datetime  \\\n",
       "0  openfoodfacts-contributors  1474103866  2016-09-17T09:17:46Z   \n",
       "1             usda-ndb-import  1489069957  2017-03-09T14:32:37Z   \n",
       "2             usda-ndb-import  1489069957  2017-03-09T14:32:37Z   \n",
       "3             usda-ndb-import  1489055731  2017-03-09T10:35:31Z   \n",
       "4             usda-ndb-import  1489055653  2017-03-09T10:34:13Z   \n",
       "\n",
       "   last_modified_t last_modified_datetime                    product_name  \\\n",
       "0       1474103893   2016-09-17T09:18:13Z              Farine de blé noir   \n",
       "1       1489069957   2017-03-09T14:32:37Z  Banana Chips Sweetened (Whole)   \n",
       "2       1489069957   2017-03-09T14:32:37Z                         Peanuts   \n",
       "3       1489055731   2017-03-09T10:35:31Z          Organic Salted Nut Mix   \n",
       "4       1489055653   2017-03-09T10:34:13Z                 Organic Polenta   \n",
       "\n",
       "  quantity  ... fiber_100g proteins_100g salt_100g sodium_100g vitamin-a_100g  \\\n",
       "0      1kg  ...        NaN           NaN       NaN         NaN            NaN   \n",
       "1      NaN  ...        3.6          3.57   0.00000       0.000            0.0   \n",
       "2      NaN  ...        7.1         17.86   0.63500       0.250            0.0   \n",
       "3      NaN  ...        7.1         17.86   1.22428       0.482            NaN   \n",
       "4      NaN  ...        5.7          8.57       NaN         NaN            NaN   \n",
       "\n",
       "  vitamin-c_100g calcium_100g iron_100g nutrition-score-fr_100g  \\\n",
       "0            NaN          NaN       NaN                     NaN   \n",
       "1         0.0214        0.000   0.00129                    14.0   \n",
       "2         0.0000        0.071   0.00129                     0.0   \n",
       "3            NaN        0.143   0.00514                    12.0   \n",
       "4            NaN          NaN       NaN                     NaN   \n",
       "\n",
       "  nutrition-score-uk_100g  \n",
       "0                     NaN  \n",
       "1                    14.0  \n",
       "2                     0.0  \n",
       "3                    12.0  \n",
       "4                     NaN  \n",
       "\n",
       "[5 rows x 59 columns]"
      ],
      "text/html": "<div>\n<style scoped>\n    .dataframe tbody tr th:only-of-type {\n        vertical-align: middle;\n    }\n\n    .dataframe tbody tr th {\n        vertical-align: top;\n    }\n\n    .dataframe thead th {\n        text-align: right;\n    }\n</style>\n<table border=\"1\" class=\"dataframe\">\n  <thead>\n    <tr style=\"text-align: right;\">\n      <th></th>\n      <th>Unnamed: 0</th>\n      <th>code</th>\n      <th>url</th>\n      <th>creator</th>\n      <th>created_t</th>\n      <th>created_datetime</th>\n      <th>last_modified_t</th>\n      <th>last_modified_datetime</th>\n      <th>product_name</th>\n      <th>quantity</th>\n      <th>...</th>\n      <th>fiber_100g</th>\n      <th>proteins_100g</th>\n      <th>salt_100g</th>\n      <th>sodium_100g</th>\n      <th>vitamin-a_100g</th>\n      <th>vitamin-c_100g</th>\n      <th>calcium_100g</th>\n      <th>iron_100g</th>\n      <th>nutrition-score-fr_100g</th>\n      <th>nutrition-score-uk_100g</th>\n    </tr>\n  </thead>\n  <tbody>\n    <tr>\n      <th>0</th>\n      <td>0</td>\n      <td>3087</td>\n      <td>http://world-en.openfoodfacts.org/product/0000...</td>\n      <td>openfoodfacts-contributors</td>\n      <td>1474103866</td>\n      <td>2016-09-17T09:17:46Z</td>\n      <td>1474103893</td>\n      <td>2016-09-17T09:18:13Z</td>\n      <td>Farine de blé noir</td>\n      <td>1kg</td>\n      <td>...</td>\n      <td>NaN</td>\n      <td>NaN</td>\n      <td>NaN</td>\n      <td>NaN</td>\n      <td>NaN</td>\n      <td>NaN</td>\n      <td>NaN</td>\n      <td>NaN</td>\n      <td>NaN</td>\n      <td>NaN</td>\n    </tr>\n    <tr>\n      <th>1</th>\n      <td>1</td>\n      <td>4530</td>\n      <td>http://world-en.openfoodfacts.org/product/0000...</td>\n      <td>usda-ndb-import</td>\n      <td>1489069957</td>\n      <td>2017-03-09T14:32:37Z</td>\n      <td>1489069957</td>\n      <td>2017-03-09T14:32:37Z</td>\n      <td>Banana Chips Sweetened (Whole)</td>\n      <td>NaN</td>\n      <td>...</td>\n      <td>3.6</td>\n      <td>3.57</td>\n      <td>0.00000</td>\n      <td>0.000</td>\n      <td>0.0</td>\n      <td>0.0214</td>\n      <td>0.000</td>\n      <td>0.00129</td>\n      <td>14.0</td>\n      <td>14.0</td>\n    </tr>\n    <tr>\n      <th>2</th>\n      <td>2</td>\n      <td>4559</td>\n      <td>http://world-en.openfoodfacts.org/product/0000...</td>\n      <td>usda-ndb-import</td>\n      <td>1489069957</td>\n      <td>2017-03-09T14:32:37Z</td>\n      <td>1489069957</td>\n      <td>2017-03-09T14:32:37Z</td>\n      <td>Peanuts</td>\n      <td>NaN</td>\n      <td>...</td>\n      <td>7.1</td>\n      <td>17.86</td>\n      <td>0.63500</td>\n      <td>0.250</td>\n      <td>0.0</td>\n      <td>0.0000</td>\n      <td>0.071</td>\n      <td>0.00129</td>\n      <td>0.0</td>\n      <td>0.0</td>\n    </tr>\n    <tr>\n      <th>3</th>\n      <td>3</td>\n      <td>16087</td>\n      <td>http://world-en.openfoodfacts.org/product/0000...</td>\n      <td>usda-ndb-import</td>\n      <td>1489055731</td>\n      <td>2017-03-09T10:35:31Z</td>\n      <td>1489055731</td>\n      <td>2017-03-09T10:35:31Z</td>\n      <td>Organic Salted Nut Mix</td>\n      <td>NaN</td>\n      <td>...</td>\n      <td>7.1</td>\n      <td>17.86</td>\n      <td>1.22428</td>\n      <td>0.482</td>\n      <td>NaN</td>\n      <td>NaN</td>\n      <td>0.143</td>\n      <td>0.00514</td>\n      <td>12.0</td>\n      <td>12.0</td>\n    </tr>\n    <tr>\n      <th>4</th>\n      <td>4</td>\n      <td>16094</td>\n      <td>http://world-en.openfoodfacts.org/product/0000...</td>\n      <td>usda-ndb-import</td>\n      <td>1489055653</td>\n      <td>2017-03-09T10:34:13Z</td>\n      <td>1489055653</td>\n      <td>2017-03-09T10:34:13Z</td>\n      <td>Organic Polenta</td>\n      <td>NaN</td>\n      <td>...</td>\n      <td>5.7</td>\n      <td>8.57</td>\n      <td>NaN</td>\n      <td>NaN</td>\n      <td>NaN</td>\n      <td>NaN</td>\n      <td>NaN</td>\n      <td>NaN</td>\n      <td>NaN</td>\n      <td>NaN</td>\n    </tr>\n  </tbody>\n</table>\n<p>5 rows × 59 columns</p>\n</div>"
     },
     "metadata": {},
     "execution_count": 5
    }
   ],
   "source": [
    "dt= df.drop(columns= m, axis=1)\n",
    "dt.head()"
   ]
  },
  {
   "cell_type": "code",
   "execution_count": 42,
   "metadata": {},
   "outputs": [
    {
     "output_type": "execute_result",
     "data": {
      "text/plain": [
       "main_category_en                              99\n",
       "main_category                                 99\n",
       "traces_tags                                   99\n",
       "traces_en                                     99\n",
       "categories_en                                 99\n",
       "categories_tags                               99\n",
       "categories                                    99\n",
       "ingredients_that_may_be_from_palm_oil_tags    99\n",
       "pnns_groups_1                                 99\n",
       "pnns_groups_2                                 99\n",
       "packaging_tags                                99\n",
       "packaging                                     99\n",
       "traces                                        99\n",
       "image_small_url                               98\n",
       "image_url                                     98\n",
       "trans-fat_100g                                96\n",
       "quantity                                      95\n",
       "cholesterol_100g                              94\n",
       "additives_tags                                84\n",
       "additives_en                                  84\n",
       "vitamin-a_100g                                83\n",
       "vitamin-c_100g                                80\n",
       "nutrition_grade_fr                            63\n",
       "nutrition-score-fr_100g                       63\n",
       "nutrition-score-uk_100g                       63\n",
       "saturated-fat_100g                            42\n",
       "salt_100g                                     41\n",
       "sodium_100g                                   41\n",
       "sugars_100g                                   36\n",
       "calcium_100g                                  35\n",
       "fat_100g                                      20\n",
       "iron_100g                                     19\n",
       "fiber_100g                                    14\n",
       "proteins_100g                                 12\n",
       "carbohydrates_100g                            10\n",
       "energy_100g                                    8\n",
       "serving_size                                   6\n",
       "ingredients_text                               5\n",
       "ingredients_from_palm_oil_n                    5\n",
       "additives_n                                    5\n",
       "additives                                      5\n",
       "ingredients_that_may_be_from_palm_oil_n        5\n",
       "brands_tags                                    4\n",
       "brands                                         4\n",
       "product_name                                   1\n",
       "countries_en                                   0\n",
       "last_modified_t                                0\n",
       "code                                           0\n",
       "url                                            0\n",
       "creator                                        0\n",
       "created_t                                      0\n",
       "created_datetime                               0\n",
       "states_en                                      0\n",
       "last_modified_datetime                         0\n",
       "countries_tags                                 0\n",
       "states_tags                                    0\n",
       "states                                         0\n",
       "countries                                      0\n",
       "Unnamed: 0                                     0\n",
       "dtype: int64"
      ]
     },
     "metadata": {},
     "execution_count": 42
    }
   ],
   "source": [
    "dt.isna().sum().sort_values(ascending=False)"
   ]
  },
  {
   "cell_type": "code",
   "execution_count": 51,
   "metadata": {},
   "outputs": [
    {
     "output_type": "execute_result",
     "data": {
      "text/plain": [
       "Index(['Unnamed: 0', 'code', 'url', 'creator', 'created_t', 'created_datetime',\n",
       "       'last_modified_t', 'last_modified_datetime', 'product_name', 'quantity',\n",
       "       'packaging', 'packaging_tags', 'brands', 'brands_tags', 'categories',\n",
       "       'categories_tags', 'categories_en', 'countries', 'countries_tags',\n",
       "       'countries_en', 'ingredients_text', 'traces', 'traces_tags',\n",
       "       'traces_en', 'serving_size', 'additives_n', 'additives',\n",
       "       'additives_tags', 'additives_en', 'ingredients_from_palm_oil_n',\n",
       "       'ingredients_that_may_be_from_palm_oil_n',\n",
       "       'ingredients_that_may_be_from_palm_oil_tags', 'nutrition_grade_fr',\n",
       "       'pnns_groups_1', 'pnns_groups_2', 'states', 'states_tags', 'states_en',\n",
       "       'main_category', 'main_category_en', 'image_url', 'image_small_url',\n",
       "       'energy_100g', 'fat_100g', 'saturated-fat_100g', 'trans-fat_100g',\n",
       "       'cholesterol_100g', 'carbohydrates_100g', 'sugars_100g', 'fiber_100g',\n",
       "       'proteins_100g', 'salt_100g', 'sodium_100g', 'vitamin-a_100g',\n",
       "       'vitamin-c_100g', 'calcium_100g', 'iron_100g',\n",
       "       'nutrition-score-fr_100g', 'nutrition-score-uk_100g'],\n",
       "      dtype='object')"
      ]
     },
     "metadata": {},
     "execution_count": 51
    }
   ],
   "source": [
    "dt.columns"
   ]
  },
  {
   "cell_type": "code",
   "execution_count": 54,
   "metadata": {},
   "outputs": [
    {
     "output_type": "stream",
     "name": "stdout",
     "text": [
      "<class 'pandas.core.frame.DataFrame'>\nRangeIndex: 100 entries, 0 to 99\nData columns (total 59 columns):\n #   Column                                      Non-Null Count  Dtype  \n---  ------                                      --------------  -----  \n 0   Unnamed: 0                                  100 non-null    int64  \n 1   code                                        100 non-null    int64  \n 2   url                                         100 non-null    object \n 3   creator                                     100 non-null    object \n 4   created_t                                   100 non-null    int64  \n 5   created_datetime                            100 non-null    object \n 6   last_modified_t                             100 non-null    int64  \n 7   last_modified_datetime                      100 non-null    object \n 8   product_name                                99 non-null     object \n 9   quantity                                    5 non-null      object \n 10  packaging                                   1 non-null      object \n 11  packaging_tags                              1 non-null      object \n 12  brands                                      96 non-null     object \n 13  brands_tags                                 96 non-null     object \n 14  categories                                  1 non-null      object \n 15  categories_tags                             1 non-null      object \n 16  categories_en                               1 non-null      object \n 17  countries                                   100 non-null    object \n 18  countries_tags                              100 non-null    object \n 19  countries_en                                100 non-null    object \n 20  ingredients_text                            95 non-null     object \n 21  traces                                      1 non-null      object \n 22  traces_tags                                 1 non-null      object \n 23  traces_en                                   1 non-null      object \n 24  serving_size                                94 non-null     object \n 25  additives_n                                 95 non-null     float64\n 26  additives                                   95 non-null     object \n 27  additives_tags                              16 non-null     object \n 28  additives_en                                16 non-null     object \n 29  ingredients_from_palm_oil_n                 95 non-null     float64\n 30  ingredients_that_may_be_from_palm_oil_n     95 non-null     float64\n 31  ingredients_that_may_be_from_palm_oil_tags  1 non-null      object \n 32  nutrition_grade_fr                          37 non-null     object \n 33  pnns_groups_1                               1 non-null      object \n 34  pnns_groups_2                               1 non-null      object \n 35  states                                      100 non-null    object \n 36  states_tags                                 100 non-null    object \n 37  states_en                                   100 non-null    object \n 38  main_category                               1 non-null      object \n 39  main_category_en                            1 non-null      object \n 40  image_url                                   2 non-null      object \n 41  image_small_url                             2 non-null      object \n 42  energy_100g                                 92 non-null     float64\n 43  fat_100g                                    80 non-null     float64\n 44  saturated-fat_100g                          58 non-null     float64\n 45  trans-fat_100g                              4 non-null      float64\n 46  cholesterol_100g                            6 non-null      float64\n 47  carbohydrates_100g                          90 non-null     float64\n 48  sugars_100g                                 64 non-null     float64\n 49  fiber_100g                                  86 non-null     float64\n 50  proteins_100g                               88 non-null     float64\n 51  salt_100g                                   59 non-null     float64\n 52  sodium_100g                                 59 non-null     float64\n 53  vitamin-a_100g                              17 non-null     float64\n 54  vitamin-c_100g                              20 non-null     float64\n 55  calcium_100g                                65 non-null     float64\n 56  iron_100g                                   81 non-null     float64\n 57  nutrition-score-fr_100g                     37 non-null     float64\n 58  nutrition-score-uk_100g                     37 non-null     float64\ndtypes: float64(20), int64(4), object(35)\nmemory usage: 46.2+ KB\n"
     ]
    }
   ],
   "source": [
    "dt.info()"
   ]
  },
  {
   "cell_type": "code",
   "execution_count": 59,
   "metadata": {},
   "outputs": [
    {
     "output_type": "error",
     "ename": "AttributeError",
     "evalue": "'Index' object has no attribute 'info'",
     "traceback": [
      "\u001b[1;31m---------------------------------------------------------------------------\u001b[0m",
      "\u001b[1;31mAttributeError\u001b[0m                            Traceback (most recent call last)",
      "\u001b[1;32m<ipython-input-59-040d7ebe05d2>\u001b[0m in \u001b[0;36m<module>\u001b[1;34m\u001b[0m\n\u001b[1;32m----> 1\u001b[1;33m \u001b[0mdt\u001b[0m\u001b[1;33m.\u001b[0m\u001b[0mcolumns\u001b[0m\u001b[1;33m[\u001b[0m\u001b[0mdt\u001b[0m\u001b[1;33m.\u001b[0m\u001b[0misnull\u001b[0m\u001b[1;33m(\u001b[0m\u001b[1;33m)\u001b[0m\u001b[1;33m.\u001b[0m\u001b[0msum\u001b[0m\u001b[1;33m(\u001b[0m\u001b[1;33m)\u001b[0m \u001b[1;33m>=\u001b[0m\u001b[1;36m90\u001b[0m\u001b[1;33m]\u001b[0m\u001b[1;33m.\u001b[0m\u001b[0msort_values\u001b[0m\u001b[1;33m(\u001b[0m\u001b[0mascending\u001b[0m\u001b[1;33m=\u001b[0m\u001b[1;32mFalse\u001b[0m\u001b[1;33m)\u001b[0m\u001b[1;33m.\u001b[0m\u001b[0minfo\u001b[0m\u001b[1;33m(\u001b[0m\u001b[1;33m)\u001b[0m\u001b[1;33m\u001b[0m\u001b[1;33m\u001b[0m\u001b[0m\n\u001b[0m",
      "\u001b[1;31mAttributeError\u001b[0m: 'Index' object has no attribute 'info'"
     ]
    }
   ],
   "source": [
    "dt.columns[dt.isnull().sum() >=90].sort_values(ascending=False)"
   ]
  },
  {
   "cell_type": "code",
   "execution_count": 56,
   "metadata": {},
   "outputs": [
    {
     "output_type": "stream",
     "name": "stdout",
     "text": [
      "['Unnamed: 0', 'code', 'created_t', 'last_modified_t']\n['additives_n', 'ingredients_from_palm_oil_n', 'ingredients_that_may_be_from_palm_oil_n', 'energy_100g', 'fat_100g', 'saturated-fat_100g', 'trans-fat_100g', 'cholesterol_100g', 'carbohydrates_100g', 'sugars_100g', 'fiber_100g', 'proteins_100g', 'salt_100g', 'sodium_100g', 'vitamin-a_100g', 'vitamin-c_100g', 'calcium_100g', 'iron_100g', 'nutrition-score-fr_100g', 'nutrition-score-uk_100g']\n"
     ]
    }
   ],
   "source": [
    "list_int = []\n",
    "list_float = []\n",
    "\n",
    "for i in dt.columns:\n",
    "    \n",
    "    if dt[i].dtype == \"int64\":\n",
    "        list_int.append(i)\n",
    "    elif dt[i].dtype == \"float64\":\n",
    "       list_float.append(i)\n",
    "\n",
    "print(list_int)\n",
    "print(list_float)"
   ]
  },
  {
   "cell_type": "code",
   "execution_count": 11,
   "metadata": {},
   "outputs": [
    {
     "output_type": "execute_result",
     "data": {
      "text/plain": [
       "   Unnamed: 0   code                                                url  \\\n",
       "0           0   3087  http://world-en.openfoodfacts.org/product/0000...   \n",
       "1           1   4530  http://world-en.openfoodfacts.org/product/0000...   \n",
       "2           2   4559  http://world-en.openfoodfacts.org/product/0000...   \n",
       "3           3  16087  http://world-en.openfoodfacts.org/product/0000...   \n",
       "4           4  16094  http://world-en.openfoodfacts.org/product/0000...   \n",
       "\n",
       "                      creator   created_t      created_datetime  \\\n",
       "0  openfoodfacts-contributors  1474103866  2016-09-17T09:17:46Z   \n",
       "1             usda-ndb-import  1489069957  2017-03-09T14:32:37Z   \n",
       "2             usda-ndb-import  1489069957  2017-03-09T14:32:37Z   \n",
       "3             usda-ndb-import  1489055731  2017-03-09T10:35:31Z   \n",
       "4             usda-ndb-import  1489055653  2017-03-09T10:34:13Z   \n",
       "\n",
       "   last_modified_t last_modified_datetime countries    countries_tags  \\\n",
       "0       1474103893   2016-09-17T09:18:13Z     en:FR         en:france   \n",
       "1       1489069957   2017-03-09T14:32:37Z        US  en:united-states   \n",
       "2       1489069957   2017-03-09T14:32:37Z        US  en:united-states   \n",
       "3       1489055731   2017-03-09T10:35:31Z        US  en:united-states   \n",
       "4       1489055653   2017-03-09T10:34:13Z        US  en:united-states   \n",
       "\n",
       "    countries_en                                             states  \\\n",
       "0         France  en:to-be-completed, en:nutrition-facts-to-be-c...   \n",
       "1  United States  en:to-be-completed, en:nutrition-facts-complet...   \n",
       "2  United States  en:to-be-completed, en:nutrition-facts-complet...   \n",
       "3  United States  en:to-be-completed, en:nutrition-facts-complet...   \n",
       "4  United States  en:to-be-completed, en:nutrition-facts-complet...   \n",
       "\n",
       "                                         states_tags  \\\n",
       "0  en:to-be-completed,en:nutrition-facts-to-be-co...   \n",
       "1  en:to-be-completed,en:nutrition-facts-complete...   \n",
       "2  en:to-be-completed,en:nutrition-facts-complete...   \n",
       "3  en:to-be-completed,en:nutrition-facts-complete...   \n",
       "4  en:to-be-completed,en:nutrition-facts-complete...   \n",
       "\n",
       "                                           states_en  \n",
       "0  To be completed,Nutrition facts to be complete...  \n",
       "1  To be completed,Nutrition facts completed,Ingr...  \n",
       "2  To be completed,Nutrition facts completed,Ingr...  \n",
       "3  To be completed,Nutrition facts completed,Ingr...  \n",
       "4  To be completed,Nutrition facts completed,Ingr...  "
      ],
      "text/html": "<div>\n<style scoped>\n    .dataframe tbody tr th:only-of-type {\n        vertical-align: middle;\n    }\n\n    .dataframe tbody tr th {\n        vertical-align: top;\n    }\n\n    .dataframe thead th {\n        text-align: right;\n    }\n</style>\n<table border=\"1\" class=\"dataframe\">\n  <thead>\n    <tr style=\"text-align: right;\">\n      <th></th>\n      <th>Unnamed: 0</th>\n      <th>code</th>\n      <th>url</th>\n      <th>creator</th>\n      <th>created_t</th>\n      <th>created_datetime</th>\n      <th>last_modified_t</th>\n      <th>last_modified_datetime</th>\n      <th>countries</th>\n      <th>countries_tags</th>\n      <th>countries_en</th>\n      <th>states</th>\n      <th>states_tags</th>\n      <th>states_en</th>\n    </tr>\n  </thead>\n  <tbody>\n    <tr>\n      <th>0</th>\n      <td>0</td>\n      <td>3087</td>\n      <td>http://world-en.openfoodfacts.org/product/0000...</td>\n      <td>openfoodfacts-contributors</td>\n      <td>1474103866</td>\n      <td>2016-09-17T09:17:46Z</td>\n      <td>1474103893</td>\n      <td>2016-09-17T09:18:13Z</td>\n      <td>en:FR</td>\n      <td>en:france</td>\n      <td>France</td>\n      <td>en:to-be-completed, en:nutrition-facts-to-be-c...</td>\n      <td>en:to-be-completed,en:nutrition-facts-to-be-co...</td>\n      <td>To be completed,Nutrition facts to be complete...</td>\n    </tr>\n    <tr>\n      <th>1</th>\n      <td>1</td>\n      <td>4530</td>\n      <td>http://world-en.openfoodfacts.org/product/0000...</td>\n      <td>usda-ndb-import</td>\n      <td>1489069957</td>\n      <td>2017-03-09T14:32:37Z</td>\n      <td>1489069957</td>\n      <td>2017-03-09T14:32:37Z</td>\n      <td>US</td>\n      <td>en:united-states</td>\n      <td>United States</td>\n      <td>en:to-be-completed, en:nutrition-facts-complet...</td>\n      <td>en:to-be-completed,en:nutrition-facts-complete...</td>\n      <td>To be completed,Nutrition facts completed,Ingr...</td>\n    </tr>\n    <tr>\n      <th>2</th>\n      <td>2</td>\n      <td>4559</td>\n      <td>http://world-en.openfoodfacts.org/product/0000...</td>\n      <td>usda-ndb-import</td>\n      <td>1489069957</td>\n      <td>2017-03-09T14:32:37Z</td>\n      <td>1489069957</td>\n      <td>2017-03-09T14:32:37Z</td>\n      <td>US</td>\n      <td>en:united-states</td>\n      <td>United States</td>\n      <td>en:to-be-completed, en:nutrition-facts-complet...</td>\n      <td>en:to-be-completed,en:nutrition-facts-complete...</td>\n      <td>To be completed,Nutrition facts completed,Ingr...</td>\n    </tr>\n    <tr>\n      <th>3</th>\n      <td>3</td>\n      <td>16087</td>\n      <td>http://world-en.openfoodfacts.org/product/0000...</td>\n      <td>usda-ndb-import</td>\n      <td>1489055731</td>\n      <td>2017-03-09T10:35:31Z</td>\n      <td>1489055731</td>\n      <td>2017-03-09T10:35:31Z</td>\n      <td>US</td>\n      <td>en:united-states</td>\n      <td>United States</td>\n      <td>en:to-be-completed, en:nutrition-facts-complet...</td>\n      <td>en:to-be-completed,en:nutrition-facts-complete...</td>\n      <td>To be completed,Nutrition facts completed,Ingr...</td>\n    </tr>\n    <tr>\n      <th>4</th>\n      <td>4</td>\n      <td>16094</td>\n      <td>http://world-en.openfoodfacts.org/product/0000...</td>\n      <td>usda-ndb-import</td>\n      <td>1489055653</td>\n      <td>2017-03-09T10:34:13Z</td>\n      <td>1489055653</td>\n      <td>2017-03-09T10:34:13Z</td>\n      <td>US</td>\n      <td>en:united-states</td>\n      <td>United States</td>\n      <td>en:to-be-completed, en:nutrition-facts-complet...</td>\n      <td>en:to-be-completed,en:nutrition-facts-complete...</td>\n      <td>To be completed,Nutrition facts completed,Ingr...</td>\n    </tr>\n  </tbody>\n</table>\n</div>"
     },
     "metadata": {},
     "execution_count": 11
    }
   ],
   "source": [
    "df= df.dropna(axis=1, thresh=len(df))\n",
    "df.head()"
   ]
  },
  {
   "cell_type": "code",
   "execution_count": 12,
   "metadata": {},
   "outputs": [
    {
     "output_type": "execute_result",
     "data": {
      "text/plain": [
       "states_en                 0\n",
       "states_tags               0\n",
       "states                    0\n",
       "countries_en              0\n",
       "countries_tags            0\n",
       "countries                 0\n",
       "last_modified_datetime    0\n",
       "last_modified_t           0\n",
       "created_datetime          0\n",
       "created_t                 0\n",
       "creator                   0\n",
       "url                       0\n",
       "code                      0\n",
       "Unnamed: 0                0\n",
       "dtype: int64"
      ]
     },
     "metadata": {},
     "execution_count": 12
    }
   ],
   "source": [
    "df.isna().sum().sort_values(ascending=False)\n"
   ]
  },
  {
   "cell_type": "code",
   "execution_count": 19,
   "metadata": {},
   "outputs": [
    {
     "output_type": "execute_result",
     "data": {
      "text/plain": [
       "(14,)"
      ]
     },
     "metadata": {},
     "execution_count": 19
    }
   ],
   "source": [
    "df.columns.shape"
   ]
  },
  {
   "cell_type": "code",
   "execution_count": 25,
   "metadata": {},
   "outputs": [
    {
     "output_type": "execute_result",
     "data": {
      "text/plain": [
       "countries         0\n",
       "states            0\n",
       "states_tags       0\n",
       "countries_en      0\n",
       "countries_tags    0\n",
       "Unnamed: 0        0\n",
       "dtype: int64"
      ]
     },
     "metadata": {},
     "execution_count": 25
    }
   ],
   "source": [
    "df.isna().sum().sort_values(ascending=False).tail(6)"
   ]
  },
  {
   "cell_type": "code",
   "execution_count": 60,
   "metadata": {},
   "outputs": [
    {
     "output_type": "stream",
     "name": "stdout",
     "text": [
      "<class 'pandas.core.frame.DataFrame'>\nRangeIndex: 100 entries, 0 to 99\nData columns (total 59 columns):\n #   Column                                      Non-Null Count  Dtype  \n---  ------                                      --------------  -----  \n 0   Unnamed: 0                                  100 non-null    int64  \n 1   code                                        100 non-null    int64  \n 2   url                                         100 non-null    object \n 3   creator                                     100 non-null    object \n 4   created_t                                   100 non-null    int64  \n 5   created_datetime                            100 non-null    object \n 6   last_modified_t                             100 non-null    int64  \n 7   last_modified_datetime                      100 non-null    object \n 8   product_name                                99 non-null     object \n 9   quantity                                    5 non-null      object \n 10  packaging                                   1 non-null      object \n 11  packaging_tags                              1 non-null      object \n 12  brands                                      96 non-null     object \n 13  brands_tags                                 96 non-null     object \n 14  categories                                  1 non-null      object \n 15  categories_tags                             1 non-null      object \n 16  categories_en                               1 non-null      object \n 17  countries                                   100 non-null    object \n 18  countries_tags                              100 non-null    object \n 19  countries_en                                100 non-null    object \n 20  ingredients_text                            95 non-null     object \n 21  traces                                      1 non-null      object \n 22  traces_tags                                 1 non-null      object \n 23  traces_en                                   1 non-null      object \n 24  serving_size                                94 non-null     object \n 25  additives_n                                 95 non-null     float64\n 26  additives                                   95 non-null     object \n 27  additives_tags                              16 non-null     object \n 28  additives_en                                16 non-null     object \n 29  ingredients_from_palm_oil_n                 95 non-null     float64\n 30  ingredients_that_may_be_from_palm_oil_n     95 non-null     float64\n 31  ingredients_that_may_be_from_palm_oil_tags  1 non-null      object \n 32  nutrition_grade_fr                          37 non-null     object \n 33  pnns_groups_1                               1 non-null      object \n 34  pnns_groups_2                               1 non-null      object \n 35  states                                      100 non-null    object \n 36  states_tags                                 100 non-null    object \n 37  states_en                                   100 non-null    object \n 38  main_category                               1 non-null      object \n 39  main_category_en                            1 non-null      object \n 40  image_url                                   2 non-null      object \n 41  image_small_url                             2 non-null      object \n 42  energy_100g                                 92 non-null     float64\n 43  fat_100g                                    80 non-null     float64\n 44  saturated-fat_100g                          58 non-null     float64\n 45  trans-fat_100g                              4 non-null      float64\n 46  cholesterol_100g                            6 non-null      float64\n 47  carbohydrates_100g                          90 non-null     float64\n 48  sugars_100g                                 64 non-null     float64\n 49  fiber_100g                                  86 non-null     float64\n 50  proteins_100g                               88 non-null     float64\n 51  salt_100g                                   59 non-null     float64\n 52  sodium_100g                                 59 non-null     float64\n 53  vitamin-a_100g                              17 non-null     float64\n 54  vitamin-c_100g                              20 non-null     float64\n 55  calcium_100g                                65 non-null     float64\n 56  iron_100g                                   81 non-null     float64\n 57  nutrition-score-fr_100g                     37 non-null     float64\n 58  nutrition-score-uk_100g                     37 non-null     float64\ndtypes: float64(20), int64(4), object(35)\nmemory usage: 46.2+ KB\n"
     ]
    }
   ],
   "source": [
    "dt.info()"
   ]
  },
  {
   "cell_type": "code",
   "execution_count": 7,
   "metadata": {},
   "outputs": [
    {
     "output_type": "execute_result",
     "data": {
      "text/plain": [
       "(100, 5)"
      ]
     },
     "metadata": {},
     "execution_count": 7
    }
   ],
   "source": [
    "X= dt[[\"code\", \"created_t\", \"last_modified_t\", \"additives_n\", \"ingredients_from_palm_oil_n\"]]\n",
    "X.shape"
   ]
  },
  {
   "cell_type": "code",
   "execution_count": 23,
   "metadata": {},
   "outputs": [
    {
     "output_type": "execute_result",
     "data": {
      "text/plain": [
       "code                           0\n",
       "created_t                      0\n",
       "last_modified_t                0\n",
       "additives_n                    0\n",
       "ingredients_from_palm_oil_n    0\n",
       "dtype: int64"
      ]
     },
     "metadata": {},
     "execution_count": 23
    }
   ],
   "source": [
    "X= X.fillna(value= {\"ingredients_from_palm_oil_n\": 0.0, \"additives_n\":0.0})\n",
    "X.isna().sum()"
   ]
  },
  {
   "cell_type": "code",
   "execution_count": 64,
   "metadata": {},
   "outputs": [
    {
     "output_type": "execute_result",
     "data": {
      "text/plain": [
       "0.0    79\n",
       "1.0    10\n",
       "2.0     4\n",
       "6.0     1\n",
       "3.0     1\n",
       "Name: additives_n, dtype: int64"
      ]
     },
     "metadata": {},
     "execution_count": 64
    }
   ],
   "source": [
    "dt[\"additives_n\"].value_counts()"
   ]
  },
  {
   "cell_type": "code",
   "execution_count": 8,
   "metadata": {},
   "outputs": [
    {
     "output_type": "execute_result",
     "data": {
      "text/plain": [
       "(100,)"
      ]
     },
     "metadata": {},
     "execution_count": 8
    }
   ],
   "source": [
    "y =dt[\"product_name\"]\n",
    "y.shape"
   ]
  },
  {
   "cell_type": "code",
   "execution_count": 27,
   "metadata": {},
   "outputs": [
    {
     "output_type": "execute_result",
     "data": {
      "text/plain": [
       "Organic Salted Nut Mix                 1\n",
       "Coconut Almond Granola                 1\n",
       "Peanuts, Mixed Nuts                    1\n",
       "Foods, Honey Roast Nuts & Fruit Mix    1\n",
       "Organic White Sesame Seeds             1\n",
       "                                      ..\n",
       "Organic Long Grain White Rice          1\n",
       "Organic Large Raw Whole Cashews        1\n",
       "Cinnamon Nut Granola                   1\n",
       "Organic Hard Red Wheat Berries         1\n",
       "Aunt Ginger's Snappy Granola           1\n",
       "Name: product_name, Length: 99, dtype: int64"
      ]
     },
     "metadata": {},
     "execution_count": 27
    }
   ],
   "source": [
    "y.value_counts()"
   ]
  },
  {
   "cell_type": "code",
   "execution_count": 10,
   "metadata": {},
   "outputs": [],
   "source": [
    "le = preprocessing.LabelEncoder()\n",
    "variable = le.fit_transform(y)"
   ]
  },
  {
   "cell_type": "code",
   "execution_count": 28,
   "metadata": {},
   "outputs": [
    {
     "output_type": "execute_result",
     "data": {
      "text/plain": [
       "array([14,  6, 84, 65, 57,  7, 48, 52, 37, 71, 29, 56, 98, 42, 70,  8, 46,\n",
       "       72, 24, 54, 13,  3, 58, 17, 83, 86, 75, 88, 94, 97, 49, 62, 10, 90,\n",
       "       74, 33, 92,  5, 35, 31, 78, 45,  4, 11, 12, 32, 27, 15, 26, 99, 40,\n",
       "       28, 41, 43, 66, 67, 44, 81, 53, 30, 38,  9, 91, 25,  1, 87, 51, 95,\n",
       "       36, 69, 82, 63,  0, 16, 93, 64, 77, 80, 79, 22, 50, 68, 85, 47, 34,\n",
       "       76,  2, 21, 20, 89, 18, 19, 61, 60, 73, 55, 96, 59, 39, 23])"
      ]
     },
     "metadata": {},
     "execution_count": 28
    }
   ],
   "source": [
    "variable"
   ]
  },
  {
   "cell_type": "code",
   "execution_count": 13,
   "metadata": {},
   "outputs": [],
   "source": [
    "X_train, X_test, y_train, y_test = train_test_split(X, variable, test_size=0.20)"
   ]
  },
  {
   "cell_type": "code",
   "execution_count": 24,
   "metadata": {},
   "outputs": [
    {
     "output_type": "error",
     "ename": "ValueError",
     "evalue": "Input contains NaN, infinity or a value too large for dtype('float64').",
     "traceback": [
      "\u001b[1;31m---------------------------------------------------------------------------\u001b[0m",
      "\u001b[1;31mValueError\u001b[0m                                Traceback (most recent call last)",
      "\u001b[1;32m<ipython-input-24-a002323288ce>\u001b[0m in \u001b[0;36m<module>\u001b[1;34m\u001b[0m\n\u001b[0;32m      1\u001b[0m \u001b[0mmodel\u001b[0m \u001b[1;33m=\u001b[0m \u001b[0mLogisticRegression\u001b[0m\u001b[1;33m(\u001b[0m\u001b[1;33m)\u001b[0m\u001b[1;33m\u001b[0m\u001b[1;33m\u001b[0m\u001b[0m\n\u001b[1;32m----> 2\u001b[1;33m \u001b[0mmodel\u001b[0m\u001b[1;33m.\u001b[0m\u001b[0mfit\u001b[0m\u001b[1;33m(\u001b[0m\u001b[0mX_train\u001b[0m\u001b[1;33m,\u001b[0m \u001b[0my_train\u001b[0m\u001b[1;33m)\u001b[0m\u001b[1;33m\u001b[0m\u001b[1;33m\u001b[0m\u001b[0m\n\u001b[0m",
      "\u001b[1;32m~\\AppData\\Local\\Programs\\Python\\Python39\\lib\\site-packages\\sklearn\\linear_model\\_logistic.py\u001b[0m in \u001b[0;36mfit\u001b[1;34m(self, X, y, sample_weight)\u001b[0m\n\u001b[0;32m   1342\u001b[0m             \u001b[0m_dtype\u001b[0m \u001b[1;33m=\u001b[0m \u001b[1;33m[\u001b[0m\u001b[0mnp\u001b[0m\u001b[1;33m.\u001b[0m\u001b[0mfloat64\u001b[0m\u001b[1;33m,\u001b[0m \u001b[0mnp\u001b[0m\u001b[1;33m.\u001b[0m\u001b[0mfloat32\u001b[0m\u001b[1;33m]\u001b[0m\u001b[1;33m\u001b[0m\u001b[1;33m\u001b[0m\u001b[0m\n\u001b[0;32m   1343\u001b[0m \u001b[1;33m\u001b[0m\u001b[0m\n\u001b[1;32m-> 1344\u001b[1;33m         X, y = self._validate_data(X, y, accept_sparse='csr', dtype=_dtype,\n\u001b[0m\u001b[0;32m   1345\u001b[0m                                    \u001b[0morder\u001b[0m\u001b[1;33m=\u001b[0m\u001b[1;34m\"C\"\u001b[0m\u001b[1;33m,\u001b[0m\u001b[1;33m\u001b[0m\u001b[1;33m\u001b[0m\u001b[0m\n\u001b[0;32m   1346\u001b[0m                                    accept_large_sparse=solver != 'liblinear')\n",
      "\u001b[1;32m~\\AppData\\Local\\Programs\\Python\\Python39\\lib\\site-packages\\sklearn\\base.py\u001b[0m in \u001b[0;36m_validate_data\u001b[1;34m(self, X, y, reset, validate_separately, **check_params)\u001b[0m\n\u001b[0;32m    431\u001b[0m                 \u001b[0my\u001b[0m \u001b[1;33m=\u001b[0m \u001b[0mcheck_array\u001b[0m\u001b[1;33m(\u001b[0m\u001b[0my\u001b[0m\u001b[1;33m,\u001b[0m \u001b[1;33m**\u001b[0m\u001b[0mcheck_y_params\u001b[0m\u001b[1;33m)\u001b[0m\u001b[1;33m\u001b[0m\u001b[1;33m\u001b[0m\u001b[0m\n\u001b[0;32m    432\u001b[0m             \u001b[1;32melse\u001b[0m\u001b[1;33m:\u001b[0m\u001b[1;33m\u001b[0m\u001b[1;33m\u001b[0m\u001b[0m\n\u001b[1;32m--> 433\u001b[1;33m                 \u001b[0mX\u001b[0m\u001b[1;33m,\u001b[0m \u001b[0my\u001b[0m \u001b[1;33m=\u001b[0m \u001b[0mcheck_X_y\u001b[0m\u001b[1;33m(\u001b[0m\u001b[0mX\u001b[0m\u001b[1;33m,\u001b[0m \u001b[0my\u001b[0m\u001b[1;33m,\u001b[0m \u001b[1;33m**\u001b[0m\u001b[0mcheck_params\u001b[0m\u001b[1;33m)\u001b[0m\u001b[1;33m\u001b[0m\u001b[1;33m\u001b[0m\u001b[0m\n\u001b[0m\u001b[0;32m    434\u001b[0m             \u001b[0mout\u001b[0m \u001b[1;33m=\u001b[0m \u001b[0mX\u001b[0m\u001b[1;33m,\u001b[0m \u001b[0my\u001b[0m\u001b[1;33m\u001b[0m\u001b[1;33m\u001b[0m\u001b[0m\n\u001b[0;32m    435\u001b[0m \u001b[1;33m\u001b[0m\u001b[0m\n",
      "\u001b[1;32m~\\AppData\\Local\\Programs\\Python\\Python39\\lib\\site-packages\\sklearn\\utils\\validation.py\u001b[0m in \u001b[0;36minner_f\u001b[1;34m(*args, **kwargs)\u001b[0m\n\u001b[0;32m     61\u001b[0m             \u001b[0mextra_args\u001b[0m \u001b[1;33m=\u001b[0m \u001b[0mlen\u001b[0m\u001b[1;33m(\u001b[0m\u001b[0margs\u001b[0m\u001b[1;33m)\u001b[0m \u001b[1;33m-\u001b[0m \u001b[0mlen\u001b[0m\u001b[1;33m(\u001b[0m\u001b[0mall_args\u001b[0m\u001b[1;33m)\u001b[0m\u001b[1;33m\u001b[0m\u001b[1;33m\u001b[0m\u001b[0m\n\u001b[0;32m     62\u001b[0m             \u001b[1;32mif\u001b[0m \u001b[0mextra_args\u001b[0m \u001b[1;33m<=\u001b[0m \u001b[1;36m0\u001b[0m\u001b[1;33m:\u001b[0m\u001b[1;33m\u001b[0m\u001b[1;33m\u001b[0m\u001b[0m\n\u001b[1;32m---> 63\u001b[1;33m                 \u001b[1;32mreturn\u001b[0m \u001b[0mf\u001b[0m\u001b[1;33m(\u001b[0m\u001b[1;33m*\u001b[0m\u001b[0margs\u001b[0m\u001b[1;33m,\u001b[0m \u001b[1;33m**\u001b[0m\u001b[0mkwargs\u001b[0m\u001b[1;33m)\u001b[0m\u001b[1;33m\u001b[0m\u001b[1;33m\u001b[0m\u001b[0m\n\u001b[0m\u001b[0;32m     64\u001b[0m \u001b[1;33m\u001b[0m\u001b[0m\n\u001b[0;32m     65\u001b[0m             \u001b[1;31m# extra_args > 0\u001b[0m\u001b[1;33m\u001b[0m\u001b[1;33m\u001b[0m\u001b[1;33m\u001b[0m\u001b[0m\n",
      "\u001b[1;32m~\\AppData\\Local\\Programs\\Python\\Python39\\lib\\site-packages\\sklearn\\utils\\validation.py\u001b[0m in \u001b[0;36mcheck_X_y\u001b[1;34m(X, y, accept_sparse, accept_large_sparse, dtype, order, copy, force_all_finite, ensure_2d, allow_nd, multi_output, ensure_min_samples, ensure_min_features, y_numeric, estimator)\u001b[0m\n\u001b[0;32m    812\u001b[0m         \u001b[1;32mraise\u001b[0m \u001b[0mValueError\u001b[0m\u001b[1;33m(\u001b[0m\u001b[1;34m\"y cannot be None\"\u001b[0m\u001b[1;33m)\u001b[0m\u001b[1;33m\u001b[0m\u001b[1;33m\u001b[0m\u001b[0m\n\u001b[0;32m    813\u001b[0m \u001b[1;33m\u001b[0m\u001b[0m\n\u001b[1;32m--> 814\u001b[1;33m     X = check_array(X, accept_sparse=accept_sparse,\n\u001b[0m\u001b[0;32m    815\u001b[0m                     \u001b[0maccept_large_sparse\u001b[0m\u001b[1;33m=\u001b[0m\u001b[0maccept_large_sparse\u001b[0m\u001b[1;33m,\u001b[0m\u001b[1;33m\u001b[0m\u001b[1;33m\u001b[0m\u001b[0m\n\u001b[0;32m    816\u001b[0m                     \u001b[0mdtype\u001b[0m\u001b[1;33m=\u001b[0m\u001b[0mdtype\u001b[0m\u001b[1;33m,\u001b[0m \u001b[0morder\u001b[0m\u001b[1;33m=\u001b[0m\u001b[0morder\u001b[0m\u001b[1;33m,\u001b[0m \u001b[0mcopy\u001b[0m\u001b[1;33m=\u001b[0m\u001b[0mcopy\u001b[0m\u001b[1;33m,\u001b[0m\u001b[1;33m\u001b[0m\u001b[1;33m\u001b[0m\u001b[0m\n",
      "\u001b[1;32m~\\AppData\\Local\\Programs\\Python\\Python39\\lib\\site-packages\\sklearn\\utils\\validation.py\u001b[0m in \u001b[0;36minner_f\u001b[1;34m(*args, **kwargs)\u001b[0m\n\u001b[0;32m     61\u001b[0m             \u001b[0mextra_args\u001b[0m \u001b[1;33m=\u001b[0m \u001b[0mlen\u001b[0m\u001b[1;33m(\u001b[0m\u001b[0margs\u001b[0m\u001b[1;33m)\u001b[0m \u001b[1;33m-\u001b[0m \u001b[0mlen\u001b[0m\u001b[1;33m(\u001b[0m\u001b[0mall_args\u001b[0m\u001b[1;33m)\u001b[0m\u001b[1;33m\u001b[0m\u001b[1;33m\u001b[0m\u001b[0m\n\u001b[0;32m     62\u001b[0m             \u001b[1;32mif\u001b[0m \u001b[0mextra_args\u001b[0m \u001b[1;33m<=\u001b[0m \u001b[1;36m0\u001b[0m\u001b[1;33m:\u001b[0m\u001b[1;33m\u001b[0m\u001b[1;33m\u001b[0m\u001b[0m\n\u001b[1;32m---> 63\u001b[1;33m                 \u001b[1;32mreturn\u001b[0m \u001b[0mf\u001b[0m\u001b[1;33m(\u001b[0m\u001b[1;33m*\u001b[0m\u001b[0margs\u001b[0m\u001b[1;33m,\u001b[0m \u001b[1;33m**\u001b[0m\u001b[0mkwargs\u001b[0m\u001b[1;33m)\u001b[0m\u001b[1;33m\u001b[0m\u001b[1;33m\u001b[0m\u001b[0m\n\u001b[0m\u001b[0;32m     64\u001b[0m \u001b[1;33m\u001b[0m\u001b[0m\n\u001b[0;32m     65\u001b[0m             \u001b[1;31m# extra_args > 0\u001b[0m\u001b[1;33m\u001b[0m\u001b[1;33m\u001b[0m\u001b[1;33m\u001b[0m\u001b[0m\n",
      "\u001b[1;32m~\\AppData\\Local\\Programs\\Python\\Python39\\lib\\site-packages\\sklearn\\utils\\validation.py\u001b[0m in \u001b[0;36mcheck_array\u001b[1;34m(array, accept_sparse, accept_large_sparse, dtype, order, copy, force_all_finite, ensure_2d, allow_nd, ensure_min_samples, ensure_min_features, estimator)\u001b[0m\n\u001b[0;32m    661\u001b[0m \u001b[1;33m\u001b[0m\u001b[0m\n\u001b[0;32m    662\u001b[0m         \u001b[1;32mif\u001b[0m \u001b[0mforce_all_finite\u001b[0m\u001b[1;33m:\u001b[0m\u001b[1;33m\u001b[0m\u001b[1;33m\u001b[0m\u001b[0m\n\u001b[1;32m--> 663\u001b[1;33m             _assert_all_finite(array,\n\u001b[0m\u001b[0;32m    664\u001b[0m                                allow_nan=force_all_finite == 'allow-nan')\n\u001b[0;32m    665\u001b[0m \u001b[1;33m\u001b[0m\u001b[0m\n",
      "\u001b[1;32m~\\AppData\\Local\\Programs\\Python\\Python39\\lib\\site-packages\\sklearn\\utils\\validation.py\u001b[0m in \u001b[0;36m_assert_all_finite\u001b[1;34m(X, allow_nan, msg_dtype)\u001b[0m\n\u001b[0;32m    101\u001b[0m                 not allow_nan and not np.isfinite(X).all()):\n\u001b[0;32m    102\u001b[0m             \u001b[0mtype_err\u001b[0m \u001b[1;33m=\u001b[0m \u001b[1;34m'infinity'\u001b[0m \u001b[1;32mif\u001b[0m \u001b[0mallow_nan\u001b[0m \u001b[1;32melse\u001b[0m \u001b[1;34m'NaN, infinity'\u001b[0m\u001b[1;33m\u001b[0m\u001b[1;33m\u001b[0m\u001b[0m\n\u001b[1;32m--> 103\u001b[1;33m             raise ValueError(\n\u001b[0m\u001b[0;32m    104\u001b[0m                     \u001b[0mmsg_err\u001b[0m\u001b[1;33m.\u001b[0m\u001b[0mformat\u001b[0m\u001b[1;33m\u001b[0m\u001b[1;33m\u001b[0m\u001b[0m\n\u001b[0;32m    105\u001b[0m                     (type_err,\n",
      "\u001b[1;31mValueError\u001b[0m: Input contains NaN, infinity or a value too large for dtype('float64')."
     ]
    }
   ],
   "source": [
    "model = LogisticRegression()\n",
    "model.fit(X_train, y_train)"
   ]
  },
  {
   "cell_type": "code",
   "execution_count": null,
   "metadata": {},
   "outputs": [],
   "source": []
  }
 ]
}